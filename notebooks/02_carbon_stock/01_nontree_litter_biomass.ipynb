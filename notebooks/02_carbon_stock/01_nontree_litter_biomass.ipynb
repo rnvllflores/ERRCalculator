{
 "cells": [
  {
   "cell_type": "markdown",
   "metadata": {},
   "source": [
    "# Calculate Biomass from Non-tree Vegetation and Litter"
   ]
  },
  {
   "cell_type": "markdown",
   "metadata": {},
   "source": [
    "# Imports and Set-up"
   ]
  },
  {
   "cell_type": "code",
   "execution_count": 1,
   "metadata": {},
   "outputs": [],
   "source": [
    "# Standard Imports\n",
    "import sys\n",
    "import os\n",
    "import pandas as pd\n",
    "import numpy as np\n",
    "\n",
    "# Google Cloud Imports\n",
    "import pandas_gbq"
   ]
  },
  {
   "cell_type": "code",
   "execution_count": 2,
   "metadata": {},
   "outputs": [],
   "source": [
    "# Util imports\n",
    "sys.path.append(\"../../\")  # include parent directory\n",
    "from src.settings import DATA_DIR, GCP_PROJ_ID, CARBON_POOLS_OUTDIR, CARBON_STOCK_OUTDIR\n",
    "\n",
    "from src.biomass_equations import vmd0003_eq1"
   ]
  },
  {
   "cell_type": "code",
   "execution_count": 3,
   "metadata": {},
   "outputs": [],
   "source": [
    "# Variables\n",
    "NTV_LITTER_CSV = CARBON_POOLS_OUTDIR / \"saplings_ntv_litter.csv\"\n",
    "PLOT_INFO_CSV = CARBON_POOLS_OUTDIR / \"plot_info.csv\"\n",
    "\n",
    "# BigQuery Variables\n",
    "DATASET_ID = \"carbon_stock\"\n",
    "IF_EXISTS = \"replace\""
   ]
  },
  {
   "cell_type": "markdown",
   "metadata": {},
   "source": [
    "## Load data"
   ]
  },
  {
   "cell_type": "code",
   "execution_count": 4,
   "metadata": {},
   "outputs": [],
   "source": [
    "if PLOT_INFO_CSV.exists():\n",
    "    plot_info = pd.read_csv(PLOT_INFO_CSV)\n",
    "else:\n",
    "    query = f\"\"\"\n",
    "    SELECT\n",
    "        * \n",
    "    FROM {GCP_PROJ_ID}.{DATASET_ID}.plot_info\"\"\"\n",
    "\n",
    "    # Read the BigQuery table into a dataframe\n",
    "    plot_info = pandas_gbq.read_gbq(query, project_id=GCP_PROJ_ID)\n",
    "    plot_info.to_csv(PLOT_INFO_CSV, index=False)"
   ]
  },
  {
   "cell_type": "code",
   "execution_count": 5,
   "metadata": {},
   "outputs": [
    {
     "name": "stdout",
     "output_type": "stream",
     "text": [
      "<class 'pandas.core.frame.DataFrame'>\n",
      "RangeIndex: 674 entries, 0 to 673\n",
      "Data columns (total 29 columns):\n",
      " #   Column                  Non-Null Count  Dtype  \n",
      "---  ------                  --------------  -----  \n",
      " 0   unique_id               674 non-null    object \n",
      " 1   data_recorder           674 non-null    object \n",
      " 2   team_no                 674 non-null    int64  \n",
      " 3   plot_code_nmbr          674 non-null    int64  \n",
      " 4   plot_type               674 non-null    object \n",
      " 5   sub_plot                674 non-null    object \n",
      " 6   yes_no                  674 non-null    object \n",
      " 7   sub_plot_shift          634 non-null    object \n",
      " 8   GPS_waypt               634 non-null    float64\n",
      " 9   GPS_id                  634 non-null    float64\n",
      " 10  GPS                     577 non-null    object \n",
      " 11  GPS_latitude            577 non-null    float64\n",
      " 12  GPS_longitude           577 non-null    float64\n",
      " 13  GPS_altitude            577 non-null    float64\n",
      " 14  GPS_precision           577 non-null    float64\n",
      " 15  photo                   634 non-null    object \n",
      " 16  manual_reason           40 non-null     object \n",
      " 17  lc_type                 634 non-null    object \n",
      " 18  lc_class                620 non-null    object \n",
      " 19  lc_class_other          12 non-null     object \n",
      " 20  disturbance_yesno       478 non-null    object \n",
      " 21  disturbance_type        148 non-null    object \n",
      " 22  disturbance_class       148 non-null    object \n",
      " 23  slope                   620 non-null    float64\n",
      " 24  canopy_avg_height       620 non-null    float64\n",
      " 25  canopy_cover            620 non-null    float64\n",
      " 26  access_reason           40 non-null     object \n",
      " 27  slope_radians           620 non-null    float64\n",
      " 28  corrected_plot_area_m2  620 non-null    float64\n",
      "dtypes: float64(11), int64(2), object(16)\n",
      "memory usage: 152.8+ KB\n"
     ]
    }
   ],
   "source": [
    "plot_info.info()"
   ]
  },
  {
   "cell_type": "code",
   "execution_count": 6,
   "metadata": {},
   "outputs": [],
   "source": [
    "if NTV_LITTER_CSV.exists():\n",
    "    ntv_litter = pd.read_csv(NTV_LITTER_CSV)\n",
    "else:\n",
    "    query = f\"\"\"\n",
    "    SELECT \n",
    "        * \n",
    "    FROM {GCP_PROJ_ID}.{DATASET_ID}.saplings_ntv_litter\"\"\"\n",
    "\n",
    "    # Read the BigQuery table into a dataframe\n",
    "    ntv_litter = pandas_gbq.read_gbq(query, project_id=GCP_PROJ_ID)\n",
    "    ntv_litter.to_csv(PLOT_INFO_CSV, index=False)"
   ]
  },
  {
   "cell_type": "code",
   "execution_count": 7,
   "metadata": {},
   "outputs": [
    {
     "name": "stdout",
     "output_type": "stream",
     "text": [
      "<class 'pandas.core.frame.DataFrame'>\n",
      "RangeIndex: 674 entries, 0 to 673\n",
      "Data columns (total 6 columns):\n",
      " #   Column                Non-Null Count  Dtype  \n",
      "---  ------                --------------  -----  \n",
      " 0   unique_id             674 non-null    object \n",
      " 1   count_saplings        589 non-null    float64\n",
      " 2   litter_bag_weight     620 non-null    float64\n",
      " 3   litter_sample_weight  620 non-null    float64\n",
      " 4   ntv_bag_weight        620 non-null    float64\n",
      " 5   ntv_sample_weight     620 non-null    float64\n",
      "dtypes: float64(5), object(1)\n",
      "memory usage: 31.7+ KB\n"
     ]
    }
   ],
   "source": [
    "ntv_litter.info()"
   ]
  },
  {
   "cell_type": "markdown",
   "metadata": {},
   "source": [
    "# Calculate carbon stock for litter"
   ]
  },
  {
   "cell_type": "code",
   "execution_count": 8,
   "metadata": {},
   "outputs": [],
   "source": [
    "# get weight of bag contents\n",
    "ntv_litter[\"litter_biomass_kg\"] = (\n",
    "    ntv_litter.ntv_sample_weight - ntv_litter.ntv_bag_weight\n",
    ") / 1000"
   ]
  },
  {
   "cell_type": "code",
   "execution_count": 9,
   "metadata": {},
   "outputs": [],
   "source": [
    "litter = ntv_litter[[\"unique_id\", \"litter_biomass_kg\"]].copy()\n",
    "litter = vmd0003_eq1(litter, \"litter_biomass_kg\", 0.15, 0.37)"
   ]
  },
  {
   "cell_type": "code",
   "execution_count": null,
   "metadata": {},
   "outputs": [],
   "source": [
    "litter.rename(\n",
    "    columns={\n",
    "        \"carbon_stock\": \"litter_carbon_stock\",\n",
    "        \"dry_biomass\": \"litter_dry_biomass\",\n",
    "    },\n",
    "    inplace=True,\n",
    ")"
   ]
  },
  {
   "cell_type": "code",
   "execution_count": 24,
   "metadata": {},
   "outputs": [
    {
     "name": "stdout",
     "output_type": "stream",
     "text": [
      "<class 'pandas.core.frame.DataFrame'>\n",
      "RangeIndex: 674 entries, 0 to 673\n",
      "Data columns (total 4 columns):\n",
      " #   Column               Non-Null Count  Dtype  \n",
      "---  ------               --------------  -----  \n",
      " 0   unique_id            674 non-null    object \n",
      " 1   litter_biomass_kg    620 non-null    float64\n",
      " 2   litter_dry_biomass   620 non-null    float64\n",
      " 3   litter_carbon_stock  620 non-null    float64\n",
      "dtypes: float64(3), object(1)\n",
      "memory usage: 21.2+ KB\n"
     ]
    },
    {
     "data": {
      "text/plain": [
       "(None,\n",
       "   unique_id  litter_biomass_kg  litter_dry_biomass  litter_carbon_stock\n",
       " 0     308D2               0.80               0.120               6.5120\n",
       " 1     308A2               0.06               0.009               0.4884)"
      ]
     },
     "execution_count": 24,
     "metadata": {},
     "output_type": "execute_result"
    }
   ],
   "source": [
    "litter.info(), litter.head(2)"
   ]
  },
  {
   "cell_type": "markdown",
   "metadata": {},
   "source": [
    "## Export data and upload to BQ"
   ]
  },
  {
   "cell_type": "code",
   "execution_count": 25,
   "metadata": {},
   "outputs": [],
   "source": [
    "if len(litter) != 0:\n",
    "    litter.to_csv(CARBON_STOCK_OUTDIR / \"litter_carbon_stock.csv\", index=False)"
   ]
  },
  {
   "cell_type": "code",
   "execution_count": 31,
   "metadata": {},
   "outputs": [
    {
     "name": "stderr",
     "output_type": "stream",
     "text": [
      "100%|██████████| 1/1 [00:00<00:00, 8943.08it/s]\n"
     ]
    }
   ],
   "source": [
    "# Upload to BQ\n",
    "table_schema = [\n",
    "    {\"name\": \"unique_id\", \"type\": \"STRING\"},\n",
    "    {\"name\": \"litter_biomass_kg\", \"type\": \"FLOAT64\"},\n",
    "    {\"name\": \"litter_dry_biomass\", \"type\": \"FLOAT64\"},\n",
    "    {\"name\": \"litter_carbon_stock\", \"type\": \"FLOAT64\"},\n",
    "]\n",
    "if len(litter) != 0:\n",
    "    pandas_gbq.to_gbq(\n",
    "        litter,\n",
    "        f\"{DATASET_ID}.litter_carbon_stock\",\n",
    "        project_id=GCP_PROJ_ID,\n",
    "        if_exists=IF_EXISTS,\n",
    "        table_schema=table_schema,\n",
    "    )"
   ]
  },
  {
   "cell_type": "markdown",
   "metadata": {},
   "source": [
    "# Calculate carbon stock for non-tree vegetation"
   ]
  },
  {
   "cell_type": "code",
   "execution_count": 14,
   "metadata": {},
   "outputs": [],
   "source": [
    "ntv_litter[\"ntv_biomass_kg\"] = (\n",
    "    ntv_litter.ntv_sample_weight - ntv_litter.litter_bag_weight\n",
    ") / 1000"
   ]
  },
  {
   "cell_type": "code",
   "execution_count": 15,
   "metadata": {},
   "outputs": [],
   "source": [
    "ntv = ntv_litter[[\"unique_id\", \"ntv_biomass_kg\"]].copy()\n",
    "ntv = vmd0003_eq1(ntv, \"ntv_biomass_kg\", 0.15, 0.37)"
   ]
  },
  {
   "cell_type": "code",
   "execution_count": 16,
   "metadata": {},
   "outputs": [
    {
     "name": "stdout",
     "output_type": "stream",
     "text": [
      "<class 'pandas.core.frame.DataFrame'>\n",
      "RangeIndex: 674 entries, 0 to 673\n",
      "Data columns (total 4 columns):\n",
      " #   Column          Non-Null Count  Dtype  \n",
      "---  ------          --------------  -----  \n",
      " 0   unique_id       674 non-null    object \n",
      " 1   ntv_biomass_kg  620 non-null    float64\n",
      " 2   dry_biomass     620 non-null    float64\n",
      " 3   carbon_stock    620 non-null    float64\n",
      "dtypes: float64(3), object(1)\n",
      "memory usage: 21.2+ KB\n"
     ]
    },
    {
     "data": {
      "text/plain": [
       "(None,\n",
       "   unique_id  ntv_biomass_kg  dry_biomass  carbon_stock\n",
       " 0     308D2            0.80        0.120        6.5120\n",
       " 1     308A2            0.06        0.009        0.4884)"
      ]
     },
     "execution_count": 16,
     "metadata": {},
     "output_type": "execute_result"
    }
   ],
   "source": [
    "ntv.info(), ntv.head(2)"
   ]
  },
  {
   "cell_type": "code",
   "execution_count": 17,
   "metadata": {},
   "outputs": [],
   "source": [
    "ntv.rename(columns={\"carbon_stock\": \"ntv_carbon_stock\"}, inplace=True)"
   ]
  },
  {
   "cell_type": "code",
   "execution_count": 18,
   "metadata": {},
   "outputs": [],
   "source": [
    "ntv.to_csv(CARBON_STOCK_OUTDIR / \"ntv_carbon_stock.csv\", index=False)"
   ]
  },
  {
   "cell_type": "code",
   "execution_count": 19,
   "metadata": {},
   "outputs": [
    {
     "name": "stderr",
     "output_type": "stream",
     "text": [
      "100%|██████████| 1/1 [00:00<00:00, 9425.40it/s]\n"
     ]
    }
   ],
   "source": [
    "# Upload to BQ\n",
    "if len(ntv) != 0:\n",
    "    pandas_gbq.to_gbq(\n",
    "        ntv,\n",
    "        f\"{DATASET_ID}.ntv_carbon_stock\",\n",
    "        project_id=GCP_PROJ_ID,\n",
    "        if_exists=IF_EXISTS,\n",
    "    )"
   ]
  }
 ],
 "metadata": {
  "kernelspec": {
   "display_name": "onebase",
   "language": "python",
   "name": "python3"
  },
  "language_info": {
   "codemirror_mode": {
    "name": "ipython",
    "version": 3
   },
   "file_extension": ".py",
   "mimetype": "text/x-python",
   "name": "python",
   "nbconvert_exporter": "python",
   "pygments_lexer": "ipython3",
   "version": "3.12.4"
  }
 },
 "nbformat": 4,
 "nbformat_minor": 2
}
