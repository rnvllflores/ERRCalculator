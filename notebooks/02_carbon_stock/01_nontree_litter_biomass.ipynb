{
 "cells": [
  {
   "cell_type": "markdown",
   "metadata": {},
   "source": [
    "# Calculate Biomass from Non-tree Vegetation and Litter"
   ]
  },
  {
   "cell_type": "markdown",
   "metadata": {},
   "source": [
    "# Imports and Set-up"
   ]
  },
  {
   "cell_type": "code",
   "execution_count": 1,
   "metadata": {},
   "outputs": [],
   "source": [
    "# Standard Imports\n",
    "import sys\n",
    "import pandas as pd\n",
    "\n",
    "# Google Cloud Imports\n",
    "import pandas_gbq"
   ]
  },
  {
   "cell_type": "code",
   "execution_count": 2,
   "metadata": {},
   "outputs": [],
   "source": [
    "# Util imports\n",
    "sys.path.append(\"../../\")  # include parent directory\n",
    "from src.settings import GCP_PROJ_ID, CARBON_POOLS_OUTDIR, CARBON_STOCK_OUTDIR\n",
    "\n",
    "from src.biomass_equations import vmd0003_eq1"
   ]
  },
  {
   "cell_type": "code",
   "execution_count": 3,
   "metadata": {},
   "outputs": [],
   "source": [
    "# Variables\n",
    "NTV_LITTER_CSV = CARBON_POOLS_OUTDIR / \"saplings_ntv_litter.csv\"\n",
    "PLOT_INFO_CSV = CARBON_POOLS_OUTDIR / \"plot_info.csv\"\n",
    "\n",
    "# BigQuery Variables\n",
    "SRC_DATASET_ID = \"biomass_inventory\"\n",
    "DATASET_ID = \"carbon_stock\"\n",
    "IF_EXISTS = \"replace\""
   ]
  },
  {
   "cell_type": "markdown",
   "metadata": {},
   "source": [
    "## Load data"
   ]
  },
  {
   "cell_type": "code",
   "execution_count": 4,
   "metadata": {},
   "outputs": [],
   "source": [
    "if PLOT_INFO_CSV.exists():\n",
    "    plot_info = pd.read_csv(PLOT_INFO_CSV)\n",
    "else:\n",
    "    query = f\"\"\"\n",
    "    SELECT\n",
    "        * \n",
    "    FROM {GCP_PROJ_ID}.{SRC_DATASET_ID}.plot_info\"\"\"\n",
    "\n",
    "    # Read the BigQuery table into a dataframe\n",
    "    plot_info = pandas_gbq.read_gbq(query, project_id=GCP_PROJ_ID)\n",
    "    plot_info.to_csv(PLOT_INFO_CSV, index=False)"
   ]
  },
  {
   "cell_type": "code",
   "execution_count": 5,
   "metadata": {},
   "outputs": [
    {
     "name": "stdout",
     "output_type": "stream",
     "text": [
      "<class 'pandas.core.frame.DataFrame'>\n",
      "RangeIndex: 671 entries, 0 to 670\n",
      "Data columns (total 31 columns):\n",
      " #   Column                     Non-Null Count  Dtype  \n",
      "---  ------                     --------------  -----  \n",
      " 0   unique_id                  671 non-null    object \n",
      " 1   data_recorder              671 non-null    object \n",
      " 2   team_no                    671 non-null    int64  \n",
      " 3   plot_code_nmbr             671 non-null    int64  \n",
      " 4   plot_type                  671 non-null    object \n",
      " 5   sub_plot                   671 non-null    object \n",
      " 6   yes_no                     671 non-null    object \n",
      " 7   sub_plot_shift             633 non-null    object \n",
      " 8   GPS_waypt                  633 non-null    float64\n",
      " 9   GPS_id                     633 non-null    float64\n",
      " 10  GPS                        576 non-null    object \n",
      " 11  GPS_latitude               576 non-null    float64\n",
      " 12  GPS_longitude              576 non-null    float64\n",
      " 13  GPS_altitude               576 non-null    float64\n",
      " 14  GPS_precision              576 non-null    float64\n",
      " 15  photo                      633 non-null    object \n",
      " 16  manual_reason              38 non-null     object \n",
      " 17  lc_type                    633 non-null    object \n",
      " 18  lc_class                   619 non-null    object \n",
      " 19  lc_class_other             12 non-null     object \n",
      " 20  disturbance_yesno          477 non-null    object \n",
      " 21  disturbance_type           148 non-null    object \n",
      " 22  disturbance_class          148 non-null    object \n",
      " 23  slope                      619 non-null    float64\n",
      " 24  canopy_avg_height          619 non-null    float64\n",
      " 25  canopy_cover               619 non-null    float64\n",
      " 26  access_reason              38 non-null     object \n",
      " 27  slope_radians              619 non-null    float64\n",
      " 28  corrected_plot_area_n2_m2  619 non-null    float64\n",
      " 29  corrected_plot_area_n3_m2  619 non-null    float64\n",
      " 30  corrected_plot_area_n4_m2  619 non-null    float64\n",
      "dtypes: float64(13), int64(2), object(16)\n",
      "memory usage: 162.6+ KB\n"
     ]
    }
   ],
   "source": [
    "plot_info.info()"
   ]
  },
  {
   "cell_type": "code",
   "execution_count": 6,
   "metadata": {},
   "outputs": [],
   "source": [
    "if NTV_LITTER_CSV.exists():\n",
    "    ntv_litter = pd.read_csv(NTV_LITTER_CSV)\n",
    "else:\n",
    "    query = f\"\"\"\n",
    "    SELECT \n",
    "        * \n",
    "    FROM {GCP_PROJ_ID}.{SRC_DATASET_ID}.saplings_ntv_litter\"\"\"\n",
    "\n",
    "    # Read the BigQuery table into a dataframe\n",
    "    ntv_litter = pandas_gbq.read_gbq(query, project_id=GCP_PROJ_ID)\n",
    "    ntv_litter.to_csv(PLOT_INFO_CSV, index=False)"
   ]
  },
  {
   "cell_type": "code",
   "execution_count": 7,
   "metadata": {},
   "outputs": [
    {
     "name": "stdout",
     "output_type": "stream",
     "text": [
      "<class 'pandas.core.frame.DataFrame'>\n",
      "RangeIndex: 674 entries, 0 to 673\n",
      "Data columns (total 6 columns):\n",
      " #   Column                Non-Null Count  Dtype  \n",
      "---  ------                --------------  -----  \n",
      " 0   unique_id             674 non-null    object \n",
      " 1   count_saplings        589 non-null    float64\n",
      " 2   litter_bag_weight     620 non-null    float64\n",
      " 3   litter_sample_weight  620 non-null    float64\n",
      " 4   ntv_bag_weight        620 non-null    float64\n",
      " 5   ntv_sample_weight     620 non-null    float64\n",
      "dtypes: float64(5), object(1)\n",
      "memory usage: 31.7+ KB\n"
     ]
    }
   ],
   "source": [
    "ntv_litter.info()"
   ]
  },
  {
   "cell_type": "markdown",
   "metadata": {},
   "source": [
    "# Calculate carbon stock for litter"
   ]
  },
  {
   "cell_type": "code",
   "execution_count": 8,
   "metadata": {},
   "outputs": [],
   "source": [
    "# get weight of bag contents - convert grams to kg\n",
    "ntv_litter[\"litter_biomass_kg\"] = (\n",
    "    ntv_litter.ntv_sample_weight - ntv_litter.ntv_bag_weight\n",
    ") / 1000"
   ]
  },
  {
   "cell_type": "code",
   "execution_count": 9,
   "metadata": {},
   "outputs": [],
   "source": [
    "litter = ntv_litter[[\"unique_id\", \"litter_biomass_kg\"]].copy()"
   ]
  },
  {
   "cell_type": "code",
   "execution_count": 17,
   "metadata": {},
   "outputs": [],
   "source": [
    "litter = vmd0003_eq1(litter, \"litter_biomass_kg\", 0.15, 0.37)"
   ]
  },
  {
   "cell_type": "code",
   "execution_count": 18,
   "metadata": {},
   "outputs": [],
   "source": [
    "litter.rename(\n",
    "    columns={\n",
    "        \"CO2e_per_ha\": \"litter_CO2e_per_ha\",\n",
    "        \"kg_dry_matter\": \"litter_kg_dry_matter\",\n",
    "    },\n",
    "    inplace=True,\n",
    ")"
   ]
  },
  {
   "cell_type": "code",
   "execution_count": 28,
   "metadata": {},
   "outputs": [
    {
     "data": {
      "text/html": [
       "<div>\n",
       "<style scoped>\n",
       "    .dataframe tbody tr th:only-of-type {\n",
       "        vertical-align: middle;\n",
       "    }\n",
       "\n",
       "    .dataframe tbody tr th {\n",
       "        vertical-align: top;\n",
       "    }\n",
       "\n",
       "    .dataframe thead th {\n",
       "        text-align: right;\n",
       "    }\n",
       "</style>\n",
       "<table border=\"1\" class=\"dataframe\">\n",
       "  <thead>\n",
       "    <tr style=\"text-align: right;\">\n",
       "      <th></th>\n",
       "      <th>unique_id</th>\n",
       "      <th>litter_biomass_kg</th>\n",
       "      <th>litter_kg_dry_matter</th>\n",
       "      <th>litter_CO2e_per_ha</th>\n",
       "    </tr>\n",
       "  </thead>\n",
       "  <tbody>\n",
       "    <tr>\n",
       "      <th>0</th>\n",
       "      <td>308D1</td>\n",
       "      <td>0.80</td>\n",
       "      <td>0.120</td>\n",
       "      <td>6.5120</td>\n",
       "    </tr>\n",
       "    <tr>\n",
       "      <th>1</th>\n",
       "      <td>308A1</td>\n",
       "      <td>0.06</td>\n",
       "      <td>0.009</td>\n",
       "      <td>0.4884</td>\n",
       "    </tr>\n",
       "  </tbody>\n",
       "</table>\n",
       "</div>"
      ],
      "text/plain": [
       "  unique_id  litter_biomass_kg  litter_kg_dry_matter  litter_CO2e_per_ha\n",
       "0     308D1               0.80                 0.120              6.5120\n",
       "1     308A1               0.06                 0.009              0.4884"
      ]
     },
     "execution_count": 28,
     "metadata": {},
     "output_type": "execute_result"
    }
   ],
   "source": [
    "litter.head(2)"
   ]
  },
  {
   "cell_type": "code",
   "execution_count": 30,
   "metadata": {},
   "outputs": [
    {
     "name": "stdout",
     "output_type": "stream",
     "text": [
      "<class 'pandas.core.frame.DataFrame'>\n",
      "RangeIndex: 674 entries, 0 to 673\n",
      "Data columns (total 4 columns):\n",
      " #   Column                Non-Null Count  Dtype  \n",
      "---  ------                --------------  -----  \n",
      " 0   unique_id             674 non-null    object \n",
      " 1   litter_biomass_kg     620 non-null    float64\n",
      " 2   litter_kg_dry_matter  620 non-null    float64\n",
      " 3   litter_CO2e_per_ha    620 non-null    float64\n",
      "dtypes: float64(3), object(1)\n",
      "memory usage: 21.2+ KB\n"
     ]
    }
   ],
   "source": [
    "litter.info()"
   ]
  },
  {
   "cell_type": "markdown",
   "metadata": {},
   "source": [
    "## Export data and upload to BQ"
   ]
  },
  {
   "cell_type": "code",
   "execution_count": 20,
   "metadata": {},
   "outputs": [],
   "source": [
    "if len(litter) != 0:\n",
    "    litter.to_csv(CARBON_STOCK_OUTDIR / \"litter_carbon_stock.csv\", index=False)"
   ]
  },
  {
   "cell_type": "code",
   "execution_count": 21,
   "metadata": {},
   "outputs": [
    {
     "name": "stderr",
     "output_type": "stream",
     "text": [
      "100%|██████████| 1/1 [00:00<00:00, 16644.06it/s]\n"
     ]
    }
   ],
   "source": [
    "# Upload to BQ\n",
    "table_schema = [\n",
    "    {\"name\": \"unique_id\", \"type\": \"STRING\"},\n",
    "    {\"name\": \"litter_biomass_kg\", \"type\": \"FLOAT64\"},\n",
    "    {\"name\": \"litter_kg_dry_matter\", \"type\": \"FLOAT64\"},\n",
    "    {\"name\": \"litter_CO2e_per_ha\", \"type\": \"FLOAT64\"},\n",
    "]\n",
    "if len(litter) != 0:\n",
    "    pandas_gbq.to_gbq(\n",
    "        litter,\n",
    "        f\"{DATASET_ID}.litter_carbon_stock\",\n",
    "        project_id=GCP_PROJ_ID,\n",
    "        if_exists=IF_EXISTS,\n",
    "        table_schema=table_schema,\n",
    "    )"
   ]
  },
  {
   "cell_type": "markdown",
   "metadata": {},
   "source": [
    "# Calculate carbon stock for non-tree vegetation"
   ]
  },
  {
   "cell_type": "code",
   "execution_count": 22,
   "metadata": {},
   "outputs": [],
   "source": [
    "# get weight of bag contents - convert grams to kg\n",
    "ntv_litter[\"ntv_biomass_kg\"] = (\n",
    "    ntv_litter.ntv_sample_weight - ntv_litter.litter_bag_weight\n",
    ") / 1000"
   ]
  },
  {
   "cell_type": "code",
   "execution_count": 23,
   "metadata": {},
   "outputs": [],
   "source": [
    "ntv = ntv_litter[[\"unique_id\", \"ntv_biomass_kg\"]].copy()\n",
    "ntv = vmd0003_eq1(ntv, \"ntv_biomass_kg\", 0.15, 0.47)"
   ]
  },
  {
   "cell_type": "code",
   "execution_count": 24,
   "metadata": {},
   "outputs": [],
   "source": [
    "ntv.rename(\n",
    "    columns={\n",
    "        \"CO2e_per_ha\": \"ntv_CO2e_per_ha\",\n",
    "        \"kg_dry_matter\": \"ntv_kg_dry_matter\",\n",
    "    },\n",
    "    inplace=True,\n",
    ")"
   ]
  },
  {
   "cell_type": "code",
   "execution_count": 29,
   "metadata": {},
   "outputs": [
    {
     "data": {
      "text/html": [
       "<div>\n",
       "<style scoped>\n",
       "    .dataframe tbody tr th:only-of-type {\n",
       "        vertical-align: middle;\n",
       "    }\n",
       "\n",
       "    .dataframe tbody tr th {\n",
       "        vertical-align: top;\n",
       "    }\n",
       "\n",
       "    .dataframe thead th {\n",
       "        text-align: right;\n",
       "    }\n",
       "</style>\n",
       "<table border=\"1\" class=\"dataframe\">\n",
       "  <thead>\n",
       "    <tr style=\"text-align: right;\">\n",
       "      <th></th>\n",
       "      <th>unique_id</th>\n",
       "      <th>ntv_biomass_kg</th>\n",
       "      <th>ntv_kg_dry_matter</th>\n",
       "      <th>ntv_CO2e_per_ha</th>\n",
       "    </tr>\n",
       "  </thead>\n",
       "  <tbody>\n",
       "    <tr>\n",
       "      <th>0</th>\n",
       "      <td>308D1</td>\n",
       "      <td>0.80</td>\n",
       "      <td>0.120</td>\n",
       "      <td>8.2720</td>\n",
       "    </tr>\n",
       "    <tr>\n",
       "      <th>1</th>\n",
       "      <td>308A1</td>\n",
       "      <td>0.06</td>\n",
       "      <td>0.009</td>\n",
       "      <td>0.6204</td>\n",
       "    </tr>\n",
       "  </tbody>\n",
       "</table>\n",
       "</div>"
      ],
      "text/plain": [
       "  unique_id  ntv_biomass_kg  ntv_kg_dry_matter  ntv_CO2e_per_ha\n",
       "0     308D1            0.80              0.120           8.2720\n",
       "1     308A1            0.06              0.009           0.6204"
      ]
     },
     "execution_count": 29,
     "metadata": {},
     "output_type": "execute_result"
    }
   ],
   "source": [
    "ntv.head(2)"
   ]
  },
  {
   "cell_type": "code",
   "execution_count": 25,
   "metadata": {},
   "outputs": [
    {
     "name": "stdout",
     "output_type": "stream",
     "text": [
      "<class 'pandas.core.frame.DataFrame'>\n",
      "RangeIndex: 674 entries, 0 to 673\n",
      "Data columns (total 4 columns):\n",
      " #   Column             Non-Null Count  Dtype  \n",
      "---  ------             --------------  -----  \n",
      " 0   unique_id          674 non-null    object \n",
      " 1   ntv_biomass_kg     620 non-null    float64\n",
      " 2   ntv_kg_dry_matter  620 non-null    float64\n",
      " 3   ntv_CO2e_per_ha    620 non-null    float64\n",
      "dtypes: float64(3), object(1)\n",
      "memory usage: 21.2+ KB\n"
     ]
    },
    {
     "data": {
      "text/plain": [
       "(None,\n",
       "   unique_id  ntv_biomass_kg  ntv_kg_dry_matter  ntv_CO2e_per_ha\n",
       " 0     308D1            0.80              0.120           8.2720\n",
       " 1     308A1            0.06              0.009           0.6204)"
      ]
     },
     "execution_count": 25,
     "metadata": {},
     "output_type": "execute_result"
    }
   ],
   "source": [
    "ntv.info()"
   ]
  },
  {
   "cell_type": "code",
   "execution_count": 26,
   "metadata": {},
   "outputs": [],
   "source": [
    "ntv.to_csv(CARBON_STOCK_OUTDIR / \"ntv_carbon_stock.csv\", index=False)"
   ]
  },
  {
   "cell_type": "code",
   "execution_count": 27,
   "metadata": {},
   "outputs": [
    {
     "name": "stderr",
     "output_type": "stream",
     "text": [
      "100%|██████████| 1/1 [00:00<00:00, 29330.80it/s]\n"
     ]
    }
   ],
   "source": [
    "# Upload to BQ\n",
    "if len(ntv) != 0:\n",
    "    pandas_gbq.to_gbq(\n",
    "        ntv,\n",
    "        f\"{DATASET_ID}.ntv_carbon_stock\",\n",
    "        project_id=GCP_PROJ_ID,\n",
    "        if_exists=IF_EXISTS,\n",
    "    )"
   ]
  }
 ],
 "metadata": {
  "kernelspec": {
   "display_name": "onebase",
   "language": "python",
   "name": "python3"
  },
  "language_info": {
   "codemirror_mode": {
    "name": "ipython",
    "version": 3
   },
   "file_extension": ".py",
   "mimetype": "text/x-python",
   "name": "python",
   "nbconvert_exporter": "python",
   "pygments_lexer": "ipython3",
   "version": "3.12.4"
  }
 },
 "nbformat": 4,
 "nbformat_minor": 2
}
