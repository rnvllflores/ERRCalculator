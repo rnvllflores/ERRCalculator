{
 "cells": [
  {
   "cell_type": "markdown",
   "metadata": {},
   "source": [
    "# Calculate biomass from Living trees and saplings"
   ]
  },
  {
   "cell_type": "markdown",
   "metadata": {},
   "source": [
    "# Imports and Set-up"
   ]
  },
  {
   "cell_type": "code",
   "execution_count": 2,
   "metadata": {},
   "outputs": [],
   "source": [
    "# Standard Imports\n",
    "import sys\n",
    "import os\n",
    "import pandas as pd\n",
    "import numpy as np\n",
    "\n",
    "# Google Cloud Imports\n",
    "import pandas_gbq"
   ]
  },
  {
   "cell_type": "code",
   "execution_count": 3,
   "metadata": {},
   "outputs": [],
   "source": [
    "# Util imports\n",
    "sys.path.append(\"../../\")  # include parent directory\n",
    "from src.settings import (\n",
    "    DATA_DIR,\n",
    "    GCP_PROJ_ID,\n",
    "    CARBON_POOLS_OUTDIR,\n",
    "    CARBON_STOCK_OUTDIR,\n",
    "    SPECIES_LOOKUP_CSV,\n",
    "    PC_PLOT_LOOKUP_CSV,\n",
    ")\n",
    "\n",
    "from src.biomass_equations import calculate_tree_height"
   ]
  },
  {
   "cell_type": "code",
   "execution_count": 4,
   "metadata": {},
   "outputs": [],
   "source": [
    "# Variables\n",
    "TREES_CSV = CARBON_POOLS_OUTDIR / \"trees.csv\"\n",
    "TREES_WD_CSV = CARBON_POOLS_OUTDIR / \"trees_with_wood_density.csv\"\n",
    "SAPLING_CSV = CARBON_POOLS_OUTDIR / \"saplings_ntv_litter.csv\"\n",
    "PLOT_INFO_CSV = CARBON_POOLS_OUTDIR / \"plot_info.csv\"\n",
    "\n",
    "# BigQuery Variables\n",
    "DATASET_ID = \"carbon_stock\"\n",
    "IF_EXISTS = \"replace\"\n",
    "\n",
    "# Processing Conditions\n",
    "OUTLIER_REMOVAL = \"get_ave\"  # Options: \"get_ave\", \"drop_outliers\", \"eq_150\""
   ]
  },
  {
   "cell_type": "markdown",
   "metadata": {},
   "source": [
    "## Load data"
   ]
  },
  {
   "cell_type": "markdown",
   "metadata": {},
   "source": [
    "### Plot Data"
   ]
  },
  {
   "cell_type": "code",
   "execution_count": 5,
   "metadata": {},
   "outputs": [],
   "source": [
    "if PLOT_INFO_CSV.exists():\n",
    "    plot_info = pd.read_csv(PLOT_INFO_CSV)\n",
    "else:\n",
    "    query = f\"\"\"\n",
    "    SELECT\n",
    "        * \n",
    "    FROM {GCP_PROJ_ID}.{DATASET_ID}.plot_info\"\"\"\n",
    "\n",
    "    # Read the BigQuery table into a dataframe\n",
    "    plot_info = pandas_gbq.read_gbq(query, project_id=GCP_PROJ_ID)\n",
    "    plot_info.to_csv(PLOT_INFO_CSV, index=False)"
   ]
  },
  {
   "cell_type": "code",
   "execution_count": 6,
   "metadata": {},
   "outputs": [
    {
     "name": "stdout",
     "output_type": "stream",
     "text": [
      "<class 'pandas.core.frame.DataFrame'>\n",
      "RangeIndex: 674 entries, 0 to 673\n",
      "Data columns (total 29 columns):\n",
      " #   Column                  Non-Null Count  Dtype  \n",
      "---  ------                  --------------  -----  \n",
      " 0   unique_id               674 non-null    object \n",
      " 1   data_recorder           674 non-null    object \n",
      " 2   team_no                 674 non-null    int64  \n",
      " 3   plot_code_nmbr          674 non-null    int64  \n",
      " 4   plot_type               674 non-null    object \n",
      " 5   sub_plot                674 non-null    object \n",
      " 6   yes_no                  674 non-null    object \n",
      " 7   sub_plot_shift          634 non-null    object \n",
      " 8   GPS_waypt               634 non-null    float64\n",
      " 9   GPS_id                  634 non-null    float64\n",
      " 10  GPS                     577 non-null    object \n",
      " 11  GPS_latitude            577 non-null    float64\n",
      " 12  GPS_longitude           577 non-null    float64\n",
      " 13  GPS_altitude            577 non-null    float64\n",
      " 14  GPS_precision           577 non-null    float64\n",
      " 15  photo                   634 non-null    object \n",
      " 16  manual_reason           40 non-null     object \n",
      " 17  lc_type                 634 non-null    object \n",
      " 18  lc_class                620 non-null    object \n",
      " 19  lc_class_other          12 non-null     object \n",
      " 20  disturbance_yesno       478 non-null    object \n",
      " 21  disturbance_type        148 non-null    object \n",
      " 22  disturbance_class       148 non-null    object \n",
      " 23  slope                   620 non-null    float64\n",
      " 24  canopy_avg_height       620 non-null    float64\n",
      " 25  canopy_cover            620 non-null    float64\n",
      " 26  access_reason           40 non-null     object \n",
      " 27  slope_radians           620 non-null    float64\n",
      " 28  corrected_plot_area_m2  620 non-null    float64\n",
      "dtypes: float64(11), int64(2), object(16)\n",
      "memory usage: 152.8+ KB\n"
     ]
    }
   ],
   "source": [
    "plot_info.info()"
   ]
  },
  {
   "cell_type": "markdown",
   "metadata": {},
   "source": [
    "### Trees data"
   ]
  },
  {
   "cell_type": "code",
   "execution_count": 7,
   "metadata": {},
   "outputs": [],
   "source": [
    "if TREES_CSV.exists():\n",
    "    trees = pd.read_csv(TREES_CSV)\n",
    "else:\n",
    "    query = f\"\"\"\n",
    "    SELECT \n",
    "        * \n",
    "    FROM {GCP_PROJ_ID}.{DATASET_ID}.trees\"\"\"\n",
    "\n",
    "    # Read the BigQuery table into a dataframe\n",
    "    trees = pandas_gbq.read_gbq(query, project_id=GCP_PROJ_ID)\n",
    "    trees.to_csv(TREES_CSV, index=False)"
   ]
  },
  {
   "cell_type": "code",
   "execution_count": 8,
   "metadata": {},
   "outputs": [],
   "source": [
    "trees.rename(\n",
    "    columns={\"species_name\": \"code_species\", \"family_name\": \"code_family\"}, inplace=True\n",
    ")"
   ]
  },
  {
   "cell_type": "code",
   "execution_count": 9,
   "metadata": {},
   "outputs": [],
   "source": [
    "trees.loc[trees[\"code_species\"] == 999, \"code_species\"] = np.nan"
   ]
  },
  {
   "cell_type": "code",
   "execution_count": 10,
   "metadata": {},
   "outputs": [
    {
     "name": "stdout",
     "output_type": "stream",
     "text": [
      "<class 'pandas.core.frame.DataFrame'>\n",
      "RangeIndex: 6579 entries, 0 to 6578\n",
      "Data columns (total 5 columns):\n",
      " #   Column        Non-Null Count  Dtype  \n",
      "---  ------        --------------  -----  \n",
      " 0   unique_id     6579 non-null   object \n",
      " 1   nest          6579 non-null   int64  \n",
      " 2   code_species  4993 non-null   float64\n",
      " 3   code_family   1330 non-null   float64\n",
      " 4   DBH           6579 non-null   float64\n",
      "dtypes: float64(3), int64(1), object(1)\n",
      "memory usage: 257.1+ KB\n"
     ]
    }
   ],
   "source": [
    "trees.info()"
   ]
  },
  {
   "cell_type": "code",
   "execution_count": 11,
   "metadata": {},
   "outputs": [
    {
     "data": {
      "text/html": [
       "<div>\n",
       "<style scoped>\n",
       "    .dataframe tbody tr th:only-of-type {\n",
       "        vertical-align: middle;\n",
       "    }\n",
       "\n",
       "    .dataframe tbody tr th {\n",
       "        vertical-align: top;\n",
       "    }\n",
       "\n",
       "    .dataframe thead th {\n",
       "        text-align: right;\n",
       "    }\n",
       "</style>\n",
       "<table border=\"1\" class=\"dataframe\">\n",
       "  <thead>\n",
       "    <tr style=\"text-align: right;\">\n",
       "      <th></th>\n",
       "      <th>unique_id</th>\n",
       "      <th>nest</th>\n",
       "      <th>code_species</th>\n",
       "      <th>code_family</th>\n",
       "      <th>DBH</th>\n",
       "    </tr>\n",
       "  </thead>\n",
       "  <tbody>\n",
       "    <tr>\n",
       "      <th>0</th>\n",
       "      <td>308D2</td>\n",
       "      <td>2</td>\n",
       "      <td>NaN</td>\n",
       "      <td>25.0</td>\n",
       "      <td>10.8</td>\n",
       "    </tr>\n",
       "    <tr>\n",
       "      <th>1</th>\n",
       "      <td>308D2</td>\n",
       "      <td>2</td>\n",
       "      <td>NaN</td>\n",
       "      <td>25.0</td>\n",
       "      <td>17.3</td>\n",
       "    </tr>\n",
       "  </tbody>\n",
       "</table>\n",
       "</div>"
      ],
      "text/plain": [
       "  unique_id  nest  code_species  code_family   DBH\n",
       "0     308D2     2           NaN         25.0  10.8\n",
       "1     308D2     2           NaN         25.0  17.3"
      ]
     },
     "execution_count": 11,
     "metadata": {},
     "output_type": "execute_result"
    }
   ],
   "source": [
    "trees.head(2)"
   ]
  },
  {
   "cell_type": "markdown",
   "metadata": {},
   "source": [
    "### Saplings data"
   ]
  },
  {
   "cell_type": "code",
   "execution_count": 12,
   "metadata": {},
   "outputs": [],
   "source": [
    "if SAPLING_CSV.exists():\n",
    "    saplings = pd.read_csv(SAPLING_CSV)\n",
    "else:\n",
    "    query = f\"\"\"\n",
    "    SELECT \n",
    "        * \n",
    "    FROM {GCP_PROJ_ID}.{DATASET_ID}.saplings_ntv_litter\"\"\"\n",
    "\n",
    "    # Read the BigQuery table into a dataframe\n",
    "    saplings = pandas_gbq.read_gbq(query, project_id=GCP_PROJ_ID)\n",
    "    saplings.to_csv(SAPLING_CSV, index=False)"
   ]
  },
  {
   "cell_type": "code",
   "execution_count": 13,
   "metadata": {},
   "outputs": [
    {
     "name": "stdout",
     "output_type": "stream",
     "text": [
      "<class 'pandas.core.frame.DataFrame'>\n",
      "RangeIndex: 674 entries, 0 to 673\n",
      "Data columns (total 6 columns):\n",
      " #   Column                Non-Null Count  Dtype  \n",
      "---  ------                --------------  -----  \n",
      " 0   unique_id             674 non-null    object \n",
      " 1   count_saplings        589 non-null    float64\n",
      " 2   litter_bag_weight     620 non-null    float64\n",
      " 3   litter_sample_weight  620 non-null    float64\n",
      " 4   ntv_bag_weight        620 non-null    float64\n",
      " 5   ntv_sample_weight     620 non-null    float64\n",
      "dtypes: float64(5), object(1)\n",
      "memory usage: 31.7+ KB\n"
     ]
    }
   ],
   "source": [
    "saplings.info()"
   ]
  },
  {
   "cell_type": "markdown",
   "metadata": {},
   "source": [
    "### Tree species"
   ]
  },
  {
   "cell_type": "code",
   "execution_count": 14,
   "metadata": {},
   "outputs": [],
   "source": [
    "species = pd.read_csv(SPECIES_LOOKUP_CSV)"
   ]
  },
  {
   "cell_type": "code",
   "execution_count": 15,
   "metadata": {},
   "outputs": [
    {
     "name": "stdout",
     "output_type": "stream",
     "text": [
      "<class 'pandas.core.frame.DataFrame'>\n",
      "RangeIndex: 375 entries, 0 to 374\n",
      "Data columns (total 7 columns):\n",
      " #   Column           Non-Null Count  Dtype  \n",
      "---  ------           --------------  -----  \n",
      " 0   code_family      74 non-null     float64\n",
      " 1   family           74 non-null     object \n",
      " 2   scientific_name  375 non-null    object \n",
      " 3   local_name       375 non-null    object \n",
      " 4   code_species     375 non-null    int64  \n",
      " 5   corrected_genus  375 non-null    object \n",
      " 6   wood_density     375 non-null    float64\n",
      "dtypes: float64(2), int64(1), object(4)\n",
      "memory usage: 20.6+ KB\n"
     ]
    }
   ],
   "source": [
    "species.info()"
   ]
  },
  {
   "cell_type": "code",
   "execution_count": 16,
   "metadata": {},
   "outputs": [
    {
     "data": {
      "text/html": [
       "<div>\n",
       "<style scoped>\n",
       "    .dataframe tbody tr th:only-of-type {\n",
       "        vertical-align: middle;\n",
       "    }\n",
       "\n",
       "    .dataframe tbody tr th {\n",
       "        vertical-align: top;\n",
       "    }\n",
       "\n",
       "    .dataframe thead th {\n",
       "        text-align: right;\n",
       "    }\n",
       "</style>\n",
       "<table border=\"1\" class=\"dataframe\">\n",
       "  <thead>\n",
       "    <tr style=\"text-align: right;\">\n",
       "      <th></th>\n",
       "      <th>code_family</th>\n",
       "      <th>family</th>\n",
       "      <th>scientific_name</th>\n",
       "      <th>local_name</th>\n",
       "      <th>code_species</th>\n",
       "      <th>corrected_genus</th>\n",
       "      <th>wood_density</th>\n",
       "    </tr>\n",
       "  </thead>\n",
       "  <tbody>\n",
       "    <tr>\n",
       "      <th>0</th>\n",
       "      <td>999.0</td>\n",
       "      <td>Unknown</td>\n",
       "      <td>Litchi chinensis</td>\n",
       "      <td>Alupag - amo</td>\n",
       "      <td>193</td>\n",
       "      <td>Litchi</td>\n",
       "      <td>0.608902</td>\n",
       "    </tr>\n",
       "    <tr>\n",
       "      <th>1</th>\n",
       "      <td>1.0</td>\n",
       "      <td>Alangiaceae</td>\n",
       "      <td>Alangium javanicum</td>\n",
       "      <td>Putian</td>\n",
       "      <td>15</td>\n",
       "      <td>Alangium</td>\n",
       "      <td>0.608902</td>\n",
       "    </tr>\n",
       "  </tbody>\n",
       "</table>\n",
       "</div>"
      ],
      "text/plain": [
       "   code_family       family     scientific_name    local_name  code_species  \\\n",
       "0        999.0      Unknown    Litchi chinensis  Alupag - amo           193   \n",
       "1          1.0  Alangiaceae  Alangium javanicum        Putian            15   \n",
       "\n",
       "  corrected_genus  wood_density  \n",
       "0          Litchi      0.608902  \n",
       "1        Alangium      0.608902  "
      ]
     },
     "execution_count": 16,
     "metadata": {},
     "output_type": "execute_result"
    }
   ],
   "source": [
    "species.head(2)"
   ]
  },
  {
   "cell_type": "markdown",
   "metadata": {},
   "source": [
    "### Plot lookup"
   ]
  },
  {
   "cell_type": "code",
   "execution_count": 17,
   "metadata": {},
   "outputs": [],
   "source": [
    "plot_strata = pd.read_csv(PC_PLOT_LOOKUP_CSV)"
   ]
  },
  {
   "cell_type": "code",
   "execution_count": 18,
   "metadata": {},
   "outputs": [
    {
     "name": "stdout",
     "output_type": "stream",
     "text": [
      "<class 'pandas.core.frame.DataFrame'>\n",
      "RangeIndex: 1760 entries, 0 to 1759\n",
      "Data columns (total 6 columns):\n",
      " #   Column     Non-Null Count  Dtype \n",
      "---  ------     --------------  ----- \n",
      " 0   Strata     1760 non-null   int64 \n",
      " 1   unique_id  1760 non-null   object\n",
      " 2   LCC        1760 non-null   object\n",
      " 3   Bgy_Name   1760 non-null   object\n",
      " 4   Mun_Name   1760 non-null   object\n",
      " 5   Pro_Name   1760 non-null   object\n",
      "dtypes: int64(1), object(5)\n",
      "memory usage: 82.6+ KB\n"
     ]
    }
   ],
   "source": [
    "plot_strata.info()"
   ]
  },
  {
   "cell_type": "markdown",
   "metadata": {},
   "source": [
    "# Calculate above ground biomass"
   ]
  },
  {
   "cell_type": "markdown",
   "metadata": {},
   "source": [
    "## Remove outliers\n"
   ]
  },
  {
   "cell_type": "code",
   "execution_count": 19,
   "metadata": {},
   "outputs": [],
   "source": [
    "if OUTLIER_REMOVAL == \"get_ave\":\n",
    "    mean_dbh = pd.DataFrame(trees.groupby(\"unique_id\")[\"DBH\"].mean()).reset_index()\n",
    "    trees.loc[trees[\"DBH\"] >= 150, \"DBH\"] = trees.loc[\n",
    "        trees[\"DBH\"] >= 150, \"unique_id\"\n",
    "    ].map(mean_dbh.set_index(\"unique_id\")[\"DBH\"])\n",
    "elif OUTLIER_REMOVAL == \"drop_outliers\":\n",
    "    trees = trees[trees[\"DBH\"] < 150].copy()\n",
    "elif OUTLIER_REMOVAL == \"eq_150\":\n",
    "    trees.loc[trees[\"DBH\"] >= 150, \"DBH\"] = 150"
   ]
  },
  {
   "cell_type": "markdown",
   "metadata": {},
   "source": [
    "## Add species using lookup table\n",
    "\n",
    "Wood density in this table was generated using [BIOMASS](https://www.rdocumentation.org/packages/BIOMASS/versions/2.1.11) library from R"
   ]
  },
  {
   "cell_type": "code",
   "execution_count": 20,
   "metadata": {},
   "outputs": [],
   "source": [
    "species_trees = trees.merge(species, on=\"code_species\", how=\"left\")"
   ]
  },
  {
   "cell_type": "code",
   "execution_count": 21,
   "metadata": {},
   "outputs": [],
   "source": [
    "# add species name based on lookup file\n",
    "trees[\"scientific_name\"] = species_trees[\"scientific_name\"]\n",
    "\n",
    "# add family name based on lookup file\n",
    "trees[\"family_name\"] = species_trees[\"family\"]"
   ]
  },
  {
   "cell_type": "code",
   "execution_count": 22,
   "metadata": {},
   "outputs": [],
   "source": [
    "species_family = species[[\"code_family\", \"family\"]].drop_duplicates()"
   ]
  },
  {
   "cell_type": "code",
   "execution_count": 23,
   "metadata": {},
   "outputs": [],
   "source": [
    "family_trees = trees.merge(species_family, on=\"code_family\", how=\"left\")"
   ]
  },
  {
   "cell_type": "code",
   "execution_count": 24,
   "metadata": {},
   "outputs": [],
   "source": [
    "trees.loc[(trees.code_family.notna()), \"family_name\"] = family_trees.loc[\n",
    "    (family_trees.code_family.notna()), \"family\"\n",
    "]"
   ]
  },
  {
   "cell_type": "code",
   "execution_count": 25,
   "metadata": {},
   "outputs": [],
   "source": [
    "trees.fillna({\"scientific_name\": \"Unknown\", \"family_name\": \"Unknown\"}, inplace=True)"
   ]
  },
  {
   "cell_type": "code",
   "execution_count": 26,
   "metadata": {},
   "outputs": [
    {
     "data": {
      "text/html": [
       "<div>\n",
       "<style scoped>\n",
       "    .dataframe tbody tr th:only-of-type {\n",
       "        vertical-align: middle;\n",
       "    }\n",
       "\n",
       "    .dataframe tbody tr th {\n",
       "        vertical-align: top;\n",
       "    }\n",
       "\n",
       "    .dataframe thead th {\n",
       "        text-align: right;\n",
       "    }\n",
       "</style>\n",
       "<table border=\"1\" class=\"dataframe\">\n",
       "  <thead>\n",
       "    <tr style=\"text-align: right;\">\n",
       "      <th></th>\n",
       "      <th>unique_id</th>\n",
       "      <th>nest</th>\n",
       "      <th>code_species</th>\n",
       "      <th>code_family</th>\n",
       "      <th>DBH</th>\n",
       "      <th>scientific_name</th>\n",
       "      <th>family_name</th>\n",
       "    </tr>\n",
       "  </thead>\n",
       "  <tbody>\n",
       "    <tr>\n",
       "      <th>4</th>\n",
       "      <td>308A2</td>\n",
       "      <td>2</td>\n",
       "      <td>NaN</td>\n",
       "      <td>NaN</td>\n",
       "      <td>18.70</td>\n",
       "      <td>Unknown</td>\n",
       "      <td>Unknown</td>\n",
       "    </tr>\n",
       "    <tr>\n",
       "      <th>5</th>\n",
       "      <td>308A2</td>\n",
       "      <td>2</td>\n",
       "      <td>NaN</td>\n",
       "      <td>NaN</td>\n",
       "      <td>20.20</td>\n",
       "      <td>Unknown</td>\n",
       "      <td>Unknown</td>\n",
       "    </tr>\n",
       "    <tr>\n",
       "      <th>6</th>\n",
       "      <td>308A2</td>\n",
       "      <td>2</td>\n",
       "      <td>NaN</td>\n",
       "      <td>NaN</td>\n",
       "      <td>14.70</td>\n",
       "      <td>Unknown</td>\n",
       "      <td>Unknown</td>\n",
       "    </tr>\n",
       "    <tr>\n",
       "      <th>7</th>\n",
       "      <td>308A2</td>\n",
       "      <td>2</td>\n",
       "      <td>NaN</td>\n",
       "      <td>NaN</td>\n",
       "      <td>12.00</td>\n",
       "      <td>Unknown</td>\n",
       "      <td>Unknown</td>\n",
       "    </tr>\n",
       "    <tr>\n",
       "      <th>32</th>\n",
       "      <td>22C2</td>\n",
       "      <td>2</td>\n",
       "      <td>NaN</td>\n",
       "      <td>NaN</td>\n",
       "      <td>20.40</td>\n",
       "      <td>Unknown</td>\n",
       "      <td>Unknown</td>\n",
       "    </tr>\n",
       "    <tr>\n",
       "      <th>...</th>\n",
       "      <td>...</td>\n",
       "      <td>...</td>\n",
       "      <td>...</td>\n",
       "      <td>...</td>\n",
       "      <td>...</td>\n",
       "      <td>...</td>\n",
       "      <td>...</td>\n",
       "    </tr>\n",
       "    <tr>\n",
       "      <th>6466</th>\n",
       "      <td>399C2</td>\n",
       "      <td>4</td>\n",
       "      <td>NaN</td>\n",
       "      <td>NaN</td>\n",
       "      <td>84.90</td>\n",
       "      <td>Unknown</td>\n",
       "      <td>Unknown</td>\n",
       "    </tr>\n",
       "    <tr>\n",
       "      <th>6470</th>\n",
       "      <td>399A2</td>\n",
       "      <td>4</td>\n",
       "      <td>NaN</td>\n",
       "      <td>NaN</td>\n",
       "      <td>62.00</td>\n",
       "      <td>Unknown</td>\n",
       "      <td>Unknown</td>\n",
       "    </tr>\n",
       "    <tr>\n",
       "      <th>6472</th>\n",
       "      <td>203D2</td>\n",
       "      <td>4</td>\n",
       "      <td>NaN</td>\n",
       "      <td>NaN</td>\n",
       "      <td>69.55</td>\n",
       "      <td>Unknown</td>\n",
       "      <td>Unknown</td>\n",
       "    </tr>\n",
       "    <tr>\n",
       "      <th>6530</th>\n",
       "      <td>80B2</td>\n",
       "      <td>4</td>\n",
       "      <td>NaN</td>\n",
       "      <td>NaN</td>\n",
       "      <td>58.30</td>\n",
       "      <td>Unknown</td>\n",
       "      <td>Unknown</td>\n",
       "    </tr>\n",
       "    <tr>\n",
       "      <th>6533</th>\n",
       "      <td>80C2</td>\n",
       "      <td>4</td>\n",
       "      <td>NaN</td>\n",
       "      <td>NaN</td>\n",
       "      <td>88.30</td>\n",
       "      <td>Unknown</td>\n",
       "      <td>Unknown</td>\n",
       "    </tr>\n",
       "  </tbody>\n",
       "</table>\n",
       "<p>711 rows × 7 columns</p>\n",
       "</div>"
      ],
      "text/plain": [
       "     unique_id  nest  code_species  code_family    DBH scientific_name  \\\n",
       "4        308A2     2           NaN          NaN  18.70         Unknown   \n",
       "5        308A2     2           NaN          NaN  20.20         Unknown   \n",
       "6        308A2     2           NaN          NaN  14.70         Unknown   \n",
       "7        308A2     2           NaN          NaN  12.00         Unknown   \n",
       "32        22C2     2           NaN          NaN  20.40         Unknown   \n",
       "...        ...   ...           ...          ...    ...             ...   \n",
       "6466     399C2     4           NaN          NaN  84.90         Unknown   \n",
       "6470     399A2     4           NaN          NaN  62.00         Unknown   \n",
       "6472     203D2     4           NaN          NaN  69.55         Unknown   \n",
       "6530      80B2     4           NaN          NaN  58.30         Unknown   \n",
       "6533      80C2     4           NaN          NaN  88.30         Unknown   \n",
       "\n",
       "     family_name  \n",
       "4        Unknown  \n",
       "5        Unknown  \n",
       "6        Unknown  \n",
       "7        Unknown  \n",
       "32       Unknown  \n",
       "...          ...  \n",
       "6466     Unknown  \n",
       "6470     Unknown  \n",
       "6472     Unknown  \n",
       "6530     Unknown  \n",
       "6533     Unknown  \n",
       "\n",
       "[711 rows x 7 columns]"
      ]
     },
     "execution_count": 26,
     "metadata": {},
     "output_type": "execute_result"
    }
   ],
   "source": [
    "trees[(trees[\"scientific_name\"] == \"Unknown\") & (trees[\"family_name\"] == \"Unknown\")]"
   ]
  },
  {
   "cell_type": "code",
   "execution_count": 27,
   "metadata": {},
   "outputs": [],
   "source": [
    "trees.to_csv(CARBON_POOLS_OUTDIR / \"trees_with_names.csv\", index=False)"
   ]
  },
  {
   "cell_type": "markdown",
   "metadata": {},
   "source": [
    "## Get genus and wood density using BIOMASS R library"
   ]
  },
  {
   "cell_type": "markdown",
   "metadata": {},
   "source": [
    "[To do]: insert running r script to get wood density and genus using R"
   ]
  },
  {
   "cell_type": "code",
   "execution_count": 71,
   "metadata": {},
   "outputs": [],
   "source": [
    "trees = pd.read_csv(CARBON_POOLS_OUTDIR / \"trees_with_wood_density.csv\")"
   ]
  },
  {
   "cell_type": "code",
   "execution_count": 72,
   "metadata": {},
   "outputs": [
    {
     "data": {
      "text/html": [
       "<div>\n",
       "<style scoped>\n",
       "    .dataframe tbody tr th:only-of-type {\n",
       "        vertical-align: middle;\n",
       "    }\n",
       "\n",
       "    .dataframe tbody tr th {\n",
       "        vertical-align: top;\n",
       "    }\n",
       "\n",
       "    .dataframe thead th {\n",
       "        text-align: right;\n",
       "    }\n",
       "</style>\n",
       "<table border=\"1\" class=\"dataframe\">\n",
       "  <thead>\n",
       "    <tr style=\"text-align: right;\">\n",
       "      <th></th>\n",
       "      <th>unique_id</th>\n",
       "      <th>nest</th>\n",
       "      <th>code_species</th>\n",
       "      <th>code_family</th>\n",
       "      <th>DBH</th>\n",
       "      <th>scientific_name</th>\n",
       "      <th>family_name</th>\n",
       "      <th>corrected_genus</th>\n",
       "      <th>meanWD</th>\n",
       "    </tr>\n",
       "  </thead>\n",
       "  <tbody>\n",
       "    <tr>\n",
       "      <th>0</th>\n",
       "      <td>308D2</td>\n",
       "      <td>2</td>\n",
       "      <td>NaN</td>\n",
       "      <td>25.0</td>\n",
       "      <td>10.8</td>\n",
       "      <td>Unknown</td>\n",
       "      <td>Fabaceae</td>\n",
       "      <td>Unknown</td>\n",
       "      <td>0.702417</td>\n",
       "    </tr>\n",
       "    <tr>\n",
       "      <th>1</th>\n",
       "      <td>308D2</td>\n",
       "      <td>2</td>\n",
       "      <td>NaN</td>\n",
       "      <td>25.0</td>\n",
       "      <td>17.3</td>\n",
       "      <td>Unknown</td>\n",
       "      <td>Fabaceae</td>\n",
       "      <td>Unknown</td>\n",
       "      <td>0.702417</td>\n",
       "    </tr>\n",
       "    <tr>\n",
       "      <th>2</th>\n",
       "      <td>308D2</td>\n",
       "      <td>2</td>\n",
       "      <td>NaN</td>\n",
       "      <td>25.0</td>\n",
       "      <td>12.8</td>\n",
       "      <td>Unknown</td>\n",
       "      <td>Fabaceae</td>\n",
       "      <td>Unknown</td>\n",
       "      <td>0.702417</td>\n",
       "    </tr>\n",
       "    <tr>\n",
       "      <th>3</th>\n",
       "      <td>308D2</td>\n",
       "      <td>2</td>\n",
       "      <td>NaN</td>\n",
       "      <td>25.0</td>\n",
       "      <td>28.1</td>\n",
       "      <td>Unknown</td>\n",
       "      <td>Fabaceae</td>\n",
       "      <td>Unknown</td>\n",
       "      <td>0.702417</td>\n",
       "    </tr>\n",
       "    <tr>\n",
       "      <th>4</th>\n",
       "      <td>308A2</td>\n",
       "      <td>2</td>\n",
       "      <td>NaN</td>\n",
       "      <td>NaN</td>\n",
       "      <td>18.7</td>\n",
       "      <td>Unknown</td>\n",
       "      <td>Unknown</td>\n",
       "      <td>Unknown</td>\n",
       "      <td>0.805709</td>\n",
       "    </tr>\n",
       "    <tr>\n",
       "      <th>...</th>\n",
       "      <td>...</td>\n",
       "      <td>...</td>\n",
       "      <td>...</td>\n",
       "      <td>...</td>\n",
       "      <td>...</td>\n",
       "      <td>...</td>\n",
       "      <td>...</td>\n",
       "      <td>...</td>\n",
       "      <td>...</td>\n",
       "    </tr>\n",
       "    <tr>\n",
       "      <th>6574</th>\n",
       "      <td>38C2</td>\n",
       "      <td>4</td>\n",
       "      <td>278.0</td>\n",
       "      <td>NaN</td>\n",
       "      <td>50.1</td>\n",
       "      <td>Shorea astylosa</td>\n",
       "      <td>Unknown</td>\n",
       "      <td>Shorea</td>\n",
       "      <td>0.585361</td>\n",
       "    </tr>\n",
       "    <tr>\n",
       "      <th>6575</th>\n",
       "      <td>38C2</td>\n",
       "      <td>4</td>\n",
       "      <td>292.0</td>\n",
       "      <td>NaN</td>\n",
       "      <td>80.8</td>\n",
       "      <td>Shorea polysperma</td>\n",
       "      <td>Unknown</td>\n",
       "      <td>Shorea</td>\n",
       "      <td>0.585361</td>\n",
       "    </tr>\n",
       "    <tr>\n",
       "      <th>6576</th>\n",
       "      <td>4B2</td>\n",
       "      <td>4</td>\n",
       "      <td>205.0</td>\n",
       "      <td>NaN</td>\n",
       "      <td>81.7</td>\n",
       "      <td>Macaranga bicolor</td>\n",
       "      <td>Unknown</td>\n",
       "      <td>Macaranga</td>\n",
       "      <td>0.805709</td>\n",
       "    </tr>\n",
       "    <tr>\n",
       "      <th>6577</th>\n",
       "      <td>4A2</td>\n",
       "      <td>4</td>\n",
       "      <td>289.0</td>\n",
       "      <td>NaN</td>\n",
       "      <td>84.7</td>\n",
       "      <td>Shorea palosapis</td>\n",
       "      <td>Unknown</td>\n",
       "      <td>Shorea</td>\n",
       "      <td>0.711971</td>\n",
       "    </tr>\n",
       "    <tr>\n",
       "      <th>6578</th>\n",
       "      <td>4C2</td>\n",
       "      <td>4</td>\n",
       "      <td>287.0</td>\n",
       "      <td>NaN</td>\n",
       "      <td>86.7</td>\n",
       "      <td>Shorea negrosensis</td>\n",
       "      <td>Unknown</td>\n",
       "      <td>Shorea</td>\n",
       "      <td>0.585361</td>\n",
       "    </tr>\n",
       "  </tbody>\n",
       "</table>\n",
       "<p>6579 rows × 9 columns</p>\n",
       "</div>"
      ],
      "text/plain": [
       "     unique_id  nest  code_species  code_family   DBH     scientific_name  \\\n",
       "0        308D2     2           NaN         25.0  10.8             Unknown   \n",
       "1        308D2     2           NaN         25.0  17.3             Unknown   \n",
       "2        308D2     2           NaN         25.0  12.8             Unknown   \n",
       "3        308D2     2           NaN         25.0  28.1             Unknown   \n",
       "4        308A2     2           NaN          NaN  18.7             Unknown   \n",
       "...        ...   ...           ...          ...   ...                 ...   \n",
       "6574      38C2     4         278.0          NaN  50.1     Shorea astylosa   \n",
       "6575      38C2     4         292.0          NaN  80.8   Shorea polysperma   \n",
       "6576       4B2     4         205.0          NaN  81.7   Macaranga bicolor   \n",
       "6577       4A2     4         289.0          NaN  84.7    Shorea palosapis   \n",
       "6578       4C2     4         287.0          NaN  86.7  Shorea negrosensis   \n",
       "\n",
       "     family_name corrected_genus    meanWD  \n",
       "0       Fabaceae         Unknown  0.702417  \n",
       "1       Fabaceae         Unknown  0.702417  \n",
       "2       Fabaceae         Unknown  0.702417  \n",
       "3       Fabaceae         Unknown  0.702417  \n",
       "4        Unknown         Unknown  0.805709  \n",
       "...          ...             ...       ...  \n",
       "6574     Unknown          Shorea  0.585361  \n",
       "6575     Unknown          Shorea  0.585361  \n",
       "6576     Unknown       Macaranga  0.805709  \n",
       "6577     Unknown          Shorea  0.711971  \n",
       "6578     Unknown          Shorea  0.585361  \n",
       "\n",
       "[6579 rows x 9 columns]"
      ]
     },
     "execution_count": 72,
     "metadata": {},
     "output_type": "execute_result"
    }
   ],
   "source": [
    "trees"
   ]
  },
  {
   "cell_type": "markdown",
   "metadata": {},
   "source": [
    "## Estimate tree height"
   ]
  },
  {
   "cell_type": "code",
   "execution_count": 73,
   "metadata": {},
   "outputs": [],
   "source": [
    "trees = calculate_tree_height(trees, \"DBH\")"
   ]
  },
  {
   "cell_type": "code",
   "execution_count": 74,
   "metadata": {},
   "outputs": [
    {
     "data": {
      "text/html": [
       "<div>\n",
       "<style scoped>\n",
       "    .dataframe tbody tr th:only-of-type {\n",
       "        vertical-align: middle;\n",
       "    }\n",
       "\n",
       "    .dataframe tbody tr th {\n",
       "        vertical-align: top;\n",
       "    }\n",
       "\n",
       "    .dataframe thead th {\n",
       "        text-align: right;\n",
       "    }\n",
       "</style>\n",
       "<table border=\"1\" class=\"dataframe\">\n",
       "  <thead>\n",
       "    <tr style=\"text-align: right;\">\n",
       "      <th></th>\n",
       "      <th>unique_id</th>\n",
       "      <th>nest</th>\n",
       "      <th>code_species</th>\n",
       "      <th>code_family</th>\n",
       "      <th>DBH</th>\n",
       "      <th>scientific_name</th>\n",
       "      <th>family_name</th>\n",
       "      <th>corrected_genus</th>\n",
       "      <th>meanWD</th>\n",
       "      <th>height</th>\n",
       "    </tr>\n",
       "  </thead>\n",
       "  <tbody>\n",
       "    <tr>\n",
       "      <th>0</th>\n",
       "      <td>308D2</td>\n",
       "      <td>2</td>\n",
       "      <td>NaN</td>\n",
       "      <td>25.0</td>\n",
       "      <td>10.8</td>\n",
       "      <td>Unknown</td>\n",
       "      <td>Fabaceae</td>\n",
       "      <td>Unknown</td>\n",
       "      <td>0.702417</td>\n",
       "      <td>13.056120</td>\n",
       "    </tr>\n",
       "    <tr>\n",
       "      <th>1</th>\n",
       "      <td>308D2</td>\n",
       "      <td>2</td>\n",
       "      <td>NaN</td>\n",
       "      <td>25.0</td>\n",
       "      <td>17.3</td>\n",
       "      <td>Unknown</td>\n",
       "      <td>Fabaceae</td>\n",
       "      <td>Unknown</td>\n",
       "      <td>0.702417</td>\n",
       "      <td>16.968661</td>\n",
       "    </tr>\n",
       "  </tbody>\n",
       "</table>\n",
       "</div>"
      ],
      "text/plain": [
       "  unique_id  nest  code_species  code_family   DBH scientific_name  \\\n",
       "0     308D2     2           NaN         25.0  10.8         Unknown   \n",
       "1     308D2     2           NaN         25.0  17.3         Unknown   \n",
       "\n",
       "  family_name corrected_genus    meanWD     height  \n",
       "0    Fabaceae         Unknown  0.702417  13.056120  \n",
       "1    Fabaceae         Unknown  0.702417  16.968661  "
      ]
     },
     "execution_count": 74,
     "metadata": {},
     "output_type": "execute_result"
    }
   ],
   "source": [
    "trees.head(2)"
   ]
  },
  {
   "cell_type": "markdown",
   "metadata": {},
   "source": [
    "## Add strata to trees\n"
   ]
  },
  {
   "cell_type": "code",
   "execution_count": 75,
   "metadata": {},
   "outputs": [],
   "source": [
    "trees = trees.merge(plot_strata, on=\"unique_id\", how=\"left\")"
   ]
  },
  {
   "cell_type": "code",
   "execution_count": 76,
   "metadata": {},
   "outputs": [
    {
     "data": {
      "text/html": [
       "<div>\n",
       "<style scoped>\n",
       "    .dataframe tbody tr th:only-of-type {\n",
       "        vertical-align: middle;\n",
       "    }\n",
       "\n",
       "    .dataframe tbody tr th {\n",
       "        vertical-align: top;\n",
       "    }\n",
       "\n",
       "    .dataframe thead th {\n",
       "        text-align: right;\n",
       "    }\n",
       "</style>\n",
       "<table border=\"1\" class=\"dataframe\">\n",
       "  <thead>\n",
       "    <tr style=\"text-align: right;\">\n",
       "      <th></th>\n",
       "      <th>unique_id</th>\n",
       "      <th>nest</th>\n",
       "      <th>code_species</th>\n",
       "      <th>code_family</th>\n",
       "      <th>DBH</th>\n",
       "      <th>scientific_name</th>\n",
       "      <th>family_name</th>\n",
       "      <th>corrected_genus</th>\n",
       "      <th>meanWD</th>\n",
       "      <th>height</th>\n",
       "      <th>Strata</th>\n",
       "      <th>LCC</th>\n",
       "      <th>Bgy_Name</th>\n",
       "      <th>Mun_Name</th>\n",
       "      <th>Pro_Name</th>\n",
       "    </tr>\n",
       "  </thead>\n",
       "  <tbody>\n",
       "    <tr>\n",
       "      <th>0</th>\n",
       "      <td>308D2</td>\n",
       "      <td>2</td>\n",
       "      <td>NaN</td>\n",
       "      <td>25.0</td>\n",
       "      <td>10.8</td>\n",
       "      <td>Unknown</td>\n",
       "      <td>Fabaceae</td>\n",
       "      <td>Unknown</td>\n",
       "      <td>0.702417</td>\n",
       "      <td>13.056120</td>\n",
       "      <td>2</td>\n",
       "      <td>Dipterocarp Forest Closed</td>\n",
       "      <td>Bunga</td>\n",
       "      <td>JABONGA</td>\n",
       "      <td>AGUSAN DEL NORTE</td>\n",
       "    </tr>\n",
       "    <tr>\n",
       "      <th>1</th>\n",
       "      <td>308D2</td>\n",
       "      <td>2</td>\n",
       "      <td>NaN</td>\n",
       "      <td>25.0</td>\n",
       "      <td>17.3</td>\n",
       "      <td>Unknown</td>\n",
       "      <td>Fabaceae</td>\n",
       "      <td>Unknown</td>\n",
       "      <td>0.702417</td>\n",
       "      <td>16.968661</td>\n",
       "      <td>2</td>\n",
       "      <td>Dipterocarp Forest Closed</td>\n",
       "      <td>Bunga</td>\n",
       "      <td>JABONGA</td>\n",
       "      <td>AGUSAN DEL NORTE</td>\n",
       "    </tr>\n",
       "  </tbody>\n",
       "</table>\n",
       "</div>"
      ],
      "text/plain": [
       "  unique_id  nest  code_species  code_family   DBH scientific_name  \\\n",
       "0     308D2     2           NaN         25.0  10.8         Unknown   \n",
       "1     308D2     2           NaN         25.0  17.3         Unknown   \n",
       "\n",
       "  family_name corrected_genus    meanWD     height  Strata  \\\n",
       "0    Fabaceae         Unknown  0.702417  13.056120       2   \n",
       "1    Fabaceae         Unknown  0.702417  16.968661       2   \n",
       "\n",
       "                         LCC Bgy_Name Mun_Name          Pro_Name  \n",
       "0  Dipterocarp Forest Closed    Bunga  JABONGA  AGUSAN DEL NORTE  \n",
       "1  Dipterocarp Forest Closed    Bunga  JABONGA  AGUSAN DEL NORTE  "
      ]
     },
     "execution_count": 76,
     "metadata": {},
     "output_type": "execute_result"
    }
   ],
   "source": [
    "trees.head(2)"
   ]
  },
  {
   "cell_type": "markdown",
   "metadata": {},
   "source": [
    "## Calculate biomass and carbon stock"
   ]
  },
  {
   "cell_type": "code",
   "execution_count": 79,
   "metadata": {},
   "outputs": [],
   "source": [
    "tropical_trees = trees.loc[trees[\"Strata\"].isin([1, 2, 3])].copy()"
   ]
  },
  {
   "cell_type": "code",
   "execution_count": 80,
   "metadata": {},
   "outputs": [],
   "source": [
    "tropical_trees = allometric_tropical_tree(tropical_trees, \"meanWD\", \"DBH\", \"height\")"
   ]
  },
  {
   "cell_type": "code",
   "execution_count": 81,
   "metadata": {},
   "outputs": [],
   "source": [
    "peatland_trees = trees.loc[trees[\"Strata\"].isin([4, 5, 6])].copy()"
   ]
  },
  {
   "cell_type": "code",
   "execution_count": 88,
   "metadata": {},
   "outputs": [],
   "source": [
    "peatland_trees = allometric_peatland_tree(peatland_trees, \"DBH\")"
   ]
  },
  {
   "cell_type": "code",
   "execution_count": 91,
   "metadata": {},
   "outputs": [],
   "source": [
    "trees = pd.concat([tropical_trees, peatland_trees])"
   ]
  },
  {
   "cell_type": "code",
   "execution_count": 95,
   "metadata": {},
   "outputs": [],
   "source": [
    "trees = vmd0001_eq1(trees, 0.47)"
   ]
  },
  {
   "cell_type": "code",
   "execution_count": 97,
   "metadata": {},
   "outputs": [
    {
     "data": {
      "text/html": [
       "<div>\n",
       "<style scoped>\n",
       "    .dataframe tbody tr th:only-of-type {\n",
       "        vertical-align: middle;\n",
       "    }\n",
       "\n",
       "    .dataframe tbody tr th {\n",
       "        vertical-align: top;\n",
       "    }\n",
       "\n",
       "    .dataframe thead th {\n",
       "        text-align: right;\n",
       "    }\n",
       "</style>\n",
       "<table border=\"1\" class=\"dataframe\">\n",
       "  <thead>\n",
       "    <tr style=\"text-align: right;\">\n",
       "      <th></th>\n",
       "      <th>unique_id</th>\n",
       "      <th>nest</th>\n",
       "      <th>code_species</th>\n",
       "      <th>code_family</th>\n",
       "      <th>DBH</th>\n",
       "      <th>scientific_name</th>\n",
       "      <th>family_name</th>\n",
       "      <th>corrected_genus</th>\n",
       "      <th>meanWD</th>\n",
       "      <th>height</th>\n",
       "      <th>Strata</th>\n",
       "      <th>LCC</th>\n",
       "      <th>Bgy_Name</th>\n",
       "      <th>Mun_Name</th>\n",
       "      <th>Pro_Name</th>\n",
       "      <th>aboveground_biomass</th>\n",
       "      <th>aboveground_carbon_stock</th>\n",
       "    </tr>\n",
       "  </thead>\n",
       "  <tbody>\n",
       "    <tr>\n",
       "      <th>0</th>\n",
       "      <td>308D2</td>\n",
       "      <td>2</td>\n",
       "      <td>NaN</td>\n",
       "      <td>25.0</td>\n",
       "      <td>10.8</td>\n",
       "      <td>Unknown</td>\n",
       "      <td>Fabaceae</td>\n",
       "      <td>Unknown</td>\n",
       "      <td>0.702417</td>\n",
       "      <td>13.056120</td>\n",
       "      <td>2</td>\n",
       "      <td>Dipterocarp Forest Closed</td>\n",
       "      <td>Bunga</td>\n",
       "      <td>JABONGA</td>\n",
       "      <td>AGUSAN DEL NORTE</td>\n",
       "      <td>608.932762</td>\n",
       "      <td>286.198398</td>\n",
       "    </tr>\n",
       "    <tr>\n",
       "      <th>1</th>\n",
       "      <td>308D2</td>\n",
       "      <td>2</td>\n",
       "      <td>NaN</td>\n",
       "      <td>25.0</td>\n",
       "      <td>17.3</td>\n",
       "      <td>Unknown</td>\n",
       "      <td>Fabaceae</td>\n",
       "      <td>Unknown</td>\n",
       "      <td>0.702417</td>\n",
       "      <td>16.968661</td>\n",
       "      <td>2</td>\n",
       "      <td>Dipterocarp Forest Closed</td>\n",
       "      <td>Bunga</td>\n",
       "      <td>JABONGA</td>\n",
       "      <td>AGUSAN DEL NORTE</td>\n",
       "      <td>1972.847878</td>\n",
       "      <td>927.238503</td>\n",
       "    </tr>\n",
       "  </tbody>\n",
       "</table>\n",
       "</div>"
      ],
      "text/plain": [
       "  unique_id  nest  code_species  code_family   DBH scientific_name  \\\n",
       "0     308D2     2           NaN         25.0  10.8         Unknown   \n",
       "1     308D2     2           NaN         25.0  17.3         Unknown   \n",
       "\n",
       "  family_name corrected_genus    meanWD     height  Strata  \\\n",
       "0    Fabaceae         Unknown  0.702417  13.056120       2   \n",
       "1    Fabaceae         Unknown  0.702417  16.968661       2   \n",
       "\n",
       "                         LCC Bgy_Name Mun_Name          Pro_Name  \\\n",
       "0  Dipterocarp Forest Closed    Bunga  JABONGA  AGUSAN DEL NORTE   \n",
       "1  Dipterocarp Forest Closed    Bunga  JABONGA  AGUSAN DEL NORTE   \n",
       "\n",
       "   aboveground_biomass  aboveground_carbon_stock  \n",
       "0           608.932762                286.198398  \n",
       "1          1972.847878                927.238503  "
      ]
     },
     "execution_count": 97,
     "metadata": {},
     "output_type": "execute_result"
    }
   ],
   "source": [
    "trees.head(2)"
   ]
  }
 ],
 "metadata": {
  "kernelspec": {
   "display_name": "onebase",
   "language": "python",
   "name": "python3"
  },
  "language_info": {
   "codemirror_mode": {
    "name": "ipython",
    "version": 3
   },
   "file_extension": ".py",
   "mimetype": "text/x-python",
   "name": "python",
   "nbconvert_exporter": "python",
   "pygments_lexer": "ipython3",
   "version": "3.12.4"
  }
 },
 "nbformat": 4,
 "nbformat_minor": 2
}
