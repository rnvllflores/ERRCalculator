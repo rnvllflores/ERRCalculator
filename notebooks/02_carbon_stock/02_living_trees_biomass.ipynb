{
 "cells": [
  {
   "cell_type": "markdown",
   "metadata": {},
   "source": [
    "# Calculate biomass from Living trees and saplings"
   ]
  },
  {
   "cell_type": "markdown",
   "metadata": {},
   "source": [
    "# Imports and Set-up"
   ]
  },
  {
   "cell_type": "code",
   "execution_count": 109,
   "metadata": {},
   "outputs": [],
   "source": [
    "# Standard Imports\n",
    "import sys\n",
    "import pandas as pd\n",
    "import numpy as np\n",
    "\n",
    "# Google Cloud Imports\n",
    "import pandas_gbq"
   ]
  },
  {
   "cell_type": "code",
   "execution_count": 110,
   "metadata": {},
   "outputs": [],
   "source": [
    "# Util imports\n",
    "sys.path.append(\"../../\")  # include parent directory\n",
    "from src.settings import (\n",
    "    GCP_PROJ_ID,\n",
    "    CARBON_POOLS_OUTDIR,\n",
    "    CARBON_STOCK_OUTDIR,\n",
    "    TMP_OUT_DIR,\n",
    "    SPECIES_LOOKUP_CSV,\n",
    "    PC_PLOT_LOOKUP_CSV,\n",
    ")\n",
    "\n",
    "from src.biomass_equations import (\n",
    "    calculate_tree_height,\n",
    "    allometric_tropical_tree,\n",
    "    allometric_peatland_tree,\n",
    "    vmd0001_eq1,\n",
    "    vmd0001_eq2a,\n",
    "    vmd0001_eq2b,\n",
    "    vmd0001_eq5,\n",
    ")"
   ]
  },
  {
   "cell_type": "code",
   "execution_count": 111,
   "metadata": {},
   "outputs": [],
   "source": [
    "# Variables\n",
    "TREES_CSV = CARBON_POOLS_OUTDIR / \"trees.csv\"\n",
    "SAPLING_CSV = CARBON_POOLS_OUTDIR / \"saplings_ntv_litter.csv\"\n",
    "PLOT_INFO_CSV = CARBON_POOLS_OUTDIR / \"plot_info.csv\"\n",
    "TREES_SPECIES_CSV = TMP_OUT_DIR / \"trees_with_names.csv\"\n",
    "TREES_WD_CSV = TMP_OUT_DIR / \"trees_with_wood_density.csv\"\n",
    "\n",
    "# BigQuery Variables\n",
    "SRC_DATASET_ID = \"biomass_inventory\"\n",
    "DATASET_ID = \"carbon_stock\"\n",
    "IF_EXISTS = \"replace\"\n",
    "\n",
    "# Processing Conditions\n",
    "OUTLIER_REMOVAL = \"get_ave\"  # Options: \"get_ave\", \"drop_outliers\", \"eq_150\""
   ]
  },
  {
   "cell_type": "markdown",
   "metadata": {},
   "source": [
    "## Load data"
   ]
  },
  {
   "cell_type": "markdown",
   "metadata": {},
   "source": [
    "### Plot Data"
   ]
  },
  {
   "cell_type": "code",
   "execution_count": 112,
   "metadata": {},
   "outputs": [],
   "source": [
    "if PLOT_INFO_CSV.exists():\n",
    "    plot_info = pd.read_csv(PLOT_INFO_CSV)\n",
    "else:\n",
    "    query = f\"\"\"\n",
    "    SELECT\n",
    "        * \n",
    "    FROM {GCP_PROJ_ID}.{SRC_DATASET_ID}.plot_info\"\"\"\n",
    "\n",
    "    # Read the BigQuery table into a dataframe\n",
    "    plot_info = pandas_gbq.read_gbq(query, project_id=GCP_PROJ_ID)\n",
    "    plot_info.to_csv(PLOT_INFO_CSV, index=False)"
   ]
  },
  {
   "cell_type": "code",
   "execution_count": 113,
   "metadata": {},
   "outputs": [
    {
     "name": "stdout",
     "output_type": "stream",
     "text": [
      "<class 'pandas.core.frame.DataFrame'>\n",
      "RangeIndex: 671 entries, 0 to 670\n",
      "Data columns (total 31 columns):\n",
      " #   Column                     Non-Null Count  Dtype  \n",
      "---  ------                     --------------  -----  \n",
      " 0   unique_id                  671 non-null    object \n",
      " 1   data_recorder              671 non-null    object \n",
      " 2   team_no                    671 non-null    int64  \n",
      " 3   plot_code_nmbr             671 non-null    int64  \n",
      " 4   plot_type                  671 non-null    object \n",
      " 5   sub_plot                   671 non-null    object \n",
      " 6   yes_no                     671 non-null    object \n",
      " 7   sub_plot_shift             633 non-null    object \n",
      " 8   GPS_waypt                  633 non-null    float64\n",
      " 9   GPS_id                     633 non-null    float64\n",
      " 10  GPS                        576 non-null    object \n",
      " 11  GPS_latitude               576 non-null    float64\n",
      " 12  GPS_longitude              576 non-null    float64\n",
      " 13  GPS_altitude               576 non-null    float64\n",
      " 14  GPS_precision              576 non-null    float64\n",
      " 15  photo                      633 non-null    object \n",
      " 16  manual_reason              38 non-null     object \n",
      " 17  lc_type                    633 non-null    object \n",
      " 18  lc_class                   619 non-null    object \n",
      " 19  lc_class_other             12 non-null     object \n",
      " 20  disturbance_yesno          477 non-null    object \n",
      " 21  disturbance_type           148 non-null    object \n",
      " 22  disturbance_class          148 non-null    object \n",
      " 23  slope                      619 non-null    float64\n",
      " 24  canopy_avg_height          619 non-null    float64\n",
      " 25  canopy_cover               619 non-null    float64\n",
      " 26  access_reason              38 non-null     object \n",
      " 27  slope_radians              619 non-null    float64\n",
      " 28  corrected_plot_area_n2_m2  619 non-null    float64\n",
      " 29  corrected_plot_area_n3_m2  619 non-null    float64\n",
      " 30  corrected_plot_area_n4_m2  619 non-null    float64\n",
      "dtypes: float64(13), int64(2), object(16)\n",
      "memory usage: 162.6+ KB\n"
     ]
    }
   ],
   "source": [
    "plot_info.info()"
   ]
  },
  {
   "cell_type": "code",
   "execution_count": 114,
   "metadata": {},
   "outputs": [],
   "source": [
    "# get the slope adjusted area per nest per subplot and creaste dict for substitution\n",
    "plot_info_subset = plot_info[\n",
    "    [\n",
    "        \"unique_id\",\n",
    "        \"corrected_plot_area_n2_m2\",\n",
    "        \"corrected_plot_area_n3_m2\",\n",
    "        \"corrected_plot_area_n4_m2\",\n",
    "    ]\n",
    "].copy()\n",
    "plot_info_subset.dropna(inplace=True)\n",
    "plot_info_subset.drop_duplicates(subset=[\"unique_id\"], inplace=True)\n",
    "plot_info_subset_dict = plot_info_subset.to_dict(orient=\"records\")"
   ]
  },
  {
   "cell_type": "code",
   "execution_count": 115,
   "metadata": {},
   "outputs": [
    {
     "data": {
      "text/plain": [
       "{'unique_id': '308A1',\n",
       " 'corrected_plot_area_n2_m2': 79.86713923588653,\n",
       " 'corrected_plot_area_n3_m2': 718.8042531229787,\n",
       " 'corrected_plot_area_n4_m2': 1277.8742277741844}"
      ]
     },
     "execution_count": 115,
     "metadata": {},
     "output_type": "execute_result"
    }
   ],
   "source": [
    "plot_info_subset_dict[1]"
   ]
  },
  {
   "cell_type": "markdown",
   "metadata": {},
   "source": [
    "### Trees data"
   ]
  },
  {
   "cell_type": "code",
   "execution_count": 116,
   "metadata": {},
   "outputs": [],
   "source": [
    "if TREES_CSV.exists():\n",
    "    trees = pd.read_csv(TREES_CSV)\n",
    "else:\n",
    "    query = f\"\"\"\n",
    "    SELECT \n",
    "        * \n",
    "    FROM {GCP_PROJ_ID}.{SRC_DATASET_ID}.trees\"\"\"\n",
    "\n",
    "    # Read the BigQuery table into a dataframe\n",
    "    trees = pandas_gbq.read_gbq(query, project_id=GCP_PROJ_ID)\n",
    "    trees.to_csv(TREES_CSV, index=False)"
   ]
  },
  {
   "cell_type": "code",
   "execution_count": 117,
   "metadata": {},
   "outputs": [],
   "source": [
    "trees.rename(\n",
    "    columns={\"species_name\": \"code_species\", \"family_name\": \"code_family\"}, inplace=True\n",
    ")"
   ]
  },
  {
   "cell_type": "code",
   "execution_count": 118,
   "metadata": {},
   "outputs": [],
   "source": [
    "trees.loc[trees[\"code_species\"] == 999, \"code_species\"] = np.nan"
   ]
  },
  {
   "cell_type": "code",
   "execution_count": 119,
   "metadata": {},
   "outputs": [
    {
     "name": "stdout",
     "output_type": "stream",
     "text": [
      "<class 'pandas.core.frame.DataFrame'>\n",
      "RangeIndex: 6579 entries, 0 to 6578\n",
      "Data columns (total 5 columns):\n",
      " #   Column        Non-Null Count  Dtype  \n",
      "---  ------        --------------  -----  \n",
      " 0   unique_id     6579 non-null   object \n",
      " 1   nest          6579 non-null   int64  \n",
      " 2   code_species  4993 non-null   float64\n",
      " 3   code_family   1330 non-null   float64\n",
      " 4   DBH           6579 non-null   float64\n",
      "dtypes: float64(3), int64(1), object(1)\n",
      "memory usage: 257.1+ KB\n"
     ]
    }
   ],
   "source": [
    "trees.info()"
   ]
  },
  {
   "cell_type": "code",
   "execution_count": 120,
   "metadata": {},
   "outputs": [
    {
     "data": {
      "text/html": [
       "<div>\n",
       "<style scoped>\n",
       "    .dataframe tbody tr th:only-of-type {\n",
       "        vertical-align: middle;\n",
       "    }\n",
       "\n",
       "    .dataframe tbody tr th {\n",
       "        vertical-align: top;\n",
       "    }\n",
       "\n",
       "    .dataframe thead th {\n",
       "        text-align: right;\n",
       "    }\n",
       "</style>\n",
       "<table border=\"1\" class=\"dataframe\">\n",
       "  <thead>\n",
       "    <tr style=\"text-align: right;\">\n",
       "      <th></th>\n",
       "      <th>unique_id</th>\n",
       "      <th>nest</th>\n",
       "      <th>code_species</th>\n",
       "      <th>code_family</th>\n",
       "      <th>DBH</th>\n",
       "    </tr>\n",
       "  </thead>\n",
       "  <tbody>\n",
       "    <tr>\n",
       "      <th>0</th>\n",
       "      <td>308D1</td>\n",
       "      <td>2</td>\n",
       "      <td>NaN</td>\n",
       "      <td>25.0</td>\n",
       "      <td>10.8</td>\n",
       "    </tr>\n",
       "    <tr>\n",
       "      <th>1</th>\n",
       "      <td>308D1</td>\n",
       "      <td>2</td>\n",
       "      <td>NaN</td>\n",
       "      <td>25.0</td>\n",
       "      <td>17.3</td>\n",
       "    </tr>\n",
       "  </tbody>\n",
       "</table>\n",
       "</div>"
      ],
      "text/plain": [
       "  unique_id  nest  code_species  code_family   DBH\n",
       "0     308D1     2           NaN         25.0  10.8\n",
       "1     308D1     2           NaN         25.0  17.3"
      ]
     },
     "execution_count": 120,
     "metadata": {},
     "output_type": "execute_result"
    }
   ],
   "source": [
    "trees.head(2)"
   ]
  },
  {
   "cell_type": "markdown",
   "metadata": {},
   "source": [
    "### Saplings data"
   ]
  },
  {
   "cell_type": "code",
   "execution_count": 121,
   "metadata": {},
   "outputs": [],
   "source": [
    "if SAPLING_CSV.exists():\n",
    "    saplings = pd.read_csv(SAPLING_CSV)\n",
    "else:\n",
    "    query = f\"\"\"\n",
    "    SELECT \n",
    "        * \n",
    "    FROM {GCP_PROJ_ID}.{SRC_DATASET_ID}.saplings_ntv_litter\"\"\"\n",
    "\n",
    "    # Read the BigQuery table into a dataframe\n",
    "    saplings = pandas_gbq.read_gbq(query, project_id=GCP_PROJ_ID)\n",
    "    saplings.to_csv(SAPLING_CSV, index=False)"
   ]
  },
  {
   "cell_type": "code",
   "execution_count": 122,
   "metadata": {},
   "outputs": [
    {
     "name": "stdout",
     "output_type": "stream",
     "text": [
      "<class 'pandas.core.frame.DataFrame'>\n",
      "RangeIndex: 671 entries, 0 to 670\n",
      "Data columns (total 6 columns):\n",
      " #   Column                Non-Null Count  Dtype  \n",
      "---  ------                --------------  -----  \n",
      " 0   unique_id             671 non-null    object \n",
      " 1   count_saplings        589 non-null    float64\n",
      " 2   litter_bag_weight     619 non-null    float64\n",
      " 3   litter_sample_weight  619 non-null    float64\n",
      " 4   ntv_bag_weight        619 non-null    float64\n",
      " 5   ntv_sample_weight     619 non-null    float64\n",
      "dtypes: float64(5), object(1)\n",
      "memory usage: 31.6+ KB\n"
     ]
    }
   ],
   "source": [
    "saplings.info()"
   ]
  },
  {
   "cell_type": "markdown",
   "metadata": {},
   "source": [
    "### Tree species"
   ]
  },
  {
   "cell_type": "code",
   "execution_count": 123,
   "metadata": {},
   "outputs": [],
   "source": [
    "species = pd.read_csv(SPECIES_LOOKUP_CSV)"
   ]
  },
  {
   "cell_type": "code",
   "execution_count": 124,
   "metadata": {},
   "outputs": [
    {
     "name": "stdout",
     "output_type": "stream",
     "text": [
      "<class 'pandas.core.frame.DataFrame'>\n",
      "RangeIndex: 375 entries, 0 to 374\n",
      "Data columns (total 7 columns):\n",
      " #   Column           Non-Null Count  Dtype  \n",
      "---  ------           --------------  -----  \n",
      " 0   code_family      74 non-null     float64\n",
      " 1   family           74 non-null     object \n",
      " 2   scientific_name  375 non-null    object \n",
      " 3   local_name       375 non-null    object \n",
      " 4   code_species     375 non-null    int64  \n",
      " 5   corrected_genus  375 non-null    object \n",
      " 6   wood_density     375 non-null    float64\n",
      "dtypes: float64(2), int64(1), object(4)\n",
      "memory usage: 20.6+ KB\n"
     ]
    }
   ],
   "source": [
    "species.info()"
   ]
  },
  {
   "cell_type": "code",
   "execution_count": 125,
   "metadata": {},
   "outputs": [
    {
     "data": {
      "text/html": [
       "<div>\n",
       "<style scoped>\n",
       "    .dataframe tbody tr th:only-of-type {\n",
       "        vertical-align: middle;\n",
       "    }\n",
       "\n",
       "    .dataframe tbody tr th {\n",
       "        vertical-align: top;\n",
       "    }\n",
       "\n",
       "    .dataframe thead th {\n",
       "        text-align: right;\n",
       "    }\n",
       "</style>\n",
       "<table border=\"1\" class=\"dataframe\">\n",
       "  <thead>\n",
       "    <tr style=\"text-align: right;\">\n",
       "      <th></th>\n",
       "      <th>code_family</th>\n",
       "      <th>family</th>\n",
       "      <th>scientific_name</th>\n",
       "      <th>local_name</th>\n",
       "      <th>code_species</th>\n",
       "      <th>corrected_genus</th>\n",
       "      <th>wood_density</th>\n",
       "    </tr>\n",
       "  </thead>\n",
       "  <tbody>\n",
       "    <tr>\n",
       "      <th>0</th>\n",
       "      <td>999.0</td>\n",
       "      <td>Unknown</td>\n",
       "      <td>Litchi chinensis</td>\n",
       "      <td>Alupag - amo</td>\n",
       "      <td>193</td>\n",
       "      <td>Litchi</td>\n",
       "      <td>0.608902</td>\n",
       "    </tr>\n",
       "    <tr>\n",
       "      <th>1</th>\n",
       "      <td>1.0</td>\n",
       "      <td>Alangiaceae</td>\n",
       "      <td>Alangium javanicum</td>\n",
       "      <td>Putian</td>\n",
       "      <td>15</td>\n",
       "      <td>Alangium</td>\n",
       "      <td>0.608902</td>\n",
       "    </tr>\n",
       "  </tbody>\n",
       "</table>\n",
       "</div>"
      ],
      "text/plain": [
       "   code_family       family     scientific_name    local_name  code_species  \\\n",
       "0        999.0      Unknown    Litchi chinensis  Alupag - amo           193   \n",
       "1          1.0  Alangiaceae  Alangium javanicum        Putian            15   \n",
       "\n",
       "  corrected_genus  wood_density  \n",
       "0          Litchi      0.608902  \n",
       "1        Alangium      0.608902  "
      ]
     },
     "execution_count": 125,
     "metadata": {},
     "output_type": "execute_result"
    }
   ],
   "source": [
    "species.head(2)"
   ]
  },
  {
   "cell_type": "markdown",
   "metadata": {},
   "source": [
    "### Plot lookup"
   ]
  },
  {
   "cell_type": "code",
   "execution_count": 126,
   "metadata": {},
   "outputs": [],
   "source": [
    "plot_strata = pd.read_csv(PC_PLOT_LOOKUP_CSV)"
   ]
  },
  {
   "cell_type": "code",
   "execution_count": 127,
   "metadata": {},
   "outputs": [
    {
     "name": "stdout",
     "output_type": "stream",
     "text": [
      "<class 'pandas.core.frame.DataFrame'>\n",
      "RangeIndex: 3508 entries, 0 to 3507\n",
      "Data columns (total 2 columns):\n",
      " #   Column     Non-Null Count  Dtype \n",
      "---  ------     --------------  ----- \n",
      " 0   unique_id  3508 non-null   object\n",
      " 1   Strata     3508 non-null   int64 \n",
      "dtypes: int64(1), object(1)\n",
      "memory usage: 54.9+ KB\n"
     ]
    }
   ],
   "source": [
    "plot_strata.info()"
   ]
  },
  {
   "cell_type": "markdown",
   "metadata": {},
   "source": [
    "# Calculate tree biomass"
   ]
  },
  {
   "cell_type": "markdown",
   "metadata": {},
   "source": [
    "## Remove outliers\n"
   ]
  },
  {
   "cell_type": "code",
   "execution_count": 128,
   "metadata": {},
   "outputs": [],
   "source": [
    "if OUTLIER_REMOVAL == \"get_ave\":\n",
    "    mean_dbh = pd.DataFrame(\n",
    "        trees.groupby([\"unique_id\", \"nest\"])[\"DBH\"].mean()\n",
    "    ).reset_index()\n",
    "    trees.loc[trees[\"DBH\"] >= 150, \"DBH\"] = trees.loc[\n",
    "        trees[\"DBH\"] >= 150, \"unique_id\"\n",
    "    ].map(mean_dbh.set_index([\"unique_id\", \"nest\"])[\"DBH\"])\n",
    "\n",
    "elif OUTLIER_REMOVAL == \"drop_outliers\":\n",
    "    trees = trees[trees[\"DBH\"] < 150].copy()\n",
    "\n",
    "elif OUTLIER_REMOVAL == \"eq_150\":\n",
    "    trees.loc[trees[\"DBH\"] >= 150, \"DBH\"] = 150"
   ]
  },
  {
   "cell_type": "markdown",
   "metadata": {},
   "source": [
    "## Add species using lookup table"
   ]
  },
  {
   "cell_type": "code",
   "execution_count": 129,
   "metadata": {},
   "outputs": [],
   "source": [
    "species_dict = (\n",
    "    species[[\"scientific_name\", \"code_species\"]]\n",
    "    .set_index(\"code_species\")\n",
    "    .to_dict()[\"scientific_name\"]\n",
    ")"
   ]
  },
  {
   "cell_type": "code",
   "execution_count": 130,
   "metadata": {},
   "outputs": [],
   "source": [
    "trees[\"scientific_name\"] = trees[\"code_species\"].replace(species_dict)"
   ]
  },
  {
   "cell_type": "code",
   "execution_count": 131,
   "metadata": {},
   "outputs": [],
   "source": [
    "# create lookup table for family name and code\n",
    "species_family = species[[\"code_family\", \"family\"]].drop_duplicates()"
   ]
  },
  {
   "cell_type": "code",
   "execution_count": 132,
   "metadata": {},
   "outputs": [],
   "source": [
    "family_dict = species_family.set_index(\"code_family\").to_dict()[\"family\"]"
   ]
  },
  {
   "cell_type": "code",
   "execution_count": 133,
   "metadata": {},
   "outputs": [],
   "source": [
    "trees[\"family_name\"] = trees[\"code_family\"].replace(family_dict)"
   ]
  },
  {
   "cell_type": "code",
   "execution_count": 134,
   "metadata": {},
   "outputs": [
    {
     "data": {
      "text/html": [
       "<div>\n",
       "<style scoped>\n",
       "    .dataframe tbody tr th:only-of-type {\n",
       "        vertical-align: middle;\n",
       "    }\n",
       "\n",
       "    .dataframe tbody tr th {\n",
       "        vertical-align: top;\n",
       "    }\n",
       "\n",
       "    .dataframe thead th {\n",
       "        text-align: right;\n",
       "    }\n",
       "</style>\n",
       "<table border=\"1\" class=\"dataframe\">\n",
       "  <thead>\n",
       "    <tr style=\"text-align: right;\">\n",
       "      <th></th>\n",
       "      <th>unique_id</th>\n",
       "      <th>nest</th>\n",
       "      <th>code_species</th>\n",
       "      <th>code_family</th>\n",
       "      <th>DBH</th>\n",
       "      <th>scientific_name</th>\n",
       "      <th>family_name</th>\n",
       "    </tr>\n",
       "  </thead>\n",
       "  <tbody>\n",
       "    <tr>\n",
       "      <th>0</th>\n",
       "      <td>308D1</td>\n",
       "      <td>2</td>\n",
       "      <td>NaN</td>\n",
       "      <td>25.0</td>\n",
       "      <td>10.8</td>\n",
       "      <td>NaN</td>\n",
       "      <td>Fabaceae</td>\n",
       "    </tr>\n",
       "    <tr>\n",
       "      <th>1</th>\n",
       "      <td>308D1</td>\n",
       "      <td>2</td>\n",
       "      <td>NaN</td>\n",
       "      <td>25.0</td>\n",
       "      <td>17.3</td>\n",
       "      <td>NaN</td>\n",
       "      <td>Fabaceae</td>\n",
       "    </tr>\n",
       "    <tr>\n",
       "      <th>2</th>\n",
       "      <td>308D1</td>\n",
       "      <td>2</td>\n",
       "      <td>NaN</td>\n",
       "      <td>25.0</td>\n",
       "      <td>12.8</td>\n",
       "      <td>NaN</td>\n",
       "      <td>Fabaceae</td>\n",
       "    </tr>\n",
       "    <tr>\n",
       "      <th>3</th>\n",
       "      <td>308D1</td>\n",
       "      <td>2</td>\n",
       "      <td>NaN</td>\n",
       "      <td>25.0</td>\n",
       "      <td>28.1</td>\n",
       "      <td>NaN</td>\n",
       "      <td>Fabaceae</td>\n",
       "    </tr>\n",
       "    <tr>\n",
       "      <th>4</th>\n",
       "      <td>308A1</td>\n",
       "      <td>2</td>\n",
       "      <td>NaN</td>\n",
       "      <td>NaN</td>\n",
       "      <td>18.7</td>\n",
       "      <td>NaN</td>\n",
       "      <td>NaN</td>\n",
       "    </tr>\n",
       "  </tbody>\n",
       "</table>\n",
       "</div>"
      ],
      "text/plain": [
       "  unique_id  nest  code_species  code_family   DBH scientific_name family_name\n",
       "0     308D1     2           NaN         25.0  10.8             NaN    Fabaceae\n",
       "1     308D1     2           NaN         25.0  17.3             NaN    Fabaceae\n",
       "2     308D1     2           NaN         25.0  12.8             NaN    Fabaceae\n",
       "3     308D1     2           NaN         25.0  28.1             NaN    Fabaceae\n",
       "4     308A1     2           NaN          NaN  18.7             NaN         NaN"
      ]
     },
     "execution_count": 134,
     "metadata": {},
     "output_type": "execute_result"
    }
   ],
   "source": [
    "trees.head()"
   ]
  },
  {
   "cell_type": "code",
   "execution_count": 135,
   "metadata": {},
   "outputs": [
    {
     "data": {
      "text/html": [
       "<div>\n",
       "<style scoped>\n",
       "    .dataframe tbody tr th:only-of-type {\n",
       "        vertical-align: middle;\n",
       "    }\n",
       "\n",
       "    .dataframe tbody tr th {\n",
       "        vertical-align: top;\n",
       "    }\n",
       "\n",
       "    .dataframe thead th {\n",
       "        text-align: right;\n",
       "    }\n",
       "</style>\n",
       "<table border=\"1\" class=\"dataframe\">\n",
       "  <thead>\n",
       "    <tr style=\"text-align: right;\">\n",
       "      <th></th>\n",
       "      <th>unique_id</th>\n",
       "      <th>nest</th>\n",
       "      <th>code_species</th>\n",
       "      <th>code_family</th>\n",
       "      <th>DBH</th>\n",
       "      <th>scientific_name</th>\n",
       "      <th>family_name</th>\n",
       "    </tr>\n",
       "  </thead>\n",
       "  <tbody>\n",
       "    <tr>\n",
       "      <th>10</th>\n",
       "      <td>308C1</td>\n",
       "      <td>2</td>\n",
       "      <td>39.0</td>\n",
       "      <td>NaN</td>\n",
       "      <td>68.3</td>\n",
       "      <td>Artocarpus blancoi</td>\n",
       "      <td>NaN</td>\n",
       "    </tr>\n",
       "    <tr>\n",
       "      <th>30</th>\n",
       "      <td>22B1</td>\n",
       "      <td>2</td>\n",
       "      <td>323.0</td>\n",
       "      <td>NaN</td>\n",
       "      <td>14.1</td>\n",
       "      <td>Terminalia copelandi</td>\n",
       "      <td>NaN</td>\n",
       "    </tr>\n",
       "    <tr>\n",
       "      <th>31</th>\n",
       "      <td>22B1</td>\n",
       "      <td>2</td>\n",
       "      <td>323.0</td>\n",
       "      <td>NaN</td>\n",
       "      <td>12.6</td>\n",
       "      <td>Terminalia copelandi</td>\n",
       "      <td>NaN</td>\n",
       "    </tr>\n",
       "    <tr>\n",
       "      <th>33</th>\n",
       "      <td>22C1</td>\n",
       "      <td>2</td>\n",
       "      <td>313.0</td>\n",
       "      <td>NaN</td>\n",
       "      <td>26.0</td>\n",
       "      <td>Syzygium brevistylum</td>\n",
       "      <td>NaN</td>\n",
       "    </tr>\n",
       "    <tr>\n",
       "      <th>34</th>\n",
       "      <td>22C1</td>\n",
       "      <td>2</td>\n",
       "      <td>313.0</td>\n",
       "      <td>NaN</td>\n",
       "      <td>12.8</td>\n",
       "      <td>Syzygium brevistylum</td>\n",
       "      <td>NaN</td>\n",
       "    </tr>\n",
       "    <tr>\n",
       "      <th>...</th>\n",
       "      <td>...</td>\n",
       "      <td>...</td>\n",
       "      <td>...</td>\n",
       "      <td>...</td>\n",
       "      <td>...</td>\n",
       "      <td>...</td>\n",
       "      <td>...</td>\n",
       "    </tr>\n",
       "    <tr>\n",
       "      <th>6574</th>\n",
       "      <td>38C1</td>\n",
       "      <td>4</td>\n",
       "      <td>278.0</td>\n",
       "      <td>NaN</td>\n",
       "      <td>50.1</td>\n",
       "      <td>Shorea astylosa</td>\n",
       "      <td>NaN</td>\n",
       "    </tr>\n",
       "    <tr>\n",
       "      <th>6575</th>\n",
       "      <td>38C1</td>\n",
       "      <td>4</td>\n",
       "      <td>292.0</td>\n",
       "      <td>NaN</td>\n",
       "      <td>80.8</td>\n",
       "      <td>Shorea polysperma</td>\n",
       "      <td>NaN</td>\n",
       "    </tr>\n",
       "    <tr>\n",
       "      <th>6576</th>\n",
       "      <td>4B1</td>\n",
       "      <td>4</td>\n",
       "      <td>205.0</td>\n",
       "      <td>NaN</td>\n",
       "      <td>81.7</td>\n",
       "      <td>Macaranga bicolor</td>\n",
       "      <td>NaN</td>\n",
       "    </tr>\n",
       "    <tr>\n",
       "      <th>6577</th>\n",
       "      <td>4A1</td>\n",
       "      <td>4</td>\n",
       "      <td>289.0</td>\n",
       "      <td>NaN</td>\n",
       "      <td>84.7</td>\n",
       "      <td>Shorea palosapis</td>\n",
       "      <td>NaN</td>\n",
       "    </tr>\n",
       "    <tr>\n",
       "      <th>6578</th>\n",
       "      <td>4C1</td>\n",
       "      <td>4</td>\n",
       "      <td>287.0</td>\n",
       "      <td>NaN</td>\n",
       "      <td>86.7</td>\n",
       "      <td>Shorea negrosensis</td>\n",
       "      <td>NaN</td>\n",
       "    </tr>\n",
       "  </tbody>\n",
       "</table>\n",
       "<p>4587 rows × 7 columns</p>\n",
       "</div>"
      ],
      "text/plain": [
       "     unique_id  nest  code_species  code_family   DBH       scientific_name  \\\n",
       "10       308C1     2          39.0          NaN  68.3    Artocarpus blancoi   \n",
       "30        22B1     2         323.0          NaN  14.1  Terminalia copelandi   \n",
       "31        22B1     2         323.0          NaN  12.6  Terminalia copelandi   \n",
       "33        22C1     2         313.0          NaN  26.0  Syzygium brevistylum   \n",
       "34        22C1     2         313.0          NaN  12.8  Syzygium brevistylum   \n",
       "...        ...   ...           ...          ...   ...                   ...   \n",
       "6574      38C1     4         278.0          NaN  50.1       Shorea astylosa   \n",
       "6575      38C1     4         292.0          NaN  80.8     Shorea polysperma   \n",
       "6576       4B1     4         205.0          NaN  81.7     Macaranga bicolor   \n",
       "6577       4A1     4         289.0          NaN  84.7      Shorea palosapis   \n",
       "6578       4C1     4         287.0          NaN  86.7    Shorea negrosensis   \n",
       "\n",
       "     family_name  \n",
       "10           NaN  \n",
       "30           NaN  \n",
       "31           NaN  \n",
       "33           NaN  \n",
       "34           NaN  \n",
       "...          ...  \n",
       "6574         NaN  \n",
       "6575         NaN  \n",
       "6576         NaN  \n",
       "6577         NaN  \n",
       "6578         NaN  \n",
       "\n",
       "[4587 rows x 7 columns]"
      ]
     },
     "execution_count": 135,
     "metadata": {},
     "output_type": "execute_result"
    }
   ],
   "source": [
    "trees[(trees.scientific_name.notnull()) & (trees.code_family.isnull())]"
   ]
  },
  {
   "cell_type": "code",
   "execution_count": 136,
   "metadata": {},
   "outputs": [
    {
     "name": "stdout",
     "output_type": "stream",
     "text": [
      "<class 'pandas.core.frame.DataFrame'>\n",
      "RangeIndex: 6579 entries, 0 to 6578\n",
      "Data columns (total 7 columns):\n",
      " #   Column           Non-Null Count  Dtype  \n",
      "---  ------           --------------  -----  \n",
      " 0   unique_id        6579 non-null   object \n",
      " 1   nest             6579 non-null   int64  \n",
      " 2   code_species     4993 non-null   float64\n",
      " 3   code_family      1330 non-null   float64\n",
      " 4   DBH              6551 non-null   float64\n",
      " 5   scientific_name  4993 non-null   object \n",
      " 6   family_name      1330 non-null   object \n",
      "dtypes: float64(3), int64(1), object(3)\n",
      "memory usage: 359.9+ KB\n"
     ]
    }
   ],
   "source": [
    "trees.info()"
   ]
  },
  {
   "cell_type": "code",
   "execution_count": 137,
   "metadata": {},
   "outputs": [],
   "source": [
    "trees.to_csv(TREES_SPECIES_CSV, index=False)"
   ]
  },
  {
   "cell_type": "markdown",
   "metadata": {},
   "source": [
    "## Get genus and wood density using BIOMASS R library\n",
    "\n",
    "Wood density was generated using [BIOMASS](https://www.rdocumentation.org/packages/BIOMASS/versions/2.1.11) library from R. For further information, "
   ]
  },
  {
   "cell_type": "code",
   "execution_count": 138,
   "metadata": {},
   "outputs": [],
   "source": [
    "if not TREES_WD_CSV.exists():\n",
    "    !Rscript {SRC_DIR}/get_wood_density.R {TREES_SPECIES_CSV} {TREES_WD_CSV}"
   ]
  },
  {
   "cell_type": "code",
   "execution_count": 139,
   "metadata": {},
   "outputs": [],
   "source": [
    "trees = pd.read_csv(TREES_WD_CSV)"
   ]
  },
  {
   "cell_type": "code",
   "execution_count": 140,
   "metadata": {},
   "outputs": [
    {
     "data": {
      "text/html": [
       "<div>\n",
       "<style scoped>\n",
       "    .dataframe tbody tr th:only-of-type {\n",
       "        vertical-align: middle;\n",
       "    }\n",
       "\n",
       "    .dataframe tbody tr th {\n",
       "        vertical-align: top;\n",
       "    }\n",
       "\n",
       "    .dataframe thead th {\n",
       "        text-align: right;\n",
       "    }\n",
       "</style>\n",
       "<table border=\"1\" class=\"dataframe\">\n",
       "  <thead>\n",
       "    <tr style=\"text-align: right;\">\n",
       "      <th></th>\n",
       "      <th>unique_id</th>\n",
       "      <th>nest</th>\n",
       "      <th>code_species</th>\n",
       "      <th>code_family</th>\n",
       "      <th>DBH</th>\n",
       "      <th>scientific_name</th>\n",
       "      <th>family_name</th>\n",
       "      <th>corrected_genus</th>\n",
       "      <th>wood_density</th>\n",
       "    </tr>\n",
       "  </thead>\n",
       "  <tbody>\n",
       "    <tr>\n",
       "      <th>0</th>\n",
       "      <td>308D1</td>\n",
       "      <td>2</td>\n",
       "      <td>NaN</td>\n",
       "      <td>25.0</td>\n",
       "      <td>10.8</td>\n",
       "      <td>NaN</td>\n",
       "      <td>Fabaceae</td>\n",
       "      <td>NaN</td>\n",
       "      <td>0.702417</td>\n",
       "    </tr>\n",
       "    <tr>\n",
       "      <th>1</th>\n",
       "      <td>308D1</td>\n",
       "      <td>2</td>\n",
       "      <td>NaN</td>\n",
       "      <td>25.0</td>\n",
       "      <td>17.3</td>\n",
       "      <td>NaN</td>\n",
       "      <td>Fabaceae</td>\n",
       "      <td>NaN</td>\n",
       "      <td>0.702417</td>\n",
       "    </tr>\n",
       "  </tbody>\n",
       "</table>\n",
       "</div>"
      ],
      "text/plain": [
       "  unique_id  nest  code_species  code_family   DBH scientific_name  \\\n",
       "0     308D1     2           NaN         25.0  10.8             NaN   \n",
       "1     308D1     2           NaN         25.0  17.3             NaN   \n",
       "\n",
       "  family_name corrected_genus  wood_density  \n",
       "0    Fabaceae             NaN      0.702417  \n",
       "1    Fabaceae             NaN      0.702417  "
      ]
     },
     "execution_count": 140,
     "metadata": {},
     "output_type": "execute_result"
    }
   ],
   "source": [
    "trees.head(2)"
   ]
  },
  {
   "cell_type": "code",
   "execution_count": 141,
   "metadata": {},
   "outputs": [
    {
     "name": "stdout",
     "output_type": "stream",
     "text": [
      "<class 'pandas.core.frame.DataFrame'>\n",
      "RangeIndex: 6579 entries, 0 to 6578\n",
      "Data columns (total 9 columns):\n",
      " #   Column           Non-Null Count  Dtype  \n",
      "---  ------           --------------  -----  \n",
      " 0   unique_id        6579 non-null   object \n",
      " 1   nest             6579 non-null   int64  \n",
      " 2   code_species     4993 non-null   float64\n",
      " 3   code_family      1330 non-null   float64\n",
      " 4   DBH              6579 non-null   float64\n",
      " 5   scientific_name  4993 non-null   object \n",
      " 6   family_name      1330 non-null   object \n",
      " 7   corrected_genus  4993 non-null   object \n",
      " 8   wood_density     6579 non-null   float64\n",
      "dtypes: float64(4), int64(1), object(4)\n",
      "memory usage: 462.7+ KB\n"
     ]
    }
   ],
   "source": [
    "trees.info()"
   ]
  },
  {
   "cell_type": "markdown",
   "metadata": {},
   "source": [
    "## Estimate tree height"
   ]
  },
  {
   "cell_type": "code",
   "execution_count": 142,
   "metadata": {},
   "outputs": [],
   "source": [
    "trees = calculate_tree_height(trees, \"DBH\")"
   ]
  },
  {
   "cell_type": "code",
   "execution_count": 143,
   "metadata": {},
   "outputs": [
    {
     "data": {
      "text/html": [
       "<div>\n",
       "<style scoped>\n",
       "    .dataframe tbody tr th:only-of-type {\n",
       "        vertical-align: middle;\n",
       "    }\n",
       "\n",
       "    .dataframe tbody tr th {\n",
       "        vertical-align: top;\n",
       "    }\n",
       "\n",
       "    .dataframe thead th {\n",
       "        text-align: right;\n",
       "    }\n",
       "</style>\n",
       "<table border=\"1\" class=\"dataframe\">\n",
       "  <thead>\n",
       "    <tr style=\"text-align: right;\">\n",
       "      <th></th>\n",
       "      <th>unique_id</th>\n",
       "      <th>nest</th>\n",
       "      <th>code_species</th>\n",
       "      <th>code_family</th>\n",
       "      <th>DBH</th>\n",
       "      <th>scientific_name</th>\n",
       "      <th>family_name</th>\n",
       "      <th>corrected_genus</th>\n",
       "      <th>wood_density</th>\n",
       "      <th>height</th>\n",
       "    </tr>\n",
       "  </thead>\n",
       "  <tbody>\n",
       "    <tr>\n",
       "      <th>0</th>\n",
       "      <td>308D1</td>\n",
       "      <td>2</td>\n",
       "      <td>NaN</td>\n",
       "      <td>25.0</td>\n",
       "      <td>10.8</td>\n",
       "      <td>NaN</td>\n",
       "      <td>Fabaceae</td>\n",
       "      <td>NaN</td>\n",
       "      <td>0.702417</td>\n",
       "      <td>13.056120</td>\n",
       "    </tr>\n",
       "    <tr>\n",
       "      <th>1</th>\n",
       "      <td>308D1</td>\n",
       "      <td>2</td>\n",
       "      <td>NaN</td>\n",
       "      <td>25.0</td>\n",
       "      <td>17.3</td>\n",
       "      <td>NaN</td>\n",
       "      <td>Fabaceae</td>\n",
       "      <td>NaN</td>\n",
       "      <td>0.702417</td>\n",
       "      <td>16.968661</td>\n",
       "    </tr>\n",
       "  </tbody>\n",
       "</table>\n",
       "</div>"
      ],
      "text/plain": [
       "  unique_id  nest  code_species  code_family   DBH scientific_name  \\\n",
       "0     308D1     2           NaN         25.0  10.8             NaN   \n",
       "1     308D1     2           NaN         25.0  17.3             NaN   \n",
       "\n",
       "  family_name corrected_genus  wood_density     height  \n",
       "0    Fabaceae             NaN      0.702417  13.056120  \n",
       "1    Fabaceae             NaN      0.702417  16.968661  "
      ]
     },
     "execution_count": 143,
     "metadata": {},
     "output_type": "execute_result"
    }
   ],
   "source": [
    "trees.head(2)"
   ]
  },
  {
   "cell_type": "markdown",
   "metadata": {},
   "source": [
    "## Add strata to trees\n"
   ]
  },
  {
   "cell_type": "code",
   "execution_count": 144,
   "metadata": {},
   "outputs": [],
   "source": [
    "trees = trees.merge(plot_strata[[\"unique_id\", \"Strata\"]], on=\"unique_id\", how=\"left\")"
   ]
  },
  {
   "cell_type": "code",
   "execution_count": 145,
   "metadata": {},
   "outputs": [
    {
     "data": {
      "text/html": [
       "<div>\n",
       "<style scoped>\n",
       "    .dataframe tbody tr th:only-of-type {\n",
       "        vertical-align: middle;\n",
       "    }\n",
       "\n",
       "    .dataframe tbody tr th {\n",
       "        vertical-align: top;\n",
       "    }\n",
       "\n",
       "    .dataframe thead th {\n",
       "        text-align: right;\n",
       "    }\n",
       "</style>\n",
       "<table border=\"1\" class=\"dataframe\">\n",
       "  <thead>\n",
       "    <tr style=\"text-align: right;\">\n",
       "      <th></th>\n",
       "      <th>unique_id</th>\n",
       "      <th>nest</th>\n",
       "      <th>code_species</th>\n",
       "      <th>code_family</th>\n",
       "      <th>DBH</th>\n",
       "      <th>scientific_name</th>\n",
       "      <th>family_name</th>\n",
       "      <th>corrected_genus</th>\n",
       "      <th>wood_density</th>\n",
       "      <th>height</th>\n",
       "      <th>Strata</th>\n",
       "    </tr>\n",
       "  </thead>\n",
       "  <tbody>\n",
       "    <tr>\n",
       "      <th>0</th>\n",
       "      <td>308D1</td>\n",
       "      <td>2</td>\n",
       "      <td>NaN</td>\n",
       "      <td>25.0</td>\n",
       "      <td>10.8</td>\n",
       "      <td>NaN</td>\n",
       "      <td>Fabaceae</td>\n",
       "      <td>NaN</td>\n",
       "      <td>0.702417</td>\n",
       "      <td>13.056120</td>\n",
       "      <td>2</td>\n",
       "    </tr>\n",
       "    <tr>\n",
       "      <th>1</th>\n",
       "      <td>308D1</td>\n",
       "      <td>2</td>\n",
       "      <td>NaN</td>\n",
       "      <td>25.0</td>\n",
       "      <td>17.3</td>\n",
       "      <td>NaN</td>\n",
       "      <td>Fabaceae</td>\n",
       "      <td>NaN</td>\n",
       "      <td>0.702417</td>\n",
       "      <td>16.968661</td>\n",
       "      <td>2</td>\n",
       "    </tr>\n",
       "  </tbody>\n",
       "</table>\n",
       "</div>"
      ],
      "text/plain": [
       "  unique_id  nest  code_species  code_family   DBH scientific_name  \\\n",
       "0     308D1     2           NaN         25.0  10.8             NaN   \n",
       "1     308D1     2           NaN         25.0  17.3             NaN   \n",
       "\n",
       "  family_name corrected_genus  wood_density     height  Strata  \n",
       "0    Fabaceae             NaN      0.702417  13.056120       2  \n",
       "1    Fabaceae             NaN      0.702417  16.968661       2  "
      ]
     },
     "execution_count": 145,
     "metadata": {},
     "output_type": "execute_result"
    }
   ],
   "source": [
    "trees.head(2)"
   ]
  },
  {
   "cell_type": "code",
   "execution_count": 146,
   "metadata": {},
   "outputs": [
    {
     "name": "stdout",
     "output_type": "stream",
     "text": [
      "<class 'pandas.core.frame.DataFrame'>\n",
      "RangeIndex: 6579 entries, 0 to 6578\n",
      "Data columns (total 11 columns):\n",
      " #   Column           Non-Null Count  Dtype  \n",
      "---  ------           --------------  -----  \n",
      " 0   unique_id        6579 non-null   object \n",
      " 1   nest             6579 non-null   int64  \n",
      " 2   code_species     4993 non-null   float64\n",
      " 3   code_family      1330 non-null   float64\n",
      " 4   DBH              6579 non-null   float64\n",
      " 5   scientific_name  4993 non-null   object \n",
      " 6   family_name      1330 non-null   object \n",
      " 7   corrected_genus  4993 non-null   object \n",
      " 8   wood_density     6579 non-null   float64\n",
      " 9   height           6579 non-null   float64\n",
      " 10  Strata           6579 non-null   int64  \n",
      "dtypes: float64(5), int64(2), object(4)\n",
      "memory usage: 565.5+ KB\n"
     ]
    }
   ],
   "source": [
    "trees.info()"
   ]
  },
  {
   "cell_type": "markdown",
   "metadata": {},
   "source": [
    "## Calculate biomass and carbon stock for tree AGB "
   ]
  },
  {
   "cell_type": "code",
   "execution_count": 147,
   "metadata": {},
   "outputs": [
    {
     "data": {
      "text/plain": [
       "array([1, 2, 6, 5, 4])"
      ]
     },
     "execution_count": 147,
     "metadata": {},
     "output_type": "execute_result"
    }
   ],
   "source": [
    "plot_strata.Strata.unique()"
   ]
  },
  {
   "cell_type": "code",
   "execution_count": 148,
   "metadata": {},
   "outputs": [],
   "source": [
    "tropical_trees = trees.loc[trees[\"Strata\"].isin([1, 2, 3])].copy()"
   ]
  },
  {
   "cell_type": "code",
   "execution_count": 149,
   "metadata": {},
   "outputs": [],
   "source": [
    "tropical_trees = allometric_tropical_tree(\n",
    "    tropical_trees, \"wood_density\", \"DBH\", \"height\"\n",
    ")"
   ]
  },
  {
   "cell_type": "code",
   "execution_count": 150,
   "metadata": {},
   "outputs": [],
   "source": [
    "peatland_trees = trees.loc[trees[\"Strata\"].isin([4, 5, 6])].copy()"
   ]
  },
  {
   "cell_type": "code",
   "execution_count": 151,
   "metadata": {},
   "outputs": [],
   "source": [
    "peatland_trees = allometric_peatland_tree(peatland_trees, \"DBH\")"
   ]
  },
  {
   "cell_type": "code",
   "execution_count": 152,
   "metadata": {},
   "outputs": [],
   "source": [
    "trees = pd.concat([tropical_trees, peatland_trees])"
   ]
  },
  {
   "cell_type": "code",
   "execution_count": 153,
   "metadata": {},
   "outputs": [
    {
     "data": {
      "text/html": [
       "<div>\n",
       "<style scoped>\n",
       "    .dataframe tbody tr th:only-of-type {\n",
       "        vertical-align: middle;\n",
       "    }\n",
       "\n",
       "    .dataframe tbody tr th {\n",
       "        vertical-align: top;\n",
       "    }\n",
       "\n",
       "    .dataframe thead th {\n",
       "        text-align: right;\n",
       "    }\n",
       "</style>\n",
       "<table border=\"1\" class=\"dataframe\">\n",
       "  <thead>\n",
       "    <tr style=\"text-align: right;\">\n",
       "      <th></th>\n",
       "      <th>unique_id</th>\n",
       "      <th>nest</th>\n",
       "      <th>code_species</th>\n",
       "      <th>code_family</th>\n",
       "      <th>DBH</th>\n",
       "      <th>scientific_name</th>\n",
       "      <th>family_name</th>\n",
       "      <th>corrected_genus</th>\n",
       "      <th>wood_density</th>\n",
       "      <th>height</th>\n",
       "      <th>Strata</th>\n",
       "      <th>aboveground_biomass</th>\n",
       "    </tr>\n",
       "  </thead>\n",
       "  <tbody>\n",
       "    <tr>\n",
       "      <th>0</th>\n",
       "      <td>308D1</td>\n",
       "      <td>2</td>\n",
       "      <td>NaN</td>\n",
       "      <td>25.0</td>\n",
       "      <td>10.8</td>\n",
       "      <td>NaN</td>\n",
       "      <td>Fabaceae</td>\n",
       "      <td>NaN</td>\n",
       "      <td>0.702417</td>\n",
       "      <td>13.056120</td>\n",
       "      <td>2</td>\n",
       "      <td>60.893276</td>\n",
       "    </tr>\n",
       "    <tr>\n",
       "      <th>1</th>\n",
       "      <td>308D1</td>\n",
       "      <td>2</td>\n",
       "      <td>NaN</td>\n",
       "      <td>25.0</td>\n",
       "      <td>17.3</td>\n",
       "      <td>NaN</td>\n",
       "      <td>Fabaceae</td>\n",
       "      <td>NaN</td>\n",
       "      <td>0.702417</td>\n",
       "      <td>16.968661</td>\n",
       "      <td>2</td>\n",
       "      <td>197.284788</td>\n",
       "    </tr>\n",
       "    <tr>\n",
       "      <th>2</th>\n",
       "      <td>308D1</td>\n",
       "      <td>2</td>\n",
       "      <td>NaN</td>\n",
       "      <td>25.0</td>\n",
       "      <td>12.8</td>\n",
       "      <td>NaN</td>\n",
       "      <td>Fabaceae</td>\n",
       "      <td>NaN</td>\n",
       "      <td>0.702417</td>\n",
       "      <td>14.339430</td>\n",
       "      <td>2</td>\n",
       "      <td>92.969509</td>\n",
       "    </tr>\n",
       "    <tr>\n",
       "      <th>3</th>\n",
       "      <td>308D1</td>\n",
       "      <td>2</td>\n",
       "      <td>NaN</td>\n",
       "      <td>25.0</td>\n",
       "      <td>28.1</td>\n",
       "      <td>NaN</td>\n",
       "      <td>Fabaceae</td>\n",
       "      <td>NaN</td>\n",
       "      <td>0.702417</td>\n",
       "      <td>22.040406</td>\n",
       "      <td>2</td>\n",
       "      <td>656.369843</td>\n",
       "    </tr>\n",
       "    <tr>\n",
       "      <th>4</th>\n",
       "      <td>308A1</td>\n",
       "      <td>2</td>\n",
       "      <td>NaN</td>\n",
       "      <td>NaN</td>\n",
       "      <td>18.7</td>\n",
       "      <td>NaN</td>\n",
       "      <td>NaN</td>\n",
       "      <td>NaN</td>\n",
       "      <td>0.627210</td>\n",
       "      <td>17.719095</td>\n",
       "      <td>2</td>\n",
       "      <td>214.488489</td>\n",
       "    </tr>\n",
       "  </tbody>\n",
       "</table>\n",
       "</div>"
      ],
      "text/plain": [
       "  unique_id  nest  code_species  code_family   DBH scientific_name  \\\n",
       "0     308D1     2           NaN         25.0  10.8             NaN   \n",
       "1     308D1     2           NaN         25.0  17.3             NaN   \n",
       "2     308D1     2           NaN         25.0  12.8             NaN   \n",
       "3     308D1     2           NaN         25.0  28.1             NaN   \n",
       "4     308A1     2           NaN          NaN  18.7             NaN   \n",
       "\n",
       "  family_name corrected_genus  wood_density     height  Strata  \\\n",
       "0    Fabaceae             NaN      0.702417  13.056120       2   \n",
       "1    Fabaceae             NaN      0.702417  16.968661       2   \n",
       "2    Fabaceae             NaN      0.702417  14.339430       2   \n",
       "3    Fabaceae             NaN      0.702417  22.040406       2   \n",
       "4         NaN             NaN      0.627210  17.719095       2   \n",
       "\n",
       "   aboveground_biomass  \n",
       "0            60.893276  \n",
       "1           197.284788  \n",
       "2            92.969509  \n",
       "3           656.369843  \n",
       "4           214.488489  "
      ]
     },
     "execution_count": 153,
     "metadata": {},
     "output_type": "execute_result"
    }
   ],
   "source": [
    "trees.head()"
   ]
  },
  {
   "cell_type": "code",
   "execution_count": 155,
   "metadata": {},
   "outputs": [],
   "source": [
    "# convert aboveground biomass to tonnes\n",
    "trees[\"aboveground_biomass\"] = trees[\"aboveground_biomass\"] / 1000"
   ]
  },
  {
   "cell_type": "code",
   "execution_count": 156,
   "metadata": {},
   "outputs": [],
   "source": [
    "trees = vmd0001_eq1(trees, 0.47)"
   ]
  },
  {
   "cell_type": "code",
   "execution_count": 157,
   "metadata": {},
   "outputs": [
    {
     "data": {
      "text/html": [
       "<div>\n",
       "<style scoped>\n",
       "    .dataframe tbody tr th:only-of-type {\n",
       "        vertical-align: middle;\n",
       "    }\n",
       "\n",
       "    .dataframe tbody tr th {\n",
       "        vertical-align: top;\n",
       "    }\n",
       "\n",
       "    .dataframe thead th {\n",
       "        text-align: right;\n",
       "    }\n",
       "</style>\n",
       "<table border=\"1\" class=\"dataframe\">\n",
       "  <thead>\n",
       "    <tr style=\"text-align: right;\">\n",
       "      <th></th>\n",
       "      <th>unique_id</th>\n",
       "      <th>nest</th>\n",
       "      <th>code_species</th>\n",
       "      <th>code_family</th>\n",
       "      <th>DBH</th>\n",
       "      <th>scientific_name</th>\n",
       "      <th>family_name</th>\n",
       "      <th>corrected_genus</th>\n",
       "      <th>wood_density</th>\n",
       "      <th>height</th>\n",
       "      <th>Strata</th>\n",
       "      <th>aboveground_biomass</th>\n",
       "      <th>aboveground_carbon_tonnes</th>\n",
       "    </tr>\n",
       "  </thead>\n",
       "  <tbody>\n",
       "    <tr>\n",
       "      <th>0</th>\n",
       "      <td>308D1</td>\n",
       "      <td>2</td>\n",
       "      <td>NaN</td>\n",
       "      <td>25.0</td>\n",
       "      <td>10.8</td>\n",
       "      <td>NaN</td>\n",
       "      <td>Fabaceae</td>\n",
       "      <td>NaN</td>\n",
       "      <td>0.702417</td>\n",
       "      <td>13.056120</td>\n",
       "      <td>2</td>\n",
       "      <td>0.060893</td>\n",
       "      <td>0.028620</td>\n",
       "    </tr>\n",
       "    <tr>\n",
       "      <th>1</th>\n",
       "      <td>308D1</td>\n",
       "      <td>2</td>\n",
       "      <td>NaN</td>\n",
       "      <td>25.0</td>\n",
       "      <td>17.3</td>\n",
       "      <td>NaN</td>\n",
       "      <td>Fabaceae</td>\n",
       "      <td>NaN</td>\n",
       "      <td>0.702417</td>\n",
       "      <td>16.968661</td>\n",
       "      <td>2</td>\n",
       "      <td>0.197285</td>\n",
       "      <td>0.092724</td>\n",
       "    </tr>\n",
       "  </tbody>\n",
       "</table>\n",
       "</div>"
      ],
      "text/plain": [
       "  unique_id  nest  code_species  code_family   DBH scientific_name  \\\n",
       "0     308D1     2           NaN         25.0  10.8             NaN   \n",
       "1     308D1     2           NaN         25.0  17.3             NaN   \n",
       "\n",
       "  family_name corrected_genus  wood_density     height  Strata  \\\n",
       "0    Fabaceae             NaN      0.702417  13.056120       2   \n",
       "1    Fabaceae             NaN      0.702417  16.968661       2   \n",
       "\n",
       "   aboveground_biomass  aboveground_carbon_tonnes  \n",
       "0             0.060893                   0.028620  \n",
       "1             0.197285                   0.092724  "
      ]
     },
     "execution_count": 157,
     "metadata": {},
     "output_type": "execute_result"
    }
   ],
   "source": [
    "trees.head(2)"
   ]
  },
  {
   "cell_type": "markdown",
   "metadata": {},
   "source": [
    "## Calculate below ground biomass"
   ]
  },
  {
   "cell_type": "code",
   "execution_count": 158,
   "metadata": {},
   "outputs": [],
   "source": [
    "trees = vmd0001_eq5(\n",
    "    trees,\n",
    ")"
   ]
  },
  {
   "cell_type": "code",
   "execution_count": 159,
   "metadata": {},
   "outputs": [
    {
     "data": {
      "text/html": [
       "<div>\n",
       "<style scoped>\n",
       "    .dataframe tbody tr th:only-of-type {\n",
       "        vertical-align: middle;\n",
       "    }\n",
       "\n",
       "    .dataframe tbody tr th {\n",
       "        vertical-align: top;\n",
       "    }\n",
       "\n",
       "    .dataframe thead th {\n",
       "        text-align: right;\n",
       "    }\n",
       "</style>\n",
       "<table border=\"1\" class=\"dataframe\">\n",
       "  <thead>\n",
       "    <tr style=\"text-align: right;\">\n",
       "      <th></th>\n",
       "      <th>unique_id</th>\n",
       "      <th>nest</th>\n",
       "      <th>code_species</th>\n",
       "      <th>code_family</th>\n",
       "      <th>DBH</th>\n",
       "      <th>scientific_name</th>\n",
       "      <th>family_name</th>\n",
       "      <th>corrected_genus</th>\n",
       "      <th>wood_density</th>\n",
       "      <th>height</th>\n",
       "      <th>Strata</th>\n",
       "      <th>aboveground_biomass</th>\n",
       "      <th>aboveground_carbon_tonnes</th>\n",
       "      <th>belowground_carbon_tonnes</th>\n",
       "    </tr>\n",
       "  </thead>\n",
       "  <tbody>\n",
       "    <tr>\n",
       "      <th>0</th>\n",
       "      <td>308D1</td>\n",
       "      <td>2</td>\n",
       "      <td>NaN</td>\n",
       "      <td>25.0</td>\n",
       "      <td>10.8</td>\n",
       "      <td>NaN</td>\n",
       "      <td>Fabaceae</td>\n",
       "      <td>NaN</td>\n",
       "      <td>0.702417</td>\n",
       "      <td>13.056120</td>\n",
       "      <td>2</td>\n",
       "      <td>0.060893</td>\n",
       "      <td>0.028620</td>\n",
       "      <td>0.010303</td>\n",
       "    </tr>\n",
       "    <tr>\n",
       "      <th>1</th>\n",
       "      <td>308D1</td>\n",
       "      <td>2</td>\n",
       "      <td>NaN</td>\n",
       "      <td>25.0</td>\n",
       "      <td>17.3</td>\n",
       "      <td>NaN</td>\n",
       "      <td>Fabaceae</td>\n",
       "      <td>NaN</td>\n",
       "      <td>0.702417</td>\n",
       "      <td>16.968661</td>\n",
       "      <td>2</td>\n",
       "      <td>0.197285</td>\n",
       "      <td>0.092724</td>\n",
       "      <td>0.033381</td>\n",
       "    </tr>\n",
       "  </tbody>\n",
       "</table>\n",
       "</div>"
      ],
      "text/plain": [
       "  unique_id  nest  code_species  code_family   DBH scientific_name  \\\n",
       "0     308D1     2           NaN         25.0  10.8             NaN   \n",
       "1     308D1     2           NaN         25.0  17.3             NaN   \n",
       "\n",
       "  family_name corrected_genus  wood_density     height  Strata  \\\n",
       "0    Fabaceae             NaN      0.702417  13.056120       2   \n",
       "1    Fabaceae             NaN      0.702417  16.968661       2   \n",
       "\n",
       "   aboveground_biomass  aboveground_carbon_tonnes  belowground_carbon_tonnes  \n",
       "0             0.060893                   0.028620                   0.010303  \n",
       "1             0.197285                   0.092724                   0.033381  "
      ]
     },
     "execution_count": 159,
     "metadata": {},
     "output_type": "execute_result"
    }
   ],
   "source": [
    "trees.head(2)"
   ]
  },
  {
   "cell_type": "markdown",
   "metadata": {},
   "source": [
    "## Calculate biomass sum per plot"
   ]
  },
  {
   "cell_type": "markdown",
   "metadata": {},
   "source": [
    "### AGB"
   ]
  },
  {
   "cell_type": "code",
   "execution_count": 160,
   "metadata": {},
   "outputs": [],
   "source": [
    "trees_agg_agb = vmd0001_eq2a(trees, [\"unique_id\", \"nest\"], \"aboveground_carbon_tonnes\")"
   ]
  },
  {
   "cell_type": "code",
   "execution_count": 161,
   "metadata": {},
   "outputs": [],
   "source": [
    "# add the correct area using the unique_id and nest number\n",
    "trees_agg_agb[\"corrected_area_m2\"] = trees_agg_agb.apply(\n",
    "    lambda x: next(\n",
    "        (\n",
    "            item[\"corrected_plot_area_n\" + str(x[\"nest\"]) + \"_m2\"]\n",
    "            for item in plot_info_subset_dict\n",
    "            if item[\"unique_id\"] == x[\"unique_id\"]\n",
    "        ),\n",
    "        None,\n",
    "    ),\n",
    "    axis=1,\n",
    ")"
   ]
  },
  {
   "cell_type": "code",
   "execution_count": 163,
   "metadata": {},
   "outputs": [],
   "source": [
    "trees_agg_agb = vmd0001_eq2b(\n",
    "    trees_agg_agb, \"aboveground_carbon_tonnes\", \"corrected_area_m2\"\n",
    ")"
   ]
  },
  {
   "cell_type": "code",
   "execution_count": 164,
   "metadata": {},
   "outputs": [],
   "source": [
    "# convert tonnes/sqm to tonnes/ha\n",
    "trees_agg_agb[\"CO2e_per_ha\"] = trees_agg_agb[\"CO2e_per_ha\"] * 10_000"
   ]
  },
  {
   "cell_type": "code",
   "execution_count": 100,
   "metadata": {},
   "outputs": [
    {
     "data": {
      "text/html": [
       "<div>\n",
       "<style scoped>\n",
       "    .dataframe tbody tr th:only-of-type {\n",
       "        vertical-align: middle;\n",
       "    }\n",
       "\n",
       "    .dataframe tbody tr th {\n",
       "        vertical-align: top;\n",
       "    }\n",
       "\n",
       "    .dataframe thead th {\n",
       "        text-align: right;\n",
       "    }\n",
       "</style>\n",
       "<table border=\"1\" class=\"dataframe\">\n",
       "  <thead>\n",
       "    <tr style=\"text-align: right;\">\n",
       "      <th></th>\n",
       "      <th>unique_id</th>\n",
       "      <th>nest</th>\n",
       "      <th>aboveground_carbon_tonnes</th>\n",
       "      <th>corrected_area_m2</th>\n",
       "      <th>CO2e_per_ha</th>\n",
       "    </tr>\n",
       "  </thead>\n",
       "  <tbody>\n",
       "    <tr>\n",
       "      <th>0</th>\n",
       "      <td>100A1</td>\n",
       "      <td>2</td>\n",
       "      <td>1.245827</td>\n",
       "      <td>78.571232</td>\n",
       "      <td>0.058139</td>\n",
       "    </tr>\n",
       "    <tr>\n",
       "      <th>1</th>\n",
       "      <td>100A1</td>\n",
       "      <td>3</td>\n",
       "      <td>0.536200</td>\n",
       "      <td>707.141090</td>\n",
       "      <td>0.002780</td>\n",
       "    </tr>\n",
       "    <tr>\n",
       "      <th>2</th>\n",
       "      <td>100A1</td>\n",
       "      <td>4</td>\n",
       "      <td>1.337752</td>\n",
       "      <td>1257.139716</td>\n",
       "      <td>0.003902</td>\n",
       "    </tr>\n",
       "    <tr>\n",
       "      <th>3</th>\n",
       "      <td>100B1</td>\n",
       "      <td>2</td>\n",
       "      <td>0.144053</td>\n",
       "      <td>78.571232</td>\n",
       "      <td>0.006723</td>\n",
       "    </tr>\n",
       "    <tr>\n",
       "      <th>4</th>\n",
       "      <td>100C1</td>\n",
       "      <td>2</td>\n",
       "      <td>1.616018</td>\n",
       "      <td>78.571232</td>\n",
       "      <td>0.075414</td>\n",
       "    </tr>\n",
       "  </tbody>\n",
       "</table>\n",
       "</div>"
      ],
      "text/plain": [
       "  unique_id  nest  aboveground_carbon_tonnes  corrected_area_m2  CO2e_per_ha\n",
       "0     100A1     2                   1.245827          78.571232     0.058139\n",
       "1     100A1     3                   0.536200         707.141090     0.002780\n",
       "2     100A1     4                   1.337752        1257.139716     0.003902\n",
       "3     100B1     2                   0.144053          78.571232     0.006723\n",
       "4     100C1     2                   1.616018          78.571232     0.075414"
      ]
     },
     "execution_count": 100,
     "metadata": {},
     "output_type": "execute_result"
    }
   ],
   "source": [
    "trees_agg_agb.head()"
   ]
  },
  {
   "cell_type": "code",
   "execution_count": 166,
   "metadata": {},
   "outputs": [],
   "source": [
    "# calculate tonnes of Carbon per sqm; convert tonnes/sqm to tonnes/ha\n",
    "trees_agg_agb[\"tC_per_ha\"] = (\n",
    "    trees_agg_agb[\"aboveground_carbon_tonnes\"] / trees_agg_agb[\"corrected_area_m2\"]\n",
    ") * 10_000"
   ]
  },
  {
   "cell_type": "code",
   "execution_count": 167,
   "metadata": {},
   "outputs": [],
   "source": [
    "trees_agg_agb = (\n",
    "    trees_agg_agb.groupby(\"unique_id\")[[\"CO2e_per_ha\", \"tC_per_ha\"]]\n",
    "    .mean()\n",
    "    .reset_index()\n",
    ")"
   ]
  },
  {
   "cell_type": "code",
   "execution_count": 168,
   "metadata": {},
   "outputs": [],
   "source": [
    "trees_agg_agb.rename(\n",
    "    columns={\n",
    "        \"CO2e_per_ha\": \"aboveground_CO2e_per_ha\",\n",
    "        \"tC_per_ha\": \"aboveground_tC_per_ha\",\n",
    "    },\n",
    "    inplace=True,\n",
    ")"
   ]
  },
  {
   "cell_type": "code",
   "execution_count": 169,
   "metadata": {},
   "outputs": [
    {
     "data": {
      "text/html": [
       "<div>\n",
       "<style scoped>\n",
       "    .dataframe tbody tr th:only-of-type {\n",
       "        vertical-align: middle;\n",
       "    }\n",
       "\n",
       "    .dataframe tbody tr th {\n",
       "        vertical-align: top;\n",
       "    }\n",
       "\n",
       "    .dataframe thead th {\n",
       "        text-align: right;\n",
       "    }\n",
       "</style>\n",
       "<table border=\"1\" class=\"dataframe\">\n",
       "  <thead>\n",
       "    <tr style=\"text-align: right;\">\n",
       "      <th></th>\n",
       "      <th>unique_id</th>\n",
       "      <th>aboveground_CO2e_per_ha</th>\n",
       "      <th>aboveground_tC_per_ha</th>\n",
       "    </tr>\n",
       "  </thead>\n",
       "  <tbody>\n",
       "    <tr>\n",
       "      <th>0</th>\n",
       "      <td>100A1</td>\n",
       "      <td>216.069347</td>\n",
       "      <td>58.928004</td>\n",
       "    </tr>\n",
       "    <tr>\n",
       "      <th>1</th>\n",
       "      <td>100B1</td>\n",
       "      <td>67.225049</td>\n",
       "      <td>18.334104</td>\n",
       "    </tr>\n",
       "    <tr>\n",
       "      <th>2</th>\n",
       "      <td>100C1</td>\n",
       "      <td>754.143561</td>\n",
       "      <td>205.675517</td>\n",
       "    </tr>\n",
       "    <tr>\n",
       "      <th>3</th>\n",
       "      <td>100D1</td>\n",
       "      <td>157.781877</td>\n",
       "      <td>43.031421</td>\n",
       "    </tr>\n",
       "    <tr>\n",
       "      <th>4</th>\n",
       "      <td>101A1</td>\n",
       "      <td>11.115811</td>\n",
       "      <td>3.031585</td>\n",
       "    </tr>\n",
       "  </tbody>\n",
       "</table>\n",
       "</div>"
      ],
      "text/plain": [
       "  unique_id  aboveground_CO2e_per_ha  aboveground_tC_per_ha\n",
       "0     100A1               216.069347              58.928004\n",
       "1     100B1                67.225049              18.334104\n",
       "2     100C1               754.143561             205.675517\n",
       "3     100D1               157.781877              43.031421\n",
       "4     101A1                11.115811               3.031585"
      ]
     },
     "execution_count": 169,
     "metadata": {},
     "output_type": "execute_result"
    }
   ],
   "source": [
    "trees_agg_agb.head()"
   ]
  },
  {
   "cell_type": "markdown",
   "metadata": {},
   "source": [
    "### BGB"
   ]
  },
  {
   "cell_type": "code",
   "execution_count": 170,
   "metadata": {},
   "outputs": [],
   "source": [
    "trees_agg_bgb = vmd0001_eq2a(trees, [\"unique_id\", \"nest\"], \"belowground_carbon_tonnes\")"
   ]
  },
  {
   "cell_type": "code",
   "execution_count": 171,
   "metadata": {},
   "outputs": [],
   "source": [
    "# add the correct area using the unique_id and nest number\n",
    "trees_agg_bgb[\"corrected_area_m2\"] = trees_agg_bgb.apply(\n",
    "    lambda x: next(\n",
    "        (\n",
    "            item[\"corrected_plot_area_n\" + str(x[\"nest\"]) + \"_m2\"]\n",
    "            for item in plot_info_subset_dict\n",
    "            if item[\"unique_id\"] == x[\"unique_id\"]\n",
    "        ),\n",
    "        None,\n",
    "    ),\n",
    "    axis=1,\n",
    ")"
   ]
  },
  {
   "cell_type": "code",
   "execution_count": 172,
   "metadata": {},
   "outputs": [],
   "source": [
    "trees_agg_bgb = vmd0001_eq2b(\n",
    "    trees_agg_bgb, \"belowground_carbon_tonnes\", \"corrected_area_m2\"\n",
    ")"
   ]
  },
  {
   "cell_type": "code",
   "execution_count": 174,
   "metadata": {},
   "outputs": [],
   "source": [
    "# convert tonnes/sqm to tonnes/ha\n",
    "trees_agg_bgb[\"CO2e_per_ha\"] = trees_agg_bgb[\"CO2e_per_ha\"] * 10_000"
   ]
  },
  {
   "cell_type": "code",
   "execution_count": 175,
   "metadata": {},
   "outputs": [
    {
     "data": {
      "text/html": [
       "<div>\n",
       "<style scoped>\n",
       "    .dataframe tbody tr th:only-of-type {\n",
       "        vertical-align: middle;\n",
       "    }\n",
       "\n",
       "    .dataframe tbody tr th {\n",
       "        vertical-align: top;\n",
       "    }\n",
       "\n",
       "    .dataframe thead th {\n",
       "        text-align: right;\n",
       "    }\n",
       "</style>\n",
       "<table border=\"1\" class=\"dataframe\">\n",
       "  <thead>\n",
       "    <tr style=\"text-align: right;\">\n",
       "      <th></th>\n",
       "      <th>unique_id</th>\n",
       "      <th>nest</th>\n",
       "      <th>belowground_carbon_tonnes</th>\n",
       "      <th>corrected_area_m2</th>\n",
       "      <th>CO2e_per_ha</th>\n",
       "    </tr>\n",
       "  </thead>\n",
       "  <tbody>\n",
       "    <tr>\n",
       "      <th>0</th>\n",
       "      <td>100A1</td>\n",
       "      <td>2</td>\n",
       "      <td>0.448498</td>\n",
       "      <td>78.571232</td>\n",
       "      <td>209.299376</td>\n",
       "    </tr>\n",
       "    <tr>\n",
       "      <th>1</th>\n",
       "      <td>100A1</td>\n",
       "      <td>3</td>\n",
       "      <td>0.193032</td>\n",
       "      <td>707.141090</td>\n",
       "      <td>10.009092</td>\n",
       "    </tr>\n",
       "    <tr>\n",
       "      <th>2</th>\n",
       "      <td>100A1</td>\n",
       "      <td>4</td>\n",
       "      <td>0.481591</td>\n",
       "      <td>1257.139716</td>\n",
       "      <td>14.046427</td>\n",
       "    </tr>\n",
       "    <tr>\n",
       "      <th>3</th>\n",
       "      <td>100B1</td>\n",
       "      <td>2</td>\n",
       "      <td>0.051859</td>\n",
       "      <td>78.571232</td>\n",
       "      <td>24.201018</td>\n",
       "    </tr>\n",
       "    <tr>\n",
       "      <th>4</th>\n",
       "      <td>100C1</td>\n",
       "      <td>2</td>\n",
       "      <td>0.581766</td>\n",
       "      <td>78.571232</td>\n",
       "      <td>271.491682</td>\n",
       "    </tr>\n",
       "  </tbody>\n",
       "</table>\n",
       "</div>"
      ],
      "text/plain": [
       "  unique_id  nest  belowground_carbon_tonnes  corrected_area_m2  CO2e_per_ha\n",
       "0     100A1     2                   0.448498          78.571232   209.299376\n",
       "1     100A1     3                   0.193032         707.141090    10.009092\n",
       "2     100A1     4                   0.481591        1257.139716    14.046427\n",
       "3     100B1     2                   0.051859          78.571232    24.201018\n",
       "4     100C1     2                   0.581766          78.571232   271.491682"
      ]
     },
     "execution_count": 175,
     "metadata": {},
     "output_type": "execute_result"
    }
   ],
   "source": [
    "trees_agg_bgb.head()"
   ]
  },
  {
   "cell_type": "code",
   "execution_count": 176,
   "metadata": {},
   "outputs": [],
   "source": [
    "# calculate tonnes of Carbon per sqm; convert tonnes/sqm to tonnes/ha\n",
    "trees_agg_bgb[\"tC_per_ha\"] = (\n",
    "    trees_agg_bgb[\"belowground_carbon_tonnes\"] / trees_agg_bgb[\"corrected_area_m2\"]\n",
    ") * 10_000"
   ]
  },
  {
   "cell_type": "code",
   "execution_count": 177,
   "metadata": {},
   "outputs": [],
   "source": [
    "trees_agg_bgb = (\n",
    "    trees_agg_bgb.groupby(\"unique_id\")[[\"CO2e_per_ha\", \"tC_per_ha\"]]\n",
    "    .mean()\n",
    "    .reset_index()\n",
    ")"
   ]
  },
  {
   "cell_type": "code",
   "execution_count": 178,
   "metadata": {},
   "outputs": [],
   "source": [
    "trees_agg_bgb.rename(\n",
    "    columns={\n",
    "        \"CO2e_per_ha\": \"belowground_CO2e_per_ha\",\n",
    "        \"tC_per_ha\": \"belowground_tC_per_ha\",\n",
    "    },\n",
    "    inplace=True,\n",
    ")"
   ]
  },
  {
   "cell_type": "code",
   "execution_count": 179,
   "metadata": {},
   "outputs": [
    {
     "data": {
      "text/html": [
       "<div>\n",
       "<style scoped>\n",
       "    .dataframe tbody tr th:only-of-type {\n",
       "        vertical-align: middle;\n",
       "    }\n",
       "\n",
       "    .dataframe tbody tr th {\n",
       "        vertical-align: top;\n",
       "    }\n",
       "\n",
       "    .dataframe thead th {\n",
       "        text-align: right;\n",
       "    }\n",
       "</style>\n",
       "<table border=\"1\" class=\"dataframe\">\n",
       "  <thead>\n",
       "    <tr style=\"text-align: right;\">\n",
       "      <th></th>\n",
       "      <th>unique_id</th>\n",
       "      <th>belowground_CO2e_per_ha</th>\n",
       "      <th>belowground_tC_per_ha</th>\n",
       "    </tr>\n",
       "  </thead>\n",
       "  <tbody>\n",
       "    <tr>\n",
       "      <th>0</th>\n",
       "      <td>100A1</td>\n",
       "      <td>77.784965</td>\n",
       "      <td>21.214081</td>\n",
       "    </tr>\n",
       "    <tr>\n",
       "      <th>1</th>\n",
       "      <td>100B1</td>\n",
       "      <td>24.201018</td>\n",
       "      <td>6.600278</td>\n",
       "    </tr>\n",
       "    <tr>\n",
       "      <th>2</th>\n",
       "      <td>100C1</td>\n",
       "      <td>271.491682</td>\n",
       "      <td>74.043186</td>\n",
       "    </tr>\n",
       "    <tr>\n",
       "      <th>3</th>\n",
       "      <td>100D1</td>\n",
       "      <td>56.801476</td>\n",
       "      <td>15.491312</td>\n",
       "    </tr>\n",
       "    <tr>\n",
       "      <th>4</th>\n",
       "      <td>101A1</td>\n",
       "      <td>4.001692</td>\n",
       "      <td>1.091371</td>\n",
       "    </tr>\n",
       "  </tbody>\n",
       "</table>\n",
       "</div>"
      ],
      "text/plain": [
       "  unique_id  belowground_CO2e_per_ha  belowground_tC_per_ha\n",
       "0     100A1                77.784965              21.214081\n",
       "1     100B1                24.201018               6.600278\n",
       "2     100C1               271.491682              74.043186\n",
       "3     100D1                56.801476              15.491312\n",
       "4     101A1                 4.001692               1.091371"
      ]
     },
     "execution_count": 179,
     "metadata": {},
     "output_type": "execute_result"
    }
   ],
   "source": [
    "trees_agg_bgb.head()"
   ]
  },
  {
   "cell_type": "code",
   "execution_count": 180,
   "metadata": {},
   "outputs": [],
   "source": [
    "trees = trees_agg_agb.merge(trees_agg_bgb, on=\"unique_id\", how=\"left\")"
   ]
  },
  {
   "cell_type": "code",
   "execution_count": 181,
   "metadata": {},
   "outputs": [
    {
     "data": {
      "text/html": [
       "<div>\n",
       "<style scoped>\n",
       "    .dataframe tbody tr th:only-of-type {\n",
       "        vertical-align: middle;\n",
       "    }\n",
       "\n",
       "    .dataframe tbody tr th {\n",
       "        vertical-align: top;\n",
       "    }\n",
       "\n",
       "    .dataframe thead th {\n",
       "        text-align: right;\n",
       "    }\n",
       "</style>\n",
       "<table border=\"1\" class=\"dataframe\">\n",
       "  <thead>\n",
       "    <tr style=\"text-align: right;\">\n",
       "      <th></th>\n",
       "      <th>unique_id</th>\n",
       "      <th>aboveground_CO2e_per_ha</th>\n",
       "      <th>aboveground_tC_per_ha</th>\n",
       "      <th>belowground_CO2e_per_ha</th>\n",
       "      <th>belowground_tC_per_ha</th>\n",
       "    </tr>\n",
       "  </thead>\n",
       "  <tbody>\n",
       "    <tr>\n",
       "      <th>0</th>\n",
       "      <td>100A1</td>\n",
       "      <td>216.069347</td>\n",
       "      <td>58.928004</td>\n",
       "      <td>77.784965</td>\n",
       "      <td>21.214081</td>\n",
       "    </tr>\n",
       "    <tr>\n",
       "      <th>1</th>\n",
       "      <td>100B1</td>\n",
       "      <td>67.225049</td>\n",
       "      <td>18.334104</td>\n",
       "      <td>24.201018</td>\n",
       "      <td>6.600278</td>\n",
       "    </tr>\n",
       "    <tr>\n",
       "      <th>2</th>\n",
       "      <td>100C1</td>\n",
       "      <td>754.143561</td>\n",
       "      <td>205.675517</td>\n",
       "      <td>271.491682</td>\n",
       "      <td>74.043186</td>\n",
       "    </tr>\n",
       "    <tr>\n",
       "      <th>3</th>\n",
       "      <td>100D1</td>\n",
       "      <td>157.781877</td>\n",
       "      <td>43.031421</td>\n",
       "      <td>56.801476</td>\n",
       "      <td>15.491312</td>\n",
       "    </tr>\n",
       "    <tr>\n",
       "      <th>4</th>\n",
       "      <td>101A1</td>\n",
       "      <td>11.115811</td>\n",
       "      <td>3.031585</td>\n",
       "      <td>4.001692</td>\n",
       "      <td>1.091371</td>\n",
       "    </tr>\n",
       "  </tbody>\n",
       "</table>\n",
       "</div>"
      ],
      "text/plain": [
       "  unique_id  aboveground_CO2e_per_ha  aboveground_tC_per_ha  \\\n",
       "0     100A1               216.069347              58.928004   \n",
       "1     100B1                67.225049              18.334104   \n",
       "2     100C1               754.143561             205.675517   \n",
       "3     100D1               157.781877              43.031421   \n",
       "4     101A1                11.115811               3.031585   \n",
       "\n",
       "   belowground_CO2e_per_ha  belowground_tC_per_ha  \n",
       "0                77.784965              21.214081  \n",
       "1                24.201018               6.600278  \n",
       "2               271.491682              74.043186  \n",
       "3                56.801476              15.491312  \n",
       "4                 4.001692               1.091371  "
      ]
     },
     "execution_count": 181,
     "metadata": {},
     "output_type": "execute_result"
    }
   ],
   "source": [
    "trees.head()"
   ]
  },
  {
   "cell_type": "markdown",
   "metadata": {},
   "source": [
    "## Export data and Upload to BQ"
   ]
  },
  {
   "cell_type": "code",
   "execution_count": 182,
   "metadata": {},
   "outputs": [
    {
     "name": "stdout",
     "output_type": "stream",
     "text": [
      "<class 'pandas.core.frame.DataFrame'>\n",
      "RangeIndex: 615 entries, 0 to 614\n",
      "Data columns (total 5 columns):\n",
      " #   Column                   Non-Null Count  Dtype  \n",
      "---  ------                   --------------  -----  \n",
      " 0   unique_id                615 non-null    object \n",
      " 1   aboveground_CO2e_per_ha  615 non-null    float64\n",
      " 2   aboveground_tC_per_ha    615 non-null    float64\n",
      " 3   belowground_CO2e_per_ha  615 non-null    float64\n",
      " 4   belowground_tC_per_ha    615 non-null    float64\n",
      "dtypes: float64(4), object(1)\n",
      "memory usage: 24.2+ KB\n"
     ]
    }
   ],
   "source": [
    "trees.info()"
   ]
  },
  {
   "cell_type": "markdown",
   "metadata": {},
   "source": [
    "# Calculate sapling biomass"
   ]
  },
  {
   "cell_type": "code",
   "execution_count": 183,
   "metadata": {},
   "outputs": [],
   "source": [
    "saplings = vmd0001_eq1(saplings, is_sapling=True)"
   ]
  },
  {
   "cell_type": "code",
   "execution_count": 184,
   "metadata": {},
   "outputs": [],
   "source": [
    "# Calculate corrected radius for sapling nest based on slope (in radians)\n",
    "corrected_radius = 2 / np.cos(plot_info[\"slope_radians\"])"
   ]
  },
  {
   "cell_type": "code",
   "execution_count": 185,
   "metadata": {},
   "outputs": [],
   "source": [
    "# Calculate new total subplot area based on corrected radius\n",
    "plot_info[\"corrected_sapling_area_m2\"] = np.pi * corrected_radius**2"
   ]
  },
  {
   "cell_type": "code",
   "execution_count": 186,
   "metadata": {},
   "outputs": [],
   "source": [
    "saplings = saplings.merge(\n",
    "    plot_info[[\"unique_id\", \"corrected_sapling_area_m2\"]], on=\"unique_id\"\n",
    ")"
   ]
  },
  {
   "cell_type": "code",
   "execution_count": 187,
   "metadata": {},
   "outputs": [],
   "source": [
    "saplings = vmd0001_eq2b(saplings)"
   ]
  },
  {
   "cell_type": "code",
   "execution_count": 188,
   "metadata": {},
   "outputs": [
    {
     "data": {
      "text/html": [
       "<div>\n",
       "<style scoped>\n",
       "    .dataframe tbody tr th:only-of-type {\n",
       "        vertical-align: middle;\n",
       "    }\n",
       "\n",
       "    .dataframe tbody tr th {\n",
       "        vertical-align: top;\n",
       "    }\n",
       "\n",
       "    .dataframe thead th {\n",
       "        text-align: right;\n",
       "    }\n",
       "</style>\n",
       "<table border=\"1\" class=\"dataframe\">\n",
       "  <thead>\n",
       "    <tr style=\"text-align: right;\">\n",
       "      <th></th>\n",
       "      <th>unique_id</th>\n",
       "      <th>count_saplings</th>\n",
       "      <th>litter_bag_weight</th>\n",
       "      <th>litter_sample_weight</th>\n",
       "      <th>ntv_bag_weight</th>\n",
       "      <th>ntv_sample_weight</th>\n",
       "      <th>aboveground_carbon_tonnes</th>\n",
       "      <th>corrected_sapling_area_m2</th>\n",
       "      <th>CO2e_per_ha</th>\n",
       "    </tr>\n",
       "  </thead>\n",
       "  <tbody>\n",
       "    <tr>\n",
       "      <th>0</th>\n",
       "      <td>308D1</td>\n",
       "      <td>2.0</td>\n",
       "      <td>70.0</td>\n",
       "      <td>770.0</td>\n",
       "      <td>70.0</td>\n",
       "      <td>870.0</td>\n",
       "      <td>43.24</td>\n",
       "      <td>13.231132</td>\n",
       "      <td>11.982850</td>\n",
       "    </tr>\n",
       "    <tr>\n",
       "      <th>1</th>\n",
       "      <td>308A1</td>\n",
       "      <td>NaN</td>\n",
       "      <td>50.0</td>\n",
       "      <td>260.0</td>\n",
       "      <td>50.0</td>\n",
       "      <td>110.0</td>\n",
       "      <td>0.00</td>\n",
       "      <td>12.778742</td>\n",
       "      <td>0.000000</td>\n",
       "    </tr>\n",
       "    <tr>\n",
       "      <th>2</th>\n",
       "      <td>308B1</td>\n",
       "      <td>7.0</td>\n",
       "      <td>50.0</td>\n",
       "      <td>560.0</td>\n",
       "      <td>50.0</td>\n",
       "      <td>120.0</td>\n",
       "      <td>151.34</td>\n",
       "      <td>16.793698</td>\n",
       "      <td>33.042951</td>\n",
       "    </tr>\n",
       "    <tr>\n",
       "      <th>3</th>\n",
       "      <td>308C1</td>\n",
       "      <td>2.0</td>\n",
       "      <td>50.0</td>\n",
       "      <td>769.0</td>\n",
       "      <td>50.0</td>\n",
       "      <td>710.0</td>\n",
       "      <td>43.24</td>\n",
       "      <td>14.889893</td>\n",
       "      <td>10.647939</td>\n",
       "    </tr>\n",
       "    <tr>\n",
       "      <th>4</th>\n",
       "      <td>249B1</td>\n",
       "      <td>25.0</td>\n",
       "      <td>60.0</td>\n",
       "      <td>260.0</td>\n",
       "      <td>50.0</td>\n",
       "      <td>150.0</td>\n",
       "      <td>540.50</td>\n",
       "      <td>15.834884</td>\n",
       "      <td>125.156167</td>\n",
       "    </tr>\n",
       "  </tbody>\n",
       "</table>\n",
       "</div>"
      ],
      "text/plain": [
       "  unique_id  count_saplings  litter_bag_weight  litter_sample_weight  \\\n",
       "0     308D1             2.0               70.0                 770.0   \n",
       "1     308A1             NaN               50.0                 260.0   \n",
       "2     308B1             7.0               50.0                 560.0   \n",
       "3     308C1             2.0               50.0                 769.0   \n",
       "4     249B1            25.0               60.0                 260.0   \n",
       "\n",
       "   ntv_bag_weight  ntv_sample_weight  aboveground_carbon_tonnes  \\\n",
       "0            70.0              870.0                      43.24   \n",
       "1            50.0              110.0                       0.00   \n",
       "2            50.0              120.0                     151.34   \n",
       "3            50.0              710.0                      43.24   \n",
       "4            50.0              150.0                     540.50   \n",
       "\n",
       "   corrected_sapling_area_m2  CO2e_per_ha  \n",
       "0                  13.231132    11.982850  \n",
       "1                  12.778742     0.000000  \n",
       "2                  16.793698    33.042951  \n",
       "3                  14.889893    10.647939  \n",
       "4                  15.834884   125.156167  "
      ]
     },
     "execution_count": 188,
     "metadata": {},
     "output_type": "execute_result"
    }
   ],
   "source": [
    "saplings.head()"
   ]
  },
  {
   "cell_type": "code",
   "execution_count": 189,
   "metadata": {},
   "outputs": [],
   "source": [
    "saplings[\"saplings_tC_per_ha\"] = (\n",
    "    saplings[\"aboveground_carbon_tonnes\"] / saplings[\"corrected_sapling_area_m2\"]\n",
    ")"
   ]
  },
  {
   "cell_type": "code",
   "execution_count": 190,
   "metadata": {},
   "outputs": [],
   "source": [
    "saplings = saplings[[\"unique_id\", \"CO2e_per_ha\", \"saplings_tC_per_ha\"]].copy()"
   ]
  },
  {
   "cell_type": "code",
   "execution_count": 191,
   "metadata": {},
   "outputs": [],
   "source": [
    "saplings.rename(columns={\"CO2e_per_ha\": \"sapling_CO2e_per_ha\"}, inplace=True)"
   ]
  },
  {
   "cell_type": "code",
   "execution_count": 192,
   "metadata": {},
   "outputs": [
    {
     "name": "stdout",
     "output_type": "stream",
     "text": [
      "<class 'pandas.core.frame.DataFrame'>\n",
      "RangeIndex: 671 entries, 0 to 670\n",
      "Data columns (total 3 columns):\n",
      " #   Column               Non-Null Count  Dtype  \n",
      "---  ------               --------------  -----  \n",
      " 0   unique_id            671 non-null    object \n",
      " 1   sapling_CO2e_per_ha  619 non-null    float64\n",
      " 2   saplings_tC_per_ha   619 non-null    float64\n",
      "dtypes: float64(2), object(1)\n",
      "memory usage: 15.9+ KB\n"
     ]
    }
   ],
   "source": [
    "saplings.info()"
   ]
  },
  {
   "cell_type": "markdown",
   "metadata": {},
   "source": [
    "# Add saplings to aboveground biomass"
   ]
  },
  {
   "cell_type": "code",
   "execution_count": 193,
   "metadata": {},
   "outputs": [],
   "source": [
    "trees = trees.merge(saplings, on=\"unique_id\", how=\"left\")"
   ]
  },
  {
   "cell_type": "code",
   "execution_count": 194,
   "metadata": {},
   "outputs": [
    {
     "name": "stdout",
     "output_type": "stream",
     "text": [
      "<class 'pandas.core.frame.DataFrame'>\n",
      "RangeIndex: 615 entries, 0 to 614\n",
      "Data columns (total 7 columns):\n",
      " #   Column                   Non-Null Count  Dtype  \n",
      "---  ------                   --------------  -----  \n",
      " 0   unique_id                615 non-null    object \n",
      " 1   aboveground_CO2e_per_ha  615 non-null    float64\n",
      " 2   aboveground_tC_per_ha    615 non-null    float64\n",
      " 3   belowground_CO2e_per_ha  615 non-null    float64\n",
      " 4   belowground_tC_per_ha    615 non-null    float64\n",
      " 5   sapling_CO2e_per_ha      615 non-null    float64\n",
      " 6   saplings_tC_per_ha       615 non-null    float64\n",
      "dtypes: float64(6), object(1)\n",
      "memory usage: 33.8+ KB\n"
     ]
    }
   ],
   "source": [
    "trees.info()"
   ]
  },
  {
   "cell_type": "code",
   "execution_count": 195,
   "metadata": {},
   "outputs": [],
   "source": [
    "trees[\"total_aboveground_CO2e_per_ha\"] = (\n",
    "    trees[\"aboveground_CO2e_per_ha\"] + trees[\"sapling_CO2e_per_ha\"]\n",
    ")"
   ]
  },
  {
   "cell_type": "code",
   "execution_count": 196,
   "metadata": {},
   "outputs": [
    {
     "name": "stderr",
     "output_type": "stream",
     "text": [
      "100%|██████████| 1/1 [00:00<00:00, 15592.21it/s]\n"
     ]
    }
   ],
   "source": [
    "# Upload to BQ\n",
    "if len(trees) != 0:\n",
    "    trees.to_csv(CARBON_STOCK_OUTDIR / \"trees_carbon_stock.csv\", index=False)\n",
    "    pandas_gbq.to_gbq(\n",
    "        trees,\n",
    "        f\"{DATASET_ID}.trees_carbon_stock\",\n",
    "        project_id=GCP_PROJ_ID,\n",
    "        if_exists=IF_EXISTS,\n",
    "        progress_bar=True,\n",
    "    )\n",
    "else:\n",
    "    raise ValueError(\"Dataframe is empty.\")"
   ]
  }
 ],
 "metadata": {
  "kernelspec": {
   "display_name": "onebase",
   "language": "python",
   "name": "python3"
  },
  "language_info": {
   "codemirror_mode": {
    "name": "ipython",
    "version": 3
   },
   "file_extension": ".py",
   "mimetype": "text/x-python",
   "name": "python",
   "nbconvert_exporter": "python",
   "pygments_lexer": "ipython3",
   "version": "3.12.4"
  }
 },
 "nbformat": 4,
 "nbformat_minor": 2
}
