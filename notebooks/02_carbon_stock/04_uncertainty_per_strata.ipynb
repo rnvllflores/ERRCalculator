{
 "cells": [
  {
   "cell_type": "markdown",
   "metadata": {},
   "source": [
    "# Calculate emission factors and confidence intervals"
   ]
  },
  {
   "cell_type": "markdown",
   "metadata": {},
   "source": [
    "# Imports and Set-up"
   ]
  },
  {
   "cell_type": "code",
   "execution_count": 41,
   "metadata": {},
   "outputs": [],
   "source": [
    "# Standard Imports\n",
    "import sys\n",
    "import pandas as pd\n",
    "\n",
    "# Google Cloud Imports\n",
    "import pandas_gbq"
   ]
  },
  {
   "cell_type": "code",
   "execution_count": 2,
   "metadata": {},
   "outputs": [],
   "source": [
    "# Util imports\n",
    "sys.path.append(\"../../\")  # include parent directory\n",
    "from src.settings import (\n",
    "    GCP_PROJ_ID,\n",
    "    CARBON_STOCK_OUTDIR,\n",
    "    CARBON_POOLS_OUTDIR,\n",
    "    PC_PLOT_LOOKUP_CSV,\n",
    ")\n",
    "\n",
    "from src.biomass_equations import calculate_statistics"
   ]
  },
  {
   "cell_type": "code",
   "execution_count": 3,
   "metadata": {},
   "outputs": [],
   "source": [
    "import datetime\n",
    "\n",
    "# Variables\n",
    "PLOT_INFO_CSV = CARBON_POOLS_OUTDIR / \"plot_info.csv\"\n",
    "LITTER_CSV = CARBON_STOCK_OUTDIR / \"litter_carbon_stock.csv\"\n",
    "NTV_CSV = CARBON_STOCK_OUTDIR / \"ntv_carbon_stock.csv\"\n",
    "DEADWOOD_CSV = CARBON_STOCK_OUTDIR / \"deadwood_carbon_stock.csv\"\n",
    "TREES_CSV = CARBON_STOCK_OUTDIR / \"trees_carbon_stock.csv\"\n",
    "SAPLINGS_CSV = CARBON_POOLS_OUTDIR / \"saplings_carbon_stock.csv\"\n",
    "\n",
    "# Version Control\n",
    "today = datetime.date.today()\n",
    "VERSION = today.strftime(\"%Y%m%d\")\n",
    "\n",
    "# BigQuery Variables\n",
    "SRC_DATASET_ID = \"biomass_inventory\"\n",
    "DATASET_ID = \"carbon_stock\"\n",
    "IF_EXISTS = \"replace\""
   ]
  },
  {
   "cell_type": "markdown",
   "metadata": {},
   "source": [
    "## Load data"
   ]
  },
  {
   "cell_type": "markdown",
   "metadata": {},
   "source": [
    "### Plot Data"
   ]
  },
  {
   "cell_type": "code",
   "execution_count": 4,
   "metadata": {},
   "outputs": [],
   "source": [
    "if PLOT_INFO_CSV.exists():\n",
    "    plot_info = pd.read_csv(PLOT_INFO_CSV)\n",
    "else:\n",
    "    query = f\"\"\"\n",
    "    SELECT\n",
    "        * \n",
    "    FROM {GCP_PROJ_ID}.{SRC_DATASET_ID}.plot_info\"\"\"\n",
    "\n",
    "    # Read the BigQuery table into a dataframe\n",
    "    plot_info = pandas_gbq.read_gbq(query, project_id=GCP_PROJ_ID)\n",
    "    plot_info.to_csv(PLOT_INFO_CSV, index=False)"
   ]
  },
  {
   "cell_type": "code",
   "execution_count": 5,
   "metadata": {},
   "outputs": [
    {
     "name": "stdout",
     "output_type": "stream",
     "text": [
      "<class 'pandas.core.frame.DataFrame'>\n",
      "RangeIndex: 671 entries, 0 to 670\n",
      "Data columns (total 31 columns):\n",
      " #   Column                     Non-Null Count  Dtype  \n",
      "---  ------                     --------------  -----  \n",
      " 0   unique_id                  671 non-null    object \n",
      " 1   data_recorder              671 non-null    object \n",
      " 2   team_no                    671 non-null    int64  \n",
      " 3   plot_code_nmbr             671 non-null    int64  \n",
      " 4   plot_type                  671 non-null    object \n",
      " 5   sub_plot                   671 non-null    object \n",
      " 6   yes_no                     671 non-null    object \n",
      " 7   sub_plot_shift             633 non-null    object \n",
      " 8   GPS_waypt                  633 non-null    float64\n",
      " 9   GPS_id                     633 non-null    float64\n",
      " 10  GPS                        576 non-null    object \n",
      " 11  GPS_latitude               576 non-null    float64\n",
      " 12  GPS_longitude              576 non-null    float64\n",
      " 13  GPS_altitude               576 non-null    float64\n",
      " 14  GPS_precision              576 non-null    float64\n",
      " 15  photo                      633 non-null    object \n",
      " 16  manual_reason              38 non-null     object \n",
      " 17  lc_type                    633 non-null    object \n",
      " 18  lc_class                   619 non-null    object \n",
      " 19  lc_class_other             12 non-null     object \n",
      " 20  disturbance_yesno          477 non-null    object \n",
      " 21  disturbance_type           148 non-null    object \n",
      " 22  disturbance_class          148 non-null    object \n",
      " 23  slope                      619 non-null    float64\n",
      " 24  canopy_avg_height          619 non-null    float64\n",
      " 25  canopy_cover               619 non-null    float64\n",
      " 26  access_reason              38 non-null     object \n",
      " 27  slope_radians              619 non-null    float64\n",
      " 28  corrected_plot_area_n2_m2  619 non-null    float64\n",
      " 29  corrected_plot_area_n3_m2  619 non-null    float64\n",
      " 30  corrected_plot_area_n4_m2  619 non-null    float64\n",
      "dtypes: float64(13), int64(2), object(16)\n",
      "memory usage: 162.6+ KB\n"
     ]
    }
   ],
   "source": [
    "plot_info.info()"
   ]
  },
  {
   "cell_type": "code",
   "execution_count": 6,
   "metadata": {},
   "outputs": [],
   "source": [
    "if PC_PLOT_LOOKUP_CSV.exists():\n",
    "    plot_info_lookup = pd.read_csv(PC_PLOT_LOOKUP_CSV)\n",
    "else:\n",
    "    print(\"PC Plot Lookup CSV not found\")"
   ]
  },
  {
   "cell_type": "code",
   "execution_count": 7,
   "metadata": {},
   "outputs": [
    {
     "name": "stdout",
     "output_type": "stream",
     "text": [
      "<class 'pandas.core.frame.DataFrame'>\n",
      "RangeIndex: 3508 entries, 0 to 3507\n",
      "Data columns (total 2 columns):\n",
      " #   Column     Non-Null Count  Dtype \n",
      "---  ------     --------------  ----- \n",
      " 0   unique_id  3508 non-null   object\n",
      " 1   Strata     3508 non-null   int64 \n",
      "dtypes: int64(1), object(1)\n",
      "memory usage: 54.9+ KB\n"
     ]
    }
   ],
   "source": [
    "plot_info_lookup.info()"
   ]
  },
  {
   "cell_type": "code",
   "execution_count": 8,
   "metadata": {},
   "outputs": [],
   "source": [
    "plot_info = pd.merge(plot_info, plot_info_lookup, on=\"unique_id\", how=\"left\")"
   ]
  },
  {
   "cell_type": "markdown",
   "metadata": {},
   "source": [
    "### Trees"
   ]
  },
  {
   "cell_type": "code",
   "execution_count": 9,
   "metadata": {},
   "outputs": [],
   "source": [
    "if TREES_CSV.exists():\n",
    "    trees = pd.read_csv(TREES_CSV)\n",
    "else:\n",
    "    query = f\"\"\"\n",
    "    SELECT\n",
    "        * \n",
    "    FROM {GCP_PROJ_ID}.{SRC_DATASET_ID}.trees_carbon_stock\"\"\"\n",
    "\n",
    "    # Read the BigQuery table into a dataframe\n",
    "    trees = pandas_gbq.read_gbq(query, project_id=GCP_PROJ_ID)\n",
    "    trees.to_csv(TREES_CSV, index=False)"
   ]
  },
  {
   "cell_type": "code",
   "execution_count": 10,
   "metadata": {},
   "outputs": [
    {
     "name": "stdout",
     "output_type": "stream",
     "text": [
      "<class 'pandas.core.frame.DataFrame'>\n",
      "RangeIndex: 618 entries, 0 to 617\n",
      "Data columns (total 8 columns):\n",
      " #   Column                         Non-Null Count  Dtype  \n",
      "---  ------                         --------------  -----  \n",
      " 0   unique_id                      618 non-null    object \n",
      " 1   aboveground_CO2e_per_ha        618 non-null    float64\n",
      " 2   aboveground_tC_per_ha          618 non-null    float64\n",
      " 3   belowground_CO2e_per_ha        618 non-null    float64\n",
      " 4   belowground_tC_per_ha          618 non-null    float64\n",
      " 5   sapling_CO2e_per_ha            618 non-null    float64\n",
      " 6   saplings_tC_per_ha             618 non-null    float64\n",
      " 7   total_aboveground_CO2e_per_ha  618 non-null    float64\n",
      "dtypes: float64(7), object(1)\n",
      "memory usage: 38.8+ KB\n"
     ]
    }
   ],
   "source": [
    "trees.info()"
   ]
  },
  {
   "cell_type": "markdown",
   "metadata": {},
   "source": [
    "### Deadwood"
   ]
  },
  {
   "cell_type": "code",
   "execution_count": 11,
   "metadata": {},
   "outputs": [],
   "source": [
    "if DEADWOOD_CSV.exists():\n",
    "    deadwood = pd.read_csv(DEADWOOD_CSV)\n",
    "else:\n",
    "    query = f\"\"\"\n",
    "    SELECT\n",
    "        * \n",
    "    FROM {GCP_PROJ_ID}.{SRC_DATASET_ID}.deadwood_carbon_stock\"\"\"\n",
    "\n",
    "    # Read the BigQuery table into a dataframe\n",
    "    deadwood = pandas_gbq.read_gbq(query, project_id=GCP_PROJ_ID)\n",
    "    deadwood.to_csv(DEADWOOD_CSV, index=False)"
   ]
  },
  {
   "cell_type": "code",
   "execution_count": 12,
   "metadata": {},
   "outputs": [
    {
     "name": "stdout",
     "output_type": "stream",
     "text": [
      "<class 'pandas.core.frame.DataFrame'>\n",
      "RangeIndex: 570 entries, 0 to 569\n",
      "Data columns (total 7 columns):\n",
      " #   Column                       Non-Null Count  Dtype  \n",
      "---  ------                       --------------  -----  \n",
      " 0   unique_id                    570 non-null    object \n",
      " 1   stumps_tonnes_dry_matter_ha  440 non-null    float64\n",
      " 2   ldw_tonnes_dry_matter_ha     476 non-null    float64\n",
      " 3   sdw_tonnes_dry_matter_ha     191 non-null    float64\n",
      " 4   all_tonnes_dry_matter_ha     570 non-null    float64\n",
      " 5   deadwood_tC_per_ha           570 non-null    float64\n",
      " 6   deadwood_CO2e_per_ha         570 non-null    float64\n",
      "dtypes: float64(6), object(1)\n",
      "memory usage: 31.3+ KB\n"
     ]
    }
   ],
   "source": [
    "deadwood.info()"
   ]
  },
  {
   "cell_type": "markdown",
   "metadata": {},
   "source": [
    "### Litter"
   ]
  },
  {
   "cell_type": "code",
   "execution_count": 13,
   "metadata": {},
   "outputs": [],
   "source": [
    "if LITTER_CSV.exists():\n",
    "    litter = pd.read_csv(LITTER_CSV)\n",
    "else:\n",
    "    query = f\"\"\"\n",
    "    SELECT\n",
    "        * \n",
    "    FROM {GCP_PROJ_ID}.{SRC_DATASET_ID}.litter_carbon_stock\"\"\"\n",
    "\n",
    "    # Read the BigQuery table into a dataframe\n",
    "    litter = pandas_gbq.read_gbq(query, project_id=GCP_PROJ_ID)\n",
    "    litter.to_csv(LITTER_CSV, index=False)"
   ]
  },
  {
   "cell_type": "code",
   "execution_count": 14,
   "metadata": {},
   "outputs": [
    {
     "name": "stdout",
     "output_type": "stream",
     "text": [
      "<class 'pandas.core.frame.DataFrame'>\n",
      "RangeIndex: 671 entries, 0 to 670\n",
      "Data columns (total 4 columns):\n",
      " #   Column                Non-Null Count  Dtype  \n",
      "---  ------                --------------  -----  \n",
      " 0   unique_id             671 non-null    object \n",
      " 1   litter_biomass_kg     619 non-null    float64\n",
      " 2   litter_kg_dry_matter  619 non-null    float64\n",
      " 3   litter_CO2e_per_ha    619 non-null    float64\n",
      "dtypes: float64(3), object(1)\n",
      "memory usage: 21.1+ KB\n"
     ]
    }
   ],
   "source": [
    "litter.info()"
   ]
  },
  {
   "cell_type": "markdown",
   "metadata": {},
   "source": [
    "### Non-tree Vegetation"
   ]
  },
  {
   "cell_type": "code",
   "execution_count": 15,
   "metadata": {},
   "outputs": [],
   "source": [
    "if NTV_CSV.exists():\n",
    "    ntv = pd.read_csv(NTV_CSV)\n",
    "else:\n",
    "    query = f\"\"\"\n",
    "    SELECT\n",
    "        * \n",
    "    FROM {GCP_PROJ_ID}.{SRC_DATASET_ID}.ntv_carbon_stock\"\"\"\n",
    "\n",
    "    # Read the BigQuery table into a dataframe\n",
    "    ntv = pandas_gbq.read_gbq(query, project_id=GCP_PROJ_ID)\n",
    "    ntv.to_csv(NTV_CSV, index=False)"
   ]
  },
  {
   "cell_type": "code",
   "execution_count": 16,
   "metadata": {},
   "outputs": [
    {
     "name": "stdout",
     "output_type": "stream",
     "text": [
      "<class 'pandas.core.frame.DataFrame'>\n",
      "RangeIndex: 671 entries, 0 to 670\n",
      "Data columns (total 4 columns):\n",
      " #   Column             Non-Null Count  Dtype  \n",
      "---  ------             --------------  -----  \n",
      " 0   unique_id          671 non-null    object \n",
      " 1   ntv_biomass_kg     619 non-null    float64\n",
      " 2   ntv_kg_dry_matter  619 non-null    float64\n",
      " 3   ntv_CO2e_per_ha    619 non-null    float64\n",
      "dtypes: float64(3), object(1)\n",
      "memory usage: 21.1+ KB\n"
     ]
    }
   ],
   "source": [
    "ntv.info()"
   ]
  },
  {
   "cell_type": "markdown",
   "metadata": {},
   "source": [
    "# Create plot level summary"
   ]
  },
  {
   "cell_type": "code",
   "execution_count": 17,
   "metadata": {},
   "outputs": [],
   "source": [
    "merged_df = plot_info[[\"unique_id\", \"plot_code_nmbr\", \"Strata\"]].merge(\n",
    "    trees, on=\"unique_id\", how=\"left\"\n",
    ")\n",
    "merged_df = merged_df.merge(deadwood, on=\"unique_id\", how=\"left\")\n",
    "merged_df = merged_df.merge(ntv, on=\"unique_id\", how=\"left\")\n",
    "merged_df = merged_df.merge(litter, on=\"unique_id\", how=\"left\")"
   ]
  },
  {
   "cell_type": "code",
   "execution_count": 18,
   "metadata": {},
   "outputs": [
    {
     "name": "stdout",
     "output_type": "stream",
     "text": [
      "<class 'pandas.core.frame.DataFrame'>\n",
      "RangeIndex: 674 entries, 0 to 673\n",
      "Data columns (total 22 columns):\n",
      " #   Column                         Non-Null Count  Dtype  \n",
      "---  ------                         --------------  -----  \n",
      " 0   unique_id                      674 non-null    object \n",
      " 1   plot_code_nmbr                 674 non-null    int64  \n",
      " 2   Strata                         674 non-null    int64  \n",
      " 3   aboveground_CO2e_per_ha        618 non-null    float64\n",
      " 4   aboveground_tC_per_ha          618 non-null    float64\n",
      " 5   belowground_CO2e_per_ha        618 non-null    float64\n",
      " 6   belowground_tC_per_ha          618 non-null    float64\n",
      " 7   sapling_CO2e_per_ha            618 non-null    float64\n",
      " 8   saplings_tC_per_ha             618 non-null    float64\n",
      " 9   total_aboveground_CO2e_per_ha  618 non-null    float64\n",
      " 10  stumps_tonnes_dry_matter_ha    442 non-null    float64\n",
      " 11  ldw_tonnes_dry_matter_ha       479 non-null    float64\n",
      " 12  sdw_tonnes_dry_matter_ha       190 non-null    float64\n",
      " 13  all_tonnes_dry_matter_ha       572 non-null    float64\n",
      " 14  deadwood_tC_per_ha             572 non-null    float64\n",
      " 15  deadwood_CO2e_per_ha           572 non-null    float64\n",
      " 16  ntv_biomass_kg                 622 non-null    float64\n",
      " 17  ntv_kg_dry_matter              622 non-null    float64\n",
      " 18  ntv_CO2e_per_ha                622 non-null    float64\n",
      " 19  litter_biomass_kg              622 non-null    float64\n",
      " 20  litter_kg_dry_matter           622 non-null    float64\n",
      " 21  litter_CO2e_per_ha             622 non-null    float64\n",
      "dtypes: float64(19), int64(2), object(1)\n",
      "memory usage: 116.0+ KB\n"
     ]
    }
   ],
   "source": [
    "merged_df.info()"
   ]
  },
  {
   "cell_type": "code",
   "execution_count": 19,
   "metadata": {},
   "outputs": [
    {
     "data": {
      "text/html": [
       "<div>\n",
       "<style scoped>\n",
       "    .dataframe tbody tr th:only-of-type {\n",
       "        vertical-align: middle;\n",
       "    }\n",
       "\n",
       "    .dataframe tbody tr th {\n",
       "        vertical-align: top;\n",
       "    }\n",
       "\n",
       "    .dataframe thead th {\n",
       "        text-align: right;\n",
       "    }\n",
       "</style>\n",
       "<table border=\"1\" class=\"dataframe\">\n",
       "  <thead>\n",
       "    <tr style=\"text-align: right;\">\n",
       "      <th></th>\n",
       "      <th>unique_id</th>\n",
       "      <th>plot_code_nmbr</th>\n",
       "      <th>Strata</th>\n",
       "      <th>aboveground_CO2e_per_ha</th>\n",
       "      <th>aboveground_tC_per_ha</th>\n",
       "      <th>belowground_CO2e_per_ha</th>\n",
       "      <th>belowground_tC_per_ha</th>\n",
       "      <th>sapling_CO2e_per_ha</th>\n",
       "      <th>saplings_tC_per_ha</th>\n",
       "      <th>total_aboveground_CO2e_per_ha</th>\n",
       "      <th>...</th>\n",
       "      <th>sdw_tonnes_dry_matter_ha</th>\n",
       "      <th>all_tonnes_dry_matter_ha</th>\n",
       "      <th>deadwood_tC_per_ha</th>\n",
       "      <th>deadwood_CO2e_per_ha</th>\n",
       "      <th>ntv_biomass_kg</th>\n",
       "      <th>ntv_kg_dry_matter</th>\n",
       "      <th>ntv_CO2e_per_ha</th>\n",
       "      <th>litter_biomass_kg</th>\n",
       "      <th>litter_kg_dry_matter</th>\n",
       "      <th>litter_CO2e_per_ha</th>\n",
       "    </tr>\n",
       "  </thead>\n",
       "  <tbody>\n",
       "    <tr>\n",
       "      <th>0</th>\n",
       "      <td>308D1</td>\n",
       "      <td>308</td>\n",
       "      <td>2</td>\n",
       "      <td>166.732961</td>\n",
       "      <td>45.472626</td>\n",
       "      <td>60.023866</td>\n",
       "      <td>16.370145</td>\n",
       "      <td>11.98285</td>\n",
       "      <td>3.26805</td>\n",
       "      <td>178.715811</td>\n",
       "      <td>...</td>\n",
       "      <td>NaN</td>\n",
       "      <td>16.323138</td>\n",
       "      <td>7.671875</td>\n",
       "      <td>28.130208</td>\n",
       "      <td>0.80</td>\n",
       "      <td>0.120</td>\n",
       "      <td>8.2720</td>\n",
       "      <td>0.80</td>\n",
       "      <td>0.120</td>\n",
       "      <td>6.5120</td>\n",
       "    </tr>\n",
       "    <tr>\n",
       "      <th>1</th>\n",
       "      <td>308A1</td>\n",
       "      <td>308</td>\n",
       "      <td>2</td>\n",
       "      <td>75.508237</td>\n",
       "      <td>20.593155</td>\n",
       "      <td>27.182965</td>\n",
       "      <td>7.413536</td>\n",
       "      <td>0.00000</td>\n",
       "      <td>0.00000</td>\n",
       "      <td>75.508237</td>\n",
       "      <td>...</td>\n",
       "      <td>NaN</td>\n",
       "      <td>148.919571</td>\n",
       "      <td>69.992199</td>\n",
       "      <td>256.638062</td>\n",
       "      <td>0.06</td>\n",
       "      <td>0.009</td>\n",
       "      <td>0.6204</td>\n",
       "      <td>0.06</td>\n",
       "      <td>0.009</td>\n",
       "      <td>0.4884</td>\n",
       "    </tr>\n",
       "  </tbody>\n",
       "</table>\n",
       "<p>2 rows × 22 columns</p>\n",
       "</div>"
      ],
      "text/plain": [
       "  unique_id  plot_code_nmbr  Strata  aboveground_CO2e_per_ha  \\\n",
       "0     308D1             308       2               166.732961   \n",
       "1     308A1             308       2                75.508237   \n",
       "\n",
       "   aboveground_tC_per_ha  belowground_CO2e_per_ha  belowground_tC_per_ha  \\\n",
       "0              45.472626                60.023866              16.370145   \n",
       "1              20.593155                27.182965               7.413536   \n",
       "\n",
       "   sapling_CO2e_per_ha  saplings_tC_per_ha  total_aboveground_CO2e_per_ha  \\\n",
       "0             11.98285             3.26805                     178.715811   \n",
       "1              0.00000             0.00000                      75.508237   \n",
       "\n",
       "   ...  sdw_tonnes_dry_matter_ha  all_tonnes_dry_matter_ha  \\\n",
       "0  ...                       NaN                 16.323138   \n",
       "1  ...                       NaN                148.919571   \n",
       "\n",
       "   deadwood_tC_per_ha  deadwood_CO2e_per_ha  ntv_biomass_kg  \\\n",
       "0            7.671875             28.130208            0.80   \n",
       "1           69.992199            256.638062            0.06   \n",
       "\n",
       "   ntv_kg_dry_matter  ntv_CO2e_per_ha  litter_biomass_kg  \\\n",
       "0              0.120           8.2720               0.80   \n",
       "1              0.009           0.6204               0.06   \n",
       "\n",
       "   litter_kg_dry_matter  litter_CO2e_per_ha  \n",
       "0                 0.120              6.5120  \n",
       "1                 0.009              0.4884  \n",
       "\n",
       "[2 rows x 22 columns]"
      ]
     },
     "execution_count": 19,
     "metadata": {},
     "output_type": "execute_result"
    }
   ],
   "source": [
    "merged_df.head(2)"
   ]
  },
  {
   "cell_type": "code",
   "execution_count": 20,
   "metadata": {},
   "outputs": [],
   "source": [
    "plot_count = (\n",
    "    merged_df[[\"unique_id\", \"plot_code_nmbr\"]]\n",
    "    .groupby(\"plot_code_nmbr\")\n",
    "    .count()\n",
    "    .reset_index()\n",
    ")"
   ]
  },
  {
   "cell_type": "code",
   "execution_count": 21,
   "metadata": {},
   "outputs": [],
   "source": [
    "merged_df.drop(columns=[\"unique_id\"], inplace=True)"
   ]
  },
  {
   "cell_type": "code",
   "execution_count": 22,
   "metadata": {},
   "outputs": [],
   "source": [
    "# get mean value of emission factor for each plot\n",
    "plot_CO2e_ha = merged_df.groupby([\"plot_code_nmbr\", \"Strata\"]).mean().reset_index()"
   ]
  },
  {
   "cell_type": "code",
   "execution_count": 23,
   "metadata": {},
   "outputs": [],
   "source": [
    "# add count of subplots within each plot\n",
    "plot_CO2e_ha = plot_CO2e_ha.merge(plot_count, on=\"plot_code_nmbr\", how=\"left\")\n",
    "\n",
    "# rename unique_id to subplot_count\n",
    "plot_CO2e_ha.rename(columns={\"unique_id\": \"subplot_count\"}, inplace=True)"
   ]
  },
  {
   "cell_type": "code",
   "execution_count": 24,
   "metadata": {},
   "outputs": [],
   "source": [
    "# Drop plots that do not have any recorded data\n",
    "plot_CO2e_ha.dropna(\n",
    "    subset=[\n",
    "        \"aboveground_CO2e_per_ha\",\n",
    "        \"belowground_CO2e_per_ha\",\n",
    "        \"deadwood_CO2e_per_ha\",\n",
    "        \"ntv_CO2e_per_ha\",\n",
    "        \"litter_CO2e_per_ha\",\n",
    "    ],\n",
    "    inplace=True,\n",
    ")\n",
    "\n",
    "# Drop saplings column and aboveground column since these are summarized in the total_aboveground\n",
    "plot_CO2e_ha.drop(\n",
    "    columns=[\"sapling_CO2e_per_ha\", \"aboveground_CO2e_per_ha\"], inplace=True\n",
    ")"
   ]
  },
  {
   "cell_type": "code",
   "execution_count": 25,
   "metadata": {},
   "outputs": [
    {
     "name": "stdout",
     "output_type": "stream",
     "text": [
      "<class 'pandas.core.frame.DataFrame'>\n",
      "Index: 181 entries, 0 to 188\n",
      "Data columns (total 20 columns):\n",
      " #   Column                         Non-Null Count  Dtype  \n",
      "---  ------                         --------------  -----  \n",
      " 0   plot_code_nmbr                 181 non-null    int64  \n",
      " 1   Strata                         181 non-null    int64  \n",
      " 2   aboveground_tC_per_ha          181 non-null    float64\n",
      " 3   belowground_CO2e_per_ha        181 non-null    float64\n",
      " 4   belowground_tC_per_ha          181 non-null    float64\n",
      " 5   saplings_tC_per_ha             181 non-null    float64\n",
      " 6   total_aboveground_CO2e_per_ha  181 non-null    float64\n",
      " 7   stumps_tonnes_dry_matter_ha    173 non-null    float64\n",
      " 8   ldw_tonnes_dry_matter_ha       173 non-null    float64\n",
      " 9   sdw_tonnes_dry_matter_ha       121 non-null    float64\n",
      " 10  all_tonnes_dry_matter_ha       181 non-null    float64\n",
      " 11  deadwood_tC_per_ha             181 non-null    float64\n",
      " 12  deadwood_CO2e_per_ha           181 non-null    float64\n",
      " 13  ntv_biomass_kg                 181 non-null    float64\n",
      " 14  ntv_kg_dry_matter              181 non-null    float64\n",
      " 15  ntv_CO2e_per_ha                181 non-null    float64\n",
      " 16  litter_biomass_kg              181 non-null    float64\n",
      " 17  litter_kg_dry_matter           181 non-null    float64\n",
      " 18  litter_CO2e_per_ha             181 non-null    float64\n",
      " 19  subplot_count                  181 non-null    int64  \n",
      "dtypes: float64(17), int64(3)\n",
      "memory usage: 29.7 KB\n"
     ]
    }
   ],
   "source": [
    "plot_CO2e_ha.info()"
   ]
  },
  {
   "cell_type": "markdown",
   "metadata": {},
   "source": [
    "## Export data and Upload to BQ"
   ]
  },
  {
   "cell_type": "code",
   "execution_count": 26,
   "metadata": {},
   "outputs": [
    {
     "name": "stderr",
     "output_type": "stream",
     "text": [
      "100%|██████████| 1/1 [00:00<00:00, 9892.23it/s]\n"
     ]
    }
   ],
   "source": [
    "# Upload to BQ\n",
    "if len(plot_CO2e_ha) != 0:\n",
    "    plot_CO2e_ha.to_csv(\n",
    "        CARBON_STOCK_OUTDIR / f\"plot_emission_factors_{VERSION}.csv\", index=False\n",
    "    )\n",
    "    pandas_gbq.to_gbq(\n",
    "        plot_CO2e_ha,\n",
    "        f\"{DATASET_ID}.plot_emission_factors_{VERSION}\",\n",
    "        project_id=GCP_PROJ_ID,\n",
    "        if_exists=IF_EXISTS,\n",
    "        progress_bar=True,\n",
    "    )\n",
    "else:\n",
    "    raise ValueError(\"Dataframe is empty.\")"
   ]
  },
  {
   "cell_type": "markdown",
   "metadata": {},
   "source": [
    "# Create Strata Level Summary"
   ]
  },
  {
   "cell_type": "code",
   "execution_count": 33,
   "metadata": {},
   "outputs": [],
   "source": [
    "CO2e_ha_cols = plot_CO2e_ha.filter(like=\"CO2e_per_ha\").columns\n",
    "subset_cols = CO2e_ha_cols.insert(0, [\"plot_code_nmbr\", \"Strata\", \"subplot_count\"])"
   ]
  },
  {
   "cell_type": "code",
   "execution_count": 34,
   "metadata": {},
   "outputs": [],
   "source": [
    "data = plot_CO2e_ha[subset_cols].copy()"
   ]
  },
  {
   "cell_type": "code",
   "execution_count": 66,
   "metadata": {},
   "outputs": [],
   "source": [
    "data.rename(\n",
    "    columns={\"total_aboveground_CO2e_per_ha\": \"aboveground_CO2e_per_ha\"}, inplace=True\n",
    ")"
   ]
  },
  {
   "cell_type": "code",
   "execution_count": null,
   "metadata": {},
   "outputs": [
    {
     "data": {
      "text/html": [
       "<div>\n",
       "<style scoped>\n",
       "    .dataframe tbody tr th:only-of-type {\n",
       "        vertical-align: middle;\n",
       "    }\n",
       "\n",
       "    .dataframe tbody tr th {\n",
       "        vertical-align: top;\n",
       "    }\n",
       "\n",
       "    .dataframe thead th {\n",
       "        text-align: right;\n",
       "    }\n",
       "</style>\n",
       "<table border=\"1\" class=\"dataframe\">\n",
       "  <thead>\n",
       "    <tr style=\"text-align: right;\">\n",
       "      <th></th>\n",
       "      <th>plot_code_nmbr</th>\n",
       "      <th>Strata</th>\n",
       "      <th>subplot_count</th>\n",
       "      <th>belowground_CO2e_per_ha</th>\n",
       "      <th>total_aboveground_CO2e_per_ha</th>\n",
       "      <th>deadwood_CO2e_per_ha</th>\n",
       "      <th>ntv_CO2e_per_ha</th>\n",
       "      <th>litter_CO2e_per_ha</th>\n",
       "    </tr>\n",
       "  </thead>\n",
       "  <tbody>\n",
       "    <tr>\n",
       "      <th>0</th>\n",
       "      <td>1</td>\n",
       "      <td>1</td>\n",
       "      <td>4</td>\n",
       "      <td>259.191993</td>\n",
       "      <td>755.817271</td>\n",
       "      <td>135.094665</td>\n",
       "      <td>2.84350</td>\n",
       "      <td>2.2385</td>\n",
       "    </tr>\n",
       "    <tr>\n",
       "      <th>1</th>\n",
       "      <td>3</td>\n",
       "      <td>1</td>\n",
       "      <td>4</td>\n",
       "      <td>104.337814</td>\n",
       "      <td>365.517107</td>\n",
       "      <td>516.089270</td>\n",
       "      <td>2.55915</td>\n",
       "      <td>2.0350</td>\n",
       "    </tr>\n",
       "  </tbody>\n",
       "</table>\n",
       "</div>"
      ],
      "text/plain": [
       "   plot_code_nmbr  Strata  subplot_count  belowground_CO2e_per_ha  \\\n",
       "0               1       1              4               259.191993   \n",
       "1               3       1              4               104.337814   \n",
       "\n",
       "   total_aboveground_CO2e_per_ha  deadwood_CO2e_per_ha  ntv_CO2e_per_ha  \\\n",
       "0                     755.817271            135.094665          2.84350   \n",
       "1                     365.517107            516.089270          2.55915   \n",
       "\n",
       "   litter_CO2e_per_ha  \n",
       "0              2.2385  \n",
       "1              2.0350  "
      ]
     },
     "metadata": {},
     "output_type": "display_data"
    }
   ],
   "source": [
    "data.head(2)"
   ]
  },
  {
   "cell_type": "code",
   "execution_count": 68,
   "metadata": {},
   "outputs": [],
   "source": [
    "columns = [\n",
    "    \"belowground_CO2e_per_ha\",\n",
    "    \"aboveground_CO2e_per_ha\",\n",
    "    \"deadwood_CO2e_per_ha\",\n",
    "    \"ntv_CO2e_per_ha\",\n",
    "    \"litter_CO2e_per_ha\",\n",
    "]\n",
    "\n",
    "results_list = []\n",
    "\n",
    "for strata, group in data.groupby(\"Strata\"):\n",
    "    for column in columns:\n",
    "        stats = calculate_statistics(group, column)\n",
    "        stats[\"Strata\"] = strata\n",
    "        stats[\"tCO2e_per_ha\"] = column.split(\"_\")[0]\n",
    "        results_list.append(stats)\n",
    "\n",
    "results_df = pd.DataFrame(results_list)\n",
    "\n",
    "# Reordering columns for better readability\n",
    "results_df = results_df[\n",
    "    [\n",
    "        \"Strata\",\n",
    "        \"tCO2e_per_ha\",\n",
    "        \"weighted_mean\",\n",
    "        \"confidence_interval_lower\",\n",
    "        \"confidence_interval_upper\",\n",
    "        \"uncertainty_90\",\n",
    "        \"uncertainty_95\",\n",
    "        \"margin_of_error\",\n",
    "        \"weighted_std\",\n",
    "        \"standard_error\",\n",
    "        \"standard_error_perc_mean\",\n",
    "    ]\n",
    "]"
   ]
  },
  {
   "cell_type": "code",
   "execution_count": 70,
   "metadata": {},
   "outputs": [
    {
     "data": {
      "text/html": [
       "<div>\n",
       "<style scoped>\n",
       "    .dataframe tbody tr th:only-of-type {\n",
       "        vertical-align: middle;\n",
       "    }\n",
       "\n",
       "    .dataframe tbody tr th {\n",
       "        vertical-align: top;\n",
       "    }\n",
       "\n",
       "    .dataframe thead th {\n",
       "        text-align: right;\n",
       "    }\n",
       "</style>\n",
       "<table border=\"1\" class=\"dataframe\">\n",
       "  <thead>\n",
       "    <tr style=\"text-align: right;\">\n",
       "      <th></th>\n",
       "      <th>Strata</th>\n",
       "      <th>tCO2e_per_ha</th>\n",
       "      <th>weighted_mean</th>\n",
       "      <th>confidence_interval_lower</th>\n",
       "      <th>confidence_interval_upper</th>\n",
       "      <th>uncertainty_90</th>\n",
       "      <th>uncertainty_95</th>\n",
       "      <th>margin_of_error</th>\n",
       "      <th>weighted_std</th>\n",
       "      <th>standard_error</th>\n",
       "      <th>standard_error_perc_mean</th>\n",
       "    </tr>\n",
       "  </thead>\n",
       "  <tbody>\n",
       "    <tr>\n",
       "      <th>0</th>\n",
       "      <td>1</td>\n",
       "      <td>belowground</td>\n",
       "      <td>144.767099</td>\n",
       "      <td>136.314343</td>\n",
       "      <td>153.219856</td>\n",
       "      <td>5.838866</td>\n",
       "      <td>6.957437</td>\n",
       "      <td>8.452756</td>\n",
       "      <td>85.528524</td>\n",
       "      <td>5.138911</td>\n",
       "      <td>3.549778</td>\n",
       "    </tr>\n",
       "    <tr>\n",
       "      <th>1</th>\n",
       "      <td>1</td>\n",
       "      <td>aboveground</td>\n",
       "      <td>458.834899</td>\n",
       "      <td>434.806932</td>\n",
       "      <td>482.862866</td>\n",
       "      <td>5.236735</td>\n",
       "      <td>6.239954</td>\n",
       "      <td>24.027967</td>\n",
       "      <td>243.125021</td>\n",
       "      <td>14.607967</td>\n",
       "      <td>3.183709</td>\n",
       "    </tr>\n",
       "  </tbody>\n",
       "</table>\n",
       "</div>"
      ],
      "text/plain": [
       "   Strata tCO2e_per_ha  weighted_mean  confidence_interval_lower  \\\n",
       "0       1  belowground     144.767099                 136.314343   \n",
       "1       1  aboveground     458.834899                 434.806932   \n",
       "\n",
       "   confidence_interval_upper  uncertainty_90  uncertainty_95  margin_of_error  \\\n",
       "0                 153.219856        5.838866        6.957437         8.452756   \n",
       "1                 482.862866        5.236735        6.239954        24.027967   \n",
       "\n",
       "   weighted_std  standard_error  standard_error_perc_mean  \n",
       "0     85.528524        5.138911                  3.549778  \n",
       "1    243.125021       14.607967                  3.183709  "
      ]
     },
     "execution_count": 70,
     "metadata": {},
     "output_type": "execute_result"
    }
   ],
   "source": [
    "results_df.head(2)"
   ]
  },
  {
   "cell_type": "code",
   "execution_count": 71,
   "metadata": {},
   "outputs": [],
   "source": [
    "results_df.sort_values(by=[\"Strata\", \"tCO2e_per_ha\"], inplace=True)"
   ]
  },
  {
   "cell_type": "code",
   "execution_count": 74,
   "metadata": {},
   "outputs": [
    {
     "data": {
      "text/html": [
       "<div>\n",
       "<style scoped>\n",
       "    .dataframe tbody tr th:only-of-type {\n",
       "        vertical-align: middle;\n",
       "    }\n",
       "\n",
       "    .dataframe tbody tr th {\n",
       "        vertical-align: top;\n",
       "    }\n",
       "\n",
       "    .dataframe thead th {\n",
       "        text-align: right;\n",
       "    }\n",
       "</style>\n",
       "<table border=\"1\" class=\"dataframe\">\n",
       "  <thead>\n",
       "    <tr style=\"text-align: right;\">\n",
       "      <th></th>\n",
       "      <th>Strata</th>\n",
       "      <th>tCO2e_per_ha</th>\n",
       "      <th>weighted_mean</th>\n",
       "      <th>confidence_interval_lower</th>\n",
       "      <th>confidence_interval_upper</th>\n",
       "      <th>uncertainty_90</th>\n",
       "      <th>uncertainty_95</th>\n",
       "      <th>standard_error_perc_mean</th>\n",
       "    </tr>\n",
       "  </thead>\n",
       "  <tbody>\n",
       "    <tr>\n",
       "      <th>1</th>\n",
       "      <td>1</td>\n",
       "      <td>aboveground</td>\n",
       "      <td>458.834899</td>\n",
       "      <td>434.806932</td>\n",
       "      <td>482.862866</td>\n",
       "      <td>5.236735</td>\n",
       "      <td>6.239954</td>\n",
       "      <td>3.183709</td>\n",
       "    </tr>\n",
       "    <tr>\n",
       "      <th>0</th>\n",
       "      <td>1</td>\n",
       "      <td>belowground</td>\n",
       "      <td>144.767099</td>\n",
       "      <td>136.314343</td>\n",
       "      <td>153.219856</td>\n",
       "      <td>5.838866</td>\n",
       "      <td>6.957437</td>\n",
       "      <td>3.549778</td>\n",
       "    </tr>\n",
       "    <tr>\n",
       "      <th>2</th>\n",
       "      <td>1</td>\n",
       "      <td>deadwood</td>\n",
       "      <td>662.658117</td>\n",
       "      <td>603.924793</td>\n",
       "      <td>721.391441</td>\n",
       "      <td>8.863292</td>\n",
       "      <td>10.561264</td>\n",
       "      <td>5.388499</td>\n",
       "    </tr>\n",
       "    <tr>\n",
       "      <th>4</th>\n",
       "      <td>1</td>\n",
       "      <td>litter</td>\n",
       "      <td>1.392513</td>\n",
       "      <td>1.298771</td>\n",
       "      <td>1.486255</td>\n",
       "      <td>6.731890</td>\n",
       "      <td>8.021542</td>\n",
       "      <td>4.092699</td>\n",
       "    </tr>\n",
       "    <tr>\n",
       "      <th>3</th>\n",
       "      <td>1</td>\n",
       "      <td>ntv</td>\n",
       "      <td>1.765882</td>\n",
       "      <td>1.646693</td>\n",
       "      <td>1.885071</td>\n",
       "      <td>6.749545</td>\n",
       "      <td>8.042579</td>\n",
       "      <td>4.103432</td>\n",
       "    </tr>\n",
       "    <tr>\n",
       "      <th>6</th>\n",
       "      <td>2</td>\n",
       "      <td>aboveground</td>\n",
       "      <td>317.891018</td>\n",
       "      <td>301.433932</td>\n",
       "      <td>334.348103</td>\n",
       "      <td>5.176958</td>\n",
       "      <td>6.168726</td>\n",
       "      <td>3.147367</td>\n",
       "    </tr>\n",
       "    <tr>\n",
       "      <th>5</th>\n",
       "      <td>2</td>\n",
       "      <td>belowground</td>\n",
       "      <td>88.537490</td>\n",
       "      <td>83.306287</td>\n",
       "      <td>93.768693</td>\n",
       "      <td>5.908461</td>\n",
       "      <td>7.040366</td>\n",
       "      <td>3.592089</td>\n",
       "    </tr>\n",
       "    <tr>\n",
       "      <th>7</th>\n",
       "      <td>2</td>\n",
       "      <td>deadwood</td>\n",
       "      <td>788.277743</td>\n",
       "      <td>714.787962</td>\n",
       "      <td>861.767523</td>\n",
       "      <td>9.322828</td>\n",
       "      <td>11.108835</td>\n",
       "      <td>5.667877</td>\n",
       "    </tr>\n",
       "    <tr>\n",
       "      <th>9</th>\n",
       "      <td>2</td>\n",
       "      <td>litter</td>\n",
       "      <td>1.422163</td>\n",
       "      <td>1.318398</td>\n",
       "      <td>1.525929</td>\n",
       "      <td>7.296335</td>\n",
       "      <td>8.694119</td>\n",
       "      <td>4.435856</td>\n",
       "    </tr>\n",
       "    <tr>\n",
       "      <th>8</th>\n",
       "      <td>2</td>\n",
       "      <td>ntv</td>\n",
       "      <td>1.805900</td>\n",
       "      <td>1.674181</td>\n",
       "      <td>1.937619</td>\n",
       "      <td>7.293830</td>\n",
       "      <td>8.691135</td>\n",
       "      <td>4.434334</td>\n",
       "    </tr>\n",
       "    <tr>\n",
       "      <th>11</th>\n",
       "      <td>5</td>\n",
       "      <td>aboveground</td>\n",
       "      <td>-661.715671</td>\n",
       "      <td>-661.715671</td>\n",
       "      <td>-661.715671</td>\n",
       "      <td>-0.000000</td>\n",
       "      <td>-0.000000</td>\n",
       "      <td>-0.000000</td>\n",
       "    </tr>\n",
       "    <tr>\n",
       "      <th>10</th>\n",
       "      <td>5</td>\n",
       "      <td>belowground</td>\n",
       "      <td>-243.893246</td>\n",
       "      <td>-243.893246</td>\n",
       "      <td>-243.893246</td>\n",
       "      <td>-0.000000</td>\n",
       "      <td>-0.000000</td>\n",
       "      <td>-0.000000</td>\n",
       "    </tr>\n",
       "    <tr>\n",
       "      <th>12</th>\n",
       "      <td>5</td>\n",
       "      <td>deadwood</td>\n",
       "      <td>156.441004</td>\n",
       "      <td>156.441004</td>\n",
       "      <td>156.441004</td>\n",
       "      <td>0.000000</td>\n",
       "      <td>0.000000</td>\n",
       "      <td>0.000000</td>\n",
       "    </tr>\n",
       "    <tr>\n",
       "      <th>14</th>\n",
       "      <td>5</td>\n",
       "      <td>litter</td>\n",
       "      <td>4.643870</td>\n",
       "      <td>4.643870</td>\n",
       "      <td>4.643870</td>\n",
       "      <td>0.000000</td>\n",
       "      <td>0.000000</td>\n",
       "      <td>0.000000</td>\n",
       "    </tr>\n",
       "    <tr>\n",
       "      <th>13</th>\n",
       "      <td>5</td>\n",
       "      <td>ntv</td>\n",
       "      <td>5.898970</td>\n",
       "      <td>5.898970</td>\n",
       "      <td>5.898970</td>\n",
       "      <td>0.000000</td>\n",
       "      <td>0.000000</td>\n",
       "      <td>0.000000</td>\n",
       "    </tr>\n",
       "  </tbody>\n",
       "</table>\n",
       "</div>"
      ],
      "text/plain": [
       "    Strata tCO2e_per_ha  weighted_mean  confidence_interval_lower  \\\n",
       "1        1  aboveground     458.834899                 434.806932   \n",
       "0        1  belowground     144.767099                 136.314343   \n",
       "2        1     deadwood     662.658117                 603.924793   \n",
       "4        1       litter       1.392513                   1.298771   \n",
       "3        1          ntv       1.765882                   1.646693   \n",
       "6        2  aboveground     317.891018                 301.433932   \n",
       "5        2  belowground      88.537490                  83.306287   \n",
       "7        2     deadwood     788.277743                 714.787962   \n",
       "9        2       litter       1.422163                   1.318398   \n",
       "8        2          ntv       1.805900                   1.674181   \n",
       "11       5  aboveground    -661.715671                -661.715671   \n",
       "10       5  belowground    -243.893246                -243.893246   \n",
       "12       5     deadwood     156.441004                 156.441004   \n",
       "14       5       litter       4.643870                   4.643870   \n",
       "13       5          ntv       5.898970                   5.898970   \n",
       "\n",
       "    confidence_interval_upper  uncertainty_90  uncertainty_95  \\\n",
       "1                  482.862866        5.236735        6.239954   \n",
       "0                  153.219856        5.838866        6.957437   \n",
       "2                  721.391441        8.863292       10.561264   \n",
       "4                    1.486255        6.731890        8.021542   \n",
       "3                    1.885071        6.749545        8.042579   \n",
       "6                  334.348103        5.176958        6.168726   \n",
       "5                   93.768693        5.908461        7.040366   \n",
       "7                  861.767523        9.322828       11.108835   \n",
       "9                    1.525929        7.296335        8.694119   \n",
       "8                    1.937619        7.293830        8.691135   \n",
       "11                -661.715671       -0.000000       -0.000000   \n",
       "10                -243.893246       -0.000000       -0.000000   \n",
       "12                 156.441004        0.000000        0.000000   \n",
       "14                   4.643870        0.000000        0.000000   \n",
       "13                   5.898970        0.000000        0.000000   \n",
       "\n",
       "    standard_error_perc_mean  \n",
       "1                   3.183709  \n",
       "0                   3.549778  \n",
       "2                   5.388499  \n",
       "4                   4.092699  \n",
       "3                   4.103432  \n",
       "6                   3.147367  \n",
       "5                   3.592089  \n",
       "7                   5.667877  \n",
       "9                   4.435856  \n",
       "8                   4.434334  \n",
       "11                 -0.000000  \n",
       "10                 -0.000000  \n",
       "12                  0.000000  \n",
       "14                  0.000000  \n",
       "13                  0.000000  "
      ]
     },
     "execution_count": 74,
     "metadata": {},
     "output_type": "execute_result"
    }
   ],
   "source": [
    "results_df[\n",
    "    [\n",
    "        \"Strata\",\n",
    "        \"tCO2e_per_ha\",\n",
    "        \"weighted_mean\",\n",
    "        \"confidence_interval_lower\",\n",
    "        \"confidence_interval_upper\",\n",
    "        \"uncertainty_90\",\n",
    "        \"uncertainty_95\",\n",
    "        \"standard_error_perc_mean\",\n",
    "    ]\n",
    "]"
   ]
  },
  {
   "cell_type": "markdown",
   "metadata": {},
   "source": [
    "## Export data and Upload to BQ"
   ]
  },
  {
   "cell_type": "code",
   "execution_count": 80,
   "metadata": {},
   "outputs": [
    {
     "name": "stderr",
     "output_type": "stream",
     "text": [
      "100%|██████████| 1/1 [00:00<00:00, 4364.52it/s]\n"
     ]
    }
   ],
   "source": [
    "# Upload to BQ\n",
    "if len(results_df) != 0:\n",
    "    results_df.to_csv(\n",
    "        CARBON_STOCK_OUTDIR / f\"strata_emission_factors_{VERSION}.csv\", index=False\n",
    "    )\n",
    "    pandas_gbq.to_gbq(\n",
    "        results_df,\n",
    "        f\"{DATASET_ID}.strata_emission_factors_{VERSION}\",\n",
    "        project_id=GCP_PROJ_ID,\n",
    "        if_exists=IF_EXISTS,\n",
    "        progress_bar=True,\n",
    "    )\n",
    "else:\n",
    "    raise ValueError(\"Dataframe is empty.\")"
   ]
  }
 ],
 "metadata": {
  "kernelspec": {
   "display_name": "onebase",
   "language": "python",
   "name": "python3"
  },
  "language_info": {
   "codemirror_mode": {
    "name": "ipython",
    "version": 3
   },
   "file_extension": ".py",
   "mimetype": "text/x-python",
   "name": "python",
   "nbconvert_exporter": "python",
   "pygments_lexer": "ipython3",
   "version": "3.12.4"
  }
 },
 "nbformat": 4,
 "nbformat_minor": 2
}
