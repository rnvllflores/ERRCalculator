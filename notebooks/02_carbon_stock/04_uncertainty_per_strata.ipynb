{
 "cells": [
  {
   "cell_type": "markdown",
   "metadata": {},
   "source": [
    "# Calculate emission factors and confidence intervals"
   ]
  },
  {
   "cell_type": "markdown",
   "metadata": {},
   "source": [
    "# Imports and Set-up"
   ]
  },
  {
   "cell_type": "code",
   "execution_count": 72,
   "metadata": {},
   "outputs": [],
   "source": [
    "# Standard Imports\n",
    "import sys\n",
    "import pandas as pd\n",
    "\n",
    "# Google Cloud Imports\n",
    "import pandas_gbq"
   ]
  },
  {
   "cell_type": "code",
   "execution_count": 73,
   "metadata": {},
   "outputs": [],
   "source": [
    "# Util imports\n",
    "sys.path.append(\"../../\")  # include parent directory\n",
    "from src.settings import GCP_PROJ_ID, CARBON_STOCK_OUTDIR, CARBON_POOLS_OUTDIR"
   ]
  },
  {
   "cell_type": "code",
   "execution_count": 74,
   "metadata": {},
   "outputs": [],
   "source": [
    "# Variables\n",
    "PLOT_INFO_CSV = CARBON_POOLS_OUTDIR / \"plot_info.csv\"\n",
    "LITTER_CSV = CARBON_STOCK_OUTDIR / \"litter_carbon_stock.csv\"\n",
    "NTV_CSV = CARBON_STOCK_OUTDIR / \"ntv_carbon_stock.csv\"\n",
    "DEADWOOD_CSV = CARBON_STOCK_OUTDIR / \"deadwood_carbon_stock.csv\"\n",
    "TREES_CSV = CARBON_STOCK_OUTDIR / \"trees_carbon_stock.csv\"\n",
    "\n",
    "# BigQuery Variables\n",
    "SRC_DATASET_ID = \"biomass_inventory\"\n",
    "DATASET_ID = \"carbon_stock\"\n",
    "IF_EXISTS = \"replace\""
   ]
  },
  {
   "cell_type": "markdown",
   "metadata": {},
   "source": [
    "## Load data"
   ]
  },
  {
   "cell_type": "markdown",
   "metadata": {},
   "source": [
    "### Plot Data"
   ]
  },
  {
   "cell_type": "code",
   "execution_count": 75,
   "metadata": {},
   "outputs": [],
   "source": [
    "if PLOT_INFO_CSV.exists():\n",
    "    plot_info = pd.read_csv(PLOT_INFO_CSV)\n",
    "else:\n",
    "    query = f\"\"\"\n",
    "    SELECT\n",
    "        * \n",
    "    FROM {GCP_PROJ_ID}.{SRC_DATASET_ID}.plot_info\"\"\"\n",
    "\n",
    "    # Read the BigQuery table into a dataframe\n",
    "    plot_info = pandas_gbq.read_gbq(query, project_id=GCP_PROJ_ID)\n",
    "    plot_info.to_csv(PLOT_INFO_CSV, index=False)"
   ]
  },
  {
   "cell_type": "code",
   "execution_count": 76,
   "metadata": {},
   "outputs": [
    {
     "name": "stdout",
     "output_type": "stream",
     "text": [
      "<class 'pandas.core.frame.DataFrame'>\n",
      "RangeIndex: 671 entries, 0 to 670\n",
      "Data columns (total 31 columns):\n",
      " #   Column                     Non-Null Count  Dtype  \n",
      "---  ------                     --------------  -----  \n",
      " 0   unique_id                  671 non-null    object \n",
      " 1   data_recorder              671 non-null    object \n",
      " 2   team_no                    671 non-null    int64  \n",
      " 3   plot_code_nmbr             671 non-null    int64  \n",
      " 4   plot_type                  671 non-null    object \n",
      " 5   sub_plot                   671 non-null    object \n",
      " 6   yes_no                     671 non-null    object \n",
      " 7   sub_plot_shift             633 non-null    object \n",
      " 8   GPS_waypt                  633 non-null    float64\n",
      " 9   GPS_id                     633 non-null    float64\n",
      " 10  GPS                        576 non-null    object \n",
      " 11  GPS_latitude               576 non-null    float64\n",
      " 12  GPS_longitude              576 non-null    float64\n",
      " 13  GPS_altitude               576 non-null    float64\n",
      " 14  GPS_precision              576 non-null    float64\n",
      " 15  photo                      633 non-null    object \n",
      " 16  manual_reason              38 non-null     object \n",
      " 17  lc_type                    633 non-null    object \n",
      " 18  lc_class                   619 non-null    object \n",
      " 19  lc_class_other             12 non-null     object \n",
      " 20  disturbance_yesno          477 non-null    object \n",
      " 21  disturbance_type           148 non-null    object \n",
      " 22  disturbance_class          148 non-null    object \n",
      " 23  slope                      619 non-null    float64\n",
      " 24  canopy_avg_height          619 non-null    float64\n",
      " 25  canopy_cover               619 non-null    float64\n",
      " 26  access_reason              38 non-null     object \n",
      " 27  slope_radians              619 non-null    float64\n",
      " 28  corrected_plot_area_n2_m2  619 non-null    float64\n",
      " 29  corrected_plot_area_n3_m2  619 non-null    float64\n",
      " 30  corrected_plot_area_n4_m2  619 non-null    float64\n",
      "dtypes: float64(13), int64(2), object(16)\n",
      "memory usage: 162.6+ KB\n"
     ]
    }
   ],
   "source": [
    "plot_info.info()"
   ]
  },
  {
   "cell_type": "markdown",
   "metadata": {},
   "source": [
    "### Trees"
   ]
  },
  {
   "cell_type": "code",
   "execution_count": 77,
   "metadata": {},
   "outputs": [],
   "source": [
    "if TREES_CSV.exists():\n",
    "    trees = pd.read_csv(TREES_CSV)\n",
    "else:\n",
    "    query = f\"\"\"\n",
    "    SELECT\n",
    "        * \n",
    "    FROM {GCP_PROJ_ID}.{SRC_DATASET_ID}.trees_carbon_stock\"\"\"\n",
    "\n",
    "    # Read the BigQuery table into a dataframe\n",
    "    trees = pandas_gbq.read_gbq(query, project_id=GCP_PROJ_ID)\n",
    "    trees.to_csv(TREES_CSV, index=False)"
   ]
  },
  {
   "cell_type": "code",
   "execution_count": 78,
   "metadata": {},
   "outputs": [
    {
     "name": "stdout",
     "output_type": "stream",
     "text": [
      "<class 'pandas.core.frame.DataFrame'>\n",
      "RangeIndex: 615 entries, 0 to 614\n",
      "Data columns (total 5 columns):\n",
      " #   Column                   Non-Null Count  Dtype  \n",
      "---  ------                   --------------  -----  \n",
      " 0   unique_id                615 non-null    object \n",
      " 1   aboveground_CO2e_per_ha  615 non-null    float64\n",
      " 2   aboveground_tC_per_ha    615 non-null    float64\n",
      " 3   belowground_CO2e_per_ha  615 non-null    float64\n",
      " 4   belowground_tC_per_ha    615 non-null    float64\n",
      "dtypes: float64(4), object(1)\n",
      "memory usage: 24.2+ KB\n"
     ]
    }
   ],
   "source": [
    "trees.info()"
   ]
  },
  {
   "cell_type": "markdown",
   "metadata": {},
   "source": [
    "### Deadwood"
   ]
  },
  {
   "cell_type": "code",
   "execution_count": 79,
   "metadata": {},
   "outputs": [],
   "source": [
    "if DEADWOOD_CSV.exists():\n",
    "    deadwood = pd.read_csv(DEADWOOD_CSV)\n",
    "else:\n",
    "    query = f\"\"\"\n",
    "    SELECT\n",
    "        * \n",
    "    FROM {GCP_PROJ_ID}.{SRC_DATASET_ID}.deadwood_carbon_stock\"\"\"\n",
    "\n",
    "    # Read the BigQuery table into a dataframe\n",
    "    deadwood = pandas_gbq.read_gbq(query, project_id=GCP_PROJ_ID)\n",
    "    deadwood.to_csv(DEADWOOD_CSV, index=False)"
   ]
  },
  {
   "cell_type": "code",
   "execution_count": 80,
   "metadata": {},
   "outputs": [
    {
     "name": "stdout",
     "output_type": "stream",
     "text": [
      "<class 'pandas.core.frame.DataFrame'>\n",
      "RangeIndex: 570 entries, 0 to 569\n",
      "Data columns (total 7 columns):\n",
      " #   Column                       Non-Null Count  Dtype  \n",
      "---  ------                       --------------  -----  \n",
      " 0   unique_id                    570 non-null    object \n",
      " 1   stumps_tonnes_dry_matter_ha  440 non-null    float64\n",
      " 2   ldw_tonnes_dry_matter_ha     476 non-null    float64\n",
      " 3   sdw_tonnes_dry_matter_ha     191 non-null    float64\n",
      " 4   all_tonnes_dry_matter_ha     570 non-null    float64\n",
      " 5   deadwood_tC_per_ha           570 non-null    float64\n",
      " 6   deadwood_CO2e_per_ha         570 non-null    float64\n",
      "dtypes: float64(6), object(1)\n",
      "memory usage: 31.3+ KB\n"
     ]
    }
   ],
   "source": [
    "deadwood.info()"
   ]
  },
  {
   "cell_type": "markdown",
   "metadata": {},
   "source": [
    "### Litter"
   ]
  },
  {
   "cell_type": "code",
   "execution_count": 81,
   "metadata": {},
   "outputs": [],
   "source": [
    "if LITTER_CSV.exists():\n",
    "    litter = pd.read_csv(LITTER_CSV)\n",
    "else:\n",
    "    query = f\"\"\"\n",
    "    SELECT\n",
    "        * \n",
    "    FROM {GCP_PROJ_ID}.{SRC_DATASET_ID}.litter_carbon_stock\"\"\"\n",
    "\n",
    "    # Read the BigQuery table into a dataframe\n",
    "    litter = pandas_gbq.read_gbq(query, project_id=GCP_PROJ_ID)\n",
    "    litter.to_csv(LITTER_CSV, index=False)"
   ]
  },
  {
   "cell_type": "code",
   "execution_count": 82,
   "metadata": {},
   "outputs": [
    {
     "name": "stdout",
     "output_type": "stream",
     "text": [
      "<class 'pandas.core.frame.DataFrame'>\n",
      "RangeIndex: 671 entries, 0 to 670\n",
      "Data columns (total 4 columns):\n",
      " #   Column                Non-Null Count  Dtype  \n",
      "---  ------                --------------  -----  \n",
      " 0   unique_id             671 non-null    object \n",
      " 1   litter_biomass_kg     619 non-null    float64\n",
      " 2   litter_kg_dry_matter  619 non-null    float64\n",
      " 3   litter_CO2e_per_ha    619 non-null    float64\n",
      "dtypes: float64(3), object(1)\n",
      "memory usage: 21.1+ KB\n"
     ]
    }
   ],
   "source": [
    "litter.info()"
   ]
  },
  {
   "cell_type": "markdown",
   "metadata": {},
   "source": [
    "### Non-tree Vegetation"
   ]
  },
  {
   "cell_type": "code",
   "execution_count": 83,
   "metadata": {},
   "outputs": [],
   "source": [
    "if NTV_CSV.exists():\n",
    "    ntv = pd.read_csv(NTV_CSV)\n",
    "else:\n",
    "    query = f\"\"\"\n",
    "    SELECT\n",
    "        * \n",
    "    FROM {GCP_PROJ_ID}.{SRC_DATASET_ID}.ntv_carbon_stock\"\"\"\n",
    "\n",
    "    # Read the BigQuery table into a dataframe\n",
    "    ntv = pandas_gbq.read_gbq(query, project_id=GCP_PROJ_ID)\n",
    "    ntv.to_csv(NTV_CSV, index=False)"
   ]
  },
  {
   "cell_type": "code",
   "execution_count": 84,
   "metadata": {},
   "outputs": [
    {
     "name": "stdout",
     "output_type": "stream",
     "text": [
      "<class 'pandas.core.frame.DataFrame'>\n",
      "RangeIndex: 671 entries, 0 to 670\n",
      "Data columns (total 4 columns):\n",
      " #   Column             Non-Null Count  Dtype  \n",
      "---  ------             --------------  -----  \n",
      " 0   unique_id          671 non-null    object \n",
      " 1   ntv_biomass_kg     619 non-null    float64\n",
      " 2   ntv_kg_dry_matter  619 non-null    float64\n",
      " 3   ntv_CO2e_per_ha    619 non-null    float64\n",
      "dtypes: float64(3), object(1)\n",
      "memory usage: 21.1+ KB\n"
     ]
    }
   ],
   "source": [
    "ntv.info()"
   ]
  },
  {
   "cell_type": "markdown",
   "metadata": {},
   "source": [
    "# Create subplot level summary"
   ]
  },
  {
   "cell_type": "code",
   "execution_count": 85,
   "metadata": {},
   "outputs": [],
   "source": [
    "merged_df = plot_info[[]].merge(trees, on=\"unique_id\", how=\"left\")\n",
    "merged_df = merged_df.merge(deadwood, on=\"unique_id\", how=\"left\")\n",
    "merged_df = merged_df.merge(ntv, on=\"unique_id\", how=\"left\")\n",
    "merged_df = merged_df.merge(litter, on=\"unique_id\", how=\"left\")"
   ]
  },
  {
   "cell_type": "code",
   "execution_count": 91,
   "metadata": {},
   "outputs": [
    {
     "data": {
      "text/html": [
       "<div>\n",
       "<style scoped>\n",
       "    .dataframe tbody tr th:only-of-type {\n",
       "        vertical-align: middle;\n",
       "    }\n",
       "\n",
       "    .dataframe tbody tr th {\n",
       "        vertical-align: top;\n",
       "    }\n",
       "\n",
       "    .dataframe thead th {\n",
       "        text-align: right;\n",
       "    }\n",
       "</style>\n",
       "<table border=\"1\" class=\"dataframe\">\n",
       "  <thead>\n",
       "    <tr style=\"text-align: right;\">\n",
       "      <th></th>\n",
       "      <th>unique_id</th>\n",
       "      <th>data_recorder</th>\n",
       "      <th>team_no</th>\n",
       "      <th>plot_code_nmbr</th>\n",
       "      <th>plot_type</th>\n",
       "      <th>sub_plot</th>\n",
       "      <th>yes_no</th>\n",
       "      <th>sub_plot_shift</th>\n",
       "      <th>GPS_waypt</th>\n",
       "      <th>GPS_id</th>\n",
       "      <th>...</th>\n",
       "      <th>sdw_tonnes_dry_matter_ha</th>\n",
       "      <th>all_tonnes_dry_matter_ha</th>\n",
       "      <th>deadwood_tC_per_ha</th>\n",
       "      <th>deadwood_CO2e_per_ha</th>\n",
       "      <th>ntv_biomass_kg</th>\n",
       "      <th>ntv_kg_dry_matter</th>\n",
       "      <th>ntv_CO2e_per_ha</th>\n",
       "      <th>litter_biomass_kg</th>\n",
       "      <th>litter_kg_dry_matter</th>\n",
       "      <th>litter_CO2e_per_ha</th>\n",
       "    </tr>\n",
       "  </thead>\n",
       "  <tbody>\n",
       "    <tr>\n",
       "      <th>0</th>\n",
       "      <td>308D1</td>\n",
       "      <td>Steve</td>\n",
       "      <td>1</td>\n",
       "      <td>308</td>\n",
       "      <td>primary</td>\n",
       "      <td>sub_plotD</td>\n",
       "      <td>yes</td>\n",
       "      <td>no_shift</td>\n",
       "      <td>7.0</td>\n",
       "      <td>1.0</td>\n",
       "      <td>...</td>\n",
       "      <td>NaN</td>\n",
       "      <td>16.323138</td>\n",
       "      <td>7.671875</td>\n",
       "      <td>28.130208</td>\n",
       "      <td>0.80</td>\n",
       "      <td>0.120</td>\n",
       "      <td>8.2720</td>\n",
       "      <td>0.80</td>\n",
       "      <td>0.120</td>\n",
       "      <td>6.5120</td>\n",
       "    </tr>\n",
       "    <tr>\n",
       "      <th>1</th>\n",
       "      <td>308A1</td>\n",
       "      <td>Steve</td>\n",
       "      <td>1</td>\n",
       "      <td>308</td>\n",
       "      <td>primary</td>\n",
       "      <td>sub_plotA</td>\n",
       "      <td>yes</td>\n",
       "      <td>no_shift</td>\n",
       "      <td>8.0</td>\n",
       "      <td>1.0</td>\n",
       "      <td>...</td>\n",
       "      <td>NaN</td>\n",
       "      <td>148.919571</td>\n",
       "      <td>69.992199</td>\n",
       "      <td>256.638062</td>\n",
       "      <td>0.06</td>\n",
       "      <td>0.009</td>\n",
       "      <td>0.6204</td>\n",
       "      <td>0.06</td>\n",
       "      <td>0.009</td>\n",
       "      <td>0.4884</td>\n",
       "    </tr>\n",
       "  </tbody>\n",
       "</table>\n",
       "<p>2 rows × 47 columns</p>\n",
       "</div>"
      ],
      "text/plain": [
       "  unique_id data_recorder  team_no  plot_code_nmbr plot_type   sub_plot  \\\n",
       "0     308D1         Steve        1             308   primary  sub_plotD   \n",
       "1     308A1         Steve        1             308   primary  sub_plotA   \n",
       "\n",
       "  yes_no sub_plot_shift  GPS_waypt  GPS_id  ... sdw_tonnes_dry_matter_ha  \\\n",
       "0    yes       no_shift        7.0     1.0  ...                      NaN   \n",
       "1    yes       no_shift        8.0     1.0  ...                      NaN   \n",
       "\n",
       "   all_tonnes_dry_matter_ha  deadwood_tC_per_ha  deadwood_CO2e_per_ha  \\\n",
       "0                 16.323138            7.671875             28.130208   \n",
       "1                148.919571           69.992199            256.638062   \n",
       "\n",
       "   ntv_biomass_kg ntv_kg_dry_matter ntv_CO2e_per_ha litter_biomass_kg  \\\n",
       "0            0.80             0.120          8.2720              0.80   \n",
       "1            0.06             0.009          0.6204              0.06   \n",
       "\n",
       "  litter_kg_dry_matter litter_CO2e_per_ha  \n",
       "0                0.120             6.5120  \n",
       "1                0.009             0.4884  \n",
       "\n",
       "[2 rows x 47 columns]"
      ]
     },
     "execution_count": 91,
     "metadata": {},
     "output_type": "execute_result"
    }
   ],
   "source": [
    "merged_df.head(2)"
   ]
  },
  {
   "cell_type": "code",
   "execution_count": 92,
   "metadata": {},
   "outputs": [
    {
     "data": {
      "text/plain": [
       "Index(['unique_id', 'data_recorder', 'team_no', 'plot_code_nmbr', 'plot_type',\n",
       "       'sub_plot', 'yes_no', 'sub_plot_shift', 'GPS_waypt', 'GPS_id', 'GPS',\n",
       "       'GPS_latitude', 'GPS_longitude', 'GPS_altitude', 'GPS_precision',\n",
       "       'photo', 'manual_reason', 'lc_type', 'lc_class', 'lc_class_other',\n",
       "       'disturbance_yesno', 'disturbance_type', 'disturbance_class', 'slope',\n",
       "       'canopy_avg_height', 'canopy_cover', 'access_reason', 'slope_radians',\n",
       "       'corrected_plot_area_n2_m2', 'corrected_plot_area_n3_m2',\n",
       "       'corrected_plot_area_n4_m2', 'aboveground_CO2e_per_ha',\n",
       "       'aboveground_tC_per_ha', 'belowground_CO2e_per_ha',\n",
       "       'belowground_tC_per_ha', 'stumps_tonnes_dry_matter_ha',\n",
       "       'ldw_tonnes_dry_matter_ha', 'sdw_tonnes_dry_matter_ha',\n",
       "       'all_tonnes_dry_matter_ha', 'deadwood_tC_per_ha',\n",
       "       'deadwood_CO2e_per_ha', 'ntv_biomass_kg', 'ntv_kg_dry_matter',\n",
       "       'ntv_CO2e_per_ha', 'litter_biomass_kg', 'litter_kg_dry_matter',\n",
       "       'litter_CO2e_per_ha'],\n",
       "      dtype='object')"
      ]
     },
     "execution_count": 92,
     "metadata": {},
     "output_type": "execute_result"
    }
   ],
   "source": [
    "merged_df.columns"
   ]
  }
 ],
 "metadata": {
  "kernelspec": {
   "display_name": "onebase",
   "language": "python",
   "name": "python3"
  },
  "language_info": {
   "codemirror_mode": {
    "name": "ipython",
    "version": 3
   },
   "file_extension": ".py",
   "mimetype": "text/x-python",
   "name": "python",
   "nbconvert_exporter": "python",
   "pygments_lexer": "ipython3",
   "version": "3.12.4"
  }
 },
 "nbformat": 4,
 "nbformat_minor": 2
}
