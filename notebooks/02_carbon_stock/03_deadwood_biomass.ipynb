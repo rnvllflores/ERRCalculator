{
 "cells": [
  {
   "cell_type": "markdown",
   "metadata": {},
   "source": [
    "# Calculate biomass from deadwood"
   ]
  },
  {
   "cell_type": "markdown",
   "metadata": {},
   "source": [
    "# Imports and Set-up"
   ]
  },
  {
   "cell_type": "code",
   "execution_count": 1,
   "metadata": {},
   "outputs": [],
   "source": [
    "# Standard Imports\n",
    "import sys\n",
    "import pandas as pd\n",
    "import numpy as np\n",
    "\n",
    "# Google Cloud Imports\n",
    "import pandas_gbq"
   ]
  },
  {
   "cell_type": "code",
   "execution_count": 2,
   "metadata": {},
   "outputs": [],
   "source": [
    "# Util imports\n",
    "sys.path.append(\"../../\")  # include parent directory\n",
    "from src.settings import (\n",
    "    GCP_PROJ_ID,\n",
    "    CARBON_POOLS_OUTDIR,\n",
    "    SPECIES_LOOKUP_CSV,\n",
    "    PC_PLOT_LOOKUP_CSV,\n",
    "    TMP_OUT_DIR,\n",
    ")\n",
    "\n",
    "from src.biomass_equations import (\n",
    "    vmd0001_eq1,\n",
    "    vmd0002_eq1,\n",
    "    vmd0002_eq2,\n",
    "    vmd0002_eq3,\n",
    "    vmd0002_eq4,\n",
    "    vmd0002_eq7,\n",
    "    vmd0002_eq8,\n",
    "    get_solid_diamter,\n",
    "    calculate_tree_height,\n",
    "    allometric_tropical_tree,\n",
    "    allometric_peatland_tree,\n",
    ")"
   ]
  },
  {
   "cell_type": "code",
   "execution_count": 3,
   "metadata": {},
   "outputs": [],
   "source": [
    "# Variables\n",
    "PLOT_INFO_CSV = CARBON_POOLS_OUTDIR / \"plot_info.csv\"\n",
    "STUMPS_CSV = CARBON_POOLS_OUTDIR / \"stumps.csv\"\n",
    "LDW_CSV = CARBON_POOLS_OUTDIR / \"lying_deadwood_wo_hollow.csv\"\n",
    "LDW_HOLLOW_CSV = CARBON_POOLS_OUTDIR / \"lying_deadwood_hollow.csv\"\n",
    "DEAD_TREES_CSV = CARBON_POOLS_OUTDIR / \"dead_trees.csv\"\n",
    "\n",
    "# Temporary Output Files\n",
    "tmp_dead_trees_c1 = TMP_OUT_DIR / \"c1_dead_trees.csv\"\n",
    "tmp_dead_trees_c1_wd = TMP_OUT_DIR / \"c1_dead_trees_wd.csv\"\n",
    "\n",
    "# BigQuery Variables\n",
    "SRC_DATASET_ID = \"biomass_inventory\"\n",
    "DATASET_ID = \"carbon_stock\"\n",
    "IF_EXISTS = \"replace\"\n",
    "\n",
    "# Processing Conditions\n",
    "OUTLIER_REMOVAL = \"get_ave\"  # Options: \"get_ave\", \"drop_outliers\", \"eq_150\""
   ]
  },
  {
   "cell_type": "markdown",
   "metadata": {},
   "source": [
    "## Load data"
   ]
  },
  {
   "cell_type": "markdown",
   "metadata": {},
   "source": [
    "### Plot Data"
   ]
  },
  {
   "cell_type": "code",
   "execution_count": 4,
   "metadata": {},
   "outputs": [],
   "source": [
    "if PLOT_INFO_CSV.exists():\n",
    "    plot_info = pd.read_csv(PLOT_INFO_CSV)\n",
    "else:\n",
    "    query = f\"\"\"\n",
    "    SELECT\n",
    "        * \n",
    "    FROM {GCP_PROJ_ID}.{SRC_DATASET_ID}.plot_info\"\"\"\n",
    "\n",
    "    # Read the BigQuery table into a dataframe\n",
    "    plot_info = pandas_gbq.read_gbq(query, project_id=GCP_PROJ_ID)\n",
    "    plot_info.to_csv(PLOT_INFO_CSV, index=False)"
   ]
  },
  {
   "cell_type": "code",
   "execution_count": 5,
   "metadata": {},
   "outputs": [
    {
     "name": "stdout",
     "output_type": "stream",
     "text": [
      "<class 'pandas.core.frame.DataFrame'>\n",
      "RangeIndex: 674 entries, 0 to 673\n",
      "Data columns (total 31 columns):\n",
      " #   Column                     Non-Null Count  Dtype  \n",
      "---  ------                     --------------  -----  \n",
      " 0   unique_id                  674 non-null    object \n",
      " 1   data_recorder              674 non-null    object \n",
      " 2   team_no                    674 non-null    int64  \n",
      " 3   plot_code_nmbr             674 non-null    int64  \n",
      " 4   plot_type                  674 non-null    object \n",
      " 5   sub_plot                   674 non-null    object \n",
      " 6   yes_no                     674 non-null    object \n",
      " 7   sub_plot_shift             634 non-null    object \n",
      " 8   GPS_waypt                  634 non-null    float64\n",
      " 9   GPS_id                     634 non-null    float64\n",
      " 10  GPS                        577 non-null    object \n",
      " 11  GPS_latitude               577 non-null    float64\n",
      " 12  GPS_longitude              577 non-null    float64\n",
      " 13  GPS_altitude               577 non-null    float64\n",
      " 14  GPS_precision              577 non-null    float64\n",
      " 15  photo                      634 non-null    object \n",
      " 16  manual_reason              40 non-null     object \n",
      " 17  lc_type                    634 non-null    object \n",
      " 18  lc_class                   620 non-null    object \n",
      " 19  lc_class_other             12 non-null     object \n",
      " 20  disturbance_yesno          478 non-null    object \n",
      " 21  disturbance_type           148 non-null    object \n",
      " 22  disturbance_class          148 non-null    object \n",
      " 23  slope                      620 non-null    float64\n",
      " 24  canopy_avg_height          620 non-null    float64\n",
      " 25  canopy_cover               620 non-null    float64\n",
      " 26  access_reason              40 non-null     object \n",
      " 27  slope_radians              620 non-null    float64\n",
      " 28  corrected_plot_area_n2_m2  620 non-null    float64\n",
      " 29  corrected_plot_area_n3_m2  620 non-null    float64\n",
      " 30  corrected_plot_area_n4_m2  620 non-null    float64\n",
      "dtypes: float64(13), int64(2), object(16)\n",
      "memory usage: 163.4+ KB\n"
     ]
    }
   ],
   "source": [
    "plot_info.info()"
   ]
  },
  {
   "cell_type": "markdown",
   "metadata": {},
   "source": [
    "### Stumps"
   ]
  },
  {
   "cell_type": "code",
   "execution_count": 6,
   "metadata": {},
   "outputs": [],
   "source": [
    "if STUMPS_CSV.exists():\n",
    "    stumps = pd.read_csv(STUMPS_CSV)\n",
    "else:\n",
    "    query = f\"\"\"\n",
    "    SELECT\n",
    "        * \n",
    "    FROM {GCP_PROJ_ID}.{DATASET_ID}.stumps\"\"\"\n",
    "\n",
    "    # Read the BigQuery table into a dataframe\n",
    "    stumps = pandas_gbq.read_gbq(query, project_id=GCP_PROJ_ID)\n",
    "    stumps.to_csv(STUMPS_CSV, index=False)"
   ]
  },
  {
   "cell_type": "code",
   "execution_count": 7,
   "metadata": {},
   "outputs": [
    {
     "name": "stdout",
     "output_type": "stream",
     "text": [
      "<class 'pandas.core.frame.DataFrame'>\n",
      "RangeIndex: 1754 entries, 0 to 1753\n",
      "Data columns (total 11 columns):\n",
      " #   Column         Non-Null Count  Dtype  \n",
      "---  ------         --------------  -----  \n",
      " 0   unique_id      1754 non-null   object \n",
      " 1   nest           1754 non-null   int64  \n",
      " 2   Diam1          1754 non-null   float64\n",
      " 3   Diam2          1754 non-null   float64\n",
      " 4   slope          1754 non-null   float64\n",
      " 5   height         1754 non-null   float64\n",
      " 6   cut_cl         1754 non-null   object \n",
      " 7   hollow_go      1754 non-null   object \n",
      " 8   hollow_d1      171 non-null    float64\n",
      " 9   hollow_d2      171 non-null    float64\n",
      " 10  stump_density  1754 non-null   float64\n",
      "dtypes: float64(7), int64(1), object(3)\n",
      "memory usage: 150.9+ KB\n"
     ]
    }
   ],
   "source": [
    "stumps.info()"
   ]
  },
  {
   "cell_type": "markdown",
   "metadata": {},
   "source": [
    "### Lying deadwood"
   ]
  },
  {
   "cell_type": "code",
   "execution_count": 8,
   "metadata": {},
   "outputs": [],
   "source": [
    "if LDW_CSV.exists():\n",
    "    ldw = pd.read_csv(LDW_CSV)\n",
    "else:\n",
    "    query = f\"\"\"\n",
    "    SELECT\n",
    "        * \n",
    "    FROM {GCP_PROJ_ID}.{SRC_DATASET_ID}.lying_deadwood_wo_hollow\"\"\"\n",
    "\n",
    "    # Read the BigQuery table into a dataframe\n",
    "    ldw = pandas_gbq.read_gbq(query, project_id=GCP_PROJ_ID)\n",
    "    ldw.to_csv(LDW_CSV, index=False)"
   ]
  },
  {
   "cell_type": "code",
   "execution_count": 9,
   "metadata": {},
   "outputs": [
    {
     "name": "stdout",
     "output_type": "stream",
     "text": [
      "<class 'pandas.core.frame.DataFrame'>\n",
      "RangeIndex: 1826 entries, 0 to 1825\n",
      "Data columns (total 6 columns):\n",
      " #   Column      Non-Null Count  Dtype  \n",
      "---  ------      --------------  -----  \n",
      " 0   unique_id   1826 non-null   object \n",
      " 1   repetition  1826 non-null   int64  \n",
      " 2   type        1826 non-null   object \n",
      " 3   class       1826 non-null   object \n",
      " 4   diameter    1826 non-null   float64\n",
      " 5   density     1826 non-null   float64\n",
      "dtypes: float64(2), int64(1), object(3)\n",
      "memory usage: 85.7+ KB\n"
     ]
    }
   ],
   "source": [
    "ldw.info()"
   ]
  },
  {
   "cell_type": "code",
   "execution_count": 10,
   "metadata": {},
   "outputs": [],
   "source": [
    "if LDW_HOLLOW_CSV.exists():\n",
    "    ldw_hollow = pd.read_csv(LDW_HOLLOW_CSV)\n",
    "else:\n",
    "    query = f\"\"\"\n",
    "    SELECT\n",
    "        * \n",
    "    FROM {GCP_PROJ_ID}.{SRC_DATASET_ID}.lying_deadwood_hollow\"\"\"\n",
    "\n",
    "    # Read the BigQuery table into a dataframe\n",
    "    ldw_hollow = pandas_gbq.read_gbq(query, project_id=GCP_PROJ_ID)\n",
    "    ldw_hollow.to_csv(LDW_HOLLOW_CSV, index=False)"
   ]
  },
  {
   "cell_type": "code",
   "execution_count": 11,
   "metadata": {},
   "outputs": [
    {
     "name": "stdout",
     "output_type": "stream",
     "text": [
      "<class 'pandas.core.frame.DataFrame'>\n",
      "RangeIndex: 15 entries, 0 to 14\n",
      "Data columns (total 8 columns):\n",
      " #   Column      Non-Null Count  Dtype  \n",
      "---  ------      --------------  -----  \n",
      " 0   unique_id   15 non-null     object \n",
      " 1   repetition  15 non-null     int64  \n",
      " 2   type        15 non-null     object \n",
      " 3   class       15 non-null     object \n",
      " 4   hollow_d1   15 non-null     float64\n",
      " 5   hollow_d2   15 non-null     float64\n",
      " 6   diameter    15 non-null     float64\n",
      " 7   density     15 non-null     float64\n",
      "dtypes: float64(4), int64(1), object(3)\n",
      "memory usage: 1.1+ KB\n"
     ]
    }
   ],
   "source": [
    "ldw_hollow.info()"
   ]
  },
  {
   "cell_type": "markdown",
   "metadata": {},
   "source": [
    "### Standing Deadwood"
   ]
  },
  {
   "cell_type": "code",
   "execution_count": 12,
   "metadata": {},
   "outputs": [],
   "source": [
    "if DEAD_TREES_CSV.exists():\n",
    "    dead_trees = pd.read_csv(DEAD_TREES_CSV)\n",
    "else:\n",
    "    query = f\"\"\"\n",
    "    SELECT\n",
    "        * \n",
    "    FROM {GCP_PROJ_ID}.{SRC_DATASET_ID}.dead_trees\"\"\"\n",
    "\n",
    "    # Read the BigQuery table into a dataframe\n",
    "    dead_trees = pandas_gbq.read_gbq(query, project_id=GCP_PROJ_ID)\n",
    "    dead_trees.to_csv(DEAD_TREES_CSV, index=False)"
   ]
  },
  {
   "cell_type": "code",
   "execution_count": 13,
   "metadata": {},
   "outputs": [
    {
     "name": "stdout",
     "output_type": "stream",
     "text": [
      "<class 'pandas.core.frame.DataFrame'>\n",
      "RangeIndex: 256 entries, 0 to 255\n",
      "Data columns (total 13 columns):\n",
      " #   Column        Non-Null Count  Dtype  \n",
      "---  ------        --------------  -----  \n",
      " 0   unique_id     256 non-null    object \n",
      " 1   nest          256 non-null    int64  \n",
      " 2   species_name  203 non-null    float64\n",
      " 3   DBH_cl1       2 non-null      float64\n",
      " 4   class         256 non-null    int64  \n",
      " 5   subclass      254 non-null    object \n",
      " 6   family_name   12 non-null     float64\n",
      " 7   dbh_tall      254 non-null    float64\n",
      " 8   db_tall       254 non-null    float64\n",
      " 9   tall_density  254 non-null    float64\n",
      " 10  slope_t_tall  254 non-null    float64\n",
      " 11  slope_b_tall  254 non-null    float64\n",
      " 12  dist_t_tall   254 non-null    float64\n",
      "dtypes: float64(9), int64(2), object(2)\n",
      "memory usage: 26.1+ KB\n"
     ]
    }
   ],
   "source": [
    "dead_trees.info()"
   ]
  },
  {
   "cell_type": "markdown",
   "metadata": {},
   "source": [
    "### Tree species"
   ]
  },
  {
   "cell_type": "code",
   "execution_count": 14,
   "metadata": {},
   "outputs": [],
   "source": [
    "species = pd.read_csv(SPECIES_LOOKUP_CSV)"
   ]
  },
  {
   "cell_type": "code",
   "execution_count": 15,
   "metadata": {},
   "outputs": [
    {
     "name": "stdout",
     "output_type": "stream",
     "text": [
      "<class 'pandas.core.frame.DataFrame'>\n",
      "RangeIndex: 375 entries, 0 to 374\n",
      "Data columns (total 7 columns):\n",
      " #   Column           Non-Null Count  Dtype  \n",
      "---  ------           --------------  -----  \n",
      " 0   code_family      74 non-null     float64\n",
      " 1   family           74 non-null     object \n",
      " 2   scientific_name  375 non-null    object \n",
      " 3   local_name       375 non-null    object \n",
      " 4   code_species     375 non-null    int64  \n",
      " 5   corrected_genus  375 non-null    object \n",
      " 6   wood_density     375 non-null    float64\n",
      "dtypes: float64(2), int64(1), object(4)\n",
      "memory usage: 20.6+ KB\n"
     ]
    }
   ],
   "source": [
    "species.info()"
   ]
  },
  {
   "cell_type": "code",
   "execution_count": 16,
   "metadata": {},
   "outputs": [
    {
     "data": {
      "text/html": [
       "<div>\n",
       "<style scoped>\n",
       "    .dataframe tbody tr th:only-of-type {\n",
       "        vertical-align: middle;\n",
       "    }\n",
       "\n",
       "    .dataframe tbody tr th {\n",
       "        vertical-align: top;\n",
       "    }\n",
       "\n",
       "    .dataframe thead th {\n",
       "        text-align: right;\n",
       "    }\n",
       "</style>\n",
       "<table border=\"1\" class=\"dataframe\">\n",
       "  <thead>\n",
       "    <tr style=\"text-align: right;\">\n",
       "      <th></th>\n",
       "      <th>code_family</th>\n",
       "      <th>family</th>\n",
       "      <th>scientific_name</th>\n",
       "      <th>local_name</th>\n",
       "      <th>code_species</th>\n",
       "      <th>corrected_genus</th>\n",
       "      <th>wood_density</th>\n",
       "    </tr>\n",
       "  </thead>\n",
       "  <tbody>\n",
       "    <tr>\n",
       "      <th>0</th>\n",
       "      <td>999.0</td>\n",
       "      <td>Unknown</td>\n",
       "      <td>Litchi chinensis</td>\n",
       "      <td>Alupag - amo</td>\n",
       "      <td>193</td>\n",
       "      <td>Litchi</td>\n",
       "      <td>0.608902</td>\n",
       "    </tr>\n",
       "    <tr>\n",
       "      <th>1</th>\n",
       "      <td>1.0</td>\n",
       "      <td>Alangiaceae</td>\n",
       "      <td>Alangium javanicum</td>\n",
       "      <td>Putian</td>\n",
       "      <td>15</td>\n",
       "      <td>Alangium</td>\n",
       "      <td>0.608902</td>\n",
       "    </tr>\n",
       "  </tbody>\n",
       "</table>\n",
       "</div>"
      ],
      "text/plain": [
       "   code_family       family     scientific_name    local_name  code_species  \\\n",
       "0        999.0      Unknown    Litchi chinensis  Alupag - amo           193   \n",
       "1          1.0  Alangiaceae  Alangium javanicum        Putian            15   \n",
       "\n",
       "  corrected_genus  wood_density  \n",
       "0          Litchi      0.608902  \n",
       "1        Alangium      0.608902  "
      ]
     },
     "execution_count": 16,
     "metadata": {},
     "output_type": "execute_result"
    }
   ],
   "source": [
    "species.head(2)"
   ]
  },
  {
   "cell_type": "code",
   "execution_count": 17,
   "metadata": {},
   "outputs": [],
   "source": [
    "species_dict = (\n",
    "    species[[\"scientific_name\", \"code_species\"]]\n",
    "    .set_index(\"code_species\")\n",
    "    .to_dict()[\"scientific_name\"]\n",
    ")"
   ]
  },
  {
   "cell_type": "code",
   "execution_count": 18,
   "metadata": {},
   "outputs": [],
   "source": [
    "# create lookup table for family name and code\n",
    "species_family = species[[\"code_family\", \"family\"]].drop_duplicates()"
   ]
  },
  {
   "cell_type": "code",
   "execution_count": 19,
   "metadata": {},
   "outputs": [],
   "source": [
    "family_dict = species_family.set_index(\"code_family\").to_dict()[\"family\"]"
   ]
  },
  {
   "cell_type": "markdown",
   "metadata": {},
   "source": [
    "### Plot lookup"
   ]
  },
  {
   "cell_type": "code",
   "execution_count": 20,
   "metadata": {},
   "outputs": [],
   "source": [
    "plot_strata = pd.read_csv(PC_PLOT_LOOKUP_CSV)"
   ]
  },
  {
   "cell_type": "code",
   "execution_count": 21,
   "metadata": {},
   "outputs": [
    {
     "name": "stdout",
     "output_type": "stream",
     "text": [
      "<class 'pandas.core.frame.DataFrame'>\n",
      "RangeIndex: 1760 entries, 0 to 1759\n",
      "Data columns (total 6 columns):\n",
      " #   Column     Non-Null Count  Dtype \n",
      "---  ------     --------------  ----- \n",
      " 0   Strata     1760 non-null   int64 \n",
      " 1   unique_id  1760 non-null   object\n",
      " 2   LCC        1760 non-null   object\n",
      " 3   Bgy_Name   1760 non-null   object\n",
      " 4   Mun_Name   1760 non-null   object\n",
      " 5   Pro_Name   1760 non-null   object\n",
      "dtypes: int64(1), object(5)\n",
      "memory usage: 82.6+ KB\n"
     ]
    }
   ],
   "source": [
    "plot_strata.info()"
   ]
  },
  {
   "cell_type": "markdown",
   "metadata": {},
   "source": [
    "# Calculate stump biomass"
   ]
  },
  {
   "cell_type": "code",
   "execution_count": 22,
   "metadata": {},
   "outputs": [
    {
     "data": {
      "text/html": [
       "<div>\n",
       "<style scoped>\n",
       "    .dataframe tbody tr th:only-of-type {\n",
       "        vertical-align: middle;\n",
       "    }\n",
       "\n",
       "    .dataframe tbody tr th {\n",
       "        vertical-align: top;\n",
       "    }\n",
       "\n",
       "    .dataframe thead th {\n",
       "        text-align: right;\n",
       "    }\n",
       "</style>\n",
       "<table border=\"1\" class=\"dataframe\">\n",
       "  <thead>\n",
       "    <tr style=\"text-align: right;\">\n",
       "      <th></th>\n",
       "      <th>unique_id</th>\n",
       "      <th>nest</th>\n",
       "      <th>Diam1</th>\n",
       "      <th>Diam2</th>\n",
       "      <th>slope</th>\n",
       "      <th>height</th>\n",
       "      <th>cut_cl</th>\n",
       "      <th>hollow_go</th>\n",
       "      <th>hollow_d1</th>\n",
       "      <th>hollow_d2</th>\n",
       "      <th>stump_density</th>\n",
       "    </tr>\n",
       "  </thead>\n",
       "  <tbody>\n",
       "    <tr>\n",
       "      <th>0</th>\n",
       "      <td>308C1</td>\n",
       "      <td>2</td>\n",
       "      <td>30.0</td>\n",
       "      <td>29.0</td>\n",
       "      <td>43.0</td>\n",
       "      <td>18.0</td>\n",
       "      <td>saw_axe</td>\n",
       "      <td>no</td>\n",
       "      <td>NaN</td>\n",
       "      <td>NaN</td>\n",
       "      <td>1.0</td>\n",
       "    </tr>\n",
       "    <tr>\n",
       "      <th>1</th>\n",
       "      <td>249B1</td>\n",
       "      <td>2</td>\n",
       "      <td>15.0</td>\n",
       "      <td>10.0</td>\n",
       "      <td>51.0</td>\n",
       "      <td>80.0</td>\n",
       "      <td>saw_axe</td>\n",
       "      <td>no</td>\n",
       "      <td>NaN</td>\n",
       "      <td>NaN</td>\n",
       "      <td>3.0</td>\n",
       "    </tr>\n",
       "  </tbody>\n",
       "</table>\n",
       "</div>"
      ],
      "text/plain": [
       "  unique_id  nest  Diam1  Diam2  slope  height   cut_cl hollow_go  hollow_d1  \\\n",
       "0     308C1     2   30.0   29.0   43.0    18.0  saw_axe        no        NaN   \n",
       "1     249B1     2   15.0   10.0   51.0    80.0  saw_axe        no        NaN   \n",
       "\n",
       "   hollow_d2  stump_density  \n",
       "0        NaN            1.0  \n",
       "1        NaN            3.0  "
      ]
     },
     "execution_count": 22,
     "metadata": {},
     "output_type": "execute_result"
    }
   ],
   "source": [
    "stumps.head(2)"
   ]
  },
  {
   "cell_type": "code",
   "execution_count": 23,
   "metadata": {},
   "outputs": [],
   "source": [
    "# get wood density equivalent for each density class\n",
    "\n",
    "density_val = {1: 0.54, 2: 0.35, 3: 0.21}\n",
    "stumps[\"stump_density_val\"] = stumps[\"stump_density\"].replace(density_val).fillna(0.21)"
   ]
  },
  {
   "cell_type": "code",
   "execution_count": 24,
   "metadata": {},
   "outputs": [],
   "source": [
    "# Get biomass for each stump\n",
    "stumps = vmd0002_eq2(stumps, \"Diam1\", \"Diam2\", \"height\", \"stump_density_val\")"
   ]
  },
  {
   "cell_type": "code",
   "execution_count": 25,
   "metadata": {},
   "outputs": [],
   "source": [
    "# Get biomass of each stump that is hollow\n",
    "stumps_hollow = vmd0002_eq2(\n",
    "    stumps, \"hollow_d1\", \"hollow_d2\", \"height\", \"stump_density_val\"\n",
    ")"
   ]
  },
  {
   "cell_type": "code",
   "execution_count": 26,
   "metadata": {},
   "outputs": [],
   "source": [
    "# Get biomass to subtract due to hollow stumps\n",
    "stumps[\"tonnes_dry_matter_hollow\"] = stumps_hollow[\"tonnes_dry_matter\"]"
   ]
  },
  {
   "cell_type": "code",
   "execution_count": 27,
   "metadata": {},
   "outputs": [],
   "source": [
    "# Subtract biomass of hollow stumps from total biomass\n",
    "stumps[\"tonnes_dry_matter\"] = np.where(\n",
    "    (~stumps[\"tonnes_dry_matter_hollow\"].isna())\n",
    "    & (stumps[\"tonnes_dry_matter_hollow\"] > 0),\n",
    "    stumps[\"tonnes_dry_matter\"] - stumps[\"tonnes_dry_matter_hollow\"],\n",
    "    stumps[\"tonnes_dry_matter\"],\n",
    ")"
   ]
  },
  {
   "cell_type": "code",
   "execution_count": 28,
   "metadata": {},
   "outputs": [],
   "source": [
    "# Remove biomass_hollow column to avoid confusion\n",
    "stumps.drop(columns=[\"tonnes_dry_matter_hollow\"], inplace=True)"
   ]
  },
  {
   "cell_type": "code",
   "execution_count": 29,
   "metadata": {},
   "outputs": [
    {
     "data": {
      "text/html": [
       "<div>\n",
       "<style scoped>\n",
       "    .dataframe tbody tr th:only-of-type {\n",
       "        vertical-align: middle;\n",
       "    }\n",
       "\n",
       "    .dataframe tbody tr th {\n",
       "        vertical-align: top;\n",
       "    }\n",
       "\n",
       "    .dataframe thead th {\n",
       "        text-align: right;\n",
       "    }\n",
       "</style>\n",
       "<table border=\"1\" class=\"dataframe\">\n",
       "  <thead>\n",
       "    <tr style=\"text-align: right;\">\n",
       "      <th></th>\n",
       "      <th>unique_id</th>\n",
       "      <th>nest</th>\n",
       "      <th>Diam1</th>\n",
       "      <th>Diam2</th>\n",
       "      <th>slope</th>\n",
       "      <th>height</th>\n",
       "      <th>cut_cl</th>\n",
       "      <th>hollow_go</th>\n",
       "      <th>hollow_d1</th>\n",
       "      <th>hollow_d2</th>\n",
       "      <th>stump_density</th>\n",
       "      <th>stump_density_val</th>\n",
       "      <th>tonnes_dry_matter</th>\n",
       "    </tr>\n",
       "  </thead>\n",
       "  <tbody>\n",
       "    <tr>\n",
       "      <th>0</th>\n",
       "      <td>308C1</td>\n",
       "      <td>2</td>\n",
       "      <td>30.0</td>\n",
       "      <td>29.0</td>\n",
       "      <td>43.0</td>\n",
       "      <td>18.0</td>\n",
       "      <td>saw_axe</td>\n",
       "      <td>no</td>\n",
       "      <td>NaN</td>\n",
       "      <td>NaN</td>\n",
       "      <td>1.0</td>\n",
       "      <td>0.54</td>\n",
       "      <td>2.8674</td>\n",
       "    </tr>\n",
       "    <tr>\n",
       "      <th>1</th>\n",
       "      <td>249B1</td>\n",
       "      <td>2</td>\n",
       "      <td>15.0</td>\n",
       "      <td>10.0</td>\n",
       "      <td>51.0</td>\n",
       "      <td>80.0</td>\n",
       "      <td>saw_axe</td>\n",
       "      <td>no</td>\n",
       "      <td>NaN</td>\n",
       "      <td>NaN</td>\n",
       "      <td>3.0</td>\n",
       "      <td>0.21</td>\n",
       "      <td>2.1000</td>\n",
       "    </tr>\n",
       "  </tbody>\n",
       "</table>\n",
       "</div>"
      ],
      "text/plain": [
       "  unique_id  nest  Diam1  Diam2  slope  height   cut_cl hollow_go  hollow_d1  \\\n",
       "0     308C1     2   30.0   29.0   43.0    18.0  saw_axe        no        NaN   \n",
       "1     249B1     2   15.0   10.0   51.0    80.0  saw_axe        no        NaN   \n",
       "\n",
       "   hollow_d2  stump_density  stump_density_val  tonnes_dry_matter  \n",
       "0        NaN            1.0               0.54             2.8674  \n",
       "1        NaN            3.0               0.21             2.1000  "
      ]
     },
     "execution_count": 29,
     "metadata": {},
     "output_type": "execute_result"
    }
   ],
   "source": [
    "stumps.head(2)"
   ]
  },
  {
   "cell_type": "code",
   "execution_count": 30,
   "metadata": {},
   "outputs": [],
   "source": [
    "# get sum opf dry matter per subplot\n",
    "stumps_agg = vmd0002_eq3(stumps, [\"unique_id\", \"nest\"], \"tonnes_dry_matter\")"
   ]
  },
  {
   "cell_type": "code",
   "execution_count": 31,
   "metadata": {},
   "outputs": [],
   "source": [
    "# get the slope adjusted area per nest per subplot\n",
    "plot_info_subset = plot_info[\n",
    "    [\n",
    "        \"unique_id\",\n",
    "        \"corrected_plot_area_n2_m2\",\n",
    "        \"corrected_plot_area_n3_m2\",\n",
    "        \"corrected_plot_area_n4_m2\",\n",
    "    ]\n",
    "].copy()\n",
    "plot_info_subset.dropna(inplace=True)\n",
    "plot_info_subset.drop_duplicates(subset=[\"unique_id\"], inplace=True)\n",
    "plot_info_subset_dict = plot_info_subset.to_dict(orient=\"records\")"
   ]
  },
  {
   "cell_type": "code",
   "execution_count": 32,
   "metadata": {},
   "outputs": [],
   "source": [
    "# add the correct area using the unique_id and nest number\n",
    "stumps_agg[\"corrected_area_m2\"] = stumps_agg.apply(\n",
    "    lambda x: next(\n",
    "        (\n",
    "            item[\"corrected_plot_area_n\" + str(x[\"nest\"]) + \"_m2\"]\n",
    "            for item in plot_info_subset_dict\n",
    "            if item[\"unique_id\"] == x[\"unique_id\"]\n",
    "        ),\n",
    "        None,\n",
    "    ),\n",
    "    axis=1,\n",
    ")"
   ]
  },
  {
   "cell_type": "code",
   "execution_count": 33,
   "metadata": {},
   "outputs": [],
   "source": [
    "# convert square meters to hectares\n",
    "stumps_agg[\"corrected_area_ha\"] = stumps_agg[\"corrected_area_m2\"] / 10_000"
   ]
  },
  {
   "cell_type": "code",
   "execution_count": 34,
   "metadata": {},
   "outputs": [],
   "source": [
    "stumps_agg = vmd0002_eq4(stumps_agg, \"tonnes_dry_matter\", \"corrected_area_ha\")"
   ]
  },
  {
   "cell_type": "code",
   "execution_count": 35,
   "metadata": {},
   "outputs": [],
   "source": [
    "stumps_agg.rename(\n",
    "    columns={\"tonnes_dry_matter_ha\": \"stumps_tonnes_dry_matter_ha\"}, inplace=True\n",
    ")"
   ]
  },
  {
   "cell_type": "markdown",
   "metadata": {},
   "source": [
    "## Get total stump biomass per hectare per subplot"
   ]
  },
  {
   "cell_type": "code",
   "execution_count": 36,
   "metadata": {},
   "outputs": [
    {
     "data": {
      "text/html": [
       "<div>\n",
       "<style scoped>\n",
       "    .dataframe tbody tr th:only-of-type {\n",
       "        vertical-align: middle;\n",
       "    }\n",
       "\n",
       "    .dataframe tbody tr th {\n",
       "        vertical-align: top;\n",
       "    }\n",
       "\n",
       "    .dataframe thead th {\n",
       "        text-align: right;\n",
       "    }\n",
       "</style>\n",
       "<table border=\"1\" class=\"dataframe\">\n",
       "  <thead>\n",
       "    <tr style=\"text-align: right;\">\n",
       "      <th></th>\n",
       "      <th>unique_id</th>\n",
       "      <th>nest</th>\n",
       "      <th>tonnes_dry_matter</th>\n",
       "      <th>corrected_area_m2</th>\n",
       "      <th>corrected_area_ha</th>\n",
       "      <th>stumps_tonnes_dry_matter_ha</th>\n",
       "    </tr>\n",
       "  </thead>\n",
       "  <tbody>\n",
       "    <tr>\n",
       "      <th>0</th>\n",
       "      <td>100C1</td>\n",
       "      <td>3</td>\n",
       "      <td>11.40300</td>\n",
       "      <td>707.141090</td>\n",
       "      <td>0.070714</td>\n",
       "      <td>161.254948</td>\n",
       "    </tr>\n",
       "    <tr>\n",
       "      <th>1</th>\n",
       "      <td>100D1</td>\n",
       "      <td>3</td>\n",
       "      <td>11.30700</td>\n",
       "      <td>779.240642</td>\n",
       "      <td>0.077924</td>\n",
       "      <td>145.102801</td>\n",
       "    </tr>\n",
       "    <tr>\n",
       "      <th>2</th>\n",
       "      <td>100D1</td>\n",
       "      <td>4</td>\n",
       "      <td>13.59320</td>\n",
       "      <td>1385.316697</td>\n",
       "      <td>0.138532</td>\n",
       "      <td>98.123411</td>\n",
       "    </tr>\n",
       "    <tr>\n",
       "      <th>3</th>\n",
       "      <td>101A1</td>\n",
       "      <td>2</td>\n",
       "      <td>1.95300</td>\n",
       "      <td>90.485722</td>\n",
       "      <td>0.009049</td>\n",
       "      <td>215.835156</td>\n",
       "    </tr>\n",
       "    <tr>\n",
       "      <th>4</th>\n",
       "      <td>101B1</td>\n",
       "      <td>3</td>\n",
       "      <td>11.85800</td>\n",
       "      <td>711.382240</td>\n",
       "      <td>0.071138</td>\n",
       "      <td>166.689570</td>\n",
       "    </tr>\n",
       "    <tr>\n",
       "      <th>...</th>\n",
       "      <td>...</td>\n",
       "      <td>...</td>\n",
       "      <td>...</td>\n",
       "      <td>...</td>\n",
       "      <td>...</td>\n",
       "      <td>...</td>\n",
       "    </tr>\n",
       "    <tr>\n",
       "      <th>706</th>\n",
       "      <td>99B2</td>\n",
       "      <td>2</td>\n",
       "      <td>23.89135</td>\n",
       "      <td>122.718463</td>\n",
       "      <td>0.012272</td>\n",
       "      <td>1946.842342</td>\n",
       "    </tr>\n",
       "    <tr>\n",
       "      <th>707</th>\n",
       "      <td>99B2</td>\n",
       "      <td>3</td>\n",
       "      <td>3.35475</td>\n",
       "      <td>1104.466167</td>\n",
       "      <td>0.110447</td>\n",
       "      <td>30.374403</td>\n",
       "    </tr>\n",
       "    <tr>\n",
       "      <th>708</th>\n",
       "      <td>99B2</td>\n",
       "      <td>4</td>\n",
       "      <td>14.85960</td>\n",
       "      <td>1963.495408</td>\n",
       "      <td>0.196350</td>\n",
       "      <td>75.679321</td>\n",
       "    </tr>\n",
       "    <tr>\n",
       "      <th>709</th>\n",
       "      <td>99D2</td>\n",
       "      <td>3</td>\n",
       "      <td>109.05255</td>\n",
       "      <td>803.627255</td>\n",
       "      <td>0.080363</td>\n",
       "      <td>1357.004125</td>\n",
       "    </tr>\n",
       "    <tr>\n",
       "      <th>710</th>\n",
       "      <td>99D2</td>\n",
       "      <td>4</td>\n",
       "      <td>13.98600</td>\n",
       "      <td>1428.670675</td>\n",
       "      <td>0.142867</td>\n",
       "      <td>97.895199</td>\n",
       "    </tr>\n",
       "  </tbody>\n",
       "</table>\n",
       "<p>711 rows × 6 columns</p>\n",
       "</div>"
      ],
      "text/plain": [
       "    unique_id  nest  tonnes_dry_matter  corrected_area_m2  corrected_area_ha  \\\n",
       "0       100C1     3           11.40300         707.141090           0.070714   \n",
       "1       100D1     3           11.30700         779.240642           0.077924   \n",
       "2       100D1     4           13.59320        1385.316697           0.138532   \n",
       "3       101A1     2            1.95300          90.485722           0.009049   \n",
       "4       101B1     3           11.85800         711.382240           0.071138   \n",
       "..        ...   ...                ...                ...                ...   \n",
       "706      99B2     2           23.89135         122.718463           0.012272   \n",
       "707      99B2     3            3.35475        1104.466167           0.110447   \n",
       "708      99B2     4           14.85960        1963.495408           0.196350   \n",
       "709      99D2     3          109.05255         803.627255           0.080363   \n",
       "710      99D2     4           13.98600        1428.670675           0.142867   \n",
       "\n",
       "     stumps_tonnes_dry_matter_ha  \n",
       "0                     161.254948  \n",
       "1                     145.102801  \n",
       "2                      98.123411  \n",
       "3                     215.835156  \n",
       "4                     166.689570  \n",
       "..                           ...  \n",
       "706                  1946.842342  \n",
       "707                    30.374403  \n",
       "708                    75.679321  \n",
       "709                  1357.004125  \n",
       "710                    97.895199  \n",
       "\n",
       "[711 rows x 6 columns]"
      ]
     },
     "execution_count": 36,
     "metadata": {},
     "output_type": "execute_result"
    }
   ],
   "source": [
    "stumps_agg"
   ]
  },
  {
   "cell_type": "markdown",
   "metadata": {},
   "source": [
    "# Calculate Lying deadwood biomass"
   ]
  },
  {
   "cell_type": "code",
   "execution_count": 37,
   "metadata": {},
   "outputs": [
    {
     "data": {
      "text/html": [
       "<div>\n",
       "<style scoped>\n",
       "    .dataframe tbody tr th:only-of-type {\n",
       "        vertical-align: middle;\n",
       "    }\n",
       "\n",
       "    .dataframe tbody tr th {\n",
       "        vertical-align: top;\n",
       "    }\n",
       "\n",
       "    .dataframe thead th {\n",
       "        text-align: right;\n",
       "    }\n",
       "</style>\n",
       "<table border=\"1\" class=\"dataframe\">\n",
       "  <thead>\n",
       "    <tr style=\"text-align: right;\">\n",
       "      <th></th>\n",
       "      <th>unique_id</th>\n",
       "      <th>repetition</th>\n",
       "      <th>type</th>\n",
       "      <th>class</th>\n",
       "      <th>diameter</th>\n",
       "      <th>density</th>\n",
       "    </tr>\n",
       "  </thead>\n",
       "  <tbody>\n",
       "    <tr>\n",
       "      <th>0</th>\n",
       "      <td>308D2</td>\n",
       "      <td>1</td>\n",
       "      <td>tr1</td>\n",
       "      <td>FC</td>\n",
       "      <td>16.5</td>\n",
       "      <td>3.0</td>\n",
       "    </tr>\n",
       "    <tr>\n",
       "      <th>1</th>\n",
       "      <td>308D2</td>\n",
       "      <td>2</td>\n",
       "      <td>tr1</td>\n",
       "      <td>FC</td>\n",
       "      <td>18.3</td>\n",
       "      <td>3.0</td>\n",
       "    </tr>\n",
       "  </tbody>\n",
       "</table>\n",
       "</div>"
      ],
      "text/plain": [
       "  unique_id  repetition type class  diameter  density\n",
       "0     308D2           1  tr1    FC      16.5      3.0\n",
       "1     308D2           2  tr1    FC      18.3      3.0"
      ]
     },
     "execution_count": 37,
     "metadata": {},
     "output_type": "execute_result"
    }
   ],
   "source": [
    "ldw.head(2)"
   ]
  },
  {
   "cell_type": "markdown",
   "metadata": {},
   "source": [
    "## No hollow"
   ]
  },
  {
   "cell_type": "markdown",
   "metadata": {},
   "source": [
    "### Outlier removal"
   ]
  },
  {
   "cell_type": "code",
   "execution_count": 38,
   "metadata": {},
   "outputs": [
    {
     "data": {
      "text/html": [
       "<div>\n",
       "<style scoped>\n",
       "    .dataframe tbody tr th:only-of-type {\n",
       "        vertical-align: middle;\n",
       "    }\n",
       "\n",
       "    .dataframe tbody tr th {\n",
       "        vertical-align: top;\n",
       "    }\n",
       "\n",
       "    .dataframe thead th {\n",
       "        text-align: right;\n",
       "    }\n",
       "</style>\n",
       "<table border=\"1\" class=\"dataframe\">\n",
       "  <thead>\n",
       "    <tr style=\"text-align: right;\">\n",
       "      <th></th>\n",
       "      <th>repetition</th>\n",
       "      <th>diameter</th>\n",
       "      <th>density</th>\n",
       "    </tr>\n",
       "  </thead>\n",
       "  <tbody>\n",
       "    <tr>\n",
       "      <th>count</th>\n",
       "      <td>1826.000000</td>\n",
       "      <td>1826.000000</td>\n",
       "      <td>1826.000000</td>\n",
       "    </tr>\n",
       "    <tr>\n",
       "      <th>mean</th>\n",
       "      <td>2.529573</td>\n",
       "      <td>27.733866</td>\n",
       "      <td>1.937021</td>\n",
       "    </tr>\n",
       "    <tr>\n",
       "      <th>std</th>\n",
       "      <td>1.943715</td>\n",
       "      <td>109.834565</td>\n",
       "      <td>0.744572</td>\n",
       "    </tr>\n",
       "    <tr>\n",
       "      <th>min</th>\n",
       "      <td>1.000000</td>\n",
       "      <td>10.000000</td>\n",
       "      <td>1.000000</td>\n",
       "    </tr>\n",
       "    <tr>\n",
       "      <th>25%</th>\n",
       "      <td>1.000000</td>\n",
       "      <td>14.425000</td>\n",
       "      <td>1.000000</td>\n",
       "    </tr>\n",
       "    <tr>\n",
       "      <th>50%</th>\n",
       "      <td>2.000000</td>\n",
       "      <td>20.000000</td>\n",
       "      <td>2.000000</td>\n",
       "    </tr>\n",
       "    <tr>\n",
       "      <th>75%</th>\n",
       "      <td>3.000000</td>\n",
       "      <td>30.000000</td>\n",
       "      <td>2.000000</td>\n",
       "    </tr>\n",
       "    <tr>\n",
       "      <th>max</th>\n",
       "      <td>15.000000</td>\n",
       "      <td>4592.000000</td>\n",
       "      <td>3.000000</td>\n",
       "    </tr>\n",
       "  </tbody>\n",
       "</table>\n",
       "</div>"
      ],
      "text/plain": [
       "        repetition     diameter      density\n",
       "count  1826.000000  1826.000000  1826.000000\n",
       "mean      2.529573    27.733866     1.937021\n",
       "std       1.943715   109.834565     0.744572\n",
       "min       1.000000    10.000000     1.000000\n",
       "25%       1.000000    14.425000     1.000000\n",
       "50%       2.000000    20.000000     2.000000\n",
       "75%       3.000000    30.000000     2.000000\n",
       "max      15.000000  4592.000000     3.000000"
      ]
     },
     "execution_count": 38,
     "metadata": {},
     "output_type": "execute_result"
    }
   ],
   "source": [
    "ldw.describe()"
   ]
  },
  {
   "cell_type": "code",
   "execution_count": 39,
   "metadata": {},
   "outputs": [],
   "source": [
    "# Filter the ldw DataFrame to keep rows where diameter is less than or equal to the 98th percentile\n",
    "ldw = ldw[ldw[\"diameter\"] <= 150]"
   ]
  },
  {
   "cell_type": "code",
   "execution_count": 40,
   "metadata": {},
   "outputs": [],
   "source": [
    "ldw = vmd0002_eq7(ldw, \"diameter\")"
   ]
  },
  {
   "cell_type": "code",
   "execution_count": 41,
   "metadata": {},
   "outputs": [],
   "source": [
    "ldw = vmd0002_eq8(ldw, \"density\")"
   ]
  },
  {
   "cell_type": "code",
   "execution_count": 42,
   "metadata": {},
   "outputs": [
    {
     "data": {
      "text/html": [
       "<div>\n",
       "<style scoped>\n",
       "    .dataframe tbody tr th:only-of-type {\n",
       "        vertical-align: middle;\n",
       "    }\n",
       "\n",
       "    .dataframe tbody tr th {\n",
       "        vertical-align: top;\n",
       "    }\n",
       "\n",
       "    .dataframe thead th {\n",
       "        text-align: right;\n",
       "    }\n",
       "</style>\n",
       "<table border=\"1\" class=\"dataframe\">\n",
       "  <thead>\n",
       "    <tr style=\"text-align: right;\">\n",
       "      <th></th>\n",
       "      <th>unique_id</th>\n",
       "      <th>repetition</th>\n",
       "      <th>type</th>\n",
       "      <th>class</th>\n",
       "      <th>diameter</th>\n",
       "      <th>density</th>\n",
       "      <th>deadwood_volume</th>\n",
       "      <th>tonnes_dry_matter</th>\n",
       "    </tr>\n",
       "  </thead>\n",
       "  <tbody>\n",
       "    <tr>\n",
       "      <th>0</th>\n",
       "      <td>308D2</td>\n",
       "      <td>1</td>\n",
       "      <td>tr1</td>\n",
       "      <td>FC</td>\n",
       "      <td>16.5</td>\n",
       "      <td>3.0</td>\n",
       "      <td>3.35875</td>\n",
       "      <td>0.705337</td>\n",
       "    </tr>\n",
       "    <tr>\n",
       "      <th>1</th>\n",
       "      <td>308D2</td>\n",
       "      <td>2</td>\n",
       "      <td>tr1</td>\n",
       "      <td>FC</td>\n",
       "      <td>18.3</td>\n",
       "      <td>3.0</td>\n",
       "      <td>4.13154</td>\n",
       "      <td>0.867623</td>\n",
       "    </tr>\n",
       "  </tbody>\n",
       "</table>\n",
       "</div>"
      ],
      "text/plain": [
       "  unique_id  repetition type class  diameter  density  deadwood_volume  \\\n",
       "0     308D2           1  tr1    FC      16.5      3.0          3.35875   \n",
       "1     308D2           2  tr1    FC      18.3      3.0          4.13154   \n",
       "\n",
       "   tonnes_dry_matter  \n",
       "0           0.705337  \n",
       "1           0.867623  "
      ]
     },
     "execution_count": 42,
     "metadata": {},
     "output_type": "execute_result"
    }
   ],
   "source": [
    "ldw.head(2)"
   ]
  },
  {
   "cell_type": "markdown",
   "metadata": {},
   "source": [
    "## Get total lyind deadwood biomass from "
   ]
  },
  {
   "cell_type": "markdown",
   "metadata": {},
   "source": [
    "## Hollow Lying Deadwood"
   ]
  },
  {
   "cell_type": "code",
   "execution_count": 43,
   "metadata": {},
   "outputs": [],
   "source": [
    "ldw_hollow = get_solid_diamter(ldw_hollow, \"hollow_d1\", \"hollow_d2\", \"diameter\")"
   ]
  },
  {
   "cell_type": "code",
   "execution_count": 44,
   "metadata": {},
   "outputs": [],
   "source": [
    "ldw_hollow = vmd0002_eq7(ldw_hollow, \"solid_diameter\")"
   ]
  },
  {
   "cell_type": "code",
   "execution_count": 45,
   "metadata": {},
   "outputs": [],
   "source": [
    "ldw_hollow = vmd0002_eq8(ldw_hollow, \"density\")"
   ]
  },
  {
   "cell_type": "code",
   "execution_count": 46,
   "metadata": {},
   "outputs": [
    {
     "data": {
      "text/html": [
       "<div>\n",
       "<style scoped>\n",
       "    .dataframe tbody tr th:only-of-type {\n",
       "        vertical-align: middle;\n",
       "    }\n",
       "\n",
       "    .dataframe tbody tr th {\n",
       "        vertical-align: top;\n",
       "    }\n",
       "\n",
       "    .dataframe thead th {\n",
       "        text-align: right;\n",
       "    }\n",
       "</style>\n",
       "<table border=\"1\" class=\"dataframe\">\n",
       "  <thead>\n",
       "    <tr style=\"text-align: right;\">\n",
       "      <th></th>\n",
       "      <th>unique_id</th>\n",
       "      <th>repetition</th>\n",
       "      <th>type</th>\n",
       "      <th>class</th>\n",
       "      <th>hollow_d1</th>\n",
       "      <th>hollow_d2</th>\n",
       "      <th>diameter</th>\n",
       "      <th>density</th>\n",
       "      <th>solid_diameter</th>\n",
       "      <th>deadwood_volume</th>\n",
       "      <th>tonnes_dry_matter</th>\n",
       "    </tr>\n",
       "  </thead>\n",
       "  <tbody>\n",
       "    <tr>\n",
       "      <th>0</th>\n",
       "      <td>249D1</td>\n",
       "      <td>1</td>\n",
       "      <td>tr2</td>\n",
       "      <td>MDF</td>\n",
       "      <td>12.0</td>\n",
       "      <td>10.0</td>\n",
       "      <td>16.7</td>\n",
       "      <td>3.0</td>\n",
       "      <td>12.565429</td>\n",
       "      <td>1.947890</td>\n",
       "      <td>0.409057</td>\n",
       "    </tr>\n",
       "    <tr>\n",
       "      <th>1</th>\n",
       "      <td>290A1</td>\n",
       "      <td>2</td>\n",
       "      <td>tr2</td>\n",
       "      <td>MCB</td>\n",
       "      <td>68.0</td>\n",
       "      <td>28.0</td>\n",
       "      <td>62.0</td>\n",
       "      <td>1.0</td>\n",
       "      <td>39.242834</td>\n",
       "      <td>18.998988</td>\n",
       "      <td>10.259454</td>\n",
       "    </tr>\n",
       "  </tbody>\n",
       "</table>\n",
       "</div>"
      ],
      "text/plain": [
       "  unique_id  repetition type class  hollow_d1  hollow_d2  diameter  density  \\\n",
       "0     249D1           1  tr2   MDF       12.0       10.0      16.7      3.0   \n",
       "1     290A1           2  tr2   MCB       68.0       28.0      62.0      1.0   \n",
       "\n",
       "   solid_diameter  deadwood_volume  tonnes_dry_matter  \n",
       "0       12.565429         1.947890           0.409057  \n",
       "1       39.242834        18.998988          10.259454  "
      ]
     },
     "execution_count": 46,
     "metadata": {},
     "output_type": "execute_result"
    }
   ],
   "source": [
    "ldw_hollow.head(2)"
   ]
  },
  {
   "cell_type": "markdown",
   "metadata": {},
   "source": [
    "# Calculate Standing Deadwood Biomass"
   ]
  },
  {
   "cell_type": "markdown",
   "metadata": {},
   "source": [
    "## Calculate biomass for Class 1 standing deadwood trees\n",
    "Class 1 standing dead trees that is fresh and can be treated as living trees in terms of biomass. The method applied mimics the process from living trees"
   ]
  },
  {
   "cell_type": "code",
   "execution_count": null,
   "metadata": {},
   "outputs": [],
   "source": [
    "dead_trees.head(2)"
   ]
  },
  {
   "cell_type": "code",
   "execution_count": null,
   "metadata": {},
   "outputs": [],
   "source": [
    "dead_trees.rename(\n",
    "    columns={\"family_name\": \"code_family\", \"species_name\": \"code_species\"}, inplace=True\n",
    ")"
   ]
  },
  {
   "cell_type": "code",
   "execution_count": null,
   "metadata": {},
   "outputs": [],
   "source": [
    "c1_dead_trees = dead_trees.loc[dead_trees[\"class\"] == 1].copy()"
   ]
  },
  {
   "cell_type": "code",
   "execution_count": null,
   "metadata": {},
   "outputs": [],
   "source": [
    "c1_dead_trees[\"family_name\"] = c1_dead_trees[\"code_family\"].replace(family_dict)"
   ]
  },
  {
   "cell_type": "code",
   "execution_count": null,
   "metadata": {},
   "outputs": [],
   "source": [
    "c1_dead_trees[\"scientific_name\"] = c1_dead_trees[\"code_species\"].replace(species_dict)"
   ]
  },
  {
   "cell_type": "code",
   "execution_count": null,
   "metadata": {},
   "outputs": [],
   "source": [
    "c1_dead_trees.to_csv(tmp_dead_trees_c1)"
   ]
  },
  {
   "cell_type": "code",
   "execution_count": null,
   "metadata": {},
   "outputs": [],
   "source": [
    "c1_dead_trees"
   ]
  },
  {
   "cell_type": "markdown",
   "metadata": {},
   "source": [
    "### Get genus and wood density using BIOMASS R Library"
   ]
  },
  {
   "cell_type": "code",
   "execution_count": null,
   "metadata": {},
   "outputs": [],
   "source": [
    "!Rscript $SRC_DIR\"/get_wood_density.R\" $tmp_dead_trees_c1 $tmp_dead_trees_c1_wd"
   ]
  },
  {
   "cell_type": "code",
   "execution_count": null,
   "metadata": {},
   "outputs": [],
   "source": [
    "c1_dead_trees = pd.read_csv(tmp_dead_trees_c1_wd)"
   ]
  },
  {
   "cell_type": "code",
   "execution_count": null,
   "metadata": {},
   "outputs": [],
   "source": [
    "c1_dead_trees"
   ]
  },
  {
   "cell_type": "code",
   "execution_count": null,
   "metadata": {},
   "outputs": [],
   "source": [
    "c1_dead_trees = calculate_tree_height(c1_dead_trees, \"DBH_cl1\")"
   ]
  },
  {
   "cell_type": "code",
   "execution_count": null,
   "metadata": {},
   "outputs": [],
   "source": [
    "c1_dead_trees = c1_dead_trees.merge(\n",
    "    plot_strata[[\"unique_id\", \"Strata\"]], on=\"unique_id\", how=\"left\"\n",
    ")"
   ]
  },
  {
   "cell_type": "code",
   "execution_count": null,
   "metadata": {},
   "outputs": [],
   "source": [
    "c1_dead_trees_tropical = c1_dead_trees.loc[\n",
    "    c1_dead_trees[\"Strata\"].isin([1, 2, 3])\n",
    "].copy()"
   ]
  },
  {
   "cell_type": "code",
   "execution_count": null,
   "metadata": {},
   "outputs": [],
   "source": [
    "c1_dead_trees_tropical = allometric_tropical_tree(\n",
    "    c1_dead_trees_tropical, \"wood_density\", \"DBH_cl1\", \"height\"\n",
    ")"
   ]
  },
  {
   "cell_type": "code",
   "execution_count": null,
   "metadata": {},
   "outputs": [],
   "source": [
    "c1_dead_trees_peatland = c1_dead_trees.loc[\n",
    "    c1_dead_trees[\"Strata\"].isin([4, 5, 6])\n",
    "].copy()"
   ]
  },
  {
   "cell_type": "code",
   "execution_count": null,
   "metadata": {},
   "outputs": [],
   "source": [
    "c1_dead_trees_peatland = allometric_peatland_tree(c1_dead_trees_peatland, \"DBH_cl1\")"
   ]
  },
  {
   "cell_type": "code",
   "execution_count": null,
   "metadata": {},
   "outputs": [],
   "source": [
    "c1_dead_trees = pd.concat([c1_dead_trees_tropical, c1_dead_trees_peatland])"
   ]
  },
  {
   "cell_type": "code",
   "execution_count": null,
   "metadata": {},
   "outputs": [],
   "source": [
    "c1_dead_trees = vmd0001_eq1(c1_dead_trees, 0.47)"
   ]
  },
  {
   "cell_type": "code",
   "execution_count": null,
   "metadata": {},
   "outputs": [],
   "source": [
    "c1_dead_trees.drop(columns=[\"X\"], inplace=True)"
   ]
  },
  {
   "cell_type": "code",
   "execution_count": null,
   "metadata": {},
   "outputs": [],
   "source": [
    "c1_dead_trees"
   ]
  },
  {
   "cell_type": "markdown",
   "metadata": {},
   "source": [
    "## Calculate biomass for Class 2  standing deadwood tall trees\n",
    "\n",
    "Class 2 are standing dead trees with assigned density class"
   ]
  },
  {
   "cell_type": "code",
   "execution_count": null,
   "metadata": {},
   "outputs": [],
   "source": [
    "c2_dead_trees_t = dead_trees.loc[\n",
    "    (dead_trees[\"class\"] == 2) & (dead_trees[\"subclass\"] == \"tall\")\n",
    "].copy()"
   ]
  },
  {
   "cell_type": "code",
   "execution_count": null,
   "metadata": {},
   "outputs": [],
   "source": [
    "# convert slope to radians\n",
    "c2_dead_trees_t[\"slope_t_tall_radians\"] = np.atan(c2_dead_trees_t[\"slope_t_tall\"]) / 100\n",
    "c2_dead_trees_t[\"slope_b_tall_radians\"] = np.atan(c2_dead_trees_t[\"slope_b_tall\"]) / 100"
   ]
  },
  {
   "cell_type": "code",
   "execution_count": null,
   "metadata": {},
   "outputs": [],
   "source": [
    "# estimate tree height\n",
    "c2_dead_trees_t = calculate_tree_height(\n",
    "    c2_dead_trees_t,\n",
    "    trig_leveling=True,\n",
    "    dist_col=\"dist_t_tall\",\n",
    "    slope_b_col=\"slope_b_tall_radians\",\n",
    "    slope_t_col=\"slope_t_tall_radians\",\n",
    ")"
   ]
  },
  {
   "cell_type": "code",
   "execution_count": null,
   "metadata": {},
   "outputs": [],
   "source": [
    "# set wood density equivalent for each density class\n",
    "density_val = {1: 0.54, 2: 0.35, 3: 0.21}\n",
    "c2_dead_trees_t[\"density_val\"] = (\n",
    "    c2_dead_trees_t[\"tall_density\"].replace(density_val).fillna(0.21)\n",
    ")"
   ]
  },
  {
   "cell_type": "code",
   "execution_count": null,
   "metadata": {},
   "outputs": [],
   "source": [
    "c2_dead_trees_t = vmd0002_eq1(c2_dead_trees_t, \"db_tall\", \"height\", \"density_val\")"
   ]
  },
  {
   "cell_type": "code",
   "execution_count": null,
   "metadata": {},
   "outputs": [],
   "source": [
    "c2_dead_trees_t"
   ]
  }
 ],
 "metadata": {
  "kernelspec": {
   "display_name": "onebase",
   "language": "python",
   "name": "python3"
  },
  "language_info": {
   "codemirror_mode": {
    "name": "ipython",
    "version": 3
   },
   "file_extension": ".py",
   "mimetype": "text/x-python",
   "name": "python",
   "nbconvert_exporter": "python",
   "pygments_lexer": "ipython3",
   "version": "3.12.4"
  }
 },
 "nbformat": 4,
 "nbformat_minor": 2
}
