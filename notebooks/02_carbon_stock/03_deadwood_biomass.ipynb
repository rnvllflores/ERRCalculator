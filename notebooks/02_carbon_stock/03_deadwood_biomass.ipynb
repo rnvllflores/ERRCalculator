{
 "cells": [
  {
   "cell_type": "markdown",
   "metadata": {},
   "source": [
    "# Calculate biomass from deadwood"
   ]
  },
  {
   "cell_type": "markdown",
   "metadata": {},
   "source": [
    "# Imports and Set-up"
   ]
  },
  {
   "cell_type": "code",
   "execution_count": 1,
   "metadata": {},
   "outputs": [],
   "source": [
    "# Standard Imports\n",
    "import sys\n",
    "import pandas as pd\n",
    "import numpy as np\n",
    "\n",
    "# Google Cloud Imports\n",
    "import pandas_gbq"
   ]
  },
  {
   "cell_type": "code",
   "execution_count": 2,
   "metadata": {},
   "outputs": [],
   "source": [
    "# Util imports\n",
    "sys.path.append(\"../../\")  # include parent directory\n",
    "from src.settings import (\n",
    "    GCP_PROJ_ID,\n",
    "    CARBON_POOLS_OUTDIR,\n",
    "    CARBON_STOCK_OUTDIR,\n",
    "    SPECIES_LOOKUP_CSV,\n",
    "    PC_PLOT_LOOKUP_CSV,\n",
    "    TMP_OUT_DIR,\n",
    ")\n",
    "\n",
    "from src.biomass_equations import (\n",
    "    vmd0002_eq1,\n",
    "    vmd0002_eq2,\n",
    "    vmd0002_eq3,\n",
    "    vmd0002_eq4,\n",
    "    vmd0002_eq7,\n",
    "    vmd0002_eq8a,\n",
    "    vmd0002_eq8b,\n",
    "    vmd0002_eq9,\n",
    "    get_solid_diamter,\n",
    "    calculate_tree_height,\n",
    "    allometric_tropical_tree,\n",
    "    allometric_peatland_tree,\n",
    ")"
   ]
  },
  {
   "cell_type": "code",
   "execution_count": 3,
   "metadata": {},
   "outputs": [],
   "source": [
    "# Variables\n",
    "PLOT_INFO_CSV = CARBON_POOLS_OUTDIR / \"plot_info.csv\"\n",
    "STUMPS_CSV = CARBON_POOLS_OUTDIR / \"stumps.csv\"\n",
    "LDW_CSV = CARBON_POOLS_OUTDIR / \"lying_deadwood_wo_hollow.csv\"\n",
    "LDW_HOLLOW_CSV = CARBON_POOLS_OUTDIR / \"lying_deadwood_hollow.csv\"\n",
    "DEAD_TREES_CSV = CARBON_POOLS_OUTDIR / \"dead_trees.csv\"\n",
    "\n",
    "# Temporary Output Files\n",
    "tmp_dead_trees_c1 = TMP_OUT_DIR / \"c1_dead_trees.csv\"\n",
    "tmp_dead_trees_c1_wd = TMP_OUT_DIR / \"c1_dead_trees_wd.csv\"\n",
    "\n",
    "# BigQuery Variables\n",
    "SRC_DATASET_ID = \"biomass_inventory\"\n",
    "DATASET_ID = \"carbon_stock\"\n",
    "IF_EXISTS = \"replace\"\n",
    "\n",
    "# Processing Conditions\n",
    "OUTLIER_REMOVAL = \"get_ave\"  # Options: \"get_ave\", \"drop_outliers\", \"eq_150\""
   ]
  },
  {
   "cell_type": "markdown",
   "metadata": {},
   "source": [
    "## Load data"
   ]
  },
  {
   "cell_type": "markdown",
   "metadata": {},
   "source": [
    "### Plot Data"
   ]
  },
  {
   "cell_type": "code",
   "execution_count": 4,
   "metadata": {},
   "outputs": [],
   "source": [
    "if PLOT_INFO_CSV.exists():\n",
    "    plot_info = pd.read_csv(PLOT_INFO_CSV)\n",
    "else:\n",
    "    query = f\"\"\"\n",
    "    SELECT\n",
    "        * \n",
    "    FROM {GCP_PROJ_ID}.{SRC_DATASET_ID}.plot_info\"\"\"\n",
    "\n",
    "    # Read the BigQuery table into a dataframe\n",
    "    plot_info = pandas_gbq.read_gbq(query, project_id=GCP_PROJ_ID)\n",
    "    plot_info.to_csv(PLOT_INFO_CSV, index=False)"
   ]
  },
  {
   "cell_type": "code",
   "execution_count": 5,
   "metadata": {},
   "outputs": [
    {
     "name": "stdout",
     "output_type": "stream",
     "text": [
      "<class 'pandas.core.frame.DataFrame'>\n",
      "RangeIndex: 671 entries, 0 to 670\n",
      "Data columns (total 31 columns):\n",
      " #   Column                     Non-Null Count  Dtype  \n",
      "---  ------                     --------------  -----  \n",
      " 0   unique_id                  671 non-null    object \n",
      " 1   data_recorder              671 non-null    object \n",
      " 2   team_no                    671 non-null    int64  \n",
      " 3   plot_code_nmbr             671 non-null    int64  \n",
      " 4   plot_type                  671 non-null    object \n",
      " 5   sub_plot                   671 non-null    object \n",
      " 6   yes_no                     671 non-null    object \n",
      " 7   sub_plot_shift             633 non-null    object \n",
      " 8   GPS_waypt                  633 non-null    float64\n",
      " 9   GPS_id                     633 non-null    float64\n",
      " 10  GPS                        576 non-null    object \n",
      " 11  GPS_latitude               576 non-null    float64\n",
      " 12  GPS_longitude              576 non-null    float64\n",
      " 13  GPS_altitude               576 non-null    float64\n",
      " 14  GPS_precision              576 non-null    float64\n",
      " 15  photo                      633 non-null    object \n",
      " 16  manual_reason              38 non-null     object \n",
      " 17  lc_type                    633 non-null    object \n",
      " 18  lc_class                   619 non-null    object \n",
      " 19  lc_class_other             12 non-null     object \n",
      " 20  disturbance_yesno          477 non-null    object \n",
      " 21  disturbance_type           148 non-null    object \n",
      " 22  disturbance_class          148 non-null    object \n",
      " 23  slope                      619 non-null    float64\n",
      " 24  canopy_avg_height          619 non-null    float64\n",
      " 25  canopy_cover               619 non-null    float64\n",
      " 26  access_reason              38 non-null     object \n",
      " 27  slope_radians              619 non-null    float64\n",
      " 28  corrected_plot_area_n2_m2  619 non-null    float64\n",
      " 29  corrected_plot_area_n3_m2  619 non-null    float64\n",
      " 30  corrected_plot_area_n4_m2  619 non-null    float64\n",
      "dtypes: float64(13), int64(2), object(16)\n",
      "memory usage: 162.6+ KB\n"
     ]
    }
   ],
   "source": [
    "plot_info.info()"
   ]
  },
  {
   "cell_type": "code",
   "execution_count": 6,
   "metadata": {},
   "outputs": [],
   "source": [
    "# get the slope adjusted area per nest per subplot and creaste dict for substitution\n",
    "plot_info_subset = plot_info[\n",
    "    [\n",
    "        \"unique_id\",\n",
    "        \"corrected_plot_area_n2_m2\",\n",
    "        \"corrected_plot_area_n3_m2\",\n",
    "        \"corrected_plot_area_n4_m2\",\n",
    "    ]\n",
    "].copy()\n",
    "plot_info_subset.dropna(inplace=True)\n",
    "plot_info_subset.drop_duplicates(subset=[\"unique_id\"], inplace=True)\n",
    "plot_info_subset_dict = plot_info_subset.to_dict(orient=\"records\")"
   ]
  },
  {
   "cell_type": "markdown",
   "metadata": {},
   "source": [
    "### Stumps"
   ]
  },
  {
   "cell_type": "code",
   "execution_count": 7,
   "metadata": {},
   "outputs": [],
   "source": [
    "if STUMPS_CSV.exists():\n",
    "    stumps = pd.read_csv(STUMPS_CSV)\n",
    "else:\n",
    "    query = f\"\"\"\n",
    "    SELECT\n",
    "        * \n",
    "    FROM {GCP_PROJ_ID}.{DATASET_ID}.stumps\"\"\"\n",
    "\n",
    "    # Read the BigQuery table into a dataframe\n",
    "    stumps = pandas_gbq.read_gbq(query, project_id=GCP_PROJ_ID)\n",
    "    stumps.to_csv(STUMPS_CSV, index=False)"
   ]
  },
  {
   "cell_type": "code",
   "execution_count": 8,
   "metadata": {},
   "outputs": [
    {
     "name": "stdout",
     "output_type": "stream",
     "text": [
      "<class 'pandas.core.frame.DataFrame'>\n",
      "RangeIndex: 1754 entries, 0 to 1753\n",
      "Data columns (total 11 columns):\n",
      " #   Column         Non-Null Count  Dtype  \n",
      "---  ------         --------------  -----  \n",
      " 0   unique_id      1754 non-null   object \n",
      " 1   nest           1754 non-null   int64  \n",
      " 2   Diam1          1754 non-null   float64\n",
      " 3   Diam2          1754 non-null   float64\n",
      " 4   slope          1754 non-null   float64\n",
      " 5   height         1754 non-null   float64\n",
      " 6   cut_cl         1754 non-null   object \n",
      " 7   hollow_go      1754 non-null   object \n",
      " 8   hollow_d1      171 non-null    float64\n",
      " 9   hollow_d2      171 non-null    float64\n",
      " 10  stump_density  1754 non-null   float64\n",
      "dtypes: float64(7), int64(1), object(3)\n",
      "memory usage: 150.9+ KB\n"
     ]
    }
   ],
   "source": [
    "stumps.info()"
   ]
  },
  {
   "cell_type": "markdown",
   "metadata": {},
   "source": [
    "### Lying deadwood"
   ]
  },
  {
   "cell_type": "code",
   "execution_count": 9,
   "metadata": {},
   "outputs": [],
   "source": [
    "if LDW_CSV.exists():\n",
    "    ldw = pd.read_csv(LDW_CSV)\n",
    "else:\n",
    "    query = f\"\"\"\n",
    "    SELECT\n",
    "        * \n",
    "    FROM {GCP_PROJ_ID}.{SRC_DATASET_ID}.lying_deadwood_wo_hollow\"\"\"\n",
    "\n",
    "    # Read the BigQuery table into a dataframe\n",
    "    ldw = pandas_gbq.read_gbq(query, project_id=GCP_PROJ_ID)\n",
    "    ldw.to_csv(LDW_CSV, index=False)"
   ]
  },
  {
   "cell_type": "code",
   "execution_count": 10,
   "metadata": {},
   "outputs": [
    {
     "name": "stdout",
     "output_type": "stream",
     "text": [
      "<class 'pandas.core.frame.DataFrame'>\n",
      "RangeIndex: 1826 entries, 0 to 1825\n",
      "Data columns (total 6 columns):\n",
      " #   Column      Non-Null Count  Dtype  \n",
      "---  ------      --------------  -----  \n",
      " 0   unique_id   1826 non-null   object \n",
      " 1   repetition  1826 non-null   int64  \n",
      " 2   type        1826 non-null   object \n",
      " 3   class       1826 non-null   object \n",
      " 4   diameter    1826 non-null   float64\n",
      " 5   density     1826 non-null   float64\n",
      "dtypes: float64(2), int64(1), object(3)\n",
      "memory usage: 85.7+ KB\n"
     ]
    }
   ],
   "source": [
    "ldw.info()"
   ]
  },
  {
   "cell_type": "code",
   "execution_count": 11,
   "metadata": {},
   "outputs": [],
   "source": [
    "if LDW_HOLLOW_CSV.exists():\n",
    "    ldw_hollow = pd.read_csv(LDW_HOLLOW_CSV)\n",
    "else:\n",
    "    query = f\"\"\"\n",
    "    SELECT\n",
    "        * \n",
    "    FROM {GCP_PROJ_ID}.{SRC_DATASET_ID}.lying_deadwood_hollow\"\"\"\n",
    "\n",
    "    # Read the BigQuery table into a dataframe\n",
    "    ldw_hollow = pandas_gbq.read_gbq(query, project_id=GCP_PROJ_ID)\n",
    "    ldw_hollow.to_csv(LDW_HOLLOW_CSV, index=False)"
   ]
  },
  {
   "cell_type": "code",
   "execution_count": 12,
   "metadata": {},
   "outputs": [
    {
     "name": "stdout",
     "output_type": "stream",
     "text": [
      "<class 'pandas.core.frame.DataFrame'>\n",
      "RangeIndex: 15 entries, 0 to 14\n",
      "Data columns (total 8 columns):\n",
      " #   Column      Non-Null Count  Dtype  \n",
      "---  ------      --------------  -----  \n",
      " 0   unique_id   15 non-null     object \n",
      " 1   repetition  15 non-null     int64  \n",
      " 2   type        15 non-null     object \n",
      " 3   class       15 non-null     object \n",
      " 4   hollow_d1   15 non-null     float64\n",
      " 5   hollow_d2   15 non-null     float64\n",
      " 6   diameter    15 non-null     float64\n",
      " 7   density     15 non-null     float64\n",
      "dtypes: float64(4), int64(1), object(3)\n",
      "memory usage: 1.1+ KB\n"
     ]
    }
   ],
   "source": [
    "ldw_hollow.info()"
   ]
  },
  {
   "cell_type": "markdown",
   "metadata": {},
   "source": [
    "### Standing Deadwood"
   ]
  },
  {
   "cell_type": "code",
   "execution_count": 13,
   "metadata": {},
   "outputs": [],
   "source": [
    "if DEAD_TREES_CSV.exists():\n",
    "    dead_trees = pd.read_csv(DEAD_TREES_CSV)\n",
    "else:\n",
    "    query = f\"\"\"\n",
    "    SELECT\n",
    "        * \n",
    "    FROM {GCP_PROJ_ID}.{SRC_DATASET_ID}.dead_trees\"\"\"\n",
    "\n",
    "    # Read the BigQuery table into a dataframe\n",
    "    dead_trees = pandas_gbq.read_gbq(query, project_id=GCP_PROJ_ID)\n",
    "    dead_trees.to_csv(DEAD_TREES_CSV, index=False)"
   ]
  },
  {
   "cell_type": "code",
   "execution_count": 14,
   "metadata": {},
   "outputs": [
    {
     "name": "stdout",
     "output_type": "stream",
     "text": [
      "<class 'pandas.core.frame.DataFrame'>\n",
      "RangeIndex: 256 entries, 0 to 255\n",
      "Data columns (total 13 columns):\n",
      " #   Column        Non-Null Count  Dtype  \n",
      "---  ------        --------------  -----  \n",
      " 0   unique_id     256 non-null    object \n",
      " 1   nest          256 non-null    int64  \n",
      " 2   species_name  203 non-null    float64\n",
      " 3   DBH_cl1       2 non-null      float64\n",
      " 4   class         256 non-null    int64  \n",
      " 5   subclass      254 non-null    object \n",
      " 6   family_name   12 non-null     float64\n",
      " 7   dbh_tall      254 non-null    float64\n",
      " 8   db_tall       254 non-null    float64\n",
      " 9   tall_density  254 non-null    float64\n",
      " 10  slope_t_tall  254 non-null    float64\n",
      " 11  slope_b_tall  254 non-null    float64\n",
      " 12  dist_t_tall   254 non-null    float64\n",
      "dtypes: float64(9), int64(2), object(2)\n",
      "memory usage: 26.1+ KB\n"
     ]
    }
   ],
   "source": [
    "dead_trees.info()"
   ]
  },
  {
   "cell_type": "markdown",
   "metadata": {},
   "source": [
    "### Tree species"
   ]
  },
  {
   "cell_type": "code",
   "execution_count": 15,
   "metadata": {},
   "outputs": [],
   "source": [
    "species = pd.read_csv(SPECIES_LOOKUP_CSV)"
   ]
  },
  {
   "cell_type": "code",
   "execution_count": 16,
   "metadata": {},
   "outputs": [
    {
     "name": "stdout",
     "output_type": "stream",
     "text": [
      "<class 'pandas.core.frame.DataFrame'>\n",
      "RangeIndex: 375 entries, 0 to 374\n",
      "Data columns (total 7 columns):\n",
      " #   Column           Non-Null Count  Dtype  \n",
      "---  ------           --------------  -----  \n",
      " 0   code_family      74 non-null     float64\n",
      " 1   family           74 non-null     object \n",
      " 2   scientific_name  375 non-null    object \n",
      " 3   local_name       375 non-null    object \n",
      " 4   code_species     375 non-null    int64  \n",
      " 5   corrected_genus  375 non-null    object \n",
      " 6   wood_density     375 non-null    float64\n",
      "dtypes: float64(2), int64(1), object(4)\n",
      "memory usage: 20.6+ KB\n"
     ]
    }
   ],
   "source": [
    "species.info()"
   ]
  },
  {
   "cell_type": "code",
   "execution_count": 17,
   "metadata": {},
   "outputs": [
    {
     "data": {
      "text/html": [
       "<div>\n",
       "<style scoped>\n",
       "    .dataframe tbody tr th:only-of-type {\n",
       "        vertical-align: middle;\n",
       "    }\n",
       "\n",
       "    .dataframe tbody tr th {\n",
       "        vertical-align: top;\n",
       "    }\n",
       "\n",
       "    .dataframe thead th {\n",
       "        text-align: right;\n",
       "    }\n",
       "</style>\n",
       "<table border=\"1\" class=\"dataframe\">\n",
       "  <thead>\n",
       "    <tr style=\"text-align: right;\">\n",
       "      <th></th>\n",
       "      <th>code_family</th>\n",
       "      <th>family</th>\n",
       "      <th>scientific_name</th>\n",
       "      <th>local_name</th>\n",
       "      <th>code_species</th>\n",
       "      <th>corrected_genus</th>\n",
       "      <th>wood_density</th>\n",
       "    </tr>\n",
       "  </thead>\n",
       "  <tbody>\n",
       "    <tr>\n",
       "      <th>0</th>\n",
       "      <td>999.0</td>\n",
       "      <td>Unknown</td>\n",
       "      <td>Litchi chinensis</td>\n",
       "      <td>Alupag - amo</td>\n",
       "      <td>193</td>\n",
       "      <td>Litchi</td>\n",
       "      <td>0.608902</td>\n",
       "    </tr>\n",
       "    <tr>\n",
       "      <th>1</th>\n",
       "      <td>1.0</td>\n",
       "      <td>Alangiaceae</td>\n",
       "      <td>Alangium javanicum</td>\n",
       "      <td>Putian</td>\n",
       "      <td>15</td>\n",
       "      <td>Alangium</td>\n",
       "      <td>0.608902</td>\n",
       "    </tr>\n",
       "  </tbody>\n",
       "</table>\n",
       "</div>"
      ],
      "text/plain": [
       "   code_family       family     scientific_name    local_name  code_species  \\\n",
       "0        999.0      Unknown    Litchi chinensis  Alupag - amo           193   \n",
       "1          1.0  Alangiaceae  Alangium javanicum        Putian            15   \n",
       "\n",
       "  corrected_genus  wood_density  \n",
       "0          Litchi      0.608902  \n",
       "1        Alangium      0.608902  "
      ]
     },
     "execution_count": 17,
     "metadata": {},
     "output_type": "execute_result"
    }
   ],
   "source": [
    "species.head(2)"
   ]
  },
  {
   "cell_type": "code",
   "execution_count": 18,
   "metadata": {},
   "outputs": [],
   "source": [
    "species_dict = (\n",
    "    species[[\"scientific_name\", \"code_species\"]]\n",
    "    .set_index(\"code_species\")\n",
    "    .to_dict()[\"scientific_name\"]\n",
    ")"
   ]
  },
  {
   "cell_type": "code",
   "execution_count": 19,
   "metadata": {},
   "outputs": [],
   "source": [
    "# create lookup table for family name and code\n",
    "species_family = species[[\"code_family\", \"family\"]].drop_duplicates()"
   ]
  },
  {
   "cell_type": "code",
   "execution_count": 20,
   "metadata": {},
   "outputs": [],
   "source": [
    "family_dict = species_family.set_index(\"code_family\").to_dict()[\"family\"]"
   ]
  },
  {
   "cell_type": "markdown",
   "metadata": {},
   "source": [
    "### Plot lookup"
   ]
  },
  {
   "cell_type": "code",
   "execution_count": 21,
   "metadata": {},
   "outputs": [],
   "source": [
    "plot_strata = pd.read_csv(PC_PLOT_LOOKUP_CSV)"
   ]
  },
  {
   "cell_type": "code",
   "execution_count": 22,
   "metadata": {},
   "outputs": [
    {
     "name": "stdout",
     "output_type": "stream",
     "text": [
      "<class 'pandas.core.frame.DataFrame'>\n",
      "RangeIndex: 3520 entries, 0 to 3519\n",
      "Data columns (total 2 columns):\n",
      " #   Column     Non-Null Count  Dtype \n",
      "---  ------     --------------  ----- \n",
      " 0   unique_id  3520 non-null   object\n",
      " 1   Strata     3520 non-null   int64 \n",
      "dtypes: int64(1), object(1)\n",
      "memory usage: 55.1+ KB\n"
     ]
    }
   ],
   "source": [
    "plot_strata.info()"
   ]
  },
  {
   "cell_type": "markdown",
   "metadata": {},
   "source": [
    "# Calculate stump biomass"
   ]
  },
  {
   "cell_type": "code",
   "execution_count": 23,
   "metadata": {},
   "outputs": [
    {
     "data": {
      "text/html": [
       "<div>\n",
       "<style scoped>\n",
       "    .dataframe tbody tr th:only-of-type {\n",
       "        vertical-align: middle;\n",
       "    }\n",
       "\n",
       "    .dataframe tbody tr th {\n",
       "        vertical-align: top;\n",
       "    }\n",
       "\n",
       "    .dataframe thead th {\n",
       "        text-align: right;\n",
       "    }\n",
       "</style>\n",
       "<table border=\"1\" class=\"dataframe\">\n",
       "  <thead>\n",
       "    <tr style=\"text-align: right;\">\n",
       "      <th></th>\n",
       "      <th>unique_id</th>\n",
       "      <th>nest</th>\n",
       "      <th>Diam1</th>\n",
       "      <th>Diam2</th>\n",
       "      <th>slope</th>\n",
       "      <th>height</th>\n",
       "      <th>cut_cl</th>\n",
       "      <th>hollow_go</th>\n",
       "      <th>hollow_d1</th>\n",
       "      <th>hollow_d2</th>\n",
       "      <th>stump_density</th>\n",
       "    </tr>\n",
       "  </thead>\n",
       "  <tbody>\n",
       "    <tr>\n",
       "      <th>0</th>\n",
       "      <td>308C1</td>\n",
       "      <td>2</td>\n",
       "      <td>30.0</td>\n",
       "      <td>29.0</td>\n",
       "      <td>43.0</td>\n",
       "      <td>18.0</td>\n",
       "      <td>saw_axe</td>\n",
       "      <td>no</td>\n",
       "      <td>NaN</td>\n",
       "      <td>NaN</td>\n",
       "      <td>1.0</td>\n",
       "    </tr>\n",
       "    <tr>\n",
       "      <th>1</th>\n",
       "      <td>249B1</td>\n",
       "      <td>2</td>\n",
       "      <td>15.0</td>\n",
       "      <td>10.0</td>\n",
       "      <td>51.0</td>\n",
       "      <td>80.0</td>\n",
       "      <td>saw_axe</td>\n",
       "      <td>no</td>\n",
       "      <td>NaN</td>\n",
       "      <td>NaN</td>\n",
       "      <td>3.0</td>\n",
       "    </tr>\n",
       "  </tbody>\n",
       "</table>\n",
       "</div>"
      ],
      "text/plain": [
       "  unique_id  nest  Diam1  Diam2  slope  height   cut_cl hollow_go  hollow_d1  \\\n",
       "0     308C1     2   30.0   29.0   43.0    18.0  saw_axe        no        NaN   \n",
       "1     249B1     2   15.0   10.0   51.0    80.0  saw_axe        no        NaN   \n",
       "\n",
       "   hollow_d2  stump_density  \n",
       "0        NaN            1.0  \n",
       "1        NaN            3.0  "
      ]
     },
     "execution_count": 23,
     "metadata": {},
     "output_type": "execute_result"
    }
   ],
   "source": [
    "stumps.head(2)"
   ]
  },
  {
   "cell_type": "code",
   "execution_count": 24,
   "metadata": {},
   "outputs": [],
   "source": [
    "# get wood density equivalent for each density class\n",
    "\n",
    "density_val = {1: 0.54, 2: 0.35, 3: 0.21}\n",
    "stumps[\"stump_density_val\"] = stumps[\"stump_density\"].replace(density_val).fillna(0.21)"
   ]
  },
  {
   "cell_type": "code",
   "execution_count": 25,
   "metadata": {},
   "outputs": [],
   "source": [
    "# Get biomass for each stump\n",
    "stumps = vmd0002_eq2(stumps, \"Diam1\", \"Diam2\", \"height\", \"stump_density_val\")"
   ]
  },
  {
   "cell_type": "code",
   "execution_count": 26,
   "metadata": {},
   "outputs": [],
   "source": [
    "# Get biomass of each stump that is hollow\n",
    "stumps_hollow = vmd0002_eq2(\n",
    "    stumps, \"hollow_d1\", \"hollow_d2\", \"height\", \"stump_density_val\"\n",
    ")"
   ]
  },
  {
   "cell_type": "code",
   "execution_count": 27,
   "metadata": {},
   "outputs": [],
   "source": [
    "# Get biomass to subtract due to hollow stumps\n",
    "stumps[\"tonnes_dry_matter_hollow\"] = stumps_hollow[\"tonnes_dry_matter\"]"
   ]
  },
  {
   "cell_type": "code",
   "execution_count": 28,
   "metadata": {},
   "outputs": [],
   "source": [
    "# Subtract biomass of hollow stumps from total biomass\n",
    "stumps[\"tonnes_dry_matter\"] = np.where(\n",
    "    (~stumps[\"tonnes_dry_matter_hollow\"].isna())\n",
    "    & (stumps[\"tonnes_dry_matter_hollow\"] > 0),\n",
    "    stumps[\"tonnes_dry_matter\"] - stumps[\"tonnes_dry_matter_hollow\"],\n",
    "    stumps[\"tonnes_dry_matter\"],\n",
    ")"
   ]
  },
  {
   "cell_type": "code",
   "execution_count": 29,
   "metadata": {},
   "outputs": [],
   "source": [
    "# Remove biomass_hollow column to avoid confusion\n",
    "stumps.drop(columns=[\"tonnes_dry_matter_hollow\"], inplace=True)"
   ]
  },
  {
   "cell_type": "code",
   "execution_count": 30,
   "metadata": {},
   "outputs": [
    {
     "data": {
      "text/html": [
       "<div>\n",
       "<style scoped>\n",
       "    .dataframe tbody tr th:only-of-type {\n",
       "        vertical-align: middle;\n",
       "    }\n",
       "\n",
       "    .dataframe tbody tr th {\n",
       "        vertical-align: top;\n",
       "    }\n",
       "\n",
       "    .dataframe thead th {\n",
       "        text-align: right;\n",
       "    }\n",
       "</style>\n",
       "<table border=\"1\" class=\"dataframe\">\n",
       "  <thead>\n",
       "    <tr style=\"text-align: right;\">\n",
       "      <th></th>\n",
       "      <th>unique_id</th>\n",
       "      <th>nest</th>\n",
       "      <th>Diam1</th>\n",
       "      <th>Diam2</th>\n",
       "      <th>slope</th>\n",
       "      <th>height</th>\n",
       "      <th>cut_cl</th>\n",
       "      <th>hollow_go</th>\n",
       "      <th>hollow_d1</th>\n",
       "      <th>hollow_d2</th>\n",
       "      <th>stump_density</th>\n",
       "      <th>stump_density_val</th>\n",
       "      <th>tonnes_dry_matter</th>\n",
       "    </tr>\n",
       "  </thead>\n",
       "  <tbody>\n",
       "    <tr>\n",
       "      <th>0</th>\n",
       "      <td>308C1</td>\n",
       "      <td>2</td>\n",
       "      <td>30.0</td>\n",
       "      <td>29.0</td>\n",
       "      <td>43.0</td>\n",
       "      <td>18.0</td>\n",
       "      <td>saw_axe</td>\n",
       "      <td>no</td>\n",
       "      <td>NaN</td>\n",
       "      <td>NaN</td>\n",
       "      <td>1.0</td>\n",
       "      <td>0.54</td>\n",
       "      <td>2.8674</td>\n",
       "    </tr>\n",
       "    <tr>\n",
       "      <th>1</th>\n",
       "      <td>249B1</td>\n",
       "      <td>2</td>\n",
       "      <td>15.0</td>\n",
       "      <td>10.0</td>\n",
       "      <td>51.0</td>\n",
       "      <td>80.0</td>\n",
       "      <td>saw_axe</td>\n",
       "      <td>no</td>\n",
       "      <td>NaN</td>\n",
       "      <td>NaN</td>\n",
       "      <td>3.0</td>\n",
       "      <td>0.21</td>\n",
       "      <td>2.1000</td>\n",
       "    </tr>\n",
       "  </tbody>\n",
       "</table>\n",
       "</div>"
      ],
      "text/plain": [
       "  unique_id  nest  Diam1  Diam2  slope  height   cut_cl hollow_go  hollow_d1  \\\n",
       "0     308C1     2   30.0   29.0   43.0    18.0  saw_axe        no        NaN   \n",
       "1     249B1     2   15.0   10.0   51.0    80.0  saw_axe        no        NaN   \n",
       "\n",
       "   hollow_d2  stump_density  stump_density_val  tonnes_dry_matter  \n",
       "0        NaN            1.0               0.54             2.8674  \n",
       "1        NaN            3.0               0.21             2.1000  "
      ]
     },
     "execution_count": 30,
     "metadata": {},
     "output_type": "execute_result"
    }
   ],
   "source": [
    "stumps.head(2)"
   ]
  },
  {
   "cell_type": "markdown",
   "metadata": {},
   "source": [
    "## Get total stump biomass per hectare per subplot"
   ]
  },
  {
   "cell_type": "code",
   "execution_count": 31,
   "metadata": {},
   "outputs": [],
   "source": [
    "# get sum opf dry matter per subplot\n",
    "stumps_agg = vmd0002_eq3(stumps, [\"unique_id\", \"nest\"], \"tonnes_dry_matter\")"
   ]
  },
  {
   "cell_type": "code",
   "execution_count": 32,
   "metadata": {},
   "outputs": [],
   "source": [
    "# add the correct area using the unique_id and nest number\n",
    "stumps_agg[\"corrected_area_m2\"] = stumps_agg.apply(\n",
    "    lambda x: next(\n",
    "        (\n",
    "            item[\"corrected_plot_area_n\" + str(x[\"nest\"]) + \"_m2\"]\n",
    "            for item in plot_info_subset_dict\n",
    "            if item[\"unique_id\"] == x[\"unique_id\"]\n",
    "        ),\n",
    "        None,\n",
    "    ),\n",
    "    axis=1,\n",
    ")"
   ]
  },
  {
   "cell_type": "code",
   "execution_count": 33,
   "metadata": {},
   "outputs": [],
   "source": [
    "# convert square meters to hectares\n",
    "stumps_agg[\"corrected_area_ha\"] = stumps_agg[\"corrected_area_m2\"] / 10_000"
   ]
  },
  {
   "cell_type": "code",
   "execution_count": 34,
   "metadata": {},
   "outputs": [],
   "source": [
    "stumps_agg = vmd0002_eq4(stumps_agg, \"tonnes_dry_matter\", \"corrected_area_ha\")"
   ]
  },
  {
   "cell_type": "code",
   "execution_count": 35,
   "metadata": {},
   "outputs": [
    {
     "data": {
      "text/html": [
       "<div>\n",
       "<style scoped>\n",
       "    .dataframe tbody tr th:only-of-type {\n",
       "        vertical-align: middle;\n",
       "    }\n",
       "\n",
       "    .dataframe tbody tr th {\n",
       "        vertical-align: top;\n",
       "    }\n",
       "\n",
       "    .dataframe thead th {\n",
       "        text-align: right;\n",
       "    }\n",
       "</style>\n",
       "<table border=\"1\" class=\"dataframe\">\n",
       "  <thead>\n",
       "    <tr style=\"text-align: right;\">\n",
       "      <th></th>\n",
       "      <th>unique_id</th>\n",
       "      <th>nest</th>\n",
       "      <th>tonnes_dry_matter</th>\n",
       "      <th>corrected_area_m2</th>\n",
       "      <th>corrected_area_ha</th>\n",
       "      <th>tonnes_dry_matter_ha</th>\n",
       "    </tr>\n",
       "  </thead>\n",
       "  <tbody>\n",
       "    <tr>\n",
       "      <th>0</th>\n",
       "      <td>100C1</td>\n",
       "      <td>3</td>\n",
       "      <td>11.403</td>\n",
       "      <td>707.141090</td>\n",
       "      <td>0.070714</td>\n",
       "      <td>161.254948</td>\n",
       "    </tr>\n",
       "    <tr>\n",
       "      <th>1</th>\n",
       "      <td>100D1</td>\n",
       "      <td>3</td>\n",
       "      <td>11.307</td>\n",
       "      <td>779.240642</td>\n",
       "      <td>0.077924</td>\n",
       "      <td>145.102801</td>\n",
       "    </tr>\n",
       "  </tbody>\n",
       "</table>\n",
       "</div>"
      ],
      "text/plain": [
       "  unique_id  nest  tonnes_dry_matter  corrected_area_m2  corrected_area_ha  \\\n",
       "0     100C1     3             11.403         707.141090           0.070714   \n",
       "1     100D1     3             11.307         779.240642           0.077924   \n",
       "\n",
       "   tonnes_dry_matter_ha  \n",
       "0            161.254948  \n",
       "1            145.102801  "
      ]
     },
     "execution_count": 35,
     "metadata": {},
     "output_type": "execute_result"
    }
   ],
   "source": [
    "stumps_agg.head(2)"
   ]
  },
  {
   "cell_type": "code",
   "execution_count": 36,
   "metadata": {},
   "outputs": [],
   "source": [
    "stumps_agg.rename(\n",
    "    columns={\"tonnes_dry_matter_ha\": \"stumps_tonnes_dry_matter_ha\"}, inplace=True\n",
    ")"
   ]
  },
  {
   "cell_type": "code",
   "execution_count": 37,
   "metadata": {},
   "outputs": [],
   "source": [
    "stumps_agg = (\n",
    "    stumps_agg[[\"unique_id\", \"stumps_tonnes_dry_matter_ha\"]]\n",
    "    .groupby(\"unique_id\")\n",
    "    .mean()\n",
    "    .reset_index()\n",
    ")"
   ]
  },
  {
   "cell_type": "code",
   "execution_count": 38,
   "metadata": {},
   "outputs": [
    {
     "data": {
      "text/html": [
       "<div>\n",
       "<style scoped>\n",
       "    .dataframe tbody tr th:only-of-type {\n",
       "        vertical-align: middle;\n",
       "    }\n",
       "\n",
       "    .dataframe tbody tr th {\n",
       "        vertical-align: top;\n",
       "    }\n",
       "\n",
       "    .dataframe thead th {\n",
       "        text-align: right;\n",
       "    }\n",
       "</style>\n",
       "<table border=\"1\" class=\"dataframe\">\n",
       "  <thead>\n",
       "    <tr style=\"text-align: right;\">\n",
       "      <th></th>\n",
       "      <th>unique_id</th>\n",
       "      <th>stumps_tonnes_dry_matter_ha</th>\n",
       "    </tr>\n",
       "  </thead>\n",
       "  <tbody>\n",
       "    <tr>\n",
       "      <th>0</th>\n",
       "      <td>100C1</td>\n",
       "      <td>161.254948</td>\n",
       "    </tr>\n",
       "    <tr>\n",
       "      <th>1</th>\n",
       "      <td>100D1</td>\n",
       "      <td>121.613106</td>\n",
       "    </tr>\n",
       "  </tbody>\n",
       "</table>\n",
       "</div>"
      ],
      "text/plain": [
       "  unique_id  stumps_tonnes_dry_matter_ha\n",
       "0     100C1                   161.254948\n",
       "1     100D1                   121.613106"
      ]
     },
     "execution_count": 38,
     "metadata": {},
     "output_type": "execute_result"
    }
   ],
   "source": [
    "stumps_agg.head(2)"
   ]
  },
  {
   "cell_type": "markdown",
   "metadata": {},
   "source": [
    "# Calculate Lying deadwood biomass"
   ]
  },
  {
   "cell_type": "code",
   "execution_count": 39,
   "metadata": {},
   "outputs": [
    {
     "data": {
      "text/html": [
       "<div>\n",
       "<style scoped>\n",
       "    .dataframe tbody tr th:only-of-type {\n",
       "        vertical-align: middle;\n",
       "    }\n",
       "\n",
       "    .dataframe tbody tr th {\n",
       "        vertical-align: top;\n",
       "    }\n",
       "\n",
       "    .dataframe thead th {\n",
       "        text-align: right;\n",
       "    }\n",
       "</style>\n",
       "<table border=\"1\" class=\"dataframe\">\n",
       "  <thead>\n",
       "    <tr style=\"text-align: right;\">\n",
       "      <th></th>\n",
       "      <th>unique_id</th>\n",
       "      <th>repetition</th>\n",
       "      <th>type</th>\n",
       "      <th>class</th>\n",
       "      <th>diameter</th>\n",
       "      <th>density</th>\n",
       "    </tr>\n",
       "  </thead>\n",
       "  <tbody>\n",
       "    <tr>\n",
       "      <th>0</th>\n",
       "      <td>308D1</td>\n",
       "      <td>1</td>\n",
       "      <td>tr1</td>\n",
       "      <td>FC</td>\n",
       "      <td>16.5</td>\n",
       "      <td>3.0</td>\n",
       "    </tr>\n",
       "    <tr>\n",
       "      <th>1</th>\n",
       "      <td>308D1</td>\n",
       "      <td>2</td>\n",
       "      <td>tr1</td>\n",
       "      <td>FC</td>\n",
       "      <td>18.3</td>\n",
       "      <td>3.0</td>\n",
       "    </tr>\n",
       "  </tbody>\n",
       "</table>\n",
       "</div>"
      ],
      "text/plain": [
       "  unique_id  repetition type class  diameter  density\n",
       "0     308D1           1  tr1    FC      16.5      3.0\n",
       "1     308D1           2  tr1    FC      18.3      3.0"
      ]
     },
     "execution_count": 39,
     "metadata": {},
     "output_type": "execute_result"
    }
   ],
   "source": [
    "ldw.head(2)"
   ]
  },
  {
   "cell_type": "markdown",
   "metadata": {},
   "source": [
    "## No hollow"
   ]
  },
  {
   "cell_type": "markdown",
   "metadata": {},
   "source": [
    "### Outlier removal"
   ]
  },
  {
   "cell_type": "code",
   "execution_count": 40,
   "metadata": {},
   "outputs": [
    {
     "data": {
      "text/html": [
       "<div>\n",
       "<style scoped>\n",
       "    .dataframe tbody tr th:only-of-type {\n",
       "        vertical-align: middle;\n",
       "    }\n",
       "\n",
       "    .dataframe tbody tr th {\n",
       "        vertical-align: top;\n",
       "    }\n",
       "\n",
       "    .dataframe thead th {\n",
       "        text-align: right;\n",
       "    }\n",
       "</style>\n",
       "<table border=\"1\" class=\"dataframe\">\n",
       "  <thead>\n",
       "    <tr style=\"text-align: right;\">\n",
       "      <th></th>\n",
       "      <th>repetition</th>\n",
       "      <th>diameter</th>\n",
       "      <th>density</th>\n",
       "    </tr>\n",
       "  </thead>\n",
       "  <tbody>\n",
       "    <tr>\n",
       "      <th>count</th>\n",
       "      <td>1826.000000</td>\n",
       "      <td>1826.000000</td>\n",
       "      <td>1826.000000</td>\n",
       "    </tr>\n",
       "    <tr>\n",
       "      <th>mean</th>\n",
       "      <td>2.529573</td>\n",
       "      <td>27.733866</td>\n",
       "      <td>1.937021</td>\n",
       "    </tr>\n",
       "    <tr>\n",
       "      <th>std</th>\n",
       "      <td>1.943715</td>\n",
       "      <td>109.834565</td>\n",
       "      <td>0.744572</td>\n",
       "    </tr>\n",
       "    <tr>\n",
       "      <th>min</th>\n",
       "      <td>1.000000</td>\n",
       "      <td>10.000000</td>\n",
       "      <td>1.000000</td>\n",
       "    </tr>\n",
       "    <tr>\n",
       "      <th>25%</th>\n",
       "      <td>1.000000</td>\n",
       "      <td>14.425000</td>\n",
       "      <td>1.000000</td>\n",
       "    </tr>\n",
       "    <tr>\n",
       "      <th>50%</th>\n",
       "      <td>2.000000</td>\n",
       "      <td>20.000000</td>\n",
       "      <td>2.000000</td>\n",
       "    </tr>\n",
       "    <tr>\n",
       "      <th>75%</th>\n",
       "      <td>3.000000</td>\n",
       "      <td>30.000000</td>\n",
       "      <td>2.000000</td>\n",
       "    </tr>\n",
       "    <tr>\n",
       "      <th>max</th>\n",
       "      <td>15.000000</td>\n",
       "      <td>4592.000000</td>\n",
       "      <td>3.000000</td>\n",
       "    </tr>\n",
       "  </tbody>\n",
       "</table>\n",
       "</div>"
      ],
      "text/plain": [
       "        repetition     diameter      density\n",
       "count  1826.000000  1826.000000  1826.000000\n",
       "mean      2.529573    27.733866     1.937021\n",
       "std       1.943715   109.834565     0.744572\n",
       "min       1.000000    10.000000     1.000000\n",
       "25%       1.000000    14.425000     1.000000\n",
       "50%       2.000000    20.000000     2.000000\n",
       "75%       3.000000    30.000000     2.000000\n",
       "max      15.000000  4592.000000     3.000000"
      ]
     },
     "execution_count": 40,
     "metadata": {},
     "output_type": "execute_result"
    }
   ],
   "source": [
    "ldw.describe()"
   ]
  },
  {
   "cell_type": "code",
   "execution_count": 41,
   "metadata": {},
   "outputs": [],
   "source": [
    "# Filter the ldw DataFrame to keep rows where diameter is less than or equal to the 98th percentile\n",
    "ldw = ldw[ldw[\"diameter\"] <= 150]"
   ]
  },
  {
   "cell_type": "code",
   "execution_count": 42,
   "metadata": {},
   "outputs": [],
   "source": [
    "ldw = vmd0002_eq7(ldw, \"diameter\", 80)"
   ]
  },
  {
   "cell_type": "code",
   "execution_count": 43,
   "metadata": {},
   "outputs": [],
   "source": [
    "ldw = vmd0002_eq8a(ldw, \"density\")"
   ]
  },
  {
   "cell_type": "code",
   "execution_count": 44,
   "metadata": {},
   "outputs": [
    {
     "data": {
      "text/html": [
       "<div>\n",
       "<style scoped>\n",
       "    .dataframe tbody tr th:only-of-type {\n",
       "        vertical-align: middle;\n",
       "    }\n",
       "\n",
       "    .dataframe tbody tr th {\n",
       "        vertical-align: top;\n",
       "    }\n",
       "\n",
       "    .dataframe thead th {\n",
       "        text-align: right;\n",
       "    }\n",
       "</style>\n",
       "<table border=\"1\" class=\"dataframe\">\n",
       "  <thead>\n",
       "    <tr style=\"text-align: right;\">\n",
       "      <th></th>\n",
       "      <th>unique_id</th>\n",
       "      <th>repetition</th>\n",
       "      <th>type</th>\n",
       "      <th>class</th>\n",
       "      <th>diameter</th>\n",
       "      <th>density</th>\n",
       "      <th>deadwood_volume</th>\n",
       "      <th>tonnes_dry_matter_ha</th>\n",
       "    </tr>\n",
       "  </thead>\n",
       "  <tbody>\n",
       "    <tr>\n",
       "      <th>0</th>\n",
       "      <td>308D1</td>\n",
       "      <td>1</td>\n",
       "      <td>tr1</td>\n",
       "      <td>FC</td>\n",
       "      <td>16.5</td>\n",
       "      <td>3.0</td>\n",
       "      <td>0.425391</td>\n",
       "      <td>0.089332</td>\n",
       "    </tr>\n",
       "    <tr>\n",
       "      <th>1</th>\n",
       "      <td>308D1</td>\n",
       "      <td>2</td>\n",
       "      <td>tr1</td>\n",
       "      <td>FC</td>\n",
       "      <td>18.3</td>\n",
       "      <td>3.0</td>\n",
       "      <td>0.523266</td>\n",
       "      <td>0.109886</td>\n",
       "    </tr>\n",
       "  </tbody>\n",
       "</table>\n",
       "</div>"
      ],
      "text/plain": [
       "  unique_id  repetition type class  diameter  density  deadwood_volume  \\\n",
       "0     308D1           1  tr1    FC      16.5      3.0         0.425391   \n",
       "1     308D1           2  tr1    FC      18.3      3.0         0.523266   \n",
       "\n",
       "   tonnes_dry_matter_ha  \n",
       "0              0.089332  \n",
       "1              0.109886  "
      ]
     },
     "execution_count": 44,
     "metadata": {},
     "output_type": "execute_result"
    }
   ],
   "source": [
    "ldw.head(2)"
   ]
  },
  {
   "cell_type": "markdown",
   "metadata": {},
   "source": [
    "## Hollow Lying Deadwood"
   ]
  },
  {
   "cell_type": "code",
   "execution_count": 45,
   "metadata": {},
   "outputs": [],
   "source": [
    "ldw_hollow = get_solid_diamter(ldw_hollow, \"hollow_d1\", \"hollow_d2\", \"diameter\")"
   ]
  },
  {
   "cell_type": "code",
   "execution_count": 46,
   "metadata": {},
   "outputs": [],
   "source": [
    "ldw_hollow = vmd0002_eq7(ldw_hollow, \"solid_diameter\", 80)"
   ]
  },
  {
   "cell_type": "code",
   "execution_count": 47,
   "metadata": {},
   "outputs": [],
   "source": [
    "ldw_hollow = vmd0002_eq8a(ldw_hollow, \"density\")"
   ]
  },
  {
   "cell_type": "code",
   "execution_count": 48,
   "metadata": {},
   "outputs": [
    {
     "data": {
      "text/html": [
       "<div>\n",
       "<style scoped>\n",
       "    .dataframe tbody tr th:only-of-type {\n",
       "        vertical-align: middle;\n",
       "    }\n",
       "\n",
       "    .dataframe tbody tr th {\n",
       "        vertical-align: top;\n",
       "    }\n",
       "\n",
       "    .dataframe thead th {\n",
       "        text-align: right;\n",
       "    }\n",
       "</style>\n",
       "<table border=\"1\" class=\"dataframe\">\n",
       "  <thead>\n",
       "    <tr style=\"text-align: right;\">\n",
       "      <th></th>\n",
       "      <th>unique_id</th>\n",
       "      <th>repetition</th>\n",
       "      <th>type</th>\n",
       "      <th>class</th>\n",
       "      <th>hollow_d1</th>\n",
       "      <th>hollow_d2</th>\n",
       "      <th>diameter</th>\n",
       "      <th>density</th>\n",
       "      <th>solid_diameter</th>\n",
       "      <th>deadwood_volume</th>\n",
       "      <th>tonnes_dry_matter_ha</th>\n",
       "    </tr>\n",
       "  </thead>\n",
       "  <tbody>\n",
       "    <tr>\n",
       "      <th>0</th>\n",
       "      <td>249D1</td>\n",
       "      <td>1</td>\n",
       "      <td>tr2</td>\n",
       "      <td>MDF</td>\n",
       "      <td>12.0</td>\n",
       "      <td>10.0</td>\n",
       "      <td>16.7</td>\n",
       "      <td>3.0</td>\n",
       "      <td>12.565429</td>\n",
       "      <td>0.246703</td>\n",
       "      <td>0.051808</td>\n",
       "    </tr>\n",
       "    <tr>\n",
       "      <th>1</th>\n",
       "      <td>290A1</td>\n",
       "      <td>2</td>\n",
       "      <td>tr2</td>\n",
       "      <td>MCB</td>\n",
       "      <td>68.0</td>\n",
       "      <td>28.0</td>\n",
       "      <td>62.0</td>\n",
       "      <td>1.0</td>\n",
       "      <td>39.242834</td>\n",
       "      <td>2.406250</td>\n",
       "      <td>1.299375</td>\n",
       "    </tr>\n",
       "  </tbody>\n",
       "</table>\n",
       "</div>"
      ],
      "text/plain": [
       "  unique_id  repetition type class  hollow_d1  hollow_d2  diameter  density  \\\n",
       "0     249D1           1  tr2   MDF       12.0       10.0      16.7      3.0   \n",
       "1     290A1           2  tr2   MCB       68.0       28.0      62.0      1.0   \n",
       "\n",
       "   solid_diameter  deadwood_volume  tonnes_dry_matter_ha  \n",
       "0       12.565429         0.246703              0.051808  \n",
       "1       39.242834         2.406250              1.299375  "
      ]
     },
     "execution_count": 48,
     "metadata": {},
     "output_type": "execute_result"
    }
   ],
   "source": [
    "ldw_hollow.head(2)"
   ]
  },
  {
   "cell_type": "markdown",
   "metadata": {},
   "source": [
    "## Get total lying deadwood biomass per hectare per subplot"
   ]
  },
  {
   "cell_type": "code",
   "execution_count": 49,
   "metadata": {},
   "outputs": [],
   "source": [
    "ldw_subset = ldw[[\"unique_id\", \"tonnes_dry_matter_ha\"]].copy()\n",
    "ldw_hollow_subset = ldw_hollow[[\"unique_id\", \"tonnes_dry_matter_ha\"]].copy()"
   ]
  },
  {
   "cell_type": "code",
   "execution_count": 50,
   "metadata": {},
   "outputs": [],
   "source": [
    "ldw_all = pd.concat([ldw_subset, ldw_hollow_subset])"
   ]
  },
  {
   "cell_type": "code",
   "execution_count": 51,
   "metadata": {},
   "outputs": [
    {
     "data": {
      "text/html": [
       "<div>\n",
       "<style scoped>\n",
       "    .dataframe tbody tr th:only-of-type {\n",
       "        vertical-align: middle;\n",
       "    }\n",
       "\n",
       "    .dataframe tbody tr th {\n",
       "        vertical-align: top;\n",
       "    }\n",
       "\n",
       "    .dataframe thead th {\n",
       "        text-align: right;\n",
       "    }\n",
       "</style>\n",
       "<table border=\"1\" class=\"dataframe\">\n",
       "  <thead>\n",
       "    <tr style=\"text-align: right;\">\n",
       "      <th></th>\n",
       "      <th>unique_id</th>\n",
       "      <th>tonnes_dry_matter_ha</th>\n",
       "    </tr>\n",
       "  </thead>\n",
       "  <tbody>\n",
       "    <tr>\n",
       "      <th>0</th>\n",
       "      <td>308D1</td>\n",
       "      <td>0.089332</td>\n",
       "    </tr>\n",
       "    <tr>\n",
       "      <th>1</th>\n",
       "      <td>308D1</td>\n",
       "      <td>0.109886</td>\n",
       "    </tr>\n",
       "  </tbody>\n",
       "</table>\n",
       "</div>"
      ],
      "text/plain": [
       "  unique_id  tonnes_dry_matter_ha\n",
       "0     308D1              0.089332\n",
       "1     308D1              0.109886"
      ]
     },
     "execution_count": 51,
     "metadata": {},
     "output_type": "execute_result"
    }
   ],
   "source": [
    "ldw_all.head(2)"
   ]
  },
  {
   "cell_type": "code",
   "execution_count": 52,
   "metadata": {},
   "outputs": [],
   "source": [
    "ldw_agg = vmd0002_eq8b(ldw_all, agg_col=[\"unique_id\"])"
   ]
  },
  {
   "cell_type": "code",
   "execution_count": 53,
   "metadata": {},
   "outputs": [],
   "source": [
    "ldw_agg.rename(\n",
    "    columns={\"tonnes_dry_matter_ha\": \"ldw_tonnes_dry_matter_ha\"}, inplace=True\n",
    ")"
   ]
  },
  {
   "cell_type": "code",
   "execution_count": 54,
   "metadata": {},
   "outputs": [
    {
     "data": {
      "text/html": [
       "<div>\n",
       "<style scoped>\n",
       "    .dataframe tbody tr th:only-of-type {\n",
       "        vertical-align: middle;\n",
       "    }\n",
       "\n",
       "    .dataframe tbody tr th {\n",
       "        vertical-align: top;\n",
       "    }\n",
       "\n",
       "    .dataframe thead th {\n",
       "        text-align: right;\n",
       "    }\n",
       "</style>\n",
       "<table border=\"1\" class=\"dataframe\">\n",
       "  <thead>\n",
       "    <tr style=\"text-align: right;\">\n",
       "      <th></th>\n",
       "      <th>unique_id</th>\n",
       "      <th>ldw_tonnes_dry_matter_ha</th>\n",
       "    </tr>\n",
       "  </thead>\n",
       "  <tbody>\n",
       "    <tr>\n",
       "      <th>0</th>\n",
       "      <td>100A1</td>\n",
       "      <td>0.207976</td>\n",
       "    </tr>\n",
       "    <tr>\n",
       "      <th>1</th>\n",
       "      <td>100B1</td>\n",
       "      <td>1.091449</td>\n",
       "    </tr>\n",
       "  </tbody>\n",
       "</table>\n",
       "</div>"
      ],
      "text/plain": [
       "  unique_id  ldw_tonnes_dry_matter_ha\n",
       "0     100A1                  0.207976\n",
       "1     100B1                  1.091449"
      ]
     },
     "execution_count": 54,
     "metadata": {},
     "output_type": "execute_result"
    }
   ],
   "source": [
    "ldw_agg.head(2)"
   ]
  },
  {
   "cell_type": "code",
   "execution_count": 55,
   "metadata": {},
   "outputs": [
    {
     "name": "stdout",
     "output_type": "stream",
     "text": [
      "<class 'pandas.core.frame.DataFrame'>\n",
      "RangeIndex: 476 entries, 0 to 475\n",
      "Data columns (total 2 columns):\n",
      " #   Column                    Non-Null Count  Dtype  \n",
      "---  ------                    --------------  -----  \n",
      " 0   unique_id                 476 non-null    object \n",
      " 1   ldw_tonnes_dry_matter_ha  476 non-null    float64\n",
      "dtypes: float64(1), object(1)\n",
      "memory usage: 7.6+ KB\n"
     ]
    }
   ],
   "source": [
    "ldw_agg.info()"
   ]
  },
  {
   "cell_type": "markdown",
   "metadata": {},
   "source": [
    "# Calculate Standing Deadwood Biomass"
   ]
  },
  {
   "cell_type": "markdown",
   "metadata": {},
   "source": [
    "## Calculate biomass for Class 1 standing deadwood trees\n",
    "Class 1 standing dead trees that is fresh and can be treated as living trees in terms of biomass. The method applied mimics the process from living trees"
   ]
  },
  {
   "cell_type": "code",
   "execution_count": 56,
   "metadata": {},
   "outputs": [
    {
     "data": {
      "text/html": [
       "<div>\n",
       "<style scoped>\n",
       "    .dataframe tbody tr th:only-of-type {\n",
       "        vertical-align: middle;\n",
       "    }\n",
       "\n",
       "    .dataframe tbody tr th {\n",
       "        vertical-align: top;\n",
       "    }\n",
       "\n",
       "    .dataframe thead th {\n",
       "        text-align: right;\n",
       "    }\n",
       "</style>\n",
       "<table border=\"1\" class=\"dataframe\">\n",
       "  <thead>\n",
       "    <tr style=\"text-align: right;\">\n",
       "      <th></th>\n",
       "      <th>unique_id</th>\n",
       "      <th>nest</th>\n",
       "      <th>species_name</th>\n",
       "      <th>DBH_cl1</th>\n",
       "      <th>class</th>\n",
       "      <th>subclass</th>\n",
       "      <th>family_name</th>\n",
       "      <th>dbh_tall</th>\n",
       "      <th>db_tall</th>\n",
       "      <th>tall_density</th>\n",
       "      <th>slope_t_tall</th>\n",
       "      <th>slope_b_tall</th>\n",
       "      <th>dist_t_tall</th>\n",
       "    </tr>\n",
       "  </thead>\n",
       "  <tbody>\n",
       "    <tr>\n",
       "      <th>0</th>\n",
       "      <td>290C1</td>\n",
       "      <td>3</td>\n",
       "      <td>145.0</td>\n",
       "      <td>38.0</td>\n",
       "      <td>1</td>\n",
       "      <td>NaN</td>\n",
       "      <td>NaN</td>\n",
       "      <td>NaN</td>\n",
       "      <td>NaN</td>\n",
       "      <td>NaN</td>\n",
       "      <td>NaN</td>\n",
       "      <td>NaN</td>\n",
       "      <td>NaN</td>\n",
       "    </tr>\n",
       "    <tr>\n",
       "      <th>1</th>\n",
       "      <td>290C1</td>\n",
       "      <td>4</td>\n",
       "      <td>177.0</td>\n",
       "      <td>58.8</td>\n",
       "      <td>1</td>\n",
       "      <td>NaN</td>\n",
       "      <td>NaN</td>\n",
       "      <td>NaN</td>\n",
       "      <td>NaN</td>\n",
       "      <td>NaN</td>\n",
       "      <td>NaN</td>\n",
       "      <td>NaN</td>\n",
       "      <td>NaN</td>\n",
       "    </tr>\n",
       "  </tbody>\n",
       "</table>\n",
       "</div>"
      ],
      "text/plain": [
       "  unique_id  nest  species_name  DBH_cl1  class subclass  family_name  \\\n",
       "0     290C1     3         145.0     38.0      1      NaN          NaN   \n",
       "1     290C1     4         177.0     58.8      1      NaN          NaN   \n",
       "\n",
       "   dbh_tall  db_tall  tall_density  slope_t_tall  slope_b_tall  dist_t_tall  \n",
       "0       NaN      NaN           NaN           NaN           NaN          NaN  \n",
       "1       NaN      NaN           NaN           NaN           NaN          NaN  "
      ]
     },
     "execution_count": 56,
     "metadata": {},
     "output_type": "execute_result"
    }
   ],
   "source": [
    "dead_trees.head(2)"
   ]
  },
  {
   "cell_type": "code",
   "execution_count": 57,
   "metadata": {},
   "outputs": [],
   "source": [
    "dead_trees.rename(\n",
    "    columns={\"family_name\": \"code_family\", \"species_name\": \"code_species\"}, inplace=True\n",
    ")"
   ]
  },
  {
   "cell_type": "code",
   "execution_count": 58,
   "metadata": {},
   "outputs": [],
   "source": [
    "c1_dead_trees = dead_trees.loc[dead_trees[\"class\"] == 1].copy()"
   ]
  },
  {
   "cell_type": "code",
   "execution_count": 59,
   "metadata": {},
   "outputs": [],
   "source": [
    "c1_dead_trees[\"family_name\"] = c1_dead_trees[\"code_family\"].replace(family_dict)"
   ]
  },
  {
   "cell_type": "code",
   "execution_count": 60,
   "metadata": {},
   "outputs": [],
   "source": [
    "c1_dead_trees[\"scientific_name\"] = c1_dead_trees[\"code_species\"].replace(species_dict)"
   ]
  },
  {
   "cell_type": "code",
   "execution_count": 61,
   "metadata": {},
   "outputs": [],
   "source": [
    "c1_dead_trees.to_csv(tmp_dead_trees_c1)"
   ]
  },
  {
   "cell_type": "code",
   "execution_count": 62,
   "metadata": {},
   "outputs": [
    {
     "data": {
      "text/html": [
       "<div>\n",
       "<style scoped>\n",
       "    .dataframe tbody tr th:only-of-type {\n",
       "        vertical-align: middle;\n",
       "    }\n",
       "\n",
       "    .dataframe tbody tr th {\n",
       "        vertical-align: top;\n",
       "    }\n",
       "\n",
       "    .dataframe thead th {\n",
       "        text-align: right;\n",
       "    }\n",
       "</style>\n",
       "<table border=\"1\" class=\"dataframe\">\n",
       "  <thead>\n",
       "    <tr style=\"text-align: right;\">\n",
       "      <th></th>\n",
       "      <th>unique_id</th>\n",
       "      <th>nest</th>\n",
       "      <th>code_species</th>\n",
       "      <th>DBH_cl1</th>\n",
       "      <th>class</th>\n",
       "      <th>subclass</th>\n",
       "      <th>code_family</th>\n",
       "      <th>dbh_tall</th>\n",
       "      <th>db_tall</th>\n",
       "      <th>tall_density</th>\n",
       "      <th>slope_t_tall</th>\n",
       "      <th>slope_b_tall</th>\n",
       "      <th>dist_t_tall</th>\n",
       "      <th>family_name</th>\n",
       "      <th>scientific_name</th>\n",
       "    </tr>\n",
       "  </thead>\n",
       "  <tbody>\n",
       "    <tr>\n",
       "      <th>0</th>\n",
       "      <td>290C1</td>\n",
       "      <td>3</td>\n",
       "      <td>145.0</td>\n",
       "      <td>38.0</td>\n",
       "      <td>1</td>\n",
       "      <td>NaN</td>\n",
       "      <td>NaN</td>\n",
       "      <td>NaN</td>\n",
       "      <td>NaN</td>\n",
       "      <td>NaN</td>\n",
       "      <td>NaN</td>\n",
       "      <td>NaN</td>\n",
       "      <td>NaN</td>\n",
       "      <td>NaN</td>\n",
       "      <td>Flueggea flexuosa</td>\n",
       "    </tr>\n",
       "    <tr>\n",
       "      <th>1</th>\n",
       "      <td>290C1</td>\n",
       "      <td>4</td>\n",
       "      <td>177.0</td>\n",
       "      <td>58.8</td>\n",
       "      <td>1</td>\n",
       "      <td>NaN</td>\n",
       "      <td>NaN</td>\n",
       "      <td>NaN</td>\n",
       "      <td>NaN</td>\n",
       "      <td>NaN</td>\n",
       "      <td>NaN</td>\n",
       "      <td>NaN</td>\n",
       "      <td>NaN</td>\n",
       "      <td>NaN</td>\n",
       "      <td>Hopea plagata</td>\n",
       "    </tr>\n",
       "  </tbody>\n",
       "</table>\n",
       "</div>"
      ],
      "text/plain": [
       "  unique_id  nest  code_species  DBH_cl1  class subclass  code_family  \\\n",
       "0     290C1     3         145.0     38.0      1      NaN          NaN   \n",
       "1     290C1     4         177.0     58.8      1      NaN          NaN   \n",
       "\n",
       "   dbh_tall  db_tall  tall_density  slope_t_tall  slope_b_tall  dist_t_tall  \\\n",
       "0       NaN      NaN           NaN           NaN           NaN          NaN   \n",
       "1       NaN      NaN           NaN           NaN           NaN          NaN   \n",
       "\n",
       "   family_name    scientific_name  \n",
       "0          NaN  Flueggea flexuosa  \n",
       "1          NaN      Hopea plagata  "
      ]
     },
     "execution_count": 62,
     "metadata": {},
     "output_type": "execute_result"
    }
   ],
   "source": [
    "c1_dead_trees"
   ]
  },
  {
   "cell_type": "markdown",
   "metadata": {},
   "source": [
    "### Get genus and wood density using BIOMASS R Library"
   ]
  },
  {
   "cell_type": "code",
   "execution_count": 63,
   "metadata": {},
   "outputs": [
    {
     "name": "stdout",
     "output_type": "stream",
     "text": [
      "Fatal error: cannot open file '/get_wood_density.R': No such file or directory\n"
     ]
    }
   ],
   "source": [
    "!Rscript $SRC_DIR\"/get_wood_density.R\" $tmp_dead_trees_c1 $tmp_dead_trees_c1_wd"
   ]
  },
  {
   "cell_type": "code",
   "execution_count": 64,
   "metadata": {},
   "outputs": [],
   "source": [
    "c1_dead_trees = pd.read_csv(tmp_dead_trees_c1_wd)"
   ]
  },
  {
   "cell_type": "code",
   "execution_count": 65,
   "metadata": {},
   "outputs": [
    {
     "data": {
      "text/html": [
       "<div>\n",
       "<style scoped>\n",
       "    .dataframe tbody tr th:only-of-type {\n",
       "        vertical-align: middle;\n",
       "    }\n",
       "\n",
       "    .dataframe tbody tr th {\n",
       "        vertical-align: top;\n",
       "    }\n",
       "\n",
       "    .dataframe thead th {\n",
       "        text-align: right;\n",
       "    }\n",
       "</style>\n",
       "<table border=\"1\" class=\"dataframe\">\n",
       "  <thead>\n",
       "    <tr style=\"text-align: right;\">\n",
       "      <th></th>\n",
       "      <th>X</th>\n",
       "      <th>unique_id</th>\n",
       "      <th>nest</th>\n",
       "      <th>code_species</th>\n",
       "      <th>DBH_cl1</th>\n",
       "      <th>class</th>\n",
       "      <th>subclass</th>\n",
       "      <th>code_family</th>\n",
       "      <th>dbh_tall</th>\n",
       "      <th>db_tall</th>\n",
       "      <th>tall_density</th>\n",
       "      <th>slope_t_tall</th>\n",
       "      <th>slope_b_tall</th>\n",
       "      <th>dist_t_tall</th>\n",
       "      <th>scientific_name</th>\n",
       "      <th>family_name</th>\n",
       "      <th>corrected_genus</th>\n",
       "      <th>wood_density</th>\n",
       "    </tr>\n",
       "  </thead>\n",
       "  <tbody>\n",
       "    <tr>\n",
       "      <th>0</th>\n",
       "      <td>0</td>\n",
       "      <td>290C2</td>\n",
       "      <td>3</td>\n",
       "      <td>145</td>\n",
       "      <td>38.0</td>\n",
       "      <td>1</td>\n",
       "      <td>NaN</td>\n",
       "      <td>NaN</td>\n",
       "      <td>NaN</td>\n",
       "      <td>NaN</td>\n",
       "      <td>NaN</td>\n",
       "      <td>NaN</td>\n",
       "      <td>NaN</td>\n",
       "      <td>NaN</td>\n",
       "      <td>Flueggea flexuosa</td>\n",
       "      <td>NaN</td>\n",
       "      <td>Flueggea</td>\n",
       "      <td>0.631528</td>\n",
       "    </tr>\n",
       "    <tr>\n",
       "      <th>1</th>\n",
       "      <td>1</td>\n",
       "      <td>290C2</td>\n",
       "      <td>4</td>\n",
       "      <td>177</td>\n",
       "      <td>58.8</td>\n",
       "      <td>1</td>\n",
       "      <td>NaN</td>\n",
       "      <td>NaN</td>\n",
       "      <td>NaN</td>\n",
       "      <td>NaN</td>\n",
       "      <td>NaN</td>\n",
       "      <td>NaN</td>\n",
       "      <td>NaN</td>\n",
       "      <td>NaN</td>\n",
       "      <td>Hopea plagata</td>\n",
       "      <td>Phyllanthaceae</td>\n",
       "      <td>Hopea</td>\n",
       "      <td>0.631528</td>\n",
       "    </tr>\n",
       "  </tbody>\n",
       "</table>\n",
       "</div>"
      ],
      "text/plain": [
       "   X unique_id  nest  code_species  DBH_cl1  class  subclass  code_family  \\\n",
       "0  0     290C2     3           145     38.0      1       NaN          NaN   \n",
       "1  1     290C2     4           177     58.8      1       NaN          NaN   \n",
       "\n",
       "   dbh_tall  db_tall  tall_density  slope_t_tall  slope_b_tall  dist_t_tall  \\\n",
       "0       NaN      NaN           NaN           NaN           NaN          NaN   \n",
       "1       NaN      NaN           NaN           NaN           NaN          NaN   \n",
       "\n",
       "     scientific_name     family_name corrected_genus  wood_density  \n",
       "0  Flueggea flexuosa             NaN        Flueggea      0.631528  \n",
       "1      Hopea plagata  Phyllanthaceae           Hopea      0.631528  "
      ]
     },
     "execution_count": 65,
     "metadata": {},
     "output_type": "execute_result"
    }
   ],
   "source": [
    "c1_dead_trees"
   ]
  },
  {
   "cell_type": "code",
   "execution_count": 66,
   "metadata": {},
   "outputs": [],
   "source": [
    "c1_dead_trees = calculate_tree_height(c1_dead_trees, \"DBH_cl1\")"
   ]
  },
  {
   "cell_type": "code",
   "execution_count": 67,
   "metadata": {},
   "outputs": [],
   "source": [
    "c1_dead_trees = c1_dead_trees.merge(\n",
    "    plot_strata[[\"unique_id\", \"Strata\"]], on=\"unique_id\", how=\"left\"\n",
    ")"
   ]
  },
  {
   "cell_type": "code",
   "execution_count": 68,
   "metadata": {},
   "outputs": [],
   "source": [
    "c1_dead_trees_tropical = c1_dead_trees.loc[\n",
    "    c1_dead_trees[\"Strata\"].isin([1, 2, 3])\n",
    "].copy()"
   ]
  },
  {
   "cell_type": "code",
   "execution_count": 69,
   "metadata": {},
   "outputs": [],
   "source": [
    "c1_dead_trees_tropical = allometric_tropical_tree(\n",
    "    c1_dead_trees_tropical, \"wood_density\", \"DBH_cl1\", \"height\"\n",
    ")"
   ]
  },
  {
   "cell_type": "code",
   "execution_count": 70,
   "metadata": {},
   "outputs": [],
   "source": [
    "c1_dead_trees_peatland = c1_dead_trees.loc[\n",
    "    c1_dead_trees[\"Strata\"].isin([4, 5, 6])\n",
    "].copy()"
   ]
  },
  {
   "cell_type": "code",
   "execution_count": 71,
   "metadata": {},
   "outputs": [],
   "source": [
    "c1_dead_trees_peatland = allometric_peatland_tree(c1_dead_trees_peatland, \"DBH_cl1\")"
   ]
  },
  {
   "cell_type": "code",
   "execution_count": 72,
   "metadata": {},
   "outputs": [],
   "source": [
    "c1_dead_trees = pd.concat([c1_dead_trees_tropical, c1_dead_trees_peatland])"
   ]
  },
  {
   "cell_type": "code",
   "execution_count": 73,
   "metadata": {},
   "outputs": [],
   "source": [
    "c1_dead_trees.drop(columns=[\"X\"], inplace=True)"
   ]
  },
  {
   "cell_type": "code",
   "execution_count": 74,
   "metadata": {},
   "outputs": [
    {
     "data": {
      "text/html": [
       "<div>\n",
       "<style scoped>\n",
       "    .dataframe tbody tr th:only-of-type {\n",
       "        vertical-align: middle;\n",
       "    }\n",
       "\n",
       "    .dataframe tbody tr th {\n",
       "        vertical-align: top;\n",
       "    }\n",
       "\n",
       "    .dataframe thead th {\n",
       "        text-align: right;\n",
       "    }\n",
       "</style>\n",
       "<table border=\"1\" class=\"dataframe\">\n",
       "  <thead>\n",
       "    <tr style=\"text-align: right;\">\n",
       "      <th></th>\n",
       "      <th>unique_id</th>\n",
       "      <th>nest</th>\n",
       "      <th>code_species</th>\n",
       "      <th>DBH_cl1</th>\n",
       "      <th>class</th>\n",
       "      <th>subclass</th>\n",
       "      <th>code_family</th>\n",
       "      <th>dbh_tall</th>\n",
       "      <th>db_tall</th>\n",
       "      <th>tall_density</th>\n",
       "      <th>slope_t_tall</th>\n",
       "      <th>slope_b_tall</th>\n",
       "      <th>dist_t_tall</th>\n",
       "      <th>scientific_name</th>\n",
       "      <th>family_name</th>\n",
       "      <th>corrected_genus</th>\n",
       "      <th>wood_density</th>\n",
       "      <th>height</th>\n",
       "      <th>Strata</th>\n",
       "      <th>aboveground_biomass</th>\n",
       "    </tr>\n",
       "  </thead>\n",
       "  <tbody>\n",
       "    <tr>\n",
       "      <th>0</th>\n",
       "      <td>290C2</td>\n",
       "      <td>3</td>\n",
       "      <td>145</td>\n",
       "      <td>38.0</td>\n",
       "      <td>1</td>\n",
       "      <td>NaN</td>\n",
       "      <td>NaN</td>\n",
       "      <td>NaN</td>\n",
       "      <td>NaN</td>\n",
       "      <td>NaN</td>\n",
       "      <td>NaN</td>\n",
       "      <td>NaN</td>\n",
       "      <td>NaN</td>\n",
       "      <td>Flueggea flexuosa</td>\n",
       "      <td>NaN</td>\n",
       "      <td>Flueggea</td>\n",
       "      <td>0.631528</td>\n",
       "      <td>25.481783</td>\n",
       "      <td>2</td>\n",
       "      <td>1228.616806</td>\n",
       "    </tr>\n",
       "    <tr>\n",
       "      <th>1</th>\n",
       "      <td>290C2</td>\n",
       "      <td>4</td>\n",
       "      <td>177</td>\n",
       "      <td>58.8</td>\n",
       "      <td>1</td>\n",
       "      <td>NaN</td>\n",
       "      <td>NaN</td>\n",
       "      <td>NaN</td>\n",
       "      <td>NaN</td>\n",
       "      <td>NaN</td>\n",
       "      <td>NaN</td>\n",
       "      <td>NaN</td>\n",
       "      <td>NaN</td>\n",
       "      <td>Hopea plagata</td>\n",
       "      <td>Phyllanthaceae</td>\n",
       "      <td>Hopea</td>\n",
       "      <td>0.631528</td>\n",
       "      <td>30.000000</td>\n",
       "      <td>2</td>\n",
       "      <td>3378.263030</td>\n",
       "    </tr>\n",
       "  </tbody>\n",
       "</table>\n",
       "</div>"
      ],
      "text/plain": [
       "  unique_id  nest  code_species  DBH_cl1  class  subclass  code_family  \\\n",
       "0     290C2     3           145     38.0      1       NaN          NaN   \n",
       "1     290C2     4           177     58.8      1       NaN          NaN   \n",
       "\n",
       "   dbh_tall  db_tall  tall_density  slope_t_tall  slope_b_tall  dist_t_tall  \\\n",
       "0       NaN      NaN           NaN           NaN           NaN          NaN   \n",
       "1       NaN      NaN           NaN           NaN           NaN          NaN   \n",
       "\n",
       "     scientific_name     family_name corrected_genus  wood_density     height  \\\n",
       "0  Flueggea flexuosa             NaN        Flueggea      0.631528  25.481783   \n",
       "1      Hopea plagata  Phyllanthaceae           Hopea      0.631528  30.000000   \n",
       "\n",
       "   Strata  aboveground_biomass  \n",
       "0       2          1228.616806  \n",
       "1       2          3378.263030  "
      ]
     },
     "execution_count": 74,
     "metadata": {},
     "output_type": "execute_result"
    }
   ],
   "source": [
    "c1_dead_trees"
   ]
  },
  {
   "cell_type": "code",
   "execution_count": 75,
   "metadata": {},
   "outputs": [],
   "source": [
    "c1_dead_trees[\"tonnes_dry_matter\"] = c1_dead_trees[\"aboveground_biomass\"] / 1_000"
   ]
  },
  {
   "cell_type": "code",
   "execution_count": 76,
   "metadata": {},
   "outputs": [],
   "source": [
    "# vmd0001_eq5(c1_dead_trees)"
   ]
  },
  {
   "cell_type": "markdown",
   "metadata": {},
   "source": [
    "## Calculate biomass for Class 2 standing deadwood short trees\n",
    "no short trees (that are not stumps) in the dataset. add in steps when data is available"
   ]
  },
  {
   "cell_type": "markdown",
   "metadata": {},
   "source": [
    "## Calculate biomass for Class 2  standing deadwood tall trees\n",
    "\n",
    "Class 2 are standing dead trees with assigned density class"
   ]
  },
  {
   "cell_type": "code",
   "execution_count": 77,
   "metadata": {},
   "outputs": [],
   "source": [
    "c2_dead_trees_t = dead_trees.loc[\n",
    "    (dead_trees[\"class\"] == 2) & (dead_trees[\"subclass\"] == \"tall\")\n",
    "].copy()"
   ]
  },
  {
   "cell_type": "code",
   "execution_count": 78,
   "metadata": {},
   "outputs": [],
   "source": [
    "# convert slope to radians\n",
    "c2_dead_trees_t[\"slope_t_tall_radians\"] = np.atan(c2_dead_trees_t[\"slope_t_tall\"]) / 100\n",
    "c2_dead_trees_t[\"slope_b_tall_radians\"] = np.atan(c2_dead_trees_t[\"slope_b_tall\"]) / 100"
   ]
  },
  {
   "cell_type": "code",
   "execution_count": 79,
   "metadata": {},
   "outputs": [],
   "source": [
    "# estimate tree height\n",
    "c2_dead_trees_t = calculate_tree_height(\n",
    "    c2_dead_trees_t,\n",
    "    trig_leveling=True,\n",
    "    dist_col=\"dist_t_tall\",\n",
    "    slope_b_col=\"slope_b_tall_radians\",\n",
    "    slope_t_col=\"slope_t_tall_radians\",\n",
    ")"
   ]
  },
  {
   "cell_type": "code",
   "execution_count": 80,
   "metadata": {},
   "outputs": [],
   "source": [
    "# set wood density equivalent for each density class\n",
    "density_val = {1: 0.54, 2: 0.35, 3: 0.21}\n",
    "c2_dead_trees_t[\"density_val\"] = (\n",
    "    c2_dead_trees_t[\"tall_density\"].replace(density_val).fillna(0.21)\n",
    ")"
   ]
  },
  {
   "cell_type": "code",
   "execution_count": 81,
   "metadata": {},
   "outputs": [],
   "source": [
    "c2_dead_trees_t = vmd0002_eq1(c2_dead_trees_t, \"db_tall\", \"height\", \"density_val\")"
   ]
  },
  {
   "cell_type": "code",
   "execution_count": 82,
   "metadata": {},
   "outputs": [
    {
     "data": {
      "text/html": [
       "<div>\n",
       "<style scoped>\n",
       "    .dataframe tbody tr th:only-of-type {\n",
       "        vertical-align: middle;\n",
       "    }\n",
       "\n",
       "    .dataframe tbody tr th {\n",
       "        vertical-align: top;\n",
       "    }\n",
       "\n",
       "    .dataframe thead th {\n",
       "        text-align: right;\n",
       "    }\n",
       "</style>\n",
       "<table border=\"1\" class=\"dataframe\">\n",
       "  <thead>\n",
       "    <tr style=\"text-align: right;\">\n",
       "      <th></th>\n",
       "      <th>unique_id</th>\n",
       "      <th>nest</th>\n",
       "      <th>code_species</th>\n",
       "      <th>DBH_cl1</th>\n",
       "      <th>class</th>\n",
       "      <th>subclass</th>\n",
       "      <th>code_family</th>\n",
       "      <th>dbh_tall</th>\n",
       "      <th>db_tall</th>\n",
       "      <th>tall_density</th>\n",
       "      <th>slope_t_tall</th>\n",
       "      <th>slope_b_tall</th>\n",
       "      <th>dist_t_tall</th>\n",
       "      <th>slope_t_tall_radians</th>\n",
       "      <th>slope_b_tall_radians</th>\n",
       "      <th>height</th>\n",
       "      <th>density_val</th>\n",
       "      <th>tonnes_dry_matter</th>\n",
       "    </tr>\n",
       "  </thead>\n",
       "  <tbody>\n",
       "    <tr>\n",
       "      <th>2</th>\n",
       "      <td>368A1</td>\n",
       "      <td>2</td>\n",
       "      <td>999.0</td>\n",
       "      <td>NaN</td>\n",
       "      <td>2</td>\n",
       "      <td>tall</td>\n",
       "      <td>NaN</td>\n",
       "      <td>21.9</td>\n",
       "      <td>24.1</td>\n",
       "      <td>1.0</td>\n",
       "      <td>61.0</td>\n",
       "      <td>56.0</td>\n",
       "      <td>10.0</td>\n",
       "      <td>0.015544</td>\n",
       "      <td>0.015529</td>\n",
       "      <td>0.000146</td>\n",
       "      <td>0.54</td>\n",
       "      <td>0.000001</td>\n",
       "    </tr>\n",
       "    <tr>\n",
       "      <th>3</th>\n",
       "      <td>281A1</td>\n",
       "      <td>2</td>\n",
       "      <td>NaN</td>\n",
       "      <td>NaN</td>\n",
       "      <td>2</td>\n",
       "      <td>tall</td>\n",
       "      <td>NaN</td>\n",
       "      <td>32.6</td>\n",
       "      <td>40.8</td>\n",
       "      <td>1.0</td>\n",
       "      <td>115.0</td>\n",
       "      <td>20.0</td>\n",
       "      <td>9.3</td>\n",
       "      <td>0.015621</td>\n",
       "      <td>0.015208</td>\n",
       "      <td>0.003837</td>\n",
       "      <td>0.54</td>\n",
       "      <td>0.000090</td>\n",
       "    </tr>\n",
       "    <tr>\n",
       "      <th>4</th>\n",
       "      <td>214C1</td>\n",
       "      <td>2</td>\n",
       "      <td>52.0</td>\n",
       "      <td>NaN</td>\n",
       "      <td>2</td>\n",
       "      <td>tall</td>\n",
       "      <td>NaN</td>\n",
       "      <td>21.2</td>\n",
       "      <td>23.5</td>\n",
       "      <td>1.0</td>\n",
       "      <td>82.0</td>\n",
       "      <td>-30.0</td>\n",
       "      <td>6.8</td>\n",
       "      <td>0.015586</td>\n",
       "      <td>-0.015375</td>\n",
       "      <td>0.210668</td>\n",
       "      <td>0.54</td>\n",
       "      <td>0.001645</td>\n",
       "    </tr>\n",
       "    <tr>\n",
       "      <th>5</th>\n",
       "      <td>227D1</td>\n",
       "      <td>2</td>\n",
       "      <td>NaN</td>\n",
       "      <td>NaN</td>\n",
       "      <td>2</td>\n",
       "      <td>tall</td>\n",
       "      <td>NaN</td>\n",
       "      <td>25.5</td>\n",
       "      <td>30.2</td>\n",
       "      <td>2.0</td>\n",
       "      <td>62.0</td>\n",
       "      <td>13.0</td>\n",
       "      <td>5.0</td>\n",
       "      <td>0.015547</td>\n",
       "      <td>0.014940</td>\n",
       "      <td>0.003032</td>\n",
       "      <td>0.35</td>\n",
       "      <td>0.000025</td>\n",
       "    </tr>\n",
       "    <tr>\n",
       "      <th>6</th>\n",
       "      <td>336C1</td>\n",
       "      <td>2</td>\n",
       "      <td>NaN</td>\n",
       "      <td>NaN</td>\n",
       "      <td>2</td>\n",
       "      <td>tall</td>\n",
       "      <td>NaN</td>\n",
       "      <td>10.5</td>\n",
       "      <td>14.6</td>\n",
       "      <td>2.0</td>\n",
       "      <td>41.0</td>\n",
       "      <td>14.0</td>\n",
       "      <td>5.0</td>\n",
       "      <td>0.015464</td>\n",
       "      <td>0.014995</td>\n",
       "      <td>0.002346</td>\n",
       "      <td>0.35</td>\n",
       "      <td>0.000005</td>\n",
       "    </tr>\n",
       "    <tr>\n",
       "      <th>...</th>\n",
       "      <td>...</td>\n",
       "      <td>...</td>\n",
       "      <td>...</td>\n",
       "      <td>...</td>\n",
       "      <td>...</td>\n",
       "      <td>...</td>\n",
       "      <td>...</td>\n",
       "      <td>...</td>\n",
       "      <td>...</td>\n",
       "      <td>...</td>\n",
       "      <td>...</td>\n",
       "      <td>...</td>\n",
       "      <td>...</td>\n",
       "      <td>...</td>\n",
       "      <td>...</td>\n",
       "      <td>...</td>\n",
       "      <td>...</td>\n",
       "      <td>...</td>\n",
       "    </tr>\n",
       "    <tr>\n",
       "      <th>251</th>\n",
       "      <td>174C1</td>\n",
       "      <td>4</td>\n",
       "      <td>999.0</td>\n",
       "      <td>NaN</td>\n",
       "      <td>2</td>\n",
       "      <td>tall</td>\n",
       "      <td>NaN</td>\n",
       "      <td>52.0</td>\n",
       "      <td>64.0</td>\n",
       "      <td>3.0</td>\n",
       "      <td>102.0</td>\n",
       "      <td>15.0</td>\n",
       "      <td>10.0</td>\n",
       "      <td>0.015610</td>\n",
       "      <td>0.015042</td>\n",
       "      <td>0.005676</td>\n",
       "      <td>0.21</td>\n",
       "      <td>0.000128</td>\n",
       "    </tr>\n",
       "    <tr>\n",
       "      <th>252</th>\n",
       "      <td>111C1</td>\n",
       "      <td>4</td>\n",
       "      <td>999.0</td>\n",
       "      <td>NaN</td>\n",
       "      <td>2</td>\n",
       "      <td>tall</td>\n",
       "      <td>NaN</td>\n",
       "      <td>62.3</td>\n",
       "      <td>59.7</td>\n",
       "      <td>2.0</td>\n",
       "      <td>47.0</td>\n",
       "      <td>16.0</td>\n",
       "      <td>10.0</td>\n",
       "      <td>0.015495</td>\n",
       "      <td>0.015084</td>\n",
       "      <td>0.004115</td>\n",
       "      <td>0.35</td>\n",
       "      <td>0.000134</td>\n",
       "    </tr>\n",
       "    <tr>\n",
       "      <th>253</th>\n",
       "      <td>47D1</td>\n",
       "      <td>4</td>\n",
       "      <td>999.0</td>\n",
       "      <td>NaN</td>\n",
       "      <td>2</td>\n",
       "      <td>tall</td>\n",
       "      <td>NaN</td>\n",
       "      <td>50.2</td>\n",
       "      <td>60.0</td>\n",
       "      <td>2.0</td>\n",
       "      <td>80.0</td>\n",
       "      <td>18.0</td>\n",
       "      <td>10.0</td>\n",
       "      <td>0.015583</td>\n",
       "      <td>0.015153</td>\n",
       "      <td>0.004300</td>\n",
       "      <td>0.35</td>\n",
       "      <td>0.000142</td>\n",
       "    </tr>\n",
       "    <tr>\n",
       "      <th>254</th>\n",
       "      <td>5B1</td>\n",
       "      <td>4</td>\n",
       "      <td>287.0</td>\n",
       "      <td>NaN</td>\n",
       "      <td>2</td>\n",
       "      <td>tall</td>\n",
       "      <td>NaN</td>\n",
       "      <td>85.2</td>\n",
       "      <td>102.8</td>\n",
       "      <td>2.0</td>\n",
       "      <td>20.0</td>\n",
       "      <td>48.0</td>\n",
       "      <td>10.0</td>\n",
       "      <td>0.015208</td>\n",
       "      <td>0.015500</td>\n",
       "      <td>0.002913</td>\n",
       "      <td>0.35</td>\n",
       "      <td>0.000282</td>\n",
       "    </tr>\n",
       "    <tr>\n",
       "      <th>255</th>\n",
       "      <td>38A1</td>\n",
       "      <td>4</td>\n",
       "      <td>287.0</td>\n",
       "      <td>NaN</td>\n",
       "      <td>2</td>\n",
       "      <td>tall</td>\n",
       "      <td>NaN</td>\n",
       "      <td>82.0</td>\n",
       "      <td>108.0</td>\n",
       "      <td>1.0</td>\n",
       "      <td>45.0</td>\n",
       "      <td>10.0</td>\n",
       "      <td>10.0</td>\n",
       "      <td>0.015486</td>\n",
       "      <td>0.014711</td>\n",
       "      <td>0.007745</td>\n",
       "      <td>0.54</td>\n",
       "      <td>0.001277</td>\n",
       "    </tr>\n",
       "  </tbody>\n",
       "</table>\n",
       "<p>254 rows × 18 columns</p>\n",
       "</div>"
      ],
      "text/plain": [
       "    unique_id  nest  code_species  DBH_cl1  class subclass  code_family  \\\n",
       "2       368A1     2         999.0      NaN      2     tall          NaN   \n",
       "3       281A1     2           NaN      NaN      2     tall          NaN   \n",
       "4       214C1     2          52.0      NaN      2     tall          NaN   \n",
       "5       227D1     2           NaN      NaN      2     tall          NaN   \n",
       "6       336C1     2           NaN      NaN      2     tall          NaN   \n",
       "..        ...   ...           ...      ...    ...      ...          ...   \n",
       "251     174C1     4         999.0      NaN      2     tall          NaN   \n",
       "252     111C1     4         999.0      NaN      2     tall          NaN   \n",
       "253      47D1     4         999.0      NaN      2     tall          NaN   \n",
       "254       5B1     4         287.0      NaN      2     tall          NaN   \n",
       "255      38A1     4         287.0      NaN      2     tall          NaN   \n",
       "\n",
       "     dbh_tall  db_tall  tall_density  slope_t_tall  slope_b_tall  dist_t_tall  \\\n",
       "2        21.9     24.1           1.0          61.0          56.0         10.0   \n",
       "3        32.6     40.8           1.0         115.0          20.0          9.3   \n",
       "4        21.2     23.5           1.0          82.0         -30.0          6.8   \n",
       "5        25.5     30.2           2.0          62.0          13.0          5.0   \n",
       "6        10.5     14.6           2.0          41.0          14.0          5.0   \n",
       "..        ...      ...           ...           ...           ...          ...   \n",
       "251      52.0     64.0           3.0         102.0          15.0         10.0   \n",
       "252      62.3     59.7           2.0          47.0          16.0         10.0   \n",
       "253      50.2     60.0           2.0          80.0          18.0         10.0   \n",
       "254      85.2    102.8           2.0          20.0          48.0         10.0   \n",
       "255      82.0    108.0           1.0          45.0          10.0         10.0   \n",
       "\n",
       "     slope_t_tall_radians  slope_b_tall_radians    height  density_val  \\\n",
       "2                0.015544              0.015529  0.000146         0.54   \n",
       "3                0.015621              0.015208  0.003837         0.54   \n",
       "4                0.015586             -0.015375  0.210668         0.54   \n",
       "5                0.015547              0.014940  0.003032         0.35   \n",
       "6                0.015464              0.014995  0.002346         0.35   \n",
       "..                    ...                   ...       ...          ...   \n",
       "251              0.015610              0.015042  0.005676         0.21   \n",
       "252              0.015495              0.015084  0.004115         0.35   \n",
       "253              0.015583              0.015153  0.004300         0.35   \n",
       "254              0.015208              0.015500  0.002913         0.35   \n",
       "255              0.015486              0.014711  0.007745         0.54   \n",
       "\n",
       "     tonnes_dry_matter  \n",
       "2             0.000001  \n",
       "3             0.000090  \n",
       "4             0.001645  \n",
       "5             0.000025  \n",
       "6             0.000005  \n",
       "..                 ...  \n",
       "251           0.000128  \n",
       "252           0.000134  \n",
       "253           0.000142  \n",
       "254           0.000282  \n",
       "255           0.001277  \n",
       "\n",
       "[254 rows x 18 columns]"
      ]
     },
     "execution_count": 82,
     "metadata": {},
     "output_type": "execute_result"
    }
   ],
   "source": [
    "c2_dead_trees_t"
   ]
  },
  {
   "cell_type": "markdown",
   "metadata": {},
   "source": [
    "### combine class 1 and class 2"
   ]
  },
  {
   "cell_type": "code",
   "execution_count": 83,
   "metadata": {},
   "outputs": [],
   "source": [
    "c2_subset = c2_dead_trees_t[[\"unique_id\", \"nest\", \"tonnes_dry_matter\"]].copy()\n",
    "c1_subset = c1_dead_trees[[\"unique_id\", \"nest\", \"tonnes_dry_matter\"]].copy()"
   ]
  },
  {
   "cell_type": "code",
   "execution_count": 84,
   "metadata": {},
   "outputs": [],
   "source": [
    "sdw_all = pd.concat([c1_subset, c2_subset])"
   ]
  },
  {
   "cell_type": "code",
   "execution_count": 85,
   "metadata": {},
   "outputs": [
    {
     "data": {
      "text/html": [
       "<div>\n",
       "<style scoped>\n",
       "    .dataframe tbody tr th:only-of-type {\n",
       "        vertical-align: middle;\n",
       "    }\n",
       "\n",
       "    .dataframe tbody tr th {\n",
       "        vertical-align: top;\n",
       "    }\n",
       "\n",
       "    .dataframe thead th {\n",
       "        text-align: right;\n",
       "    }\n",
       "</style>\n",
       "<table border=\"1\" class=\"dataframe\">\n",
       "  <thead>\n",
       "    <tr style=\"text-align: right;\">\n",
       "      <th></th>\n",
       "      <th>unique_id</th>\n",
       "      <th>nest</th>\n",
       "      <th>tonnes_dry_matter</th>\n",
       "    </tr>\n",
       "  </thead>\n",
       "  <tbody>\n",
       "    <tr>\n",
       "      <th>0</th>\n",
       "      <td>290C2</td>\n",
       "      <td>3</td>\n",
       "      <td>1.228617</td>\n",
       "    </tr>\n",
       "    <tr>\n",
       "      <th>1</th>\n",
       "      <td>290C2</td>\n",
       "      <td>4</td>\n",
       "      <td>3.378263</td>\n",
       "    </tr>\n",
       "  </tbody>\n",
       "</table>\n",
       "</div>"
      ],
      "text/plain": [
       "  unique_id  nest  tonnes_dry_matter\n",
       "0     290C2     3           1.228617\n",
       "1     290C2     4           3.378263"
      ]
     },
     "execution_count": 85,
     "metadata": {},
     "output_type": "execute_result"
    }
   ],
   "source": [
    "sdw_all.head(2)"
   ]
  },
  {
   "cell_type": "markdown",
   "metadata": {},
   "source": [
    "## get total standing deadwood biomass "
   ]
  },
  {
   "cell_type": "code",
   "execution_count": 86,
   "metadata": {},
   "outputs": [],
   "source": [
    "sdw_all_agg = vmd0002_eq3(sdw_all, [\"unique_id\", \"nest\"], \"tonnes_dry_matter\")"
   ]
  },
  {
   "cell_type": "code",
   "execution_count": 87,
   "metadata": {},
   "outputs": [],
   "source": [
    "# add the correct area using the unique_id and nest number\n",
    "sdw_all_agg[\"corrected_area_m2\"] = sdw_all_agg.apply(\n",
    "    lambda x: next(\n",
    "        (\n",
    "            item[\"corrected_plot_area_n\" + str(x[\"nest\"]) + \"_m2\"]\n",
    "            for item in plot_info_subset_dict\n",
    "            if item[\"unique_id\"] == x[\"unique_id\"]\n",
    "        ),\n",
    "        None,\n",
    "    ),\n",
    "    axis=1,\n",
    ")"
   ]
  },
  {
   "cell_type": "code",
   "execution_count": 88,
   "metadata": {},
   "outputs": [],
   "source": [
    "# convert square meters to hectares\n",
    "sdw_all_agg[\"corrected_area_ha\"] = sdw_all_agg[\"corrected_area_m2\"] / 10_000"
   ]
  },
  {
   "cell_type": "code",
   "execution_count": 89,
   "metadata": {},
   "outputs": [],
   "source": [
    "sdw_all_agg = vmd0002_eq4(sdw_all_agg, \"tonnes_dry_matter\", \"corrected_area_ha\")"
   ]
  },
  {
   "cell_type": "code",
   "execution_count": 90,
   "metadata": {},
   "outputs": [
    {
     "data": {
      "text/html": [
       "<div>\n",
       "<style scoped>\n",
       "    .dataframe tbody tr th:only-of-type {\n",
       "        vertical-align: middle;\n",
       "    }\n",
       "\n",
       "    .dataframe tbody tr th {\n",
       "        vertical-align: top;\n",
       "    }\n",
       "\n",
       "    .dataframe thead th {\n",
       "        text-align: right;\n",
       "    }\n",
       "</style>\n",
       "<table border=\"1\" class=\"dataframe\">\n",
       "  <thead>\n",
       "    <tr style=\"text-align: right;\">\n",
       "      <th></th>\n",
       "      <th>unique_id</th>\n",
       "      <th>nest</th>\n",
       "      <th>tonnes_dry_matter</th>\n",
       "      <th>corrected_area_m2</th>\n",
       "      <th>corrected_area_ha</th>\n",
       "      <th>tonnes_dry_matter_ha</th>\n",
       "    </tr>\n",
       "  </thead>\n",
       "  <tbody>\n",
       "    <tr>\n",
       "      <th>0</th>\n",
       "      <td>110C1</td>\n",
       "      <td>2</td>\n",
       "      <td>0.000011</td>\n",
       "      <td>102.298111</td>\n",
       "      <td>0.010230</td>\n",
       "      <td>0.001046</td>\n",
       "    </tr>\n",
       "    <tr>\n",
       "      <th>1</th>\n",
       "      <td>110C1</td>\n",
       "      <td>3</td>\n",
       "      <td>0.000073</td>\n",
       "      <td>920.682997</td>\n",
       "      <td>0.092068</td>\n",
       "      <td>0.000796</td>\n",
       "    </tr>\n",
       "    <tr>\n",
       "      <th>2</th>\n",
       "      <td>110D1</td>\n",
       "      <td>2</td>\n",
       "      <td>0.000027</td>\n",
       "      <td>94.444129</td>\n",
       "      <td>0.009444</td>\n",
       "      <td>0.002858</td>\n",
       "    </tr>\n",
       "    <tr>\n",
       "      <th>3</th>\n",
       "      <td>111C1</td>\n",
       "      <td>3</td>\n",
       "      <td>0.000289</td>\n",
       "      <td>708.625493</td>\n",
       "      <td>0.070863</td>\n",
       "      <td>0.004084</td>\n",
       "    </tr>\n",
       "    <tr>\n",
       "      <th>4</th>\n",
       "      <td>111C1</td>\n",
       "      <td>4</td>\n",
       "      <td>0.000134</td>\n",
       "      <td>1259.778654</td>\n",
       "      <td>0.125978</td>\n",
       "      <td>0.001067</td>\n",
       "    </tr>\n",
       "    <tr>\n",
       "      <th>...</th>\n",
       "      <td>...</td>\n",
       "      <td>...</td>\n",
       "      <td>...</td>\n",
       "      <td>...</td>\n",
       "      <td>...</td>\n",
       "      <td>...</td>\n",
       "    </tr>\n",
       "    <tr>\n",
       "      <th>208</th>\n",
       "      <td>97A1</td>\n",
       "      <td>3</td>\n",
       "      <td>0.000028</td>\n",
       "      <td>732.375933</td>\n",
       "      <td>0.073238</td>\n",
       "      <td>0.000380</td>\n",
       "    </tr>\n",
       "    <tr>\n",
       "      <th>209</th>\n",
       "      <td>97C1</td>\n",
       "      <td>2</td>\n",
       "      <td>0.003111</td>\n",
       "      <td>78.547670</td>\n",
       "      <td>0.007855</td>\n",
       "      <td>0.396083</td>\n",
       "    </tr>\n",
       "    <tr>\n",
       "      <th>210</th>\n",
       "      <td>98A1</td>\n",
       "      <td>3</td>\n",
       "      <td>0.040872</td>\n",
       "      <td>751.036994</td>\n",
       "      <td>0.075104</td>\n",
       "      <td>0.544211</td>\n",
       "    </tr>\n",
       "    <tr>\n",
       "      <th>211</th>\n",
       "      <td>98D1</td>\n",
       "      <td>3</td>\n",
       "      <td>0.090510</td>\n",
       "      <td>779.240642</td>\n",
       "      <td>0.077924</td>\n",
       "      <td>1.161512</td>\n",
       "    </tr>\n",
       "    <tr>\n",
       "      <th>212</th>\n",
       "      <td>99B2</td>\n",
       "      <td>3</td>\n",
       "      <td>0.002416</td>\n",
       "      <td>1104.466167</td>\n",
       "      <td>0.110447</td>\n",
       "      <td>0.021874</td>\n",
       "    </tr>\n",
       "  </tbody>\n",
       "</table>\n",
       "<p>213 rows × 6 columns</p>\n",
       "</div>"
      ],
      "text/plain": [
       "    unique_id  nest  tonnes_dry_matter  corrected_area_m2  corrected_area_ha  \\\n",
       "0       110C1     2           0.000011         102.298111           0.010230   \n",
       "1       110C1     3           0.000073         920.682997           0.092068   \n",
       "2       110D1     2           0.000027          94.444129           0.009444   \n",
       "3       111C1     3           0.000289         708.625493           0.070863   \n",
       "4       111C1     4           0.000134        1259.778654           0.125978   \n",
       "..        ...   ...                ...                ...                ...   \n",
       "208      97A1     3           0.000028         732.375933           0.073238   \n",
       "209      97C1     2           0.003111          78.547670           0.007855   \n",
       "210      98A1     3           0.040872         751.036994           0.075104   \n",
       "211      98D1     3           0.090510         779.240642           0.077924   \n",
       "212      99B2     3           0.002416        1104.466167           0.110447   \n",
       "\n",
       "     tonnes_dry_matter_ha  \n",
       "0                0.001046  \n",
       "1                0.000796  \n",
       "2                0.002858  \n",
       "3                0.004084  \n",
       "4                0.001067  \n",
       "..                    ...  \n",
       "208              0.000380  \n",
       "209              0.396083  \n",
       "210              0.544211  \n",
       "211              1.161512  \n",
       "212              0.021874  \n",
       "\n",
       "[213 rows x 6 columns]"
      ]
     },
     "execution_count": 90,
     "metadata": {},
     "output_type": "execute_result"
    }
   ],
   "source": [
    "sdw_all_agg"
   ]
  },
  {
   "cell_type": "code",
   "execution_count": 91,
   "metadata": {},
   "outputs": [],
   "source": [
    "sdw_all_agg = (\n",
    "    sdw_all_agg[[\"unique_id\", \"tonnes_dry_matter_ha\"]]\n",
    "    .groupby(\"unique_id\")\n",
    "    .sum()\n",
    "    .reset_index()\n",
    ")"
   ]
  },
  {
   "cell_type": "code",
   "execution_count": 92,
   "metadata": {},
   "outputs": [
    {
     "data": {
      "text/html": [
       "<div>\n",
       "<style scoped>\n",
       "    .dataframe tbody tr th:only-of-type {\n",
       "        vertical-align: middle;\n",
       "    }\n",
       "\n",
       "    .dataframe tbody tr th {\n",
       "        vertical-align: top;\n",
       "    }\n",
       "\n",
       "    .dataframe thead th {\n",
       "        text-align: right;\n",
       "    }\n",
       "</style>\n",
       "<table border=\"1\" class=\"dataframe\">\n",
       "  <thead>\n",
       "    <tr style=\"text-align: right;\">\n",
       "      <th></th>\n",
       "      <th>unique_id</th>\n",
       "      <th>tonnes_dry_matter_ha</th>\n",
       "    </tr>\n",
       "  </thead>\n",
       "  <tbody>\n",
       "    <tr>\n",
       "      <th>0</th>\n",
       "      <td>110C1</td>\n",
       "      <td>0.001842</td>\n",
       "    </tr>\n",
       "    <tr>\n",
       "      <th>1</th>\n",
       "      <td>110D1</td>\n",
       "      <td>0.002858</td>\n",
       "    </tr>\n",
       "  </tbody>\n",
       "</table>\n",
       "</div>"
      ],
      "text/plain": [
       "  unique_id  tonnes_dry_matter_ha\n",
       "0     110C1              0.001842\n",
       "1     110D1              0.002858"
      ]
     },
     "execution_count": 92,
     "metadata": {},
     "output_type": "execute_result"
    }
   ],
   "source": [
    "sdw_all_agg.head(2)"
   ]
  },
  {
   "cell_type": "code",
   "execution_count": 93,
   "metadata": {},
   "outputs": [],
   "source": [
    "sdw_all_agg.rename(\n",
    "    columns={\"tonnes_dry_matter_ha\": \"sdw_tonnes_dry_matter_ha\"}, inplace=True\n",
    ")"
   ]
  },
  {
   "cell_type": "markdown",
   "metadata": {},
   "source": [
    "# Get total across all deadwood"
   ]
  },
  {
   "cell_type": "code",
   "execution_count": 94,
   "metadata": {},
   "outputs": [
    {
     "data": {
      "text/plain": [
       "(191, 2)"
      ]
     },
     "execution_count": 94,
     "metadata": {},
     "output_type": "execute_result"
    }
   ],
   "source": [
    "sdw_all_agg.shape"
   ]
  },
  {
   "cell_type": "code",
   "execution_count": 95,
   "metadata": {},
   "outputs": [
    {
     "data": {
      "text/plain": [
       "(440, 2)"
      ]
     },
     "execution_count": 95,
     "metadata": {},
     "output_type": "execute_result"
    }
   ],
   "source": [
    "stumps_agg.shape"
   ]
  },
  {
   "cell_type": "code",
   "execution_count": 96,
   "metadata": {},
   "outputs": [
    {
     "data": {
      "text/plain": [
       "(476, 2)"
      ]
     },
     "execution_count": 96,
     "metadata": {},
     "output_type": "execute_result"
    }
   ],
   "source": [
    "ldw_agg.shape"
   ]
  },
  {
   "cell_type": "code",
   "execution_count": 97,
   "metadata": {},
   "outputs": [],
   "source": [
    "deadwood = vmd0002_eq9(stumps_agg, ldw_agg, sdw_all_agg)"
   ]
  },
  {
   "cell_type": "code",
   "execution_count": 98,
   "metadata": {},
   "outputs": [
    {
     "data": {
      "text/html": [
       "<div>\n",
       "<style scoped>\n",
       "    .dataframe tbody tr th:only-of-type {\n",
       "        vertical-align: middle;\n",
       "    }\n",
       "\n",
       "    .dataframe tbody tr th {\n",
       "        vertical-align: top;\n",
       "    }\n",
       "\n",
       "    .dataframe thead th {\n",
       "        text-align: right;\n",
       "    }\n",
       "</style>\n",
       "<table border=\"1\" class=\"dataframe\">\n",
       "  <thead>\n",
       "    <tr style=\"text-align: right;\">\n",
       "      <th></th>\n",
       "      <th>unique_id</th>\n",
       "      <th>stumps_tonnes_dry_matter_ha</th>\n",
       "      <th>ldw_tonnes_dry_matter_ha</th>\n",
       "      <th>sdw_tonnes_dry_matter_ha</th>\n",
       "      <th>all_tonnes_dry_matter_ha</th>\n",
       "      <th>tC_per_ha</th>\n",
       "      <th>CO2e_per_ha</th>\n",
       "    </tr>\n",
       "  </thead>\n",
       "  <tbody>\n",
       "    <tr>\n",
       "      <th>0</th>\n",
       "      <td>100A1</td>\n",
       "      <td>NaN</td>\n",
       "      <td>0.207976</td>\n",
       "      <td>NaN</td>\n",
       "      <td>0.207976</td>\n",
       "      <td>0.097749</td>\n",
       "      <td>0.358412</td>\n",
       "    </tr>\n",
       "    <tr>\n",
       "      <th>1</th>\n",
       "      <td>100B1</td>\n",
       "      <td>NaN</td>\n",
       "      <td>1.091449</td>\n",
       "      <td>NaN</td>\n",
       "      <td>1.091449</td>\n",
       "      <td>0.512981</td>\n",
       "      <td>1.880930</td>\n",
       "    </tr>\n",
       "  </tbody>\n",
       "</table>\n",
       "</div>"
      ],
      "text/plain": [
       "  unique_id  stumps_tonnes_dry_matter_ha  ldw_tonnes_dry_matter_ha  \\\n",
       "0     100A1                          NaN                  0.207976   \n",
       "1     100B1                          NaN                  1.091449   \n",
       "\n",
       "   sdw_tonnes_dry_matter_ha  all_tonnes_dry_matter_ha  tC_per_ha  CO2e_per_ha  \n",
       "0                       NaN                  0.207976   0.097749     0.358412  \n",
       "1                       NaN                  1.091449   0.512981     1.880930  "
      ]
     },
     "execution_count": 98,
     "metadata": {},
     "output_type": "execute_result"
    }
   ],
   "source": [
    "deadwood.head(2)"
   ]
  },
  {
   "cell_type": "code",
   "execution_count": 102,
   "metadata": {},
   "outputs": [],
   "source": [
    "deadwood.rename(\n",
    "    columns={\"CO2e_per_ha\": \"deadwood_CO2e_per_ha\", \"tC_per_ha\": \"deadwood_tC_per_ha\"},\n",
    "    inplace=True,\n",
    ")"
   ]
  },
  {
   "cell_type": "code",
   "execution_count": 103,
   "metadata": {},
   "outputs": [
    {
     "name": "stdout",
     "output_type": "stream",
     "text": [
      "<class 'pandas.core.frame.DataFrame'>\n",
      "RangeIndex: 570 entries, 0 to 569\n",
      "Data columns (total 7 columns):\n",
      " #   Column                       Non-Null Count  Dtype  \n",
      "---  ------                       --------------  -----  \n",
      " 0   unique_id                    570 non-null    object \n",
      " 1   stumps_tonnes_dry_matter_ha  440 non-null    float64\n",
      " 2   ldw_tonnes_dry_matter_ha     476 non-null    float64\n",
      " 3   sdw_tonnes_dry_matter_ha     191 non-null    float64\n",
      " 4   all_tonnes_dry_matter_ha     570 non-null    float64\n",
      " 5   deadwood_tC_per_ha           570 non-null    float64\n",
      " 6   deadwood_CO2e_per_ha         570 non-null    float64\n",
      "dtypes: float64(6), object(1)\n",
      "memory usage: 31.3+ KB\n"
     ]
    }
   ],
   "source": [
    "deadwood.info()"
   ]
  },
  {
   "cell_type": "markdown",
   "metadata": {},
   "source": [
    "## Export and upload data"
   ]
  },
  {
   "cell_type": "code",
   "execution_count": 104,
   "metadata": {},
   "outputs": [
    {
     "name": "stderr",
     "output_type": "stream",
     "text": [
      "100%|██████████| 1/1 [00:00<00:00, 11366.68it/s]\n"
     ]
    }
   ],
   "source": [
    "# Upload to BQ\n",
    "if len(deadwood) != 0:\n",
    "    deadwood.to_csv(CARBON_STOCK_OUTDIR / \"deadwood_carbon_stock.csv\", index=False)\n",
    "    pandas_gbq.to_gbq(\n",
    "        deadwood,\n",
    "        f\"{DATASET_ID}.deadwood_carbon_stock\",\n",
    "        project_id=GCP_PROJ_ID,\n",
    "        if_exists=IF_EXISTS,\n",
    "        progress_bar=True,\n",
    "    )\n",
    "else:\n",
    "    raise ValueError(\"Dataframe is empty.\")"
   ]
  }
 ],
 "metadata": {
  "kernelspec": {
   "display_name": "onebase",
   "language": "python",
   "name": "python3"
  },
  "language_info": {
   "codemirror_mode": {
    "name": "ipython",
    "version": 3
   },
   "file_extension": ".py",
   "mimetype": "text/x-python",
   "name": "python",
   "nbconvert_exporter": "python",
   "pygments_lexer": "ipython3",
   "version": "3.12.4"
  }
 },
 "nbformat": 4,
 "nbformat_minor": 2
}
