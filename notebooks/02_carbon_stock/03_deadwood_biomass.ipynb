{
 "cells": [
  {
   "cell_type": "markdown",
   "metadata": {},
   "source": [
    "# Calculate biomass from deadwood"
   ]
  },
  {
   "cell_type": "markdown",
   "metadata": {},
   "source": [
    "# Imports and Set-up"
   ]
  },
  {
   "cell_type": "code",
   "execution_count": 1,
   "metadata": {},
   "outputs": [],
   "source": [
    "# Standard Imports\n",
    "import sys\n",
    "import pandas as pd\n",
    "\n",
    "# Google Cloud Imports\n",
    "import pandas_gbq"
   ]
  },
  {
   "cell_type": "code",
   "execution_count": null,
   "metadata": {},
   "outputs": [],
   "source": [
    "# Util imports\n",
    "sys.path.append(\"../../\")  # include parent directory\n",
    "from src.settings import (\n",
    "    GCP_PROJ_ID,\n",
    "    CARBON_POOLS_OUTDIR,\n",
    ")"
   ]
  },
  {
   "cell_type": "code",
   "execution_count": null,
   "metadata": {},
   "outputs": [],
   "source": [
    "# Variables\n",
    "TREES_CSV = CARBON_POOLS_OUTDIR / \"trees.csv\"\n",
    "TREES_WD_CSV = CARBON_POOLS_OUTDIR / \"trees_with_wood_density.csv\"\n",
    "SAPLING_CSV = CARBON_POOLS_OUTDIR / \"saplings_ntv_litter.csv\"\n",
    "PLOT_INFO_CSV = CARBON_POOLS_OUTDIR / \"plot_info.csv\"\n",
    "\n",
    "# BigQuery Variables\n",
    "DATASET_ID = \"carbon_stock\"\n",
    "IF_EXISTS = \"replace\"\n",
    "\n",
    "# Processing Conditions\n",
    "OUTLIER_REMOVAL = \"get_ave\"  # Options: \"get_ave\", \"drop_outliers\", \"eq_150\""
   ]
  },
  {
   "cell_type": "markdown",
   "metadata": {},
   "source": [
    "## Load data"
   ]
  },
  {
   "cell_type": "markdown",
   "metadata": {},
   "source": [
    "### Plot Data"
   ]
  },
  {
   "cell_type": "code",
   "execution_count": null,
   "metadata": {},
   "outputs": [],
   "source": [
    "if PLOT_INFO_CSV.exists():\n",
    "    plot_info = pd.read_csv(PLOT_INFO_CSV)\n",
    "else:\n",
    "    query = f\"\"\"\n",
    "    SELECT\n",
    "        * \n",
    "    FROM {GCP_PROJ_ID}.{DATASET_ID}.plot_info\"\"\"\n",
    "\n",
    "    # Read the BigQuery table into a dataframe\n",
    "    plot_info = pandas_gbq.read_gbq(query, project_id=GCP_PROJ_ID)\n",
    "    plot_info.to_csv(PLOT_INFO_CSV, index=False)"
   ]
  },
  {
   "cell_type": "code",
   "execution_count": null,
   "metadata": {},
   "outputs": [
    {
     "name": "stdout",
     "output_type": "stream",
     "text": [
      "<class 'pandas.core.frame.DataFrame'>\n",
      "RangeIndex: 674 entries, 0 to 673\n",
      "Data columns (total 29 columns):\n",
      " #   Column                  Non-Null Count  Dtype  \n",
      "---  ------                  --------------  -----  \n",
      " 0   unique_id               674 non-null    object \n",
      " 1   data_recorder           674 non-null    object \n",
      " 2   team_no                 674 non-null    int64  \n",
      " 3   plot_code_nmbr          674 non-null    int64  \n",
      " 4   plot_type               674 non-null    object \n",
      " 5   sub_plot                674 non-null    object \n",
      " 6   yes_no                  674 non-null    object \n",
      " 7   sub_plot_shift          634 non-null    object \n",
      " 8   GPS_waypt               634 non-null    float64\n",
      " 9   GPS_id                  634 non-null    float64\n",
      " 10  GPS                     577 non-null    object \n",
      " 11  GPS_latitude            577 non-null    float64\n",
      " 12  GPS_longitude           577 non-null    float64\n",
      " 13  GPS_altitude            577 non-null    float64\n",
      " 14  GPS_precision           577 non-null    float64\n",
      " 15  photo                   634 non-null    object \n",
      " 16  manual_reason           40 non-null     object \n",
      " 17  lc_type                 634 non-null    object \n",
      " 18  lc_class                620 non-null    object \n",
      " 19  lc_class_other          12 non-null     object \n",
      " 20  disturbance_yesno       478 non-null    object \n",
      " 21  disturbance_type        148 non-null    object \n",
      " 22  disturbance_class       148 non-null    object \n",
      " 23  slope                   620 non-null    float64\n",
      " 24  canopy_avg_height       620 non-null    float64\n",
      " 25  canopy_cover            620 non-null    float64\n",
      " 26  access_reason           40 non-null     object \n",
      " 27  slope_radians           620 non-null    float64\n",
      " 28  corrected_plot_area_m2  620 non-null    float64\n",
      "dtypes: float64(11), int64(2), object(16)\n",
      "memory usage: 152.8+ KB\n"
     ]
    }
   ],
   "source": [
    "plot_info.info()"
   ]
  }
 ],
 "metadata": {
  "kernelspec": {
   "display_name": "onebase",
   "language": "python",
   "name": "python3"
  },
  "language_info": {
   "codemirror_mode": {
    "name": "ipython",
    "version": 3
   },
   "file_extension": ".py",
   "mimetype": "text/x-python",
   "name": "python",
   "nbconvert_exporter": "python",
   "pygments_lexer": "ipython3",
   "version": "3.12.4"
  }
 },
 "nbformat": 4,
 "nbformat_minor": 2
}
