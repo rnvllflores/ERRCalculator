{
 "cells": [
  {
   "cell_type": "markdown",
   "metadata": {},
   "source": [
    "# Preprocess ODK data to organized tables"
   ]
  },
  {
   "cell_type": "markdown",
   "metadata": {},
   "source": [
    "# Imports and Set-up"
   ]
  },
  {
   "cell_type": "code",
   "execution_count": 1,
   "metadata": {},
   "outputs": [],
   "source": [
    "# Standard Imports\n",
    "import sys\n",
    "import os\n",
    "import urllib.request\n",
    "import pandas as pd\n",
    "import numpy as np\n",
    "import matplotlib.pyplot as plt\n",
    "import re\n",
    "\n",
    "# Google Cloud Imports\n",
    "import pandas_gbq"
   ]
  },
  {
   "cell_type": "code",
   "execution_count": 2,
   "metadata": {},
   "outputs": [],
   "source": [
    "# Util imports\n",
    "sys.path.append(\"../../\")  # include parent directory\n",
    "from src.settings import DATA_DIR, GCP_PROJ_ID\n",
    "from src.biomass_inventory import (\n",
    "    extract_trees,\n",
    "    extract_stumps,\n",
    "    extract_dead_trees_class1,\n",
    "    extract_dead_trees_class2s,\n",
    "    extract_dead_trees_class2t,\n",
    "    extract_ldw_with_hollow,\n",
    "    extract_ldw_wo_hollow,\n",
    ")"
   ]
  },
  {
   "cell_type": "code",
   "execution_count": 3,
   "metadata": {},
   "outputs": [],
   "source": [
    "# Variables\n",
    "URL = \"https://api.ona.io/api/v1/data/763932.csv\"\n",
    "FILE_RAW = DATA_DIR / \"csv\" / \"biomass_inventory_raw.csv\"\n",
    "CARBON_POOLS_OUTDIR = DATA_DIR / \"csv\" / \"carbon_pools\"\n",
    "NESTS = [2, 3, 4]\n",
    "\n",
    "# BigQuery Variables\n",
    "DATASET_ID = \"biomass_inventory\"\n",
    "IF_EXISTS = \"replace\""
   ]
  },
  {
   "cell_type": "code",
   "execution_count": 4,
   "metadata": {},
   "outputs": [],
   "source": [
    "# Create output directory\n",
    "CARBON_POOLS_OUTDIR.mkdir(parents=True, exist_ok=True)"
   ]
  },
  {
   "cell_type": "markdown",
   "metadata": {},
   "source": [
    "# Get Data from ONA"
   ]
  },
  {
   "cell_type": "code",
   "execution_count": 5,
   "metadata": {},
   "outputs": [],
   "source": [
    "column_types = {\n",
    "    col: str\n",
    "    for col in (\n",
    "        28,\n",
    "        399,\n",
    "        400,\n",
    "        407,\n",
    "        408,\n",
    "        415,\n",
    "        416,\n",
    "        845,\n",
    "        846,\n",
    "        853,\n",
    "        854,\n",
    "        861,\n",
    "        862,\n",
    "        869,\n",
    "        870,\n",
    "        877,\n",
    "        878,\n",
    "        885,\n",
    "        886,\n",
    "        893,\n",
    "        894,\n",
    "        901,\n",
    "        902,\n",
    "        909,\n",
    "        910,\n",
    "        1179,\n",
    "        1180,\n",
    "        1187,\n",
    "        1188,\n",
    "        1195,\n",
    "        1196,\n",
    "        1203,\n",
    "        1204,\n",
    "        1211,\n",
    "        1212,\n",
    "        1219,\n",
    "        1220,\n",
    "        1286,\n",
    "        1337,\n",
    "        1342,\n",
    "        1347,\n",
    "        1352,\n",
    "        1357,\n",
    "        1362,\n",
    "        1378,\n",
    "        1392,\n",
    "    )\n",
    "}"
   ]
  },
  {
   "cell_type": "code",
   "execution_count": 6,
   "metadata": {},
   "outputs": [],
   "source": [
    "if FILE_RAW.exists():\n",
    "    data = pd.read_csv(FILE_RAW, dtype=column_types)\n",
    "else:\n",
    "    urllib.request.urlretrieve(URL, FILE_RAW)\n",
    "    data = pd.read_csv(FILE_RAW, dtype=column_types)"
   ]
  },
  {
   "cell_type": "markdown",
   "metadata": {},
   "source": [
    "## Add a unique ID"
   ]
  },
  {
   "cell_type": "code",
   "execution_count": 7,
   "metadata": {},
   "outputs": [],
   "source": [
    "# Create a new column with \"1\" for Primary and \"2\" for Backup\n",
    "data[\"plot_type_short\"] = data[\"plot_info/plot_type\"].apply(\n",
    "    lambda x: \"1\" if x == \"Primary\" else \"2\"\n",
    ")\n",
    "\n",
    "# Extract subplot letters (assuming they are included in the 'plot_info.sub_plot' column)\n",
    "data[\"subplot_letter\"] = data[\"plot_info/sub_plot\"].str.replace(\"sub_plot\", \"\")\n",
    "\n",
    "# Create the unique ID by concatenating the specified columns\n",
    "data[\"unique_id\"] = (\n",
    "    data[\"plot_info/plot_code_nmbr\"].astype(str)\n",
    "    + data[\"subplot_letter\"]\n",
    "    + data[\"plot_type_short\"]\n",
    ")"
   ]
  },
  {
   "cell_type": "markdown",
   "metadata": {},
   "source": [
    "# Extract Plot info"
   ]
  },
  {
   "cell_type": "code",
   "execution_count": 8,
   "metadata": {},
   "outputs": [],
   "source": [
    "plot_info_cols = [\n",
    "    \"unique_id\",\n",
    "    \"plot_info/data_recorder\",\n",
    "    \"plot_info/team_no\",\n",
    "    \"plot_info/plot_code_nmbr\",\n",
    "    \"plot_info/plot_type\",\n",
    "    \"plot_info/sub_plot\",\n",
    "    \"plot_info/yes_no\",\n",
    "    \"plot_shift/sub_plot_shift\",\n",
    "    \"plot_GPS/GPS_waypt\",\n",
    "    \"plot_GPS/GPS_id\",\n",
    "    \"plot_GPS/GPS\",\n",
    "    \"plot_GPS/_GPS_latitude\",\n",
    "    \"plot_GPS/_GPS_longitude\",\n",
    "    \"plot_GPS/_GPS_altitude\",\n",
    "    \"plot_GPS/_GPS_precision\",\n",
    "    \"plot_GPS/photo\",\n",
    "    \"access/access_reason/slope\",\n",
    "    \"access/access_reason/danger\",\n",
    "    \"access/access_reason/distance\",\n",
    "    \"access/access_reason/water\",\n",
    "    \"access/access_reason/prohibited\",\n",
    "    \"access/access_reason/other\",\n",
    "    \"access/manual_reason\",\n",
    "    \"lc_data/lc_type\",\n",
    "    \"lc_class/lc_class\",\n",
    "    \"lc_class/lc_class_other\",\n",
    "    \"disturbance/disturbance_yesno\",\n",
    "    \"disturbance_data/disturbance_type\",\n",
    "    \"disturbance_class/disturbance_class\",\n",
    "    \"slope/slope\",\n",
    "    \"canopy/avg_height\",\n",
    "    \"canopy/can_cov\",\n",
    "    \"sapling_data/count_saplings\",\n",
    "    \"ntv_data/litter_data/litter_bag_weight\",\n",
    "    \"ntv_data/litter_data/litter_sample_weight\",\n",
    "    \"ntv_data/ntv_bag_weight\",\n",
    "    \"ntv_data/ntv_sample_weight\",\n",
    "]"
   ]
  },
  {
   "cell_type": "code",
   "execution_count": 9,
   "metadata": {},
   "outputs": [],
   "source": [
    "plot_info = data[plot_info_cols].copy()"
   ]
  },
  {
   "cell_type": "code",
   "execution_count": 10,
   "metadata": {},
   "outputs": [],
   "source": [
    "# rename columns\n",
    "plot_info_cols = {\n",
    "    \"plot_info/data_recorder\": \"data_recorder\",\n",
    "    \"plot_info/team_no\": \"team_no\",\n",
    "    \"plot_info/plot_code_nmbr\": \"plot_code_nmbr\",\n",
    "    \"plot_info/plot_type\": \"plot_type\",\n",
    "    \"plot_info/sub_plot\": \"sub_plot\",\n",
    "    \"plot_info/yes_no\": \"yes_no\",\n",
    "    \"plot_shift/sub_plot_shift\": \"sub_plot_shift\",\n",
    "    \"plot_GPS/GPS_waypt\": \"GPS_waypt\",\n",
    "    \"plot_GPS/GPS_id\": \"GPS_id\",\n",
    "    \"plot_GPS/GPS\": \"GPS\",\n",
    "    \"plot_GPS/_GPS_latitude\": \"GPS_latitude\",\n",
    "    \"plot_GPS/_GPS_longitude\": \"GPS_longitude\",\n",
    "    \"plot_GPS/_GPS_altitude\": \"GPS_altitude\",\n",
    "    \"plot_GPS/_GPS_precision\": \"GPS_precision\",\n",
    "    \"plot_GPS/photo\": \"photo\",\n",
    "    \"access/access_reason/slope\": \"access_reason_slope\",\n",
    "    \"access/access_reason/danger\": \"access_reason_danger\",\n",
    "    \"access/access_reason/distance\": \"access_reason_distance\",\n",
    "    \"access/access_reason/water\": \"access_reason_water\",\n",
    "    \"access/access_reason/prohibited\": \"access_reason_prohibited\",\n",
    "    \"access/access_reason/other\": \"access_reason_other\",\n",
    "    \"access/manual_reason\": \"manual_reason\",\n",
    "    \"lc_data/lc_type\": \"lc_type\",\n",
    "    \"lc_class/lc_class\": \"lc_class\",\n",
    "    \"lc_class/lc_class_other\": \"lc_class_other\",\n",
    "    \"disturbance/disturbance_yesno\": \"disturbance_yesno\",\n",
    "    \"disturbance_data/disturbance_type\": \"disturbance_type\",\n",
    "    \"disturbance_class/disturbance_class\": \"disturbance_class\",\n",
    "    \"slope/slope\": \"slope\",\n",
    "    \"canopy/avg_height\": \"canopy_avg_height\",\n",
    "    \"canopy/can_cov\": \"canopy_cover\",\n",
    "    \"sapling_data/count_saplings\": \"count_saplings\",\n",
    "    \"ntv_data/litter_data/litter_bag_weight\": \"litter_bag_weight\",\n",
    "    \"ntv_data/litter_data/litter_sample_weight\": \"litter_sample_weight\",\n",
    "    \"ntv_data/ntv_bag_weight\": \"ntv_bag_weight\",\n",
    "    \"ntv_data/ntv_sample_weight\": \"ntv_sample_weight\",\n",
    "}"
   ]
  },
  {
   "cell_type": "code",
   "execution_count": 11,
   "metadata": {},
   "outputs": [],
   "source": [
    "plot_info.rename(columns=plot_info_cols, inplace=True)"
   ]
  },
  {
   "cell_type": "markdown",
   "metadata": {},
   "source": [
    "### Set correct data types"
   ]
  },
  {
   "cell_type": "code",
   "execution_count": 12,
   "metadata": {},
   "outputs": [],
   "source": [
    "column_types = {\n",
    "    \"unique_id\": str,\n",
    "    \"data_recorder\": str,\n",
    "    \"team_no\": int,\n",
    "    \"plot_code_nmbr\": int,\n",
    "    \"plot_type\": str,\n",
    "    \"sub_plot\": str,\n",
    "    \"yes_no\": str,\n",
    "    \"sub_plot_shift\": str,\n",
    "    \"GPS\": str,\n",
    "    \"photo\": str,\n",
    "    \"access_reason_slope\": str,\n",
    "    \"access_reason_danger\": str,\n",
    "    \"access_reason_distance\": str,\n",
    "    \"access_reason_water\": str,\n",
    "    \"access_reason_prohibited\": str,\n",
    "    \"access_reason_other\": str,\n",
    "    \"manual_reason\": str,\n",
    "    \"lc_type\": str,\n",
    "    \"lc_class\": str,\n",
    "    \"lc_class_other\": str,\n",
    "    \"disturbance_yesno\": str,\n",
    "    \"disturbance_type\": str,\n",
    "    \"disturbance_class\": str,\n",
    "}"
   ]
  },
  {
   "cell_type": "code",
   "execution_count": 13,
   "metadata": {},
   "outputs": [],
   "source": [
    "plot_info = plot_info.astype(column_types)"
   ]
  },
  {
   "cell_type": "markdown",
   "metadata": {},
   "source": [
    "### Compress access reasons to one column"
   ]
  },
  {
   "cell_type": "code",
   "execution_count": 14,
   "metadata": {},
   "outputs": [],
   "source": [
    "plot_info[\"access_reason\"] = np.nan\n",
    "plot_info[\"access_reason\"] = plot_info[\"access_reason\"].astype(str)\n",
    "for index, row in plot_info.iterrows():\n",
    "    if row[\"access_reason_slope\"] == \"True\":\n",
    "        plot_info.loc[index, \"access_reason\"] = \"slope\"\n",
    "    elif row[\"access_reason_danger\"] == \"True\":\n",
    "        plot_info.loc[index, \"access_reason\"] = \"danger\"\n",
    "    elif row[\"access_reason_distance\"] == \"True\":\n",
    "        plot_info.loc[index, \"access_reason\"] = \"distance\"\n",
    "    elif row[\"access_reason_water\"] == \"True\":\n",
    "        plot_info.loc[index, \"access_reason\"] = \"water\"\n",
    "    elif row[\"access_reason_prohibited\"] == \"True\":\n",
    "        plot_info.loc[index, \"access_reason\"] = \"prohibited\"\n",
    "    elif row[\"access_reason_other\"] == \"True\":\n",
    "        plot_info.loc[index, \"access_reason\"] = row[\"manual_reason\"]"
   ]
  },
  {
   "cell_type": "code",
   "execution_count": 15,
   "metadata": {},
   "outputs": [],
   "source": [
    "# Categorize manual reasons\n",
    "plot_info.loc[plot_info.access_reason == \"90 degree slope \", \"access_reason\"] = \"slope\"\n",
    "plot_info.loc[\n",
    "    plot_info.access_reason == \"Slippery due to rainfall and sharp stones..too risky.\",\n",
    "    \"access_reason\",\n",
    "] = \"danger\"\n",
    "plot_info.loc[\n",
    "    plot_info.access_reason == \"Creek plot and slope 90 degree\", \"access_reason\"\n",
    "] = \"slope\"\n",
    "plot_info.loc[\n",
    "    plot_info.access_reason == \"Near creek 90 degree slope\", \"access_reason\"\n",
    "] = \"slope\""
   ]
  },
  {
   "cell_type": "code",
   "execution_count": 16,
   "metadata": {},
   "outputs": [],
   "source": [
    "# drop access_reason columns\n",
    "plot_info.drop(\n",
    "    columns=[\n",
    "        \"access_reason_slope\",\n",
    "        \"access_reason_danger\",\n",
    "        \"access_reason_distance\",\n",
    "        \"access_reason_water\",\n",
    "        \"access_reason_prohibited\",\n",
    "        \"access_reason_other\",\n",
    "    ],\n",
    "    inplace=True,\n",
    ")"
   ]
  },
  {
   "cell_type": "code",
   "execution_count": 17,
   "metadata": {},
   "outputs": [
    {
     "data": {
      "text/plain": [
       "access_reason\n",
       "nan       634\n",
       "slope      31\n",
       "danger      9\n",
       "Name: count, dtype: int64"
      ]
     },
     "execution_count": 17,
     "metadata": {},
     "output_type": "execute_result"
    }
   ],
   "source": [
    "plot_info.access_reason.value_counts()"
   ]
  },
  {
   "cell_type": "code",
   "execution_count": 18,
   "metadata": {},
   "outputs": [
    {
     "name": "stdout",
     "output_type": "stream",
     "text": [
      "<class 'pandas.core.frame.DataFrame'>\n",
      "RangeIndex: 674 entries, 0 to 673\n",
      "Data columns (total 32 columns):\n",
      " #   Column                Non-Null Count  Dtype  \n",
      "---  ------                --------------  -----  \n",
      " 0   unique_id             674 non-null    object \n",
      " 1   data_recorder         674 non-null    object \n",
      " 2   team_no               674 non-null    int64  \n",
      " 3   plot_code_nmbr        674 non-null    int64  \n",
      " 4   plot_type             674 non-null    object \n",
      " 5   sub_plot              674 non-null    object \n",
      " 6   yes_no                674 non-null    object \n",
      " 7   sub_plot_shift        674 non-null    object \n",
      " 8   GPS_waypt             634 non-null    float64\n",
      " 9   GPS_id                634 non-null    float64\n",
      " 10  GPS                   674 non-null    object \n",
      " 11  GPS_latitude          577 non-null    float64\n",
      " 12  GPS_longitude         577 non-null    float64\n",
      " 13  GPS_altitude          577 non-null    float64\n",
      " 14  GPS_precision         577 non-null    float64\n",
      " 15  photo                 674 non-null    object \n",
      " 16  manual_reason         674 non-null    object \n",
      " 17  lc_type               674 non-null    object \n",
      " 18  lc_class              674 non-null    object \n",
      " 19  lc_class_other        674 non-null    object \n",
      " 20  disturbance_yesno     674 non-null    object \n",
      " 21  disturbance_type      674 non-null    object \n",
      " 22  disturbance_class     674 non-null    object \n",
      " 23  slope                 620 non-null    float64\n",
      " 24  canopy_avg_height     620 non-null    float64\n",
      " 25  canopy_cover          620 non-null    float64\n",
      " 26  count_saplings        589 non-null    float64\n",
      " 27  litter_bag_weight     620 non-null    float64\n",
      " 28  litter_sample_weight  620 non-null    float64\n",
      " 29  ntv_bag_weight        620 non-null    float64\n",
      " 30  ntv_sample_weight     620 non-null    float64\n",
      " 31  access_reason         674 non-null    object \n",
      "dtypes: float64(14), int64(2), object(16)\n",
      "memory usage: 168.6+ KB\n"
     ]
    },
    {
     "data": {
      "text/plain": [
       "(None,\n",
       "   unique_id data_recorder  team_no  plot_code_nmbr plot_type   sub_plot  \\\n",
       " 0     308D2         Steve        1             308   primary  sub_plotD   \n",
       " 1     308A2         Steve        1             308   primary  sub_plotA   \n",
       " \n",
       "   yes_no sub_plot_shift  GPS_waypt  GPS_id  ... disturbance_class  slope  \\\n",
       " 0    yes       no_shift        7.0     1.0  ...               nan   23.0   \n",
       " 1    yes       no_shift        8.0     1.0  ...               nan   13.0   \n",
       " \n",
       "    canopy_avg_height  canopy_cover  count_saplings litter_bag_weight  \\\n",
       " 0               12.0           3.0             2.0              70.0   \n",
       " 1                8.0           4.0             NaN              50.0   \n",
       " \n",
       "   litter_sample_weight ntv_bag_weight ntv_sample_weight access_reason  \n",
       " 0                770.0           70.0             870.0           nan  \n",
       " 1                260.0           50.0             110.0           nan  \n",
       " \n",
       " [2 rows x 32 columns])"
      ]
     },
     "execution_count": 18,
     "metadata": {},
     "output_type": "execute_result"
    }
   ],
   "source": [
    "plot_info.info(), plot_info.head(2)"
   ]
  },
  {
   "cell_type": "markdown",
   "metadata": {},
   "source": [
    "## Export data and upload to BQ"
   ]
  },
  {
   "cell_type": "code",
   "execution_count": 19,
   "metadata": {},
   "outputs": [],
   "source": [
    "# Export CSV\n",
    "if len(plot_info) != 0:\n",
    "    plot_info.to_csv(CARBON_POOLS_OUTDIR / \"plot_info.csv\", index=False)"
   ]
  },
  {
   "cell_type": "code",
   "execution_count": 20,
   "metadata": {},
   "outputs": [
    {
     "name": "stderr",
     "output_type": "stream",
     "text": [
      "100%|██████████| 1/1 [00:00<00:00, 6626.07it/s]\n"
     ]
    }
   ],
   "source": [
    "# Upload to BQ\n",
    "if len(plot_info) != 0:\n",
    "    pandas_gbq.to_gbq(\n",
    "        plot_info,\n",
    "        f\"{DATASET_ID}.plot_info\",\n",
    "        project_id=GCP_PROJ_ID,\n",
    "        if_exists=IF_EXISTS,\n",
    "    )"
   ]
  },
  {
   "cell_type": "markdown",
   "metadata": {},
   "source": [
    "# Extract info per carbon pool"
   ]
  },
  {
   "cell_type": "markdown",
   "metadata": {},
   "source": [
    "# Living Trees"
   ]
  },
  {
   "cell_type": "code",
   "execution_count": null,
   "metadata": {},
   "outputs": [],
   "source": [
    "trees = extract_trees(data, NESTS)"
   ]
  },
  {
   "cell_type": "code",
   "execution_count": null,
   "metadata": {},
   "outputs": [],
   "source": [
    "trees.info(), trees.head(2)"
   ]
  },
  {
   "cell_type": "code",
   "execution_count": null,
   "metadata": {},
   "outputs": [],
   "source": [
    "trees.describe()"
   ]
  },
  {
   "cell_type": "markdown",
   "metadata": {},
   "source": [
    "## Export data and upload to BQ"
   ]
  },
  {
   "cell_type": "code",
   "execution_count": null,
   "metadata": {},
   "outputs": [],
   "source": [
    "# Export to CSV\n",
    "trees.to_csv(CARBON_POOLS_OUTDIR / \"trees.csv\", index=False)"
   ]
  },
  {
   "cell_type": "code",
   "execution_count": null,
   "metadata": {},
   "outputs": [],
   "source": [
    "# Upload to BQ\n",
    "pandas_gbq.to_gbq(\n",
    "    trees, f\"{DATASET_ID}.trees\", project_id=GCP_PROJ_ID, if_exists=IF_EXISTS\n",
    ")"
   ]
  },
  {
   "cell_type": "markdown",
   "metadata": {},
   "source": [
    "# Tree Stumps"
   ]
  },
  {
   "cell_type": "markdown",
   "metadata": {},
   "source": [
    "[delete when fixed] Note: removed `'biomass_per_kg_tree': [biomass_per_kg_tree],`. In the original code there was a placeholder column created, this can be added later in the process when biomass per tree is actually calculated"
   ]
  },
  {
   "cell_type": "code",
   "execution_count": null,
   "metadata": {},
   "outputs": [],
   "source": [
    "stumps = extract_stumps(data, NESTS)"
   ]
  },
  {
   "cell_type": "code",
   "execution_count": null,
   "metadata": {},
   "outputs": [],
   "source": [
    "stumps.info(), stumps.head(2)"
   ]
  },
  {
   "cell_type": "code",
   "execution_count": null,
   "metadata": {},
   "outputs": [],
   "source": [
    "stumps.describe()"
   ]
  },
  {
   "cell_type": "markdown",
   "metadata": {},
   "source": [
    "## Export data and upload to BQ"
   ]
  },
  {
   "cell_type": "code",
   "execution_count": null,
   "metadata": {},
   "outputs": [],
   "source": [
    "# Export to CSV\n",
    "stumps.to_csv(CARBON_POOLS_OUTDIR / \"stumps.csv\", index=False)"
   ]
  },
  {
   "cell_type": "code",
   "execution_count": null,
   "metadata": {},
   "outputs": [],
   "source": [
    "# Upload to BQ\n",
    "pandas_gbq.to_gbq(\n",
    "    stumps, f\"{DATASET_ID}.stumps\", project_id=GCP_PROJ_ID, if_exists=IF_EXISTS\n",
    ")"
   ]
  },
  {
   "cell_type": "markdown",
   "metadata": {},
   "source": [
    "# Dead Trees: Class 1"
   ]
  },
  {
   "cell_type": "code",
   "execution_count": null,
   "metadata": {},
   "outputs": [],
   "source": [
    "dead_trees_c1 = extract_dead_trees_class1(data, NESTS)"
   ]
  },
  {
   "cell_type": "code",
   "execution_count": null,
   "metadata": {},
   "outputs": [],
   "source": [
    "dead_trees_c1.info(), dead_trees_c1.head(2)"
   ]
  },
  {
   "cell_type": "code",
   "execution_count": null,
   "metadata": {},
   "outputs": [],
   "source": [
    "dead_trees_c1.describe()"
   ]
  },
  {
   "cell_type": "markdown",
   "metadata": {},
   "source": [
    "## Export data and upload to BQ"
   ]
  },
  {
   "cell_type": "code",
   "execution_count": null,
   "metadata": {},
   "outputs": [],
   "source": [
    "dead_trees_c1.to_csv(CARBON_POOLS_OUTDIR / \"dead_trees_class1.csv\", index=False)"
   ]
  },
  {
   "cell_type": "code",
   "execution_count": null,
   "metadata": {},
   "outputs": [],
   "source": [
    "# Upload to BQ\n",
    "pandas_gbq.to_gbq(\n",
    "    dead_trees_c1,\n",
    "    f\"{DATASET_ID}.dead_trees_c1\",\n",
    "    project_id=GCP_PROJ_ID,\n",
    "    if_exists=IF_EXISTS,\n",
    ")"
   ]
  },
  {
   "cell_type": "markdown",
   "metadata": {},
   "source": [
    "# Dead Trees: Class 2 - short"
   ]
  },
  {
   "cell_type": "code",
   "execution_count": null,
   "metadata": {},
   "outputs": [],
   "source": [
    "dead_trees_c2s = extract_dead_trees_class2s(data, NESTS)"
   ]
  },
  {
   "cell_type": "code",
   "execution_count": null,
   "metadata": {},
   "outputs": [],
   "source": [
    "dead_trees_c2s.info(), dead_trees_c2s.head(2)"
   ]
  },
  {
   "cell_type": "markdown",
   "metadata": {},
   "source": [
    "## Export data and upload to BQ"
   ]
  },
  {
   "cell_type": "code",
   "execution_count": null,
   "metadata": {},
   "outputs": [],
   "source": [
    "# Export CSV\n",
    "if len(dead_trees_c2s) != 0:\n",
    "    dead_trees_c2s.to_csv(CARBON_POOLS_OUTDIR / \"dead_trees_class2.csv\", index=False)"
   ]
  },
  {
   "cell_type": "code",
   "execution_count": null,
   "metadata": {},
   "outputs": [],
   "source": [
    "# Upload to BQ\n",
    "if len(dead_trees_c2s) != 0:\n",
    "    pandas_gbq.to_gbq(\n",
    "        dead_trees_c2s,\n",
    "        f\"{DATASET_ID}.dead_trees_c2s\",\n",
    "        project_id=GCP_PROJ_ID,\n",
    "        if_exists=IF_EXISTS,\n",
    "    )"
   ]
  },
  {
   "cell_type": "markdown",
   "metadata": {},
   "source": [
    "# Dead Trees: Class 2 - Tall"
   ]
  },
  {
   "cell_type": "markdown",
   "metadata": {},
   "source": [
    "[delete when fixed] Note: This is still class 2 but tall trees. rename variables and functions accordingly"
   ]
  },
  {
   "cell_type": "code",
   "execution_count": null,
   "metadata": {},
   "outputs": [],
   "source": [
    "dead_trees_c2t = extract_dead_trees_class2t(data, NESTS)"
   ]
  },
  {
   "cell_type": "code",
   "execution_count": null,
   "metadata": {},
   "outputs": [],
   "source": [
    "dead_trees_c2t.info(), dead_trees_c2t.head(2)"
   ]
  },
  {
   "cell_type": "markdown",
   "metadata": {},
   "source": [
    "## Export data and upload to BQ"
   ]
  },
  {
   "cell_type": "code",
   "execution_count": null,
   "metadata": {},
   "outputs": [],
   "source": [
    "# Export CSV\n",
    "if len(dead_trees_c2t) != 0:\n",
    "    dead_trees_c2t.to_csv(\n",
    "        CARBON_POOLS_OUTDIR / \"dead_trees_class2_tall.csv\", index=False\n",
    "    )"
   ]
  },
  {
   "cell_type": "code",
   "execution_count": null,
   "metadata": {},
   "outputs": [],
   "source": [
    "# Upload to BQ\n",
    "if len(dead_trees_c2t) != 0:\n",
    "    pandas_gbq.to_gbq(\n",
    "        dead_trees_c2t,\n",
    "        f\"{DATASET_ID}.dead_trees_c2t\",\n",
    "        project_id=GCP_PROJ_ID,\n",
    "        if_exists=IF_EXISTS,\n",
    "    )"
   ]
  },
  {
   "cell_type": "markdown",
   "metadata": {},
   "source": [
    "# Lying Deadwood: Hollow"
   ]
  },
  {
   "cell_type": "code",
   "execution_count": null,
   "metadata": {},
   "outputs": [],
   "source": [
    "ldw_hollow = extract_ldw_with_hollow(data)"
   ]
  },
  {
   "cell_type": "code",
   "execution_count": null,
   "metadata": {},
   "outputs": [],
   "source": [
    "ldw_hollow.info(), ldw_hollow.head(2)"
   ]
  },
  {
   "cell_type": "markdown",
   "metadata": {},
   "source": [
    "## Export data and upload to BQ"
   ]
  },
  {
   "cell_type": "code",
   "execution_count": null,
   "metadata": {},
   "outputs": [],
   "source": [
    "# Export CSV\n",
    "if len(ldw_hollow) != 0:\n",
    "    ldw_hollow.to_csv(CARBON_POOLS_OUTDIR / \"lying_deadwood_hollow.csv\", index=False)"
   ]
  },
  {
   "cell_type": "code",
   "execution_count": null,
   "metadata": {},
   "outputs": [],
   "source": [
    "# Upload to BQ\n",
    "if len(ldw_hollow) != 0:\n",
    "    pandas_gbq.to_gbq(\n",
    "        ldw_hollow,\n",
    "        f\"{DATASET_ID}.lying_deadwood_hollow\",\n",
    "        project_id=GCP_PROJ_ID,\n",
    "        if_exists=IF_EXISTS,\n",
    "    )"
   ]
  },
  {
   "cell_type": "markdown",
   "metadata": {},
   "source": [
    "# Lying Deadwood without hollow"
   ]
  },
  {
   "cell_type": "code",
   "execution_count": null,
   "metadata": {},
   "outputs": [],
   "source": [
    "ldw_wo_hollow = extract_ldw_wo_hollow(data)"
   ]
  },
  {
   "cell_type": "code",
   "execution_count": null,
   "metadata": {},
   "outputs": [],
   "source": [
    "ldw_wo_hollow.info(), ldw_wo_hollow.head(2)"
   ]
  },
  {
   "cell_type": "markdown",
   "metadata": {},
   "source": [
    "## Export data and upload to BQ"
   ]
  },
  {
   "cell_type": "code",
   "execution_count": null,
   "metadata": {},
   "outputs": [],
   "source": [
    "# Export CSV\n",
    "if len(ldw_wo_hollow) != 0:\n",
    "    ldw_wo_hollow.to_csv(\n",
    "        CARBON_POOLS_OUTDIR / \"lying_deadwood_wo_hollow.csv\", index=False\n",
    "    )"
   ]
  },
  {
   "cell_type": "code",
   "execution_count": null,
   "metadata": {},
   "outputs": [],
   "source": [
    "# Upload to BQ\n",
    "if len(ldw_wo_hollow) != 0:\n",
    "    pandas_gbq.to_gbq(\n",
    "        ldw_wo_hollow,\n",
    "        f\"{DATASET_ID}.lying_deadwood_wo_hollow\",\n",
    "        project_id=GCP_PROJ_ID,\n",
    "        if_exists=IF_EXISTS,\n",
    "    )"
   ]
  }
 ],
 "metadata": {
  "kernelspec": {
   "display_name": "onebase",
   "language": "python",
   "name": "python3"
  },
  "language_info": {
   "codemirror_mode": {
    "name": "ipython",
    "version": 3
   },
   "file_extension": ".py",
   "mimetype": "text/x-python",
   "name": "python",
   "nbconvert_exporter": "python",
   "pygments_lexer": "ipython3",
   "version": "3.12.4"
  }
 },
 "nbformat": 4,
 "nbformat_minor": 2
}
