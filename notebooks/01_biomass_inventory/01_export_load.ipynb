{
 "cells": [
  {
   "cell_type": "markdown",
   "metadata": {},
   "source": [
    "# Preprocess ODK data to organized tables"
   ]
  },
  {
   "cell_type": "markdown",
   "metadata": {},
   "source": [
    "# Imports and Set-up"
   ]
  },
  {
   "cell_type": "code",
   "execution_count": 1,
   "metadata": {},
   "outputs": [],
   "source": [
    "# Standard Imports\n",
    "import sys\n",
    "import os\n",
    "import urllib.request\n",
    "import pandas as pd\n",
    "import numpy as np\n",
    "\n",
    "# Google Cloud Imports\n",
    "import pandas_gbq"
   ]
  },
  {
   "cell_type": "code",
   "execution_count": 2,
   "metadata": {},
   "outputs": [],
   "source": [
    "# Util imports\n",
    "sys.path.append(\"../../\")  # include parent directory\n",
    "from src.settings import DATA_DIR, GCP_PROJ_ID\n",
    "from src.biomass_inventory import (\n",
    "    extract_trees,\n",
    "    extract_stumps,\n",
    "    extract_dead_trees_class1,\n",
    ")"
   ]
  },
  {
   "cell_type": "code",
   "execution_count": 3,
   "metadata": {},
   "outputs": [],
   "source": [
    "# Variables\n",
    "URL = \"https://api.ona.io/api/v1/data/763932.csv\"\n",
    "FILE_RAW = DATA_DIR / \"csv\" / \"biomass_inventory_raw.csv\"\n",
    "CARBON_POOLS_OUTDIR = DATA_DIR / \"csv\" / \"carbon_pools\"\n",
    "NESTS = [2, 3, 4]\n",
    "\n",
    "# BigQuery Variables\n",
    "DATASET_ID = \"biomass_inventory\""
   ]
  },
  {
   "cell_type": "code",
   "execution_count": 4,
   "metadata": {},
   "outputs": [],
   "source": [
    "# Create output directory\n",
    "CARBON_POOLS_OUTDIR.mkdir(parents=True, exist_ok=True)"
   ]
  },
  {
   "cell_type": "markdown",
   "metadata": {},
   "source": [
    "# Get Data from ONA"
   ]
  },
  {
   "cell_type": "code",
   "execution_count": 5,
   "metadata": {},
   "outputs": [],
   "source": [
    "if FILE_RAW.exists():\n",
    "    data = pd.read_csv(FILE_RAW, low_memory=False)\n",
    "else:\n",
    "    urllib.request.urlretrieve(URL, FILE_RAW)\n",
    "    data = pd.read_csv(FILE_RAW, low_memory=False)"
   ]
  },
  {
   "cell_type": "code",
   "execution_count": 6,
   "metadata": {},
   "outputs": [
    {
     "data": {
      "text/html": [
       "<div>\n",
       "<style scoped>\n",
       "    .dataframe tbody tr th:only-of-type {\n",
       "        vertical-align: middle;\n",
       "    }\n",
       "\n",
       "    .dataframe tbody tr th {\n",
       "        vertical-align: top;\n",
       "    }\n",
       "\n",
       "    .dataframe thead th {\n",
       "        text-align: right;\n",
       "    }\n",
       "</style>\n",
       "<table border=\"1\" class=\"dataframe\">\n",
       "  <thead>\n",
       "    <tr style=\"text-align: right;\">\n",
       "      <th></th>\n",
       "      <th>start</th>\n",
       "      <th>end</th>\n",
       "      <th>today</th>\n",
       "      <th>deviceid</th>\n",
       "      <th>plot_info/data_recorder</th>\n",
       "      <th>plot_info/team_no</th>\n",
       "      <th>plot_info/plot_code_nmbr</th>\n",
       "      <th>plot_info/plot_type</th>\n",
       "      <th>plot_info/sub_plot</th>\n",
       "      <th>plot_info/yes_no</th>\n",
       "      <th>...</th>\n",
       "      <th>_date_modified</th>\n",
       "      <th>_tags</th>\n",
       "      <th>_notes</th>\n",
       "      <th>_version</th>\n",
       "      <th>_duration</th>\n",
       "      <th>_submitted_by</th>\n",
       "      <th>_total_media</th>\n",
       "      <th>_media_count</th>\n",
       "      <th>_media_all_received</th>\n",
       "      <th>_xform_id</th>\n",
       "    </tr>\n",
       "  </thead>\n",
       "  <tbody>\n",
       "    <tr>\n",
       "      <th>0</th>\n",
       "      <td>2023-09-13T08:34:39.601+08:00</td>\n",
       "      <td>2023-10-10T12:36:28.070+08:00</td>\n",
       "      <td>2023-09-13</td>\n",
       "      <td>collect:49ETbl4W1cfU6fo2</td>\n",
       "      <td>Steve</td>\n",
       "      <td>1</td>\n",
       "      <td>308</td>\n",
       "      <td>primary</td>\n",
       "      <td>sub_plotD</td>\n",
       "      <td>yes</td>\n",
       "      <td>...</td>\n",
       "      <td>2023-10-10T04:36:29.296858+00:00</td>\n",
       "      <td>NaN</td>\n",
       "      <td>NaN</td>\n",
       "      <td>13</td>\n",
       "      <td>2347309.0</td>\n",
       "      <td>clearwind</td>\n",
       "      <td>2.0</td>\n",
       "      <td>2.0</td>\n",
       "      <td>True</td>\n",
       "      <td>763932.0</td>\n",
       "    </tr>\n",
       "    <tr>\n",
       "      <th>1</th>\n",
       "      <td>2023-09-13T09:51:59.092+08:00</td>\n",
       "      <td>2023-10-10T12:36:09.000+08:00</td>\n",
       "      <td>2023-09-13</td>\n",
       "      <td>collect:49ETbl4W1cfU6fo2</td>\n",
       "      <td>Steve</td>\n",
       "      <td>1</td>\n",
       "      <td>308</td>\n",
       "      <td>primary</td>\n",
       "      <td>sub_plotA</td>\n",
       "      <td>yes</td>\n",
       "      <td>...</td>\n",
       "      <td>2023-10-10T04:36:10.231153+00:00</td>\n",
       "      <td>NaN</td>\n",
       "      <td>NaN</td>\n",
       "      <td>13</td>\n",
       "      <td>2342650.0</td>\n",
       "      <td>clearwind</td>\n",
       "      <td>2.0</td>\n",
       "      <td>2.0</td>\n",
       "      <td>True</td>\n",
       "      <td>763932.0</td>\n",
       "    </tr>\n",
       "  </tbody>\n",
       "</table>\n",
       "<p>2 rows × 1394 columns</p>\n",
       "</div>"
      ],
      "text/plain": [
       "                           start                            end       today  \\\n",
       "0  2023-09-13T08:34:39.601+08:00  2023-10-10T12:36:28.070+08:00  2023-09-13   \n",
       "1  2023-09-13T09:51:59.092+08:00  2023-10-10T12:36:09.000+08:00  2023-09-13   \n",
       "\n",
       "                   deviceid plot_info/data_recorder  plot_info/team_no  \\\n",
       "0  collect:49ETbl4W1cfU6fo2                   Steve                  1   \n",
       "1  collect:49ETbl4W1cfU6fo2                   Steve                  1   \n",
       "\n",
       "   plot_info/plot_code_nmbr plot_info/plot_type plot_info/sub_plot  \\\n",
       "0                       308             primary          sub_plotD   \n",
       "1                       308             primary          sub_plotA   \n",
       "\n",
       "  plot_info/yes_no  ...                    _date_modified  _tags  _notes  \\\n",
       "0              yes  ...  2023-10-10T04:36:29.296858+00:00    NaN     NaN   \n",
       "1              yes  ...  2023-10-10T04:36:10.231153+00:00    NaN     NaN   \n",
       "\n",
       "  _version  _duration  _submitted_by  _total_media  _media_count  \\\n",
       "0       13  2347309.0      clearwind           2.0           2.0   \n",
       "1       13  2342650.0      clearwind           2.0           2.0   \n",
       "\n",
       "  _media_all_received _xform_id  \n",
       "0                True  763932.0  \n",
       "1                True  763932.0  \n",
       "\n",
       "[2 rows x 1394 columns]"
      ]
     },
     "execution_count": 6,
     "metadata": {},
     "output_type": "execute_result"
    }
   ],
   "source": [
    "data.head(2)"
   ]
  },
  {
   "cell_type": "markdown",
   "metadata": {},
   "source": [
    "## Add a unique ID"
   ]
  },
  {
   "cell_type": "code",
   "execution_count": 7,
   "metadata": {},
   "outputs": [],
   "source": [
    "# Create a new column with \"1\" for Primary and \"2\" for Backup\n",
    "data[\"plot_info/plot_type_short\"] = data[\"plot_info/plot_type\"].apply(\n",
    "    lambda x: \"1\" if x == \"Primary\" else \"2\"\n",
    ")\n",
    "\n",
    "# Extract subplot letters (assuming they are included in the 'plot_info.sub_plot' column)\n",
    "data[\"subplot_letter\"] = data[\"plot_info/sub_plot\"].str.replace(\"sub_plot\", \"\")\n",
    "\n",
    "# Create the unique ID by concatenating the specified columns\n",
    "data[\"unique_id\"] = (\n",
    "    data[\"plot_info/plot_code_nmbr\"].astype(str)\n",
    "    + data[\"subplot_letter\"]\n",
    "    + data[\"plot_info/plot_type_short\"]\n",
    ")"
   ]
  },
  {
   "cell_type": "markdown",
   "metadata": {},
   "source": [
    "# Extract Plot info"
   ]
  },
  {
   "cell_type": "code",
   "execution_count": null,
   "metadata": {},
   "outputs": [],
   "source": [
    "plot_info_cols = [\n",
    "    \"unique_id\",\n",
    "    \"plot_info/data_recorder\",\n",
    "    \"plot_info/team_no\",\n",
    "    \"plot_info/plot_code_nmbr\",\n",
    "    \"plot_info/plot_type\",\n",
    "    \"plot_info/sub_plot\",\n",
    "    \"plot_info/yes_no\",\n",
    "    \"plot_shift/sub_plot_shift\",\n",
    "    \"plot_GPS/GPS_waypt\",\n",
    "    \"plot_GPS/GPS_id\",\n",
    "    \"plot_GPS/GPS\",\n",
    "    \"plot_GPS/_GPS_latitude\",\n",
    "    \"plot_GPS/_GPS_longitude\",\n",
    "    \"plot_GPS/_GPS_altitude\",\n",
    "    \"plot_GPS/_GPS_precision\",\n",
    "    \"plot_GPS/photo\",\n",
    "    \"access/access_reason/slope\",\n",
    "    \"access/access_reason/danger\",\n",
    "    \"access/access_reason/distance\",\n",
    "    \"access/access_reason/water\",\n",
    "    \"access/access_reason/prohibited\",\n",
    "    \"access/access_reason/other\",\n",
    "    \"access/manual_reason\",\n",
    "    \"lc_data/lc_type\",\n",
    "    \"lc_class/lc_class\",\n",
    "    \"lc_class/lc_class_other\",\n",
    "    \"disturbance/disturbance_yesno\",\n",
    "    \"disturbance_data/disturbance_type\",\n",
    "    \"disturbance_class/disturbance_class\",\n",
    "    \"slope/slope\",\n",
    "    \"canopy/avg_height\",\n",
    "    \"canopy/can_cov\",\n",
    "]"
   ]
  },
  {
   "cell_type": "code",
   "execution_count": null,
   "metadata": {},
   "outputs": [],
   "source": [
    "plot_info = data[plot_info_cols]"
   ]
  },
  {
   "cell_type": "code",
   "execution_count": null,
   "metadata": {},
   "outputs": [],
   "source": [
    "plot_info.head(2)"
   ]
  },
  {
   "cell_type": "markdown",
   "metadata": {},
   "source": [
    "# Extract info per carbon pool"
   ]
  },
  {
   "cell_type": "markdown",
   "metadata": {},
   "source": [
    "# Living Trees"
   ]
  },
  {
   "cell_type": "code",
   "execution_count": null,
   "metadata": {},
   "outputs": [],
   "source": [
    "trees = extract_trees(data, NESTS)"
   ]
  },
  {
   "cell_type": "code",
   "execution_count": null,
   "metadata": {},
   "outputs": [],
   "source": [
    "trees.info(), trees.head(2)"
   ]
  },
  {
   "cell_type": "markdown",
   "metadata": {},
   "source": [
    "## Export data and upload to BQ"
   ]
  },
  {
   "cell_type": "code",
   "execution_count": null,
   "metadata": {},
   "outputs": [],
   "source": [
    "# Export to CSV\n",
    "trees.to_csv(CARBON_POOLS_OUTDIR / \"trees.csv\", index=False)"
   ]
  },
  {
   "cell_type": "code",
   "execution_count": null,
   "metadata": {},
   "outputs": [],
   "source": [
    "# Upload to BQ\n",
    "pandas_gbq.to_gbq(trees, f\"{DATASET_ID}.trees\", project_id=GCP_PROJ_ID)"
   ]
  },
  {
   "cell_type": "markdown",
   "metadata": {},
   "source": [
    "# Tree Stumps"
   ]
  },
  {
   "cell_type": "markdown",
   "metadata": {},
   "source": [
    "note (delete when addressed): removed `'biomass_per_kg_tree': [biomass_per_kg_tree],`. In the original code there was a placeholder column created, this can be added later in the process when biomass per tree is actually calculated"
   ]
  },
  {
   "cell_type": "code",
   "execution_count": null,
   "metadata": {},
   "outputs": [],
   "source": [
    "stumps = extract_stumps(data, NESTS)"
   ]
  },
  {
   "cell_type": "code",
   "execution_count": null,
   "metadata": {},
   "outputs": [],
   "source": [
    "stumps.info(), stumps.head(2)"
   ]
  },
  {
   "cell_type": "markdown",
   "metadata": {},
   "source": [
    "## Export data and upload to BQ"
   ]
  },
  {
   "cell_type": "code",
   "execution_count": null,
   "metadata": {},
   "outputs": [],
   "source": [
    "# Export to CSV\n",
    "stumps.to_csv(CARBON_POOLS_OUTDIR / \"stumps.csv\", index=False)"
   ]
  },
  {
   "cell_type": "code",
   "execution_count": null,
   "metadata": {},
   "outputs": [],
   "source": [
    "# Upload to BQ\n",
    "pandas_gbq.to_gbq(stumps, f\"{DATASET_ID}.stumps\", project_id=GCP_PROJ_ID)"
   ]
  },
  {
   "cell_type": "markdown",
   "metadata": {},
   "source": [
    "# Dead Trees: Class 1"
   ]
  },
  {
   "cell_type": "code",
   "execution_count": 8,
   "metadata": {},
   "outputs": [],
   "source": [
    "dead_trees_c1 = extract_dead_trees_class1(data, NESTS)"
   ]
  },
  {
   "cell_type": "code",
   "execution_count": 9,
   "metadata": {},
   "outputs": [
    {
     "name": "stdout",
     "output_type": "stream",
     "text": [
      "<class 'pandas.core.frame.DataFrame'>\n",
      "RangeIndex: 2 entries, 0 to 1\n",
      "Data columns (total 6 columns):\n",
      " #   Column        Non-Null Count  Dtype  \n",
      "---  ------        --------------  -----  \n",
      " 0   unique_id     2 non-null      object \n",
      " 1   nest          2 non-null      int64  \n",
      " 2   species_name  2 non-null      float64\n",
      " 3   DBH_cl1       2 non-null      float64\n",
      " 4   class         2 non-null      int64  \n",
      " 5   subclass      2 non-null      object \n",
      "dtypes: float64(2), int64(2), object(2)\n",
      "memory usage: 228.0+ bytes\n"
     ]
    },
    {
     "data": {
      "text/plain": [
       "(None,\n",
       "   unique_id  nest  species_name  DBH_cl1  class subclass\n",
       " 0     290C2     3         145.0     38.0      1      n/a\n",
       " 1     290C2     4         177.0     58.8      1      n/a)"
      ]
     },
     "execution_count": 9,
     "metadata": {},
     "output_type": "execute_result"
    }
   ],
   "source": [
    "dead_trees_c1.info(), dead_trees_c1.head(2)"
   ]
  },
  {
   "cell_type": "markdown",
   "metadata": {},
   "source": [
    "## Export data and upload to BQ"
   ]
  },
  {
   "cell_type": "code",
   "execution_count": 10,
   "metadata": {},
   "outputs": [
    {
     "name": "stderr",
     "output_type": "stream",
     "text": [
      "100%|██████████| 1/1 [00:00<00:00, 9597.95it/s]\n"
     ]
    }
   ],
   "source": [
    "# Upload to BQ\n",
    "pandas_gbq.to_gbq(dead_trees_c1, f\"{DATASET_ID}.dead_trees_c1\", project_id=GCP_PROJ_ID)"
   ]
  },
  {
   "cell_type": "markdown",
   "metadata": {},
   "source": [
    "trees above ground\n",
    "trees below ground (roots)\n",
    "saplings\n",
    "non-tree and litter \n",
    "stumps\n",
    "lying deadwood\n",
    "standing deadwood\n",
    "dead trees\n",
    "\n",
    "\n",
    "aggregation\n",
    "by subplot\n",
    "by plot\n",
    "by strata\n"
   ]
  }
 ],
 "metadata": {
  "kernelspec": {
   "display_name": "onebase",
   "language": "python",
   "name": "python3"
  },
  "language_info": {
   "codemirror_mode": {
    "name": "ipython",
    "version": 3
   },
   "file_extension": ".py",
   "mimetype": "text/x-python",
   "name": "python",
   "nbconvert_exporter": "python",
   "pygments_lexer": "ipython3",
   "version": "3.12.4"
  }
 },
 "nbformat": 4,
 "nbformat_minor": 2
}
