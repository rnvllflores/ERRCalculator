{
 "cells": [
  {
   "cell_type": "markdown",
   "metadata": {},
   "source": [
    "# Preprocess ODK data to organized tables"
   ]
  },
  {
   "cell_type": "markdown",
   "metadata": {},
   "source": [
    "# Imports and Set-up"
   ]
  },
  {
   "cell_type": "code",
   "execution_count": 29,
   "metadata": {},
   "outputs": [],
   "source": [
    "# Standard Imports\n",
    "import sys\n",
    "import os\n",
    "import urllib.request\n",
    "import pandas as pd\n",
    "import numpy as np\n",
    "import matplotlib.pyplot as plt\n",
    "import re\n",
    "\n",
    "# Google Cloud Imports\n",
    "import pandas_gbq"
   ]
  },
  {
   "cell_type": "code",
   "execution_count": 2,
   "metadata": {},
   "outputs": [],
   "source": [
    "# Util imports\n",
    "sys.path.append(\"../../\")  # include parent directory\n",
    "from src.settings import DATA_DIR, GCP_PROJ_ID\n",
    "from src.biomass_inventory import (\n",
    "    extract_trees,\n",
    "    extract_stumps,\n",
    "    extract_dead_trees_class1,\n",
    "    extract_dead_trees_class2,\n",
    "    extract_dead_trees_class3,\n",
    "    extract_ldw_with_hollow,\n",
    "    extract_ldw_wo_hollow,\n",
    ")"
   ]
  },
  {
   "cell_type": "code",
   "execution_count": 3,
   "metadata": {},
   "outputs": [],
   "source": [
    "# Variables\n",
    "URL = \"https://api.ona.io/api/v1/data/763932.csv\"\n",
    "FILE_RAW = DATA_DIR / \"csv\" / \"biomass_inventory_raw.csv\"\n",
    "CARBON_POOLS_OUTDIR = DATA_DIR / \"csv\" / \"carbon_pools\"\n",
    "NESTS = [2, 3, 4]\n",
    "\n",
    "# BigQuery Variables\n",
    "DATASET_ID = \"biomass_inventory\""
   ]
  },
  {
   "cell_type": "code",
   "execution_count": 4,
   "metadata": {},
   "outputs": [],
   "source": [
    "# Create output directory\n",
    "CARBON_POOLS_OUTDIR.mkdir(parents=True, exist_ok=True)"
   ]
  },
  {
   "cell_type": "markdown",
   "metadata": {},
   "source": [
    "# Get Data from ONA"
   ]
  },
  {
   "cell_type": "code",
   "execution_count": 5,
   "metadata": {},
   "outputs": [],
   "source": [
    "column_types = {\n",
    "    col: str\n",
    "    for col in (\n",
    "        28,\n",
    "        399,\n",
    "        400,\n",
    "        407,\n",
    "        408,\n",
    "        415,\n",
    "        416,\n",
    "        845,\n",
    "        846,\n",
    "        853,\n",
    "        854,\n",
    "        861,\n",
    "        862,\n",
    "        869,\n",
    "        870,\n",
    "        877,\n",
    "        878,\n",
    "        885,\n",
    "        886,\n",
    "        893,\n",
    "        894,\n",
    "        901,\n",
    "        902,\n",
    "        909,\n",
    "        910,\n",
    "        1179,\n",
    "        1180,\n",
    "        1187,\n",
    "        1188,\n",
    "        1195,\n",
    "        1196,\n",
    "        1203,\n",
    "        1204,\n",
    "        1211,\n",
    "        1212,\n",
    "        1219,\n",
    "        1220,\n",
    "        1286,\n",
    "        1337,\n",
    "        1342,\n",
    "        1347,\n",
    "        1352,\n",
    "        1357,\n",
    "        1362,\n",
    "        1378,\n",
    "        1392,\n",
    "    )\n",
    "}"
   ]
  },
  {
   "cell_type": "code",
   "execution_count": 6,
   "metadata": {},
   "outputs": [],
   "source": [
    "if FILE_RAW.exists():\n",
    "    data = pd.read_csv(FILE_RAW, dtype=column_types)\n",
    "else:\n",
    "    urllib.request.urlretrieve(URL, FILE_RAW)\n",
    "    data = pd.read_csv(FILE_RAW, dtype=column_types)"
   ]
  },
  {
   "cell_type": "markdown",
   "metadata": {},
   "source": [
    "## Add a unique ID"
   ]
  },
  {
   "cell_type": "code",
   "execution_count": 7,
   "metadata": {},
   "outputs": [],
   "source": [
    "# Create a new column with \"1\" for Primary and \"2\" for Backup\n",
    "data[\"plot_info/plot_type_short\"] = data[\"plot_info/plot_type\"].apply(\n",
    "    lambda x: \"1\" if x == \"Primary\" else \"2\"\n",
    ")\n",
    "\n",
    "# Extract subplot letters (assuming they are included in the 'plot_info.sub_plot' column)\n",
    "data[\"subplot_letter\"] = data[\"plot_info/sub_plot\"].str.replace(\"sub_plot\", \"\")\n",
    "\n",
    "# Create the unique ID by concatenating the specified columns\n",
    "data[\"unique_id\"] = (\n",
    "    data[\"plot_info/plot_code_nmbr\"].astype(str)\n",
    "    + data[\"subplot_letter\"]\n",
    "    + data[\"plot_info/plot_type_short\"]\n",
    ")"
   ]
  },
  {
   "cell_type": "markdown",
   "metadata": {},
   "source": [
    "# Extract Plot info"
   ]
  },
  {
   "cell_type": "code",
   "execution_count": 8,
   "metadata": {},
   "outputs": [],
   "source": [
    "plot_info_cols = [\n",
    "    \"unique_id\",\n",
    "    \"plot_info/data_recorder\",\n",
    "    \"plot_info/team_no\",\n",
    "    \"plot_info/plot_code_nmbr\",\n",
    "    \"plot_info/plot_type\",\n",
    "    \"plot_info/sub_plot\",\n",
    "    \"plot_info/yes_no\",\n",
    "    \"plot_shift/sub_plot_shift\",\n",
    "    \"plot_GPS/GPS_waypt\",\n",
    "    \"plot_GPS/GPS_id\",\n",
    "    \"plot_GPS/GPS\",\n",
    "    \"plot_GPS/_GPS_latitude\",\n",
    "    \"plot_GPS/_GPS_longitude\",\n",
    "    \"plot_GPS/_GPS_altitude\",\n",
    "    \"plot_GPS/_GPS_precision\",\n",
    "    \"plot_GPS/photo\",\n",
    "    \"access/access_reason/slope\",\n",
    "    \"access/access_reason/danger\",\n",
    "    \"access/access_reason/distance\",\n",
    "    \"access/access_reason/water\",\n",
    "    \"access/access_reason/prohibited\",\n",
    "    \"access/access_reason/other\",\n",
    "    \"access/manual_reason\",\n",
    "    \"lc_data/lc_type\",\n",
    "    \"lc_class/lc_class\",\n",
    "    \"lc_class/lc_class_other\",\n",
    "    \"disturbance/disturbance_yesno\",\n",
    "    \"disturbance_data/disturbance_type\",\n",
    "    \"disturbance_class/disturbance_class\",\n",
    "    \"slope/slope\",\n",
    "    \"canopy/avg_height\",\n",
    "    \"canopy/can_cov\",\n",
    "]"
   ]
  },
  {
   "cell_type": "code",
   "execution_count": 9,
   "metadata": {},
   "outputs": [],
   "source": [
    "plot_info = data[plot_info_cols]"
   ]
  },
  {
   "cell_type": "code",
   "execution_count": 10,
   "metadata": {},
   "outputs": [
    {
     "data": {
      "text/html": [
       "<div>\n",
       "<style scoped>\n",
       "    .dataframe tbody tr th:only-of-type {\n",
       "        vertical-align: middle;\n",
       "    }\n",
       "\n",
       "    .dataframe tbody tr th {\n",
       "        vertical-align: top;\n",
       "    }\n",
       "\n",
       "    .dataframe thead th {\n",
       "        text-align: right;\n",
       "    }\n",
       "</style>\n",
       "<table border=\"1\" class=\"dataframe\">\n",
       "  <thead>\n",
       "    <tr style=\"text-align: right;\">\n",
       "      <th></th>\n",
       "      <th>unique_id</th>\n",
       "      <th>plot_info/data_recorder</th>\n",
       "      <th>plot_info/team_no</th>\n",
       "      <th>plot_info/plot_code_nmbr</th>\n",
       "      <th>plot_info/plot_type</th>\n",
       "      <th>plot_info/sub_plot</th>\n",
       "      <th>plot_info/yes_no</th>\n",
       "      <th>plot_shift/sub_plot_shift</th>\n",
       "      <th>plot_GPS/GPS_waypt</th>\n",
       "      <th>plot_GPS/GPS_id</th>\n",
       "      <th>...</th>\n",
       "      <th>access/manual_reason</th>\n",
       "      <th>lc_data/lc_type</th>\n",
       "      <th>lc_class/lc_class</th>\n",
       "      <th>lc_class/lc_class_other</th>\n",
       "      <th>disturbance/disturbance_yesno</th>\n",
       "      <th>disturbance_data/disturbance_type</th>\n",
       "      <th>disturbance_class/disturbance_class</th>\n",
       "      <th>slope/slope</th>\n",
       "      <th>canopy/avg_height</th>\n",
       "      <th>canopy/can_cov</th>\n",
       "    </tr>\n",
       "  </thead>\n",
       "  <tbody>\n",
       "    <tr>\n",
       "      <th>0</th>\n",
       "      <td>308D2</td>\n",
       "      <td>Steve</td>\n",
       "      <td>1</td>\n",
       "      <td>308</td>\n",
       "      <td>primary</td>\n",
       "      <td>sub_plotD</td>\n",
       "      <td>yes</td>\n",
       "      <td>no_shift</td>\n",
       "      <td>7.0</td>\n",
       "      <td>1.0</td>\n",
       "      <td>...</td>\n",
       "      <td>NaN</td>\n",
       "      <td>f_plant</td>\n",
       "      <td>FC</td>\n",
       "      <td>NaN</td>\n",
       "      <td>NaN</td>\n",
       "      <td>NaN</td>\n",
       "      <td>NaN</td>\n",
       "      <td>23.0</td>\n",
       "      <td>12.0</td>\n",
       "      <td>3.0</td>\n",
       "    </tr>\n",
       "    <tr>\n",
       "      <th>1</th>\n",
       "      <td>308A2</td>\n",
       "      <td>Steve</td>\n",
       "      <td>1</td>\n",
       "      <td>308</td>\n",
       "      <td>primary</td>\n",
       "      <td>sub_plotA</td>\n",
       "      <td>yes</td>\n",
       "      <td>no_shift</td>\n",
       "      <td>8.0</td>\n",
       "      <td>1.0</td>\n",
       "      <td>...</td>\n",
       "      <td>NaN</td>\n",
       "      <td>f_nat</td>\n",
       "      <td>MDF</td>\n",
       "      <td>NaN</td>\n",
       "      <td>no</td>\n",
       "      <td>NaN</td>\n",
       "      <td>NaN</td>\n",
       "      <td>13.0</td>\n",
       "      <td>8.0</td>\n",
       "      <td>4.0</td>\n",
       "    </tr>\n",
       "  </tbody>\n",
       "</table>\n",
       "<p>2 rows × 32 columns</p>\n",
       "</div>"
      ],
      "text/plain": [
       "  unique_id plot_info/data_recorder  plot_info/team_no  \\\n",
       "0     308D2                   Steve                  1   \n",
       "1     308A2                   Steve                  1   \n",
       "\n",
       "   plot_info/plot_code_nmbr plot_info/plot_type plot_info/sub_plot  \\\n",
       "0                       308             primary          sub_plotD   \n",
       "1                       308             primary          sub_plotA   \n",
       "\n",
       "  plot_info/yes_no plot_shift/sub_plot_shift  plot_GPS/GPS_waypt  \\\n",
       "0              yes                  no_shift                 7.0   \n",
       "1              yes                  no_shift                 8.0   \n",
       "\n",
       "   plot_GPS/GPS_id  ... access/manual_reason  lc_data/lc_type  \\\n",
       "0              1.0  ...                  NaN          f_plant   \n",
       "1              1.0  ...                  NaN            f_nat   \n",
       "\n",
       "   lc_class/lc_class  lc_class/lc_class_other  disturbance/disturbance_yesno  \\\n",
       "0                 FC                      NaN                            NaN   \n",
       "1                MDF                      NaN                             no   \n",
       "\n",
       "  disturbance_data/disturbance_type disturbance_class/disturbance_class  \\\n",
       "0                               NaN                                 NaN   \n",
       "1                               NaN                                 NaN   \n",
       "\n",
       "  slope/slope canopy/avg_height canopy/can_cov  \n",
       "0        23.0              12.0            3.0  \n",
       "1        13.0               8.0            4.0  \n",
       "\n",
       "[2 rows x 32 columns]"
      ]
     },
     "execution_count": 10,
     "metadata": {},
     "output_type": "execute_result"
    }
   ],
   "source": [
    "plot_info.head(2)"
   ]
  },
  {
   "cell_type": "markdown",
   "metadata": {},
   "source": [
    "# Extract info per carbon pool"
   ]
  },
  {
   "cell_type": "markdown",
   "metadata": {},
   "source": [
    "# Living Trees"
   ]
  },
  {
   "cell_type": "code",
   "execution_count": 11,
   "metadata": {},
   "outputs": [],
   "source": [
    "trees = extract_trees(data, NESTS)"
   ]
  },
  {
   "cell_type": "code",
   "execution_count": 12,
   "metadata": {},
   "outputs": [
    {
     "name": "stdout",
     "output_type": "stream",
     "text": [
      "<class 'pandas.core.frame.DataFrame'>\n",
      "RangeIndex: 6579 entries, 0 to 6578\n",
      "Data columns (total 5 columns):\n",
      " #   Column        Non-Null Count  Dtype  \n",
      "---  ------        --------------  -----  \n",
      " 0   unique_id     6579 non-null   object \n",
      " 1   nest          6579 non-null   int64  \n",
      " 2   species_name  5718 non-null   float64\n",
      " 3   family_name   1330 non-null   float64\n",
      " 4   DBH           6579 non-null   float64\n",
      "dtypes: float64(3), int64(1), object(1)\n",
      "memory usage: 257.1+ KB\n"
     ]
    },
    {
     "data": {
      "text/plain": [
       "(None,\n",
       "   unique_id  nest  species_name  family_name   DBH\n",
       " 0     308D2     2           NaN         25.0  10.8\n",
       " 1     308D2     2           NaN         25.0  17.3)"
      ]
     },
     "execution_count": 12,
     "metadata": {},
     "output_type": "execute_result"
    }
   ],
   "source": [
    "trees.info(), trees.head(2)"
   ]
  },
  {
   "cell_type": "code",
   "execution_count": 13,
   "metadata": {},
   "outputs": [
    {
     "data": {
      "text/html": [
       "<div>\n",
       "<style scoped>\n",
       "    .dataframe tbody tr th:only-of-type {\n",
       "        vertical-align: middle;\n",
       "    }\n",
       "\n",
       "    .dataframe tbody tr th {\n",
       "        vertical-align: top;\n",
       "    }\n",
       "\n",
       "    .dataframe thead th {\n",
       "        text-align: right;\n",
       "    }\n",
       "</style>\n",
       "<table border=\"1\" class=\"dataframe\">\n",
       "  <thead>\n",
       "    <tr style=\"text-align: right;\">\n",
       "      <th></th>\n",
       "      <th>nest</th>\n",
       "      <th>species_name</th>\n",
       "      <th>family_name</th>\n",
       "      <th>DBH</th>\n",
       "    </tr>\n",
       "  </thead>\n",
       "  <tbody>\n",
       "    <tr>\n",
       "      <th>count</th>\n",
       "      <td>6579.000000</td>\n",
       "      <td>5718.000000</td>\n",
       "      <td>1330.000000</td>\n",
       "      <td>6579.000000</td>\n",
       "    </tr>\n",
       "    <tr>\n",
       "      <th>mean</th>\n",
       "      <td>2.736434</td>\n",
       "      <td>326.618573</td>\n",
       "      <td>84.354135</td>\n",
       "      <td>40.478231</td>\n",
       "    </tr>\n",
       "    <tr>\n",
       "      <th>std</th>\n",
       "      <td>0.713525</td>\n",
       "      <td>269.467916</td>\n",
       "      <td>228.708801</td>\n",
       "      <td>25.398493</td>\n",
       "    </tr>\n",
       "    <tr>\n",
       "      <th>min</th>\n",
       "      <td>2.000000</td>\n",
       "      <td>2.000000</td>\n",
       "      <td>2.000000</td>\n",
       "      <td>10.000000</td>\n",
       "    </tr>\n",
       "    <tr>\n",
       "      <th>25%</th>\n",
       "      <td>2.000000</td>\n",
       "      <td>194.000000</td>\n",
       "      <td>22.000000</td>\n",
       "      <td>19.800000</td>\n",
       "    </tr>\n",
       "    <tr>\n",
       "      <th>50%</th>\n",
       "      <td>3.000000</td>\n",
       "      <td>280.000000</td>\n",
       "      <td>22.000000</td>\n",
       "      <td>35.900000</td>\n",
       "    </tr>\n",
       "    <tr>\n",
       "      <th>75%</th>\n",
       "      <td>3.000000</td>\n",
       "      <td>313.000000</td>\n",
       "      <td>33.000000</td>\n",
       "      <td>52.900000</td>\n",
       "    </tr>\n",
       "    <tr>\n",
       "      <th>max</th>\n",
       "      <td>4.000000</td>\n",
       "      <td>999.000000</td>\n",
       "      <td>999.000000</td>\n",
       "      <td>199.000000</td>\n",
       "    </tr>\n",
       "  </tbody>\n",
       "</table>\n",
       "</div>"
      ],
      "text/plain": [
       "              nest  species_name  family_name          DBH\n",
       "count  6579.000000   5718.000000  1330.000000  6579.000000\n",
       "mean      2.736434    326.618573    84.354135    40.478231\n",
       "std       0.713525    269.467916   228.708801    25.398493\n",
       "min       2.000000      2.000000     2.000000    10.000000\n",
       "25%       2.000000    194.000000    22.000000    19.800000\n",
       "50%       3.000000    280.000000    22.000000    35.900000\n",
       "75%       3.000000    313.000000    33.000000    52.900000\n",
       "max       4.000000    999.000000   999.000000   199.000000"
      ]
     },
     "execution_count": 13,
     "metadata": {},
     "output_type": "execute_result"
    }
   ],
   "source": [
    "trees.describe()"
   ]
  },
  {
   "cell_type": "markdown",
   "metadata": {},
   "source": [
    "## Export data and upload to BQ"
   ]
  },
  {
   "cell_type": "code",
   "execution_count": 14,
   "metadata": {},
   "outputs": [],
   "source": [
    "# Export to CSV\n",
    "trees.to_csv(CARBON_POOLS_OUTDIR / \"trees.csv\", index=False)"
   ]
  },
  {
   "cell_type": "code",
   "execution_count": null,
   "metadata": {},
   "outputs": [],
   "source": [
    "# Upload to BQ\n",
    "pandas_gbq.to_gbq(trees, f\"{DATASET_ID}.trees\", project_id=GCP_PROJ_ID)"
   ]
  },
  {
   "cell_type": "markdown",
   "metadata": {},
   "source": [
    "# Tree Stumps"
   ]
  },
  {
   "cell_type": "markdown",
   "metadata": {},
   "source": [
    "note (delete when addressed): removed `'biomass_per_kg_tree': [biomass_per_kg_tree],`. In the original code there was a placeholder column created, this can be added later in the process when biomass per tree is actually calculated"
   ]
  },
  {
   "cell_type": "code",
   "execution_count": 16,
   "metadata": {},
   "outputs": [],
   "source": [
    "stumps = extract_stumps(data, NESTS)"
   ]
  },
  {
   "cell_type": "code",
   "execution_count": 17,
   "metadata": {},
   "outputs": [
    {
     "name": "stdout",
     "output_type": "stream",
     "text": [
      "<class 'pandas.core.frame.DataFrame'>\n",
      "RangeIndex: 1754 entries, 0 to 1753\n",
      "Data columns (total 11 columns):\n",
      " #   Column         Non-Null Count  Dtype  \n",
      "---  ------         --------------  -----  \n",
      " 0   unique_id      1754 non-null   object \n",
      " 1   nest           1754 non-null   int64  \n",
      " 2   Diam1          1754 non-null   float64\n",
      " 3   Diam2          1754 non-null   float64\n",
      " 4   slope          1754 non-null   float64\n",
      " 5   height         1754 non-null   float64\n",
      " 6   cut_cl         1754 non-null   object \n",
      " 7   hollow_go      1754 non-null   object \n",
      " 8   hollow_d1      171 non-null    float64\n",
      " 9   hollow_d2      171 non-null    float64\n",
      " 10  stump_density  1754 non-null   float64\n",
      "dtypes: float64(7), int64(1), object(3)\n",
      "memory usage: 150.9+ KB\n"
     ]
    },
    {
     "data": {
      "text/plain": [
       "(None,\n",
       "   unique_id  nest  Diam1  Diam2  slope  height   cut_cl hollow_go  hollow_d1  \\\n",
       " 0     308C2     2   30.0   29.0   43.0    18.0  saw_axe        no        NaN   \n",
       " 1     249B2     2   15.0   10.0   51.0    80.0  saw_axe        no        NaN   \n",
       " \n",
       "    hollow_d2  stump_density  \n",
       " 0        NaN            1.0  \n",
       " 1        NaN            3.0  )"
      ]
     },
     "execution_count": 17,
     "metadata": {},
     "output_type": "execute_result"
    }
   ],
   "source": [
    "stumps.info(), stumps.head(2)"
   ]
  },
  {
   "cell_type": "code",
   "execution_count": 18,
   "metadata": {},
   "outputs": [
    {
     "data": {
      "text/html": [
       "<div>\n",
       "<style scoped>\n",
       "    .dataframe tbody tr th:only-of-type {\n",
       "        vertical-align: middle;\n",
       "    }\n",
       "\n",
       "    .dataframe tbody tr th {\n",
       "        vertical-align: top;\n",
       "    }\n",
       "\n",
       "    .dataframe thead th {\n",
       "        text-align: right;\n",
       "    }\n",
       "</style>\n",
       "<table border=\"1\" class=\"dataframe\">\n",
       "  <thead>\n",
       "    <tr style=\"text-align: right;\">\n",
       "      <th></th>\n",
       "      <th>nest</th>\n",
       "      <th>Diam1</th>\n",
       "      <th>Diam2</th>\n",
       "      <th>slope</th>\n",
       "      <th>height</th>\n",
       "      <th>hollow_d1</th>\n",
       "      <th>hollow_d2</th>\n",
       "      <th>stump_density</th>\n",
       "    </tr>\n",
       "  </thead>\n",
       "  <tbody>\n",
       "    <tr>\n",
       "      <th>count</th>\n",
       "      <td>1754.000000</td>\n",
       "      <td>1754.000000</td>\n",
       "      <td>1754.000000</td>\n",
       "      <td>1754.000000</td>\n",
       "      <td>1754.000000</td>\n",
       "      <td>171.000000</td>\n",
       "      <td>171.000000</td>\n",
       "      <td>1754.000000</td>\n",
       "    </tr>\n",
       "    <tr>\n",
       "      <th>mean</th>\n",
       "      <td>3.111745</td>\n",
       "      <td>40.575610</td>\n",
       "      <td>36.617423</td>\n",
       "      <td>32.697834</td>\n",
       "      <td>83.215314</td>\n",
       "      <td>36.059532</td>\n",
       "      <td>33.773450</td>\n",
       "      <td>2.128848</td>\n",
       "    </tr>\n",
       "    <tr>\n",
       "      <th>std</th>\n",
       "      <td>0.636456</td>\n",
       "      <td>28.664704</td>\n",
       "      <td>24.662826</td>\n",
       "      <td>18.110894</td>\n",
       "      <td>40.670748</td>\n",
       "      <td>23.908597</td>\n",
       "      <td>21.810063</td>\n",
       "      <td>0.791743</td>\n",
       "    </tr>\n",
       "    <tr>\n",
       "      <th>min</th>\n",
       "      <td>2.000000</td>\n",
       "      <td>10.000000</td>\n",
       "      <td>10.000000</td>\n",
       "      <td>1.000000</td>\n",
       "      <td>1.500000</td>\n",
       "      <td>5.000000</td>\n",
       "      <td>5.000000</td>\n",
       "      <td>1.000000</td>\n",
       "    </tr>\n",
       "    <tr>\n",
       "      <th>25%</th>\n",
       "      <td>3.000000</td>\n",
       "      <td>20.000000</td>\n",
       "      <td>18.700000</td>\n",
       "      <td>16.000000</td>\n",
       "      <td>52.000000</td>\n",
       "      <td>18.550000</td>\n",
       "      <td>18.250000</td>\n",
       "      <td>1.000000</td>\n",
       "    </tr>\n",
       "    <tr>\n",
       "      <th>50%</th>\n",
       "      <td>3.000000</td>\n",
       "      <td>32.000000</td>\n",
       "      <td>30.000000</td>\n",
       "      <td>33.000000</td>\n",
       "      <td>80.000000</td>\n",
       "      <td>30.000000</td>\n",
       "      <td>30.000000</td>\n",
       "      <td>2.000000</td>\n",
       "    </tr>\n",
       "    <tr>\n",
       "      <th>75%</th>\n",
       "      <td>4.000000</td>\n",
       "      <td>53.725000</td>\n",
       "      <td>48.875000</td>\n",
       "      <td>47.000000</td>\n",
       "      <td>110.000000</td>\n",
       "      <td>48.000000</td>\n",
       "      <td>43.000000</td>\n",
       "      <td>3.000000</td>\n",
       "    </tr>\n",
       "    <tr>\n",
       "      <th>max</th>\n",
       "      <td>4.000000</td>\n",
       "      <td>195.000000</td>\n",
       "      <td>198.000000</td>\n",
       "      <td>80.000000</td>\n",
       "      <td>199.100000</td>\n",
       "      <td>160.000000</td>\n",
       "      <td>150.000000</td>\n",
       "      <td>3.000000</td>\n",
       "    </tr>\n",
       "  </tbody>\n",
       "</table>\n",
       "</div>"
      ],
      "text/plain": [
       "              nest        Diam1        Diam2        slope       height  \\\n",
       "count  1754.000000  1754.000000  1754.000000  1754.000000  1754.000000   \n",
       "mean      3.111745    40.575610    36.617423    32.697834    83.215314   \n",
       "std       0.636456    28.664704    24.662826    18.110894    40.670748   \n",
       "min       2.000000    10.000000    10.000000     1.000000     1.500000   \n",
       "25%       3.000000    20.000000    18.700000    16.000000    52.000000   \n",
       "50%       3.000000    32.000000    30.000000    33.000000    80.000000   \n",
       "75%       4.000000    53.725000    48.875000    47.000000   110.000000   \n",
       "max       4.000000   195.000000   198.000000    80.000000   199.100000   \n",
       "\n",
       "        hollow_d1   hollow_d2  stump_density  \n",
       "count  171.000000  171.000000    1754.000000  \n",
       "mean    36.059532   33.773450       2.128848  \n",
       "std     23.908597   21.810063       0.791743  \n",
       "min      5.000000    5.000000       1.000000  \n",
       "25%     18.550000   18.250000       1.000000  \n",
       "50%     30.000000   30.000000       2.000000  \n",
       "75%     48.000000   43.000000       3.000000  \n",
       "max    160.000000  150.000000       3.000000  "
      ]
     },
     "execution_count": 18,
     "metadata": {},
     "output_type": "execute_result"
    }
   ],
   "source": [
    "stumps.describe()"
   ]
  },
  {
   "cell_type": "markdown",
   "metadata": {},
   "source": [
    "## Export data and upload to BQ"
   ]
  },
  {
   "cell_type": "code",
   "execution_count": null,
   "metadata": {},
   "outputs": [],
   "source": [
    "# Export to CSV\n",
    "stumps.to_csv(CARBON_POOLS_OUTDIR / \"stumps.csv\", index=False)"
   ]
  },
  {
   "cell_type": "code",
   "execution_count": null,
   "metadata": {},
   "outputs": [],
   "source": [
    "# Upload to BQ\n",
    "pandas_gbq.to_gbq(stumps, f\"{DATASET_ID}.stumps\", project_id=GCP_PROJ_ID)"
   ]
  },
  {
   "cell_type": "markdown",
   "metadata": {},
   "source": [
    "# Dead Trees: Class 1"
   ]
  },
  {
   "cell_type": "code",
   "execution_count": 19,
   "metadata": {},
   "outputs": [
    {
     "name": "stdout",
     "output_type": "stream",
     "text": [
      "No class 1 dead trees found in nest 2\n"
     ]
    }
   ],
   "source": [
    "dead_trees_c1 = extract_dead_trees_class1(data, NESTS)"
   ]
  },
  {
   "cell_type": "code",
   "execution_count": 20,
   "metadata": {},
   "outputs": [
    {
     "name": "stdout",
     "output_type": "stream",
     "text": [
      "<class 'pandas.core.frame.DataFrame'>\n",
      "RangeIndex: 2 entries, 0 to 1\n",
      "Data columns (total 6 columns):\n",
      " #   Column        Non-Null Count  Dtype  \n",
      "---  ------        --------------  -----  \n",
      " 0   unique_id     2 non-null      object \n",
      " 1   nest          2 non-null      int64  \n",
      " 2   species_name  2 non-null      float64\n",
      " 3   DBH_cl1       2 non-null      float64\n",
      " 4   class         2 non-null      int64  \n",
      " 5   subclass      2 non-null      object \n",
      "dtypes: float64(2), int64(2), object(2)\n",
      "memory usage: 228.0+ bytes\n"
     ]
    },
    {
     "data": {
      "text/plain": [
       "(None,\n",
       "   unique_id  nest  species_name  DBH_cl1  class subclass\n",
       " 0     290C2     3         145.0     38.0      1      n/a\n",
       " 1     290C2     4         177.0     58.8      1      n/a)"
      ]
     },
     "execution_count": 20,
     "metadata": {},
     "output_type": "execute_result"
    }
   ],
   "source": [
    "dead_trees_c1.info(), dead_trees_c1.head(2)"
   ]
  },
  {
   "cell_type": "code",
   "execution_count": 21,
   "metadata": {},
   "outputs": [
    {
     "data": {
      "text/html": [
       "<div>\n",
       "<style scoped>\n",
       "    .dataframe tbody tr th:only-of-type {\n",
       "        vertical-align: middle;\n",
       "    }\n",
       "\n",
       "    .dataframe tbody tr th {\n",
       "        vertical-align: top;\n",
       "    }\n",
       "\n",
       "    .dataframe thead th {\n",
       "        text-align: right;\n",
       "    }\n",
       "</style>\n",
       "<table border=\"1\" class=\"dataframe\">\n",
       "  <thead>\n",
       "    <tr style=\"text-align: right;\">\n",
       "      <th></th>\n",
       "      <th>nest</th>\n",
       "      <th>species_name</th>\n",
       "      <th>DBH_cl1</th>\n",
       "      <th>class</th>\n",
       "    </tr>\n",
       "  </thead>\n",
       "  <tbody>\n",
       "    <tr>\n",
       "      <th>count</th>\n",
       "      <td>2.000000</td>\n",
       "      <td>2.000000</td>\n",
       "      <td>2.000000</td>\n",
       "      <td>2.0</td>\n",
       "    </tr>\n",
       "    <tr>\n",
       "      <th>mean</th>\n",
       "      <td>3.500000</td>\n",
       "      <td>161.000000</td>\n",
       "      <td>48.400000</td>\n",
       "      <td>1.0</td>\n",
       "    </tr>\n",
       "    <tr>\n",
       "      <th>std</th>\n",
       "      <td>0.707107</td>\n",
       "      <td>22.627417</td>\n",
       "      <td>14.707821</td>\n",
       "      <td>0.0</td>\n",
       "    </tr>\n",
       "    <tr>\n",
       "      <th>min</th>\n",
       "      <td>3.000000</td>\n",
       "      <td>145.000000</td>\n",
       "      <td>38.000000</td>\n",
       "      <td>1.0</td>\n",
       "    </tr>\n",
       "    <tr>\n",
       "      <th>25%</th>\n",
       "      <td>3.250000</td>\n",
       "      <td>153.000000</td>\n",
       "      <td>43.200000</td>\n",
       "      <td>1.0</td>\n",
       "    </tr>\n",
       "    <tr>\n",
       "      <th>50%</th>\n",
       "      <td>3.500000</td>\n",
       "      <td>161.000000</td>\n",
       "      <td>48.400000</td>\n",
       "      <td>1.0</td>\n",
       "    </tr>\n",
       "    <tr>\n",
       "      <th>75%</th>\n",
       "      <td>3.750000</td>\n",
       "      <td>169.000000</td>\n",
       "      <td>53.600000</td>\n",
       "      <td>1.0</td>\n",
       "    </tr>\n",
       "    <tr>\n",
       "      <th>max</th>\n",
       "      <td>4.000000</td>\n",
       "      <td>177.000000</td>\n",
       "      <td>58.800000</td>\n",
       "      <td>1.0</td>\n",
       "    </tr>\n",
       "  </tbody>\n",
       "</table>\n",
       "</div>"
      ],
      "text/plain": [
       "           nest  species_name    DBH_cl1  class\n",
       "count  2.000000      2.000000   2.000000    2.0\n",
       "mean   3.500000    161.000000  48.400000    1.0\n",
       "std    0.707107     22.627417  14.707821    0.0\n",
       "min    3.000000    145.000000  38.000000    1.0\n",
       "25%    3.250000    153.000000  43.200000    1.0\n",
       "50%    3.500000    161.000000  48.400000    1.0\n",
       "75%    3.750000    169.000000  53.600000    1.0\n",
       "max    4.000000    177.000000  58.800000    1.0"
      ]
     },
     "execution_count": 21,
     "metadata": {},
     "output_type": "execute_result"
    }
   ],
   "source": [
    "dead_trees_c1.describe()"
   ]
  },
  {
   "cell_type": "markdown",
   "metadata": {},
   "source": [
    "## Export data and upload to BQ"
   ]
  },
  {
   "cell_type": "code",
   "execution_count": null,
   "metadata": {},
   "outputs": [],
   "source": [
    "dead_trees_c1.to_csv(CARBON_POOLS_OUTDIR / \"dead_trees_class1.csv\", index=False)"
   ]
  },
  {
   "cell_type": "code",
   "execution_count": null,
   "metadata": {},
   "outputs": [],
   "source": [
    "# Upload to BQ\n",
    "pandas_gbq.to_gbq(dead_trees_c1, f\"{DATASET_ID}.dead_trees_c1\", project_id=GCP_PROJ_ID)"
   ]
  },
  {
   "cell_type": "markdown",
   "metadata": {},
   "source": [
    "# Dead Trees: Class 2"
   ]
  },
  {
   "cell_type": "code",
   "execution_count": 22,
   "metadata": {},
   "outputs": [
    {
     "name": "stdout",
     "output_type": "stream",
     "text": [
      "No dead trees of class 2 found in nest 2\n",
      "No dead trees of class 2 found in nest 3\n",
      "No dead trees of class 2 found in nest 4\n"
     ]
    }
   ],
   "source": [
    "dead_trees_c2 = extract_dead_trees_class2(data, NESTS)"
   ]
  },
  {
   "cell_type": "code",
   "execution_count": 23,
   "metadata": {},
   "outputs": [
    {
     "name": "stdout",
     "output_type": "stream",
     "text": [
      "<class 'pandas.core.frame.DataFrame'>\n",
      "RangeIndex: 0 entries\n",
      "Empty DataFrame\n"
     ]
    },
    {
     "data": {
      "text/plain": [
       "(None,\n",
       " Empty DataFrame\n",
       " Columns: []\n",
       " Index: [])"
      ]
     },
     "execution_count": 23,
     "metadata": {},
     "output_type": "execute_result"
    }
   ],
   "source": [
    "dead_trees_c2.info(), dead_trees_c2.head(2)"
   ]
  },
  {
   "cell_type": "markdown",
   "metadata": {},
   "source": [
    "## Export data and upload to BQ"
   ]
  },
  {
   "cell_type": "code",
   "execution_count": null,
   "metadata": {},
   "outputs": [],
   "source": [
    "# Export CSV\n",
    "if len(dead_trees_c2) != 0:\n",
    "    dead_trees_c2.to_csv(CARBON_POOLS_OUTDIR / \"dead_trees_class2.csv\", index=False)"
   ]
  },
  {
   "cell_type": "code",
   "execution_count": null,
   "metadata": {},
   "outputs": [],
   "source": [
    "# Upload to BQ\n",
    "if len(dead_trees_c2) != 0:\n",
    "    pandas_gbq.to_gbq(\n",
    "        dead_trees_c2, f\"{DATASET_ID}.dead_trees_c2\", project_id=GCP_PROJ_ID\n",
    "    )"
   ]
  },
  {
   "cell_type": "markdown",
   "metadata": {},
   "source": [
    "# Dead Trees: Class 3"
   ]
  },
  {
   "cell_type": "code",
   "execution_count": null,
   "metadata": {},
   "outputs": [],
   "source": [
    "dead_trees_c3 = extract_dead_trees_c3(data, NESTS)"
   ]
  },
  {
   "cell_type": "code",
   "execution_count": null,
   "metadata": {},
   "outputs": [
    {
     "name": "stdout",
     "output_type": "stream",
     "text": [
      "<class 'pandas.core.frame.DataFrame'>\n",
      "RangeIndex: 254 entries, 0 to 253\n",
      "Data columns (total 11 columns):\n",
      " #   Column        Non-Null Count  Dtype  \n",
      "---  ------        --------------  -----  \n",
      " 0   unique_id     254 non-null    object \n",
      " 1   nest          254 non-null    int64  \n",
      " 2   species_name  201 non-null    float64\n",
      " 3   family_name   12 non-null     float64\n",
      " 4   dbh_tall      254 non-null    float64\n",
      " 5   db_tall       254 non-null    float64\n",
      " 6   tall_density  254 non-null    float64\n",
      " 7   slope_t_tall  254 non-null    float64\n",
      " 8   slope_b_tall  254 non-null    float64\n",
      " 9   dist_t_tall   254 non-null    float64\n",
      " 10  class         254 non-null    int64  \n",
      "dtypes: float64(8), int64(2), object(1)\n",
      "memory usage: 22.0+ KB\n"
     ]
    },
    {
     "data": {
      "text/plain": [
       "(None,\n",
       "   unique_id  nest  species_name  family_name  dbh_tall  db_tall  tall_density  \\\n",
       " 0     368A2     2         999.0          NaN      21.9     24.1           1.0   \n",
       " 1     281A2     2           NaN          NaN      32.6     40.8           1.0   \n",
       " \n",
       "    slope_t_tall  slope_b_tall  dist_t_tall  class  \n",
       " 0          61.0          56.0         10.0      2  \n",
       " 1         115.0          20.0          9.3      2  )"
      ]
     },
     "execution_count": 9,
     "metadata": {},
     "output_type": "execute_result"
    }
   ],
   "source": [
    "dead_trees_c3.info(), dead_trees_c3.head(2)"
   ]
  },
  {
   "cell_type": "markdown",
   "metadata": {},
   "source": [
    "## Export data and upload to BQ"
   ]
  },
  {
   "cell_type": "code",
   "execution_count": null,
   "metadata": {},
   "outputs": [],
   "source": [
    "# Export CSV\n",
    "if len(dead_trees_c3) != 0:\n",
    "    dead_trees_c3.to_csv(CARBON_POOLS_OUTDIR / \"dead_trees_class3.csv\", index=False)"
   ]
  },
  {
   "cell_type": "code",
   "execution_count": null,
   "metadata": {},
   "outputs": [
    {
     "name": "stderr",
     "output_type": "stream",
     "text": [
      "100%|██████████| 1/1 [00:00<00:00, 10205.12it/s]\n"
     ]
    }
   ],
   "source": [
    "# Upload to BQ\n",
    "if len(dead_trees_c3) != 0:\n",
    "    pandas_gbq.to_gbq(\n",
    "        dead_trees_c3, f\"{DATASET_ID}.dead_trees_c3\", project_id=GCP_PROJ_ID\n",
    "    )"
   ]
  },
  {
   "cell_type": "markdown",
   "metadata": {},
   "source": [
    "# Lying Deadwood: Hollow"
   ]
  },
  {
   "cell_type": "code",
   "execution_count": null,
   "metadata": {},
   "outputs": [],
   "source": [
    "ldw_hollow = extract_ldw_with_hollow(data)"
   ]
  },
  {
   "cell_type": "code",
   "execution_count": null,
   "metadata": {},
   "outputs": [
    {
     "name": "stdout",
     "output_type": "stream",
     "text": [
      "<class 'pandas.core.frame.DataFrame'>\n",
      "RangeIndex: 15 entries, 0 to 14\n",
      "Data columns (total 8 columns):\n",
      " #   Column      Non-Null Count  Dtype  \n",
      "---  ------      --------------  -----  \n",
      " 0   unique_id   15 non-null     object \n",
      " 1   repetition  15 non-null     int64  \n",
      " 2   type        15 non-null     object \n",
      " 3   class       15 non-null     object \n",
      " 4   hollow_d1   15 non-null     float64\n",
      " 5   hollow_d2   15 non-null     float64\n",
      " 6   diameter    15 non-null     float64\n",
      " 7   density     15 non-null     float64\n",
      "dtypes: float64(4), int64(1), object(3)\n",
      "memory usage: 1.1+ KB\n"
     ]
    },
    {
     "data": {
      "text/plain": [
       "(None,\n",
       "   unique_id  repetition type class  hollow_d1  hollow_d2  diameter  density\n",
       " 0     249D2           1  tr2   MDF       12.0       10.0      16.7      3.0\n",
       " 1     290A2           2  tr2   MCB       68.0       28.0      62.0      1.0)"
      ]
     },
     "execution_count": 49,
     "metadata": {},
     "output_type": "execute_result"
    }
   ],
   "source": [
    "ldw_hollow.info(), ldw_hollow.head(2)"
   ]
  },
  {
   "cell_type": "markdown",
   "metadata": {},
   "source": [
    "## Export data and upload to BQ"
   ]
  },
  {
   "cell_type": "code",
   "execution_count": null,
   "metadata": {},
   "outputs": [],
   "source": [
    "# Export CSV\n",
    "if len(ldw_hollow) != 0:\n",
    "    ldw_hollow.to_csv(CARBON_POOLS_OUTDIR / \"lying_deadwood_hollow.csv\", index=False)"
   ]
  },
  {
   "cell_type": "code",
   "execution_count": null,
   "metadata": {},
   "outputs": [
    {
     "name": "stderr",
     "output_type": "stream",
     "text": [
      "100%|██████████| 1/1 [00:00<00:00, 14665.40it/s]\n"
     ]
    }
   ],
   "source": [
    "# Upload to BQ\n",
    "if len(ldw_hollow) != 0:\n",
    "    pandas_gbq.to_gbq(\n",
    "        ldw_hollow, f\"{DATASET_ID}.lying_deadwood_hollow\", project_id=GCP_PROJ_ID\n",
    "    )"
   ]
  },
  {
   "cell_type": "markdown",
   "metadata": {},
   "source": [
    "# Lying Deadwood without hollow"
   ]
  },
  {
   "cell_type": "code",
   "execution_count": 39,
   "metadata": {},
   "outputs": [],
   "source": [
    "ldw_wo_hollow = extract_ldw_wo_hollow(data)"
   ]
  },
  {
   "cell_type": "code",
   "execution_count": 38,
   "metadata": {},
   "outputs": [
    {
     "name": "stdout",
     "output_type": "stream",
     "text": [
      "<class 'pandas.core.frame.DataFrame'>\n",
      "RangeIndex: 1826 entries, 0 to 1825\n",
      "Data columns (total 6 columns):\n",
      " #   Column      Non-Null Count  Dtype  \n",
      "---  ------      --------------  -----  \n",
      " 0   unique_id   1826 non-null   object \n",
      " 1   repetition  1826 non-null   int64  \n",
      " 2   type        1826 non-null   object \n",
      " 3   class       1826 non-null   object \n",
      " 4   diameter    1826 non-null   float64\n",
      " 5   density     1826 non-null   float64\n",
      "dtypes: float64(2), int64(1), object(3)\n",
      "memory usage: 85.7+ KB\n"
     ]
    },
    {
     "data": {
      "text/plain": [
       "(None,\n",
       "   unique_id  repetition type class  diameter  density\n",
       " 0     308D2           1  tr1    FC      16.5      3.0\n",
       " 1     308D2           2  tr1    FC      18.3      3.0)"
      ]
     },
     "execution_count": 38,
     "metadata": {},
     "output_type": "execute_result"
    }
   ],
   "source": [
    "ldw_wo_hollow.info(), ldw_wo_hollow.head(2)"
   ]
  },
  {
   "cell_type": "markdown",
   "metadata": {},
   "source": [
    "## Export data and upload to BQ"
   ]
  },
  {
   "cell_type": "code",
   "execution_count": 40,
   "metadata": {},
   "outputs": [],
   "source": [
    "# Export CSV\n",
    "if len(ldw_without_hollow) != 0:\n",
    "    ldw_wo_hollow.to_csv(\n",
    "        CARBON_POOLS_OUTDIR / \"lying_deadwood_wo_hollow.csv\", index=False\n",
    "    )"
   ]
  },
  {
   "cell_type": "code",
   "execution_count": 41,
   "metadata": {},
   "outputs": [
    {
     "name": "stderr",
     "output_type": "stream",
     "text": [
      "100%|██████████| 1/1 [00:00<00:00, 6278.90it/s]\n"
     ]
    }
   ],
   "source": [
    "# Upload to BQ\n",
    "if len(ldw_wo_hollow) != 0:\n",
    "    pandas_gbq.to_gbq(\n",
    "        ldw_wo_hollow, f\"{DATASET_ID}.lying_deadwood_wo_hollow\", project_id=GCP_PROJ_ID\n",
    "    )"
   ]
  }
 ],
 "metadata": {
  "kernelspec": {
   "display_name": "onebase",
   "language": "python",
   "name": "python3"
  },
  "language_info": {
   "codemirror_mode": {
    "name": "ipython",
    "version": 3
   },
   "file_extension": ".py",
   "mimetype": "text/x-python",
   "name": "python",
   "nbconvert_exporter": "python",
   "pygments_lexer": "ipython3",
   "version": "3.12.4"
  }
 },
 "nbformat": 4,
 "nbformat_minor": 2
}
