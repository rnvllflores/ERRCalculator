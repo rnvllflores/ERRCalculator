{
 "cells": [
  {
   "cell_type": "markdown",
   "metadata": {},
   "source": [
    "# Preprocess ODK data to organized tables"
   ]
  },
  {
   "cell_type": "markdown",
   "metadata": {},
   "source": [
    "This script downloads the biomass inventory data collected on the ground using ODK and processes it to extract individual measurements for each carbon pool, per plot"
   ]
  },
  {
   "cell_type": "markdown",
   "metadata": {},
   "source": [
    "# Imports and Set-up"
   ]
  },
  {
   "cell_type": "code",
   "execution_count": 1,
   "metadata": {},
   "outputs": [],
   "source": [
    "# Standard Imports\n",
    "import sys\n",
    "import urllib.request\n",
    "import pandas as pd\n",
    "import numpy as np\n",
    "from math import atan\n",
    "\n",
    "# geospatial imports\n",
    "import geopandas as gpd\n",
    "\n",
    "# Google Cloud Imports\n",
    "import pandas_gbq"
   ]
  },
  {
   "cell_type": "code",
   "execution_count": 2,
   "metadata": {},
   "outputs": [],
   "source": [
    "# Util imports\n",
    "sys.path.append(\"../../\")  # include parent directory\n",
    "from src.settings import DATA_DIR, GCP_PROJ_ID, CARBON_POOLS_OUTDIR\n",
    "from src.odk_data_parsing import (\n",
    "    extract_trees,\n",
    "    extract_stumps,\n",
    "    extract_dead_trees_class1,\n",
    "    extract_dead_trees_class2s,\n",
    "    extract_dead_trees_class2t,\n",
    "    extract_ldw_with_hollow,\n",
    "    extract_ldw_wo_hollow,\n",
    ")"
   ]
  },
  {
   "cell_type": "code",
   "execution_count": 3,
   "metadata": {},
   "outputs": [],
   "source": [
    "# Variables\n",
    "URL = \"https://api.ona.io/api/v1/data/763932.csv\"\n",
    "FILE_RAW = DATA_DIR / \"csv\" / \"biomass_inventory_raw.csv\"\n",
    "NESTS = [2, 3, 4]\n",
    "\n",
    "# BigQuery Variables\n",
    "DATASET_ID = \"biomass_inventory\"\n",
    "IF_EXISTS = \"replace\""
   ]
  },
  {
   "cell_type": "markdown",
   "metadata": {},
   "source": [
    "## Get Data from ONA"
   ]
  },
  {
   "cell_type": "code",
   "execution_count": 4,
   "metadata": {},
   "outputs": [],
   "source": [
    "column_types = {\n",
    "    col: str\n",
    "    for col in (\n",
    "        28,\n",
    "        399,\n",
    "        400,\n",
    "        407,\n",
    "        408,\n",
    "        415,\n",
    "        416,\n",
    "        845,\n",
    "        846,\n",
    "        853,\n",
    "        854,\n",
    "        861,\n",
    "        862,\n",
    "        869,\n",
    "        870,\n",
    "        877,\n",
    "        878,\n",
    "        885,\n",
    "        886,\n",
    "        893,\n",
    "        894,\n",
    "        901,\n",
    "        902,\n",
    "        909,\n",
    "        910,\n",
    "        1179,\n",
    "        1180,\n",
    "        1187,\n",
    "        1188,\n",
    "        1195,\n",
    "        1196,\n",
    "        1203,\n",
    "        1204,\n",
    "        1211,\n",
    "        1212,\n",
    "        1219,\n",
    "        1220,\n",
    "        1286,\n",
    "        1337,\n",
    "        1342,\n",
    "        1347,\n",
    "        1352,\n",
    "        1357,\n",
    "        1362,\n",
    "        1378,\n",
    "        1392,\n",
    "    )\n",
    "}"
   ]
  },
  {
   "cell_type": "code",
   "execution_count": 5,
   "metadata": {},
   "outputs": [],
   "source": [
    "if FILE_RAW.exists():\n",
    "    data = pd.read_csv(FILE_RAW, dtype=column_types)\n",
    "else:\n",
    "    urllib.request.urlretrieve(URL, FILE_RAW)\n",
    "    data = pd.read_csv(FILE_RAW, dtype=column_types)"
   ]
  },
  {
   "cell_type": "markdown",
   "metadata": {},
   "source": [
    "## Add a unique ID"
   ]
  },
  {
   "cell_type": "code",
   "execution_count": 6,
   "metadata": {},
   "outputs": [],
   "source": [
    "plot_types = {\"primary\": 1, \"backup\": 2}"
   ]
  },
  {
   "cell_type": "code",
   "execution_count": 7,
   "metadata": {},
   "outputs": [
    {
     "name": "stderr",
     "output_type": "stream",
     "text": [
      "/var/folders/j7/qhtl5rxn31ng6n_d889xc4n40000gn/T/ipykernel_16136/1150447432.py:2: FutureWarning: Downcasting behavior in `replace` is deprecated and will be removed in a future version. To retain the old behavior, explicitly call `result.infer_objects(copy=False)`. To opt-in to the future behavior, set `pd.set_option('future.no_silent_downcasting', True)`\n",
      "  data[\"plot_type_short\"] = data[\"plot_info/plot_type\"].replace(plot_types)\n"
     ]
    }
   ],
   "source": [
    "# Create a new column with \"1\" for Primary and \"2\" for Backup\n",
    "data[\"plot_type_short\"] = data[\"plot_info/plot_type\"].replace(plot_types)\n",
    "\n",
    "# Extract subplot letters (assuming they are included in the 'plot_info.sub_plot' column)\n",
    "data[\"subplot_letter\"] = data[\"plot_info/sub_plot\"].str.replace(\"sub_plot\", \"\")\n",
    "\n",
    "# Create the unique ID by concatenating the specified columns\n",
    "data[\"unique_id\"] = (\n",
    "    data[\"plot_info/plot_code_nmbr\"].astype(str)\n",
    "    + data[\"subplot_letter\"]\n",
    "    + data[\"plot_type_short\"].astype(str)\n",
    ")"
   ]
  },
  {
   "cell_type": "markdown",
   "metadata": {},
   "source": [
    "## Check for duplicate plot IDs"
   ]
  },
  {
   "cell_type": "code",
   "execution_count": 8,
   "metadata": {},
   "outputs": [
    {
     "data": {
      "text/html": [
       "<div>\n",
       "<style scoped>\n",
       "    .dataframe tbody tr th:only-of-type {\n",
       "        vertical-align: middle;\n",
       "    }\n",
       "\n",
       "    .dataframe tbody tr th {\n",
       "        vertical-align: top;\n",
       "    }\n",
       "\n",
       "    .dataframe thead th {\n",
       "        text-align: right;\n",
       "    }\n",
       "</style>\n",
       "<table border=\"1\" class=\"dataframe\">\n",
       "  <thead>\n",
       "    <tr style=\"text-align: right;\">\n",
       "      <th></th>\n",
       "      <th>start</th>\n",
       "      <th>end</th>\n",
       "      <th>today</th>\n",
       "      <th>deviceid</th>\n",
       "      <th>plot_info/data_recorder</th>\n",
       "      <th>plot_info/team_no</th>\n",
       "      <th>plot_info/plot_code_nmbr</th>\n",
       "      <th>plot_info/plot_type</th>\n",
       "      <th>plot_info/sub_plot</th>\n",
       "      <th>plot_info/yes_no</th>\n",
       "      <th>...</th>\n",
       "      <th>_version</th>\n",
       "      <th>_duration</th>\n",
       "      <th>_submitted_by</th>\n",
       "      <th>_total_media</th>\n",
       "      <th>_media_count</th>\n",
       "      <th>_media_all_received</th>\n",
       "      <th>_xform_id</th>\n",
       "      <th>plot_type_short</th>\n",
       "      <th>subplot_letter</th>\n",
       "      <th>unique_id</th>\n",
       "    </tr>\n",
       "  </thead>\n",
       "  <tbody>\n",
       "    <tr>\n",
       "      <th>397</th>\n",
       "      <td>2024-01-25T13:26:36.663+08:00</td>\n",
       "      <td>2024-01-25T20:16:28.902+08:00</td>\n",
       "      <td>2024-01-25</td>\n",
       "      <td>collect:0WR9wt7aHF26K47U</td>\n",
       "      <td>Rodney</td>\n",
       "      <td>5</td>\n",
       "      <td>17</td>\n",
       "      <td>backup</td>\n",
       "      <td>sub_plotD</td>\n",
       "      <td>yes</td>\n",
       "      <td>...</td>\n",
       "      <td>13</td>\n",
       "      <td>24592.0</td>\n",
       "      <td>clearwind</td>\n",
       "      <td>2.0</td>\n",
       "      <td>2.0</td>\n",
       "      <td>True</td>\n",
       "      <td>763932.0</td>\n",
       "      <td>2</td>\n",
       "      <td>D</td>\n",
       "      <td>17D2</td>\n",
       "    </tr>\n",
       "    <tr>\n",
       "      <th>394</th>\n",
       "      <td>2024-01-25T09:56:23.141+08:00</td>\n",
       "      <td>2024-01-25T19:33:21.013+08:00</td>\n",
       "      <td>2024-01-25</td>\n",
       "      <td>collect:0WR9wt7aHF26K47U</td>\n",
       "      <td>Rodney</td>\n",
       "      <td>5</td>\n",
       "      <td>17</td>\n",
       "      <td>backup</td>\n",
       "      <td>sub_plotD</td>\n",
       "      <td>yes</td>\n",
       "      <td>...</td>\n",
       "      <td>13</td>\n",
       "      <td>34618.0</td>\n",
       "      <td>clearwind</td>\n",
       "      <td>2.0</td>\n",
       "      <td>2.0</td>\n",
       "      <td>True</td>\n",
       "      <td>763932.0</td>\n",
       "      <td>2</td>\n",
       "      <td>D</td>\n",
       "      <td>17D2</td>\n",
       "    </tr>\n",
       "    <tr>\n",
       "      <th>391</th>\n",
       "      <td>2024-01-25T11:36:54.122+08:00</td>\n",
       "      <td>2024-01-25T12:16:15.249+08:00</td>\n",
       "      <td>2024-01-25</td>\n",
       "      <td>collect:iLqyO6ooVrqKuBLN</td>\n",
       "      <td>Christmel</td>\n",
       "      <td>4</td>\n",
       "      <td>198</td>\n",
       "      <td>primary</td>\n",
       "      <td>sub_plotA</td>\n",
       "      <td>yes</td>\n",
       "      <td>...</td>\n",
       "      <td>13</td>\n",
       "      <td>2361.0</td>\n",
       "      <td>clearwind</td>\n",
       "      <td>2.0</td>\n",
       "      <td>2.0</td>\n",
       "      <td>True</td>\n",
       "      <td>763932.0</td>\n",
       "      <td>1</td>\n",
       "      <td>A</td>\n",
       "      <td>198A1</td>\n",
       "    </tr>\n",
       "    <tr>\n",
       "      <th>475</th>\n",
       "      <td>2024-02-09T13:26:18.048+08:00</td>\n",
       "      <td>2024-02-09T13:28:17.765+08:00</td>\n",
       "      <td>2024-02-09</td>\n",
       "      <td>collect:PidmSuC0Q54OLneq</td>\n",
       "      <td>Sham</td>\n",
       "      <td>2</td>\n",
       "      <td>198</td>\n",
       "      <td>primary</td>\n",
       "      <td>sub_plotA</td>\n",
       "      <td>no</td>\n",
       "      <td>...</td>\n",
       "      <td>13</td>\n",
       "      <td>119.0</td>\n",
       "      <td>clearwind</td>\n",
       "      <td>0.0</td>\n",
       "      <td>0.0</td>\n",
       "      <td>True</td>\n",
       "      <td>763932.0</td>\n",
       "      <td>1</td>\n",
       "      <td>A</td>\n",
       "      <td>198A1</td>\n",
       "    </tr>\n",
       "    <tr>\n",
       "      <th>228</th>\n",
       "      <td>2023-12-02T10:54:21.245+08:00</td>\n",
       "      <td>2023-12-03T15:23:56.573+08:00</td>\n",
       "      <td>2023-12-02</td>\n",
       "      <td>collect:49ETbl4W1cfU6fo2</td>\n",
       "      <td>Steve</td>\n",
       "      <td>1</td>\n",
       "      <td>224</td>\n",
       "      <td>primary</td>\n",
       "      <td>sub_plotA</td>\n",
       "      <td>yes</td>\n",
       "      <td>...</td>\n",
       "      <td>13</td>\n",
       "      <td>102575.0</td>\n",
       "      <td>clearwind</td>\n",
       "      <td>2.0</td>\n",
       "      <td>2.0</td>\n",
       "      <td>True</td>\n",
       "      <td>763932.0</td>\n",
       "      <td>1</td>\n",
       "      <td>A</td>\n",
       "      <td>224A1</td>\n",
       "    </tr>\n",
       "    <tr>\n",
       "      <th>221</th>\n",
       "      <td>2023-12-01T14:18:02.307+08:00</td>\n",
       "      <td>2023-12-01T14:30:26.364+08:00</td>\n",
       "      <td>2023-12-01</td>\n",
       "      <td>collect:49ETbl4W1cfU6fo2</td>\n",
       "      <td>Steve</td>\n",
       "      <td>1</td>\n",
       "      <td>224</td>\n",
       "      <td>primary</td>\n",
       "      <td>sub_plotA</td>\n",
       "      <td>yes</td>\n",
       "      <td>...</td>\n",
       "      <td>13</td>\n",
       "      <td>744.0</td>\n",
       "      <td>clearwind</td>\n",
       "      <td>2.0</td>\n",
       "      <td>2.0</td>\n",
       "      <td>True</td>\n",
       "      <td>763932.0</td>\n",
       "      <td>1</td>\n",
       "      <td>A</td>\n",
       "      <td>224A1</td>\n",
       "    </tr>\n",
       "    <tr>\n",
       "      <th>230</th>\n",
       "      <td>2023-12-02T13:15:53.287+08:00</td>\n",
       "      <td>2023-12-03T15:24:09.825+08:00</td>\n",
       "      <td>2023-12-02</td>\n",
       "      <td>collect:49ETbl4W1cfU6fo2</td>\n",
       "      <td>Steve</td>\n",
       "      <td>1</td>\n",
       "      <td>224</td>\n",
       "      <td>primary</td>\n",
       "      <td>sub_plotB</td>\n",
       "      <td>yes</td>\n",
       "      <td>...</td>\n",
       "      <td>13</td>\n",
       "      <td>94096.0</td>\n",
       "      <td>clearwind</td>\n",
       "      <td>2.0</td>\n",
       "      <td>2.0</td>\n",
       "      <td>True</td>\n",
       "      <td>763932.0</td>\n",
       "      <td>1</td>\n",
       "      <td>B</td>\n",
       "      <td>224B1</td>\n",
       "    </tr>\n",
       "    <tr>\n",
       "      <th>220</th>\n",
       "      <td>2023-12-01T13:06:16.217+08:00</td>\n",
       "      <td>2023-12-01T13:23:39.449+08:00</td>\n",
       "      <td>2023-12-01</td>\n",
       "      <td>collect:49ETbl4W1cfU6fo2</td>\n",
       "      <td>Steve</td>\n",
       "      <td>1</td>\n",
       "      <td>224</td>\n",
       "      <td>primary</td>\n",
       "      <td>sub_plotB</td>\n",
       "      <td>yes</td>\n",
       "      <td>...</td>\n",
       "      <td>13</td>\n",
       "      <td>1043.0</td>\n",
       "      <td>clearwind</td>\n",
       "      <td>2.0</td>\n",
       "      <td>2.0</td>\n",
       "      <td>True</td>\n",
       "      <td>763932.0</td>\n",
       "      <td>1</td>\n",
       "      <td>B</td>\n",
       "      <td>224B1</td>\n",
       "    </tr>\n",
       "    <tr>\n",
       "      <th>219</th>\n",
       "      <td>2023-12-01T10:49:57.082+08:00</td>\n",
       "      <td>2023-12-01T11:25:20.448+08:00</td>\n",
       "      <td>2023-12-01</td>\n",
       "      <td>collect:49ETbl4W1cfU6fo2</td>\n",
       "      <td>Steve</td>\n",
       "      <td>1</td>\n",
       "      <td>224</td>\n",
       "      <td>primary</td>\n",
       "      <td>sub_plotC</td>\n",
       "      <td>yes</td>\n",
       "      <td>...</td>\n",
       "      <td>13</td>\n",
       "      <td>2123.0</td>\n",
       "      <td>clearwind</td>\n",
       "      <td>2.0</td>\n",
       "      <td>2.0</td>\n",
       "      <td>True</td>\n",
       "      <td>763932.0</td>\n",
       "      <td>1</td>\n",
       "      <td>C</td>\n",
       "      <td>224C1</td>\n",
       "    </tr>\n",
       "    <tr>\n",
       "      <th>227</th>\n",
       "      <td>2023-12-02T09:57:49.379+08:00</td>\n",
       "      <td>2023-12-03T15:23:50.879+08:00</td>\n",
       "      <td>2023-12-02</td>\n",
       "      <td>collect:49ETbl4W1cfU6fo2</td>\n",
       "      <td>Steve</td>\n",
       "      <td>1</td>\n",
       "      <td>224</td>\n",
       "      <td>primary</td>\n",
       "      <td>sub_plotC</td>\n",
       "      <td>yes</td>\n",
       "      <td>...</td>\n",
       "      <td>13</td>\n",
       "      <td>105961.0</td>\n",
       "      <td>clearwind</td>\n",
       "      <td>2.0</td>\n",
       "      <td>2.0</td>\n",
       "      <td>True</td>\n",
       "      <td>763932.0</td>\n",
       "      <td>1</td>\n",
       "      <td>C</td>\n",
       "      <td>224C1</td>\n",
       "    </tr>\n",
       "    <tr>\n",
       "      <th>229</th>\n",
       "      <td>2023-12-02T12:16:59.555+08:00</td>\n",
       "      <td>2023-12-03T15:24:03.034+08:00</td>\n",
       "      <td>2023-12-02</td>\n",
       "      <td>collect:49ETbl4W1cfU6fo2</td>\n",
       "      <td>Steve</td>\n",
       "      <td>1</td>\n",
       "      <td>224</td>\n",
       "      <td>primary</td>\n",
       "      <td>sub_plotD</td>\n",
       "      <td>yes</td>\n",
       "      <td>...</td>\n",
       "      <td>13</td>\n",
       "      <td>97624.0</td>\n",
       "      <td>clearwind</td>\n",
       "      <td>2.0</td>\n",
       "      <td>2.0</td>\n",
       "      <td>True</td>\n",
       "      <td>763932.0</td>\n",
       "      <td>1</td>\n",
       "      <td>D</td>\n",
       "      <td>224D1</td>\n",
       "    </tr>\n",
       "    <tr>\n",
       "      <th>222</th>\n",
       "      <td>2023-12-01T15:14:24.184+08:00</td>\n",
       "      <td>2023-12-03T11:38:57.829+08:00</td>\n",
       "      <td>2023-12-01</td>\n",
       "      <td>collect:49ETbl4W1cfU6fo2</td>\n",
       "      <td>Steve</td>\n",
       "      <td>1</td>\n",
       "      <td>224</td>\n",
       "      <td>primary</td>\n",
       "      <td>sub_plotD</td>\n",
       "      <td>yes</td>\n",
       "      <td>...</td>\n",
       "      <td>13</td>\n",
       "      <td>159873.0</td>\n",
       "      <td>clearwind</td>\n",
       "      <td>2.0</td>\n",
       "      <td>2.0</td>\n",
       "      <td>True</td>\n",
       "      <td>763932.0</td>\n",
       "      <td>1</td>\n",
       "      <td>D</td>\n",
       "      <td>224D1</td>\n",
       "    </tr>\n",
       "    <tr>\n",
       "      <th>307</th>\n",
       "      <td>2023-12-19T14:35:39.482+08:00</td>\n",
       "      <td>2023-12-19T18:06:04.997+08:00</td>\n",
       "      <td>2023-12-19</td>\n",
       "      <td>collect:0WR9wt7aHF26K47U</td>\n",
       "      <td>Rodney</td>\n",
       "      <td>5</td>\n",
       "      <td>266</td>\n",
       "      <td>primary</td>\n",
       "      <td>sub_plotD</td>\n",
       "      <td>yes</td>\n",
       "      <td>...</td>\n",
       "      <td>13</td>\n",
       "      <td>12625.0</td>\n",
       "      <td>clearwind</td>\n",
       "      <td>2.0</td>\n",
       "      <td>2.0</td>\n",
       "      <td>True</td>\n",
       "      <td>763932.0</td>\n",
       "      <td>1</td>\n",
       "      <td>D</td>\n",
       "      <td>266D1</td>\n",
       "    </tr>\n",
       "    <tr>\n",
       "      <th>480</th>\n",
       "      <td>2023-11-22T14:15:13.988+08:00</td>\n",
       "      <td>2024-02-14T17:04:17.180+08:00</td>\n",
       "      <td>2023-11-22</td>\n",
       "      <td>collect:0WR9wt7aHF26K47U</td>\n",
       "      <td>Rodney</td>\n",
       "      <td>5</td>\n",
       "      <td>266</td>\n",
       "      <td>primary</td>\n",
       "      <td>sub_plotD</td>\n",
       "      <td>yes</td>\n",
       "      <td>...</td>\n",
       "      <td>13</td>\n",
       "      <td>7267744.0</td>\n",
       "      <td>clearwind</td>\n",
       "      <td>2.0</td>\n",
       "      <td>2.0</td>\n",
       "      <td>True</td>\n",
       "      <td>763932.0</td>\n",
       "      <td>1</td>\n",
       "      <td>D</td>\n",
       "      <td>266D1</td>\n",
       "    </tr>\n",
       "    <tr>\n",
       "      <th>86</th>\n",
       "      <td>2023-10-19T17:23:02.135+08:00</td>\n",
       "      <td>2023-10-19T21:03:45.665+08:00</td>\n",
       "      <td>2023-10-19</td>\n",
       "      <td>collect:49ETbl4W1cfU6fo2</td>\n",
       "      <td>Steve</td>\n",
       "      <td>1</td>\n",
       "      <td>293</td>\n",
       "      <td>primary</td>\n",
       "      <td>sub_plotA</td>\n",
       "      <td>yes</td>\n",
       "      <td>...</td>\n",
       "      <td>13</td>\n",
       "      <td>13243.0</td>\n",
       "      <td>clearwind</td>\n",
       "      <td>2.0</td>\n",
       "      <td>2.0</td>\n",
       "      <td>True</td>\n",
       "      <td>763932.0</td>\n",
       "      <td>1</td>\n",
       "      <td>A</td>\n",
       "      <td>293A1</td>\n",
       "    </tr>\n",
       "    <tr>\n",
       "      <th>84</th>\n",
       "      <td>2023-10-19T14:59:54.773+08:00</td>\n",
       "      <td>2023-10-19T15:54:05.735+08:00</td>\n",
       "      <td>2023-10-19</td>\n",
       "      <td>collect:49ETbl4W1cfU6fo2</td>\n",
       "      <td>Steve</td>\n",
       "      <td>1</td>\n",
       "      <td>293</td>\n",
       "      <td>primary</td>\n",
       "      <td>sub_plotA</td>\n",
       "      <td>yes</td>\n",
       "      <td>...</td>\n",
       "      <td>13</td>\n",
       "      <td>3251.0</td>\n",
       "      <td>clearwind</td>\n",
       "      <td>2.0</td>\n",
       "      <td>2.0</td>\n",
       "      <td>True</td>\n",
       "      <td>763932.0</td>\n",
       "      <td>1</td>\n",
       "      <td>A</td>\n",
       "      <td>293A1</td>\n",
       "    </tr>\n",
       "    <tr>\n",
       "      <th>172</th>\n",
       "      <td>2023-11-15T14:36:08.751+08:00</td>\n",
       "      <td>2023-11-15T15:06:03.264+08:00</td>\n",
       "      <td>2023-11-15</td>\n",
       "      <td>collect:iLqyO6ooVrqKuBLN</td>\n",
       "      <td>Christmel</td>\n",
       "      <td>4</td>\n",
       "      <td>303</td>\n",
       "      <td>backup</td>\n",
       "      <td>sub_plotB</td>\n",
       "      <td>yes</td>\n",
       "      <td>...</td>\n",
       "      <td>13</td>\n",
       "      <td>1795.0</td>\n",
       "      <td>clearwind</td>\n",
       "      <td>2.0</td>\n",
       "      <td>2.0</td>\n",
       "      <td>True</td>\n",
       "      <td>763932.0</td>\n",
       "      <td>2</td>\n",
       "      <td>B</td>\n",
       "      <td>303B2</td>\n",
       "    </tr>\n",
       "    <tr>\n",
       "      <th>169</th>\n",
       "      <td>2023-11-15T08:49:09.772+08:00</td>\n",
       "      <td>2023-11-15T09:21:27.898+08:00</td>\n",
       "      <td>2023-11-15</td>\n",
       "      <td>collect:iLqyO6ooVrqKuBLN</td>\n",
       "      <td>Christmel</td>\n",
       "      <td>4</td>\n",
       "      <td>303</td>\n",
       "      <td>backup</td>\n",
       "      <td>sub_plotB</td>\n",
       "      <td>yes</td>\n",
       "      <td>...</td>\n",
       "      <td>13</td>\n",
       "      <td>1938.0</td>\n",
       "      <td>clearwind</td>\n",
       "      <td>2.0</td>\n",
       "      <td>2.0</td>\n",
       "      <td>True</td>\n",
       "      <td>763932.0</td>\n",
       "      <td>2</td>\n",
       "      <td>B</td>\n",
       "      <td>303B2</td>\n",
       "    </tr>\n",
       "    <tr>\n",
       "      <th>171</th>\n",
       "      <td>2023-11-15T12:36:54.645+08:00</td>\n",
       "      <td>2023-11-15T12:38:43.325+08:00</td>\n",
       "      <td>2023-11-15</td>\n",
       "      <td>collect:iLqyO6ooVrqKuBLN</td>\n",
       "      <td>Christmel</td>\n",
       "      <td>4</td>\n",
       "      <td>303</td>\n",
       "      <td>backup</td>\n",
       "      <td>sub_plotB</td>\n",
       "      <td>no</td>\n",
       "      <td>...</td>\n",
       "      <td>13</td>\n",
       "      <td>109.0</td>\n",
       "      <td>clearwind</td>\n",
       "      <td>0.0</td>\n",
       "      <td>0.0</td>\n",
       "      <td>True</td>\n",
       "      <td>763932.0</td>\n",
       "      <td>2</td>\n",
       "      <td>B</td>\n",
       "      <td>303B2</td>\n",
       "    </tr>\n",
       "    <tr>\n",
       "      <th>128</th>\n",
       "      <td>2023-10-26T13:28:15.654+08:00</td>\n",
       "      <td>2023-10-26T13:34:48.967+08:00</td>\n",
       "      <td>2023-10-26</td>\n",
       "      <td>collect:49ETbl4W1cfU6fo2</td>\n",
       "      <td>Steve</td>\n",
       "      <td>1</td>\n",
       "      <td>330</td>\n",
       "      <td>primary</td>\n",
       "      <td>sub_plotC</td>\n",
       "      <td>no</td>\n",
       "      <td>...</td>\n",
       "      <td>13</td>\n",
       "      <td>393.0</td>\n",
       "      <td>clearwind</td>\n",
       "      <td>0.0</td>\n",
       "      <td>0.0</td>\n",
       "      <td>True</td>\n",
       "      <td>763932.0</td>\n",
       "      <td>1</td>\n",
       "      <td>C</td>\n",
       "      <td>330C1</td>\n",
       "    </tr>\n",
       "    <tr>\n",
       "      <th>122</th>\n",
       "      <td>2023-10-23T10:29:04.246+08:00</td>\n",
       "      <td>2023-10-23T10:58:03.321+08:00</td>\n",
       "      <td>2023-10-23</td>\n",
       "      <td>collect:49ETbl4W1cfU6fo2</td>\n",
       "      <td>Steve</td>\n",
       "      <td>1</td>\n",
       "      <td>330</td>\n",
       "      <td>primary</td>\n",
       "      <td>sub_plotC</td>\n",
       "      <td>yes</td>\n",
       "      <td>...</td>\n",
       "      <td>13</td>\n",
       "      <td>1739.0</td>\n",
       "      <td>clearwind</td>\n",
       "      <td>2.0</td>\n",
       "      <td>2.0</td>\n",
       "      <td>True</td>\n",
       "      <td>763932.0</td>\n",
       "      <td>1</td>\n",
       "      <td>C</td>\n",
       "      <td>330C1</td>\n",
       "    </tr>\n",
       "    <tr>\n",
       "      <th>155</th>\n",
       "      <td>2023-11-14T13:58:59.204+08:00</td>\n",
       "      <td>2023-11-14T14:08:21.656+08:00</td>\n",
       "      <td>2023-11-14</td>\n",
       "      <td>collect:49ETbl4W1cfU6fo2</td>\n",
       "      <td>Steve</td>\n",
       "      <td>1</td>\n",
       "      <td>334</td>\n",
       "      <td>primary</td>\n",
       "      <td>sub_plotA</td>\n",
       "      <td>yes</td>\n",
       "      <td>...</td>\n",
       "      <td>13</td>\n",
       "      <td>562.0</td>\n",
       "      <td>clearwind</td>\n",
       "      <td>2.0</td>\n",
       "      <td>2.0</td>\n",
       "      <td>True</td>\n",
       "      <td>763932.0</td>\n",
       "      <td>1</td>\n",
       "      <td>A</td>\n",
       "      <td>334A1</td>\n",
       "    </tr>\n",
       "    <tr>\n",
       "      <th>154</th>\n",
       "      <td>2023-11-14T11:55:58.545+08:00</td>\n",
       "      <td>2023-11-14T12:04:33.726+08:00</td>\n",
       "      <td>2023-11-14</td>\n",
       "      <td>collect:49ETbl4W1cfU6fo2</td>\n",
       "      <td>Steve</td>\n",
       "      <td>1</td>\n",
       "      <td>334</td>\n",
       "      <td>primary</td>\n",
       "      <td>sub_plotA</td>\n",
       "      <td>yes</td>\n",
       "      <td>...</td>\n",
       "      <td>13</td>\n",
       "      <td>515.0</td>\n",
       "      <td>clearwind</td>\n",
       "      <td>2.0</td>\n",
       "      <td>2.0</td>\n",
       "      <td>True</td>\n",
       "      <td>763932.0</td>\n",
       "      <td>1</td>\n",
       "      <td>A</td>\n",
       "      <td>334A1</td>\n",
       "    </tr>\n",
       "    <tr>\n",
       "      <th>223</th>\n",
       "      <td>2023-12-01T08:00:23.886+08:00</td>\n",
       "      <td>2023-12-01T09:43:31.488+08:00</td>\n",
       "      <td>2023-12-01</td>\n",
       "      <td>collect:0WR9wt7aHF26K47U</td>\n",
       "      <td>Rodney</td>\n",
       "      <td>5</td>\n",
       "      <td>343</td>\n",
       "      <td>primary</td>\n",
       "      <td>sub_plotB</td>\n",
       "      <td>yes</td>\n",
       "      <td>...</td>\n",
       "      <td>13</td>\n",
       "      <td>6188.0</td>\n",
       "      <td>clearwind</td>\n",
       "      <td>2.0</td>\n",
       "      <td>2.0</td>\n",
       "      <td>True</td>\n",
       "      <td>763932.0</td>\n",
       "      <td>1</td>\n",
       "      <td>B</td>\n",
       "      <td>343B1</td>\n",
       "    </tr>\n",
       "    <tr>\n",
       "      <th>225</th>\n",
       "      <td>2023-12-01T12:04:27.827+08:00</td>\n",
       "      <td>2023-12-01T12:59:38.792+08:00</td>\n",
       "      <td>2023-12-01</td>\n",
       "      <td>collect:0WR9wt7aHF26K47U</td>\n",
       "      <td>Rodney</td>\n",
       "      <td>5</td>\n",
       "      <td>343</td>\n",
       "      <td>primary</td>\n",
       "      <td>sub_plotB</td>\n",
       "      <td>yes</td>\n",
       "      <td>...</td>\n",
       "      <td>13</td>\n",
       "      <td>3311.0</td>\n",
       "      <td>clearwind</td>\n",
       "      <td>2.0</td>\n",
       "      <td>2.0</td>\n",
       "      <td>True</td>\n",
       "      <td>763932.0</td>\n",
       "      <td>1</td>\n",
       "      <td>B</td>\n",
       "      <td>343B1</td>\n",
       "    </tr>\n",
       "    <tr>\n",
       "      <th>75</th>\n",
       "      <td>2023-10-12T14:37:53.163+08:00</td>\n",
       "      <td>2023-10-13T19:52:44.159+08:00</td>\n",
       "      <td>2023-10-12</td>\n",
       "      <td>collect:0WR9wt7aHF26K47U</td>\n",
       "      <td>Rodney</td>\n",
       "      <td>5</td>\n",
       "      <td>366</td>\n",
       "      <td>primary</td>\n",
       "      <td>sub_plotA</td>\n",
       "      <td>yes</td>\n",
       "      <td>...</td>\n",
       "      <td>13</td>\n",
       "      <td>105291.0</td>\n",
       "      <td>clearwind</td>\n",
       "      <td>2.0</td>\n",
       "      <td>2.0</td>\n",
       "      <td>True</td>\n",
       "      <td>763932.0</td>\n",
       "      <td>1</td>\n",
       "      <td>A</td>\n",
       "      <td>366A1</td>\n",
       "    </tr>\n",
       "    <tr>\n",
       "      <th>138</th>\n",
       "      <td>2023-11-10T12:18:54.000+08:00</td>\n",
       "      <td>2023-11-10T12:27:32.817+08:00</td>\n",
       "      <td>2023-11-10</td>\n",
       "      <td>collect:49ETbl4W1cfU6fo2</td>\n",
       "      <td>Steve</td>\n",
       "      <td>1</td>\n",
       "      <td>366</td>\n",
       "      <td>primary</td>\n",
       "      <td>sub_plotA</td>\n",
       "      <td>yes</td>\n",
       "      <td>...</td>\n",
       "      <td>13</td>\n",
       "      <td>518.0</td>\n",
       "      <td>clearwind</td>\n",
       "      <td>2.0</td>\n",
       "      <td>2.0</td>\n",
       "      <td>True</td>\n",
       "      <td>763932.0</td>\n",
       "      <td>1</td>\n",
       "      <td>A</td>\n",
       "      <td>366A1</td>\n",
       "    </tr>\n",
       "    <tr>\n",
       "      <th>61</th>\n",
       "      <td>2023-10-08T13:47:37.937+08:00</td>\n",
       "      <td>2023-10-08T14:44:41.338+08:00</td>\n",
       "      <td>2023-10-08</td>\n",
       "      <td>collect:0WR9wt7aHF26K47U</td>\n",
       "      <td>Rodney</td>\n",
       "      <td>5</td>\n",
       "      <td>66</td>\n",
       "      <td>primary</td>\n",
       "      <td>sub_plotD</td>\n",
       "      <td>yes</td>\n",
       "      <td>...</td>\n",
       "      <td>13</td>\n",
       "      <td>3424.0</td>\n",
       "      <td>clearwind</td>\n",
       "      <td>2.0</td>\n",
       "      <td>2.0</td>\n",
       "      <td>True</td>\n",
       "      <td>763932.0</td>\n",
       "      <td>1</td>\n",
       "      <td>D</td>\n",
       "      <td>66D1</td>\n",
       "    </tr>\n",
       "    <tr>\n",
       "      <th>81</th>\n",
       "      <td>2023-10-14T14:32:37.261+08:00</td>\n",
       "      <td>2023-10-14T15:07:35.933+08:00</td>\n",
       "      <td>2023-10-14</td>\n",
       "      <td>collect:iLqyO6ooVrqKuBLN</td>\n",
       "      <td>Christmel</td>\n",
       "      <td>4</td>\n",
       "      <td>66</td>\n",
       "      <td>primary</td>\n",
       "      <td>sub_plotD</td>\n",
       "      <td>yes</td>\n",
       "      <td>...</td>\n",
       "      <td>13</td>\n",
       "      <td>2098.0</td>\n",
       "      <td>clearwind</td>\n",
       "      <td>2.0</td>\n",
       "      <td>2.0</td>\n",
       "      <td>True</td>\n",
       "      <td>763932.0</td>\n",
       "      <td>1</td>\n",
       "      <td>D</td>\n",
       "      <td>66D1</td>\n",
       "    </tr>\n",
       "    <tr>\n",
       "      <th>140</th>\n",
       "      <td>2023-11-10T10:57:23.885+08:00</td>\n",
       "      <td>2023-11-10T11:09:32.656+08:00</td>\n",
       "      <td>2023-11-10</td>\n",
       "      <td>collect:0WR9wt7aHF26K47U</td>\n",
       "      <td>Rodney</td>\n",
       "      <td>5</td>\n",
       "      <td>71</td>\n",
       "      <td>primary</td>\n",
       "      <td>sub_plotB</td>\n",
       "      <td>yes</td>\n",
       "      <td>...</td>\n",
       "      <td>13</td>\n",
       "      <td>729.0</td>\n",
       "      <td>clearwind</td>\n",
       "      <td>2.0</td>\n",
       "      <td>2.0</td>\n",
       "      <td>True</td>\n",
       "      <td>763932.0</td>\n",
       "      <td>1</td>\n",
       "      <td>B</td>\n",
       "      <td>71B1</td>\n",
       "    </tr>\n",
       "    <tr>\n",
       "      <th>134</th>\n",
       "      <td>2023-11-10T13:13:27.985+08:00</td>\n",
       "      <td>2023-11-10T13:44:57.449+08:00</td>\n",
       "      <td>2023-11-10</td>\n",
       "      <td>collect:0WR9wt7aHF26K47U</td>\n",
       "      <td>Rodney</td>\n",
       "      <td>5</td>\n",
       "      <td>71</td>\n",
       "      <td>primary</td>\n",
       "      <td>sub_plotB</td>\n",
       "      <td>yes</td>\n",
       "      <td>...</td>\n",
       "      <td>13</td>\n",
       "      <td>1890.0</td>\n",
       "      <td>clearwind</td>\n",
       "      <td>2.0</td>\n",
       "      <td>2.0</td>\n",
       "      <td>True</td>\n",
       "      <td>763932.0</td>\n",
       "      <td>1</td>\n",
       "      <td>B</td>\n",
       "      <td>71B1</td>\n",
       "    </tr>\n",
       "  </tbody>\n",
       "</table>\n",
       "<p>31 rows × 1397 columns</p>\n",
       "</div>"
      ],
      "text/plain": [
       "                             start                            end       today  \\\n",
       "397  2024-01-25T13:26:36.663+08:00  2024-01-25T20:16:28.902+08:00  2024-01-25   \n",
       "394  2024-01-25T09:56:23.141+08:00  2024-01-25T19:33:21.013+08:00  2024-01-25   \n",
       "391  2024-01-25T11:36:54.122+08:00  2024-01-25T12:16:15.249+08:00  2024-01-25   \n",
       "475  2024-02-09T13:26:18.048+08:00  2024-02-09T13:28:17.765+08:00  2024-02-09   \n",
       "228  2023-12-02T10:54:21.245+08:00  2023-12-03T15:23:56.573+08:00  2023-12-02   \n",
       "221  2023-12-01T14:18:02.307+08:00  2023-12-01T14:30:26.364+08:00  2023-12-01   \n",
       "230  2023-12-02T13:15:53.287+08:00  2023-12-03T15:24:09.825+08:00  2023-12-02   \n",
       "220  2023-12-01T13:06:16.217+08:00  2023-12-01T13:23:39.449+08:00  2023-12-01   \n",
       "219  2023-12-01T10:49:57.082+08:00  2023-12-01T11:25:20.448+08:00  2023-12-01   \n",
       "227  2023-12-02T09:57:49.379+08:00  2023-12-03T15:23:50.879+08:00  2023-12-02   \n",
       "229  2023-12-02T12:16:59.555+08:00  2023-12-03T15:24:03.034+08:00  2023-12-02   \n",
       "222  2023-12-01T15:14:24.184+08:00  2023-12-03T11:38:57.829+08:00  2023-12-01   \n",
       "307  2023-12-19T14:35:39.482+08:00  2023-12-19T18:06:04.997+08:00  2023-12-19   \n",
       "480  2023-11-22T14:15:13.988+08:00  2024-02-14T17:04:17.180+08:00  2023-11-22   \n",
       "86   2023-10-19T17:23:02.135+08:00  2023-10-19T21:03:45.665+08:00  2023-10-19   \n",
       "84   2023-10-19T14:59:54.773+08:00  2023-10-19T15:54:05.735+08:00  2023-10-19   \n",
       "172  2023-11-15T14:36:08.751+08:00  2023-11-15T15:06:03.264+08:00  2023-11-15   \n",
       "169  2023-11-15T08:49:09.772+08:00  2023-11-15T09:21:27.898+08:00  2023-11-15   \n",
       "171  2023-11-15T12:36:54.645+08:00  2023-11-15T12:38:43.325+08:00  2023-11-15   \n",
       "128  2023-10-26T13:28:15.654+08:00  2023-10-26T13:34:48.967+08:00  2023-10-26   \n",
       "122  2023-10-23T10:29:04.246+08:00  2023-10-23T10:58:03.321+08:00  2023-10-23   \n",
       "155  2023-11-14T13:58:59.204+08:00  2023-11-14T14:08:21.656+08:00  2023-11-14   \n",
       "154  2023-11-14T11:55:58.545+08:00  2023-11-14T12:04:33.726+08:00  2023-11-14   \n",
       "223  2023-12-01T08:00:23.886+08:00  2023-12-01T09:43:31.488+08:00  2023-12-01   \n",
       "225  2023-12-01T12:04:27.827+08:00  2023-12-01T12:59:38.792+08:00  2023-12-01   \n",
       "75   2023-10-12T14:37:53.163+08:00  2023-10-13T19:52:44.159+08:00  2023-10-12   \n",
       "138  2023-11-10T12:18:54.000+08:00  2023-11-10T12:27:32.817+08:00  2023-11-10   \n",
       "61   2023-10-08T13:47:37.937+08:00  2023-10-08T14:44:41.338+08:00  2023-10-08   \n",
       "81   2023-10-14T14:32:37.261+08:00  2023-10-14T15:07:35.933+08:00  2023-10-14   \n",
       "140  2023-11-10T10:57:23.885+08:00  2023-11-10T11:09:32.656+08:00  2023-11-10   \n",
       "134  2023-11-10T13:13:27.985+08:00  2023-11-10T13:44:57.449+08:00  2023-11-10   \n",
       "\n",
       "                     deviceid plot_info/data_recorder  plot_info/team_no  \\\n",
       "397  collect:0WR9wt7aHF26K47U                  Rodney                  5   \n",
       "394  collect:0WR9wt7aHF26K47U                  Rodney                  5   \n",
       "391  collect:iLqyO6ooVrqKuBLN               Christmel                  4   \n",
       "475  collect:PidmSuC0Q54OLneq                    Sham                  2   \n",
       "228  collect:49ETbl4W1cfU6fo2                   Steve                  1   \n",
       "221  collect:49ETbl4W1cfU6fo2                   Steve                  1   \n",
       "230  collect:49ETbl4W1cfU6fo2                   Steve                  1   \n",
       "220  collect:49ETbl4W1cfU6fo2                   Steve                  1   \n",
       "219  collect:49ETbl4W1cfU6fo2                   Steve                  1   \n",
       "227  collect:49ETbl4W1cfU6fo2                   Steve                  1   \n",
       "229  collect:49ETbl4W1cfU6fo2                   Steve                  1   \n",
       "222  collect:49ETbl4W1cfU6fo2                   Steve                  1   \n",
       "307  collect:0WR9wt7aHF26K47U                  Rodney                  5   \n",
       "480  collect:0WR9wt7aHF26K47U                  Rodney                  5   \n",
       "86   collect:49ETbl4W1cfU6fo2                   Steve                  1   \n",
       "84   collect:49ETbl4W1cfU6fo2                   Steve                  1   \n",
       "172  collect:iLqyO6ooVrqKuBLN               Christmel                  4   \n",
       "169  collect:iLqyO6ooVrqKuBLN               Christmel                  4   \n",
       "171  collect:iLqyO6ooVrqKuBLN               Christmel                  4   \n",
       "128  collect:49ETbl4W1cfU6fo2                   Steve                  1   \n",
       "122  collect:49ETbl4W1cfU6fo2                   Steve                  1   \n",
       "155  collect:49ETbl4W1cfU6fo2                   Steve                  1   \n",
       "154  collect:49ETbl4W1cfU6fo2                   Steve                  1   \n",
       "223  collect:0WR9wt7aHF26K47U                  Rodney                  5   \n",
       "225  collect:0WR9wt7aHF26K47U                  Rodney                  5   \n",
       "75   collect:0WR9wt7aHF26K47U                  Rodney                  5   \n",
       "138  collect:49ETbl4W1cfU6fo2                   Steve                  1   \n",
       "61   collect:0WR9wt7aHF26K47U                  Rodney                  5   \n",
       "81   collect:iLqyO6ooVrqKuBLN               Christmel                  4   \n",
       "140  collect:0WR9wt7aHF26K47U                  Rodney                  5   \n",
       "134  collect:0WR9wt7aHF26K47U                  Rodney                  5   \n",
       "\n",
       "     plot_info/plot_code_nmbr plot_info/plot_type plot_info/sub_plot  \\\n",
       "397                        17              backup          sub_plotD   \n",
       "394                        17              backup          sub_plotD   \n",
       "391                       198             primary          sub_plotA   \n",
       "475                       198             primary          sub_plotA   \n",
       "228                       224             primary          sub_plotA   \n",
       "221                       224             primary          sub_plotA   \n",
       "230                       224             primary          sub_plotB   \n",
       "220                       224             primary          sub_plotB   \n",
       "219                       224             primary          sub_plotC   \n",
       "227                       224             primary          sub_plotC   \n",
       "229                       224             primary          sub_plotD   \n",
       "222                       224             primary          sub_plotD   \n",
       "307                       266             primary          sub_plotD   \n",
       "480                       266             primary          sub_plotD   \n",
       "86                        293             primary          sub_plotA   \n",
       "84                        293             primary          sub_plotA   \n",
       "172                       303              backup          sub_plotB   \n",
       "169                       303              backup          sub_plotB   \n",
       "171                       303              backup          sub_plotB   \n",
       "128                       330             primary          sub_plotC   \n",
       "122                       330             primary          sub_plotC   \n",
       "155                       334             primary          sub_plotA   \n",
       "154                       334             primary          sub_plotA   \n",
       "223                       343             primary          sub_plotB   \n",
       "225                       343             primary          sub_plotB   \n",
       "75                        366             primary          sub_plotA   \n",
       "138                       366             primary          sub_plotA   \n",
       "61                         66             primary          sub_plotD   \n",
       "81                         66             primary          sub_plotD   \n",
       "140                        71             primary          sub_plotB   \n",
       "134                        71             primary          sub_plotB   \n",
       "\n",
       "    plot_info/yes_no  ... _version  _duration  _submitted_by _total_media  \\\n",
       "397              yes  ...       13    24592.0      clearwind          2.0   \n",
       "394              yes  ...       13    34618.0      clearwind          2.0   \n",
       "391              yes  ...       13     2361.0      clearwind          2.0   \n",
       "475               no  ...       13      119.0      clearwind          0.0   \n",
       "228              yes  ...       13   102575.0      clearwind          2.0   \n",
       "221              yes  ...       13      744.0      clearwind          2.0   \n",
       "230              yes  ...       13    94096.0      clearwind          2.0   \n",
       "220              yes  ...       13     1043.0      clearwind          2.0   \n",
       "219              yes  ...       13     2123.0      clearwind          2.0   \n",
       "227              yes  ...       13   105961.0      clearwind          2.0   \n",
       "229              yes  ...       13    97624.0      clearwind          2.0   \n",
       "222              yes  ...       13   159873.0      clearwind          2.0   \n",
       "307              yes  ...       13    12625.0      clearwind          2.0   \n",
       "480              yes  ...       13  7267744.0      clearwind          2.0   \n",
       "86               yes  ...       13    13243.0      clearwind          2.0   \n",
       "84               yes  ...       13     3251.0      clearwind          2.0   \n",
       "172              yes  ...       13     1795.0      clearwind          2.0   \n",
       "169              yes  ...       13     1938.0      clearwind          2.0   \n",
       "171               no  ...       13      109.0      clearwind          0.0   \n",
       "128               no  ...       13      393.0      clearwind          0.0   \n",
       "122              yes  ...       13     1739.0      clearwind          2.0   \n",
       "155              yes  ...       13      562.0      clearwind          2.0   \n",
       "154              yes  ...       13      515.0      clearwind          2.0   \n",
       "223              yes  ...       13     6188.0      clearwind          2.0   \n",
       "225              yes  ...       13     3311.0      clearwind          2.0   \n",
       "75               yes  ...       13   105291.0      clearwind          2.0   \n",
       "138              yes  ...       13      518.0      clearwind          2.0   \n",
       "61               yes  ...       13     3424.0      clearwind          2.0   \n",
       "81               yes  ...       13     2098.0      clearwind          2.0   \n",
       "140              yes  ...       13      729.0      clearwind          2.0   \n",
       "134              yes  ...       13     1890.0      clearwind          2.0   \n",
       "\n",
       "     _media_count  _media_all_received  _xform_id  plot_type_short  \\\n",
       "397           2.0                 True   763932.0                2   \n",
       "394           2.0                 True   763932.0                2   \n",
       "391           2.0                 True   763932.0                1   \n",
       "475           0.0                 True   763932.0                1   \n",
       "228           2.0                 True   763932.0                1   \n",
       "221           2.0                 True   763932.0                1   \n",
       "230           2.0                 True   763932.0                1   \n",
       "220           2.0                 True   763932.0                1   \n",
       "219           2.0                 True   763932.0                1   \n",
       "227           2.0                 True   763932.0                1   \n",
       "229           2.0                 True   763932.0                1   \n",
       "222           2.0                 True   763932.0                1   \n",
       "307           2.0                 True   763932.0                1   \n",
       "480           2.0                 True   763932.0                1   \n",
       "86            2.0                 True   763932.0                1   \n",
       "84            2.0                 True   763932.0                1   \n",
       "172           2.0                 True   763932.0                2   \n",
       "169           2.0                 True   763932.0                2   \n",
       "171           0.0                 True   763932.0                2   \n",
       "128           0.0                 True   763932.0                1   \n",
       "122           2.0                 True   763932.0                1   \n",
       "155           2.0                 True   763932.0                1   \n",
       "154           2.0                 True   763932.0                1   \n",
       "223           2.0                 True   763932.0                1   \n",
       "225           2.0                 True   763932.0                1   \n",
       "75            2.0                 True   763932.0                1   \n",
       "138           2.0                 True   763932.0                1   \n",
       "61            2.0                 True   763932.0                1   \n",
       "81            2.0                 True   763932.0                1   \n",
       "140           2.0                 True   763932.0                1   \n",
       "134           2.0                 True   763932.0                1   \n",
       "\n",
       "    subplot_letter unique_id  \n",
       "397              D      17D2  \n",
       "394              D      17D2  \n",
       "391              A     198A1  \n",
       "475              A     198A1  \n",
       "228              A     224A1  \n",
       "221              A     224A1  \n",
       "230              B     224B1  \n",
       "220              B     224B1  \n",
       "219              C     224C1  \n",
       "227              C     224C1  \n",
       "229              D     224D1  \n",
       "222              D     224D1  \n",
       "307              D     266D1  \n",
       "480              D     266D1  \n",
       "86               A     293A1  \n",
       "84               A     293A1  \n",
       "172              B     303B2  \n",
       "169              B     303B2  \n",
       "171              B     303B2  \n",
       "128              C     330C1  \n",
       "122              C     330C1  \n",
       "155              A     334A1  \n",
       "154              A     334A1  \n",
       "223              B     343B1  \n",
       "225              B     343B1  \n",
       "75               A     366A1  \n",
       "138              A     366A1  \n",
       "61               D      66D1  \n",
       "81               D      66D1  \n",
       "140              B      71B1  \n",
       "134              B      71B1  \n",
       "\n",
       "[31 rows x 1397 columns]"
      ]
     },
     "execution_count": 8,
     "metadata": {},
     "output_type": "execute_result"
    }
   ],
   "source": [
    "data[\n",
    "    data.unique_id.isin(\n",
    "        data.loc[data.duplicated(subset=\"unique_id\"), \"unique_id\"].unique()\n",
    "    )\n",
    "].sort_values(\"unique_id\")"
   ]
  },
  {
   "cell_type": "markdown",
   "metadata": {},
   "source": [
    "### Assign corrected plot IDs to each duplicate\n",
    "The subset of duplicates were manually inspected to correct the issue. The common source of the duplicates were typo errors in the plot ID or sublot letter, there were other instances that abandoned subplots persisted in the dataset"
   ]
  },
  {
   "cell_type": "code",
   "execution_count": 9,
   "metadata": {},
   "outputs": [],
   "source": [
    "# load dataframe with manually annotated plot id corrections\n",
    "plot_id_corrections = gpd.read_file(\n",
    "    DATA_DIR / \"gpkg\" / \"duplicate_plots_corrected.gpkg\"\n",
    ")"
   ]
  },
  {
   "cell_type": "code",
   "execution_count": 10,
   "metadata": {},
   "outputs": [
    {
     "data": {
      "text/html": [
       "<div>\n",
       "<style scoped>\n",
       "    .dataframe tbody tr th:only-of-type {\n",
       "        vertical-align: middle;\n",
       "    }\n",
       "\n",
       "    .dataframe tbody tr th {\n",
       "        vertical-align: top;\n",
       "    }\n",
       "\n",
       "    .dataframe thead th {\n",
       "        text-align: right;\n",
       "    }\n",
       "</style>\n",
       "<table border=\"1\" class=\"dataframe\">\n",
       "  <thead>\n",
       "    <tr style=\"text-align: right;\">\n",
       "      <th></th>\n",
       "      <th>field_1</th>\n",
       "      <th>unique_id</th>\n",
       "      <th>data_recorder</th>\n",
       "      <th>team_no</th>\n",
       "      <th>plot_code_nmbr</th>\n",
       "      <th>plot_type</th>\n",
       "      <th>sub_plot</th>\n",
       "      <th>yes_no</th>\n",
       "      <th>sub_plot_shift</th>\n",
       "      <th>GPS_waypt</th>\n",
       "      <th>...</th>\n",
       "      <th>slope</th>\n",
       "      <th>canopy_avg_height</th>\n",
       "      <th>canopy_cover</th>\n",
       "      <th>access_reason</th>\n",
       "      <th>slope_radians</th>\n",
       "      <th>corrected_plot_area_n2_m2</th>\n",
       "      <th>corrected_plot_area_n3_m2</th>\n",
       "      <th>corrected_plot_area_n4_m2</th>\n",
       "      <th>unique_id_updated</th>\n",
       "      <th>geometry</th>\n",
       "    </tr>\n",
       "  </thead>\n",
       "  <tbody>\n",
       "    <tr>\n",
       "      <th>0</th>\n",
       "      <td>397</td>\n",
       "      <td>17D2</td>\n",
       "      <td>Rodney</td>\n",
       "      <td>5</td>\n",
       "      <td>17</td>\n",
       "      <td>backup</td>\n",
       "      <td>sub_plotD</td>\n",
       "      <td>True</td>\n",
       "      <td>no_shift</td>\n",
       "      <td>10.0</td>\n",
       "      <td>...</td>\n",
       "      <td>23.0</td>\n",
       "      <td>29.0</td>\n",
       "      <td>3.0</td>\n",
       "      <td>None</td>\n",
       "      <td>0.226068</td>\n",
       "      <td>82.694573</td>\n",
       "      <td>744.251154</td>\n",
       "      <td>1323.113162</td>\n",
       "      <td>17C2</td>\n",
       "      <td>POINT (126.04161 9.16407)</td>\n",
       "    </tr>\n",
       "    <tr>\n",
       "      <th>1</th>\n",
       "      <td>394</td>\n",
       "      <td>17D2</td>\n",
       "      <td>Rodney</td>\n",
       "      <td>5</td>\n",
       "      <td>17</td>\n",
       "      <td>backup</td>\n",
       "      <td>sub_plotD</td>\n",
       "      <td>True</td>\n",
       "      <td>no_shift</td>\n",
       "      <td>99.0</td>\n",
       "      <td>...</td>\n",
       "      <td>9.0</td>\n",
       "      <td>30.0</td>\n",
       "      <td>3.0</td>\n",
       "      <td>None</td>\n",
       "      <td>0.089758</td>\n",
       "      <td>79.175989</td>\n",
       "      <td>712.583900</td>\n",
       "      <td>1266.815822</td>\n",
       "      <td>17D2</td>\n",
       "      <td>POINT (126.03970 9.16615)</td>\n",
       "    </tr>\n",
       "  </tbody>\n",
       "</table>\n",
       "<p>2 rows × 34 columns</p>\n",
       "</div>"
      ],
      "text/plain": [
       "   field_1 unique_id data_recorder  team_no  plot_code_nmbr plot_type  \\\n",
       "0      397      17D2        Rodney        5              17    backup   \n",
       "1      394      17D2        Rodney        5              17    backup   \n",
       "\n",
       "    sub_plot  yes_no sub_plot_shift  GPS_waypt  ...  slope canopy_avg_height  \\\n",
       "0  sub_plotD    True       no_shift       10.0  ...   23.0              29.0   \n",
       "1  sub_plotD    True       no_shift       99.0  ...    9.0              30.0   \n",
       "\n",
       "   canopy_cover  access_reason  slope_radians  corrected_plot_area_n2_m2  \\\n",
       "0           3.0           None       0.226068                  82.694573   \n",
       "1           3.0           None       0.089758                  79.175989   \n",
       "\n",
       "  corrected_plot_area_n3_m2 corrected_plot_area_n4_m2 unique_id_updated  \\\n",
       "0                744.251154               1323.113162              17C2   \n",
       "1                712.583900               1266.815822              17D2   \n",
       "\n",
       "                    geometry  \n",
       "0  POINT (126.04161 9.16407)  \n",
       "1  POINT (126.03970 9.16615)  \n",
       "\n",
       "[2 rows x 34 columns]"
      ]
     },
     "execution_count": 10,
     "metadata": {},
     "output_type": "execute_result"
    }
   ],
   "source": [
    "plot_id_corrections.head(2)"
   ]
  },
  {
   "cell_type": "code",
   "execution_count": 11,
   "metadata": {
    "vscode": {
     "languageId": "markdown"
    }
   },
   "outputs": [],
   "source": [
    "# Drop rows where the geometry is empty, this indicates that these plots were abandoned\n",
    "plot_id_corrections = plot_id_corrections[~plot_id_corrections.geometry.is_empty].copy()"
   ]
  },
  {
   "cell_type": "code",
   "execution_count": 12,
   "metadata": {},
   "outputs": [],
   "source": [
    "plot_id_corrections = plot_id_corrections[\n",
    "    plot_id_corrections[\"unique_id_updated\"] != \"flag\"\n",
    "]"
   ]
  },
  {
   "cell_type": "code",
   "execution_count": 13,
   "metadata": {},
   "outputs": [
    {
     "data": {
      "text/plain": [
       "(26, 34)"
      ]
     },
     "execution_count": 13,
     "metadata": {},
     "output_type": "execute_result"
    }
   ],
   "source": [
    "plot_id_corrections.shape"
   ]
  },
  {
   "cell_type": "code",
   "execution_count": 14,
   "metadata": {},
   "outputs": [],
   "source": [
    "# create a uuid to match duplicates from the original data\n",
    "plot_id_corrections[\"uuid\"] = (\n",
    "    plot_id_corrections[\"unique_id\"]\n",
    "    + plot_id_corrections[\"slope\"].astype(str)\n",
    "    + plot_id_corrections[\"team_no\"].astype(str)\n",
    ")"
   ]
  },
  {
   "cell_type": "code",
   "execution_count": 15,
   "metadata": {},
   "outputs": [
    {
     "data": {
      "text/plain": [
       "26"
      ]
     },
     "execution_count": 15,
     "metadata": {},
     "output_type": "execute_result"
    }
   ],
   "source": [
    "plot_id_corrections.uuid.nunique()"
   ]
  },
  {
   "cell_type": "code",
   "execution_count": 16,
   "metadata": {},
   "outputs": [],
   "source": [
    "# define a dictionary to map the updated unique_id to the uuid\n",
    "uuid_dict = (\n",
    "    plot_id_corrections[[\"unique_id_updated\", \"uuid\"]]\n",
    "    .set_index(\"uuid\")\n",
    "    .to_dict()[\"unique_id_updated\"]\n",
    ")"
   ]
  },
  {
   "cell_type": "code",
   "execution_count": 17,
   "metadata": {},
   "outputs": [
    {
     "data": {
      "text/plain": [
       "{'17D223.05': '17C2',\n",
       " '17D29.05': '17D2',\n",
       " '198A115.04': '197A1',\n",
       " '224A134.01': '224A1',\n",
       " '224A110.01': '223A1',\n",
       " '224B14.01': '224B1',\n",
       " '224B136.01': '223B1',\n",
       " '224C145.01': '223C1',\n",
       " '224C13.01': '224C1',\n",
       " '224D136.01': '224D1',\n",
       " '224D14.01': '223D1',\n",
       " '266D126.05': '226D1',\n",
       " '293A134.01': '293A1',\n",
       " '293A122.01': '293B1',\n",
       " '303B261.04': '303B2',\n",
       " '303B224.04': '303C2',\n",
       " '330C155.01': '330C1',\n",
       " '334A151.01': '334A1',\n",
       " '343B138.05': '343B1',\n",
       " '343B111.05': '343D1',\n",
       " '366A162.05': '336A1',\n",
       " '366A137.01': '366A1',\n",
       " '66D124.05': '66D1',\n",
       " '66D138.04': '297D1',\n",
       " '71B119.05': '71B1',\n",
       " '71B113.05': '71D1'}"
      ]
     },
     "execution_count": 17,
     "metadata": {},
     "output_type": "execute_result"
    }
   ],
   "source": [
    "uuid_dict"
   ]
  },
  {
   "cell_type": "code",
   "execution_count": 18,
   "metadata": {},
   "outputs": [],
   "source": [
    "data[\"uuid\"] = (\n",
    "    data[\"unique_id\"]\n",
    "    + data[\"slope/slope\"].astype(str)\n",
    "    + data[\"plot_info/team_no\"].astype(str)\n",
    ")"
   ]
  },
  {
   "cell_type": "code",
   "execution_count": 19,
   "metadata": {},
   "outputs": [],
   "source": [
    "data[\"unique_id_updated\"] = data[\"uuid\"].map(uuid_dict).fillna(np.nan)"
   ]
  },
  {
   "cell_type": "code",
   "execution_count": 20,
   "metadata": {},
   "outputs": [],
   "source": [
    "# update the unique_id where it is necessary\n",
    "data[\"unique_id\"] = data[\"unique_id_updated\"].fillna(data[\"unique_id\"])"
   ]
  },
  {
   "cell_type": "code",
   "execution_count": 21,
   "metadata": {},
   "outputs": [],
   "source": [
    "# check for remaining duplicates\n",
    "duplicates = data[\n",
    "    data.unique_id.isin(\n",
    "        data.loc[data.duplicated(subset=\"unique_id\"), \"unique_id\"].unique()\n",
    "    )\n",
    "].sort_values(\"unique_id\")"
   ]
  },
  {
   "cell_type": "code",
   "execution_count": 22,
   "metadata": {},
   "outputs": [
    {
     "data": {
      "text/html": [
       "<div>\n",
       "<style scoped>\n",
       "    .dataframe tbody tr th:only-of-type {\n",
       "        vertical-align: middle;\n",
       "    }\n",
       "\n",
       "    .dataframe tbody tr th {\n",
       "        vertical-align: top;\n",
       "    }\n",
       "\n",
       "    .dataframe thead th {\n",
       "        text-align: right;\n",
       "    }\n",
       "</style>\n",
       "<table border=\"1\" class=\"dataframe\">\n",
       "  <thead>\n",
       "    <tr style=\"text-align: right;\">\n",
       "      <th></th>\n",
       "      <th>start</th>\n",
       "      <th>end</th>\n",
       "      <th>today</th>\n",
       "      <th>deviceid</th>\n",
       "      <th>plot_info/data_recorder</th>\n",
       "      <th>plot_info/team_no</th>\n",
       "      <th>plot_info/plot_code_nmbr</th>\n",
       "      <th>plot_info/plot_type</th>\n",
       "      <th>plot_info/sub_plot</th>\n",
       "      <th>plot_info/yes_no</th>\n",
       "      <th>...</th>\n",
       "      <th>_submitted_by</th>\n",
       "      <th>_total_media</th>\n",
       "      <th>_media_count</th>\n",
       "      <th>_media_all_received</th>\n",
       "      <th>_xform_id</th>\n",
       "      <th>plot_type_short</th>\n",
       "      <th>subplot_letter</th>\n",
       "      <th>unique_id</th>\n",
       "      <th>uuid</th>\n",
       "      <th>unique_id_updated</th>\n",
       "    </tr>\n",
       "  </thead>\n",
       "  <tbody>\n",
       "    <tr>\n",
       "      <th>171</th>\n",
       "      <td>2023-11-15T12:36:54.645+08:00</td>\n",
       "      <td>2023-11-15T12:38:43.325+08:00</td>\n",
       "      <td>2023-11-15</td>\n",
       "      <td>collect:iLqyO6ooVrqKuBLN</td>\n",
       "      <td>Christmel</td>\n",
       "      <td>4</td>\n",
       "      <td>303</td>\n",
       "      <td>backup</td>\n",
       "      <td>sub_plotB</td>\n",
       "      <td>no</td>\n",
       "      <td>...</td>\n",
       "      <td>clearwind</td>\n",
       "      <td>0.0</td>\n",
       "      <td>0.0</td>\n",
       "      <td>True</td>\n",
       "      <td>763932.0</td>\n",
       "      <td>2</td>\n",
       "      <td>B</td>\n",
       "      <td>303B2</td>\n",
       "      <td>303B2nan4</td>\n",
       "      <td>NaN</td>\n",
       "    </tr>\n",
       "    <tr>\n",
       "      <th>172</th>\n",
       "      <td>2023-11-15T14:36:08.751+08:00</td>\n",
       "      <td>2023-11-15T15:06:03.264+08:00</td>\n",
       "      <td>2023-11-15</td>\n",
       "      <td>collect:iLqyO6ooVrqKuBLN</td>\n",
       "      <td>Christmel</td>\n",
       "      <td>4</td>\n",
       "      <td>303</td>\n",
       "      <td>backup</td>\n",
       "      <td>sub_plotB</td>\n",
       "      <td>yes</td>\n",
       "      <td>...</td>\n",
       "      <td>clearwind</td>\n",
       "      <td>2.0</td>\n",
       "      <td>2.0</td>\n",
       "      <td>True</td>\n",
       "      <td>763932.0</td>\n",
       "      <td>2</td>\n",
       "      <td>B</td>\n",
       "      <td>303B2</td>\n",
       "      <td>303B261.04</td>\n",
       "      <td>303B2</td>\n",
       "    </tr>\n",
       "    <tr>\n",
       "      <th>122</th>\n",
       "      <td>2023-10-23T10:29:04.246+08:00</td>\n",
       "      <td>2023-10-23T10:58:03.321+08:00</td>\n",
       "      <td>2023-10-23</td>\n",
       "      <td>collect:49ETbl4W1cfU6fo2</td>\n",
       "      <td>Steve</td>\n",
       "      <td>1</td>\n",
       "      <td>330</td>\n",
       "      <td>primary</td>\n",
       "      <td>sub_plotC</td>\n",
       "      <td>yes</td>\n",
       "      <td>...</td>\n",
       "      <td>clearwind</td>\n",
       "      <td>2.0</td>\n",
       "      <td>2.0</td>\n",
       "      <td>True</td>\n",
       "      <td>763932.0</td>\n",
       "      <td>1</td>\n",
       "      <td>C</td>\n",
       "      <td>330C1</td>\n",
       "      <td>330C155.01</td>\n",
       "      <td>330C1</td>\n",
       "    </tr>\n",
       "    <tr>\n",
       "      <th>128</th>\n",
       "      <td>2023-10-26T13:28:15.654+08:00</td>\n",
       "      <td>2023-10-26T13:34:48.967+08:00</td>\n",
       "      <td>2023-10-26</td>\n",
       "      <td>collect:49ETbl4W1cfU6fo2</td>\n",
       "      <td>Steve</td>\n",
       "      <td>1</td>\n",
       "      <td>330</td>\n",
       "      <td>primary</td>\n",
       "      <td>sub_plotC</td>\n",
       "      <td>no</td>\n",
       "      <td>...</td>\n",
       "      <td>clearwind</td>\n",
       "      <td>0.0</td>\n",
       "      <td>0.0</td>\n",
       "      <td>True</td>\n",
       "      <td>763932.0</td>\n",
       "      <td>1</td>\n",
       "      <td>C</td>\n",
       "      <td>330C1</td>\n",
       "      <td>330C1nan1</td>\n",
       "      <td>NaN</td>\n",
       "    </tr>\n",
       "    <tr>\n",
       "      <th>154</th>\n",
       "      <td>2023-11-14T11:55:58.545+08:00</td>\n",
       "      <td>2023-11-14T12:04:33.726+08:00</td>\n",
       "      <td>2023-11-14</td>\n",
       "      <td>collect:49ETbl4W1cfU6fo2</td>\n",
       "      <td>Steve</td>\n",
       "      <td>1</td>\n",
       "      <td>334</td>\n",
       "      <td>primary</td>\n",
       "      <td>sub_plotA</td>\n",
       "      <td>yes</td>\n",
       "      <td>...</td>\n",
       "      <td>clearwind</td>\n",
       "      <td>2.0</td>\n",
       "      <td>2.0</td>\n",
       "      <td>True</td>\n",
       "      <td>763932.0</td>\n",
       "      <td>1</td>\n",
       "      <td>A</td>\n",
       "      <td>334A1</td>\n",
       "      <td>334A151.01</td>\n",
       "      <td>334A1</td>\n",
       "    </tr>\n",
       "    <tr>\n",
       "      <th>155</th>\n",
       "      <td>2023-11-14T13:58:59.204+08:00</td>\n",
       "      <td>2023-11-14T14:08:21.656+08:00</td>\n",
       "      <td>2023-11-14</td>\n",
       "      <td>collect:49ETbl4W1cfU6fo2</td>\n",
       "      <td>Steve</td>\n",
       "      <td>1</td>\n",
       "      <td>334</td>\n",
       "      <td>primary</td>\n",
       "      <td>sub_plotA</td>\n",
       "      <td>yes</td>\n",
       "      <td>...</td>\n",
       "      <td>clearwind</td>\n",
       "      <td>2.0</td>\n",
       "      <td>2.0</td>\n",
       "      <td>True</td>\n",
       "      <td>763932.0</td>\n",
       "      <td>1</td>\n",
       "      <td>A</td>\n",
       "      <td>334A1</td>\n",
       "      <td>334A165.01</td>\n",
       "      <td>NaN</td>\n",
       "    </tr>\n",
       "  </tbody>\n",
       "</table>\n",
       "<p>6 rows × 1399 columns</p>\n",
       "</div>"
      ],
      "text/plain": [
       "                             start                            end       today  \\\n",
       "171  2023-11-15T12:36:54.645+08:00  2023-11-15T12:38:43.325+08:00  2023-11-15   \n",
       "172  2023-11-15T14:36:08.751+08:00  2023-11-15T15:06:03.264+08:00  2023-11-15   \n",
       "122  2023-10-23T10:29:04.246+08:00  2023-10-23T10:58:03.321+08:00  2023-10-23   \n",
       "128  2023-10-26T13:28:15.654+08:00  2023-10-26T13:34:48.967+08:00  2023-10-26   \n",
       "154  2023-11-14T11:55:58.545+08:00  2023-11-14T12:04:33.726+08:00  2023-11-14   \n",
       "155  2023-11-14T13:58:59.204+08:00  2023-11-14T14:08:21.656+08:00  2023-11-14   \n",
       "\n",
       "                     deviceid plot_info/data_recorder  plot_info/team_no  \\\n",
       "171  collect:iLqyO6ooVrqKuBLN               Christmel                  4   \n",
       "172  collect:iLqyO6ooVrqKuBLN               Christmel                  4   \n",
       "122  collect:49ETbl4W1cfU6fo2                   Steve                  1   \n",
       "128  collect:49ETbl4W1cfU6fo2                   Steve                  1   \n",
       "154  collect:49ETbl4W1cfU6fo2                   Steve                  1   \n",
       "155  collect:49ETbl4W1cfU6fo2                   Steve                  1   \n",
       "\n",
       "     plot_info/plot_code_nmbr plot_info/plot_type plot_info/sub_plot  \\\n",
       "171                       303              backup          sub_plotB   \n",
       "172                       303              backup          sub_plotB   \n",
       "122                       330             primary          sub_plotC   \n",
       "128                       330             primary          sub_plotC   \n",
       "154                       334             primary          sub_plotA   \n",
       "155                       334             primary          sub_plotA   \n",
       "\n",
       "    plot_info/yes_no  ... _submitted_by  _total_media  _media_count  \\\n",
       "171               no  ...     clearwind           0.0           0.0   \n",
       "172              yes  ...     clearwind           2.0           2.0   \n",
       "122              yes  ...     clearwind           2.0           2.0   \n",
       "128               no  ...     clearwind           0.0           0.0   \n",
       "154              yes  ...     clearwind           2.0           2.0   \n",
       "155              yes  ...     clearwind           2.0           2.0   \n",
       "\n",
       "    _media_all_received  _xform_id  plot_type_short  subplot_letter  \\\n",
       "171                True   763932.0                2               B   \n",
       "172                True   763932.0                2               B   \n",
       "122                True   763932.0                1               C   \n",
       "128                True   763932.0                1               C   \n",
       "154                True   763932.0                1               A   \n",
       "155                True   763932.0                1               A   \n",
       "\n",
       "     unique_id        uuid unique_id_updated  \n",
       "171      303B2   303B2nan4               NaN  \n",
       "172      303B2  303B261.04             303B2  \n",
       "122      330C1  330C155.01             330C1  \n",
       "128      330C1   330C1nan1               NaN  \n",
       "154      334A1  334A151.01             334A1  \n",
       "155      334A1  334A165.01               NaN  \n",
       "\n",
       "[6 rows x 1399 columns]"
      ]
     },
     "execution_count": 22,
     "metadata": {},
     "output_type": "execute_result"
    }
   ],
   "source": [
    "# these are duplicate entries where both abandoned and active plots\n",
    "# are present, drop those without an updated unique_id\n",
    "duplicates"
   ]
  },
  {
   "cell_type": "code",
   "execution_count": 23,
   "metadata": {},
   "outputs": [],
   "source": [
    "# save uuid to a list, do not drop here yet since it appears that these rows contain data\n",
    "duplicates_drop = duplicates.loc[duplicates[\"unique_id_updated\"].isna(), \"uuid\"]"
   ]
  },
  {
   "cell_type": "markdown",
   "metadata": {},
   "source": [
    "# Extract Plot info"
   ]
  },
  {
   "cell_type": "code",
   "execution_count": 24,
   "metadata": {},
   "outputs": [],
   "source": [
    "plot_info_cols = [\n",
    "    \"unique_id\",\n",
    "    \"plot_info/data_recorder\",\n",
    "    \"plot_info/team_no\",\n",
    "    \"plot_info/plot_code_nmbr\",\n",
    "    \"plot_info/plot_type\",\n",
    "    \"plot_info/sub_plot\",\n",
    "    \"plot_info/yes_no\",\n",
    "    \"plot_shift/sub_plot_shift\",\n",
    "    \"plot_GPS/GPS_waypt\",\n",
    "    \"plot_GPS/GPS_id\",\n",
    "    \"plot_GPS/GPS\",\n",
    "    \"plot_GPS/_GPS_latitude\",\n",
    "    \"plot_GPS/_GPS_longitude\",\n",
    "    \"plot_GPS/_GPS_altitude\",\n",
    "    \"plot_GPS/_GPS_precision\",\n",
    "    \"plot_GPS/photo\",\n",
    "    \"access/access_reason/slope\",\n",
    "    \"access/access_reason/danger\",\n",
    "    \"access/access_reason/distance\",\n",
    "    \"access/access_reason/water\",\n",
    "    \"access/access_reason/prohibited\",\n",
    "    \"access/access_reason/other\",\n",
    "    \"access/manual_reason\",\n",
    "    \"lc_data/lc_type\",\n",
    "    \"lc_class/lc_class\",\n",
    "    \"lc_class/lc_class_other\",\n",
    "    \"disturbance/disturbance_yesno\",\n",
    "    \"disturbance_data/disturbance_type\",\n",
    "    \"disturbance_class/disturbance_class\",\n",
    "    \"slope/slope\",\n",
    "    \"canopy/avg_height\",\n",
    "    \"canopy/can_cov\",\n",
    "    \"uuid\",\n",
    "]"
   ]
  },
  {
   "cell_type": "code",
   "execution_count": 25,
   "metadata": {},
   "outputs": [],
   "source": [
    "plot_info = data[plot_info_cols].copy()"
   ]
  },
  {
   "cell_type": "code",
   "execution_count": 26,
   "metadata": {},
   "outputs": [],
   "source": [
    "# rename columns\n",
    "plot_info_cols = {\n",
    "    \"plot_info/data_recorder\": \"data_recorder\",\n",
    "    \"plot_info/team_no\": \"team_no\",\n",
    "    \"plot_info/plot_code_nmbr\": \"plot_code_nmbr\",\n",
    "    \"plot_info/plot_type\": \"plot_type\",\n",
    "    \"plot_info/sub_plot\": \"sub_plot\",\n",
    "    \"plot_info/yes_no\": \"yes_no\",\n",
    "    \"plot_shift/sub_plot_shift\": \"sub_plot_shift\",\n",
    "    \"plot_GPS/GPS_waypt\": \"GPS_waypt\",\n",
    "    \"plot_GPS/GPS_id\": \"GPS_id\",\n",
    "    \"plot_GPS/GPS\": \"GPS\",\n",
    "    \"plot_GPS/_GPS_latitude\": \"GPS_latitude\",\n",
    "    \"plot_GPS/_GPS_longitude\": \"GPS_longitude\",\n",
    "    \"plot_GPS/_GPS_altitude\": \"GPS_altitude\",\n",
    "    \"plot_GPS/_GPS_precision\": \"GPS_precision\",\n",
    "    \"plot_GPS/photo\": \"photo\",\n",
    "    \"access/access_reason/slope\": \"access_reason_slope\",\n",
    "    \"access/access_reason/danger\": \"access_reason_danger\",\n",
    "    \"access/access_reason/distance\": \"access_reason_distance\",\n",
    "    \"access/access_reason/water\": \"access_reason_water\",\n",
    "    \"access/access_reason/prohibited\": \"access_reason_prohibited\",\n",
    "    \"access/access_reason/other\": \"access_reason_other\",\n",
    "    \"access/manual_reason\": \"manual_reason\",\n",
    "    \"lc_data/lc_type\": \"lc_type\",\n",
    "    \"lc_class/lc_class\": \"lc_class\",\n",
    "    \"lc_class/lc_class_other\": \"lc_class_other\",\n",
    "    \"disturbance/disturbance_yesno\": \"disturbance_yesno\",\n",
    "    \"disturbance_data/disturbance_type\": \"disturbance_type\",\n",
    "    \"disturbance_class/disturbance_class\": \"disturbance_class\",\n",
    "    \"slope/slope\": \"slope\",\n",
    "    \"canopy/avg_height\": \"canopy_avg_height\",\n",
    "    \"canopy/can_cov\": \"canopy_cover\",\n",
    "}"
   ]
  },
  {
   "cell_type": "code",
   "execution_count": 27,
   "metadata": {},
   "outputs": [],
   "source": [
    "plot_info.rename(columns=plot_info_cols, inplace=True)"
   ]
  },
  {
   "cell_type": "code",
   "execution_count": 28,
   "metadata": {},
   "outputs": [],
   "source": [
    "# drop duplicate plot id here since remaining duplicates\n",
    "# have empty geometry\n",
    "plot_info = plot_info[~plot_info[\"uuid\"].isin(duplicates_drop)].copy()"
   ]
  },
  {
   "cell_type": "code",
   "execution_count": 29,
   "metadata": {},
   "outputs": [],
   "source": [
    "plot_info.drop(columns=[\"uuid\"], inplace=True)"
   ]
  },
  {
   "cell_type": "markdown",
   "metadata": {},
   "source": [
    "### Set correct data types"
   ]
  },
  {
   "cell_type": "code",
   "execution_count": 30,
   "metadata": {},
   "outputs": [],
   "source": [
    "column_types = {\n",
    "    \"unique_id\": str,\n",
    "    \"data_recorder\": str,\n",
    "    \"team_no\": int,\n",
    "    \"plot_code_nmbr\": int,\n",
    "    \"plot_type\": str,\n",
    "    \"sub_plot\": str,\n",
    "    \"yes_no\": str,\n",
    "    \"sub_plot_shift\": str,\n",
    "    \"GPS\": str,\n",
    "    \"photo\": str,\n",
    "    \"access_reason_slope\": str,\n",
    "    \"access_reason_danger\": str,\n",
    "    \"access_reason_distance\": str,\n",
    "    \"access_reason_water\": str,\n",
    "    \"access_reason_prohibited\": str,\n",
    "    \"access_reason_other\": str,\n",
    "    \"manual_reason\": str,\n",
    "    \"lc_type\": str,\n",
    "    \"lc_class\": str,\n",
    "    \"lc_class_other\": str,\n",
    "    \"disturbance_yesno\": str,\n",
    "    \"disturbance_type\": str,\n",
    "    \"disturbance_class\": str,\n",
    "}"
   ]
  },
  {
   "cell_type": "code",
   "execution_count": 31,
   "metadata": {},
   "outputs": [],
   "source": [
    "plot_info = plot_info.astype(column_types)"
   ]
  },
  {
   "cell_type": "markdown",
   "metadata": {},
   "source": [
    "### Compress access reasons to one column"
   ]
  },
  {
   "cell_type": "code",
   "execution_count": 32,
   "metadata": {},
   "outputs": [],
   "source": [
    "plot_info[\"access_reason\"] = np.nan\n",
    "plot_info[\"access_reason\"] = plot_info[\"access_reason\"].astype(str)\n",
    "for index, row in plot_info.iterrows():\n",
    "    if row[\"access_reason_slope\"] == \"True\":\n",
    "        plot_info.loc[index, \"access_reason\"] = \"slope\"\n",
    "    elif row[\"access_reason_danger\"] == \"True\":\n",
    "        plot_info.loc[index, \"access_reason\"] = \"danger\"\n",
    "    elif row[\"access_reason_distance\"] == \"True\":\n",
    "        plot_info.loc[index, \"access_reason\"] = \"distance\"\n",
    "    elif row[\"access_reason_water\"] == \"True\":\n",
    "        plot_info.loc[index, \"access_reason\"] = \"water\"\n",
    "    elif row[\"access_reason_prohibited\"] == \"True\":\n",
    "        plot_info.loc[index, \"access_reason\"] = \"prohibited\"\n",
    "    elif row[\"access_reason_other\"] == \"True\":\n",
    "        plot_info.loc[index, \"access_reason\"] = row[\"manual_reason\"]"
   ]
  },
  {
   "cell_type": "code",
   "execution_count": 33,
   "metadata": {},
   "outputs": [],
   "source": [
    "# Categorize manual reasons\n",
    "plot_info.loc[plot_info.access_reason == \"90 degree slope \", \"access_reason\"] = \"slope\"\n",
    "plot_info.loc[\n",
    "    plot_info.access_reason == \"Slippery due to rainfall and sharp stones..too risky.\",\n",
    "    \"access_reason\",\n",
    "] = \"danger\"\n",
    "plot_info.loc[\n",
    "    plot_info.access_reason == \"Creek plot and slope 90 degree\", \"access_reason\"\n",
    "] = \"slope\"\n",
    "plot_info.loc[\n",
    "    plot_info.access_reason == \"Near creek 90 degree slope\", \"access_reason\"\n",
    "] = \"slope\""
   ]
  },
  {
   "cell_type": "code",
   "execution_count": 34,
   "metadata": {},
   "outputs": [],
   "source": [
    "# drop access_reason columns\n",
    "plot_info.drop(\n",
    "    columns=[\n",
    "        \"access_reason_slope\",\n",
    "        \"access_reason_danger\",\n",
    "        \"access_reason_distance\",\n",
    "        \"access_reason_water\",\n",
    "        \"access_reason_prohibited\",\n",
    "        \"access_reason_other\",\n",
    "    ],\n",
    "    inplace=True,\n",
    ")"
   ]
  },
  {
   "cell_type": "code",
   "execution_count": 35,
   "metadata": {},
   "outputs": [
    {
     "data": {
      "text/plain": [
       "access_reason\n",
       "nan       633\n",
       "slope      29\n",
       "danger      9\n",
       "Name: count, dtype: int64"
      ]
     },
     "execution_count": 35,
     "metadata": {},
     "output_type": "execute_result"
    }
   ],
   "source": [
    "plot_info.access_reason.value_counts()"
   ]
  },
  {
   "cell_type": "markdown",
   "metadata": {},
   "source": [
    "## Calculate corrected plot area"
   ]
  },
  {
   "cell_type": "code",
   "execution_count": 36,
   "metadata": {},
   "outputs": [],
   "source": [
    "# Convert slope from percentage to radians\n",
    "plot_info[\"slope_radians\"] = plot_info[\"slope\"].apply(lambda x: atan(x / 100))"
   ]
  },
  {
   "cell_type": "code",
   "execution_count": 37,
   "metadata": {},
   "outputs": [],
   "source": [
    "# Calculate corrected radius based on slope (in radians)\n",
    "corrected_radius_n2 = 5 / np.cos(plot_info[\"slope_radians\"])\n",
    "corrected_radius_n3 = 15 / np.cos(plot_info[\"slope_radians\"])\n",
    "corrected_radius_n4 = 20 / np.cos(plot_info[\"slope_radians\"])"
   ]
  },
  {
   "cell_type": "code",
   "execution_count": 38,
   "metadata": {},
   "outputs": [],
   "source": [
    "# Calculate new total subplot area based on corrected radius\n",
    "plot_info[\"corrected_plot_area_n2_m2\"] = np.pi * corrected_radius_n2**2\n",
    "plot_info[\"corrected_plot_area_n3_m2\"] = np.pi * corrected_radius_n3**2\n",
    "plot_info[\"corrected_plot_area_n4_m2\"] = np.pi * corrected_radius_n4**2"
   ]
  },
  {
   "cell_type": "code",
   "execution_count": 39,
   "metadata": {},
   "outputs": [
    {
     "name": "stdout",
     "output_type": "stream",
     "text": [
      "<class 'pandas.core.frame.DataFrame'>\n",
      "Index: 671 entries, 0 to 673\n",
      "Data columns (total 31 columns):\n",
      " #   Column                     Non-Null Count  Dtype  \n",
      "---  ------                     --------------  -----  \n",
      " 0   unique_id                  671 non-null    object \n",
      " 1   data_recorder              671 non-null    object \n",
      " 2   team_no                    671 non-null    int64  \n",
      " 3   plot_code_nmbr             671 non-null    int64  \n",
      " 4   plot_type                  671 non-null    object \n",
      " 5   sub_plot                   671 non-null    object \n",
      " 6   yes_no                     671 non-null    object \n",
      " 7   sub_plot_shift             671 non-null    object \n",
      " 8   GPS_waypt                  633 non-null    float64\n",
      " 9   GPS_id                     633 non-null    float64\n",
      " 10  GPS                        671 non-null    object \n",
      " 11  GPS_latitude               576 non-null    float64\n",
      " 12  GPS_longitude              576 non-null    float64\n",
      " 13  GPS_altitude               576 non-null    float64\n",
      " 14  GPS_precision              576 non-null    float64\n",
      " 15  photo                      671 non-null    object \n",
      " 16  manual_reason              671 non-null    object \n",
      " 17  lc_type                    671 non-null    object \n",
      " 18  lc_class                   671 non-null    object \n",
      " 19  lc_class_other             671 non-null    object \n",
      " 20  disturbance_yesno          671 non-null    object \n",
      " 21  disturbance_type           671 non-null    object \n",
      " 22  disturbance_class          671 non-null    object \n",
      " 23  slope                      619 non-null    float64\n",
      " 24  canopy_avg_height          619 non-null    float64\n",
      " 25  canopy_cover               619 non-null    float64\n",
      " 26  access_reason              671 non-null    object \n",
      " 27  slope_radians              619 non-null    float64\n",
      " 28  corrected_plot_area_n2_m2  619 non-null    float64\n",
      " 29  corrected_plot_area_n3_m2  619 non-null    float64\n",
      " 30  corrected_plot_area_n4_m2  619 non-null    float64\n",
      "dtypes: float64(13), int64(2), object(16)\n",
      "memory usage: 183.9+ KB\n"
     ]
    },
    {
     "data": {
      "text/plain": [
       "(None,\n",
       "   unique_id data_recorder  team_no  plot_code_nmbr plot_type   sub_plot  \\\n",
       " 0     308D1         Steve        1             308   primary  sub_plotD   \n",
       " 1     308A1         Steve        1             308   primary  sub_plotA   \n",
       " \n",
       "   yes_no sub_plot_shift  GPS_waypt  GPS_id  ... disturbance_type  \\\n",
       " 0    yes       no_shift        7.0     1.0  ...              nan   \n",
       " 1    yes       no_shift        8.0     1.0  ...              nan   \n",
       " \n",
       "    disturbance_class  slope  canopy_avg_height  canopy_cover access_reason  \\\n",
       " 0                nan   23.0               12.0           3.0           nan   \n",
       " 1                nan   13.0                8.0           4.0           nan   \n",
       " \n",
       "   slope_radians corrected_plot_area_n2_m2 corrected_plot_area_n3_m2  \\\n",
       " 0      0.226068                 82.694573                744.251154   \n",
       " 1      0.129275                 79.867139                718.804253   \n",
       " \n",
       "   corrected_plot_area_n4_m2  \n",
       " 0               1323.113162  \n",
       " 1               1277.874228  \n",
       " \n",
       " [2 rows x 31 columns])"
      ]
     },
     "execution_count": 39,
     "metadata": {},
     "output_type": "execute_result"
    }
   ],
   "source": [
    "plot_info.info(), plot_info.head(2)"
   ]
  },
  {
   "cell_type": "markdown",
   "metadata": {},
   "source": [
    "## Export data and upload to BQ"
   ]
  },
  {
   "cell_type": "code",
   "execution_count": 40,
   "metadata": {},
   "outputs": [],
   "source": [
    "# Export CSV\n",
    "if len(plot_info) != 0:\n",
    "    plot_info.to_csv(CARBON_POOLS_OUTDIR / \"plot_info.csv\", index=False)"
   ]
  },
  {
   "cell_type": "code",
   "execution_count": 41,
   "metadata": {},
   "outputs": [
    {
     "name": "stderr",
     "output_type": "stream",
     "text": [
      "100%|██████████| 1/1 [00:00<00:00, 9000.65it/s]\n"
     ]
    }
   ],
   "source": [
    "# Upload to BQ\n",
    "if len(plot_info) != 0:\n",
    "    pandas_gbq.to_gbq(\n",
    "        plot_info,\n",
    "        f\"{DATASET_ID}.plot_info\",\n",
    "        project_id=GCP_PROJ_ID,\n",
    "        if_exists=IF_EXISTS,\n",
    "    )"
   ]
  },
  {
   "cell_type": "markdown",
   "metadata": {},
   "source": [
    "# Extract info per carbon pool"
   ]
  },
  {
   "cell_type": "markdown",
   "metadata": {},
   "source": [
    "# Saplings, Non tree vegetation and litter"
   ]
  },
  {
   "cell_type": "code",
   "execution_count": 81,
   "metadata": {},
   "outputs": [],
   "source": [
    "cols = [\n",
    "    \"unique_id\",\n",
    "    \"sapling_data/count_saplings\",\n",
    "    \"ntv_data/litter_data/litter_bag_weight\",\n",
    "    \"ntv_data/litter_data/litter_sample_weight\",\n",
    "    \"ntv_data/ntv_bag_weight\",\n",
    "    \"ntv_data/ntv_sample_weight\",\n",
    "    \"slope/slope\",\n",
    "    \"plot_info/team_no\",\n",
    "]"
   ]
  },
  {
   "cell_type": "code",
   "execution_count": 82,
   "metadata": {},
   "outputs": [],
   "source": [
    "# rename columns\n",
    "col_names = {\n",
    "    \"sapling_data/count_saplings\": \"count_saplings\",\n",
    "    \"ntv_data/litter_data/litter_bag_weight\": \"litter_bag_weight\",\n",
    "    \"ntv_data/litter_data/litter_sample_weight\": \"litter_sample_weight\",\n",
    "    \"ntv_data/ntv_bag_weight\": \"ntv_bag_weight\",\n",
    "    \"ntv_data/ntv_sample_weight\": \"ntv_sample_weight\",\n",
    "}"
   ]
  },
  {
   "cell_type": "code",
   "execution_count": 83,
   "metadata": {},
   "outputs": [],
   "source": [
    "ntv = data[cols].copy()"
   ]
  },
  {
   "cell_type": "code",
   "execution_count": 84,
   "metadata": {},
   "outputs": [],
   "source": [
    "ntv.rename(columns=col_names, inplace=True)"
   ]
  },
  {
   "cell_type": "markdown",
   "metadata": {},
   "source": [
    "## remove duplicates"
   ]
  },
  {
   "cell_type": "code",
   "execution_count": 86,
   "metadata": {},
   "outputs": [],
   "source": [
    "ntv[\"uuid\"] = (\n",
    "    ntv[\"unique_id\"]\n",
    "    + ntv[\"slope/slope\"].astype(str)\n",
    "    + ntv[\"plot_info/team_no\"].astype(str)\n",
    ")"
   ]
  },
  {
   "cell_type": "code",
   "execution_count": 87,
   "metadata": {},
   "outputs": [],
   "source": [
    "# drop duplicate plot id here since remaining duplicates\n",
    "# have empty geometry\n",
    "ntv = ntv[~ntv[\"uuid\"].isin(duplicates_drop)].copy()"
   ]
  },
  {
   "cell_type": "code",
   "execution_count": 90,
   "metadata": {},
   "outputs": [
    {
     "data": {
      "text/html": [
       "<div>\n",
       "<style scoped>\n",
       "    .dataframe tbody tr th:only-of-type {\n",
       "        vertical-align: middle;\n",
       "    }\n",
       "\n",
       "    .dataframe tbody tr th {\n",
       "        vertical-align: top;\n",
       "    }\n",
       "\n",
       "    .dataframe thead th {\n",
       "        text-align: right;\n",
       "    }\n",
       "</style>\n",
       "<table border=\"1\" class=\"dataframe\">\n",
       "  <thead>\n",
       "    <tr style=\"text-align: right;\">\n",
       "      <th></th>\n",
       "      <th>unique_id</th>\n",
       "      <th>count_saplings</th>\n",
       "      <th>litter_bag_weight</th>\n",
       "      <th>litter_sample_weight</th>\n",
       "      <th>ntv_bag_weight</th>\n",
       "      <th>ntv_sample_weight</th>\n",
       "      <th>slope/slope</th>\n",
       "      <th>plot_info/team_no</th>\n",
       "      <th>uuid</th>\n",
       "    </tr>\n",
       "  </thead>\n",
       "  <tbody>\n",
       "  </tbody>\n",
       "</table>\n",
       "</div>"
      ],
      "text/plain": [
       "Empty DataFrame\n",
       "Columns: [unique_id, count_saplings, litter_bag_weight, litter_sample_weight, ntv_bag_weight, ntv_sample_weight, slope/slope, plot_info/team_no, uuid]\n",
       "Index: []"
      ]
     },
     "execution_count": 90,
     "metadata": {},
     "output_type": "execute_result"
    }
   ],
   "source": [
    "ntv[ntv.duplicated(subset=\"unique_id\")]"
   ]
  },
  {
   "cell_type": "code",
   "execution_count": 91,
   "metadata": {},
   "outputs": [],
   "source": [
    "ntv.drop(columns=[\"uuid\", \"slope/slope\", \"plot_info/team_no\"], inplace=True)"
   ]
  },
  {
   "cell_type": "code",
   "execution_count": 93,
   "metadata": {},
   "outputs": [
    {
     "name": "stdout",
     "output_type": "stream",
     "text": [
      "<class 'pandas.core.frame.DataFrame'>\n",
      "Index: 671 entries, 0 to 673\n",
      "Data columns (total 6 columns):\n",
      " #   Column                Non-Null Count  Dtype  \n",
      "---  ------                --------------  -----  \n",
      " 0   unique_id             671 non-null    object \n",
      " 1   count_saplings        589 non-null    float64\n",
      " 2   litter_bag_weight     619 non-null    float64\n",
      " 3   litter_sample_weight  619 non-null    float64\n",
      " 4   ntv_bag_weight        619 non-null    float64\n",
      " 5   ntv_sample_weight     619 non-null    float64\n",
      "dtypes: float64(5), object(1)\n",
      "memory usage: 36.7+ KB\n"
     ]
    },
    {
     "data": {
      "text/plain": [
       "(None,\n",
       "   unique_id  count_saplings  litter_bag_weight  litter_sample_weight  \\\n",
       " 0     308D1             2.0               70.0                 770.0   \n",
       " 1     308A1             NaN               50.0                 260.0   \n",
       " \n",
       "    ntv_bag_weight  ntv_sample_weight  \n",
       " 0            70.0              870.0  \n",
       " 1            50.0              110.0  )"
      ]
     },
     "execution_count": 93,
     "metadata": {},
     "output_type": "execute_result"
    }
   ],
   "source": [
    "ntv.info(), ntv.head(2)"
   ]
  },
  {
   "cell_type": "markdown",
   "metadata": {},
   "source": [
    "## Export data and upload to BQ"
   ]
  },
  {
   "cell_type": "code",
   "execution_count": 95,
   "metadata": {},
   "outputs": [],
   "source": [
    "# Export CSV\n",
    "if len(ntv) != 0:\n",
    "    ntv.to_csv(CARBON_POOLS_OUTDIR / \"saplings_ntv_litter.csv\", index=False)"
   ]
  },
  {
   "cell_type": "code",
   "execution_count": 96,
   "metadata": {},
   "outputs": [
    {
     "name": "stderr",
     "output_type": "stream",
     "text": [
      "100%|██████████| 1/1 [00:00<00:00, 7752.87it/s]\n"
     ]
    }
   ],
   "source": [
    "# Upload to BQ\n",
    "if len(ntv) != 0:\n",
    "    pandas_gbq.to_gbq(\n",
    "        ntv,\n",
    "        f\"{DATASET_ID}.saplings_ntv_litter\",\n",
    "        project_id=GCP_PROJ_ID,\n",
    "        if_exists=IF_EXISTS,\n",
    "    )"
   ]
  },
  {
   "cell_type": "markdown",
   "metadata": {},
   "source": [
    "# Living Trees"
   ]
  },
  {
   "cell_type": "code",
   "execution_count": 49,
   "metadata": {},
   "outputs": [],
   "source": [
    "trees = extract_trees(data, NESTS)"
   ]
  },
  {
   "cell_type": "code",
   "execution_count": 50,
   "metadata": {},
   "outputs": [
    {
     "name": "stdout",
     "output_type": "stream",
     "text": [
      "<class 'pandas.core.frame.DataFrame'>\n",
      "RangeIndex: 6579 entries, 0 to 6578\n",
      "Data columns (total 5 columns):\n",
      " #   Column        Non-Null Count  Dtype  \n",
      "---  ------        --------------  -----  \n",
      " 0   unique_id     6579 non-null   object \n",
      " 1   nest          6579 non-null   int64  \n",
      " 2   species_name  5718 non-null   float64\n",
      " 3   family_name   1330 non-null   float64\n",
      " 4   DBH           6579 non-null   float64\n",
      "dtypes: float64(3), int64(1), object(1)\n",
      "memory usage: 257.1+ KB\n"
     ]
    },
    {
     "data": {
      "text/plain": [
       "(None,\n",
       "   unique_id  nest  species_name  family_name   DBH\n",
       " 0     308D1     2           NaN         25.0  10.8\n",
       " 1     308D1     2           NaN         25.0  17.3)"
      ]
     },
     "execution_count": 50,
     "metadata": {},
     "output_type": "execute_result"
    }
   ],
   "source": [
    "trees.info(), trees.head(2)"
   ]
  },
  {
   "cell_type": "code",
   "execution_count": 51,
   "metadata": {},
   "outputs": [
    {
     "data": {
      "text/html": [
       "<div>\n",
       "<style scoped>\n",
       "    .dataframe tbody tr th:only-of-type {\n",
       "        vertical-align: middle;\n",
       "    }\n",
       "\n",
       "    .dataframe tbody tr th {\n",
       "        vertical-align: top;\n",
       "    }\n",
       "\n",
       "    .dataframe thead th {\n",
       "        text-align: right;\n",
       "    }\n",
       "</style>\n",
       "<table border=\"1\" class=\"dataframe\">\n",
       "  <thead>\n",
       "    <tr style=\"text-align: right;\">\n",
       "      <th></th>\n",
       "      <th>nest</th>\n",
       "      <th>species_name</th>\n",
       "      <th>family_name</th>\n",
       "      <th>DBH</th>\n",
       "    </tr>\n",
       "  </thead>\n",
       "  <tbody>\n",
       "    <tr>\n",
       "      <th>count</th>\n",
       "      <td>6579.000000</td>\n",
       "      <td>5718.000000</td>\n",
       "      <td>1330.000000</td>\n",
       "      <td>6579.000000</td>\n",
       "    </tr>\n",
       "    <tr>\n",
       "      <th>mean</th>\n",
       "      <td>2.736434</td>\n",
       "      <td>326.618573</td>\n",
       "      <td>84.354135</td>\n",
       "      <td>40.478231</td>\n",
       "    </tr>\n",
       "    <tr>\n",
       "      <th>std</th>\n",
       "      <td>0.713525</td>\n",
       "      <td>269.467916</td>\n",
       "      <td>228.708801</td>\n",
       "      <td>25.398493</td>\n",
       "    </tr>\n",
       "    <tr>\n",
       "      <th>min</th>\n",
       "      <td>2.000000</td>\n",
       "      <td>2.000000</td>\n",
       "      <td>2.000000</td>\n",
       "      <td>10.000000</td>\n",
       "    </tr>\n",
       "    <tr>\n",
       "      <th>25%</th>\n",
       "      <td>2.000000</td>\n",
       "      <td>194.000000</td>\n",
       "      <td>22.000000</td>\n",
       "      <td>19.800000</td>\n",
       "    </tr>\n",
       "    <tr>\n",
       "      <th>50%</th>\n",
       "      <td>3.000000</td>\n",
       "      <td>280.000000</td>\n",
       "      <td>22.000000</td>\n",
       "      <td>35.900000</td>\n",
       "    </tr>\n",
       "    <tr>\n",
       "      <th>75%</th>\n",
       "      <td>3.000000</td>\n",
       "      <td>313.000000</td>\n",
       "      <td>33.000000</td>\n",
       "      <td>52.900000</td>\n",
       "    </tr>\n",
       "    <tr>\n",
       "      <th>max</th>\n",
       "      <td>4.000000</td>\n",
       "      <td>999.000000</td>\n",
       "      <td>999.000000</td>\n",
       "      <td>199.000000</td>\n",
       "    </tr>\n",
       "  </tbody>\n",
       "</table>\n",
       "</div>"
      ],
      "text/plain": [
       "              nest  species_name  family_name          DBH\n",
       "count  6579.000000   5718.000000  1330.000000  6579.000000\n",
       "mean      2.736434    326.618573    84.354135    40.478231\n",
       "std       0.713525    269.467916   228.708801    25.398493\n",
       "min       2.000000      2.000000     2.000000    10.000000\n",
       "25%       2.000000    194.000000    22.000000    19.800000\n",
       "50%       3.000000    280.000000    22.000000    35.900000\n",
       "75%       3.000000    313.000000    33.000000    52.900000\n",
       "max       4.000000    999.000000   999.000000   199.000000"
      ]
     },
     "execution_count": 51,
     "metadata": {},
     "output_type": "execute_result"
    }
   ],
   "source": [
    "trees.describe()"
   ]
  },
  {
   "cell_type": "markdown",
   "metadata": {},
   "source": [
    "## Export data and upload to BQ"
   ]
  },
  {
   "cell_type": "code",
   "execution_count": 52,
   "metadata": {},
   "outputs": [],
   "source": [
    "# Export to CSV\n",
    "trees.to_csv(CARBON_POOLS_OUTDIR / \"trees.csv\", index=False)"
   ]
  },
  {
   "cell_type": "code",
   "execution_count": 53,
   "metadata": {},
   "outputs": [
    {
     "name": "stderr",
     "output_type": "stream",
     "text": [
      "100%|██████████| 1/1 [00:00<00:00, 9892.23it/s]\n"
     ]
    }
   ],
   "source": [
    "# Upload to BQ\n",
    "pandas_gbq.to_gbq(\n",
    "    trees, f\"{DATASET_ID}.trees\", project_id=GCP_PROJ_ID, if_exists=IF_EXISTS\n",
    ")"
   ]
  },
  {
   "cell_type": "markdown",
   "metadata": {},
   "source": [
    "# Tree Stumps"
   ]
  },
  {
   "cell_type": "markdown",
   "metadata": {},
   "source": [
    "[delete when fixed] Note: removed `'biomass_per_kg_tree': [biomass_per_kg_tree],`. In the original code there was a placeholder column created, this can be added later in the process when biomass per tree is actually calculated"
   ]
  },
  {
   "cell_type": "code",
   "execution_count": 54,
   "metadata": {},
   "outputs": [],
   "source": [
    "stumps = extract_stumps(data, NESTS)"
   ]
  },
  {
   "cell_type": "code",
   "execution_count": 55,
   "metadata": {},
   "outputs": [
    {
     "name": "stdout",
     "output_type": "stream",
     "text": [
      "<class 'pandas.core.frame.DataFrame'>\n",
      "RangeIndex: 1754 entries, 0 to 1753\n",
      "Data columns (total 11 columns):\n",
      " #   Column         Non-Null Count  Dtype  \n",
      "---  ------         --------------  -----  \n",
      " 0   unique_id      1754 non-null   object \n",
      " 1   nest           1754 non-null   int64  \n",
      " 2   Diam1          1754 non-null   float64\n",
      " 3   Diam2          1754 non-null   float64\n",
      " 4   slope          1754 non-null   float64\n",
      " 5   height         1754 non-null   float64\n",
      " 6   cut_cl         1754 non-null   object \n",
      " 7   hollow_go      1754 non-null   object \n",
      " 8   hollow_d1      171 non-null    float64\n",
      " 9   hollow_d2      171 non-null    float64\n",
      " 10  stump_density  1754 non-null   float64\n",
      "dtypes: float64(7), int64(1), object(3)\n",
      "memory usage: 150.9+ KB\n"
     ]
    },
    {
     "data": {
      "text/plain": [
       "(None,\n",
       "   unique_id  nest  Diam1  Diam2  slope  height   cut_cl hollow_go  hollow_d1  \\\n",
       " 0     308C1     2   30.0   29.0   43.0    18.0  saw_axe        no        NaN   \n",
       " 1     249B1     2   15.0   10.0   51.0    80.0  saw_axe        no        NaN   \n",
       " \n",
       "    hollow_d2  stump_density  \n",
       " 0        NaN            1.0  \n",
       " 1        NaN            3.0  )"
      ]
     },
     "execution_count": 55,
     "metadata": {},
     "output_type": "execute_result"
    }
   ],
   "source": [
    "stumps.info(), stumps.head(2)"
   ]
  },
  {
   "cell_type": "code",
   "execution_count": 56,
   "metadata": {},
   "outputs": [
    {
     "data": {
      "text/html": [
       "<div>\n",
       "<style scoped>\n",
       "    .dataframe tbody tr th:only-of-type {\n",
       "        vertical-align: middle;\n",
       "    }\n",
       "\n",
       "    .dataframe tbody tr th {\n",
       "        vertical-align: top;\n",
       "    }\n",
       "\n",
       "    .dataframe thead th {\n",
       "        text-align: right;\n",
       "    }\n",
       "</style>\n",
       "<table border=\"1\" class=\"dataframe\">\n",
       "  <thead>\n",
       "    <tr style=\"text-align: right;\">\n",
       "      <th></th>\n",
       "      <th>nest</th>\n",
       "      <th>Diam1</th>\n",
       "      <th>Diam2</th>\n",
       "      <th>slope</th>\n",
       "      <th>height</th>\n",
       "      <th>hollow_d1</th>\n",
       "      <th>hollow_d2</th>\n",
       "      <th>stump_density</th>\n",
       "    </tr>\n",
       "  </thead>\n",
       "  <tbody>\n",
       "    <tr>\n",
       "      <th>count</th>\n",
       "      <td>1754.000000</td>\n",
       "      <td>1754.000000</td>\n",
       "      <td>1754.000000</td>\n",
       "      <td>1754.000000</td>\n",
       "      <td>1754.000000</td>\n",
       "      <td>171.000000</td>\n",
       "      <td>171.000000</td>\n",
       "      <td>1754.000000</td>\n",
       "    </tr>\n",
       "    <tr>\n",
       "      <th>mean</th>\n",
       "      <td>3.111745</td>\n",
       "      <td>40.575610</td>\n",
       "      <td>36.617423</td>\n",
       "      <td>32.697834</td>\n",
       "      <td>83.215314</td>\n",
       "      <td>36.059532</td>\n",
       "      <td>33.773450</td>\n",
       "      <td>2.128848</td>\n",
       "    </tr>\n",
       "    <tr>\n",
       "      <th>std</th>\n",
       "      <td>0.636456</td>\n",
       "      <td>28.664704</td>\n",
       "      <td>24.662826</td>\n",
       "      <td>18.110894</td>\n",
       "      <td>40.670748</td>\n",
       "      <td>23.908597</td>\n",
       "      <td>21.810063</td>\n",
       "      <td>0.791743</td>\n",
       "    </tr>\n",
       "    <tr>\n",
       "      <th>min</th>\n",
       "      <td>2.000000</td>\n",
       "      <td>10.000000</td>\n",
       "      <td>10.000000</td>\n",
       "      <td>1.000000</td>\n",
       "      <td>1.500000</td>\n",
       "      <td>5.000000</td>\n",
       "      <td>5.000000</td>\n",
       "      <td>1.000000</td>\n",
       "    </tr>\n",
       "    <tr>\n",
       "      <th>25%</th>\n",
       "      <td>3.000000</td>\n",
       "      <td>20.000000</td>\n",
       "      <td>18.700000</td>\n",
       "      <td>16.000000</td>\n",
       "      <td>52.000000</td>\n",
       "      <td>18.550000</td>\n",
       "      <td>18.250000</td>\n",
       "      <td>1.000000</td>\n",
       "    </tr>\n",
       "    <tr>\n",
       "      <th>50%</th>\n",
       "      <td>3.000000</td>\n",
       "      <td>32.000000</td>\n",
       "      <td>30.000000</td>\n",
       "      <td>33.000000</td>\n",
       "      <td>80.000000</td>\n",
       "      <td>30.000000</td>\n",
       "      <td>30.000000</td>\n",
       "      <td>2.000000</td>\n",
       "    </tr>\n",
       "    <tr>\n",
       "      <th>75%</th>\n",
       "      <td>4.000000</td>\n",
       "      <td>53.725000</td>\n",
       "      <td>48.875000</td>\n",
       "      <td>47.000000</td>\n",
       "      <td>110.000000</td>\n",
       "      <td>48.000000</td>\n",
       "      <td>43.000000</td>\n",
       "      <td>3.000000</td>\n",
       "    </tr>\n",
       "    <tr>\n",
       "      <th>max</th>\n",
       "      <td>4.000000</td>\n",
       "      <td>195.000000</td>\n",
       "      <td>198.000000</td>\n",
       "      <td>80.000000</td>\n",
       "      <td>199.100000</td>\n",
       "      <td>160.000000</td>\n",
       "      <td>150.000000</td>\n",
       "      <td>3.000000</td>\n",
       "    </tr>\n",
       "  </tbody>\n",
       "</table>\n",
       "</div>"
      ],
      "text/plain": [
       "              nest        Diam1        Diam2        slope       height  \\\n",
       "count  1754.000000  1754.000000  1754.000000  1754.000000  1754.000000   \n",
       "mean      3.111745    40.575610    36.617423    32.697834    83.215314   \n",
       "std       0.636456    28.664704    24.662826    18.110894    40.670748   \n",
       "min       2.000000    10.000000    10.000000     1.000000     1.500000   \n",
       "25%       3.000000    20.000000    18.700000    16.000000    52.000000   \n",
       "50%       3.000000    32.000000    30.000000    33.000000    80.000000   \n",
       "75%       4.000000    53.725000    48.875000    47.000000   110.000000   \n",
       "max       4.000000   195.000000   198.000000    80.000000   199.100000   \n",
       "\n",
       "        hollow_d1   hollow_d2  stump_density  \n",
       "count  171.000000  171.000000    1754.000000  \n",
       "mean    36.059532   33.773450       2.128848  \n",
       "std     23.908597   21.810063       0.791743  \n",
       "min      5.000000    5.000000       1.000000  \n",
       "25%     18.550000   18.250000       1.000000  \n",
       "50%     30.000000   30.000000       2.000000  \n",
       "75%     48.000000   43.000000       3.000000  \n",
       "max    160.000000  150.000000       3.000000  "
      ]
     },
     "execution_count": 56,
     "metadata": {},
     "output_type": "execute_result"
    }
   ],
   "source": [
    "stumps.describe()"
   ]
  },
  {
   "cell_type": "markdown",
   "metadata": {},
   "source": [
    "## Export data and upload to BQ"
   ]
  },
  {
   "cell_type": "code",
   "execution_count": 57,
   "metadata": {},
   "outputs": [],
   "source": [
    "# Export to CSV\n",
    "stumps.to_csv(CARBON_POOLS_OUTDIR / \"stumps.csv\", index=False)"
   ]
  },
  {
   "cell_type": "code",
   "execution_count": 58,
   "metadata": {},
   "outputs": [
    {
     "name": "stderr",
     "output_type": "stream",
     "text": [
      "100%|██████████| 1/1 [00:00<00:00, 11915.64it/s]\n"
     ]
    }
   ],
   "source": [
    "# Upload to BQ\n",
    "pandas_gbq.to_gbq(\n",
    "    stumps, f\"{DATASET_ID}.stumps\", project_id=GCP_PROJ_ID, if_exists=IF_EXISTS\n",
    ")"
   ]
  },
  {
   "cell_type": "markdown",
   "metadata": {},
   "source": [
    "# Dead Trees: Class 1"
   ]
  },
  {
   "cell_type": "code",
   "execution_count": 59,
   "metadata": {},
   "outputs": [
    {
     "name": "stdout",
     "output_type": "stream",
     "text": [
      "No class 1 dead trees found in nest 2\n"
     ]
    }
   ],
   "source": [
    "dead_trees_c1 = extract_dead_trees_class1(data, NESTS)"
   ]
  },
  {
   "cell_type": "code",
   "execution_count": 60,
   "metadata": {},
   "outputs": [],
   "source": [
    "if not dead_trees_c1.empty:\n",
    "    dead_trees_c1[\"class\"] = 1\n",
    "    dead_trees_c1[\"subclass\"] = np.nan"
   ]
  },
  {
   "cell_type": "code",
   "execution_count": 61,
   "metadata": {},
   "outputs": [
    {
     "name": "stdout",
     "output_type": "stream",
     "text": [
      "<class 'pandas.core.frame.DataFrame'>\n",
      "RangeIndex: 2 entries, 0 to 1\n",
      "Data columns (total 6 columns):\n",
      " #   Column        Non-Null Count  Dtype  \n",
      "---  ------        --------------  -----  \n",
      " 0   unique_id     2 non-null      object \n",
      " 1   nest          2 non-null      int64  \n",
      " 2   species_name  2 non-null      float64\n",
      " 3   DBH_cl1       2 non-null      float64\n",
      " 4   class         2 non-null      int64  \n",
      " 5   subclass      0 non-null      float64\n",
      "dtypes: float64(3), int64(2), object(1)\n",
      "memory usage: 228.0+ bytes\n"
     ]
    },
    {
     "data": {
      "text/plain": [
       "(None,\n",
       "   unique_id  nest  species_name  DBH_cl1  class  subclass\n",
       " 0     290C1     3         145.0     38.0      1       NaN\n",
       " 1     290C1     4         177.0     58.8      1       NaN)"
      ]
     },
     "execution_count": 61,
     "metadata": {},
     "output_type": "execute_result"
    }
   ],
   "source": [
    "dead_trees_c1.info(), dead_trees_c1.head(2)"
   ]
  },
  {
   "cell_type": "code",
   "execution_count": 62,
   "metadata": {},
   "outputs": [
    {
     "data": {
      "text/html": [
       "<div>\n",
       "<style scoped>\n",
       "    .dataframe tbody tr th:only-of-type {\n",
       "        vertical-align: middle;\n",
       "    }\n",
       "\n",
       "    .dataframe tbody tr th {\n",
       "        vertical-align: top;\n",
       "    }\n",
       "\n",
       "    .dataframe thead th {\n",
       "        text-align: right;\n",
       "    }\n",
       "</style>\n",
       "<table border=\"1\" class=\"dataframe\">\n",
       "  <thead>\n",
       "    <tr style=\"text-align: right;\">\n",
       "      <th></th>\n",
       "      <th>nest</th>\n",
       "      <th>species_name</th>\n",
       "      <th>DBH_cl1</th>\n",
       "      <th>class</th>\n",
       "      <th>subclass</th>\n",
       "    </tr>\n",
       "  </thead>\n",
       "  <tbody>\n",
       "    <tr>\n",
       "      <th>count</th>\n",
       "      <td>2.000000</td>\n",
       "      <td>2.000000</td>\n",
       "      <td>2.000000</td>\n",
       "      <td>2.0</td>\n",
       "      <td>0.0</td>\n",
       "    </tr>\n",
       "    <tr>\n",
       "      <th>mean</th>\n",
       "      <td>3.500000</td>\n",
       "      <td>161.000000</td>\n",
       "      <td>48.400000</td>\n",
       "      <td>1.0</td>\n",
       "      <td>NaN</td>\n",
       "    </tr>\n",
       "    <tr>\n",
       "      <th>std</th>\n",
       "      <td>0.707107</td>\n",
       "      <td>22.627417</td>\n",
       "      <td>14.707821</td>\n",
       "      <td>0.0</td>\n",
       "      <td>NaN</td>\n",
       "    </tr>\n",
       "    <tr>\n",
       "      <th>min</th>\n",
       "      <td>3.000000</td>\n",
       "      <td>145.000000</td>\n",
       "      <td>38.000000</td>\n",
       "      <td>1.0</td>\n",
       "      <td>NaN</td>\n",
       "    </tr>\n",
       "    <tr>\n",
       "      <th>25%</th>\n",
       "      <td>3.250000</td>\n",
       "      <td>153.000000</td>\n",
       "      <td>43.200000</td>\n",
       "      <td>1.0</td>\n",
       "      <td>NaN</td>\n",
       "    </tr>\n",
       "    <tr>\n",
       "      <th>50%</th>\n",
       "      <td>3.500000</td>\n",
       "      <td>161.000000</td>\n",
       "      <td>48.400000</td>\n",
       "      <td>1.0</td>\n",
       "      <td>NaN</td>\n",
       "    </tr>\n",
       "    <tr>\n",
       "      <th>75%</th>\n",
       "      <td>3.750000</td>\n",
       "      <td>169.000000</td>\n",
       "      <td>53.600000</td>\n",
       "      <td>1.0</td>\n",
       "      <td>NaN</td>\n",
       "    </tr>\n",
       "    <tr>\n",
       "      <th>max</th>\n",
       "      <td>4.000000</td>\n",
       "      <td>177.000000</td>\n",
       "      <td>58.800000</td>\n",
       "      <td>1.0</td>\n",
       "      <td>NaN</td>\n",
       "    </tr>\n",
       "  </tbody>\n",
       "</table>\n",
       "</div>"
      ],
      "text/plain": [
       "           nest  species_name    DBH_cl1  class  subclass\n",
       "count  2.000000      2.000000   2.000000    2.0       0.0\n",
       "mean   3.500000    161.000000  48.400000    1.0       NaN\n",
       "std    0.707107     22.627417  14.707821    0.0       NaN\n",
       "min    3.000000    145.000000  38.000000    1.0       NaN\n",
       "25%    3.250000    153.000000  43.200000    1.0       NaN\n",
       "50%    3.500000    161.000000  48.400000    1.0       NaN\n",
       "75%    3.750000    169.000000  53.600000    1.0       NaN\n",
       "max    4.000000    177.000000  58.800000    1.0       NaN"
      ]
     },
     "execution_count": 62,
     "metadata": {},
     "output_type": "execute_result"
    }
   ],
   "source": [
    "dead_trees_c1.describe()"
   ]
  },
  {
   "cell_type": "markdown",
   "metadata": {},
   "source": [
    "# Dead Trees: Class 2 - short"
   ]
  },
  {
   "cell_type": "code",
   "execution_count": 63,
   "metadata": {},
   "outputs": [
    {
     "name": "stdout",
     "output_type": "stream",
     "text": [
      "No dead trees of class 2 found in nest 2\n",
      "No dead trees of class 2 found in nest 3\n",
      "No dead trees of class 2 found in nest 4\n"
     ]
    }
   ],
   "source": [
    "dead_trees_c2s = extract_dead_trees_class2s(data, NESTS)"
   ]
  },
  {
   "cell_type": "code",
   "execution_count": 64,
   "metadata": {},
   "outputs": [
    {
     "name": "stdout",
     "output_type": "stream",
     "text": [
      "<class 'pandas.core.frame.DataFrame'>\n",
      "RangeIndex: 0 entries\n",
      "Empty DataFrame\n"
     ]
    },
    {
     "data": {
      "text/plain": [
       "(None,\n",
       " Empty DataFrame\n",
       " Columns: []\n",
       " Index: [])"
      ]
     },
     "execution_count": 64,
     "metadata": {},
     "output_type": "execute_result"
    }
   ],
   "source": [
    "dead_trees_c2s.info(), dead_trees_c2s.head(2)"
   ]
  },
  {
   "cell_type": "code",
   "execution_count": 65,
   "metadata": {},
   "outputs": [],
   "source": [
    "if not dead_trees_c2s.empty:\n",
    "    dead_trees_c2s[\"class\"] = 2\n",
    "    dead_trees_c2s[\"subclass\"] = \"short\""
   ]
  },
  {
   "cell_type": "markdown",
   "metadata": {},
   "source": [
    "# Dead Trees: Class 2 - Tall"
   ]
  },
  {
   "cell_type": "code",
   "execution_count": null,
   "metadata": {},
   "outputs": [],
   "source": []
  },
  {
   "cell_type": "code",
   "execution_count": 66,
   "metadata": {},
   "outputs": [],
   "source": [
    "dead_trees_c2t = extract_dead_trees_class2t(data, NESTS)"
   ]
  },
  {
   "cell_type": "code",
   "execution_count": 67,
   "metadata": {},
   "outputs": [
    {
     "name": "stdout",
     "output_type": "stream",
     "text": [
      "<class 'pandas.core.frame.DataFrame'>\n",
      "RangeIndex: 254 entries, 0 to 253\n",
      "Data columns (total 11 columns):\n",
      " #   Column        Non-Null Count  Dtype  \n",
      "---  ------        --------------  -----  \n",
      " 0   unique_id     254 non-null    object \n",
      " 1   nest          254 non-null    int64  \n",
      " 2   species_name  201 non-null    float64\n",
      " 3   family_name   12 non-null     float64\n",
      " 4   dbh_tall      254 non-null    float64\n",
      " 5   db_tall       254 non-null    float64\n",
      " 6   tall_density  254 non-null    float64\n",
      " 7   slope_t_tall  254 non-null    float64\n",
      " 8   slope_b_tall  254 non-null    float64\n",
      " 9   dist_t_tall   254 non-null    float64\n",
      " 10  class         254 non-null    int64  \n",
      "dtypes: float64(8), int64(2), object(1)\n",
      "memory usage: 22.0+ KB\n"
     ]
    },
    {
     "data": {
      "text/plain": [
       "(None,\n",
       "   unique_id  nest  species_name  family_name  dbh_tall  db_tall  tall_density  \\\n",
       " 0     368A1     2         999.0          NaN      21.9     24.1           1.0   \n",
       " 1     281A1     2           NaN          NaN      32.6     40.8           1.0   \n",
       " \n",
       "    slope_t_tall  slope_b_tall  dist_t_tall  class  \n",
       " 0          61.0          56.0         10.0      2  \n",
       " 1         115.0          20.0          9.3      2  )"
      ]
     },
     "execution_count": 67,
     "metadata": {},
     "output_type": "execute_result"
    }
   ],
   "source": [
    "dead_trees_c2t.info(), dead_trees_c2t.head(2)"
   ]
  },
  {
   "cell_type": "code",
   "execution_count": 68,
   "metadata": {},
   "outputs": [],
   "source": [
    "if not dead_trees_c2t.empty:\n",
    "    dead_trees_c2t[\"class\"] = 2\n",
    "    dead_trees_c2t[\"subclass\"] = \"tall\""
   ]
  },
  {
   "cell_type": "markdown",
   "metadata": {},
   "source": [
    "# Combine into one table"
   ]
  },
  {
   "cell_type": "code",
   "execution_count": 69,
   "metadata": {},
   "outputs": [],
   "source": [
    "dead_trees = pd.concat([dead_trees_c1, dead_trees_c2s, dead_trees_c2t])"
   ]
  },
  {
   "cell_type": "code",
   "execution_count": 70,
   "metadata": {},
   "outputs": [
    {
     "name": "stdout",
     "output_type": "stream",
     "text": [
      "<class 'pandas.core.frame.DataFrame'>\n",
      "Index: 256 entries, 0 to 253\n",
      "Data columns (total 13 columns):\n",
      " #   Column        Non-Null Count  Dtype  \n",
      "---  ------        --------------  -----  \n",
      " 0   unique_id     256 non-null    object \n",
      " 1   nest          256 non-null    int64  \n",
      " 2   species_name  203 non-null    float64\n",
      " 3   DBH_cl1       2 non-null      float64\n",
      " 4   class         256 non-null    int64  \n",
      " 5   subclass      254 non-null    object \n",
      " 6   family_name   12 non-null     float64\n",
      " 7   dbh_tall      254 non-null    float64\n",
      " 8   db_tall       254 non-null    float64\n",
      " 9   tall_density  254 non-null    float64\n",
      " 10  slope_t_tall  254 non-null    float64\n",
      " 11  slope_b_tall  254 non-null    float64\n",
      " 12  dist_t_tall   254 non-null    float64\n",
      "dtypes: float64(9), int64(2), object(2)\n",
      "memory usage: 28.0+ KB\n"
     ]
    },
    {
     "data": {
      "text/plain": [
       "(None,\n",
       "   unique_id  nest  species_name  DBH_cl1  class subclass  family_name  \\\n",
       " 0     290C1     3         145.0     38.0      1      NaN          NaN   \n",
       " 1     290C1     4         177.0     58.8      1      NaN          NaN   \n",
       " \n",
       "    dbh_tall  db_tall  tall_density  slope_t_tall  slope_b_tall  dist_t_tall  \n",
       " 0       NaN      NaN           NaN           NaN           NaN          NaN  \n",
       " 1       NaN      NaN           NaN           NaN           NaN          NaN  )"
      ]
     },
     "execution_count": 70,
     "metadata": {},
     "output_type": "execute_result"
    }
   ],
   "source": [
    "dead_trees.info(), dead_trees.head(2)"
   ]
  },
  {
   "cell_type": "markdown",
   "metadata": {},
   "source": [
    "## Export data and upload to BQ"
   ]
  },
  {
   "cell_type": "code",
   "execution_count": 71,
   "metadata": {},
   "outputs": [],
   "source": [
    "# Export CSV\n",
    "if len(dead_trees) != 0:\n",
    "    dead_trees.to_csv(CARBON_POOLS_OUTDIR / \"dead_trees.csv\", index=False)"
   ]
  },
  {
   "cell_type": "code",
   "execution_count": 72,
   "metadata": {},
   "outputs": [
    {
     "name": "stderr",
     "output_type": "stream",
     "text": [
      "100%|██████████| 1/1 [00:00<00:00, 10754.63it/s]\n"
     ]
    }
   ],
   "source": [
    "# Upload to BQ\n",
    "if len(dead_trees) != 0:\n",
    "    pandas_gbq.to_gbq(\n",
    "        dead_trees,\n",
    "        f\"{DATASET_ID}.dead_trees\",\n",
    "        project_id=GCP_PROJ_ID,\n",
    "        if_exists=IF_EXISTS,\n",
    "    )"
   ]
  },
  {
   "cell_type": "markdown",
   "metadata": {},
   "source": [
    "# Lying Deadwood: Hollow"
   ]
  },
  {
   "cell_type": "code",
   "execution_count": 73,
   "metadata": {},
   "outputs": [],
   "source": [
    "ldw_hollow = extract_ldw_with_hollow(data)"
   ]
  },
  {
   "cell_type": "code",
   "execution_count": 74,
   "metadata": {},
   "outputs": [
    {
     "name": "stdout",
     "output_type": "stream",
     "text": [
      "<class 'pandas.core.frame.DataFrame'>\n",
      "RangeIndex: 15 entries, 0 to 14\n",
      "Data columns (total 8 columns):\n",
      " #   Column      Non-Null Count  Dtype  \n",
      "---  ------      --------------  -----  \n",
      " 0   unique_id   15 non-null     object \n",
      " 1   repetition  15 non-null     int64  \n",
      " 2   type        15 non-null     object \n",
      " 3   class       15 non-null     object \n",
      " 4   hollow_d1   15 non-null     float64\n",
      " 5   hollow_d2   15 non-null     float64\n",
      " 6   diameter    15 non-null     float64\n",
      " 7   density     15 non-null     float64\n",
      "dtypes: float64(4), int64(1), object(3)\n",
      "memory usage: 1.1+ KB\n"
     ]
    },
    {
     "data": {
      "text/plain": [
       "(None,\n",
       "   unique_id  repetition type class  hollow_d1  hollow_d2  diameter  density\n",
       " 0     249D1           1  tr2   MDF       12.0       10.0      16.7      3.0\n",
       " 1     290A1           2  tr2   MCB       68.0       28.0      62.0      1.0)"
      ]
     },
     "execution_count": 74,
     "metadata": {},
     "output_type": "execute_result"
    }
   ],
   "source": [
    "ldw_hollow.info(), ldw_hollow.head(2)"
   ]
  },
  {
   "cell_type": "markdown",
   "metadata": {},
   "source": [
    "## Export data and upload to BQ"
   ]
  },
  {
   "cell_type": "code",
   "execution_count": 75,
   "metadata": {},
   "outputs": [],
   "source": [
    "# Export CSV\n",
    "if len(ldw_hollow) != 0:\n",
    "    ldw_hollow.to_csv(CARBON_POOLS_OUTDIR / \"lying_deadwood_hollow.csv\", index=False)"
   ]
  },
  {
   "cell_type": "code",
   "execution_count": 76,
   "metadata": {},
   "outputs": [
    {
     "name": "stderr",
     "output_type": "stream",
     "text": [
      "100%|██████████| 1/1 [00:00<00:00, 11491.24it/s]\n"
     ]
    }
   ],
   "source": [
    "# Upload to BQ\n",
    "if len(ldw_hollow) != 0:\n",
    "    pandas_gbq.to_gbq(\n",
    "        ldw_hollow,\n",
    "        f\"{DATASET_ID}.lying_deadwood_hollow\",\n",
    "        project_id=GCP_PROJ_ID,\n",
    "        if_exists=IF_EXISTS,\n",
    "    )"
   ]
  },
  {
   "cell_type": "markdown",
   "metadata": {},
   "source": [
    "# Lying Deadwood without hollow"
   ]
  },
  {
   "cell_type": "code",
   "execution_count": 77,
   "metadata": {},
   "outputs": [],
   "source": [
    "ldw_wo_hollow = extract_ldw_wo_hollow(data)"
   ]
  },
  {
   "cell_type": "code",
   "execution_count": 78,
   "metadata": {},
   "outputs": [
    {
     "name": "stdout",
     "output_type": "stream",
     "text": [
      "<class 'pandas.core.frame.DataFrame'>\n",
      "RangeIndex: 1826 entries, 0 to 1825\n",
      "Data columns (total 6 columns):\n",
      " #   Column      Non-Null Count  Dtype  \n",
      "---  ------      --------------  -----  \n",
      " 0   unique_id   1826 non-null   object \n",
      " 1   repetition  1826 non-null   int64  \n",
      " 2   type        1826 non-null   object \n",
      " 3   class       1826 non-null   object \n",
      " 4   diameter    1826 non-null   float64\n",
      " 5   density     1826 non-null   float64\n",
      "dtypes: float64(2), int64(1), object(3)\n",
      "memory usage: 85.7+ KB\n"
     ]
    },
    {
     "data": {
      "text/plain": [
       "(None,\n",
       "   unique_id  repetition type class  diameter  density\n",
       " 0     308D1           1  tr1    FC      16.5      3.0\n",
       " 1     308D1           2  tr1    FC      18.3      3.0)"
      ]
     },
     "execution_count": 78,
     "metadata": {},
     "output_type": "execute_result"
    }
   ],
   "source": [
    "ldw_wo_hollow.info(), ldw_wo_hollow.head(2)"
   ]
  },
  {
   "cell_type": "markdown",
   "metadata": {},
   "source": [
    "## Export data and upload to BQ"
   ]
  },
  {
   "cell_type": "code",
   "execution_count": 79,
   "metadata": {},
   "outputs": [],
   "source": [
    "# Export CSV\n",
    "if len(ldw_wo_hollow) != 0:\n",
    "    ldw_wo_hollow.to_csv(\n",
    "        CARBON_POOLS_OUTDIR / \"lying_deadwood_wo_hollow.csv\", index=False\n",
    "    )"
   ]
  },
  {
   "cell_type": "code",
   "execution_count": 80,
   "metadata": {},
   "outputs": [
    {
     "name": "stderr",
     "output_type": "stream",
     "text": [
      "100%|██████████| 1/1 [00:00<00:00, 10131.17it/s]\n"
     ]
    }
   ],
   "source": [
    "# Upload to BQ\n",
    "if len(ldw_wo_hollow) != 0:\n",
    "    pandas_gbq.to_gbq(\n",
    "        ldw_wo_hollow,\n",
    "        f\"{DATASET_ID}.lying_deadwood_wo_hollow\",\n",
    "        project_id=GCP_PROJ_ID,\n",
    "        if_exists=IF_EXISTS,\n",
    "    )"
   ]
  }
 ],
 "metadata": {
  "kernelspec": {
   "display_name": "onebase",
   "language": "python",
   "name": "python3"
  },
  "language_info": {
   "codemirror_mode": {
    "name": "ipython",
    "version": 3
   },
   "file_extension": ".py",
   "mimetype": "text/x-python",
   "name": "python",
   "nbconvert_exporter": "python",
   "pygments_lexer": "ipython3",
   "version": "3.12.4"
  }
 },
 "nbformat": 4,
 "nbformat_minor": 2
}
