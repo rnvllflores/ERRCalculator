{
 "cells": [
  {
   "cell_type": "markdown",
   "metadata": {},
   "source": [
    "# Create Strata for Activity Areas from LCC"
   ]
  },
  {
   "cell_type": "code",
   "execution_count": 36,
   "metadata": {},
   "outputs": [],
   "source": [
    "# Standard Imports\n",
    "import sys\n",
    "import pandas as pd\n",
    "import datetime\n",
    "\n",
    "# Geospatial Imports\n",
    "import geopandas as gpd\n",
    "from shapely.geometry import Polygon\n",
    "from geowrangler.validation import GeometryValidation"
   ]
  },
  {
   "cell_type": "code",
   "execution_count": 2,
   "metadata": {},
   "outputs": [],
   "source": [
    "# Util imports\n",
    "sys.path.append(\"../../../\")  # include parent directory\n",
    "from src.settings import GPKG_DATA_DIR, TMP_OUT_DIR"
   ]
  },
  {
   "cell_type": "code",
   "execution_count": 12,
   "metadata": {},
   "outputs": [],
   "source": [
    "# Variables\n",
    "VERSION = datetime.datetime.now().strftime(\"%Y%m%d\")\n",
    "\n",
    "# GCS Variables\n",
    "LCC_GCS_DIR = \"NULL\"\n",
    "STRATA_GCS_DIR = \"gs://00_extract_vectors/\"\n",
    "SILUP_GCS_DIR = \"gs://silup-gis/onebase/\"\n",
    "\n",
    "# Filepaths\n",
    "LCC_FILEPATH = GPKG_DATA_DIR / \"lcc_cadt.gpkg\"\n",
    "LCC_252_FILEPATH = TMP_OUT_DIR / \"lcc_252.gpkg\"\n",
    "LCC_FINAL_FPATH = GPKG_DATA_DIR / \"lcc_cadt_validated_20240812.gpkg\""
   ]
  },
  {
   "cell_type": "markdown",
   "metadata": {},
   "source": [
    "# Load Data"
   ]
  },
  {
   "cell_type": "markdown",
   "metadata": {},
   "source": [
    "Insert auto download of raster and converting raster to vector --  for now this loads a file processed using qgis"
   ]
  },
  {
   "cell_type": "code",
   "execution_count": null,
   "metadata": {},
   "outputs": [],
   "source": [
    "lcc_all = gpd.read_file(LCC_FILEPATH)\n",
    "lcc_252 = gpd.read_file(LCC_252_FILEPATH)"
   ]
  },
  {
   "cell_type": "code",
   "execution_count": 20,
   "metadata": {},
   "outputs": [],
   "source": [
    "lcc = pd.concat([lcc_252, lcc_all])"
   ]
  },
  {
   "cell_type": "markdown",
   "metadata": {},
   "source": [
    "## Validate geometries"
   ]
  },
  {
   "cell_type": "code",
   "execution_count": null,
   "metadata": {},
   "outputs": [
    {
     "data": {
      "text/plain": [
       "(40584, 2)"
      ]
     },
     "metadata": {},
     "output_type": "display_data"
    }
   ],
   "source": [
    "# check for invalid polygons\n",
    "lcc[~lcc.geometry.is_valid].shape"
   ]
  },
  {
   "cell_type": "code",
   "execution_count": 22,
   "metadata": {},
   "outputs": [],
   "source": [
    "# convert multipolygons to polygons\n",
    "lcc = lcc.explode(index_parts=False)"
   ]
  },
  {
   "cell_type": "code",
   "execution_count": 24,
   "metadata": {},
   "outputs": [],
   "source": [
    "# check and correct invalid polygons\n",
    "lcc = GeometryValidation(lcc).validate_all()"
   ]
  },
  {
   "cell_type": "code",
   "execution_count": 25,
   "metadata": {},
   "outputs": [
    {
     "data": {
      "text/plain": [
       "array(['Polygon', 'MultiPolygon'], dtype=object)"
      ]
     },
     "execution_count": 25,
     "metadata": {},
     "output_type": "execute_result"
    }
   ],
   "source": [
    "lcc.geometry.type.unique()"
   ]
  },
  {
   "cell_type": "code",
   "execution_count": 26,
   "metadata": {},
   "outputs": [],
   "source": [
    "# create separate gdf for multipolygons for 2nd level of explode and validation\n",
    "lcc_poly = lcc[lcc[\"geometry\"].type == \"Polygon\"].copy()\n",
    "lcc_multi = lcc[lcc[\"geometry\"].type == \"MultiPolygon\"].copy()"
   ]
  },
  {
   "cell_type": "code",
   "execution_count": 27,
   "metadata": {},
   "outputs": [],
   "source": [
    "lcc_multi = lcc_multi.explode(index_parts=False)"
   ]
  },
  {
   "cell_type": "code",
   "execution_count": 28,
   "metadata": {},
   "outputs": [
    {
     "data": {
      "text/plain": [
       "array(['Polygon'], dtype=object)"
      ]
     },
     "execution_count": 28,
     "metadata": {},
     "output_type": "execute_result"
    }
   ],
   "source": [
    "lcc_multi.geometry.type.unique()"
   ]
  },
  {
   "cell_type": "code",
   "execution_count": 29,
   "metadata": {},
   "outputs": [],
   "source": [
    "lcc_multi = GeometryValidation(lcc_multi).validate_all()"
   ]
  },
  {
   "cell_type": "code",
   "execution_count": 30,
   "metadata": {},
   "outputs": [
    {
     "data": {
      "text/plain": [
       "array(['Polygon'], dtype=object)"
      ]
     },
     "execution_count": 30,
     "metadata": {},
     "output_type": "execute_result"
    }
   ],
   "source": [
    "lcc_multi.geometry.type.unique()"
   ]
  },
  {
   "cell_type": "code",
   "execution_count": 32,
   "metadata": {},
   "outputs": [],
   "source": [
    "# Combine the datasets again\n",
    "lcc = pd.concat([lcc_poly, lcc_multi])"
   ]
  },
  {
   "cell_type": "code",
   "execution_count": 33,
   "metadata": {},
   "outputs": [
    {
     "data": {
      "text/plain": [
       "(532, 7)"
      ]
     },
     "execution_count": 33,
     "metadata": {},
     "output_type": "execute_result"
    }
   ],
   "source": [
    "lcc[~lcc.geometry.is_valid].shape"
   ]
  },
  {
   "cell_type": "code",
   "execution_count": 34,
   "metadata": {},
   "outputs": [],
   "source": [
    "# buffer at 0m to remove invalid vertices\n",
    "lcc[\"geometry\"] = lcc[\"geometry\"].buffer(0)"
   ]
  },
  {
   "cell_type": "code",
   "execution_count": 38,
   "metadata": {},
   "outputs": [
    {
     "data": {
      "text/plain": [
       "(0, 7)"
      ]
     },
     "execution_count": 38,
     "metadata": {},
     "output_type": "execute_result"
    }
   ],
   "source": [
    "lcc[~lcc.geometry.is_valid].shape"
   ]
  },
  {
   "cell_type": "code",
   "execution_count": 63,
   "metadata": {},
   "outputs": [],
   "source": [
    "lcc.to_file(GPKG_DATA_DIR / \"lcc_cadt_validated_20240812.gpkg\")"
   ]
  },
  {
   "cell_type": "markdown",
   "metadata": {},
   "source": [
    "# Generate Strata"
   ]
  },
  {
   "cell_type": "code",
   "execution_count": null,
   "metadata": {},
   "outputs": [],
   "source": [
    "lcc = gpd.read_file(LCC_FINAL_FPATH)"
   ]
  },
  {
   "cell_type": "code",
   "execution_count": 46,
   "metadata": {},
   "outputs": [],
   "source": [
    "from typing import Union\n",
    "from shapely.geometry import MultiPolygon\n",
    "\n",
    "\n",
    "def one_sided_poly_buffer(\n",
    "    poly: Polygon, buffer_m: float\n",
    ") -> Union[Polygon, MultiPolygon]:\n",
    "    bound = poly.boundary\n",
    "    # estimate how big the buffer zone will be\n",
    "    poly_len = min(poly.length, buffer_m)\n",
    "    buffer_area_estimate = buffer_m * poly_len\n",
    "    # no need to buffer for small polygons\n",
    "    if poly.area < buffer_area_estimate:\n",
    "        buffered_bound = poly\n",
    "    # buffer for sufficiently large polygons\n",
    "    else:\n",
    "        buffered_bound = bound.buffer(-buffer_m / 2, single_sided=True)\n",
    "        # take the intersection to remove the outward spikes from a single sided buffer\n",
    "        buffered_bound = buffered_bound.intersection(poly)\n",
    "        # buffer it again to fill in inward spikes\n",
    "        buffered_bound = buffered_bound.buffer(buffer_m / 2)\n",
    "        # take intersection to remove outward spikes again\n",
    "        buffered_bound = buffered_bound.intersection(poly)\n",
    "    return buffered_bound"
   ]
  },
  {
   "cell_type": "code",
   "execution_count": 40,
   "metadata": {},
   "outputs": [],
   "source": [
    "lcc_dipterocarp = lcc[lcc[\"DN\"].isin([1, 4])]"
   ]
  },
  {
   "cell_type": "code",
   "execution_count": 42,
   "metadata": {},
   "outputs": [
    {
     "data": {
      "text/plain": [
       "(131809, 7)"
      ]
     },
     "execution_count": 42,
     "metadata": {},
     "output_type": "execute_result"
    }
   ],
   "source": [
    "lcc_dipterocarp.shape"
   ]
  },
  {
   "cell_type": "code",
   "execution_count": 43,
   "metadata": {},
   "outputs": [],
   "source": [
    "test = lcc_dipterocarp[:100]"
   ]
  },
  {
   "cell_type": "code",
   "execution_count": 41,
   "metadata": {},
   "outputs": [],
   "source": [
    "lc_swamp = lcc[lcc[\"DN\"].isin([2, 5])]"
   ]
  },
  {
   "cell_type": "code",
   "execution_count": 52,
   "metadata": {},
   "outputs": [
    {
     "name": "stdout",
     "output_type": "stream",
     "text": [
      "CPU times: user 1.23 s, sys: 5.89 ms, total: 1.24 s\n",
      "Wall time: 1.24 s\n"
     ]
    }
   ],
   "source": [
    "# %%time\n",
    "# buffered_diptercarp_1km = lcc_dipterocarp[\"geometry\"].apply(\n",
    "#     lambda x: one_sided_poly_buffer(x, -1_000)\n",
    "# )"
   ]
  },
  {
   "cell_type": "code",
   "execution_count": 64,
   "metadata": {},
   "outputs": [],
   "source": [
    "lcc_dipterocarp[\"lines_geometry\"] = lcc_dipterocarp[\"geometry\"].boundary"
   ]
  },
  {
   "cell_type": "code",
   "execution_count": 61,
   "metadata": {},
   "outputs": [
    {
     "data": {
      "text/html": [
       "<div>\n",
       "<style scoped>\n",
       "    .dataframe tbody tr th:only-of-type {\n",
       "        vertical-align: middle;\n",
       "    }\n",
       "\n",
       "    .dataframe tbody tr th {\n",
       "        vertical-align: top;\n",
       "    }\n",
       "\n",
       "    .dataframe thead th {\n",
       "        text-align: right;\n",
       "    }\n",
       "</style>\n",
       "<table border=\"1\" class=\"dataframe\">\n",
       "  <thead>\n",
       "    <tr style=\"text-align: right;\">\n",
       "      <th></th>\n",
       "      <th>DN</th>\n",
       "      <th>geometry</th>\n",
       "      <th>is_not_null</th>\n",
       "      <th>is_not_self_intersecting</th>\n",
       "      <th>is_oriented_properly</th>\n",
       "      <th>is_within_crs_bounds</th>\n",
       "      <th>area_is_not_zero</th>\n",
       "    </tr>\n",
       "  </thead>\n",
       "  <tbody>\n",
       "    <tr>\n",
       "      <th>25</th>\n",
       "      <td>1</td>\n",
       "      <td>POLYGON ((125.25111 8.98791, 125.25138 8.98791...</td>\n",
       "      <td>True</td>\n",
       "      <td>True</td>\n",
       "      <td>True</td>\n",
       "      <td>True</td>\n",
       "      <td>True</td>\n",
       "    </tr>\n",
       "    <tr>\n",
       "      <th>27</th>\n",
       "      <td>1</td>\n",
       "      <td>POLYGON ((125.25273 8.98791, 125.25300 8.98791...</td>\n",
       "      <td>True</td>\n",
       "      <td>True</td>\n",
       "      <td>True</td>\n",
       "      <td>True</td>\n",
       "      <td>True</td>\n",
       "    </tr>\n",
       "    <tr>\n",
       "      <th>91</th>\n",
       "      <td>1</td>\n",
       "      <td>POLYGON ((125.31157 8.98791, 125.31166 8.98791...</td>\n",
       "      <td>True</td>\n",
       "      <td>True</td>\n",
       "      <td>False</td>\n",
       "      <td>True</td>\n",
       "      <td>True</td>\n",
       "    </tr>\n",
       "    <tr>\n",
       "      <th>92</th>\n",
       "      <td>1</td>\n",
       "      <td>POLYGON ((125.31220 8.98791, 125.31229 8.98791...</td>\n",
       "      <td>True</td>\n",
       "      <td>True</td>\n",
       "      <td>True</td>\n",
       "      <td>True</td>\n",
       "      <td>True</td>\n",
       "    </tr>\n",
       "    <tr>\n",
       "      <th>285</th>\n",
       "      <td>1</td>\n",
       "      <td>POLYGON ((125.32397 8.98764, 125.32423 8.98764...</td>\n",
       "      <td>True</td>\n",
       "      <td>True</td>\n",
       "      <td>True</td>\n",
       "      <td>True</td>\n",
       "      <td>True</td>\n",
       "    </tr>\n",
       "    <tr>\n",
       "      <th>...</th>\n",
       "      <td>...</td>\n",
       "      <td>...</td>\n",
       "      <td>...</td>\n",
       "      <td>...</td>\n",
       "      <td>...</td>\n",
       "      <td>...</td>\n",
       "      <td>...</td>\n",
       "    </tr>\n",
       "    <tr>\n",
       "      <th>217668</th>\n",
       "      <td>1</td>\n",
       "      <td>POLYGON ((126.21285 7.97372, 126.21285 7.97363...</td>\n",
       "      <td>True</td>\n",
       "      <td>True</td>\n",
       "      <td>True</td>\n",
       "      <td>True</td>\n",
       "      <td>True</td>\n",
       "    </tr>\n",
       "    <tr>\n",
       "      <th>217668</th>\n",
       "      <td>1</td>\n",
       "      <td>POLYGON ((126.23567 7.95665, 126.23567 7.95674...</td>\n",
       "      <td>True</td>\n",
       "      <td>True</td>\n",
       "      <td>True</td>\n",
       "      <td>True</td>\n",
       "      <td>True</td>\n",
       "    </tr>\n",
       "    <tr>\n",
       "      <th>217668</th>\n",
       "      <td>1</td>\n",
       "      <td>POLYGON ((126.22390 7.96554, 126.22444 7.96554...</td>\n",
       "      <td>True</td>\n",
       "      <td>True</td>\n",
       "      <td>True</td>\n",
       "      <td>True</td>\n",
       "      <td>True</td>\n",
       "    </tr>\n",
       "    <tr>\n",
       "      <th>217668</th>\n",
       "      <td>1</td>\n",
       "      <td>POLYGON ((126.22174 7.96644, 126.22174 7.96653...</td>\n",
       "      <td>True</td>\n",
       "      <td>True</td>\n",
       "      <td>True</td>\n",
       "      <td>True</td>\n",
       "      <td>True</td>\n",
       "    </tr>\n",
       "    <tr>\n",
       "      <th>217668</th>\n",
       "      <td>1</td>\n",
       "      <td>POLYGON ((126.21968 7.95925, 126.21968 7.95907...</td>\n",
       "      <td>True</td>\n",
       "      <td>True</td>\n",
       "      <td>True</td>\n",
       "      <td>True</td>\n",
       "      <td>True</td>\n",
       "    </tr>\n",
       "  </tbody>\n",
       "</table>\n",
       "<p>131809 rows × 7 columns</p>\n",
       "</div>"
      ],
      "text/plain": [
       "        DN                                           geometry  is_not_null  \\\n",
       "25       1  POLYGON ((125.25111 8.98791, 125.25138 8.98791...         True   \n",
       "27       1  POLYGON ((125.25273 8.98791, 125.25300 8.98791...         True   \n",
       "91       1  POLYGON ((125.31157 8.98791, 125.31166 8.98791...         True   \n",
       "92       1  POLYGON ((125.31220 8.98791, 125.31229 8.98791...         True   \n",
       "285      1  POLYGON ((125.32397 8.98764, 125.32423 8.98764...         True   \n",
       "...     ..                                                ...          ...   \n",
       "217668   1  POLYGON ((126.21285 7.97372, 126.21285 7.97363...         True   \n",
       "217668   1  POLYGON ((126.23567 7.95665, 126.23567 7.95674...         True   \n",
       "217668   1  POLYGON ((126.22390 7.96554, 126.22444 7.96554...         True   \n",
       "217668   1  POLYGON ((126.22174 7.96644, 126.22174 7.96653...         True   \n",
       "217668   1  POLYGON ((126.21968 7.95925, 126.21968 7.95907...         True   \n",
       "\n",
       "        is_not_self_intersecting  is_oriented_properly  is_within_crs_bounds  \\\n",
       "25                          True                  True                  True   \n",
       "27                          True                  True                  True   \n",
       "91                          True                 False                  True   \n",
       "92                          True                  True                  True   \n",
       "285                         True                  True                  True   \n",
       "...                          ...                   ...                   ...   \n",
       "217668                      True                  True                  True   \n",
       "217668                      True                  True                  True   \n",
       "217668                      True                  True                  True   \n",
       "217668                      True                  True                  True   \n",
       "217668                      True                  True                  True   \n",
       "\n",
       "        area_is_not_zero  \n",
       "25                  True  \n",
       "27                  True  \n",
       "91                  True  \n",
       "92                  True  \n",
       "285                 True  \n",
       "...                  ...  \n",
       "217668              True  \n",
       "217668              True  \n",
       "217668              True  \n",
       "217668              True  \n",
       "217668              True  \n",
       "\n",
       "[131809 rows x 7 columns]"
      ]
     },
     "execution_count": 61,
     "metadata": {},
     "output_type": "execute_result"
    }
   ],
   "source": [
    "lcc_dipterocarp"
   ]
  }
 ],
 "metadata": {
  "kernelspec": {
   "display_name": "onebase",
   "language": "python",
   "name": "python3"
  },
  "language_info": {
   "codemirror_mode": {
    "name": "ipython",
    "version": 3
   },
   "file_extension": ".py",
   "mimetype": "text/x-python",
   "name": "python",
   "nbconvert_exporter": "python",
   "pygments_lexer": "ipython3",
   "version": "3.12.4"
  }
 },
 "nbformat": 4,
 "nbformat_minor": 2
}
