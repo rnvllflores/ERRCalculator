{
 "cells": [
  {
   "cell_type": "markdown",
   "metadata": {},
   "source": [
    "# Extract data from GCS and upload to BigQuery"
   ]
  },
  {
   "cell_type": "code",
   "execution_count": 1,
   "metadata": {},
   "outputs": [],
   "source": [
    "# Standard Imports\n",
    "import sys\n",
    "import os\n",
    "import re\n",
    "from tqdm import tqdm\n",
    "import pandas as pd\n",
    "import geopandas as gpd\n",
    "\n",
    "# Google Cloud Imports"
   ]
  },
  {
   "cell_type": "code",
   "execution_count": 2,
   "metadata": {},
   "outputs": [],
   "source": [
    "# Util imports\n",
    "sys.path.append(\"../../../\")  # include parent directory\n",
    "from src.settings import GEOJSON_DATA_DIR"
   ]
  },
  {
   "cell_type": "code",
   "execution_count": 3,
   "metadata": {},
   "outputs": [],
   "source": [
    "# Variables\n",
    "SILUP_DIR = GEOJSON_DATA_DIR / \"SILUP\"\n",
    "\n",
    "# GCS Variables\n",
    "SILUP_GCS_DIR = \"gs://silup-gis/onebase/\"\n",
    "\n",
    "# BigQuery Variables\n",
    "SRC_DATASET_ID = \"biomass_inventory\"\n",
    "DATASET_ID = \"carbon_stock\"\n",
    "IF_EXISTS = \"replace\""
   ]
  },
  {
   "cell_type": "markdown",
   "metadata": {},
   "source": [
    "## Downlaod data"
   ]
  },
  {
   "cell_type": "code",
   "execution_count": 4,
   "metadata": {},
   "outputs": [],
   "source": [
    "SILUP_DIR.mkdir(exist_ok=True)"
   ]
  },
  {
   "cell_type": "code",
   "execution_count": null,
   "metadata": {},
   "outputs": [],
   "source": [
    "!gsutil -m cp $SILUP_GCS_DIR\"*.geojson\" $SILUP_DIR"
   ]
  },
  {
   "cell_type": "markdown",
   "metadata": {},
   "source": [
    "# Combine Separate SILUP and Format data"
   ]
  },
  {
   "cell_type": "code",
   "execution_count": 5,
   "metadata": {},
   "outputs": [],
   "source": [
    "file_list = os.listdir(SILUP_DIR)"
   ]
  },
  {
   "cell_type": "code",
   "execution_count": 6,
   "metadata": {},
   "outputs": [
    {
     "name": "stderr",
     "output_type": "stream",
     "text": [
      "100%|██████████| 30/30 [01:02<00:00,  2.08s/it]\n"
     ]
    }
   ],
   "source": [
    "silup_gdf = []\n",
    "\n",
    "for filename in tqdm(file_list):\n",
    "    data = gpd.read_file(SILUP_DIR / filename)\n",
    "\n",
    "    # Extract CADT number\n",
    "    cadt_num = re.findall(r\"CADT (\\d+)\", filename)[0]\n",
    "\n",
    "    data = data[[\"ELI_TYPE\", \"geometry\"]].copy()\n",
    "\n",
    "    # Extract version\n",
    "    if \"v0\" in file_list[2]:\n",
    "        version = \"v0\"\n",
    "    else:\n",
    "        version = \"final\"\n",
    "\n",
    "    data[\"cadt_num\"] = cadt_num\n",
    "    data[\"version\"] = version\n",
    "    silup_gdf.append(data)"
   ]
  },
  {
   "cell_type": "code",
   "execution_count": 7,
   "metadata": {},
   "outputs": [],
   "source": [
    "combined_gdf = pd.concat(silup_gdf)"
   ]
  },
  {
   "cell_type": "code",
   "execution_count": 8,
   "metadata": {},
   "outputs": [
    {
     "data": {
      "text/html": [
       "<div>\n",
       "<style scoped>\n",
       "    .dataframe tbody tr th:only-of-type {\n",
       "        vertical-align: middle;\n",
       "    }\n",
       "\n",
       "    .dataframe tbody tr th {\n",
       "        vertical-align: top;\n",
       "    }\n",
       "\n",
       "    .dataframe thead th {\n",
       "        text-align: right;\n",
       "    }\n",
       "</style>\n",
       "<table border=\"1\" class=\"dataframe\">\n",
       "  <thead>\n",
       "    <tr style=\"text-align: right;\">\n",
       "      <th></th>\n",
       "      <th>ELI_TYPE</th>\n",
       "      <th>geometry</th>\n",
       "      <th>cadt_num</th>\n",
       "      <th>version</th>\n",
       "    </tr>\n",
       "  </thead>\n",
       "  <tbody>\n",
       "    <tr>\n",
       "      <th>0</th>\n",
       "      <td>AUD</td>\n",
       "      <td>MULTIPOLYGON Z (((557914.356 1019548.719 0.000...</td>\n",
       "      <td>092</td>\n",
       "      <td>v0</td>\n",
       "    </tr>\n",
       "    <tr>\n",
       "      <th>1</th>\n",
       "      <td>AUD</td>\n",
       "      <td>MULTIPOLYGON Z (((558141.679 1019360.271 0.000...</td>\n",
       "      <td>092</td>\n",
       "      <td>v0</td>\n",
       "    </tr>\n",
       "    <tr>\n",
       "      <th>2</th>\n",
       "      <td>AUD</td>\n",
       "      <td>MULTIPOLYGON Z (((558250.240 1019380.301 0.000...</td>\n",
       "      <td>092</td>\n",
       "      <td>v0</td>\n",
       "    </tr>\n",
       "    <tr>\n",
       "      <th>3</th>\n",
       "      <td>AUD</td>\n",
       "      <td>MULTIPOLYGON Z (((558181.153 1019370.263 0.000...</td>\n",
       "      <td>092</td>\n",
       "      <td>v0</td>\n",
       "    </tr>\n",
       "    <tr>\n",
       "      <th>4</th>\n",
       "      <td>AUD</td>\n",
       "      <td>MULTIPOLYGON Z (((557894.296 1019767.274 0.000...</td>\n",
       "      <td>092</td>\n",
       "      <td>v0</td>\n",
       "    </tr>\n",
       "    <tr>\n",
       "      <th>...</th>\n",
       "      <td>...</td>\n",
       "      <td>...</td>\n",
       "      <td>...</td>\n",
       "      <td>...</td>\n",
       "    </tr>\n",
       "    <tr>\n",
       "      <th>2226</th>\n",
       "      <td>NOT ELIGIBLE</td>\n",
       "      <td>MULTIPOLYGON (((572304.290 1001588.313, 572300...</td>\n",
       "      <td>256</td>\n",
       "      <td>v0</td>\n",
       "    </tr>\n",
       "    <tr>\n",
       "      <th>2227</th>\n",
       "      <td>NOT ELIGIBLE</td>\n",
       "      <td>MULTIPOLYGON (((577451.745 1001359.358, 577446...</td>\n",
       "      <td>256</td>\n",
       "      <td>v0</td>\n",
       "    </tr>\n",
       "    <tr>\n",
       "      <th>2228</th>\n",
       "      <td>NOT ELIGIBLE</td>\n",
       "      <td>MULTIPOLYGON (((577292.164 1001766.425, 577287...</td>\n",
       "      <td>256</td>\n",
       "      <td>v0</td>\n",
       "    </tr>\n",
       "    <tr>\n",
       "      <th>2229</th>\n",
       "      <td>NOT ELIGIBLE</td>\n",
       "      <td>MULTIPOLYGON (((576884.034 1002663.864, 576852...</td>\n",
       "      <td>256</td>\n",
       "      <td>v0</td>\n",
       "    </tr>\n",
       "    <tr>\n",
       "      <th>2230</th>\n",
       "      <td>NOT ELIGIBLE</td>\n",
       "      <td>MULTIPOLYGON (((575263.488 1005230.227, 575266...</td>\n",
       "      <td>256</td>\n",
       "      <td>v0</td>\n",
       "    </tr>\n",
       "  </tbody>\n",
       "</table>\n",
       "<p>374274 rows × 4 columns</p>\n",
       "</div>"
      ],
      "text/plain": [
       "          ELI_TYPE                                           geometry  \\\n",
       "0              AUD  MULTIPOLYGON Z (((557914.356 1019548.719 0.000...   \n",
       "1              AUD  MULTIPOLYGON Z (((558141.679 1019360.271 0.000...   \n",
       "2              AUD  MULTIPOLYGON Z (((558250.240 1019380.301 0.000...   \n",
       "3              AUD  MULTIPOLYGON Z (((558181.153 1019370.263 0.000...   \n",
       "4              AUD  MULTIPOLYGON Z (((557894.296 1019767.274 0.000...   \n",
       "...            ...                                                ...   \n",
       "2226  NOT ELIGIBLE  MULTIPOLYGON (((572304.290 1001588.313, 572300...   \n",
       "2227  NOT ELIGIBLE  MULTIPOLYGON (((577451.745 1001359.358, 577446...   \n",
       "2228  NOT ELIGIBLE  MULTIPOLYGON (((577292.164 1001766.425, 577287...   \n",
       "2229  NOT ELIGIBLE  MULTIPOLYGON (((576884.034 1002663.864, 576852...   \n",
       "2230  NOT ELIGIBLE  MULTIPOLYGON (((575263.488 1005230.227, 575266...   \n",
       "\n",
       "     cadt_num version  \n",
       "0         092      v0  \n",
       "1         092      v0  \n",
       "2         092      v0  \n",
       "3         092      v0  \n",
       "4         092      v0  \n",
       "...       ...     ...  \n",
       "2226      256      v0  \n",
       "2227      256      v0  \n",
       "2228      256      v0  \n",
       "2229      256      v0  \n",
       "2230      256      v0  \n",
       "\n",
       "[374274 rows x 4 columns]"
      ]
     },
     "execution_count": 8,
     "metadata": {},
     "output_type": "execute_result"
    }
   ],
   "source": [
    "combined_gdf"
   ]
  }
 ],
 "metadata": {
  "kernelspec": {
   "display_name": "onebase",
   "language": "python",
   "name": "python3"
  },
  "language_info": {
   "codemirror_mode": {
    "name": "ipython",
    "version": 3
   },
   "file_extension": ".py",
   "mimetype": "text/x-python",
   "name": "python",
   "nbconvert_exporter": "python",
   "pygments_lexer": "ipython3",
   "version": "3.12.4"
  }
 },
 "nbformat": 4,
 "nbformat_minor": 2
}
