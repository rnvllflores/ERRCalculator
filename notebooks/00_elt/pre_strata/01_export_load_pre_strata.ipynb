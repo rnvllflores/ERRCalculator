{
 "cells": [
  {
   "cell_type": "code",
   "execution_count": 1,
   "metadata": {},
   "outputs": [],
   "source": [
    "# Standard Imports\n",
    "import sys\n",
    "import pandas as pd\n",
    "import geopandas as gpd\n",
    "\n",
    "# Google Cloud Imports"
   ]
  },
  {
   "cell_type": "code",
   "execution_count": 2,
   "metadata": {},
   "outputs": [],
   "source": [
    "# Util imports\n",
    "sys.path.append(\"../../../\")  # include parent directory\n",
    "from src.settings import PARQUET_DATA_DIR, DATA_DIR, SRC_DIR"
   ]
  },
  {
   "cell_type": "code",
   "execution_count": 3,
   "metadata": {},
   "outputs": [],
   "source": [
    "# Variables\n",
    "STRATA_DIR = PARQUET_DATA_DIR / \"pre-strata\"\n",
    "\n",
    "# GCS Variables\n",
    "STRATA_GCS_DIR = \"gs://00_extract_vectors/\"\n",
    "\n",
    "# BigQuery Variables\n",
    "SRC_DATASET_ID = \"biomass_inventory\"\n",
    "DATASET_ID = \"carbon_stock\"\n",
    "IF_EXISTS = \"replace\""
   ]
  },
  {
   "cell_type": "markdown",
   "metadata": {},
   "source": [
    "## Downlaod data"
   ]
  },
  {
   "cell_type": "code",
   "execution_count": 4,
   "metadata": {},
   "outputs": [],
   "source": [
    "STRATA_DIR.mkdir(exist_ok=True)"
   ]
  },
  {
   "cell_type": "code",
   "execution_count": 5,
   "metadata": {},
   "outputs": [
    {
     "name": "stdout",
     "output_type": "stream",
     "text": [
      "If you experience problems with multiprocessing on MacOS, they might be related to https://bugs.python.org/issue33725. You can disable multiprocessing by editing your .boto config or by adding the following flag to your command: `-o \"GSUtil:parallel_process_count=1\"`. Note that multithreading is still available even if you disable multiprocessing.\n",
      "\n",
      "Copying gs://00_extract_vectors/pre-strata_1.parquet.gzip...\n",
      "Copying gs://00_extract_vectors/pre-strata_0.parquet.gzip...\n",
      "| [2/2 files][293.7 MiB/293.7 MiB] 100% Done                                    \n",
      "Operation completed over 2 objects/293.7 MiB.                                    \n"
     ]
    }
   ],
   "source": [
    "!gsutil -m cp $STRATA_GCS_DIR\"pre-strata*.parquet.gzip\" $STRATA_DIR"
   ]
  },
  {
   "cell_type": "code",
   "execution_count": 6,
   "metadata": {},
   "outputs": [],
   "source": [
    "import pathlib\n",
    "\n",
    "file_list = list(pathlib.Path(STRATA_DIR).glob(\"*\"))"
   ]
  },
  {
   "cell_type": "code",
   "execution_count": 7,
   "metadata": {},
   "outputs": [],
   "source": [
    "# Read all files in file_list as separate dataframes\n",
    "dfs = [pd.read_parquet(file) for file in file_list]\n",
    "\n",
    "# Concatenate the dataframes into one\n",
    "combined_df = pd.concat(dfs)"
   ]
  },
  {
   "cell_type": "code",
   "execution_count": 8,
   "metadata": {},
   "outputs": [],
   "source": [
    "combined_df[\"geometry\"] = gpd.GeoSeries.from_wkt(combined_df[\"geometry\"])"
   ]
  },
  {
   "cell_type": "code",
   "execution_count": 9,
   "metadata": {},
   "outputs": [],
   "source": [
    "combined_df = gpd.GeoDataFrame(combined_df, geometry=\"geometry\", crs=\"EPSG:4326\")"
   ]
  },
  {
   "cell_type": "code",
   "execution_count": 10,
   "metadata": {},
   "outputs": [
    {
     "data": {
      "text/plain": [
       "array(['pre_strata_6', 'pre_strata_1', 'pre_strata_2', 'pre_strata_5',\n",
       "       'pre_strata_3', 'pre_strata_4'], dtype=object)"
      ]
     },
     "execution_count": 10,
     "metadata": {},
     "output_type": "execute_result"
    }
   ],
   "source": [
    "combined_df[\"strata\"].unique()"
   ]
  },
  {
   "cell_type": "code",
   "execution_count": 81,
   "metadata": {},
   "outputs": [
    {
     "data": {
      "text/html": [
       "<div>\n",
       "<style scoped>\n",
       "    .dataframe tbody tr th:only-of-type {\n",
       "        vertical-align: middle;\n",
       "    }\n",
       "\n",
       "    .dataframe tbody tr th {\n",
       "        vertical-align: top;\n",
       "    }\n",
       "\n",
       "    .dataframe thead th {\n",
       "        text-align: right;\n",
       "    }\n",
       "</style>\n",
       "<table border=\"1\" class=\"dataframe\">\n",
       "  <thead>\n",
       "    <tr style=\"text-align: right;\">\n",
       "      <th></th>\n",
       "      <th>ID</th>\n",
       "      <th>Plot_No</th>\n",
       "      <th>Strata_No</th>\n",
       "      <th>LCC</th>\n",
       "      <th>Pro_Name</th>\n",
       "      <th>Mun_Name</th>\n",
       "      <th>Bgy_Name</th>\n",
       "      <th>Plot_type</th>\n",
       "      <th>Letter_CD</th>\n",
       "      <th>Plot_uniqu</th>\n",
       "      <th>Plot_ID</th>\n",
       "      <th>geometry</th>\n",
       "    </tr>\n",
       "  </thead>\n",
       "  <tbody>\n",
       "    <tr>\n",
       "      <th>0</th>\n",
       "      <td>101019</td>\n",
       "      <td>1</td>\n",
       "      <td>Strata_1</td>\n",
       "      <td>Dipterocarp Forest Closed</td>\n",
       "      <td>SURIGAO DEL SUR</td>\n",
       "      <td>LANUZA</td>\n",
       "      <td>Pakwan</td>\n",
       "      <td>Primary_point</td>\n",
       "      <td>A</td>\n",
       "      <td>001A1_SDS_8314_23_1</td>\n",
       "      <td>001A1</td>\n",
       "      <td>POINT (825367.557 1012520.782)</td>\n",
       "    </tr>\n",
       "    <tr>\n",
       "      <th>1</th>\n",
       "      <td>101020</td>\n",
       "      <td>2</td>\n",
       "      <td>Strata_1</td>\n",
       "      <td>Dipterocarp Forest Closed</td>\n",
       "      <td>AGUSAN DEL SUR</td>\n",
       "      <td>LA PAZ</td>\n",
       "      <td>Lydia</td>\n",
       "      <td>Primary_point</td>\n",
       "      <td>A</td>\n",
       "      <td>002A1_ADS_8508_23_1</td>\n",
       "      <td>002A1</td>\n",
       "      <td>POINT (773490.067 919489.258)</td>\n",
       "    </tr>\n",
       "  </tbody>\n",
       "</table>\n",
       "</div>"
      ],
      "text/plain": [
       "       ID  Plot_No Strata_No                        LCC         Pro_Name  \\\n",
       "0  101019        1  Strata_1  Dipterocarp Forest Closed  SURIGAO DEL SUR   \n",
       "1  101020        2  Strata_1  Dipterocarp Forest Closed   AGUSAN DEL SUR   \n",
       "\n",
       "  Mun_Name Bgy_Name      Plot_type Letter_CD           Plot_uniqu Plot_ID  \\\n",
       "0   LANUZA   Pakwan  Primary_point         A  001A1_SDS_8314_23_1   001A1   \n",
       "1   LA PAZ    Lydia  Primary_point         A  002A1_ADS_8508_23_1   002A1   \n",
       "\n",
       "                         geometry  \n",
       "0  POINT (825367.557 1012520.782)  \n",
       "1   POINT (773490.067 919489.258)  "
      ]
     },
     "execution_count": 81,
     "metadata": {},
     "output_type": "execute_result"
    }
   ],
   "source": [
    "primary_plots = gpd.read_file(\n",
    "    DATA_DIR / \"shp\" / \"subplot_map\" / \"ALL-recoded_plots_primary.shp\"\n",
    ")\n",
    "primary_plots.head(2)"
   ]
  },
  {
   "cell_type": "code",
   "execution_count": 82,
   "metadata": {},
   "outputs": [],
   "source": [
    "primary_plots[\"Plot_ID\"] = (\n",
    "    primary_plots[\"Plot_No\"].astype(str) + primary_plots[\"Letter_CD\"] + \"1\"\n",
    ")"
   ]
  },
  {
   "cell_type": "code",
   "execution_count": 83,
   "metadata": {},
   "outputs": [
    {
     "data": {
      "text/html": [
       "<div>\n",
       "<style scoped>\n",
       "    .dataframe tbody tr th:only-of-type {\n",
       "        vertical-align: middle;\n",
       "    }\n",
       "\n",
       "    .dataframe tbody tr th {\n",
       "        vertical-align: top;\n",
       "    }\n",
       "\n",
       "    .dataframe thead th {\n",
       "        text-align: right;\n",
       "    }\n",
       "</style>\n",
       "<table border=\"1\" class=\"dataframe\">\n",
       "  <thead>\n",
       "    <tr style=\"text-align: right;\">\n",
       "      <th></th>\n",
       "      <th>ID</th>\n",
       "      <th>Plot_No</th>\n",
       "      <th>Strata_No</th>\n",
       "      <th>LCC</th>\n",
       "      <th>Pro_Name</th>\n",
       "      <th>Mun_Name</th>\n",
       "      <th>Bgy_Name</th>\n",
       "      <th>Plot_type</th>\n",
       "      <th>Letter_CD</th>\n",
       "      <th>Plot_uniqu</th>\n",
       "      <th>Plot_ID</th>\n",
       "      <th>geometry</th>\n",
       "    </tr>\n",
       "  </thead>\n",
       "  <tbody>\n",
       "  </tbody>\n",
       "</table>\n",
       "</div>"
      ],
      "text/plain": [
       "Empty GeoDataFrame\n",
       "Columns: [ID, Plot_No, Strata_No, LCC, Pro_Name, Mun_Name, Bgy_Name, Plot_type, Letter_CD, Plot_uniqu, Plot_ID, geometry]\n",
       "Index: []"
      ]
     },
     "execution_count": 83,
     "metadata": {},
     "output_type": "execute_result"
    }
   ],
   "source": [
    "primary_plots[primary_plots.duplicated(subset=\"Plot_ID\", keep=False)]"
   ]
  },
  {
   "cell_type": "code",
   "execution_count": 72,
   "metadata": {},
   "outputs": [],
   "source": [
    "# primary_plots = primary_plots.loc[primary_plots.Plot_type == \"Primary_point\"].copy()"
   ]
  },
  {
   "cell_type": "code",
   "execution_count": 70,
   "metadata": {},
   "outputs": [
    {
     "data": {
      "text/plain": [
       "array(['Primary_point', 'Subplot'], dtype=object)"
      ]
     },
     "execution_count": 70,
     "metadata": {},
     "output_type": "execute_result"
    }
   ],
   "source": [
    "primary_plots.Plot_type.unique()"
   ]
  },
  {
   "cell_type": "code",
   "execution_count": 84,
   "metadata": {},
   "outputs": [
    {
     "data": {
      "text/html": [
       "<div>\n",
       "<style scoped>\n",
       "    .dataframe tbody tr th:only-of-type {\n",
       "        vertical-align: middle;\n",
       "    }\n",
       "\n",
       "    .dataframe tbody tr th {\n",
       "        vertical-align: top;\n",
       "    }\n",
       "\n",
       "    .dataframe thead th {\n",
       "        text-align: right;\n",
       "    }\n",
       "</style>\n",
       "<table border=\"1\" class=\"dataframe\">\n",
       "  <thead>\n",
       "    <tr style=\"text-align: right;\">\n",
       "      <th></th>\n",
       "      <th>ID</th>\n",
       "      <th>Plot_type</th>\n",
       "      <th>Plot_No</th>\n",
       "      <th>Strata_No</th>\n",
       "      <th>LCC</th>\n",
       "      <th>Pro_Name</th>\n",
       "      <th>Mun_Name</th>\n",
       "      <th>Bgy_Name</th>\n",
       "      <th>Plot_uniqu</th>\n",
       "      <th>Plot_ID</th>\n",
       "      <th>geometry</th>\n",
       "    </tr>\n",
       "  </thead>\n",
       "  <tbody>\n",
       "    <tr>\n",
       "      <th>0</th>\n",
       "      <td>99687</td>\n",
       "      <td>Subplot</td>\n",
       "      <td>1</td>\n",
       "      <td>Strata_1</td>\n",
       "      <td>Dipterocarp Forest Closed</td>\n",
       "      <td>SURIGAO DEL SUR</td>\n",
       "      <td>LANUZA</td>\n",
       "      <td>Pakwan</td>\n",
       "      <td>001B2_SDS_8314_23_1</td>\n",
       "      <td>001B2</td>\n",
       "      <td>POINT (825122.697 1012156.979)</td>\n",
       "    </tr>\n",
       "    <tr>\n",
       "      <th>1</th>\n",
       "      <td>99688</td>\n",
       "      <td>Subplot</td>\n",
       "      <td>1</td>\n",
       "      <td>Strata_1</td>\n",
       "      <td>Dipterocarp Forest Closed</td>\n",
       "      <td>SURIGAO DEL SUR</td>\n",
       "      <td>LANUZA</td>\n",
       "      <td>Pakwan</td>\n",
       "      <td>001C2_SDS_8314_23_1</td>\n",
       "      <td>001C2</td>\n",
       "      <td>POINT (825302.023 1012006.011)</td>\n",
       "    </tr>\n",
       "  </tbody>\n",
       "</table>\n",
       "</div>"
      ],
      "text/plain": [
       "      ID Plot_type  Plot_No Strata_No                        LCC  \\\n",
       "0  99687   Subplot        1  Strata_1  Dipterocarp Forest Closed   \n",
       "1  99688   Subplot        1  Strata_1  Dipterocarp Forest Closed   \n",
       "\n",
       "          Pro_Name Mun_Name Bgy_Name           Plot_uniqu Plot_ID  \\\n",
       "0  SURIGAO DEL SUR   LANUZA   Pakwan  001B2_SDS_8314_23_1   001B2   \n",
       "1  SURIGAO DEL SUR   LANUZA   Pakwan  001C2_SDS_8314_23_1   001C2   \n",
       "\n",
       "                         geometry  \n",
       "0  POINT (825122.697 1012156.979)  \n",
       "1  POINT (825302.023 1012006.011)  "
      ]
     },
     "execution_count": 84,
     "metadata": {},
     "output_type": "execute_result"
    }
   ],
   "source": [
    "backup_plots = gpd.read_file(\n",
    "    DATA_DIR / \"shp\" / \"subplot_map\" / \"ALL-recoded_plots_backup.shp\"\n",
    ")\n",
    "backup_plots.head(2)"
   ]
  },
  {
   "cell_type": "code",
   "execution_count": 85,
   "metadata": {},
   "outputs": [],
   "source": [
    "backup_plots[\"Plot_ID\"] = backup_plots[\"Plot_ID\"].str.lstrip(\"0\")"
   ]
  },
  {
   "cell_type": "code",
   "execution_count": 88,
   "metadata": {},
   "outputs": [
    {
     "data": {
      "text/html": [
       "<div>\n",
       "<style scoped>\n",
       "    .dataframe tbody tr th:only-of-type {\n",
       "        vertical-align: middle;\n",
       "    }\n",
       "\n",
       "    .dataframe tbody tr th {\n",
       "        vertical-align: top;\n",
       "    }\n",
       "\n",
       "    .dataframe thead th {\n",
       "        text-align: right;\n",
       "    }\n",
       "</style>\n",
       "<table border=\"1\" class=\"dataframe\">\n",
       "  <thead>\n",
       "    <tr style=\"text-align: right;\">\n",
       "      <th></th>\n",
       "      <th>ID</th>\n",
       "      <th>Plot_type</th>\n",
       "      <th>Plot_No</th>\n",
       "      <th>Strata_No</th>\n",
       "      <th>LCC</th>\n",
       "      <th>Pro_Name</th>\n",
       "      <th>Mun_Name</th>\n",
       "      <th>Bgy_Name</th>\n",
       "      <th>Plot_uniqu</th>\n",
       "      <th>Plot_ID</th>\n",
       "      <th>geometry</th>\n",
       "    </tr>\n",
       "  </thead>\n",
       "  <tbody>\n",
       "    <tr>\n",
       "      <th>886</th>\n",
       "      <td>100573</td>\n",
       "      <td>Subplot</td>\n",
       "      <td>296</td>\n",
       "      <td>Strata_2</td>\n",
       "      <td>Dipterocarp Forest Closed</td>\n",
       "      <td>SURIGAO DEL SUR</td>\n",
       "      <td>LIANGA</td>\n",
       "      <td>Poblacion</td>\n",
       "      <td>296C2_SDS_8307_23_1</td>\n",
       "      <td>296C2</td>\n",
       "      <td>POINT (838282.061 956050.902)</td>\n",
       "    </tr>\n",
       "    <tr>\n",
       "      <th>887</th>\n",
       "      <td>100574</td>\n",
       "      <td>Subplot</td>\n",
       "      <td>296</td>\n",
       "      <td>Strata_2</td>\n",
       "      <td>Dipterocarp Forest Closed</td>\n",
       "      <td>SURIGAO DEL SUR</td>\n",
       "      <td>LIANGA</td>\n",
       "      <td>Poblacion</td>\n",
       "      <td>296C2_SDS_8307_23_1</td>\n",
       "      <td>296C2</td>\n",
       "      <td>POINT (838112.314 955785.591)</td>\n",
       "    </tr>\n",
       "  </tbody>\n",
       "</table>\n",
       "</div>"
      ],
      "text/plain": [
       "         ID Plot_type  Plot_No Strata_No                        LCC  \\\n",
       "886  100573   Subplot      296  Strata_2  Dipterocarp Forest Closed   \n",
       "887  100574   Subplot      296  Strata_2  Dipterocarp Forest Closed   \n",
       "\n",
       "            Pro_Name Mun_Name   Bgy_Name           Plot_uniqu Plot_ID  \\\n",
       "886  SURIGAO DEL SUR   LIANGA  Poblacion  296C2_SDS_8307_23_1   296C2   \n",
       "887  SURIGAO DEL SUR   LIANGA  Poblacion  296C2_SDS_8307_23_1   296C2   \n",
       "\n",
       "                          geometry  \n",
       "886  POINT (838282.061 956050.902)  \n",
       "887  POINT (838112.314 955785.591)  "
      ]
     },
     "execution_count": 88,
     "metadata": {},
     "output_type": "execute_result"
    }
   ],
   "source": [
    "backup_plots[backup_plots.duplicated(subset=\"Plot_ID\", keep=False)]"
   ]
  },
  {
   "cell_type": "code",
   "execution_count": 87,
   "metadata": {},
   "outputs": [],
   "source": [
    "backup_plots.loc[backup_plots.ID == 100988, \"Plot_ID\"] = \"425D2\""
   ]
  },
  {
   "cell_type": "code",
   "execution_count": 74,
   "metadata": {},
   "outputs": [
    {
     "data": {
      "text/plain": [
       "array(['Subplot', 'Primary'], dtype=object)"
      ]
     },
     "execution_count": 74,
     "metadata": {},
     "output_type": "execute_result"
    }
   ],
   "source": [
    "backup_plots = backup_plots.loc[backup_plots.Plot_type == \"Subplot\"].copy()"
   ]
  },
  {
   "cell_type": "code",
   "execution_count": 90,
   "metadata": {},
   "outputs": [
    {
     "data": {
      "text/html": [
       "<div>\n",
       "<style scoped>\n",
       "    .dataframe tbody tr th:only-of-type {\n",
       "        vertical-align: middle;\n",
       "    }\n",
       "\n",
       "    .dataframe tbody tr th {\n",
       "        vertical-align: top;\n",
       "    }\n",
       "\n",
       "    .dataframe thead th {\n",
       "        text-align: right;\n",
       "    }\n",
       "</style>\n",
       "<table border=\"1\" class=\"dataframe\">\n",
       "  <thead>\n",
       "    <tr style=\"text-align: right;\">\n",
       "      <th></th>\n",
       "      <th>ID</th>\n",
       "      <th>Plot_type</th>\n",
       "      <th>Plot_No</th>\n",
       "      <th>Strata_No</th>\n",
       "      <th>LCC</th>\n",
       "      <th>Pro_Name</th>\n",
       "      <th>Mun_Name</th>\n",
       "      <th>Bgy_Name</th>\n",
       "      <th>Plot_uniqu</th>\n",
       "      <th>Plot_ID</th>\n",
       "      <th>geometry</th>\n",
       "    </tr>\n",
       "  </thead>\n",
       "  <tbody>\n",
       "    <tr>\n",
       "      <th>1143</th>\n",
       "      <td>100830</td>\n",
       "      <td>Subplot</td>\n",
       "      <td>382</td>\n",
       "      <td>Strata_2</td>\n",
       "      <td>Dipterocarp Forest Closed</td>\n",
       "      <td>SURIGAO DEL SUR</td>\n",
       "      <td>MADRID</td>\n",
       "      <td>Bayogo</td>\n",
       "      <td>382B1_SDS_8316_23_1</td>\n",
       "      <td>382B1</td>\n",
       "      <td>POINT (815930.146 1024634.342)</td>\n",
       "    </tr>\n",
       "    <tr>\n",
       "      <th>1303</th>\n",
       "      <td>100990</td>\n",
       "      <td>Subplot</td>\n",
       "      <td>401</td>\n",
       "      <td>Strata_6</td>\n",
       "      <td>Swamp forest closed</td>\n",
       "      <td>AGUSAN DEL SUR</td>\n",
       "      <td>SAN FRANCISCO</td>\n",
       "      <td>Caimpugan</td>\n",
       "      <td>401C1_ADS_8501_23_1</td>\n",
       "      <td>401C1</td>\n",
       "      <td>POINT (819520.527 929747.432)</td>\n",
       "    </tr>\n",
       "    <tr>\n",
       "      <th>1304</th>\n",
       "      <td>100991</td>\n",
       "      <td>Subplot</td>\n",
       "      <td>401</td>\n",
       "      <td>Strata_6</td>\n",
       "      <td>Swamp forest closed</td>\n",
       "      <td>AGUSAN DEL SUR</td>\n",
       "      <td>SAN FRANCISCO</td>\n",
       "      <td>Caimpugan</td>\n",
       "      <td>401D1_ADS_8501_23_1</td>\n",
       "      <td>401D1</td>\n",
       "      <td>POINT (819275.332 929867.562)</td>\n",
       "    </tr>\n",
       "    <tr>\n",
       "      <th>1305</th>\n",
       "      <td>100992</td>\n",
       "      <td>Subplot</td>\n",
       "      <td>402</td>\n",
       "      <td>Strata_6</td>\n",
       "      <td>Swamp forest closed</td>\n",
       "      <td>AGUSAN DEL SUR</td>\n",
       "      <td>SAN FRANCISCO</td>\n",
       "      <td>New Visayas</td>\n",
       "      <td>402B1_ADS_8501_23_1</td>\n",
       "      <td>402B1</td>\n",
       "      <td>POINT (819264.266 932487.699)</td>\n",
       "    </tr>\n",
       "    <tr>\n",
       "      <th>1306</th>\n",
       "      <td>100993</td>\n",
       "      <td>Subplot</td>\n",
       "      <td>402</td>\n",
       "      <td>Strata_6</td>\n",
       "      <td>Swamp forest closed</td>\n",
       "      <td>AGUSAN DEL SUR</td>\n",
       "      <td>SAN FRANCISCO</td>\n",
       "      <td>New Visayas</td>\n",
       "      <td>402C1_ADS_8501_23_1</td>\n",
       "      <td>402C1</td>\n",
       "      <td>POINT (819219.675 932648.254)</td>\n",
       "    </tr>\n",
       "    <tr>\n",
       "      <th>1307</th>\n",
       "      <td>100994</td>\n",
       "      <td>Subplot</td>\n",
       "      <td>402</td>\n",
       "      <td>Strata_6</td>\n",
       "      <td>Swamp forest closed</td>\n",
       "      <td>AGUSAN DEL SUR</td>\n",
       "      <td>SAN FRANCISCO</td>\n",
       "      <td>New Visayas</td>\n",
       "      <td>402D1_ADS_8501_23_1</td>\n",
       "      <td>402D1</td>\n",
       "      <td>POINT (818913.314 932440.727)</td>\n",
       "    </tr>\n",
       "    <tr>\n",
       "      <th>1755</th>\n",
       "      <td>120387</td>\n",
       "      <td>Primary</td>\n",
       "      <td>402</td>\n",
       "      <td>Strata_6</td>\n",
       "      <td>Swamp forest closed</td>\n",
       "      <td>AGUSAN DEL SUR</td>\n",
       "      <td>SAN FRANCISCO</td>\n",
       "      <td>New Visayas</td>\n",
       "      <td>402A1_ADS_8501_23_1</td>\n",
       "      <td>402A1</td>\n",
       "      <td>POINT (819065.056 932539.434)</td>\n",
       "    </tr>\n",
       "    <tr>\n",
       "      <th>1756</th>\n",
       "      <td>120388</td>\n",
       "      <td>Primary</td>\n",
       "      <td>403</td>\n",
       "      <td>Strata_6</td>\n",
       "      <td>Swamp forest closed</td>\n",
       "      <td>AGUSAN DEL SUR</td>\n",
       "      <td>ROSARIO</td>\n",
       "      <td>Wasi-an</td>\n",
       "      <td>403A1_ADS_8504_23_1</td>\n",
       "      <td>403A1</td>\n",
       "      <td>POINT (825435.501 921261.078)</td>\n",
       "    </tr>\n",
       "  </tbody>\n",
       "</table>\n",
       "</div>"
      ],
      "text/plain": [
       "          ID Plot_type  Plot_No Strata_No                        LCC  \\\n",
       "1143  100830   Subplot      382  Strata_2  Dipterocarp Forest Closed   \n",
       "1303  100990   Subplot      401  Strata_6        Swamp forest closed   \n",
       "1304  100991   Subplot      401  Strata_6        Swamp forest closed   \n",
       "1305  100992   Subplot      402  Strata_6        Swamp forest closed   \n",
       "1306  100993   Subplot      402  Strata_6        Swamp forest closed   \n",
       "1307  100994   Subplot      402  Strata_6        Swamp forest closed   \n",
       "1755  120387   Primary      402  Strata_6        Swamp forest closed   \n",
       "1756  120388   Primary      403  Strata_6        Swamp forest closed   \n",
       "\n",
       "             Pro_Name       Mun_Name     Bgy_Name           Plot_uniqu  \\\n",
       "1143  SURIGAO DEL SUR         MADRID       Bayogo  382B1_SDS_8316_23_1   \n",
       "1303   AGUSAN DEL SUR  SAN FRANCISCO    Caimpugan  401C1_ADS_8501_23_1   \n",
       "1304   AGUSAN DEL SUR  SAN FRANCISCO    Caimpugan  401D1_ADS_8501_23_1   \n",
       "1305   AGUSAN DEL SUR  SAN FRANCISCO  New Visayas  402B1_ADS_8501_23_1   \n",
       "1306   AGUSAN DEL SUR  SAN FRANCISCO  New Visayas  402C1_ADS_8501_23_1   \n",
       "1307   AGUSAN DEL SUR  SAN FRANCISCO  New Visayas  402D1_ADS_8501_23_1   \n",
       "1755   AGUSAN DEL SUR  SAN FRANCISCO  New Visayas  402A1_ADS_8501_23_1   \n",
       "1756   AGUSAN DEL SUR        ROSARIO      Wasi-an  403A1_ADS_8504_23_1   \n",
       "\n",
       "     Plot_ID                        geometry  \n",
       "1143   382B1  POINT (815930.146 1024634.342)  \n",
       "1303   401C1   POINT (819520.527 929747.432)  \n",
       "1304   401D1   POINT (819275.332 929867.562)  \n",
       "1305   402B1   POINT (819264.266 932487.699)  \n",
       "1306   402C1   POINT (819219.675 932648.254)  \n",
       "1307   402D1   POINT (818913.314 932440.727)  \n",
       "1755   402A1   POINT (819065.056 932539.434)  \n",
       "1756   403A1   POINT (825435.501 921261.078)  "
      ]
     },
     "execution_count": 90,
     "metadata": {},
     "output_type": "execute_result"
    }
   ],
   "source": [
    "subset = backup_plots[backup_plots[\"Plot_ID\"].str.endswith(\"1\")]\n",
    "subset"
   ]
  },
  {
   "cell_type": "code",
   "execution_count": 91,
   "metadata": {},
   "outputs": [],
   "source": [
    "backup_plots = backup_plots[~backup_plots[\"Plot_ID\"].str.endswith(\"1\")]"
   ]
  },
  {
   "cell_type": "code",
   "execution_count": 59,
   "metadata": {},
   "outputs": [
    {
     "data": {
      "text/html": [
       "<div style=\"width:100%;\"><div style=\"position:relative;width:100%;height:0;padding-bottom:60%;\"><span style=\"color:#565656\">Make this Notebook Trusted to load map: File -> Trust Notebook</span><iframe srcdoc=\"&lt;!DOCTYPE html&gt;\n",
       "&lt;html&gt;\n",
       "&lt;head&gt;\n",
       "    \n",
       "    &lt;meta http-equiv=&quot;content-type&quot; content=&quot;text/html; charset=UTF-8&quot; /&gt;\n",
       "    \n",
       "        &lt;script&gt;\n",
       "            L_NO_TOUCH = false;\n",
       "            L_DISABLE_3D = false;\n",
       "        &lt;/script&gt;\n",
       "    \n",
       "    &lt;style&gt;html, body {width: 100%;height: 100%;margin: 0;padding: 0;}&lt;/style&gt;\n",
       "    &lt;style&gt;#map {position:absolute;top:0;bottom:0;right:0;left:0;}&lt;/style&gt;\n",
       "    &lt;script src=&quot;https://cdn.jsdelivr.net/npm/leaflet@1.9.3/dist/leaflet.js&quot;&gt;&lt;/script&gt;\n",
       "    &lt;script src=&quot;https://code.jquery.com/jquery-3.7.1.min.js&quot;&gt;&lt;/script&gt;\n",
       "    &lt;script src=&quot;https://cdn.jsdelivr.net/npm/bootstrap@5.2.2/dist/js/bootstrap.bundle.min.js&quot;&gt;&lt;/script&gt;\n",
       "    &lt;script src=&quot;https://cdnjs.cloudflare.com/ajax/libs/Leaflet.awesome-markers/2.0.2/leaflet.awesome-markers.js&quot;&gt;&lt;/script&gt;\n",
       "    &lt;link rel=&quot;stylesheet&quot; href=&quot;https://cdn.jsdelivr.net/npm/leaflet@1.9.3/dist/leaflet.css&quot;/&gt;\n",
       "    &lt;link rel=&quot;stylesheet&quot; href=&quot;https://cdn.jsdelivr.net/npm/bootstrap@5.2.2/dist/css/bootstrap.min.css&quot;/&gt;\n",
       "    &lt;link rel=&quot;stylesheet&quot; href=&quot;https://netdna.bootstrapcdn.com/bootstrap/3.0.0/css/bootstrap-glyphicons.css&quot;/&gt;\n",
       "    &lt;link rel=&quot;stylesheet&quot; href=&quot;https://cdn.jsdelivr.net/npm/@fortawesome/fontawesome-free@6.2.0/css/all.min.css&quot;/&gt;\n",
       "    &lt;link rel=&quot;stylesheet&quot; href=&quot;https://cdnjs.cloudflare.com/ajax/libs/Leaflet.awesome-markers/2.0.2/leaflet.awesome-markers.css&quot;/&gt;\n",
       "    &lt;link rel=&quot;stylesheet&quot; href=&quot;https://cdn.jsdelivr.net/gh/python-visualization/folium/folium/templates/leaflet.awesome.rotate.min.css&quot;/&gt;\n",
       "    \n",
       "            &lt;meta name=&quot;viewport&quot; content=&quot;width=device-width,\n",
       "                initial-scale=1.0, maximum-scale=1.0, user-scalable=no&quot; /&gt;\n",
       "            &lt;style&gt;\n",
       "                #map_4894f616efda63dffc0ffbdc7e3dcd58 {\n",
       "                    position: relative;\n",
       "                    width: 100.0%;\n",
       "                    height: 100.0%;\n",
       "                    left: 0.0%;\n",
       "                    top: 0.0%;\n",
       "                }\n",
       "                .leaflet-container { font-size: 1rem; }\n",
       "            &lt;/style&gt;\n",
       "        \n",
       "    \n",
       "                    &lt;style&gt;\n",
       "                        .foliumtooltip {\n",
       "                            \n",
       "                        }\n",
       "                       .foliumtooltip table{\n",
       "                            margin: auto;\n",
       "                        }\n",
       "                        .foliumtooltip tr{\n",
       "                            text-align: left;\n",
       "                        }\n",
       "                        .foliumtooltip th{\n",
       "                            padding: 2px; padding-right: 8px;\n",
       "                        }\n",
       "                    &lt;/style&gt;\n",
       "            \n",
       "&lt;/head&gt;\n",
       "&lt;body&gt;\n",
       "    \n",
       "    \n",
       "            &lt;div class=&quot;folium-map&quot; id=&quot;map_4894f616efda63dffc0ffbdc7e3dcd58&quot; &gt;&lt;/div&gt;\n",
       "        \n",
       "&lt;/body&gt;\n",
       "&lt;script&gt;\n",
       "    \n",
       "    \n",
       "            var map_4894f616efda63dffc0ffbdc7e3dcd58 = L.map(\n",
       "                &quot;map_4894f616efda63dffc0ffbdc7e3dcd58&quot;,\n",
       "                {\n",
       "                    center: [8.635376529621347, 126.0724941436846],\n",
       "                    crs: L.CRS.EPSG3857,\n",
       "                    zoom: 10,\n",
       "                    zoomControl: true,\n",
       "                    preferCanvas: false,\n",
       "                }\n",
       "            );\n",
       "            L.control.scale().addTo(map_4894f616efda63dffc0ffbdc7e3dcd58);\n",
       "\n",
       "            \n",
       "\n",
       "        \n",
       "    \n",
       "            var tile_layer_7a6ab41ba9523991d35fa73b680a28b1 = L.tileLayer(\n",
       "                &quot;https://tile.openstreetmap.org/{z}/{x}/{y}.png&quot;,\n",
       "                {&quot;attribution&quot;: &quot;\\u0026copy; \\u003ca href=\\&quot;https://www.openstreetmap.org/copyright\\&quot;\\u003eOpenStreetMap\\u003c/a\\u003e contributors&quot;, &quot;detectRetina&quot;: false, &quot;maxNativeZoom&quot;: 19, &quot;maxZoom&quot;: 19, &quot;minZoom&quot;: 0, &quot;noWrap&quot;: false, &quot;opacity&quot;: 1, &quot;subdomains&quot;: &quot;abc&quot;, &quot;tms&quot;: false}\n",
       "            );\n",
       "        \n",
       "    \n",
       "            tile_layer_7a6ab41ba9523991d35fa73b680a28b1.addTo(map_4894f616efda63dffc0ffbdc7e3dcd58);\n",
       "        \n",
       "    \n",
       "            map_4894f616efda63dffc0ffbdc7e3dcd58.fitBounds(\n",
       "                [[8.63404961108293, 126.07171413361584], [8.636703448159762, 126.07327415375335]],\n",
       "                {}\n",
       "            );\n",
       "        \n",
       "    \n",
       "        function geo_json_545cf2b35405678910eb2385c8f66f92_styler(feature) {\n",
       "            switch(feature.id) {\n",
       "                default:\n",
       "                    return {&quot;fillOpacity&quot;: 0.5, &quot;weight&quot;: 2};\n",
       "            }\n",
       "        }\n",
       "        function geo_json_545cf2b35405678910eb2385c8f66f92_highlighter(feature) {\n",
       "            switch(feature.id) {\n",
       "                default:\n",
       "                    return {&quot;fillOpacity&quot;: 0.75};\n",
       "            }\n",
       "        }\n",
       "        function geo_json_545cf2b35405678910eb2385c8f66f92_pointToLayer(feature, latlng) {\n",
       "            var opts = {&quot;bubblingMouseEvents&quot;: true, &quot;color&quot;: &quot;#3388ff&quot;, &quot;dashArray&quot;: null, &quot;dashOffset&quot;: null, &quot;fill&quot;: true, &quot;fillColor&quot;: &quot;#3388ff&quot;, &quot;fillOpacity&quot;: 0.2, &quot;fillRule&quot;: &quot;evenodd&quot;, &quot;lineCap&quot;: &quot;round&quot;, &quot;lineJoin&quot;: &quot;round&quot;, &quot;opacity&quot;: 1.0, &quot;radius&quot;: 2, &quot;stroke&quot;: true, &quot;weight&quot;: 3};\n",
       "            \n",
       "            let style = geo_json_545cf2b35405678910eb2385c8f66f92_styler(feature)\n",
       "            Object.assign(opts, style)\n",
       "            \n",
       "            return new L.CircleMarker(latlng, opts)\n",
       "        }\n",
       "\n",
       "        function geo_json_545cf2b35405678910eb2385c8f66f92_onEachFeature(feature, layer) {\n",
       "            layer.on({\n",
       "                mouseout: function(e) {\n",
       "                    if(typeof e.target.setStyle === &quot;function&quot;){\n",
       "                            geo_json_545cf2b35405678910eb2385c8f66f92.resetStyle(e.target);\n",
       "                    }\n",
       "                },\n",
       "                mouseover: function(e) {\n",
       "                    if(typeof e.target.setStyle === &quot;function&quot;){\n",
       "                        const highlightStyle = geo_json_545cf2b35405678910eb2385c8f66f92_highlighter(e.target.feature)\n",
       "                        e.target.setStyle(highlightStyle);\n",
       "                    }\n",
       "                },\n",
       "            });\n",
       "        };\n",
       "        var geo_json_545cf2b35405678910eb2385c8f66f92 = L.geoJson(null, {\n",
       "                onEachFeature: geo_json_545cf2b35405678910eb2385c8f66f92_onEachFeature,\n",
       "            \n",
       "                style: geo_json_545cf2b35405678910eb2385c8f66f92_styler,\n",
       "                pointToLayer: geo_json_545cf2b35405678910eb2385c8f66f92_pointToLayer,\n",
       "        });\n",
       "\n",
       "        function geo_json_545cf2b35405678910eb2385c8f66f92_add (data) {\n",
       "            geo_json_545cf2b35405678910eb2385c8f66f92\n",
       "                .addData(data);\n",
       "        }\n",
       "            geo_json_545cf2b35405678910eb2385c8f66f92_add({&quot;bbox&quot;: [126.07171413361584, 8.63404961108293, 126.07327415375335, 8.636703448159762], &quot;features&quot;: [{&quot;bbox&quot;: [126.07174234322075, 8.636181855003041, 126.07174234322075, 8.636181855003041], &quot;geometry&quot;: {&quot;coordinates&quot;: [126.07174234322075, 8.636181855003041], &quot;type&quot;: &quot;Point&quot;}, &quot;id&quot;: &quot;885&quot;, &quot;properties&quot;: {&quot;Bgy_Name&quot;: &quot;Poblacion&quot;, &quot;ID&quot;: 100572, &quot;LCC&quot;: &quot;Dipterocarp Forest Closed&quot;, &quot;Mun_Name&quot;: &quot;LIANGA&quot;, &quot;Plot_ID&quot;: &quot;296B2&quot;, &quot;Plot_No&quot;: 296, &quot;Plot_type&quot;: &quot;Subplot&quot;, &quot;Plot_uniqu&quot;: &quot;296B2_SDS_8307_23_1&quot;, &quot;Pro_Name&quot;: &quot;SURIGAO DEL SUR&quot;, &quot;Strata_No&quot;: &quot;Strata_2&quot;}, &quot;type&quot;: &quot;Feature&quot;}, {&quot;bbox&quot;: [126.07327415375335, 8.636703448159762, 126.07327415375335, 8.636703448159762], &quot;geometry&quot;: {&quot;coordinates&quot;: [126.07327415375335, 8.636703448159762], &quot;type&quot;: &quot;Point&quot;}, &quot;id&quot;: &quot;886&quot;, &quot;properties&quot;: {&quot;Bgy_Name&quot;: &quot;Poblacion&quot;, &quot;ID&quot;: 100573, &quot;LCC&quot;: &quot;Dipterocarp Forest Closed&quot;, &quot;Mun_Name&quot;: &quot;LIANGA&quot;, &quot;Plot_ID&quot;: &quot;296C2&quot;, &quot;Plot_No&quot;: 296, &quot;Plot_type&quot;: &quot;Subplot&quot;, &quot;Plot_uniqu&quot;: &quot;296C2_SDS_8307_23_1&quot;, &quot;Pro_Name&quot;: &quot;SURIGAO DEL SUR&quot;, &quot;Strata_No&quot;: &quot;Strata_2&quot;}, &quot;type&quot;: &quot;Feature&quot;}, {&quot;bbox&quot;: [126.07171413361584, 8.634319472938527, 126.07171413361584, 8.634319472938527], &quot;geometry&quot;: {&quot;coordinates&quot;: [126.07171413361584, 8.634319472938527], &quot;type&quot;: &quot;Point&quot;}, &quot;id&quot;: &quot;887&quot;, &quot;properties&quot;: {&quot;Bgy_Name&quot;: &quot;Poblacion&quot;, &quot;ID&quot;: 100574, &quot;LCC&quot;: &quot;Dipterocarp Forest Closed&quot;, &quot;Mun_Name&quot;: &quot;LIANGA&quot;, &quot;Plot_ID&quot;: &quot;296C2&quot;, &quot;Plot_No&quot;: 296, &quot;Plot_type&quot;: &quot;Subplot&quot;, &quot;Plot_uniqu&quot;: &quot;296C2_SDS_8307_23_1&quot;, &quot;Pro_Name&quot;: &quot;SURIGAO DEL SUR&quot;, &quot;Strata_No&quot;: &quot;Strata_2&quot;}, &quot;type&quot;: &quot;Feature&quot;}, {&quot;bbox&quot;: [126.07321566145824, 8.63404961108293, 126.07321566145824, 8.63404961108293], &quot;geometry&quot;: {&quot;coordinates&quot;: [126.07321566145824, 8.63404961108293], &quot;type&quot;: &quot;Point&quot;}, &quot;id&quot;: &quot;1615&quot;, &quot;properties&quot;: {&quot;Bgy_Name&quot;: &quot;Poblacion&quot;, &quot;ID&quot;: 120247, &quot;LCC&quot;: &quot;Dipterocarp Forest Closed&quot;, &quot;Mun_Name&quot;: &quot;LIANGA&quot;, &quot;Plot_ID&quot;: &quot;296A2&quot;, &quot;Plot_No&quot;: 296, &quot;Plot_type&quot;: &quot;Primary&quot;, &quot;Plot_uniqu&quot;: &quot;296A2_SDS_8307_23_1&quot;, &quot;Pro_Name&quot;: &quot;SURIGAO DEL SUR&quot;, &quot;Strata_No&quot;: &quot;Strata_2&quot;}, &quot;type&quot;: &quot;Feature&quot;}], &quot;type&quot;: &quot;FeatureCollection&quot;});\n",
       "\n",
       "        \n",
       "    \n",
       "    geo_json_545cf2b35405678910eb2385c8f66f92.bindTooltip(\n",
       "    function(layer){\n",
       "    let div = L.DomUtil.create(&#x27;div&#x27;);\n",
       "    \n",
       "    let handleObject = feature=&gt;typeof(feature)==&#x27;object&#x27; ? JSON.stringify(feature) : feature;\n",
       "    let fields = [&quot;ID&quot;, &quot;Plot_type&quot;, &quot;Plot_No&quot;, &quot;Strata_No&quot;, &quot;LCC&quot;, &quot;Pro_Name&quot;, &quot;Mun_Name&quot;, &quot;Bgy_Name&quot;, &quot;Plot_uniqu&quot;, &quot;Plot_ID&quot;];\n",
       "    let aliases = [&quot;ID&quot;, &quot;Plot_type&quot;, &quot;Plot_No&quot;, &quot;Strata_No&quot;, &quot;LCC&quot;, &quot;Pro_Name&quot;, &quot;Mun_Name&quot;, &quot;Bgy_Name&quot;, &quot;Plot_uniqu&quot;, &quot;Plot_ID&quot;];\n",
       "    let table = &#x27;&lt;table&gt;&#x27; +\n",
       "        String(\n",
       "        fields.map(\n",
       "        (v,i)=&gt;\n",
       "        `&lt;tr&gt;\n",
       "            &lt;th&gt;${aliases[i]}&lt;/th&gt;\n",
       "            \n",
       "            &lt;td&gt;${handleObject(layer.feature.properties[v])}&lt;/td&gt;\n",
       "        &lt;/tr&gt;`).join(&#x27;&#x27;))\n",
       "    +&#x27;&lt;/table&gt;&#x27;;\n",
       "    div.innerHTML=table;\n",
       "    \n",
       "    return div\n",
       "    }\n",
       "    ,{&quot;className&quot;: &quot;foliumtooltip&quot;, &quot;sticky&quot;: true});\n",
       "                     \n",
       "    \n",
       "            geo_json_545cf2b35405678910eb2385c8f66f92.addTo(map_4894f616efda63dffc0ffbdc7e3dcd58);\n",
       "        \n",
       "&lt;/script&gt;\n",
       "&lt;/html&gt;\" style=\"position:absolute;width:100%;height:100%;left:0;top:0;border:none !important;\" allowfullscreen webkitallowfullscreen mozallowfullscreen></iframe></div></div>"
      ],
      "text/plain": [
       "<folium.folium.Map at 0x41e0a6a80>"
      ]
     },
     "execution_count": 59,
     "metadata": {},
     "output_type": "execute_result"
    }
   ],
   "source": [
    "backup_plots.loc[backup_plots.Plot_No == 296].explore()"
   ]
  },
  {
   "cell_type": "code",
   "execution_count": 107,
   "metadata": {},
   "outputs": [],
   "source": [
    "plots = pd.concat([primary_plots, backup_plots], ignore_index=True)"
   ]
  },
  {
   "cell_type": "code",
   "execution_count": 108,
   "metadata": {},
   "outputs": [],
   "source": [
    "plots.drop(columns=[\"Strata_No\"], inplace=True)"
   ]
  },
  {
   "cell_type": "code",
   "execution_count": 109,
   "metadata": {},
   "outputs": [],
   "source": [
    "plots.to_crs(\"EPSG:4326\", inplace=True)"
   ]
  },
  {
   "cell_type": "code",
   "execution_count": 110,
   "metadata": {},
   "outputs": [],
   "source": [
    "plots = plots.sjoin(\n",
    "    combined_df[[\"strata\", \"geometry\"]], how=\"left\", predicate=\"intersects\"\n",
    ")"
   ]
  },
  {
   "cell_type": "code",
   "execution_count": 111,
   "metadata": {},
   "outputs": [],
   "source": [
    "plots[\"Plot_ID\"] = plots[\"Plot_ID\"].str.lstrip(\"0\")\n",
    "plots[\"strata\"] = plots[\"strata\"].str.extract(r\"(\\d+)\")"
   ]
  },
  {
   "cell_type": "code",
   "execution_count": 112,
   "metadata": {},
   "outputs": [
    {
     "data": {
      "text/html": [
       "<div>\n",
       "<style scoped>\n",
       "    .dataframe tbody tr th:only-of-type {\n",
       "        vertical-align: middle;\n",
       "    }\n",
       "\n",
       "    .dataframe tbody tr th {\n",
       "        vertical-align: top;\n",
       "    }\n",
       "\n",
       "    .dataframe thead th {\n",
       "        text-align: right;\n",
       "    }\n",
       "</style>\n",
       "<table border=\"1\" class=\"dataframe\">\n",
       "  <thead>\n",
       "    <tr style=\"text-align: right;\">\n",
       "      <th></th>\n",
       "      <th>ID</th>\n",
       "      <th>Plot_No</th>\n",
       "      <th>LCC</th>\n",
       "      <th>Pro_Name</th>\n",
       "      <th>Mun_Name</th>\n",
       "      <th>Bgy_Name</th>\n",
       "      <th>Plot_type</th>\n",
       "      <th>Letter_CD</th>\n",
       "      <th>Plot_uniqu</th>\n",
       "      <th>Plot_ID</th>\n",
       "      <th>geometry</th>\n",
       "      <th>index_right</th>\n",
       "      <th>strata</th>\n",
       "    </tr>\n",
       "  </thead>\n",
       "  <tbody>\n",
       "    <tr>\n",
       "      <th>0</th>\n",
       "      <td>101019</td>\n",
       "      <td>1</td>\n",
       "      <td>Dipterocarp Forest Closed</td>\n",
       "      <td>SURIGAO DEL SUR</td>\n",
       "      <td>LANUZA</td>\n",
       "      <td>Pakwan</td>\n",
       "      <td>Primary_point</td>\n",
       "      <td>A</td>\n",
       "      <td>001A1_SDS_8314_23_1</td>\n",
       "      <td>1A1</td>\n",
       "      <td>POINT (125.96015 9.14772)</td>\n",
       "      <td>180013.0</td>\n",
       "      <td>2</td>\n",
       "    </tr>\n",
       "    <tr>\n",
       "      <th>1</th>\n",
       "      <td>101020</td>\n",
       "      <td>2</td>\n",
       "      <td>Dipterocarp Forest Closed</td>\n",
       "      <td>AGUSAN DEL SUR</td>\n",
       "      <td>LA PAZ</td>\n",
       "      <td>Lydia</td>\n",
       "      <td>Primary_point</td>\n",
       "      <td>A</td>\n",
       "      <td>002A1_ADS_8508_23_1</td>\n",
       "      <td>2A1</td>\n",
       "      <td>POINT (125.48295 8.31057)</td>\n",
       "      <td>478223.0</td>\n",
       "      <td>2</td>\n",
       "    </tr>\n",
       "    <tr>\n",
       "      <th>2</th>\n",
       "      <td>101021</td>\n",
       "      <td>3</td>\n",
       "      <td>Dipterocarp Forest Closed</td>\n",
       "      <td>SURIGAO DEL SUR</td>\n",
       "      <td>CARMEN</td>\n",
       "      <td>Hinapoyan</td>\n",
       "      <td>Primary_point</td>\n",
       "      <td>A</td>\n",
       "      <td>003A1_SDS_8315_23_1</td>\n",
       "      <td>3A1</td>\n",
       "      <td>POINT (125.89403 9.15614)</td>\n",
       "      <td>180013.0</td>\n",
       "      <td>2</td>\n",
       "    </tr>\n",
       "    <tr>\n",
       "      <th>3</th>\n",
       "      <td>101022</td>\n",
       "      <td>4</td>\n",
       "      <td>Dipterocarp Forest Closed</td>\n",
       "      <td>SURIGAO DEL SUR</td>\n",
       "      <td>LIANGA</td>\n",
       "      <td>Manyayay</td>\n",
       "      <td>Primary_point</td>\n",
       "      <td>A</td>\n",
       "      <td>004A1_SDS_8307_23_1</td>\n",
       "      <td>4A1</td>\n",
       "      <td>POINT (126.13197 8.71834)</td>\n",
       "      <td>180013.0</td>\n",
       "      <td>2</td>\n",
       "    </tr>\n",
       "    <tr>\n",
       "      <th>4</th>\n",
       "      <td>101023</td>\n",
       "      <td>5</td>\n",
       "      <td>Dipterocarp Forest Closed</td>\n",
       "      <td>SURIGAO DEL SUR</td>\n",
       "      <td>LIANGA</td>\n",
       "      <td>Ganayon</td>\n",
       "      <td>Primary_point</td>\n",
       "      <td>A</td>\n",
       "      <td>005A1_SDS_8307_23_1</td>\n",
       "      <td>5A1</td>\n",
       "      <td>POINT (126.08604 8.72452)</td>\n",
       "      <td>180013.0</td>\n",
       "      <td>2</td>\n",
       "    </tr>\n",
       "    <tr>\n",
       "      <th>...</th>\n",
       "      <td>...</td>\n",
       "      <td>...</td>\n",
       "      <td>...</td>\n",
       "      <td>...</td>\n",
       "      <td>...</td>\n",
       "      <td>...</td>\n",
       "      <td>...</td>\n",
       "      <td>...</td>\n",
       "      <td>...</td>\n",
       "      <td>...</td>\n",
       "      <td>...</td>\n",
       "      <td>...</td>\n",
       "      <td>...</td>\n",
       "    </tr>\n",
       "    <tr>\n",
       "      <th>3509</th>\n",
       "      <td>120389</td>\n",
       "      <td>404</td>\n",
       "      <td>Swamp forest closed</td>\n",
       "      <td>AGUSAN DEL SUR</td>\n",
       "      <td>SAN FRANCISCO</td>\n",
       "      <td>New Visayas</td>\n",
       "      <td>Primary</td>\n",
       "      <td>NaN</td>\n",
       "      <td>404A2_ADS_8501_23_1</td>\n",
       "      <td>404A2</td>\n",
       "      <td>POINT (125.88713 8.43701)</td>\n",
       "      <td>45.0</td>\n",
       "      <td>6</td>\n",
       "    </tr>\n",
       "    <tr>\n",
       "      <th>3510</th>\n",
       "      <td>120390</td>\n",
       "      <td>405</td>\n",
       "      <td>Swamp forest closed</td>\n",
       "      <td>AGUSAN DEL SUR</td>\n",
       "      <td>LA PAZ</td>\n",
       "      <td>Villa Paz</td>\n",
       "      <td>Primary</td>\n",
       "      <td>NaN</td>\n",
       "      <td>405A2_ADS_8508_23_1</td>\n",
       "      <td>405A2</td>\n",
       "      <td>POINT (125.83924 8.24765)</td>\n",
       "      <td>13.0</td>\n",
       "      <td>6</td>\n",
       "    </tr>\n",
       "    <tr>\n",
       "      <th>3510</th>\n",
       "      <td>120390</td>\n",
       "      <td>405</td>\n",
       "      <td>Swamp forest closed</td>\n",
       "      <td>AGUSAN DEL SUR</td>\n",
       "      <td>LA PAZ</td>\n",
       "      <td>Villa Paz</td>\n",
       "      <td>Primary</td>\n",
       "      <td>NaN</td>\n",
       "      <td>405A2_ADS_8508_23_1</td>\n",
       "      <td>405A2</td>\n",
       "      <td>POINT (125.83924 8.24765)</td>\n",
       "      <td>287316.0</td>\n",
       "      <td>6</td>\n",
       "    </tr>\n",
       "    <tr>\n",
       "      <th>3511</th>\n",
       "      <td>120391</td>\n",
       "      <td>406</td>\n",
       "      <td>Swamp forest closed</td>\n",
       "      <td>AGUSAN DEL SUR</td>\n",
       "      <td>TALACOGON</td>\n",
       "      <td>Zillovia</td>\n",
       "      <td>Primary</td>\n",
       "      <td>NaN</td>\n",
       "      <td>406A2_ADS_8510_23_1</td>\n",
       "      <td>406A2</td>\n",
       "      <td>POINT (125.75887 8.41506)</td>\n",
       "      <td>151970.0</td>\n",
       "      <td>6</td>\n",
       "    </tr>\n",
       "    <tr>\n",
       "      <th>3511</th>\n",
       "      <td>120391</td>\n",
       "      <td>406</td>\n",
       "      <td>Swamp forest closed</td>\n",
       "      <td>AGUSAN DEL SUR</td>\n",
       "      <td>TALACOGON</td>\n",
       "      <td>Zillovia</td>\n",
       "      <td>Primary</td>\n",
       "      <td>NaN</td>\n",
       "      <td>406A2_ADS_8510_23_1</td>\n",
       "      <td>406A2</td>\n",
       "      <td>POINT (125.75887 8.41506)</td>\n",
       "      <td>8.0</td>\n",
       "      <td>6</td>\n",
       "    </tr>\n",
       "  </tbody>\n",
       "</table>\n",
       "<p>4142 rows × 13 columns</p>\n",
       "</div>"
      ],
      "text/plain": [
       "          ID  Plot_No                        LCC         Pro_Name  \\\n",
       "0     101019        1  Dipterocarp Forest Closed  SURIGAO DEL SUR   \n",
       "1     101020        2  Dipterocarp Forest Closed   AGUSAN DEL SUR   \n",
       "2     101021        3  Dipterocarp Forest Closed  SURIGAO DEL SUR   \n",
       "3     101022        4  Dipterocarp Forest Closed  SURIGAO DEL SUR   \n",
       "4     101023        5  Dipterocarp Forest Closed  SURIGAO DEL SUR   \n",
       "...      ...      ...                        ...              ...   \n",
       "3509  120389      404        Swamp forest closed   AGUSAN DEL SUR   \n",
       "3510  120390      405        Swamp forest closed   AGUSAN DEL SUR   \n",
       "3510  120390      405        Swamp forest closed   AGUSAN DEL SUR   \n",
       "3511  120391      406        Swamp forest closed   AGUSAN DEL SUR   \n",
       "3511  120391      406        Swamp forest closed   AGUSAN DEL SUR   \n",
       "\n",
       "           Mun_Name     Bgy_Name      Plot_type Letter_CD  \\\n",
       "0            LANUZA       Pakwan  Primary_point         A   \n",
       "1            LA PAZ        Lydia  Primary_point         A   \n",
       "2            CARMEN    Hinapoyan  Primary_point         A   \n",
       "3            LIANGA     Manyayay  Primary_point         A   \n",
       "4            LIANGA      Ganayon  Primary_point         A   \n",
       "...             ...          ...            ...       ...   \n",
       "3509  SAN FRANCISCO  New Visayas        Primary       NaN   \n",
       "3510         LA PAZ    Villa Paz        Primary       NaN   \n",
       "3510         LA PAZ    Villa Paz        Primary       NaN   \n",
       "3511      TALACOGON     Zillovia        Primary       NaN   \n",
       "3511      TALACOGON     Zillovia        Primary       NaN   \n",
       "\n",
       "               Plot_uniqu Plot_ID                   geometry  index_right  \\\n",
       "0     001A1_SDS_8314_23_1     1A1  POINT (125.96015 9.14772)     180013.0   \n",
       "1     002A1_ADS_8508_23_1     2A1  POINT (125.48295 8.31057)     478223.0   \n",
       "2     003A1_SDS_8315_23_1     3A1  POINT (125.89403 9.15614)     180013.0   \n",
       "3     004A1_SDS_8307_23_1     4A1  POINT (126.13197 8.71834)     180013.0   \n",
       "4     005A1_SDS_8307_23_1     5A1  POINT (126.08604 8.72452)     180013.0   \n",
       "...                   ...     ...                        ...          ...   \n",
       "3509  404A2_ADS_8501_23_1   404A2  POINT (125.88713 8.43701)         45.0   \n",
       "3510  405A2_ADS_8508_23_1   405A2  POINT (125.83924 8.24765)         13.0   \n",
       "3510  405A2_ADS_8508_23_1   405A2  POINT (125.83924 8.24765)     287316.0   \n",
       "3511  406A2_ADS_8510_23_1   406A2  POINT (125.75887 8.41506)     151970.0   \n",
       "3511  406A2_ADS_8510_23_1   406A2  POINT (125.75887 8.41506)          8.0   \n",
       "\n",
       "     strata  \n",
       "0         2  \n",
       "1         2  \n",
       "2         2  \n",
       "3         2  \n",
       "4         2  \n",
       "...     ...  \n",
       "3509      6  \n",
       "3510      6  \n",
       "3510      6  \n",
       "3511      6  \n",
       "3511      6  \n",
       "\n",
       "[4142 rows x 13 columns]"
      ]
     },
     "execution_count": 112,
     "metadata": {},
     "output_type": "execute_result"
    }
   ],
   "source": [
    "plots"
   ]
  },
  {
   "cell_type": "code",
   "execution_count": 113,
   "metadata": {},
   "outputs": [],
   "source": [
    "plots.rename(columns={\"strata\": \"Strata\", \"Plot_ID\": \"unique_id\"}, inplace=True)\n",
    "# plots.to_csv(SRC_DIR / \"lookup\" / \"pc_plot_lookup_20240802.csv\", index=False)"
   ]
  },
  {
   "cell_type": "code",
   "execution_count": 126,
   "metadata": {},
   "outputs": [],
   "source": [
    "plots.loc[plots.ID == 118481, \"Strata\"] = 1"
   ]
  },
  {
   "cell_type": "code",
   "execution_count": 130,
   "metadata": {},
   "outputs": [],
   "source": [
    "plots.dropna(subset=[\"Strata\"], inplace=True)"
   ]
  },
  {
   "cell_type": "code",
   "execution_count": 133,
   "metadata": {},
   "outputs": [
    {
     "data": {
      "text/plain": [
       "(2910, 13)"
      ]
     },
     "execution_count": 133,
     "metadata": {},
     "output_type": "execute_result"
    }
   ],
   "source": [
    "plots.shape"
   ]
  },
  {
   "cell_type": "code",
   "execution_count": 134,
   "metadata": {},
   "outputs": [],
   "source": [
    "plots = plots[[\"unique_id\", \"Strata\"]]"
   ]
  },
  {
   "cell_type": "code",
   "execution_count": 135,
   "metadata": {},
   "outputs": [],
   "source": [
    "plots.to_csv(SRC_DIR / \"lookup\" / \"pc_plot_lookup_20240802.csv\", index=False)"
   ]
  },
  {
   "cell_type": "code",
   "execution_count": 103,
   "metadata": {},
   "outputs": [
    {
     "data": {
      "text/plain": [
       "(4142, 2)"
      ]
     },
     "execution_count": 103,
     "metadata": {},
     "output_type": "execute_result"
    }
   ],
   "source": [
    "plots.shape"
   ]
  },
  {
   "cell_type": "code",
   "execution_count": 104,
   "metadata": {},
   "outputs": [
    {
     "data": {
      "text/plain": [
       "3511"
      ]
     },
     "execution_count": 104,
     "metadata": {},
     "output_type": "execute_result"
    }
   ],
   "source": [
    "plots.unique_id.nunique()"
   ]
  },
  {
   "cell_type": "code",
   "execution_count": 131,
   "metadata": {},
   "outputs": [],
   "source": [
    "subset = plots[plots.duplicated(subset=\"unique_id\", keep=False)]"
   ]
  },
  {
   "cell_type": "code",
   "execution_count": 132,
   "metadata": {},
   "outputs": [
    {
     "data": {
      "text/html": [
       "<div>\n",
       "<style scoped>\n",
       "    .dataframe tbody tr th:only-of-type {\n",
       "        vertical-align: middle;\n",
       "    }\n",
       "\n",
       "    .dataframe tbody tr th {\n",
       "        vertical-align: top;\n",
       "    }\n",
       "\n",
       "    .dataframe thead th {\n",
       "        text-align: right;\n",
       "    }\n",
       "</style>\n",
       "<table border=\"1\" class=\"dataframe\">\n",
       "  <thead>\n",
       "    <tr style=\"text-align: right;\">\n",
       "      <th></th>\n",
       "      <th>ID</th>\n",
       "      <th>Plot_No</th>\n",
       "      <th>LCC</th>\n",
       "      <th>Pro_Name</th>\n",
       "      <th>Mun_Name</th>\n",
       "      <th>Bgy_Name</th>\n",
       "      <th>Plot_type</th>\n",
       "      <th>Letter_CD</th>\n",
       "      <th>Plot_uniqu</th>\n",
       "      <th>unique_id</th>\n",
       "      <th>geometry</th>\n",
       "      <th>index_right</th>\n",
       "      <th>Strata</th>\n",
       "    </tr>\n",
       "  </thead>\n",
       "  <tbody>\n",
       "  </tbody>\n",
       "</table>\n",
       "</div>"
      ],
      "text/plain": [
       "Empty GeoDataFrame\n",
       "Columns: [ID, Plot_No, LCC, Pro_Name, Mun_Name, Bgy_Name, Plot_type, Letter_CD, Plot_uniqu, unique_id, geometry, index_right, Strata]\n",
       "Index: []"
      ]
     },
     "execution_count": 132,
     "metadata": {},
     "output_type": "execute_result"
    }
   ],
   "source": [
    "subset"
   ]
  },
  {
   "cell_type": "code",
   "execution_count": 124,
   "metadata": {},
   "outputs": [],
   "source": [
    "plots[plots.unique_id.isin(subset.unique_id)].to_csv(\n",
    "    DATA_DIR / \"tmp\" / \"duplicate_plots_new_strata.csv\", index=False\n",
    ")"
   ]
  },
  {
   "cell_type": "code",
   "execution_count": null,
   "metadata": {},
   "outputs": [],
   "source": []
  },
  {
   "cell_type": "code",
   "execution_count": 127,
   "metadata": {},
   "outputs": [],
   "source": [
    "plots.drop_duplicates(subset=[\"Strata\", \"unique_id\"], inplace=True)"
   ]
  },
  {
   "cell_type": "code",
   "execution_count": 42,
   "metadata": {},
   "outputs": [],
   "source": [
    "combined_df.to_file(DATA_DIR / \"gpkg\" / \"strata.gpkg\")"
   ]
  }
 ],
 "metadata": {
  "kernelspec": {
   "display_name": "onebase",
   "language": "python",
   "name": "python3"
  },
  "language_info": {
   "codemirror_mode": {
    "name": "ipython",
    "version": 3
   },
   "file_extension": ".py",
   "mimetype": "text/x-python",
   "name": "python",
   "nbconvert_exporter": "python",
   "pygments_lexer": "ipython3",
   "version": "3.12.4"
  }
 },
 "nbformat": 4,
 "nbformat_minor": 2
}
