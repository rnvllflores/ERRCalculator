{
 "cells": [
  {
   "cell_type": "code",
   "execution_count": 2,
   "metadata": {},
   "outputs": [],
   "source": [
    "import pandas as pd\n",
    "import geopandas as gpd\n",
    "from shapely.wkt import loads\n",
    "\n",
    "df = pd.read_parquet(\"../../data/parquet/caraga-davao_lcc_2023_0.parquet.gzip\")"
   ]
  },
  {
   "cell_type": "code",
   "execution_count": 3,
   "metadata": {
    "vscode": {
     "languageId": "javascript"
    }
   },
   "outputs": [],
   "source": [
    "df[\"geometry\"] = df[\"geometry\"].apply(loads)\n",
    "gdf = gpd.GeoDataFrame(df, geometry=\"geometry\", crs=\"EPSG:3125\")"
   ]
  },
  {
   "cell_type": "code",
   "execution_count": 4,
   "metadata": {},
   "outputs": [],
   "source": [
    "gdf[\"area_sqm\"] = gdf.geometry.to_crs(\"EPSG:3857\").area"
   ]
  },
  {
   "cell_type": "code",
   "execution_count": 5,
   "metadata": {},
   "outputs": [
    {
     "data": {
      "text/html": [
       "<div>\n",
       "<style scoped>\n",
       "    .dataframe tbody tr th:only-of-type {\n",
       "        vertical-align: middle;\n",
       "    }\n",
       "\n",
       "    .dataframe tbody tr th {\n",
       "        vertical-align: top;\n",
       "    }\n",
       "\n",
       "    .dataframe thead th {\n",
       "        text-align: right;\n",
       "    }\n",
       "</style>\n",
       "<table border=\"1\" class=\"dataframe\">\n",
       "  <thead>\n",
       "    <tr style=\"text-align: right;\">\n",
       "      <th></th>\n",
       "      <th>area_sqm</th>\n",
       "    </tr>\n",
       "  </thead>\n",
       "  <tbody>\n",
       "    <tr>\n",
       "      <th>count</th>\n",
       "      <td>1.000000e+06</td>\n",
       "    </tr>\n",
       "    <tr>\n",
       "      <th>mean</th>\n",
       "      <td>1.760934e+04</td>\n",
       "    </tr>\n",
       "    <tr>\n",
       "      <th>std</th>\n",
       "      <td>5.233763e+06</td>\n",
       "    </tr>\n",
       "    <tr>\n",
       "      <th>min</th>\n",
       "      <td>1.007913e+02</td>\n",
       "    </tr>\n",
       "    <tr>\n",
       "      <th>25%</th>\n",
       "      <td>2.023990e+02</td>\n",
       "    </tr>\n",
       "    <tr>\n",
       "      <th>50%</th>\n",
       "      <td>7.055617e+02</td>\n",
       "    </tr>\n",
       "    <tr>\n",
       "      <th>75%</th>\n",
       "      <td>2.119625e+03</td>\n",
       "    </tr>\n",
       "    <tr>\n",
       "      <th>max</th>\n",
       "      <td>3.966725e+09</td>\n",
       "    </tr>\n",
       "  </tbody>\n",
       "</table>\n",
       "</div>"
      ],
      "text/plain": [
       "           area_sqm\n",
       "count  1.000000e+06\n",
       "mean   1.760934e+04\n",
       "std    5.233763e+06\n",
       "min    1.007913e+02\n",
       "25%    2.023990e+02\n",
       "50%    7.055617e+02\n",
       "75%    2.119625e+03\n",
       "max    3.966725e+09"
      ]
     },
     "execution_count": 5,
     "metadata": {},
     "output_type": "execute_result"
    }
   ],
   "source": [
    "gdf.describe()"
   ]
  },
  {
   "cell_type": "code",
   "execution_count": 6,
   "metadata": {},
   "outputs": [],
   "source": [
    "subset_gdf = gdf[gdf.area_sqm > 1_500_000]"
   ]
  },
  {
   "cell_type": "code",
   "execution_count": 1,
   "metadata": {},
   "outputs": [
    {
     "ename": "NameError",
     "evalue": "name 'subset_gdf' is not defined",
     "output_type": "error",
     "traceback": [
      "\u001b[0;31m---------------------------------------------------------------------------\u001b[0m",
      "\u001b[0;31mNameError\u001b[0m                                 Traceback (most recent call last)",
      "Cell \u001b[0;32mIn[1], line 1\u001b[0m\n\u001b[0;32m----> 1\u001b[0m \u001b[43msubset_gdf\u001b[49m\u001b[38;5;241m.\u001b[39mshape\n",
      "\u001b[0;31mNameError\u001b[0m: name 'subset_gdf' is not defined"
     ]
    }
   ],
   "source": [
    "subset_gdf.shape"
   ]
  },
  {
   "cell_type": "code",
   "execution_count": 10,
   "metadata": {},
   "outputs": [
    {
     "name": "stderr",
     "output_type": "stream",
     "text": [
      "/Users/renflores/miniconda3/envs/onebase/lib/python3.12/site-packages/distributed/client.py:3245: UserWarning: Sending large graph of size 174.15 MiB.\n",
      "This may cause some slowdown.\n",
      "Consider scattering data ahead of time and using futures.\n",
      "  warnings.warn(\n"
     ]
    }
   ],
   "source": [
    "import dask_geopandas as dgpd\n",
    "from dask.distributed import Client\n",
    "\n",
    "client = Client()  # Connect to a Dask cluster\n",
    "\n",
    "subset_buffer = dgpd.from_geopandas(\n",
    "    subset_gdf, npartitions=10\n",
    ")  # Convert GeoDataFrame to Dask GeoDataFrame\n",
    "\n",
    "subset_buffer = subset_buffer.map_partitions(\n",
    "    lambda gdf: gdf.buffer(-200)\n",
    ")  # Apply buffer operation to each partition\n",
    "\n",
    "subset_buffer = subset_buffer.compute()  # Compute the result\n",
    "\n",
    "subset_buffer.head()  # Display the result"
   ]
  },
  {
   "cell_type": "code",
   "execution_count": 20,
   "metadata": {},
   "outputs": [],
   "source": [
    "subset_bufffer = subset_gdf.buffer(-200)"
   ]
  },
  {
   "cell_type": "code",
   "execution_count": null,
   "metadata": {},
   "outputs": [],
   "source": [
    "import folium\n",
    "\n",
    "# Create a Folium map instance\n",
    "map_instance = folium.Map()\n",
    "\n",
    "# # Display the map\n",
    "# map_instance"
   ]
  },
  {
   "cell_type": "code",
   "execution_count": null,
   "metadata": {},
   "outputs": [],
   "source": [
    "gdf.loc[gdf.LCC == \"Swamp forest, closed\", \"buffered_geometry_buffer\"].explore(\n",
    "    m=map_instance, fill_color=\"red\"\n",
    ")"
   ]
  },
  {
   "cell_type": "code",
   "execution_count": null,
   "metadata": {},
   "outputs": [],
   "source": [
    "gdf.loc[gdf.LCC == \"Swamp forest, closed\", \"geometry\"].explore(m=map_instance)"
   ]
  },
  {
   "cell_type": "code",
   "execution_count": null,
   "metadata": {},
   "outputs": [],
   "source": [
    "from typing import Union\n",
    "from shapely.geometry import Polygon, MultiPolygon\n",
    "\n",
    "\n",
    "def one_sided_poly_buffer(\n",
    "    poly: Polygon, buffer_m: float\n",
    ") -> Union[Polygon, MultiPolygon]:\n",
    "    bound = poly.boundary\n",
    "    # estimate how big the buffer zone will be\n",
    "    poly_len = min(poly.length, buffer_m)\n",
    "    buffer_area_estimate = buffer_m * poly_len\n",
    "    # no need to buffer for small polygons\n",
    "    if poly.area < buffer_area_estimate:\n",
    "        buffered_bound = poly\n",
    "    # buffer for sufficiently large polygons\n",
    "    else:\n",
    "        buffered_bound = bound.buffer(-buffer_m / 2, single_sided=True)\n",
    "        # take the intersection to remove the outward spikes from a single sided buffer\n",
    "        buffered_bound = buffered_bound.intersection(poly)\n",
    "        # buffer it again to fill in inward spikes\n",
    "        buffered_bound = buffered_bound.buffer(buffer_m / 2)\n",
    "        # take intersection to remove outward spikes again\n",
    "        buffered_bound = buffered_bound.intersection(poly)\n",
    "    return buffered_bound"
   ]
  },
  {
   "cell_type": "code",
   "execution_count": null,
   "metadata": {},
   "outputs": [],
   "source": [
    "gdf.to_crs(\"EPSG:3857\", inplace=True)"
   ]
  },
  {
   "cell_type": "code",
   "execution_count": null,
   "metadata": {},
   "outputs": [],
   "source": [
    "gdf.crs"
   ]
  },
  {
   "cell_type": "code",
   "execution_count": null,
   "metadata": {},
   "outputs": [],
   "source": [
    "%%time\n",
    "gdf[\"buffered_geometry_buffer\"] = gdf[\"geometry\"].apply(\n",
    "    lambda x: one_sided_poly_buffer(x, 200)\n",
    ")"
   ]
  },
  {
   "cell_type": "code",
   "execution_count": null,
   "metadata": {},
   "outputs": [],
   "source": [
    "gdf[\"area_buffered\"] = gdf[\"buffered_geometry_buffer\"].to_crs(\"EPSG:3857\").area"
   ]
  },
  {
   "cell_type": "code",
   "execution_count": null,
   "metadata": {},
   "outputs": [],
   "source": [
    "gdf[\"diff\"] = gdf[\"area_sqm\"] - gdf[\"area_buffered\"]"
   ]
  },
  {
   "cell_type": "code",
   "execution_count": null,
   "metadata": {},
   "outputs": [],
   "source": [
    "gdf[\"diff\"].describe()"
   ]
  },
  {
   "cell_type": "code",
   "execution_count": null,
   "metadata": {},
   "outputs": [],
   "source": [
    "from shapely import Polygon\n",
    "import geopandas as gpd\n",
    "\n",
    "# Define the coordinates of the bounding box\n",
    "min_lon = 120.9\n",
    "max_lon = 121.2\n",
    "min_lat = 14.4\n",
    "max_lat = 14.8\n",
    "\n",
    "# Create a Polygon object representing the bounding box\n",
    "bbox = Polygon(\n",
    "    [(min_lon, min_lat), (max_lon, min_lat), (max_lon, max_lat), (min_lon, max_lat)]\n",
    ")\n",
    "\n",
    "# Create a GeoDataFrame with the bounding box\n",
    "gdf_bbox = gpd.GeoDataFrame(geometry=[bbox])\n",
    "\n",
    "# Set the coordinate reference system (CRS) of the GeoDataFrame\n",
    "gdf_bbox.crs = \"EPSG:4326\"\n",
    "\n",
    "# Print the GeoDataFrame\n",
    "print(gdf_bbox)"
   ]
  },
  {
   "cell_type": "code",
   "execution_count": null,
   "metadata": {},
   "outputs": [],
   "source": [
    "from shapely.geometry import Polygon\n",
    "import geopandas as gpd"
   ]
  },
  {
   "cell_type": "code",
   "execution_count": null,
   "metadata": {},
   "outputs": [],
   "source": [
    "# Define the coordinates of the bounding box\n",
    "min_lon = 120.9\n",
    "max_lon = 121.2\n",
    "min_lat = 14.4\n",
    "max_lat = 14.8\n",
    "\n",
    "# Create a Polygon object representing the bounding box\n",
    "bbox = Polygon(\n",
    "    [(min_lon, min_lat), (max_lon, min_lat), (max_lon, max_lat), (min_lon, max_lat)]\n",
    ")\n",
    "\n",
    "# Create a GeoDataFrame with the bounding box\n",
    "gdf_bbox = gpd.GeoDataFrame(geometry=[bbox])\n",
    "\n",
    "# Set the coordinate reference system (CRS) of the GeoDataFrame\n",
    "gdf_bbox.crs = \"EPSG:3857\"\n",
    "\n",
    "# Print the GeoDataFrame\n",
    "print(gdf_bbox)"
   ]
  },
  {
   "cell_type": "code",
   "execution_count": null,
   "metadata": {},
   "outputs": [],
   "source": [
    "from shapely.geometry import Polygon\n",
    "\n",
    "# Create a negative buffer of gdf_bbox with a distance of 200m\n",
    "gdf_bbox_explode = gdf_bbox.explode()\n",
    "negative_buffer = gdf_bbox_explode.geometry.buffer(-200)\n",
    "\n",
    "# Create a new GeoDataFrame with the negative buffer\n",
    "gdf_negative_buffer = gpd.GeoDataFrame(geometry=[negative_buffer])\n",
    "\n",
    "# # Set the coordinate reference system (CRS) of the GeoDataFrame\n",
    "# gdf_negative_buffer.crs = 'EPSG:3857'\n",
    "\n",
    "# Print the GeoDataFrame\n",
    "print(gdf_negative_buffer)"
   ]
  },
  {
   "cell_type": "code",
   "execution_count": null,
   "metadata": {},
   "outputs": [],
   "source": [
    "import geopandas as gpd\n",
    "\n",
    "print(gpd.__version__)"
   ]
  }
 ],
 "metadata": {
  "kernelspec": {
   "display_name": "onebase",
   "language": "python",
   "name": "python3"
  },
  "language_info": {
   "codemirror_mode": {
    "name": "ipython",
    "version": 3
   },
   "file_extension": ".py",
   "mimetype": "text/x-python",
   "name": "python",
   "nbconvert_exporter": "python",
   "pygments_lexer": "ipython3",
   "version": "3.12.4"
  }
 },
 "nbformat": 4,
 "nbformat_minor": 2
}
