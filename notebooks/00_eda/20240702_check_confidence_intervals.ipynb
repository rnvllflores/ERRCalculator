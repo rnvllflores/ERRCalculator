{
 "cells": [
  {
   "cell_type": "markdown",
   "metadata": {},
   "source": [
    "# Plot confidence interval changes"
   ]
  },
  {
   "cell_type": "markdown",
   "metadata": {},
   "source": [
    "# Imports and Set-up"
   ]
  },
  {
   "cell_type": "code",
   "execution_count": 1,
   "metadata": {},
   "outputs": [],
   "source": [
    "# Standard Imports\n",
    "import sys\n",
    "import os\n",
    "import pandas as pd\n",
    "import numpy as np\n",
    "\n",
    "# Google Cloud Imports\n",
    "import pandas_gbq"
   ]
  },
  {
   "cell_type": "code",
   "execution_count": 3,
   "metadata": {},
   "outputs": [],
   "source": [
    "# Util imports\n",
    "sys.path.append(\"../../\")  # include parent directory\n",
    "from src.settings import (\n",
    "    DATA_DIR,\n",
    ")"
   ]
  },
  {
   "cell_type": "markdown",
   "metadata": {},
   "source": [
    "## Load data"
   ]
  },
  {
   "cell_type": "markdown",
   "metadata": {},
   "source": [
    "### Trees data"
   ]
  },
  {
   "cell_type": "code",
   "execution_count": null,
   "metadata": {},
   "outputs": [],
   "source": [
    "if TREES_CSV.exists():\n",
    "    trees = pd.read_csv(TREES_CSV)\n",
    "else:\n",
    "    query = f\"\"\"\n",
    "    SELECT \n",
    "        * \n",
    "    FROM {GCP_PROJ_ID}.{DATASET_ID}.trees\"\"\"\n",
    "\n",
    "    # Read the BigQuery table into a dataframe\n",
    "    trees = pandas_gbq.read_gbq(query, project_id=GCP_PROJ_ID)\n",
    "    trees.to_csv(TREES_CSV, index=False)"
   ]
  },
  {
   "cell_type": "code",
   "execution_count": 39,
   "metadata": {},
   "outputs": [],
   "source": [
    "import pandas as pd\n",
    "import glob\n",
    "\n",
    "csv_files = glob.glob(\n",
    "    \"/Users/renflores/Documents/OneBase/data/csv/test_confidence_intervals/*.csv\"\n",
    ")\n",
    "dataframes = {}\n",
    "\n",
    "for file in csv_files:\n",
    "    file_name = file.split(\"/\")[-1].split(\".\")[\n",
    "        0\n",
    "    ]  # Extract the file name without extension\n",
    "    df = pd.read_csv(file)\n",
    "    dataframes[file_name] = df"
   ]
  },
  {
   "cell_type": "code",
   "execution_count": 17,
   "metadata": {},
   "outputs": [],
   "source": [
    "ci_avg_substitution = dataframes[\"ci_avg_substitution\"]"
   ]
  },
  {
   "cell_type": "code",
   "execution_count": 57,
   "metadata": {},
   "outputs": [
    {
     "data": {
      "text/html": [
       "<div>\n",
       "<style scoped>\n",
       "    .dataframe tbody tr th:only-of-type {\n",
       "        vertical-align: middle;\n",
       "    }\n",
       "\n",
       "    .dataframe tbody tr th {\n",
       "        vertical-align: top;\n",
       "    }\n",
       "\n",
       "    .dataframe thead th {\n",
       "        text-align: right;\n",
       "    }\n",
       "</style>\n",
       "<table border=\"1\" class=\"dataframe\">\n",
       "  <thead>\n",
       "    <tr style=\"text-align: right;\">\n",
       "      <th></th>\n",
       "      <th>Strata</th>\n",
       "      <th>carbon_type</th>\n",
       "      <th>t_CO2_ha</th>\n",
       "      <th>lower_ci</th>\n",
       "      <th>upper_ci</th>\n",
       "      <th>margin_err_perc_90</th>\n",
       "      <th>margin_err_perc_95</th>\n",
       "      <th>standard_error_perc</th>\n",
       "    </tr>\n",
       "  </thead>\n",
       "  <tbody>\n",
       "    <tr>\n",
       "      <th>0</th>\n",
       "      <td>1</td>\n",
       "      <td>AGB</td>\n",
       "      <td>1162.72</td>\n",
       "      <td>986.94</td>\n",
       "      <td>1338.50</td>\n",
       "      <td>0.1512</td>\n",
       "      <td>0.1801</td>\n",
       "      <td>0.0919</td>\n",
       "    </tr>\n",
       "    <tr>\n",
       "      <th>1</th>\n",
       "      <td>2</td>\n",
       "      <td>AGB</td>\n",
       "      <td>684.83</td>\n",
       "      <td>589.71</td>\n",
       "      <td>779.95</td>\n",
       "      <td>0.1389</td>\n",
       "      <td>0.1655</td>\n",
       "      <td>0.0844</td>\n",
       "    </tr>\n",
       "    <tr>\n",
       "      <th>2</th>\n",
       "      <td>5</td>\n",
       "      <td>AGB</td>\n",
       "      <td>250.96</td>\n",
       "      <td>NaN</td>\n",
       "      <td>NaN</td>\n",
       "      <td>NaN</td>\n",
       "      <td>NaN</td>\n",
       "      <td>NaN</td>\n",
       "    </tr>\n",
       "    <tr>\n",
       "      <th>3</th>\n",
       "      <td>1</td>\n",
       "      <td>BGB</td>\n",
       "      <td>278.90</td>\n",
       "      <td>236.71</td>\n",
       "      <td>321.08</td>\n",
       "      <td>0.1513</td>\n",
       "      <td>0.1802</td>\n",
       "      <td>0.0920</td>\n",
       "    </tr>\n",
       "    <tr>\n",
       "      <th>4</th>\n",
       "      <td>2</td>\n",
       "      <td>BGB</td>\n",
       "      <td>164.16</td>\n",
       "      <td>141.32</td>\n",
       "      <td>186.99</td>\n",
       "      <td>0.1391</td>\n",
       "      <td>0.1657</td>\n",
       "      <td>0.0846</td>\n",
       "    </tr>\n",
       "    <tr>\n",
       "      <th>5</th>\n",
       "      <td>5</td>\n",
       "      <td>BGB</td>\n",
       "      <td>60.19</td>\n",
       "      <td>NaN</td>\n",
       "      <td>NaN</td>\n",
       "      <td>NaN</td>\n",
       "      <td>NaN</td>\n",
       "      <td>NaN</td>\n",
       "    </tr>\n",
       "    <tr>\n",
       "      <th>6</th>\n",
       "      <td>1</td>\n",
       "      <td>dead_tree_carbon</td>\n",
       "      <td>24.14</td>\n",
       "      <td>19.93</td>\n",
       "      <td>28.36</td>\n",
       "      <td>0.1745</td>\n",
       "      <td>0.2079</td>\n",
       "      <td>0.1061</td>\n",
       "    </tr>\n",
       "    <tr>\n",
       "      <th>7</th>\n",
       "      <td>2</td>\n",
       "      <td>dead_tree_carbon</td>\n",
       "      <td>24.29</td>\n",
       "      <td>17.45</td>\n",
       "      <td>31.12</td>\n",
       "      <td>0.2815</td>\n",
       "      <td>0.3354</td>\n",
       "      <td>0.1711</td>\n",
       "    </tr>\n",
       "    <tr>\n",
       "      <th>8</th>\n",
       "      <td>5</td>\n",
       "      <td>dead_tree_carbon</td>\n",
       "      <td>12.69</td>\n",
       "      <td>NaN</td>\n",
       "      <td>NaN</td>\n",
       "      <td>NaN</td>\n",
       "      <td>NaN</td>\n",
       "      <td>NaN</td>\n",
       "    </tr>\n",
       "    <tr>\n",
       "      <th>9</th>\n",
       "      <td>1</td>\n",
       "      <td>litter_carbon</td>\n",
       "      <td>3.91</td>\n",
       "      <td>3.33</td>\n",
       "      <td>4.48</td>\n",
       "      <td>0.1467</td>\n",
       "      <td>0.1749</td>\n",
       "      <td>0.0892</td>\n",
       "    </tr>\n",
       "    <tr>\n",
       "      <th>10</th>\n",
       "      <td>2</td>\n",
       "      <td>litter_carbon</td>\n",
       "      <td>3.79</td>\n",
       "      <td>3.35</td>\n",
       "      <td>4.22</td>\n",
       "      <td>0.1143</td>\n",
       "      <td>0.1362</td>\n",
       "      <td>0.0695</td>\n",
       "    </tr>\n",
       "    <tr>\n",
       "      <th>11</th>\n",
       "      <td>5</td>\n",
       "      <td>litter_carbon</td>\n",
       "      <td>3.72</td>\n",
       "      <td>NaN</td>\n",
       "      <td>NaN</td>\n",
       "      <td>NaN</td>\n",
       "      <td>NaN</td>\n",
       "      <td>NaN</td>\n",
       "    </tr>\n",
       "    <tr>\n",
       "      <th>12</th>\n",
       "      <td>1</td>\n",
       "      <td>ntv_carbon</td>\n",
       "      <td>1.63</td>\n",
       "      <td>1.38</td>\n",
       "      <td>1.88</td>\n",
       "      <td>0.1515</td>\n",
       "      <td>0.1805</td>\n",
       "      <td>0.0921</td>\n",
       "    </tr>\n",
       "    <tr>\n",
       "      <th>13</th>\n",
       "      <td>2</td>\n",
       "      <td>ntv_carbon</td>\n",
       "      <td>1.86</td>\n",
       "      <td>1.51</td>\n",
       "      <td>2.21</td>\n",
       "      <td>0.1874</td>\n",
       "      <td>0.2234</td>\n",
       "      <td>0.1140</td>\n",
       "    </tr>\n",
       "    <tr>\n",
       "      <th>14</th>\n",
       "      <td>5</td>\n",
       "      <td>ntv_carbon</td>\n",
       "      <td>5.90</td>\n",
       "      <td>NaN</td>\n",
       "      <td>NaN</td>\n",
       "      <td>NaN</td>\n",
       "      <td>NaN</td>\n",
       "      <td>NaN</td>\n",
       "    </tr>\n",
       "  </tbody>\n",
       "</table>\n",
       "</div>"
      ],
      "text/plain": [
       "    Strata       carbon_type  t_CO2_ha  lower_ci  upper_ci  \\\n",
       "0        1               AGB   1162.72    986.94   1338.50   \n",
       "1        2               AGB    684.83    589.71    779.95   \n",
       "2        5               AGB    250.96       NaN       NaN   \n",
       "3        1               BGB    278.90    236.71    321.08   \n",
       "4        2               BGB    164.16    141.32    186.99   \n",
       "5        5               BGB     60.19       NaN       NaN   \n",
       "6        1  dead_tree_carbon     24.14     19.93     28.36   \n",
       "7        2  dead_tree_carbon     24.29     17.45     31.12   \n",
       "8        5  dead_tree_carbon     12.69       NaN       NaN   \n",
       "9        1     litter_carbon      3.91      3.33      4.48   \n",
       "10       2     litter_carbon      3.79      3.35      4.22   \n",
       "11       5     litter_carbon      3.72       NaN       NaN   \n",
       "12       1        ntv_carbon      1.63      1.38      1.88   \n",
       "13       2        ntv_carbon      1.86      1.51      2.21   \n",
       "14       5        ntv_carbon      5.90       NaN       NaN   \n",
       "\n",
       "    margin_err_perc_90  margin_err_perc_95  standard_error_perc  \n",
       "0               0.1512              0.1801               0.0919  \n",
       "1               0.1389              0.1655               0.0844  \n",
       "2                  NaN                 NaN                  NaN  \n",
       "3               0.1513              0.1802               0.0920  \n",
       "4               0.1391              0.1657               0.0846  \n",
       "5                  NaN                 NaN                  NaN  \n",
       "6               0.1745              0.2079               0.1061  \n",
       "7               0.2815              0.3354               0.1711  \n",
       "8                  NaN                 NaN                  NaN  \n",
       "9               0.1467              0.1749               0.0892  \n",
       "10              0.1143              0.1362               0.0695  \n",
       "11                 NaN                 NaN                  NaN  \n",
       "12              0.1515              0.1805               0.0921  \n",
       "13              0.1874              0.2234               0.1140  \n",
       "14                 NaN                 NaN                  NaN  "
      ]
     },
     "execution_count": 57,
     "metadata": {},
     "output_type": "execute_result"
    }
   ],
   "source": [
    "ci_avg_substitution"
   ]
  },
  {
   "cell_type": "code",
   "execution_count": 34,
   "metadata": {},
   "outputs": [],
   "source": [
    "ci_avg_substitution.drop(columns=[\"Unnamed: 0\"], inplace=True)"
   ]
  },
  {
   "cell_type": "code",
   "execution_count": 35,
   "metadata": {},
   "outputs": [
    {
     "data": {
      "text/html": [
       "<div>\n",
       "<style scoped>\n",
       "    .dataframe tbody tr th:only-of-type {\n",
       "        vertical-align: middle;\n",
       "    }\n",
       "\n",
       "    .dataframe tbody tr th {\n",
       "        vertical-align: top;\n",
       "    }\n",
       "\n",
       "    .dataframe thead th {\n",
       "        text-align: right;\n",
       "    }\n",
       "</style>\n",
       "<table border=\"1\" class=\"dataframe\">\n",
       "  <thead>\n",
       "    <tr style=\"text-align: right;\">\n",
       "      <th></th>\n",
       "      <th>Strata</th>\n",
       "      <th>t_CO2_ha</th>\n",
       "      <th>lower_ci</th>\n",
       "      <th>upper_ci</th>\n",
       "      <th>margin_err_perc_90</th>\n",
       "      <th>margin_err_perc_95</th>\n",
       "      <th>standard_error_perc</th>\n",
       "    </tr>\n",
       "  </thead>\n",
       "  <tbody>\n",
       "    <tr>\n",
       "      <th>0</th>\n",
       "      <td>1</td>\n",
       "      <td>294.260</td>\n",
       "      <td>249.658</td>\n",
       "      <td>338.860</td>\n",
       "      <td>0.15504</td>\n",
       "      <td>0.18472</td>\n",
       "      <td>0.09426</td>\n",
       "    </tr>\n",
       "    <tr>\n",
       "      <th>1</th>\n",
       "      <td>2</td>\n",
       "      <td>175.786</td>\n",
       "      <td>150.668</td>\n",
       "      <td>200.898</td>\n",
       "      <td>0.17224</td>\n",
       "      <td>0.20524</td>\n",
       "      <td>0.10472</td>\n",
       "    </tr>\n",
       "    <tr>\n",
       "      <th>2</th>\n",
       "      <td>5</td>\n",
       "      <td>66.692</td>\n",
       "      <td>NaN</td>\n",
       "      <td>NaN</td>\n",
       "      <td>NaN</td>\n",
       "      <td>NaN</td>\n",
       "      <td>NaN</td>\n",
       "    </tr>\n",
       "  </tbody>\n",
       "</table>\n",
       "</div>"
      ],
      "text/plain": [
       "   Strata  t_CO2_ha  lower_ci  upper_ci  margin_err_perc_90  \\\n",
       "0       1   294.260   249.658   338.860             0.15504   \n",
       "1       2   175.786   150.668   200.898             0.17224   \n",
       "2       5    66.692       NaN       NaN                 NaN   \n",
       "\n",
       "   margin_err_perc_95  standard_error_perc  \n",
       "0             0.18472              0.09426  \n",
       "1             0.20524              0.10472  \n",
       "2                 NaN                  NaN  "
      ]
     },
     "execution_count": 35,
     "metadata": {},
     "output_type": "execute_result"
    }
   ],
   "source": [
    "ci_avg_substitution.drop(columns=[\"carbon_type\"]).groupby(\"Strata\").mean().reset_index()"
   ]
  },
  {
   "cell_type": "code",
   "execution_count": 78,
   "metadata": {},
   "outputs": [
    {
     "data": {
      "text/html": [
       "<div>\n",
       "<style scoped>\n",
       "    .dataframe tbody tr th:only-of-type {\n",
       "        vertical-align: middle;\n",
       "    }\n",
       "\n",
       "    .dataframe tbody tr th {\n",
       "        vertical-align: top;\n",
       "    }\n",
       "\n",
       "    .dataframe thead th {\n",
       "        text-align: right;\n",
       "    }\n",
       "</style>\n",
       "<table border=\"1\" class=\"dataframe\">\n",
       "  <thead>\n",
       "    <tr style=\"text-align: right;\">\n",
       "      <th></th>\n",
       "      <th>Strata</th>\n",
       "      <th>carbon_type</th>\n",
       "      <th>t_CO2_ha</th>\n",
       "      <th>lower_ci</th>\n",
       "      <th>upper_ci</th>\n",
       "      <th>margin_err_perc_90</th>\n",
       "      <th>margin_err_perc_95</th>\n",
       "      <th>standard_error_perc</th>\n",
       "    </tr>\n",
       "  </thead>\n",
       "  <tbody>\n",
       "    <tr>\n",
       "      <th>0</th>\n",
       "      <td>1</td>\n",
       "      <td>AGB</td>\n",
       "      <td>1162.72</td>\n",
       "      <td>986.94</td>\n",
       "      <td>1338.50</td>\n",
       "      <td>0.1512</td>\n",
       "      <td>0.1801</td>\n",
       "      <td>0.0919</td>\n",
       "    </tr>\n",
       "    <tr>\n",
       "      <th>3</th>\n",
       "      <td>1</td>\n",
       "      <td>BGB</td>\n",
       "      <td>278.90</td>\n",
       "      <td>236.71</td>\n",
       "      <td>321.08</td>\n",
       "      <td>0.1513</td>\n",
       "      <td>0.1802</td>\n",
       "      <td>0.0920</td>\n",
       "    </tr>\n",
       "    <tr>\n",
       "      <th>6</th>\n",
       "      <td>1</td>\n",
       "      <td>dead_tree_carbon</td>\n",
       "      <td>24.14</td>\n",
       "      <td>19.93</td>\n",
       "      <td>28.36</td>\n",
       "      <td>0.1745</td>\n",
       "      <td>0.2079</td>\n",
       "      <td>0.1061</td>\n",
       "    </tr>\n",
       "    <tr>\n",
       "      <th>9</th>\n",
       "      <td>1</td>\n",
       "      <td>litter_carbon</td>\n",
       "      <td>3.91</td>\n",
       "      <td>3.33</td>\n",
       "      <td>4.48</td>\n",
       "      <td>0.1467</td>\n",
       "      <td>0.1749</td>\n",
       "      <td>0.0892</td>\n",
       "    </tr>\n",
       "    <tr>\n",
       "      <th>12</th>\n",
       "      <td>1</td>\n",
       "      <td>ntv_carbon</td>\n",
       "      <td>1.63</td>\n",
       "      <td>1.38</td>\n",
       "      <td>1.88</td>\n",
       "      <td>0.1515</td>\n",
       "      <td>0.1805</td>\n",
       "      <td>0.0921</td>\n",
       "    </tr>\n",
       "    <tr>\n",
       "      <th>1</th>\n",
       "      <td>2</td>\n",
       "      <td>AGB</td>\n",
       "      <td>684.83</td>\n",
       "      <td>589.71</td>\n",
       "      <td>779.95</td>\n",
       "      <td>0.1389</td>\n",
       "      <td>0.1655</td>\n",
       "      <td>0.0844</td>\n",
       "    </tr>\n",
       "    <tr>\n",
       "      <th>4</th>\n",
       "      <td>2</td>\n",
       "      <td>BGB</td>\n",
       "      <td>164.16</td>\n",
       "      <td>141.32</td>\n",
       "      <td>186.99</td>\n",
       "      <td>0.1391</td>\n",
       "      <td>0.1657</td>\n",
       "      <td>0.0846</td>\n",
       "    </tr>\n",
       "    <tr>\n",
       "      <th>7</th>\n",
       "      <td>2</td>\n",
       "      <td>dead_tree_carbon</td>\n",
       "      <td>24.29</td>\n",
       "      <td>17.45</td>\n",
       "      <td>31.12</td>\n",
       "      <td>0.2815</td>\n",
       "      <td>0.3354</td>\n",
       "      <td>0.1711</td>\n",
       "    </tr>\n",
       "    <tr>\n",
       "      <th>10</th>\n",
       "      <td>2</td>\n",
       "      <td>litter_carbon</td>\n",
       "      <td>3.79</td>\n",
       "      <td>3.35</td>\n",
       "      <td>4.22</td>\n",
       "      <td>0.1143</td>\n",
       "      <td>0.1362</td>\n",
       "      <td>0.0695</td>\n",
       "    </tr>\n",
       "    <tr>\n",
       "      <th>13</th>\n",
       "      <td>2</td>\n",
       "      <td>ntv_carbon</td>\n",
       "      <td>1.86</td>\n",
       "      <td>1.51</td>\n",
       "      <td>2.21</td>\n",
       "      <td>0.1874</td>\n",
       "      <td>0.2234</td>\n",
       "      <td>0.1140</td>\n",
       "    </tr>\n",
       "    <tr>\n",
       "      <th>2</th>\n",
       "      <td>5</td>\n",
       "      <td>AGB</td>\n",
       "      <td>250.96</td>\n",
       "      <td>NaN</td>\n",
       "      <td>NaN</td>\n",
       "      <td>NaN</td>\n",
       "      <td>NaN</td>\n",
       "      <td>NaN</td>\n",
       "    </tr>\n",
       "    <tr>\n",
       "      <th>5</th>\n",
       "      <td>5</td>\n",
       "      <td>BGB</td>\n",
       "      <td>60.19</td>\n",
       "      <td>NaN</td>\n",
       "      <td>NaN</td>\n",
       "      <td>NaN</td>\n",
       "      <td>NaN</td>\n",
       "      <td>NaN</td>\n",
       "    </tr>\n",
       "    <tr>\n",
       "      <th>8</th>\n",
       "      <td>5</td>\n",
       "      <td>dead_tree_carbon</td>\n",
       "      <td>12.69</td>\n",
       "      <td>NaN</td>\n",
       "      <td>NaN</td>\n",
       "      <td>NaN</td>\n",
       "      <td>NaN</td>\n",
       "      <td>NaN</td>\n",
       "    </tr>\n",
       "    <tr>\n",
       "      <th>11</th>\n",
       "      <td>5</td>\n",
       "      <td>litter_carbon</td>\n",
       "      <td>3.72</td>\n",
       "      <td>NaN</td>\n",
       "      <td>NaN</td>\n",
       "      <td>NaN</td>\n",
       "      <td>NaN</td>\n",
       "      <td>NaN</td>\n",
       "    </tr>\n",
       "    <tr>\n",
       "      <th>14</th>\n",
       "      <td>5</td>\n",
       "      <td>ntv_carbon</td>\n",
       "      <td>5.90</td>\n",
       "      <td>NaN</td>\n",
       "      <td>NaN</td>\n",
       "      <td>NaN</td>\n",
       "      <td>NaN</td>\n",
       "      <td>NaN</td>\n",
       "    </tr>\n",
       "  </tbody>\n",
       "</table>\n",
       "</div>"
      ],
      "text/plain": [
       "    Strata       carbon_type  t_CO2_ha  lower_ci  upper_ci  \\\n",
       "0        1               AGB   1162.72    986.94   1338.50   \n",
       "3        1               BGB    278.90    236.71    321.08   \n",
       "6        1  dead_tree_carbon     24.14     19.93     28.36   \n",
       "9        1     litter_carbon      3.91      3.33      4.48   \n",
       "12       1        ntv_carbon      1.63      1.38      1.88   \n",
       "1        2               AGB    684.83    589.71    779.95   \n",
       "4        2               BGB    164.16    141.32    186.99   \n",
       "7        2  dead_tree_carbon     24.29     17.45     31.12   \n",
       "10       2     litter_carbon      3.79      3.35      4.22   \n",
       "13       2        ntv_carbon      1.86      1.51      2.21   \n",
       "2        5               AGB    250.96       NaN       NaN   \n",
       "5        5               BGB     60.19       NaN       NaN   \n",
       "8        5  dead_tree_carbon     12.69       NaN       NaN   \n",
       "11       5     litter_carbon      3.72       NaN       NaN   \n",
       "14       5        ntv_carbon      5.90       NaN       NaN   \n",
       "\n",
       "    margin_err_perc_90  margin_err_perc_95  standard_error_perc  \n",
       "0               0.1512              0.1801               0.0919  \n",
       "3               0.1513              0.1802               0.0920  \n",
       "6               0.1745              0.2079               0.1061  \n",
       "9               0.1467              0.1749               0.0892  \n",
       "12              0.1515              0.1805               0.0921  \n",
       "1               0.1389              0.1655               0.0844  \n",
       "4               0.1391              0.1657               0.0846  \n",
       "7               0.2815              0.3354               0.1711  \n",
       "10              0.1143              0.1362               0.0695  \n",
       "13              0.1874              0.2234               0.1140  \n",
       "2                  NaN                 NaN                  NaN  \n",
       "5                  NaN                 NaN                  NaN  \n",
       "8                  NaN                 NaN                  NaN  \n",
       "11                 NaN                 NaN                  NaN  \n",
       "14                 NaN                 NaN                  NaN  "
      ]
     },
     "execution_count": 78,
     "metadata": {},
     "output_type": "execute_result"
    }
   ],
   "source": [
    "ci_avg_substitution.sort_values(by=\"Strata\")"
   ]
  },
  {
   "cell_type": "markdown",
   "metadata": {},
   "source": [
    "# droping trees >150"
   ]
  },
  {
   "cell_type": "code",
   "execution_count": 47,
   "metadata": {},
   "outputs": [
    {
     "data": {
      "text/plain": [
       "dict_keys(['ci_avg_substitution', 'ci_capped_150', 'emission_factors_biomass_inventories_remove_trees_150', 'emission_factors_biomass_inventories_avg_substitution', 'ci_remove_trees_150', 'emission_factors_biomass_inventories_capped_150'])"
      ]
     },
     "execution_count": 47,
     "metadata": {},
     "output_type": "execute_result"
    }
   ],
   "source": [
    "dataframes.keys()"
   ]
  },
  {
   "cell_type": "code",
   "execution_count": 52,
   "metadata": {},
   "outputs": [
    {
     "data": {
      "text/plain": [
       "['/Users/renflores/Documents/OneBase/data/csv/test_confidence_intervals/ci_avg_substitution.csv',\n",
       " '/Users/renflores/Documents/OneBase/data/csv/test_confidence_intervals/ci_capped_150.csv',\n",
       " '/Users/renflores/Documents/OneBase/data/csv/test_confidence_intervals/emission_factors_biomass_inventories_remove_trees_150.csv',\n",
       " '/Users/renflores/Documents/OneBase/data/csv/test_confidence_intervals/emission_factors_biomass_inventories_avg_substitution.csv',\n",
       " '/Users/renflores/Documents/OneBase/data/csv/test_confidence_intervals/ci_remove_trees_150.csv',\n",
       " '/Users/renflores/Documents/OneBase/data/csv/test_confidence_intervals/emission_factors_biomass_inventories_capped_150.csv']"
      ]
     },
     "execution_count": 52,
     "metadata": {},
     "output_type": "execute_result"
    }
   ],
   "source": [
    "csv_files"
   ]
  },
  {
   "cell_type": "code",
   "execution_count": 53,
   "metadata": {},
   "outputs": [],
   "source": [
    "ci_remove_trees_150 = pd.read_csv(\n",
    "    \"/Users/renflores/Documents/OneBase/data/csv/test_confidence_intervals/ci_remove_trees_150.csv\"\n",
    ")"
   ]
  },
  {
   "cell_type": "code",
   "execution_count": 54,
   "metadata": {},
   "outputs": [],
   "source": [
    "ci_remove_trees_150.drop(columns=[\"Unnamed: 0\"], inplace=True)"
   ]
  },
  {
   "cell_type": "code",
   "execution_count": 55,
   "metadata": {},
   "outputs": [
    {
     "data": {
      "text/html": [
       "<div>\n",
       "<style scoped>\n",
       "    .dataframe tbody tr th:only-of-type {\n",
       "        vertical-align: middle;\n",
       "    }\n",
       "\n",
       "    .dataframe tbody tr th {\n",
       "        vertical-align: top;\n",
       "    }\n",
       "\n",
       "    .dataframe thead th {\n",
       "        text-align: right;\n",
       "    }\n",
       "</style>\n",
       "<table border=\"1\" class=\"dataframe\">\n",
       "  <thead>\n",
       "    <tr style=\"text-align: right;\">\n",
       "      <th></th>\n",
       "      <th>Strata</th>\n",
       "      <th>t_CO2_ha</th>\n",
       "      <th>lower_ci</th>\n",
       "      <th>upper_ci</th>\n",
       "      <th>margin_err_perc_90</th>\n",
       "      <th>margin_err_perc_95</th>\n",
       "      <th>standard_error_perc</th>\n",
       "    </tr>\n",
       "  </thead>\n",
       "  <tbody>\n",
       "    <tr>\n",
       "      <th>0</th>\n",
       "      <td>1</td>\n",
       "      <td>292.744</td>\n",
       "      <td>248.306</td>\n",
       "      <td>337.182</td>\n",
       "      <td>0.15512</td>\n",
       "      <td>0.18484</td>\n",
       "      <td>0.09432</td>\n",
       "    </tr>\n",
       "    <tr>\n",
       "      <th>1</th>\n",
       "      <td>2</td>\n",
       "      <td>174.104</td>\n",
       "      <td>149.114</td>\n",
       "      <td>199.090</td>\n",
       "      <td>0.17248</td>\n",
       "      <td>0.20556</td>\n",
       "      <td>0.10488</td>\n",
       "    </tr>\n",
       "    <tr>\n",
       "      <th>2</th>\n",
       "      <td>5</td>\n",
       "      <td>66.692</td>\n",
       "      <td>NaN</td>\n",
       "      <td>NaN</td>\n",
       "      <td>NaN</td>\n",
       "      <td>NaN</td>\n",
       "      <td>NaN</td>\n",
       "    </tr>\n",
       "  </tbody>\n",
       "</table>\n",
       "</div>"
      ],
      "text/plain": [
       "   Strata  t_CO2_ha  lower_ci  upper_ci  margin_err_perc_90  \\\n",
       "0       1   292.744   248.306   337.182             0.15512   \n",
       "1       2   174.104   149.114   199.090             0.17248   \n",
       "2       5    66.692       NaN       NaN                 NaN   \n",
       "\n",
       "   margin_err_perc_95  standard_error_perc  \n",
       "0             0.18484              0.09432  \n",
       "1             0.20556              0.10488  \n",
       "2                 NaN                  NaN  "
      ]
     },
     "execution_count": 55,
     "metadata": {},
     "output_type": "execute_result"
    }
   ],
   "source": [
    "ci_remove_trees_150.drop(columns=[\"carbon_type\"]).groupby(\"Strata\").mean().reset_index()"
   ]
  },
  {
   "cell_type": "code",
   "execution_count": 59,
   "metadata": {},
   "outputs": [],
   "source": [
    "merged_df = ci_remove_trees_150.merge(\n",
    "    ci_avg_substitution,\n",
    "    on=[\"Strata\", \"carbon_type\"],\n",
    "    suffixes=(\"_remove_trees_150\", \"_avg_substitution\"),\n",
    ")"
   ]
  },
  {
   "cell_type": "code",
   "execution_count": 74,
   "metadata": {},
   "outputs": [
    {
     "data": {
      "text/plain": [
       "0     0.0003\n",
       "1     0.0008\n",
       "2        NaN\n",
       "3     0.0003\n",
       "4     0.0008\n",
       "5        NaN\n",
       "6     0.0000\n",
       "7     0.0000\n",
       "8        NaN\n",
       "9     0.0000\n",
       "10    0.0000\n",
       "11       NaN\n",
       "12    0.0000\n",
       "13    0.0000\n",
       "14       NaN\n",
       "dtype: float64"
      ]
     },
     "execution_count": 74,
     "metadata": {},
     "output_type": "execute_result"
    }
   ],
   "source": [
    "(\n",
    "    merged_df[\"margin_err_perc_95_remove_trees_150\"]\n",
    "    - merged_df[\"margin_err_perc_95_avg_substitution\"]\n",
    ")"
   ]
  },
  {
   "cell_type": "code",
   "execution_count": 65,
   "metadata": {},
   "outputs": [],
   "source": [
    "ci_capped_150 = dataframes[\"ci_capped_150\"]"
   ]
  },
  {
   "cell_type": "code",
   "execution_count": 70,
   "metadata": {},
   "outputs": [],
   "source": [
    "merged_df = merged_df.merge(ci_capped_150, on=[\"Strata\", \"carbon_type\"])"
   ]
  },
  {
   "cell_type": "code",
   "execution_count": 76,
   "metadata": {},
   "outputs": [
    {
     "data": {
      "text/plain": [
       "0     0.0012\n",
       "1     0.0022\n",
       "2        NaN\n",
       "3     0.0012\n",
       "4     0.0023\n",
       "5        NaN\n",
       "6    -0.0006\n",
       "7     0.0005\n",
       "8        NaN\n",
       "9     0.0003\n",
       "10   -0.0003\n",
       "11       NaN\n",
       "12   -0.0002\n",
       "13    0.0000\n",
       "14       NaN\n",
       "dtype: float64"
      ]
     },
     "execution_count": 76,
     "metadata": {},
     "output_type": "execute_result"
    }
   ],
   "source": [
    "merged_df[\"margin_err_perc_95\"] - merged_df[\"margin_err_perc_95_avg_substitution\"]"
   ]
  },
  {
   "cell_type": "code",
   "execution_count": null,
   "metadata": {},
   "outputs": [],
   "source": [
    "dataframes[\"ci_capped_150\"]"
   ]
  },
  {
   "cell_type": "code",
   "execution_count": 79,
   "metadata": {},
   "outputs": [
    {
     "data": {
      "text/plain": [
       "dict_keys(['ci_avg_substitution', 'ci_capped_150', 'emission_factors_biomass_inventories_remove_trees_150', 'emission_factors_biomass_inventories_avg_substitution', 'ci_remove_trees_150', 'emission_factors_biomass_inventories_capped_150'])"
      ]
     },
     "execution_count": 79,
     "metadata": {},
     "output_type": "execute_result"
    }
   ],
   "source": [
    "dataframes.keys()"
   ]
  },
  {
   "cell_type": "code",
   "execution_count": 80,
   "metadata": {},
   "outputs": [],
   "source": [
    "ef_avg_substitution = dataframes[\n",
    "    \"emission_factors_biomass_inventories_avg_substitution\"\n",
    "]"
   ]
  },
  {
   "cell_type": "code",
   "execution_count": 81,
   "metadata": {},
   "outputs": [],
   "source": [
    "ef_avg_substitution.drop(columns=[\"Unnamed: 0\"], inplace=True)"
   ]
  },
  {
   "cell_type": "code",
   "execution_count": 83,
   "metadata": {},
   "outputs": [
    {
     "data": {
      "text/plain": [
       "Index(['unique_ID', 'plot', 'lc_type', 'plot_type', 'latitude', 'longitude',\n",
       "       'corrected_plot_area_m2', 'AGB_biomass', 'BGB_biomass', 'litter_carbon',\n",
       "       'ntv_carbon', 'stump_biomass', 'ldw_biomass', 'dead_tree_biomass',\n",
       "       'Strata', 'LCC', 'Bgy_Name', 'Mun_Name', 'Pro_Name', 'start', 'Team',\n",
       "       'total_dead_wood', 'n'],\n",
       "      dtype='object')"
      ]
     },
     "execution_count": 83,
     "metadata": {},
     "output_type": "execute_result"
    }
   ],
   "source": [
    "ef_avg_substitution.columns"
   ]
  }
 ],
 "metadata": {
  "kernelspec": {
   "display_name": "onebase",
   "language": "python",
   "name": "python3"
  },
  "language_info": {
   "codemirror_mode": {
    "name": "ipython",
    "version": 3
   },
   "file_extension": ".py",
   "mimetype": "text/x-python",
   "name": "python",
   "nbconvert_exporter": "python",
   "pygments_lexer": "ipython3",
   "version": "3.12.4"
  }
 },
 "nbformat": 4,
 "nbformat_minor": 2
}
