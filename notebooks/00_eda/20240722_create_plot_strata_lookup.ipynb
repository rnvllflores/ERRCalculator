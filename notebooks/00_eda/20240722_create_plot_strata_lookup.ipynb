{
 "cells": [
  {
   "cell_type": "code",
   "execution_count": 2,
   "metadata": {},
   "outputs": [],
   "source": [
    "import sys\n",
    "import pandas as pd\n",
    "import geopandas as gpd"
   ]
  },
  {
   "cell_type": "code",
   "execution_count": 3,
   "metadata": {},
   "outputs": [],
   "source": [
    "# Util imports\n",
    "sys.path.append(\"../../\")  # include parent directory\n",
    "from src.settings import DATA_DIR, SRC_DIR"
   ]
  },
  {
   "cell_type": "code",
   "execution_count": 4,
   "metadata": {},
   "outputs": [],
   "source": [
    "STRATA_PATH = DATA_DIR / \"shp\" / \"caraga_strata-natural-forest.shp\""
   ]
  },
  {
   "cell_type": "code",
   "execution_count": 5,
   "metadata": {},
   "outputs": [
    {
     "ename": "NameError",
     "evalue": "name 'STRATA_PATH' is not defined",
     "output_type": "error",
     "traceback": [
      "\u001b[0;31m---------------------------------------------------------------------------\u001b[0m",
      "\u001b[0;31mNameError\u001b[0m                                 Traceback (most recent call last)",
      "Cell \u001b[0;32mIn[5], line 1\u001b[0m\n\u001b[0;32m----> 1\u001b[0m strata_gdf \u001b[38;5;241m=\u001b[39m gpd\u001b[38;5;241m.\u001b[39mread_file(\u001b[43mSTRATA_PATH\u001b[49m)\n",
      "\u001b[0;31mNameError\u001b[0m: name 'STRATA_PATH' is not defined"
     ]
    }
   ],
   "source": [
    "strata_gdf = gpd.read_file(STRATA_PATH)"
   ]
  },
  {
   "cell_type": "code",
   "execution_count": null,
   "metadata": {},
   "outputs": [],
   "source": [
    "# strata_gdf = strata_gdf[['Strata_No','geometry']].copy()"
   ]
  },
  {
   "cell_type": "code",
   "execution_count": 6,
   "metadata": {},
   "outputs": [],
   "source": [
    "primary_plots = gpd.read_file(\n",
    "    DATA_DIR / \"shp\" / \"subplot_map\" / \"ALL-recoded_plots_primary.shp\"\n",
    ")"
   ]
  },
  {
   "cell_type": "code",
   "execution_count": 7,
   "metadata": {},
   "outputs": [
    {
     "data": {
      "text/html": [
       "<div>\n",
       "<style scoped>\n",
       "    .dataframe tbody tr th:only-of-type {\n",
       "        vertical-align: middle;\n",
       "    }\n",
       "\n",
       "    .dataframe tbody tr th {\n",
       "        vertical-align: top;\n",
       "    }\n",
       "\n",
       "    .dataframe thead th {\n",
       "        text-align: right;\n",
       "    }\n",
       "</style>\n",
       "<table border=\"1\" class=\"dataframe\">\n",
       "  <thead>\n",
       "    <tr style=\"text-align: right;\">\n",
       "      <th></th>\n",
       "      <th>ID</th>\n",
       "      <th>Plot_No</th>\n",
       "      <th>Strata_No</th>\n",
       "      <th>LCC</th>\n",
       "      <th>Pro_Name</th>\n",
       "      <th>Mun_Name</th>\n",
       "      <th>Bgy_Name</th>\n",
       "      <th>Plot_type</th>\n",
       "      <th>Letter_CD</th>\n",
       "      <th>Plot_uniqu</th>\n",
       "      <th>Plot_ID</th>\n",
       "      <th>geometry</th>\n",
       "    </tr>\n",
       "  </thead>\n",
       "  <tbody>\n",
       "    <tr>\n",
       "      <th>0</th>\n",
       "      <td>101019</td>\n",
       "      <td>1</td>\n",
       "      <td>Strata_1</td>\n",
       "      <td>Dipterocarp Forest Closed</td>\n",
       "      <td>SURIGAO DEL SUR</td>\n",
       "      <td>LANUZA</td>\n",
       "      <td>Pakwan</td>\n",
       "      <td>Primary_point</td>\n",
       "      <td>A</td>\n",
       "      <td>001A1_SDS_8314_23_1</td>\n",
       "      <td>001A1</td>\n",
       "      <td>POINT (825367.557 1012520.782)</td>\n",
       "    </tr>\n",
       "    <tr>\n",
       "      <th>1</th>\n",
       "      <td>101020</td>\n",
       "      <td>2</td>\n",
       "      <td>Strata_1</td>\n",
       "      <td>Dipterocarp Forest Closed</td>\n",
       "      <td>AGUSAN DEL SUR</td>\n",
       "      <td>LA PAZ</td>\n",
       "      <td>Lydia</td>\n",
       "      <td>Primary_point</td>\n",
       "      <td>A</td>\n",
       "      <td>002A1_ADS_8508_23_1</td>\n",
       "      <td>002A1</td>\n",
       "      <td>POINT (773490.067 919489.258)</td>\n",
       "    </tr>\n",
       "  </tbody>\n",
       "</table>\n",
       "</div>"
      ],
      "text/plain": [
       "       ID  Plot_No Strata_No                        LCC         Pro_Name  \\\n",
       "0  101019        1  Strata_1  Dipterocarp Forest Closed  SURIGAO DEL SUR   \n",
       "1  101020        2  Strata_1  Dipterocarp Forest Closed   AGUSAN DEL SUR   \n",
       "\n",
       "  Mun_Name Bgy_Name      Plot_type Letter_CD           Plot_uniqu Plot_ID  \\\n",
       "0   LANUZA   Pakwan  Primary_point         A  001A1_SDS_8314_23_1   001A1   \n",
       "1   LA PAZ    Lydia  Primary_point         A  002A1_ADS_8508_23_1   002A1   \n",
       "\n",
       "                         geometry  \n",
       "0  POINT (825367.557 1012520.782)  \n",
       "1   POINT (773490.067 919489.258)  "
      ]
     },
     "execution_count": 7,
     "metadata": {},
     "output_type": "execute_result"
    }
   ],
   "source": [
    "primary_plots.head(2)"
   ]
  },
  {
   "cell_type": "code",
   "execution_count": 8,
   "metadata": {},
   "outputs": [],
   "source": [
    "primary_plots = primary_plots[[\"Plot_ID\", \"Strata_No\"]].copy()"
   ]
  },
  {
   "cell_type": "code",
   "execution_count": 9,
   "metadata": {},
   "outputs": [],
   "source": [
    "backup_plots = gpd.read_file(\n",
    "    DATA_DIR / \"shp\" / \"subplot_map\" / \"ALL-recoded_plots_backup.shp\"\n",
    ")"
   ]
  },
  {
   "cell_type": "code",
   "execution_count": 10,
   "metadata": {},
   "outputs": [
    {
     "data": {
      "text/html": [
       "<div>\n",
       "<style scoped>\n",
       "    .dataframe tbody tr th:only-of-type {\n",
       "        vertical-align: middle;\n",
       "    }\n",
       "\n",
       "    .dataframe tbody tr th {\n",
       "        vertical-align: top;\n",
       "    }\n",
       "\n",
       "    .dataframe thead th {\n",
       "        text-align: right;\n",
       "    }\n",
       "</style>\n",
       "<table border=\"1\" class=\"dataframe\">\n",
       "  <thead>\n",
       "    <tr style=\"text-align: right;\">\n",
       "      <th></th>\n",
       "      <th>ID</th>\n",
       "      <th>Plot_type</th>\n",
       "      <th>Plot_No</th>\n",
       "      <th>Strata_No</th>\n",
       "      <th>LCC</th>\n",
       "      <th>Pro_Name</th>\n",
       "      <th>Mun_Name</th>\n",
       "      <th>Bgy_Name</th>\n",
       "      <th>Plot_uniqu</th>\n",
       "      <th>Plot_ID</th>\n",
       "      <th>geometry</th>\n",
       "    </tr>\n",
       "  </thead>\n",
       "  <tbody>\n",
       "    <tr>\n",
       "      <th>0</th>\n",
       "      <td>99687</td>\n",
       "      <td>Subplot</td>\n",
       "      <td>1</td>\n",
       "      <td>Strata_1</td>\n",
       "      <td>Dipterocarp Forest Closed</td>\n",
       "      <td>SURIGAO DEL SUR</td>\n",
       "      <td>LANUZA</td>\n",
       "      <td>Pakwan</td>\n",
       "      <td>001B2_SDS_8314_23_1</td>\n",
       "      <td>001B2</td>\n",
       "      <td>POINT (825122.697 1012156.979)</td>\n",
       "    </tr>\n",
       "    <tr>\n",
       "      <th>1</th>\n",
       "      <td>99688</td>\n",
       "      <td>Subplot</td>\n",
       "      <td>1</td>\n",
       "      <td>Strata_1</td>\n",
       "      <td>Dipterocarp Forest Closed</td>\n",
       "      <td>SURIGAO DEL SUR</td>\n",
       "      <td>LANUZA</td>\n",
       "      <td>Pakwan</td>\n",
       "      <td>001C2_SDS_8314_23_1</td>\n",
       "      <td>001C2</td>\n",
       "      <td>POINT (825302.023 1012006.011)</td>\n",
       "    </tr>\n",
       "  </tbody>\n",
       "</table>\n",
       "</div>"
      ],
      "text/plain": [
       "      ID Plot_type  Plot_No Strata_No                        LCC  \\\n",
       "0  99687   Subplot        1  Strata_1  Dipterocarp Forest Closed   \n",
       "1  99688   Subplot        1  Strata_1  Dipterocarp Forest Closed   \n",
       "\n",
       "          Pro_Name Mun_Name Bgy_Name           Plot_uniqu Plot_ID  \\\n",
       "0  SURIGAO DEL SUR   LANUZA   Pakwan  001B2_SDS_8314_23_1   001B2   \n",
       "1  SURIGAO DEL SUR   LANUZA   Pakwan  001C2_SDS_8314_23_1   001C2   \n",
       "\n",
       "                         geometry  \n",
       "0  POINT (825122.697 1012156.979)  \n",
       "1  POINT (825302.023 1012006.011)  "
      ]
     },
     "execution_count": 10,
     "metadata": {},
     "output_type": "execute_result"
    }
   ],
   "source": [
    "backup_plots.head(2)"
   ]
  },
  {
   "cell_type": "code",
   "execution_count": 11,
   "metadata": {},
   "outputs": [],
   "source": [
    "backup_plots = backup_plots[[\"Plot_ID\", \"Strata_No\"]].copy()"
   ]
  },
  {
   "cell_type": "code",
   "execution_count": 12,
   "metadata": {},
   "outputs": [],
   "source": [
    "plots = pd.concat([primary_plots, backup_plots], ignore_index=True)"
   ]
  },
  {
   "cell_type": "code",
   "execution_count": 13,
   "metadata": {},
   "outputs": [],
   "source": [
    "plots[\"Plot_ID\"] = plots[\"Plot_ID\"].str.lstrip(\"0\")"
   ]
  },
  {
   "cell_type": "code",
   "execution_count": 14,
   "metadata": {},
   "outputs": [],
   "source": [
    "plots[\"Strata_No\"] = plots[\"Strata_No\"].str.extract(r\"(\\d+)\")"
   ]
  },
  {
   "cell_type": "code",
   "execution_count": 15,
   "metadata": {},
   "outputs": [
    {
     "data": {
      "text/html": [
       "<div>\n",
       "<style scoped>\n",
       "    .dataframe tbody tr th:only-of-type {\n",
       "        vertical-align: middle;\n",
       "    }\n",
       "\n",
       "    .dataframe tbody tr th {\n",
       "        vertical-align: top;\n",
       "    }\n",
       "\n",
       "    .dataframe thead th {\n",
       "        text-align: right;\n",
       "    }\n",
       "</style>\n",
       "<table border=\"1\" class=\"dataframe\">\n",
       "  <thead>\n",
       "    <tr style=\"text-align: right;\">\n",
       "      <th></th>\n",
       "      <th>Plot_ID</th>\n",
       "      <th>Strata_No</th>\n",
       "    </tr>\n",
       "  </thead>\n",
       "  <tbody>\n",
       "    <tr>\n",
       "      <th>0</th>\n",
       "      <td>1A1</td>\n",
       "      <td>1</td>\n",
       "    </tr>\n",
       "    <tr>\n",
       "      <th>1</th>\n",
       "      <td>2A1</td>\n",
       "      <td>1</td>\n",
       "    </tr>\n",
       "    <tr>\n",
       "      <th>2</th>\n",
       "      <td>3A1</td>\n",
       "      <td>1</td>\n",
       "    </tr>\n",
       "    <tr>\n",
       "      <th>3</th>\n",
       "      <td>4A1</td>\n",
       "      <td>1</td>\n",
       "    </tr>\n",
       "    <tr>\n",
       "      <th>4</th>\n",
       "      <td>5A1</td>\n",
       "      <td>1</td>\n",
       "    </tr>\n",
       "    <tr>\n",
       "      <th>...</th>\n",
       "      <td>...</td>\n",
       "      <td>...</td>\n",
       "    </tr>\n",
       "    <tr>\n",
       "      <th>3515</th>\n",
       "      <td>402A1</td>\n",
       "      <td>6</td>\n",
       "    </tr>\n",
       "    <tr>\n",
       "      <th>3516</th>\n",
       "      <td>403A1</td>\n",
       "      <td>6</td>\n",
       "    </tr>\n",
       "    <tr>\n",
       "      <th>3517</th>\n",
       "      <td>404A2</td>\n",
       "      <td>6</td>\n",
       "    </tr>\n",
       "    <tr>\n",
       "      <th>3518</th>\n",
       "      <td>405A2</td>\n",
       "      <td>6</td>\n",
       "    </tr>\n",
       "    <tr>\n",
       "      <th>3519</th>\n",
       "      <td>406A2</td>\n",
       "      <td>6</td>\n",
       "    </tr>\n",
       "  </tbody>\n",
       "</table>\n",
       "<p>3520 rows × 2 columns</p>\n",
       "</div>"
      ],
      "text/plain": [
       "     Plot_ID Strata_No\n",
       "0        1A1         1\n",
       "1        2A1         1\n",
       "2        3A1         1\n",
       "3        4A1         1\n",
       "4        5A1         1\n",
       "...      ...       ...\n",
       "3515   402A1         6\n",
       "3516   403A1         6\n",
       "3517   404A2         6\n",
       "3518   405A2         6\n",
       "3519   406A2         6\n",
       "\n",
       "[3520 rows x 2 columns]"
      ]
     },
     "execution_count": 15,
     "metadata": {},
     "output_type": "execute_result"
    }
   ],
   "source": [
    "plots"
   ]
  },
  {
   "cell_type": "code",
   "execution_count": 16,
   "metadata": {},
   "outputs": [],
   "source": [
    "plots.rename(columns={\"Strata_No\": \"Strata\", \"Plot_ID\": \"unique_id\"}, inplace=True)"
   ]
  },
  {
   "cell_type": "code",
   "execution_count": 17,
   "metadata": {},
   "outputs": [],
   "source": [
    "plots.to_csv(SRC_DIR / \"lookup\" / \"pc_plot_lookup_20240722.csv\", index=False)"
   ]
  }
 ],
 "metadata": {
  "kernelspec": {
   "display_name": "onebase",
   "language": "python",
   "name": "python3"
  },
  "language_info": {
   "codemirror_mode": {
    "name": "ipython",
    "version": 3
   },
   "file_extension": ".py",
   "mimetype": "text/x-python",
   "name": "python",
   "nbconvert_exporter": "python",
   "pygments_lexer": "ipython3",
   "version": "3.12.4"
  }
 },
 "nbformat": 4,
 "nbformat_minor": 2
}
