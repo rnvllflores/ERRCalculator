{
 "cells": [
  {
   "cell_type": "code",
   "execution_count": 1,
   "metadata": {},
   "outputs": [],
   "source": [
    "# Standard Imports\n",
    "import sys\n",
    "import geopandas as gpd\n",
    "from geowrangler.validation import GeometryValidation\n",
    "\n",
    "# Google Cloud Imports"
   ]
  },
  {
   "cell_type": "code",
   "execution_count": 2,
   "metadata": {},
   "outputs": [],
   "source": [
    "# Util imports\n",
    "sys.path.append(\"../../\")  # include parent directory\n",
    "from src.settings import GEOJSON_DATA_DIR, PARQUET_DATA_DIR, GPKG_DATA_DIR\n",
    "from src.duckdb_utils import create_default_connection"
   ]
  },
  {
   "cell_type": "code",
   "execution_count": 3,
   "metadata": {},
   "outputs": [],
   "source": [
    "# Variables\n",
    "SILUP_DIR = GEOJSON_DATA_DIR / \"SILUP\"\n",
    "STRATA_DIR = PARQUET_DATA_DIR / \"pre-strata\"\n",
    "\n",
    "# GCS Variables\n",
    "STRATA_GCS_DIR = \"gs://00_extract_vectors/\"\n",
    "SILUP_GCS_DIR = \"gs://silup-gis/onebase/\"\n",
    "\n",
    "# BigQuery Variables\n",
    "SRC_DATASET_ID = \"biomass_inventory\"\n",
    "DATASET_ID = \"carbon_stock\"\n",
    "IF_EXISTS = \"replace\""
   ]
  },
  {
   "cell_type": "markdown",
   "metadata": {},
   "source": [
    "# Load Data"
   ]
  },
  {
   "cell_type": "markdown",
   "metadata": {},
   "source": [
    "## Strata"
   ]
  },
  {
   "cell_type": "code",
   "execution_count": null,
   "metadata": {},
   "outputs": [],
   "source": [
    "# file_list = list(pathlib.Path(STRATA_DIR).glob('*'))"
   ]
  },
  {
   "cell_type": "code",
   "execution_count": null,
   "metadata": {},
   "outputs": [],
   "source": [
    "# dfs = [pd.read_parquet(file) for file in file_list]\n",
    "# strata_df = pd.concat(dfs)"
   ]
  },
  {
   "cell_type": "code",
   "execution_count": null,
   "metadata": {},
   "outputs": [],
   "source": [
    "# strata_df.columns"
   ]
  },
  {
   "cell_type": "code",
   "execution_count": null,
   "metadata": {},
   "outputs": [],
   "source": [
    "# strata_dipterocarp = strata_df[strata_df['strata'].isin(['pre_strata_1','pre_strata_2','pre_strata_3'])]"
   ]
  },
  {
   "cell_type": "code",
   "execution_count": null,
   "metadata": {},
   "outputs": [],
   "source": [
    "# strata_gdf = gpd.GeoDataFrame(strata_dipterocarp, geometry=gpd.GeoSeries.from_wkt(strata_dipterocarp['geometry']), crs=\"EPSG:4326\")"
   ]
  },
  {
   "cell_type": "code",
   "execution_count": 4,
   "metadata": {},
   "outputs": [],
   "source": [
    "strata_gdf = gpd.read_file(\n",
    "    GPKG_DATA_DIR / \"pre_strata_dipterocarp_20240802.gpkg\", driver=\"GPKG\"\n",
    ")"
   ]
  },
  {
   "cell_type": "code",
   "execution_count": 5,
   "metadata": {},
   "outputs": [],
   "source": [
    "province = gpd.read_file(\n",
    "    \"/Users/renflores/Documents/OneBase/data/shp/admin1/geoBoundaries-PHL-ADM1.shp\",\n",
    "    driver=\"ESRI Shapefile\",\n",
    ")"
   ]
  },
  {
   "cell_type": "code",
   "execution_count": 6,
   "metadata": {},
   "outputs": [],
   "source": [
    "caraga = province.loc[province[\"shapeISO\"] == \"PH-13\"]"
   ]
  },
  {
   "cell_type": "code",
   "execution_count": 25,
   "metadata": {},
   "outputs": [],
   "source": [
    "caraga_df = caraga.copy()"
   ]
  },
  {
   "cell_type": "code",
   "execution_count": 26,
   "metadata": {},
   "outputs": [
    {
     "name": "stderr",
     "output_type": "stream",
     "text": [
      "/var/folders/j7/qhtl5rxn31ng6n_d889xc4n40000gn/T/ipykernel_1890/2511299748.py:1: UserWarning: Geometry column does not contain geometry.\n",
      "  caraga_df['geometry'] = caraga_df['geometry'].to_wkt()\n"
     ]
    }
   ],
   "source": [
    "caraga_df[\"geometry\"] = caraga_df[\"geometry\"].to_wkt()"
   ]
  },
  {
   "cell_type": "code",
   "execution_count": null,
   "metadata": {},
   "outputs": [],
   "source": [
    "# strata_gdf = strata_gdf.sjoin(caraga, how='inner', predicate='intersects')"
   ]
  },
  {
   "cell_type": "code",
   "execution_count": null,
   "metadata": {},
   "outputs": [],
   "source": [
    "# strata_gdf = strata_gdf.explode(index_parts=False)"
   ]
  },
  {
   "cell_type": "code",
   "execution_count": null,
   "metadata": {},
   "outputs": [],
   "source": [
    "# strata_gdf.reset_index(drop=True, inplace=True)"
   ]
  },
  {
   "cell_type": "code",
   "execution_count": null,
   "metadata": {},
   "outputs": [],
   "source": [
    "# strata_gdf = strata_gdf[['lcc', 'strata', 'geometry']].copy()"
   ]
  },
  {
   "cell_type": "code",
   "execution_count": null,
   "metadata": {},
   "outputs": [],
   "source": [
    "# strata_gdf.to_crs(\"EPSG:3123\", inplace=True)"
   ]
  },
  {
   "cell_type": "code",
   "execution_count": null,
   "metadata": {},
   "outputs": [],
   "source": [
    "# strata_gdf['geometry'] = strata_gdf.simplify(0.01)"
   ]
  },
  {
   "cell_type": "code",
   "execution_count": null,
   "metadata": {},
   "outputs": [],
   "source": [
    "# strata_gdf.to_crs(\"EPSG:4326\", inplace=True)"
   ]
  },
  {
   "cell_type": "code",
   "execution_count": null,
   "metadata": {},
   "outputs": [],
   "source": [
    "# strata_gdf =  GeometryValidation(strata_gdf).validate_all()"
   ]
  },
  {
   "cell_type": "code",
   "execution_count": null,
   "metadata": {
    "vscode": {
     "languageId": "powershell"
    }
   },
   "outputs": [],
   "source": [
    "# subset_strata_gdf = strata_gdf[~strata_gdf.all(axis=1)]\n",
    "# subset_strata_gdf.to_file(TMP_OUT_DIR / \"subset_strata.gpkg\", driver=\"GPKG\")"
   ]
  },
  {
   "cell_type": "code",
   "execution_count": null,
   "metadata": {},
   "outputs": [],
   "source": [
    "# false_counts = subset_strata_gdf.apply(lambda x: (x == False).sum())"
   ]
  },
  {
   "cell_type": "code",
   "execution_count": null,
   "metadata": {},
   "outputs": [],
   "source": [
    "# false_counts"
   ]
  },
  {
   "cell_type": "code",
   "execution_count": null,
   "metadata": {},
   "outputs": [],
   "source": [
    "# strata_gdf['geometry'] = strata_gdf.buffer(0)"
   ]
  },
  {
   "cell_type": "code",
   "execution_count": null,
   "metadata": {},
   "outputs": [],
   "source": [
    "# strata_gdf.to_file(GPKG_DATA_DIR / \"pre_strata_dipterocarp_20240802.gpkg\", driver=\"GPKG\")"
   ]
  },
  {
   "cell_type": "code",
   "execution_count": 7,
   "metadata": {},
   "outputs": [],
   "source": [
    "strata_df = strata_gdf.copy()"
   ]
  },
  {
   "cell_type": "code",
   "execution_count": 8,
   "metadata": {},
   "outputs": [
    {
     "name": "stderr",
     "output_type": "stream",
     "text": [
      "/var/folders/j7/qhtl5rxn31ng6n_d889xc4n40000gn/T/ipykernel_1890/3433223003.py:1: UserWarning: Geometry column does not contain geometry.\n",
      "  strata_df['geometry'] = strata_df['geometry'].to_wkt()\n"
     ]
    }
   ],
   "source": [
    "strata_df[\"geometry\"] = strata_df[\"geometry\"].to_wkt()"
   ]
  },
  {
   "cell_type": "code",
   "execution_count": 10,
   "metadata": {},
   "outputs": [
    {
     "name": "stdout",
     "output_type": "stream",
     "text": [
      "<class 'geopandas.geodataframe.GeoDataFrame'>\n",
      "RangeIndex: 1583395 entries, 0 to 1583394\n",
      "Data columns (total 8 columns):\n",
      " #   Column                    Non-Null Count    Dtype   \n",
      "---  ------                    --------------    -----   \n",
      " 0   lcc                       1583395 non-null  object  \n",
      " 1   strata                    1583395 non-null  object  \n",
      " 2   is_not_null               1583395 non-null  bool    \n",
      " 3   is_not_self_intersecting  1583395 non-null  bool    \n",
      " 4   is_oriented_properly      1583395 non-null  bool    \n",
      " 5   is_within_crs_bounds      1583395 non-null  bool    \n",
      " 6   area_is_not_zero          1583395 non-null  bool    \n",
      " 7   geometry                  1583395 non-null  geometry\n",
      "dtypes: bool(5), geometry(1), object(2)\n",
      "memory usage: 43.8+ MB\n"
     ]
    }
   ],
   "source": [
    "strata_gdf.info()"
   ]
  },
  {
   "cell_type": "code",
   "execution_count": 12,
   "metadata": {},
   "outputs": [
    {
     "data": {
      "text/plain": [
       "(1583395, 8)"
      ]
     },
     "execution_count": 12,
     "metadata": {},
     "output_type": "execute_result"
    }
   ],
   "source": [
    "strata_gdf.shape"
   ]
  },
  {
   "cell_type": "code",
   "execution_count": 13,
   "metadata": {},
   "outputs": [],
   "source": [
    "strata_gdf = strata_gdf[strata_gdf.geometry.is_valid].copy()"
   ]
  },
  {
   "cell_type": "code",
   "execution_count": 14,
   "metadata": {},
   "outputs": [
    {
     "data": {
      "text/plain": [
       "(1583395, 8)"
      ]
     },
     "execution_count": 14,
     "metadata": {},
     "output_type": "execute_result"
    }
   ],
   "source": [
    "strata_gdf.shape"
   ]
  },
  {
   "cell_type": "code",
   "execution_count": null,
   "metadata": {},
   "outputs": [],
   "source": [
    "strata_gdf.strata.value_counts()"
   ]
  },
  {
   "cell_type": "code",
   "execution_count": null,
   "metadata": {},
   "outputs": [],
   "source": [
    "# strata_df.to_gbq(f\"strata.pre_strata_dipterocarp\",\n",
    "#         project_id=GCP_PROJ_ID,\n",
    "#         if_exists=\"replace\")"
   ]
  },
  {
   "cell_type": "code",
   "execution_count": null,
   "metadata": {},
   "outputs": [],
   "source": [
    "# query = f\"\"\"\n",
    "#     SELECT\n",
    "#         *EXCEPT(geometry),\n",
    "#         ST_GEOGFROMTEXT(geometry,\n",
    "#             oriented => FALSE,\n",
    "#             make_valid => TRUE)\n",
    "#     FROM {GCP_PROJ_ID}.strata.pre_strata_dipterocarp\"\"\"\n",
    "\n",
    "# # Read the BigQuery table into a dataframe\n",
    "# strata_df = pandas_gbq.read_gbq(query, project_id=GCP_PROJ_ID)\n",
    "# plot_info.to_csv(PLOT_INFO_CSV, index=False)"
   ]
  },
  {
   "cell_type": "markdown",
   "metadata": {},
   "source": [
    "## Activity Areas -- file manually generated by kahlil"
   ]
  },
  {
   "cell_type": "code",
   "execution_count": null,
   "metadata": {},
   "outputs": [],
   "source": [
    "# activity_area_gdf = gpd.read_file(GPKG_DATA_DIR / \"silup_optimized.gpkg\")"
   ]
  },
  {
   "cell_type": "code",
   "execution_count": null,
   "metadata": {},
   "outputs": [],
   "source": [
    "# activity_area_gdf.head(2)"
   ]
  },
  {
   "cell_type": "code",
   "execution_count": null,
   "metadata": {},
   "outputs": [],
   "source": [
    "# activity_area_gdf = activity_area_gdf[['CADT',\"ELI_TYPE\",\"geometry\"]].copy()"
   ]
  },
  {
   "cell_type": "code",
   "execution_count": null,
   "metadata": {},
   "outputs": [],
   "source": [
    "# activity_area_gdf['UID'] = activity_area_gdf.reset_index().apply(lambda row: f\"{row['CADT']}_{row['ELI_TYPE']}_{row['index']}\", axis=1)"
   ]
  },
  {
   "cell_type": "code",
   "execution_count": null,
   "metadata": {},
   "outputs": [],
   "source": [
    "# activity_area_gdf_val = GeometryValidation(activity_area_gdf).validate_all()"
   ]
  },
  {
   "cell_type": "code",
   "execution_count": null,
   "metadata": {},
   "outputs": [],
   "source": [
    "# activity_area_gdf = activity_area_gdf_val.dissolve(by=['CADT',\"ELI_TYPE\"]).reset_index()"
   ]
  },
  {
   "cell_type": "code",
   "execution_count": 15,
   "metadata": {},
   "outputs": [],
   "source": [
    "activity_area_gdf = gpd.read_file(\n",
    "    GPKG_DATA_DIR / \"silup_optimized_validated.gpkg\", driver=\"GPKG\"\n",
    ")"
   ]
  },
  {
   "cell_type": "code",
   "execution_count": 44,
   "metadata": {},
   "outputs": [],
   "source": [
    "activity_area_gdf = activity_area_gdf.explode(index_parts=False)"
   ]
  },
  {
   "cell_type": "code",
   "execution_count": 55,
   "metadata": {},
   "outputs": [],
   "source": [
    "activity_area_gdf = GeometryValidation(activity_area_gdf).validate_all()"
   ]
  },
  {
   "cell_type": "code",
   "execution_count": 58,
   "metadata": {},
   "outputs": [
    {
     "data": {
      "text/html": [
       "<div>\n",
       "<style scoped>\n",
       "    .dataframe tbody tr th:only-of-type {\n",
       "        vertical-align: middle;\n",
       "    }\n",
       "\n",
       "    .dataframe tbody tr th {\n",
       "        vertical-align: top;\n",
       "    }\n",
       "\n",
       "    .dataframe thead th {\n",
       "        text-align: right;\n",
       "    }\n",
       "</style>\n",
       "<table border=\"1\" class=\"dataframe\">\n",
       "  <thead>\n",
       "    <tr style=\"text-align: right;\">\n",
       "      <th></th>\n",
       "      <th>CADT</th>\n",
       "      <th>ELI_TYPE</th>\n",
       "      <th>is_not_null</th>\n",
       "      <th>is_not_self_intersecting</th>\n",
       "      <th>is_oriented_properly</th>\n",
       "      <th>is_within_crs_bounds</th>\n",
       "      <th>area_is_not_zero</th>\n",
       "      <th>geometry</th>\n",
       "    </tr>\n",
       "  </thead>\n",
       "  <tbody>\n",
       "  </tbody>\n",
       "</table>\n",
       "</div>"
      ],
      "text/plain": [
       "Empty GeoDataFrame\n",
       "Columns: [CADT, ELI_TYPE, is_not_null, is_not_self_intersecting, is_oriented_properly, is_within_crs_bounds, area_is_not_zero, geometry]\n",
       "Index: []"
      ]
     },
     "execution_count": 58,
     "metadata": {},
     "output_type": "execute_result"
    }
   ],
   "source": [
    "activity_area_gdf[activity_area_gdf.geometry.is_valid]"
   ]
  },
  {
   "cell_type": "code",
   "execution_count": 65,
   "metadata": {},
   "outputs": [],
   "source": [
    "activity_area_gdf[\"geometry\"] = activity_area_gdf.buffer(0)"
   ]
  },
  {
   "cell_type": "code",
   "execution_count": 81,
   "metadata": {},
   "outputs": [],
   "source": [
    "from shapely.geometry import Polygon"
   ]
  },
  {
   "cell_type": "code",
   "execution_count": 82,
   "metadata": {},
   "outputs": [],
   "source": [
    "def polygon_z_to_2d(geom):\n",
    "    if geom.has_z:\n",
    "        return Polygon([(x, y) for x, y, z in geom.exterior.coords])\n",
    "    return geom"
   ]
  },
  {
   "cell_type": "code",
   "execution_count": 83,
   "metadata": {},
   "outputs": [],
   "source": [
    "# Apply the conversion to the GeoDataFrame\n",
    "activity_area_gdf[\"geometry\"] = activity_area_gdf[\"geometry\"].apply(polygon_z_to_2d)"
   ]
  },
  {
   "cell_type": "code",
   "execution_count": 84,
   "metadata": {},
   "outputs": [],
   "source": [
    "activity_area_df = activity_area_gdf.copy()"
   ]
  },
  {
   "cell_type": "code",
   "execution_count": 85,
   "metadata": {},
   "outputs": [
    {
     "name": "stderr",
     "output_type": "stream",
     "text": [
      "/var/folders/j7/qhtl5rxn31ng6n_d889xc4n40000gn/T/ipykernel_1890/3802205760.py:1: UserWarning: Geometry column does not contain geometry.\n",
      "  activity_area_df['geometry'] = activity_area_gdf['geometry'].to_wkt()\n"
     ]
    }
   ],
   "source": [
    "activity_area_df[\"geometry\"] = activity_area_gdf[\"geometry\"].to_wkt()"
   ]
  },
  {
   "cell_type": "code",
   "execution_count": null,
   "metadata": {},
   "outputs": [],
   "source": [
    "# activity_area_gdf.to_file(GPKG_DATA_DIR / \"silup_optimized_validated.gpkg\", driver=\"GPKG\")"
   ]
  },
  {
   "cell_type": "markdown",
   "metadata": {},
   "source": [
    "## Initialize duckdb and load data"
   ]
  },
  {
   "cell_type": "code",
   "execution_count": 18,
   "metadata": {},
   "outputs": [],
   "source": [
    "db = create_default_connection()"
   ]
  },
  {
   "cell_type": "code",
   "execution_count": 19,
   "metadata": {},
   "outputs": [],
   "source": [
    "query = \"\"\" \n",
    "CREATE OR REPLACE TABLE strata_dipterocarp AS \n",
    "SELECT \n",
    "    strata, \n",
    "    lcc, \n",
    "    ST_GeomFromText(geometry) as geometry \n",
    "FROM \n",
    "    strata_df\n",
    "\"\"\""
   ]
  },
  {
   "cell_type": "code",
   "execution_count": 20,
   "metadata": {},
   "outputs": [
    {
     "data": {
      "text/plain": [
       "<duckdb.duckdb.DuckDBPyConnection at 0x13f7cebb0>"
      ]
     },
     "execution_count": 20,
     "metadata": {},
     "output_type": "execute_result"
    }
   ],
   "source": [
    "db.execute(query)"
   ]
  },
  {
   "cell_type": "code",
   "execution_count": 86,
   "metadata": {},
   "outputs": [],
   "source": [
    "query = \"\"\"\n",
    "CREATE OR REPLACE TABLE activity_area AS \n",
    "SELECT \n",
    "    CADT, \n",
    "    ELI_TYPE, \n",
    "    ST_GeomFromText(geometry) as geometry FROM activity_area_df\n",
    "\"\"\""
   ]
  },
  {
   "cell_type": "code",
   "execution_count": 87,
   "metadata": {},
   "outputs": [
    {
     "data": {
      "text/plain": [
       "<duckdb.duckdb.DuckDBPyConnection at 0x13f7cebb0>"
      ]
     },
     "execution_count": 87,
     "metadata": {},
     "output_type": "execute_result"
    }
   ],
   "source": [
    "db.execute(query)"
   ]
  },
  {
   "cell_type": "code",
   "execution_count": 33,
   "metadata": {},
   "outputs": [],
   "source": [
    "query = \"\"\"\n",
    "CREATE OR REPLACE TABLE caraga AS \n",
    "SELECT \n",
    "    *EXCLUDE(geometry),\n",
    "    ST_GeomFromText(geometry) as geometry\n",
    "FROM caraga_df\n",
    "\"\"\""
   ]
  },
  {
   "cell_type": "code",
   "execution_count": 34,
   "metadata": {},
   "outputs": [
    {
     "data": {
      "text/plain": [
       "<duckdb.duckdb.DuckDBPyConnection at 0x13f7cebb0>"
      ]
     },
     "execution_count": 34,
     "metadata": {},
     "output_type": "execute_result"
    }
   ],
   "source": [
    "db.execute(query)"
   ]
  },
  {
   "cell_type": "code",
   "execution_count": 37,
   "metadata": {},
   "outputs": [],
   "source": [
    "query = \"SELECT name FROM sqlite_master WHERE type='table';\"\n",
    "result = db.execute(query).df()"
   ]
  },
  {
   "cell_type": "code",
   "execution_count": 38,
   "metadata": {},
   "outputs": [
    {
     "data": {
      "text/html": [
       "<div>\n",
       "<style scoped>\n",
       "    .dataframe tbody tr th:only-of-type {\n",
       "        vertical-align: middle;\n",
       "    }\n",
       "\n",
       "    .dataframe tbody tr th {\n",
       "        vertical-align: top;\n",
       "    }\n",
       "\n",
       "    .dataframe thead th {\n",
       "        text-align: right;\n",
       "    }\n",
       "</style>\n",
       "<table border=\"1\" class=\"dataframe\">\n",
       "  <thead>\n",
       "    <tr style=\"text-align: right;\">\n",
       "      <th></th>\n",
       "      <th>name</th>\n",
       "    </tr>\n",
       "  </thead>\n",
       "  <tbody>\n",
       "    <tr>\n",
       "      <th>0</th>\n",
       "      <td>activity_area</td>\n",
       "    </tr>\n",
       "    <tr>\n",
       "      <th>1</th>\n",
       "      <td>caraga</td>\n",
       "    </tr>\n",
       "    <tr>\n",
       "      <th>2</th>\n",
       "      <td>caraga_strata</td>\n",
       "    </tr>\n",
       "    <tr>\n",
       "      <th>3</th>\n",
       "      <td>strata_dipterocarp</td>\n",
       "    </tr>\n",
       "  </tbody>\n",
       "</table>\n",
       "</div>"
      ],
      "text/plain": [
       "                 name\n",
       "0       activity_area\n",
       "1              caraga\n",
       "2       caraga_strata\n",
       "3  strata_dipterocarp"
      ]
     },
     "execution_count": 38,
     "metadata": {},
     "output_type": "execute_result"
    }
   ],
   "source": [
    "result"
   ]
  },
  {
   "cell_type": "markdown",
   "metadata": {},
   "source": [
    "# Join activity data and strata"
   ]
  },
  {
   "cell_type": "code",
   "execution_count": null,
   "metadata": {},
   "outputs": [],
   "source": [
    "caraga_strata = \"NULL\""
   ]
  },
  {
   "cell_type": "code",
   "execution_count": 35,
   "metadata": {},
   "outputs": [],
   "source": [
    "query = \"\"\" CREATE OR REPLACE TABLE caraga_strata AS \n",
    "SELECT\n",
    "    strata_dipterocarp.*\n",
    "FROM strata_dipterocarp, \n",
    "    caraga \n",
    "WHERE ST_Intersects(strata_dipterocarp.geometry, caraga.geometry)\"\"\""
   ]
  },
  {
   "cell_type": "code",
   "execution_count": 36,
   "metadata": {},
   "outputs": [
    {
     "data": {
      "application/vnd.jupyter.widget-view+json": {
       "model_id": "20ec55933d214688b358c42a7f853d42",
       "version_major": 2,
       "version_minor": 0
      },
      "text/plain": [
       "FloatProgress(value=0.0, layout=Layout(width='auto'), style=ProgressStyle(bar_color='black'))"
      ]
     },
     "metadata": {},
     "output_type": "display_data"
    },
    {
     "data": {
      "text/plain": [
       "<duckdb.duckdb.DuckDBPyConnection at 0x13f7cebb0>"
      ]
     },
     "execution_count": 36,
     "metadata": {},
     "output_type": "execute_result"
    }
   ],
   "source": [
    "db.execute(query)"
   ]
  },
  {
   "cell_type": "code",
   "execution_count": 99,
   "metadata": {},
   "outputs": [
    {
     "data": {
      "application/vnd.jupyter.widget-view+json": {
       "model_id": "8c3b1b75c66e4db39134b0951cf037d0",
       "version_major": 2,
       "version_minor": 0
      },
      "text/plain": [
       "FloatProgress(value=0.0, layout=Layout(width='auto'), style=ProgressStyle(bar_color='black'))"
      ]
     },
     "metadata": {},
     "output_type": "display_data"
    },
    {
     "data": {
      "text/plain": [
       "<duckdb.duckdb.DuckDBPyConnection at 0x13f7cebb0>"
      ]
     },
     "execution_count": 99,
     "metadata": {},
     "output_type": "execute_result"
    }
   ],
   "source": [
    "db.execute(\"EXPORT DATABASE 'strata.duckdb'\")"
   ]
  },
  {
   "cell_type": "code",
   "execution_count": 100,
   "metadata": {},
   "outputs": [],
   "source": [
    "query = \"\"\"\n",
    "SELECT \n",
    "    activity_area.CADT,\n",
    "    activity_area.ELI_TYPE,\n",
    "    caraga_strata.strata,\n",
    "    ST_AsText(ST_Intersection(activity_area.geometry, caraga_strata.geometry)) as geometry\n",
    "FROM activity_area\n",
    "JOIN caraga_strata ON ST_Intersects(caraga_strata.geometry, activity_area.geometry)\n",
    "WHERE activity_area.ELI_TYPE = 'APD'\n",
    "\"\"\""
   ]
  },
  {
   "cell_type": "code",
   "execution_count": 101,
   "metadata": {},
   "outputs": [
    {
     "data": {
      "application/vnd.jupyter.widget-view+json": {
       "model_id": "fb57de7c804d41739dc49a83be72bbfd",
       "version_major": 2,
       "version_minor": 0
      },
      "text/plain": [
       "FloatProgress(value=0.0, layout=Layout(width='auto'), style=ProgressStyle(bar_color='black'))"
      ]
     },
     "metadata": {},
     "output_type": "display_data"
    }
   ],
   "source": [
    "intersection = db.execute(query).df()"
   ]
  },
  {
   "cell_type": "code",
   "execution_count": 103,
   "metadata": {},
   "outputs": [],
   "source": [
    "intersection_gdf = gpd.GeoDataFrame(\n",
    "    intersection,\n",
    "    geometry=gpd.GeoSeries.from_wkt(intersection[\"geometry\"]),\n",
    "    crs=\"EPSG:4326\",\n",
    ")"
   ]
  },
  {
   "cell_type": "code",
   "execution_count": 105,
   "metadata": {},
   "outputs": [
    {
     "data": {
      "text/html": [
       "<div>\n",
       "<style scoped>\n",
       "    .dataframe tbody tr th:only-of-type {\n",
       "        vertical-align: middle;\n",
       "    }\n",
       "\n",
       "    .dataframe tbody tr th {\n",
       "        vertical-align: top;\n",
       "    }\n",
       "\n",
       "    .dataframe thead th {\n",
       "        text-align: right;\n",
       "    }\n",
       "</style>\n",
       "<table border=\"1\" class=\"dataframe\">\n",
       "  <thead>\n",
       "    <tr style=\"text-align: right;\">\n",
       "      <th></th>\n",
       "      <th>CADT</th>\n",
       "      <th>ELI_TYPE</th>\n",
       "      <th>geometry</th>\n",
       "    </tr>\n",
       "  </thead>\n",
       "  <tbody>\n",
       "    <tr>\n",
       "      <th>0</th>\n",
       "      <td>118</td>\n",
       "      <td>APD</td>\n",
       "      <td>POLYGON ((125.31286 8.70189, 125.31292 8.70189...</td>\n",
       "    </tr>\n",
       "    <tr>\n",
       "      <th>1</th>\n",
       "      <td>118</td>\n",
       "      <td>APD</td>\n",
       "      <td>POLYGON ((125.30142 8.70004, 125.30142 8.70000...</td>\n",
       "    </tr>\n",
       "    <tr>\n",
       "      <th>2</th>\n",
       "      <td>118</td>\n",
       "      <td>APD</td>\n",
       "      <td>POLYGON ((125.31588 8.70009, 125.31606 8.70009...</td>\n",
       "    </tr>\n",
       "    <tr>\n",
       "      <th>3</th>\n",
       "      <td>118</td>\n",
       "      <td>APD</td>\n",
       "      <td>POLYGON ((125.30197 8.69937, 125.30196 8.69937...</td>\n",
       "    </tr>\n",
       "    <tr>\n",
       "      <th>4</th>\n",
       "      <td>118</td>\n",
       "      <td>APD</td>\n",
       "      <td>POLYGON ((125.30142 8.69928, 125.30151 8.69928...</td>\n",
       "    </tr>\n",
       "    <tr>\n",
       "      <th>...</th>\n",
       "      <td>...</td>\n",
       "      <td>...</td>\n",
       "      <td>...</td>\n",
       "    </tr>\n",
       "    <tr>\n",
       "      <th>25163</th>\n",
       "      <td>238</td>\n",
       "      <td>APD</td>\n",
       "      <td>POLYGON ((125.85916 9.15129, 125.85921 9.15117...</td>\n",
       "    </tr>\n",
       "    <tr>\n",
       "      <th>25164</th>\n",
       "      <td>238</td>\n",
       "      <td>APD</td>\n",
       "      <td>POLYGON ((125.85416 9.14895, 125.85418 9.14889...</td>\n",
       "    </tr>\n",
       "    <tr>\n",
       "      <th>25165</th>\n",
       "      <td>238</td>\n",
       "      <td>APD</td>\n",
       "      <td>POLYGON ((125.84583 9.10608, 125.84625 9.10645...</td>\n",
       "    </tr>\n",
       "    <tr>\n",
       "      <th>25166</th>\n",
       "      <td>092</td>\n",
       "      <td>APD</td>\n",
       "      <td>POLYGON ((125.66977 9.10851, 125.66987 9.10850...</td>\n",
       "    </tr>\n",
       "    <tr>\n",
       "      <th>25167</th>\n",
       "      <td>256</td>\n",
       "      <td>APD</td>\n",
       "      <td>POLYGON ((125.69307 9.09079, 125.69307 9.09034...</td>\n",
       "    </tr>\n",
       "  </tbody>\n",
       "</table>\n",
       "<p>25168 rows × 3 columns</p>\n",
       "</div>"
      ],
      "text/plain": [
       "      CADT ELI_TYPE                                           geometry\n",
       "0      118      APD  POLYGON ((125.31286 8.70189, 125.31292 8.70189...\n",
       "1      118      APD  POLYGON ((125.30142 8.70004, 125.30142 8.70000...\n",
       "2      118      APD  POLYGON ((125.31588 8.70009, 125.31606 8.70009...\n",
       "3      118      APD  POLYGON ((125.30197 8.69937, 125.30196 8.69937...\n",
       "4      118      APD  POLYGON ((125.30142 8.69928, 125.30151 8.69928...\n",
       "...    ...      ...                                                ...\n",
       "25163  238      APD  POLYGON ((125.85916 9.15129, 125.85921 9.15117...\n",
       "25164  238      APD  POLYGON ((125.85416 9.14895, 125.85418 9.14889...\n",
       "25165  238      APD  POLYGON ((125.84583 9.10608, 125.84625 9.10645...\n",
       "25166  092      APD  POLYGON ((125.66977 9.10851, 125.66987 9.10850...\n",
       "25167  256      APD  POLYGON ((125.69307 9.09079, 125.69307 9.09034...\n",
       "\n",
       "[25168 rows x 3 columns]"
      ]
     },
     "execution_count": 105,
     "metadata": {},
     "output_type": "execute_result"
    }
   ],
   "source": [
    "intersection_gdf"
   ]
  },
  {
   "cell_type": "code",
   "execution_count": 104,
   "metadata": {},
   "outputs": [],
   "source": [
    "intersection_gdf.to_file(GPKG_DATA_DIR / \"caraga_intersection.gpkg\", driver=\"GPKG\")"
   ]
  },
  {
   "cell_type": "code",
   "execution_count": null,
   "metadata": {},
   "outputs": [],
   "source": [
    "caraga_strata.to_file(GPKG_DATA_DIR / \"caraga_strata.gpkg\", driver=\"GPKG\")"
   ]
  },
  {
   "cell_type": "code",
   "execution_count": 92,
   "metadata": {},
   "outputs": [],
   "source": [
    "query = \"\"\" SELECT *EXCLUDE(geometry), ST_AsText(geometry) as geometry, ST_IsValid(geometry) AS is_valid FROM activity_area \"\"\""
   ]
  },
  {
   "cell_type": "code",
   "execution_count": 93,
   "metadata": {},
   "outputs": [],
   "source": [
    "test = db.execute(query).df()"
   ]
  },
  {
   "cell_type": "code",
   "execution_count": 94,
   "metadata": {},
   "outputs": [
    {
     "data": {
      "text/html": [
       "<div>\n",
       "<style scoped>\n",
       "    .dataframe tbody tr th:only-of-type {\n",
       "        vertical-align: middle;\n",
       "    }\n",
       "\n",
       "    .dataframe tbody tr th {\n",
       "        vertical-align: top;\n",
       "    }\n",
       "\n",
       "    .dataframe thead th {\n",
       "        text-align: right;\n",
       "    }\n",
       "</style>\n",
       "<table border=\"1\" class=\"dataframe\">\n",
       "  <thead>\n",
       "    <tr style=\"text-align: right;\">\n",
       "      <th></th>\n",
       "      <th>CADT</th>\n",
       "      <th>ELI_TYPE</th>\n",
       "      <th>geometry</th>\n",
       "      <th>is_valid</th>\n",
       "    </tr>\n",
       "  </thead>\n",
       "  <tbody>\n",
       "  </tbody>\n",
       "</table>\n",
       "</div>"
      ],
      "text/plain": [
       "Empty DataFrame\n",
       "Columns: [CADT, ELI_TYPE, geometry, is_valid]\n",
       "Index: []"
      ]
     },
     "execution_count": 94,
     "metadata": {},
     "output_type": "execute_result"
    }
   ],
   "source": [
    "test[test.is_valid == 0]"
   ]
  },
  {
   "cell_type": "code",
   "execution_count": 91,
   "metadata": {},
   "outputs": [
    {
     "data": {
      "text/plain": [
       "<duckdb.duckdb.DuckDBPyConnection at 0x13f7cebb0>"
      ]
     },
     "execution_count": 91,
     "metadata": {},
     "output_type": "execute_result"
    }
   ],
   "source": [
    "db.execute(\n",
    "    \"UPDATE activity_area SET geometry = ST_MakeValid(geometry) WHERE NOT ST_IsValid(geometry);\"\n",
    ")"
   ]
  },
  {
   "cell_type": "code",
   "execution_count": 122,
   "metadata": {},
   "outputs": [
    {
     "data": {
      "image/svg+xml": [
       "<svg xmlns=\"http://www.w3.org/2000/svg\" xmlns:xlink=\"http://www.w3.org/1999/xlink\" width=\"100.0\" height=\"100.0\" viewBox=\"125.75730135201626 9.489690672193248 3.2671563843678086e-05 0.0003028773816957653\" preserveAspectRatio=\"xMinYMin meet\"><g transform=\"matrix(1,0,0,-1,0,18.979684221768192)\"><path fill-rule=\"evenodd\" fill=\"#66cc99\" stroke=\"#555555\" stroke-width=\"6.057547633915306e-06\" opacity=\"0.6\" d=\"M 125.75731256969719,9.489982331894137 L 125.75731256969706,9.489701889874052 L 125.75732280589929,9.48998233189414 L 125.75731256969719,9.489982331894137 z\" /></g></svg>"
      ],
      "text/plain": [
       "<POLYGON ((125.757 9.49, 125.757 9.49, 125.757 9.49, 125.757 9.49))>"
      ]
     },
     "execution_count": 122,
     "metadata": {},
     "output_type": "execute_result"
    }
   ],
   "source": [
    "strata_gdf.loc[155961, \"geometry\"]"
   ]
  }
 ],
 "metadata": {
  "kernelspec": {
   "display_name": "onebase",
   "language": "python",
   "name": "python3"
  },
  "language_info": {
   "codemirror_mode": {
    "name": "ipython",
    "version": 3
   },
   "file_extension": ".py",
   "mimetype": "text/x-python",
   "name": "python",
   "nbconvert_exporter": "python",
   "pygments_lexer": "ipython3",
   "version": "3.12.4"
  }
 },
 "nbformat": 4,
 "nbformat_minor": 2
}
