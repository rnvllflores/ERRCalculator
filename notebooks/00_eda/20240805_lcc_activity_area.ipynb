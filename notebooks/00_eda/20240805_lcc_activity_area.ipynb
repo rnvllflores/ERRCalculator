{
 "cells": [
  {
   "cell_type": "markdown",
   "metadata": {},
   "source": [
    "# Draft"
   ]
  },
  {
   "cell_type": "code",
   "execution_count": 1,
   "metadata": {},
   "outputs": [],
   "source": [
    "# Standard Imports\n",
    "import sys\n",
    "import pandas as pd\n",
    "import pandas_gbq\n",
    "import duckdb\n",
    "import geopandas as gpd\n",
    "from shapely.wkt import loads\n",
    "from shapely.geometry import Polygon\n",
    "from geowrangler.validation import GeometryValidation\n",
    "\n",
    "# Google Cloud Imports"
   ]
  },
  {
   "cell_type": "code",
   "execution_count": 2,
   "metadata": {},
   "outputs": [],
   "source": [
    "# Util imports\n",
    "sys.path.append(\"../../\")  # include parent directory\n",
    "from src.settings import GEOJSON_DATA_DIR, PARQUET_DATA_DIR, GPKG_DATA_DIR, TMP_OUT_DIR"
   ]
  },
  {
   "cell_type": "code",
   "execution_count": 3,
   "metadata": {},
   "outputs": [],
   "source": [
    "# Variables\n",
    "SILUP_DIR = GEOJSON_DATA_DIR / \"SILUP\"\n",
    "STRATA_DIR = PARQUET_DATA_DIR / \"pre-strata\"\n",
    "\n",
    "# GCS Variables\n",
    "STRATA_GCS_DIR = \"gs://00_extract_vectors/\"\n",
    "SILUP_GCS_DIR = \"gs://silup-gis/onebase/\"\n",
    "\n",
    "# BigQuery Variables\n",
    "SRC_DATASET_ID = \"biomass_inventory\"\n",
    "DATASET_ID = \"carbon_stock\"\n",
    "IF_EXISTS = \"replace\""
   ]
  },
  {
   "cell_type": "code",
   "execution_count": 4,
   "metadata": {},
   "outputs": [],
   "source": [
    "# !gsutil -m cp \"gs://00_extract_vectors/caraga-davao-gee_lcc_2023_*\" $PARQUET_DATA_DIR\"/lcc\""
   ]
  },
  {
   "cell_type": "code",
   "execution_count": 5,
   "metadata": {},
   "outputs": [],
   "source": [
    "# !gsutil -m cp \"gs://00_extract_rasters/CaragaDavao_LandCoverMap_L4_AREA2_2024.tif\" $TMP_OUT_DIR"
   ]
  },
  {
   "cell_type": "code",
   "execution_count": 6,
   "metadata": {},
   "outputs": [],
   "source": [
    "# Connect to the duckdb database\n",
    "db = duckdb.connect(database=str(TMP_OUT_DIR / \"activity_area.db\"))"
   ]
  },
  {
   "cell_type": "code",
   "execution_count": 7,
   "metadata": {},
   "outputs": [
    {
     "data": {
      "text/plain": [
       "<duckdb.duckdb.DuckDBPyConnection at 0x11ba21a30>"
      ]
     },
     "execution_count": 7,
     "metadata": {},
     "output_type": "execute_result"
    }
   ],
   "source": [
    "db.execute(\"INSTALL spatial; LOAD spatial;\")"
   ]
  },
  {
   "cell_type": "code",
   "execution_count": 8,
   "metadata": {},
   "outputs": [
    {
     "data": {
      "text/html": [
       "<div>\n",
       "<style scoped>\n",
       "    .dataframe tbody tr th:only-of-type {\n",
       "        vertical-align: middle;\n",
       "    }\n",
       "\n",
       "    .dataframe tbody tr th {\n",
       "        vertical-align: top;\n",
       "    }\n",
       "\n",
       "    .dataframe thead th {\n",
       "        text-align: right;\n",
       "    }\n",
       "</style>\n",
       "<table border=\"1\" class=\"dataframe\">\n",
       "  <thead>\n",
       "    <tr style=\"text-align: right;\">\n",
       "      <th></th>\n",
       "      <th>name</th>\n",
       "    </tr>\n",
       "  </thead>\n",
       "  <tbody>\n",
       "    <tr>\n",
       "      <th>0</th>\n",
       "      <td>activity_area</td>\n",
       "    </tr>\n",
       "    <tr>\n",
       "      <th>1</th>\n",
       "      <td>aud_buffer</td>\n",
       "    </tr>\n",
       "    <tr>\n",
       "      <th>2</th>\n",
       "      <td>lcc_cadt</td>\n",
       "    </tr>\n",
       "  </tbody>\n",
       "</table>\n",
       "</div>"
      ],
      "text/plain": [
       "            name\n",
       "0  activity_area\n",
       "1     aud_buffer\n",
       "2       lcc_cadt"
      ]
     },
     "execution_count": 8,
     "metadata": {},
     "output_type": "execute_result"
    }
   ],
   "source": [
    "query = \"SELECT name FROM sqlite_master WHERE type='table';\"\n",
    "db.execute(query).df()"
   ]
  },
  {
   "cell_type": "code",
   "execution_count": 9,
   "metadata": {},
   "outputs": [],
   "source": [
    "activity_area_gdf = gpd.read_file(TMP_OUT_DIR / \"activity_area.gpkg\", driver=\"GPKG\")"
   ]
  },
  {
   "cell_type": "code",
   "execution_count": 10,
   "metadata": {},
   "outputs": [
    {
     "name": "stdout",
     "output_type": "stream",
     "text": [
      "<class 'geopandas.geodataframe.GeoDataFrame'>\n",
      "RangeIndex: 38152 entries, 0 to 38151\n",
      "Data columns (total 8 columns):\n",
      " #   Column                    Non-Null Count  Dtype   \n",
      "---  ------                    --------------  -----   \n",
      " 0   CADT                      38152 non-null  object  \n",
      " 1   ELI_TYPE                  38152 non-null  object  \n",
      " 2   is_not_null               38152 non-null  bool    \n",
      " 3   is_not_self_intersecting  38152 non-null  bool    \n",
      " 4   is_oriented_properly      38152 non-null  bool    \n",
      " 5   is_within_crs_bounds      38152 non-null  bool    \n",
      " 6   area_is_not_zero          38152 non-null  bool    \n",
      " 7   geometry                  38152 non-null  geometry\n",
      "dtypes: bool(5), geometry(1), object(2)\n",
      "memory usage: 1.1+ MB\n"
     ]
    }
   ],
   "source": [
    "activity_area_gdf.info()"
   ]
  },
  {
   "cell_type": "code",
   "execution_count": 11,
   "metadata": {},
   "outputs": [
    {
     "data": {
      "text/plain": [
       "array(['Polygon'], dtype=object)"
      ]
     },
     "execution_count": 11,
     "metadata": {},
     "output_type": "execute_result"
    }
   ],
   "source": [
    "activity_area_gdf.geometry.type.unique()"
   ]
  },
  {
   "cell_type": "code",
   "execution_count": 12,
   "metadata": {},
   "outputs": [],
   "source": [
    "activity_area_gdf = activity_area_gdf.explode(index_parts=False)"
   ]
  },
  {
   "cell_type": "code",
   "execution_count": 13,
   "metadata": {},
   "outputs": [],
   "source": [
    "activity_area_gdf = GeometryValidation(activity_area_gdf).validate_all()"
   ]
  },
  {
   "cell_type": "code",
   "execution_count": 14,
   "metadata": {},
   "outputs": [],
   "source": [
    "def polygon_z_to_2d(geom):\n",
    "    if geom.has_z:\n",
    "        return Polygon([(x, y) for x, y, z in geom.exterior.coords])\n",
    "    return geom"
   ]
  },
  {
   "cell_type": "code",
   "execution_count": 15,
   "metadata": {},
   "outputs": [],
   "source": [
    "# Apply the conversion to the GeoDataFrame\n",
    "activity_area_gdf[\"geometry\"] = activity_area_gdf[\"geometry\"].apply(polygon_z_to_2d)"
   ]
  },
  {
   "cell_type": "code",
   "execution_count": 16,
   "metadata": {},
   "outputs": [
    {
     "name": "stderr",
     "output_type": "stream",
     "text": [
      "/var/folders/j7/qhtl5rxn31ng6n_d889xc4n40000gn/T/ipykernel_1132/1961260940.py:2: UserWarning: Geometry column does not contain geometry.\n",
      "  activity_area_df['geometry'] = activity_area_gdf['geometry'].to_wkt()\n"
     ]
    }
   ],
   "source": [
    "activity_area_df = activity_area_gdf.copy()\n",
    "activity_area_df[\"geometry\"] = activity_area_gdf[\"geometry\"].to_wkt()"
   ]
  },
  {
   "cell_type": "code",
   "execution_count": 17,
   "metadata": {},
   "outputs": [
    {
     "data": {
      "text/html": [
       "<div>\n",
       "<style scoped>\n",
       "    .dataframe tbody tr th:only-of-type {\n",
       "        vertical-align: middle;\n",
       "    }\n",
       "\n",
       "    .dataframe tbody tr th {\n",
       "        vertical-align: top;\n",
       "    }\n",
       "\n",
       "    .dataframe thead th {\n",
       "        text-align: right;\n",
       "    }\n",
       "</style>\n",
       "<table border=\"1\" class=\"dataframe\">\n",
       "  <thead>\n",
       "    <tr style=\"text-align: right;\">\n",
       "      <th></th>\n",
       "      <th>CADT</th>\n",
       "      <th>ELI_TYPE</th>\n",
       "      <th>is_not_null</th>\n",
       "      <th>is_not_self_intersecting</th>\n",
       "      <th>is_oriented_properly</th>\n",
       "      <th>is_within_crs_bounds</th>\n",
       "      <th>area_is_not_zero</th>\n",
       "      <th>geometry</th>\n",
       "    </tr>\n",
       "  </thead>\n",
       "  <tbody>\n",
       "    <tr>\n",
       "      <th>0</th>\n",
       "      <td>002</td>\n",
       "      <td>APD</td>\n",
       "      <td>True</td>\n",
       "      <td>True</td>\n",
       "      <td>True</td>\n",
       "      <td>True</td>\n",
       "      <td>True</td>\n",
       "      <td>POLYGON ((125.942895 9.09357, 125.942952 9.093...</td>\n",
       "    </tr>\n",
       "    <tr>\n",
       "      <th>1</th>\n",
       "      <td>002</td>\n",
       "      <td>APD</td>\n",
       "      <td>True</td>\n",
       "      <td>True</td>\n",
       "      <td>True</td>\n",
       "      <td>True</td>\n",
       "      <td>True</td>\n",
       "      <td>POLYGON ((125.943788 9.098428, 125.943788 9.09...</td>\n",
       "    </tr>\n",
       "    <tr>\n",
       "      <th>2</th>\n",
       "      <td>002</td>\n",
       "      <td>APD</td>\n",
       "      <td>True</td>\n",
       "      <td>True</td>\n",
       "      <td>True</td>\n",
       "      <td>True</td>\n",
       "      <td>True</td>\n",
       "      <td>POLYGON ((125.941848 9.102794, 125.941825 9.10...</td>\n",
       "    </tr>\n",
       "    <tr>\n",
       "      <th>3</th>\n",
       "      <td>002</td>\n",
       "      <td>APD</td>\n",
       "      <td>True</td>\n",
       "      <td>True</td>\n",
       "      <td>True</td>\n",
       "      <td>True</td>\n",
       "      <td>True</td>\n",
       "      <td>POLYGON ((125.943544 9.106047, 125.943544 9.10...</td>\n",
       "    </tr>\n",
       "    <tr>\n",
       "      <th>4</th>\n",
       "      <td>002</td>\n",
       "      <td>APD</td>\n",
       "      <td>True</td>\n",
       "      <td>True</td>\n",
       "      <td>True</td>\n",
       "      <td>True</td>\n",
       "      <td>True</td>\n",
       "      <td>POLYGON ((125.943452 9.10656, 125.94345 9.1065...</td>\n",
       "    </tr>\n",
       "    <tr>\n",
       "      <th>...</th>\n",
       "      <td>...</td>\n",
       "      <td>...</td>\n",
       "      <td>...</td>\n",
       "      <td>...</td>\n",
       "      <td>...</td>\n",
       "      <td>...</td>\n",
       "      <td>...</td>\n",
       "      <td>...</td>\n",
       "    </tr>\n",
       "    <tr>\n",
       "      <th>38147</th>\n",
       "      <td>256</td>\n",
       "      <td>NOT ELIGIBLE</td>\n",
       "      <td>True</td>\n",
       "      <td>True</td>\n",
       "      <td>True</td>\n",
       "      <td>True</td>\n",
       "      <td>True</td>\n",
       "      <td>POLYGON ((125.694251 9.079183, 125.69443 9.079...</td>\n",
       "    </tr>\n",
       "    <tr>\n",
       "      <th>38148</th>\n",
       "      <td>256</td>\n",
       "      <td>NOT ELIGIBLE</td>\n",
       "      <td>True</td>\n",
       "      <td>True</td>\n",
       "      <td>True</td>\n",
       "      <td>True</td>\n",
       "      <td>True</td>\n",
       "      <td>POLYGON ((125.665774 9.079362, 125.666044 9.07...</td>\n",
       "    </tr>\n",
       "    <tr>\n",
       "      <th>38149</th>\n",
       "      <td>256</td>\n",
       "      <td>NOT ELIGIBLE</td>\n",
       "      <td>True</td>\n",
       "      <td>True</td>\n",
       "      <td>True</td>\n",
       "      <td>True</td>\n",
       "      <td>True</td>\n",
       "      <td>POLYGON ((125.658588 9.080261, 125.658678 9.08...</td>\n",
       "    </tr>\n",
       "    <tr>\n",
       "      <th>38150</th>\n",
       "      <td>256</td>\n",
       "      <td>NOT ELIGIBLE</td>\n",
       "      <td>True</td>\n",
       "      <td>True</td>\n",
       "      <td>True</td>\n",
       "      <td>True</td>\n",
       "      <td>True</td>\n",
       "      <td>POLYGON ((125.684518 9.08655, 125.686545 9.086...</td>\n",
       "    </tr>\n",
       "    <tr>\n",
       "      <th>38151</th>\n",
       "      <td>256</td>\n",
       "      <td>NOT ELIGIBLE</td>\n",
       "      <td>True</td>\n",
       "      <td>True</td>\n",
       "      <td>True</td>\n",
       "      <td>True</td>\n",
       "      <td>True</td>\n",
       "      <td>POLYGON ((125.696608 9.089975, 125.696612 9.08...</td>\n",
       "    </tr>\n",
       "  </tbody>\n",
       "</table>\n",
       "<p>38152 rows × 8 columns</p>\n",
       "</div>"
      ],
      "text/plain": [
       "      CADT      ELI_TYPE  is_not_null  is_not_self_intersecting  \\\n",
       "0      002           APD         True                      True   \n",
       "1      002           APD         True                      True   \n",
       "2      002           APD         True                      True   \n",
       "3      002           APD         True                      True   \n",
       "4      002           APD         True                      True   \n",
       "...    ...           ...          ...                       ...   \n",
       "38147  256  NOT ELIGIBLE         True                      True   \n",
       "38148  256  NOT ELIGIBLE         True                      True   \n",
       "38149  256  NOT ELIGIBLE         True                      True   \n",
       "38150  256  NOT ELIGIBLE         True                      True   \n",
       "38151  256  NOT ELIGIBLE         True                      True   \n",
       "\n",
       "       is_oriented_properly  is_within_crs_bounds  area_is_not_zero  \\\n",
       "0                      True                  True              True   \n",
       "1                      True                  True              True   \n",
       "2                      True                  True              True   \n",
       "3                      True                  True              True   \n",
       "4                      True                  True              True   \n",
       "...                     ...                   ...               ...   \n",
       "38147                  True                  True              True   \n",
       "38148                  True                  True              True   \n",
       "38149                  True                  True              True   \n",
       "38150                  True                  True              True   \n",
       "38151                  True                  True              True   \n",
       "\n",
       "                                                geometry  \n",
       "0      POLYGON ((125.942895 9.09357, 125.942952 9.093...  \n",
       "1      POLYGON ((125.943788 9.098428, 125.943788 9.09...  \n",
       "2      POLYGON ((125.941848 9.102794, 125.941825 9.10...  \n",
       "3      POLYGON ((125.943544 9.106047, 125.943544 9.10...  \n",
       "4      POLYGON ((125.943452 9.10656, 125.94345 9.1065...  \n",
       "...                                                  ...  \n",
       "38147  POLYGON ((125.694251 9.079183, 125.69443 9.079...  \n",
       "38148  POLYGON ((125.665774 9.079362, 125.666044 9.07...  \n",
       "38149  POLYGON ((125.658588 9.080261, 125.658678 9.08...  \n",
       "38150  POLYGON ((125.684518 9.08655, 125.686545 9.086...  \n",
       "38151  POLYGON ((125.696608 9.089975, 125.696612 9.08...  \n",
       "\n",
       "[38152 rows x 8 columns]"
      ]
     },
     "execution_count": 17,
     "metadata": {},
     "output_type": "execute_result"
    }
   ],
   "source": [
    "activity_area_df[activity_area_df[\"geometry\"].str.contains(\"POLYGON\")]"
   ]
  },
  {
   "cell_type": "code",
   "execution_count": 18,
   "metadata": {},
   "outputs": [],
   "source": [
    "activity_area_gdf.to_file(TMP_OUT_DIR / \"activity_area.gpkg\")"
   ]
  },
  {
   "cell_type": "code",
   "execution_count": 19,
   "metadata": {},
   "outputs": [
    {
     "data": {
      "text/plain": [
       "<duckdb.duckdb.DuckDBPyConnection at 0x11ba21a30>"
      ]
     },
     "execution_count": 19,
     "metadata": {},
     "output_type": "execute_result"
    }
   ],
   "source": [
    "query = \"\"\"\n",
    "DROP TABLE activity_area;\n",
    "CREATE OR REPLACE TABLE activity_area AS \n",
    "SELECT \n",
    "    CADT, \n",
    "    ELI_TYPE, \n",
    "    ST_GeomFromText(geometry) as geometry FROM activity_area_df\n",
    "\"\"\"\n",
    "\n",
    "db.execute(query)"
   ]
  },
  {
   "cell_type": "code",
   "execution_count": 20,
   "metadata": {},
   "outputs": [],
   "source": [
    "lcc_cadt = gpd.read_file(GPKG_DATA_DIR / \"lcc_cadt.gpkg\", driver=\"GPKG\")"
   ]
  },
  {
   "cell_type": "code",
   "execution_count": 21,
   "metadata": {},
   "outputs": [],
   "source": [
    "lcc_cadt = lcc_cadt.explode(index_parts=False)"
   ]
  },
  {
   "cell_type": "code",
   "execution_count": 22,
   "metadata": {},
   "outputs": [],
   "source": [
    "# Apply the conversion to the GeoDataFrame\n",
    "lcc_cadt[\"geometry\"] = lcc_cadt[\"geometry\"].apply(polygon_z_to_2d)"
   ]
  },
  {
   "cell_type": "code",
   "execution_count": 23,
   "metadata": {},
   "outputs": [],
   "source": [
    "lcc_cadt = GeometryValidation(lcc_cadt).validate_all()"
   ]
  },
  {
   "cell_type": "code",
   "execution_count": null,
   "metadata": {},
   "outputs": [
    {
     "data": {
      "text/plain": [
       "array(['Polygon'], dtype=object)"
      ]
     },
     "execution_count": 54,
     "metadata": {},
     "output_type": "execute_result"
    }
   ],
   "source": [
    "lcc_cadt.geometry.type.unique()"
   ]
  },
  {
   "cell_type": "code",
   "execution_count": null,
   "metadata": {},
   "outputs": [],
   "source": [
    "lcc_cadt_df = lcc_cadt.copy()"
   ]
  },
  {
   "cell_type": "code",
   "execution_count": null,
   "metadata": {},
   "outputs": [
    {
     "name": "stderr",
     "output_type": "stream",
     "text": [
      "/var/folders/j7/qhtl5rxn31ng6n_d889xc4n40000gn/T/ipykernel_2133/2173339669.py:1: UserWarning: Geometry column does not contain geometry.\n",
      "  lcc_cadt_df['geometry'] = lcc_cadt_df['geometry'].to_wkt()\n"
     ]
    }
   ],
   "source": [
    "lcc_cadt_df[\"geometry\"] = lcc_cadt_df[\"geometry\"].to_wkt()"
   ]
  },
  {
   "cell_type": "code",
   "execution_count": null,
   "metadata": {},
   "outputs": [
    {
     "data": {
      "text/html": [
       "<div>\n",
       "<style scoped>\n",
       "    .dataframe tbody tr th:only-of-type {\n",
       "        vertical-align: middle;\n",
       "    }\n",
       "\n",
       "    .dataframe tbody tr th {\n",
       "        vertical-align: top;\n",
       "    }\n",
       "\n",
       "    .dataframe thead th {\n",
       "        text-align: right;\n",
       "    }\n",
       "</style>\n",
       "<table border=\"1\" class=\"dataframe\">\n",
       "  <thead>\n",
       "    <tr style=\"text-align: right;\">\n",
       "      <th></th>\n",
       "      <th>DN</th>\n",
       "      <th>is_not_null</th>\n",
       "      <th>is_not_self_intersecting</th>\n",
       "      <th>is_oriented_properly</th>\n",
       "      <th>is_within_crs_bounds</th>\n",
       "      <th>area_is_not_zero</th>\n",
       "      <th>geometry</th>\n",
       "    </tr>\n",
       "  </thead>\n",
       "  <tbody>\n",
       "    <tr>\n",
       "      <th>0</th>\n",
       "      <td>19</td>\n",
       "      <td>True</td>\n",
       "      <td>True</td>\n",
       "      <td>True</td>\n",
       "      <td>True</td>\n",
       "      <td>True</td>\n",
       "      <td>POLYGON ((125.410473 9.745823, 125.410473 9.74...</td>\n",
       "    </tr>\n",
       "    <tr>\n",
       "      <th>1</th>\n",
       "      <td>4</td>\n",
       "      <td>True</td>\n",
       "      <td>True</td>\n",
       "      <td>True</td>\n",
       "      <td>True</td>\n",
       "      <td>True</td>\n",
       "      <td>POLYGON ((125.411012 9.745014, 125.411012 9.74...</td>\n",
       "    </tr>\n",
       "  </tbody>\n",
       "</table>\n",
       "</div>"
      ],
      "text/plain": [
       "   DN  is_not_null  is_not_self_intersecting  is_oriented_properly  \\\n",
       "0  19         True                      True                  True   \n",
       "1   4         True                      True                  True   \n",
       "\n",
       "   is_within_crs_bounds  area_is_not_zero  \\\n",
       "0                  True              True   \n",
       "1                  True              True   \n",
       "\n",
       "                                            geometry  \n",
       "0  POLYGON ((125.410473 9.745823, 125.410473 9.74...  \n",
       "1  POLYGON ((125.411012 9.745014, 125.411012 9.74...  "
      ]
     },
     "execution_count": 38,
     "metadata": {},
     "output_type": "execute_result"
    }
   ],
   "source": [
    "lcc_cadt_df.head(2)"
   ]
  },
  {
   "cell_type": "code",
   "execution_count": null,
   "metadata": {},
   "outputs": [],
   "source": [
    "query = \"\"\"\n",
    "CREATE OR REPLACE TABLE lcc_cadt AS\n",
    "SELECT\n",
    "    CASE \n",
    "        WHEN DN = 1 THEN 'dipterocarp_open' \n",
    "        WHEN DN = 4 THEN 'dipterocarp_closed' \n",
    "        ELSE 'Non-Forest' \n",
    "    END as lcc_type,\n",
    "    ST_GeomFromText(geometry) as geometry\n",
    "FROM lcc_cadt_df\n",
    "WHERE DN = 1 OR DN = 4\n",
    "\"\"\""
   ]
  },
  {
   "cell_type": "code",
   "execution_count": null,
   "metadata": {},
   "outputs": [
    {
     "data": {
      "text/plain": [
       "<duckdb.duckdb.DuckDBPyConnection at 0x12212cdf0>"
      ]
     },
     "execution_count": 40,
     "metadata": {},
     "output_type": "execute_result"
    }
   ],
   "source": [
    "db.execute(query)"
   ]
  },
  {
   "cell_type": "code",
   "execution_count": null,
   "metadata": {},
   "outputs": [],
   "source": [
    "query = \"\"\"\n",
    "SELECT \n",
    "    activity_area.CADT,\n",
    "    activity_area.ELI_TYPE,\n",
    "    lcc_cadt.lcc_type,\n",
    "    ST_AsText(ST_Intersection(activity_area.geometry, lcc_cadt.geometry)) as geometry\n",
    "FROM activity_area\n",
    "JOIN lcc_cadt ON ST_Intersects(lcc_cadt.geometry, activity_area.geometry)\n",
    "WHERE activity_area.ELI_TYPE = 'APD'\n",
    "\"\"\""
   ]
  },
  {
   "cell_type": "code",
   "execution_count": null,
   "metadata": {},
   "outputs": [
    {
     "ename": "InvalidInputException",
     "evalue": "Invalid Input Error: TopologyException: unable to assign free hole to a shell at 125.91981800000001 9.2871430000000004",
     "output_type": "error",
     "traceback": [
      "\u001b[0;31m---------------------------------------------------------------------------\u001b[0m",
      "\u001b[0;31mInvalidInputException\u001b[0m                     Traceback (most recent call last)",
      "Cell \u001b[0;32mIn[42], line 1\u001b[0m\n\u001b[0;32m----> 1\u001b[0m apd \u001b[38;5;241m=\u001b[39m \u001b[43mdb\u001b[49m\u001b[38;5;241;43m.\u001b[39;49m\u001b[43mexecute\u001b[49m\u001b[43m(\u001b[49m\u001b[43mquery\u001b[49m\u001b[43m)\u001b[49m\u001b[38;5;241;43m.\u001b[39;49m\u001b[43mdf\u001b[49m\u001b[43m(\u001b[49m\u001b[43m)\u001b[49m\n",
      "\u001b[0;31mInvalidInputException\u001b[0m: Invalid Input Error: TopologyException: unable to assign free hole to a shell at 125.91981800000001 9.2871430000000004"
     ]
    }
   ],
   "source": [
    "apd = db.execute(query).df()"
   ]
  },
  {
   "cell_type": "code",
   "execution_count": null,
   "metadata": {},
   "outputs": [],
   "source": [
    "apd[\"geometry\"] = apd[\"geometry\"].apply(lambda x: loads(x))\n",
    "apd = gpd.GeoDataFrame(apd, geometry=\"geometry\", crs=\"EPSG:4326\")"
   ]
  },
  {
   "cell_type": "code",
   "execution_count": null,
   "metadata": {},
   "outputs": [
    {
     "data": {
      "text/plain": [
       "array(['Polygon', 'Point', 'LineString', 'MultiPolygon',\n",
       "       'GeometryCollection', 'MultiLineString', 'MultiPoint'],\n",
       "      dtype=object)"
      ]
     },
     "execution_count": 13,
     "metadata": {},
     "output_type": "execute_result"
    }
   ],
   "source": [
    "apd.geometry.type.unique()"
   ]
  },
  {
   "cell_type": "code",
   "execution_count": null,
   "metadata": {},
   "outputs": [],
   "source": [
    "query = \"SELECT DISTINCT ST_GeometryType(geometry) FROM activity_area\""
   ]
  },
  {
   "cell_type": "code",
   "execution_count": null,
   "metadata": {},
   "outputs": [
    {
     "data": {
      "text/html": [
       "<div>\n",
       "<style scoped>\n",
       "    .dataframe tbody tr th:only-of-type {\n",
       "        vertical-align: middle;\n",
       "    }\n",
       "\n",
       "    .dataframe tbody tr th {\n",
       "        vertical-align: top;\n",
       "    }\n",
       "\n",
       "    .dataframe thead th {\n",
       "        text-align: right;\n",
       "    }\n",
       "</style>\n",
       "<table border=\"1\" class=\"dataframe\">\n",
       "  <thead>\n",
       "    <tr style=\"text-align: right;\">\n",
       "      <th></th>\n",
       "      <th>st_geometrytype(geometry)</th>\n",
       "    </tr>\n",
       "  </thead>\n",
       "  <tbody>\n",
       "    <tr>\n",
       "      <th>0</th>\n",
       "      <td>POLYGON</td>\n",
       "    </tr>\n",
       "  </tbody>\n",
       "</table>\n",
       "</div>"
      ],
      "text/plain": [
       "  st_geometrytype(geometry)\n",
       "0                   POLYGON"
      ]
     },
     "execution_count": 40,
     "metadata": {},
     "output_type": "execute_result"
    }
   ],
   "source": [
    "db.execute(query).df()"
   ]
  },
  {
   "cell_type": "code",
   "execution_count": null,
   "metadata": {},
   "outputs": [],
   "source": [
    "apd_explode = apd.explode(index_parts=False)"
   ]
  },
  {
   "cell_type": "code",
   "execution_count": null,
   "metadata": {},
   "outputs": [],
   "source": [
    "apd.head(2)"
   ]
  },
  {
   "cell_type": "code",
   "execution_count": null,
   "metadata": {},
   "outputs": [],
   "source": [
    "apd[\"area_ha\"] = apd.to_crs(\"EPSG:3123\").area / 10_000"
   ]
  },
  {
   "cell_type": "code",
   "execution_count": null,
   "metadata": {},
   "outputs": [],
   "source": [
    "apd.groupby(\"lcc_type\")[\"area_ha\"].sum()"
   ]
  },
  {
   "cell_type": "code",
   "execution_count": null,
   "metadata": {},
   "outputs": [],
   "source": [
    "activity_area_gdf.CADT.unique()"
   ]
  },
  {
   "cell_type": "code",
   "execution_count": null,
   "metadata": {},
   "outputs": [],
   "source": [
    "activity_area_gdf.loc[activity_area_gdf[\"ELI_TYPE\"] == \"ARR\"].to_crs(\n",
    "    \"EPSG:3123\"\n",
    ").area.sum() / 10_000"
   ]
  },
  {
   "cell_type": "code",
   "execution_count": null,
   "metadata": {},
   "outputs": [],
   "source": [
    "apd[\"area_ha\"].sum()"
   ]
  },
  {
   "cell_type": "code",
   "execution_count": null,
   "metadata": {},
   "outputs": [],
   "source": [
    "lcc_cadt.loc[lcc_cadt[\"DN\"].isin([1, 4])].explore()"
   ]
  },
  {
   "cell_type": "code",
   "execution_count": null,
   "metadata": {},
   "outputs": [],
   "source": [
    "query = \"\"\"\n",
    "SELECT \n",
    "    activity_area.CADT,\n",
    "    activity_area.ELI_TYPE,\n",
    "    lcc_cadt.lcc_type,\n",
    "    ST_AsText(ST_Intersection(activity_area.geometry, lcc_cadt.geometry)) as geometry\n",
    "FROM activity_area\n",
    "JOIN lcc_cadt ON ST_Intersects(lcc_cadt.geometry, activity_area.geometry)\n",
    "WHERE activity_area.ELI_TYPE = 'APD' OR activity_area.ELI_TYPE = 'ARR'\n",
    "\"\"\""
   ]
  },
  {
   "cell_type": "code",
   "execution_count": null,
   "metadata": {},
   "outputs": [],
   "source": [
    "apd_arr = db.execute(query).df()"
   ]
  },
  {
   "cell_type": "code",
   "execution_count": null,
   "metadata": {},
   "outputs": [],
   "source": [
    "# .groupby(\"lcc_type\")['area_ha'].sum()"
   ]
  },
  {
   "cell_type": "code",
   "execution_count": null,
   "metadata": {},
   "outputs": [],
   "source": [
    "cadt252 = \"NULL\""
   ]
  },
  {
   "cell_type": "code",
   "execution_count": null,
   "metadata": {},
   "outputs": [],
   "source": [
    "cadt252 = gpd.read_file(\n",
    "    GEOJSON_DATA_DIR / \"SILUP\" / \"v0 CADT 252.geojson\", driver=\"GeoJSON\"\n",
    ")"
   ]
  },
  {
   "cell_type": "code",
   "execution_count": null,
   "metadata": {},
   "outputs": [],
   "source": [
    "cadt252.to_crs(\"EPSG:4326\", inplace=True)"
   ]
  },
  {
   "cell_type": "code",
   "execution_count": null,
   "metadata": {},
   "outputs": [
    {
     "data": {
      "text/html": [
       "<div>\n",
       "<style scoped>\n",
       "    .dataframe tbody tr th:only-of-type {\n",
       "        vertical-align: middle;\n",
       "    }\n",
       "\n",
       "    .dataframe tbody tr th {\n",
       "        vertical-align: top;\n",
       "    }\n",
       "\n",
       "    .dataframe thead th {\n",
       "        text-align: right;\n",
       "    }\n",
       "</style>\n",
       "<table border=\"1\" class=\"dataframe\">\n",
       "  <thead>\n",
       "    <tr style=\"text-align: right;\">\n",
       "      <th></th>\n",
       "      <th>fid</th>\n",
       "      <th>CADT_No</th>\n",
       "      <th>PROVINCE</th>\n",
       "      <th>LCC</th>\n",
       "      <th>PLAN_0</th>\n",
       "      <th>BAU_0</th>\n",
       "      <th>ELI_TYPE</th>\n",
       "      <th>AREA</th>\n",
       "      <th>CADT_Name</th>\n",
       "      <th>geometry</th>\n",
       "    </tr>\n",
       "  </thead>\n",
       "  <tbody>\n",
       "    <tr>\n",
       "      <th>0</th>\n",
       "      <td>1</td>\n",
       "      <td>252.0</td>\n",
       "      <td>Agusan Del Norte</td>\n",
       "      <td>SWAMP FOREST</td>\n",
       "      <td>CONSERVATION</td>\n",
       "      <td>CONSERVATION</td>\n",
       "      <td>AUD</td>\n",
       "      <td>0.152885</td>\n",
       "      <td>v0_CADT_252</td>\n",
       "      <td>MULTIPOLYGON (((125.26953 8.89224, 125.26948 8...</td>\n",
       "    </tr>\n",
       "    <tr>\n",
       "      <th>1</th>\n",
       "      <td>2</td>\n",
       "      <td>252.0</td>\n",
       "      <td>Agusan Del Norte</td>\n",
       "      <td>SWAMP FOREST</td>\n",
       "      <td>CONSERVATION</td>\n",
       "      <td>CONSERVATION</td>\n",
       "      <td>AUD</td>\n",
       "      <td>0.034931</td>\n",
       "      <td>v0_CADT_252</td>\n",
       "      <td>MULTIPOLYGON (((125.26845 8.89341, 125.26863 8...</td>\n",
       "    </tr>\n",
       "  </tbody>\n",
       "</table>\n",
       "</div>"
      ],
      "text/plain": [
       "   fid  CADT_No          PROVINCE           LCC        PLAN_0         BAU_0  \\\n",
       "0    1    252.0  Agusan Del Norte  SWAMP FOREST  CONSERVATION  CONSERVATION   \n",
       "1    2    252.0  Agusan Del Norte  SWAMP FOREST  CONSERVATION  CONSERVATION   \n",
       "\n",
       "  ELI_TYPE      AREA    CADT_Name  \\\n",
       "0      AUD  0.152885  v0_CADT_252   \n",
       "1      AUD  0.034931  v0_CADT_252   \n",
       "\n",
       "                                            geometry  \n",
       "0  MULTIPOLYGON (((125.26953 8.89224, 125.26948 8...  \n",
       "1  MULTIPOLYGON (((125.26845 8.89341, 125.26863 8...  "
      ]
     },
     "execution_count": 88,
     "metadata": {},
     "output_type": "execute_result"
    }
   ],
   "source": [
    "cadt252.head(2)"
   ]
  },
  {
   "cell_type": "code",
   "execution_count": null,
   "metadata": {},
   "outputs": [
    {
     "data": {
      "text/plain": [
       "array(['Polygon', 'MultiPolygon', 'GeometryCollection'], dtype=object)"
      ]
     },
     "execution_count": 100,
     "metadata": {},
     "output_type": "execute_result"
    }
   ],
   "source": [
    "cadt252.geometry.type.unique()"
   ]
  },
  {
   "cell_type": "code",
   "execution_count": null,
   "metadata": {},
   "outputs": [],
   "source": [
    "cadt252_poly = cadt252[cadt252.geometry.type == \"Polygon\"].copy()"
   ]
  },
  {
   "cell_type": "code",
   "execution_count": null,
   "metadata": {},
   "outputs": [
    {
     "data": {
      "text/plain": [
       "<Axes: >"
      ]
     },
     "execution_count": 109,
     "metadata": {},
     "output_type": "execute_result"
    },
    {
     "data": {
      "image/png": "[encoded data removed]",
      "text/plain": [
       "<Figure size 640x480 with 1 Axes>"
      ]
     },
     "metadata": {},
     "output_type": "display_data"
    }
   ],
   "source": [
    "cadt252_poly.plot()"
   ]
  },
  {
   "cell_type": "code",
   "execution_count": null,
   "metadata": {},
   "outputs": [],
   "source": [
    "cadt252_multi = (\n",
    "    cadt252[cadt252.geometry.type == \"MultiPolygon\"].copy().explode(index_parts=False)\n",
    ")"
   ]
  },
  {
   "cell_type": "code",
   "execution_count": null,
   "metadata": {},
   "outputs": [
    {
     "data": {
      "text/plain": [
       "array(['Polygon'], dtype=object)"
      ]
     },
     "execution_count": 104,
     "metadata": {},
     "output_type": "execute_result"
    }
   ],
   "source": [
    "cadt252_multi.geometry.type.unique()"
   ]
  },
  {
   "cell_type": "code",
   "execution_count": null,
   "metadata": {},
   "outputs": [
    {
     "data": {
      "text/plain": [
       "<Axes: >"
      ]
     },
     "execution_count": 108,
     "metadata": {},
     "output_type": "execute_result"
    },
    {
     "data": {
      "image/png": "[encoded data removed]",
      "text/plain": [
       "<Figure size 640x480 with 1 Axes>"
      ]
     },
     "metadata": {},
     "output_type": "display_data"
    }
   ],
   "source": [
    "cadt252_multi.plot()"
   ]
  },
  {
   "cell_type": "code",
   "execution_count": null,
   "metadata": {},
   "outputs": [],
   "source": [
    "cadt252_collection = (\n",
    "    cadt252[cadt252.geometry.type == \"GeometryCollection\"]\n",
    "    .copy()\n",
    "    .explode(index_parts=False)\n",
    ")"
   ]
  },
  {
   "cell_type": "code",
   "execution_count": null,
   "metadata": {},
   "outputs": [
    {
     "data": {
      "text/plain": [
       "array(['MultiPolygon', 'LineString', 'Polygon', 'MultiLineString',\n",
       "       'MultiPoint'], dtype=object)"
      ]
     },
     "execution_count": 106,
     "metadata": {},
     "output_type": "execute_result"
    }
   ],
   "source": [
    "cadt252_collection.geometry.type.unique()"
   ]
  },
  {
   "cell_type": "code",
   "execution_count": null,
   "metadata": {},
   "outputs": [],
   "source": [
    "cadt252_collection_poly = cadt252_collection[\n",
    "    cadt252_collection.geometry.type == \"Polygon\"\n",
    "]"
   ]
  },
  {
   "cell_type": "code",
   "execution_count": null,
   "metadata": {},
   "outputs": [],
   "source": [
    "cadt252_collection_multi = cadt252_collection[\n",
    "    cadt252_collection.geometry.type == \"MultiPolygon\"\n",
    "].explode(index_parts=False)"
   ]
  },
  {
   "cell_type": "code",
   "execution_count": null,
   "metadata": {},
   "outputs": [],
   "source": [
    "cadt252_all = [\n",
    "    cadt252_poly,\n",
    "    cadt252_multi,\n",
    "    cadt252_collection_poly,\n",
    "    cadt252_collection_multi,\n",
    "]"
   ]
  },
  {
   "cell_type": "code",
   "execution_count": null,
   "metadata": {},
   "outputs": [],
   "source": [
    "cadt_252 = pd.concat(cadt252_all)"
   ]
  },
  {
   "cell_type": "code",
   "execution_count": null,
   "metadata": {},
   "outputs": [
    {
     "data": {
      "text/plain": [
       "array(['Polygon'], dtype=object)"
      ]
     },
     "metadata": {},
     "output_type": "display_data"
    }
   ],
   "source": [
    "cadt_252.geometry.type.unique()"
   ]
  },
  {
   "cell_type": "code",
   "execution_count": null,
   "metadata": {},
   "outputs": [],
   "source": [
    "cadt_252.reset_index(drop=True, inplace=True)"
   ]
  },
  {
   "cell_type": "code",
   "execution_count": null,
   "metadata": {},
   "outputs": [],
   "source": [
    "cadt_252.plot()"
   ]
  },
  {
   "cell_type": "code",
   "execution_count": null,
   "metadata": {},
   "outputs": [
    {
     "data": {
      "text/plain": [
       "array(['Polygon'], dtype=object)"
      ]
     },
     "execution_count": 138,
     "metadata": {},
     "output_type": "execute_result"
    }
   ],
   "source": [
    "cadt_252.geometry.type.unique()"
   ]
  },
  {
   "cell_type": "code",
   "execution_count": null,
   "metadata": {},
   "outputs": [],
   "source": [
    "cadt_252 = cadt_252.explode(index_parts=False)"
   ]
  },
  {
   "cell_type": "code",
   "execution_count": null,
   "metadata": {},
   "outputs": [],
   "source": [
    "# cadt252[\"geometry\"] = cadt252.buffer(0)"
   ]
  },
  {
   "cell_type": "code",
   "execution_count": null,
   "metadata": {},
   "outputs": [],
   "source": [
    "# cadt252 = GeometryValidation(cadt252).validate_all()\n"
   ]
  },
  {
   "cell_type": "code",
   "execution_count": null,
   "metadata": {},
   "outputs": [],
   "source": [
    "cadt_252 = cadt_252[[\"CADT_No\", \"ELI_TYPE\", \"geometry\"]].copy()"
   ]
  },
  {
   "cell_type": "code",
   "execution_count": null,
   "metadata": {},
   "outputs": [],
   "source": [
    "cadt_252.rename(columns={\"CADT_No\": \"CADT\"}, inplace=True)"
   ]
  },
  {
   "cell_type": "code",
   "execution_count": null,
   "metadata": {},
   "outputs": [],
   "source": [
    "activity_area_gdf = pd.concat(\n",
    "    [activity_area_gdf[activity_area_gdf[\"CADT\"] != 252], cadt_252]\n",
    ")"
   ]
  },
  {
   "cell_type": "code",
   "execution_count": null,
   "metadata": {},
   "outputs": [],
   "source": [
    "cadt_252.to_file(TMP_OUT_DIR / \"cadt252_validated.gpkg\")"
   ]
  },
  {
   "cell_type": "markdown",
   "metadata": {},
   "source": [
    "# New"
   ]
  },
  {
   "cell_type": "code",
   "execution_count": null,
   "metadata": {},
   "outputs": [],
   "source": [
    "# Standard Imports\n",
    "import sys\n",
    "import pandas as pd\n",
    "import duckdb\n",
    "import geopandas as gpd\n",
    "from geowrangler.validation import GeometryValidation\n",
    "\n",
    "# Google Cloud Imports"
   ]
  },
  {
   "cell_type": "code",
   "execution_count": null,
   "metadata": {},
   "outputs": [],
   "source": [
    "# Util imports\n",
    "sys.path.append(\"../../\")  # include parent directory\n",
    "from src.settings import GEOJSON_DATA_DIR, PARQUET_DATA_DIR, GPKG_DATA_DIR, TMP_OUT_DIR"
   ]
  },
  {
   "cell_type": "code",
   "execution_count": null,
   "metadata": {},
   "outputs": [],
   "source": [
    "# Connect to the duckdb database\n",
    "db = duckdb.connect(database=str(TMP_OUT_DIR / \"activity_area.db\"))"
   ]
  },
  {
   "cell_type": "code",
   "execution_count": null,
   "metadata": {},
   "outputs": [],
   "source": [
    "db.execute(\"INSTALL spatial; LOAD spatial;\")"
   ]
  },
  {
   "cell_type": "code",
   "execution_count": null,
   "metadata": {},
   "outputs": [],
   "source": [
    "query = \"SELECT name FROM sqlite_master WHERE type='table';\"\n",
    "db.execute(query).df()"
   ]
  },
  {
   "cell_type": "code",
   "execution_count": null,
   "metadata": {},
   "outputs": [],
   "source": [
    "query = \"\"\"\n",
    "SELECT\n",
    "    * \n",
    "FROM `phl-caraga-apd.00_transform.aud_risk_buffer`\"\"\"\n",
    "\n",
    "# Read the BigQuery table into a dataframe\n",
    "aud_risk_buffer = pandas_gbq.read_gbq(query, project_id=\"phl-caraga-apd\")\n",
    "# plot_info.to_csv(PLOT_INFO_CSV, index=False)"
   ]
  },
  {
   "cell_type": "code",
   "execution_count": null,
   "metadata": {},
   "outputs": [],
   "source": [
    "aud_risk_buffer.info()"
   ]
  },
  {
   "cell_type": "code",
   "execution_count": null,
   "metadata": {},
   "outputs": [],
   "source": [
    "# aud_risk_buffer['geometry'] = aud_risk_buffer['geometry'].apply(lambda x: loads(x))\n",
    "# aud_risk_buffer = gpd.GeoDataFrame(aud_risk_buffer, geometry='geometry', crs=\"EPSG:4326\")"
   ]
  },
  {
   "cell_type": "code",
   "execution_count": null,
   "metadata": {},
   "outputs": [],
   "source": [
    "aud_risk_buffer = aud_risk_buffer.explode(index_parts=False)"
   ]
  },
  {
   "cell_type": "code",
   "execution_count": null,
   "metadata": {},
   "outputs": [],
   "source": [
    "# aud_risk_buffer = GeometryValidation(aud_risk_buffer).validate_all()"
   ]
  },
  {
   "cell_type": "code",
   "execution_count": null,
   "metadata": {},
   "outputs": [],
   "source": [
    "aud_risk_buffer[\"geometry\"] = aud_risk_buffer[\"geometry\"].apply(polygon_z_to_2d)"
   ]
  },
  {
   "cell_type": "code",
   "execution_count": null,
   "metadata": {},
   "outputs": [],
   "source": [
    "aud_risk_buffer.head()"
   ]
  },
  {
   "cell_type": "code",
   "execution_count": null,
   "metadata": {},
   "outputs": [],
   "source": [
    "aud_risk_buffer_df = aud_risk_buffer.copy()\n",
    "aud_risk_buffer_df[\"geometry\"] = aud_risk_buffer_df[\"geometry\"].to_wkt()"
   ]
  },
  {
   "cell_type": "code",
   "execution_count": null,
   "metadata": {},
   "outputs": [],
   "source": [
    "query = \"\"\"\n",
    "CREATE OR REPLACE TABLE aud_buffer AS\n",
    "SELECT\n",
    "    aud_clipping_layer,\n",
    "    ST_GeomFromText(geometry) as geometry\n",
    "FROM aud_risk_buffer_df\n",
    "\"\"\""
   ]
  },
  {
   "cell_type": "code",
   "execution_count": null,
   "metadata": {},
   "outputs": [],
   "source": [
    "db.execute(query)"
   ]
  },
  {
   "cell_type": "code",
   "execution_count": null,
   "metadata": {},
   "outputs": [],
   "source": [
    "query = \"\"\"\n",
    "CREATE OR REPLACE TABLE aud_adjusted AS\n",
    "SELECT \n",
    "    activity_area.CADT,\n",
    "    activity_area.ELI_TYPE,\n",
    "    ST_AsText(ST_difference(activity_area.geometry, aud_buffer.geometry)) as geometry\n",
    "FROM activity_area, aud_buffer\n",
    "WHERE activity_area.ELI_TYPE = 'AUD'\n",
    "\"\"\""
   ]
  },
  {
   "cell_type": "code",
   "execution_count": null,
   "metadata": {},
   "outputs": [],
   "source": [
    "db.execute(query)"
   ]
  },
  {
   "cell_type": "code",
   "execution_count": null,
   "metadata": {},
   "outputs": [],
   "source": [
    "query = \"\"\" \n",
    "SELECT \n",
    "    SUM(ST_Area(geometry))/10000 as area_ha\n",
    "FROM \n",
    "    activity_area\n",
    "WHERE ELI_TYPE = 'AUD'\n",
    "\"\"\""
   ]
  },
  {
   "cell_type": "code",
   "execution_count": null,
   "metadata": {},
   "outputs": [],
   "source": [
    "db.execute(query).df()"
   ]
  },
  {
   "cell_type": "code",
   "execution_count": null,
   "metadata": {},
   "outputs": [],
   "source": [
    "query = \"\"\"\n",
    "SELECT \n",
    "    activity_area.CADT,\n",
    "    activity_area.ELI_TYPE,\n",
    "    lcc_cadt.lcc_type,\n",
    "    ST_AsText(ST_Intersection(activity_area.geometry, lcc_cadt.geometry)) as geometry\n",
    "FROM activity_area\n",
    "JOIN lcc_cadt ON ST_Intersects(lcc_cadt.geometry, activity_area.geometry)\n",
    "WHERE activity_area.ELI_TYPE = 'AUD'\n",
    "\"\"\""
   ]
  },
  {
   "cell_type": "code",
   "execution_count": null,
   "metadata": {},
   "outputs": [],
   "source": [
    "aud_lcc = db.execute(query).df()"
   ]
  },
  {
   "cell_type": "code",
   "execution_count": null,
   "metadata": {},
   "outputs": [],
   "source": [
    "aud_lcc[\"geometry\"] = aud_lcc[\"geometry\"].apply(lambda x: loads(x))\n",
    "aud_lcc = gpd.GeoDataFrame(aud_lcc, geometry=\"geometry\", crs=\"EPSG:4326\")"
   ]
  },
  {
   "cell_type": "code",
   "execution_count": null,
   "metadata": {},
   "outputs": [],
   "source": [
    "aud_lcc.to_file(TMP_OUT_DIR / \"aud_lcc.gpkg\")"
   ]
  },
  {
   "cell_type": "code",
   "execution_count": null,
   "metadata": {},
   "outputs": [],
   "source": [
    "query = \"\"\"\n",
    "SELECT\n",
    "    aud_clipping_layer,\n",
    "    ST_AsText(geometry) as geometry\n",
    "FROM aud_buffer\n",
    "\"\"\""
   ]
  },
  {
   "cell_type": "code",
   "execution_count": null,
   "metadata": {},
   "outputs": [],
   "source": [
    "aud_buffer = db.execute(query).df()"
   ]
  },
  {
   "cell_type": "code",
   "execution_count": null,
   "metadata": {},
   "outputs": [],
   "source": [
    "aud_buffer[\"geometry\"] = aud_buffer[\"geometry\"].apply(lambda x: loads(x))\n",
    "aud_buffer = gpd.GeoDataFrame(aud_buffer, geometry=\"geometry\", crs=\"EPSG:4326\")"
   ]
  },
  {
   "cell_type": "code",
   "execution_count": null,
   "metadata": {},
   "outputs": [],
   "source": [
    "aud_risk_buffer.to_file(TMP_OUT_DIR / \"aud_buffer.gpkg\")"
   ]
  },
  {
   "cell_type": "code",
   "execution_count": null,
   "metadata": {},
   "outputs": [],
   "source": [
    "aud_risk_buffer = gpd.read_file(TMP_OUT_DIR / \"aud_buffer.gpkg\")"
   ]
  },
  {
   "cell_type": "code",
   "execution_count": null,
   "metadata": {},
   "outputs": [
    {
     "data": {
      "text/plain": [
       "array(['Polygon'], dtype=object)"
      ]
     },
     "execution_count": 158,
     "metadata": {},
     "output_type": "execute_result"
    }
   ],
   "source": [
    "aud_risk_buffer.geometry.type.unique()"
   ]
  },
  {
   "cell_type": "code",
   "execution_count": null,
   "metadata": {},
   "outputs": [],
   "source": [
    "aud_risk_buffer = aud_risk_buffer.explode(index_parts=False)"
   ]
  },
  {
   "cell_type": "code",
   "execution_count": null,
   "metadata": {},
   "outputs": [],
   "source": [
    "aud_risk_buffer = GeometryValidation(aud_risk_buffer).validate_all()"
   ]
  },
  {
   "cell_type": "code",
   "execution_count": null,
   "metadata": {},
   "outputs": [
    {
     "data": {
      "text/plain": [
       "<Geographic 2D CRS: EPSG:4326>\n",
       "Name: WGS 84\n",
       "Axis Info [ellipsoidal]:\n",
       "- Lat[north]: Geodetic latitude (degree)\n",
       "- Lon[east]: Geodetic longitude (degree)\n",
       "Area of Use:\n",
       "- name: World.\n",
       "- bounds: (-180.0, -90.0, 180.0, 90.0)\n",
       "Datum: World Geodetic System 1984 ensemble\n",
       "- Ellipsoid: WGS 84\n",
       "- Prime Meridian: Greenwich"
      ]
     },
     "execution_count": 57,
     "metadata": {},
     "output_type": "execute_result"
    }
   ],
   "source": [
    "lcc_cadt"
   ]
  },
  {
   "cell_type": "code",
   "execution_count": null,
   "metadata": {},
   "outputs": [
    {
     "data": {
      "text/plain": [
       "<Geographic 2D CRS: EPSG:4326>\n",
       "Name: WGS 84\n",
       "Axis Info [ellipsoidal]:\n",
       "- Lat[north]: Geodetic latitude (degree)\n",
       "- Lon[east]: Geodetic longitude (degree)\n",
       "Area of Use:\n",
       "- name: World.\n",
       "- bounds: (-180.0, -90.0, 180.0, 90.0)\n",
       "Datum: World Geodetic System 1984 ensemble\n",
       "- Ellipsoid: WGS 84\n",
       "- Prime Meridian: Greenwich"
      ]
     },
     "execution_count": 58,
     "metadata": {},
     "output_type": "execute_result"
    }
   ],
   "source": [
    "activity_area_gdf"
   ]
  },
  {
   "cell_type": "code",
   "execution_count": null,
   "metadata": {},
   "outputs": [],
   "source": [
    "intersection = gpd.overlay(activity_area_gdf, lcc_cadt, how=\"intersection\")"
   ]
  },
  {
   "cell_type": "code",
   "execution_count": null,
   "metadata": {},
   "outputs": [
    {
     "data": {
      "text/plain": [
       "Index(['CADT', 'ELI_TYPE', 'is_not_null_1', 'is_not_self_intersecting_1',\n",
       "       'is_oriented_properly_1', 'is_within_crs_bounds_1',\n",
       "       'area_is_not_zero_1', 'DN', 'is_not_null_2',\n",
       "       'is_not_self_intersecting_2', 'is_oriented_properly_2',\n",
       "       'is_within_crs_bounds_2', 'area_is_not_zero_2', 'geometry'],\n",
       "      dtype='object')"
      ]
     },
     "execution_count": 61,
     "metadata": {},
     "output_type": "execute_result"
    }
   ],
   "source": [
    "intersection.columns"
   ]
  },
  {
   "cell_type": "code",
   "execution_count": null,
   "metadata": {},
   "outputs": [],
   "source": [
    "intersection_subset = intersection[[\"CADT\", \"ELI_TYPE\", \"DN\", \"geometry\"]].copy()"
   ]
  },
  {
   "cell_type": "code",
   "execution_count": null,
   "metadata": {},
   "outputs": [],
   "source": [
    "intersection_subset[\"area_ha\"] = intersection_subset.to_crs(\"EPSG:3123\").area / 10_000"
   ]
  },
  {
   "cell_type": "code",
   "execution_count": null,
   "metadata": {},
   "outputs": [
    {
     "data": {
      "text/html": [
       "<div>\n",
       "<style scoped>\n",
       "    .dataframe tbody tr th:only-of-type {\n",
       "        vertical-align: middle;\n",
       "    }\n",
       "\n",
       "    .dataframe tbody tr th {\n",
       "        vertical-align: top;\n",
       "    }\n",
       "\n",
       "    .dataframe thead th {\n",
       "        text-align: right;\n",
       "    }\n",
       "</style>\n",
       "<table border=\"1\" class=\"dataframe\">\n",
       "  <thead>\n",
       "    <tr style=\"text-align: right;\">\n",
       "      <th></th>\n",
       "      <th>ELI_TYPE</th>\n",
       "      <th>DN</th>\n",
       "      <th>area_ha</th>\n",
       "    </tr>\n",
       "  </thead>\n",
       "  <tbody>\n",
       "    <tr>\n",
       "      <th>0</th>\n",
       "      <td>APD</td>\n",
       "      <td>1</td>\n",
       "      <td>77484.270555</td>\n",
       "    </tr>\n",
       "    <tr>\n",
       "      <th>1</th>\n",
       "      <td>APD</td>\n",
       "      <td>4</td>\n",
       "      <td>8352.383667</td>\n",
       "    </tr>\n",
       "    <tr>\n",
       "      <th>2</th>\n",
       "      <td>ARR</td>\n",
       "      <td>1</td>\n",
       "      <td>20376.120785</td>\n",
       "    </tr>\n",
       "    <tr>\n",
       "      <th>3</th>\n",
       "      <td>ARR</td>\n",
       "      <td>4</td>\n",
       "      <td>6117.535770</td>\n",
       "    </tr>\n",
       "    <tr>\n",
       "      <th>4</th>\n",
       "      <td>AUD</td>\n",
       "      <td>1</td>\n",
       "      <td>84435.550595</td>\n",
       "    </tr>\n",
       "    <tr>\n",
       "      <th>5</th>\n",
       "      <td>AUD</td>\n",
       "      <td>4</td>\n",
       "      <td>6498.570408</td>\n",
       "    </tr>\n",
       "    <tr>\n",
       "      <th>6</th>\n",
       "      <td>NOT ELIGIBLE</td>\n",
       "      <td>1</td>\n",
       "      <td>65022.450176</td>\n",
       "    </tr>\n",
       "    <tr>\n",
       "      <th>7</th>\n",
       "      <td>NOT ELIGIBLE</td>\n",
       "      <td>4</td>\n",
       "      <td>9711.503304</td>\n",
       "    </tr>\n",
       "  </tbody>\n",
       "</table>\n",
       "</div>"
      ],
      "text/plain": [
       "       ELI_TYPE  DN       area_ha\n",
       "0           APD   1  77484.270555\n",
       "1           APD   4   8352.383667\n",
       "2           ARR   1  20376.120785\n",
       "3           ARR   4   6117.535770\n",
       "4           AUD   1  84435.550595\n",
       "5           AUD   4   6498.570408\n",
       "6  NOT ELIGIBLE   1  65022.450176\n",
       "7  NOT ELIGIBLE   4   9711.503304"
      ]
     },
     "execution_count": 71,
     "metadata": {},
     "output_type": "execute_result"
    }
   ],
   "source": [
    "intersection_subset.loc[intersection_subset.DN.isin([1, 4])].groupby(\n",
    "    [\"ELI_TYPE\", \"DN\"]\n",
    ")[\"area_ha\"].sum().reset_index()"
   ]
  },
  {
   "cell_type": "code",
   "execution_count": null,
   "metadata": {},
   "outputs": [
    {
     "data": {
      "text/plain": [
       "85836.65000000001"
      ]
     },
     "execution_count": 93,
     "metadata": {},
     "output_type": "execute_result"
    }
   ],
   "source": [
    "8352.38 + 77484.27"
   ]
  },
  {
   "cell_type": "code",
   "execution_count": null,
   "metadata": {},
   "outputs": [],
   "source": [
    "intersection_subset.to_file(TMP_OUT_DIR / \"lcc_cadt.gpkg\")"
   ]
  },
  {
   "cell_type": "code",
   "execution_count": null,
   "metadata": {},
   "outputs": [],
   "source": [
    "aud_subset = intersection_subset[intersection_subset[\"ELI_TYPE\"] == \"AUD\"].copy()"
   ]
  },
  {
   "cell_type": "code",
   "execution_count": null,
   "metadata": {},
   "outputs": [],
   "source": [
    "aud_buffered = gpd.overlay(\n",
    "    aud_subset, aud_risk_buffer, how=\"difference\", keep_geom_type=False, make_valid=True\n",
    ")"
   ]
  },
  {
   "cell_type": "code",
   "execution_count": null,
   "metadata": {},
   "outputs": [],
   "source": [
    "aud_buffered.plot()"
   ]
  },
  {
   "cell_type": "code",
   "execution_count": null,
   "metadata": {},
   "outputs": [],
   "source": [
    "aud_buffered[\"area_ha\"] = aud_buffered.to_crs(\"EPSG:3123\").area / 10_000"
   ]
  },
  {
   "cell_type": "code",
   "execution_count": null,
   "metadata": {},
   "outputs": [
    {
     "data": {
      "text/html": [
       "<div>\n",
       "<style scoped>\n",
       "    .dataframe tbody tr th:only-of-type {\n",
       "        vertical-align: middle;\n",
       "    }\n",
       "\n",
       "    .dataframe tbody tr th {\n",
       "        vertical-align: top;\n",
       "    }\n",
       "\n",
       "    .dataframe thead th {\n",
       "        text-align: right;\n",
       "    }\n",
       "</style>\n",
       "<table border=\"1\" class=\"dataframe\">\n",
       "  <thead>\n",
       "    <tr style=\"text-align: right;\">\n",
       "      <th></th>\n",
       "      <th>ELI_TYPE</th>\n",
       "      <th>DN</th>\n",
       "      <th>area_ha</th>\n",
       "    </tr>\n",
       "  </thead>\n",
       "  <tbody>\n",
       "    <tr>\n",
       "      <th>0</th>\n",
       "      <td>AUD</td>\n",
       "      <td>1</td>\n",
       "      <td>32114.017886</td>\n",
       "    </tr>\n",
       "    <tr>\n",
       "      <th>1</th>\n",
       "      <td>AUD</td>\n",
       "      <td>4</td>\n",
       "      <td>1980.082207</td>\n",
       "    </tr>\n",
       "  </tbody>\n",
       "</table>\n",
       "</div>"
      ],
      "text/plain": [
       "  ELI_TYPE  DN       area_ha\n",
       "0      AUD   1  32114.017886\n",
       "1      AUD   4   1980.082207"
      ]
     },
     "execution_count": 89,
     "metadata": {},
     "output_type": "execute_result"
    }
   ],
   "source": [
    "aud_buffered.loc[aud_buffered.DN.isin([1, 4])].groupby([\"ELI_TYPE\", \"DN\"])[\n",
    "    \"area_ha\"\n",
    "].sum().reset_index()"
   ]
  },
  {
   "cell_type": "code",
   "execution_count": null,
   "metadata": {},
   "outputs": [
    {
     "data": {
      "text/plain": [
       "34094.09"
      ]
     },
     "execution_count": 192,
     "metadata": {},
     "output_type": "execute_result"
    }
   ],
   "source": [
    "1980.08 + 32114.01"
   ]
  },
  {
   "cell_type": "code",
   "execution_count": null,
   "metadata": {},
   "outputs": [
    {
     "data": {
      "text/plain": [
       "np.float64(94891.67981865711)"
      ]
     },
     "execution_count": 94,
     "metadata": {},
     "output_type": "execute_result"
    }
   ],
   "source": [
    "activity_area_gdf.loc[activity_area_gdf.ELI_TYPE == \"AUD\"].to_crs(\n",
    "    \"EPSG:3123\"\n",
    ").area.sum() / 10_000"
   ]
  },
  {
   "cell_type": "code",
   "execution_count": null,
   "metadata": {},
   "outputs": [],
   "source": [
    "lcc_252 = gpd.read_file(TMP_OUT_DIR / \"lcc_252.gpkg\")"
   ]
  },
  {
   "cell_type": "code",
   "execution_count": null,
   "metadata": {},
   "outputs": [],
   "source": [
    "lcc_252_forest = lcc_252.loc[lcc_252[\"DN\"].isin([1, 4])].copy()"
   ]
  },
  {
   "cell_type": "code",
   "execution_count": null,
   "metadata": {},
   "outputs": [],
   "source": [
    "cadt252_lcc = gpd.overlay(cadt_252, lcc_252_forest, how=\"intersection\", make_valid=True)"
   ]
  },
  {
   "cell_type": "code",
   "execution_count": null,
   "metadata": {},
   "outputs": [],
   "source": [
    "cadt252_lcc[\"area_ha\"] = cadt252_lcc.to_crs(\"EPSG:3123\").area / 10_000"
   ]
  },
  {
   "cell_type": "code",
   "execution_count": null,
   "metadata": {},
   "outputs": [
    {
     "data": {
      "text/html": [
       "<div>\n",
       "<style scoped>\n",
       "    .dataframe tbody tr th:only-of-type {\n",
       "        vertical-align: middle;\n",
       "    }\n",
       "\n",
       "    .dataframe tbody tr th {\n",
       "        vertical-align: top;\n",
       "    }\n",
       "\n",
       "    .dataframe thead th {\n",
       "        text-align: right;\n",
       "    }\n",
       "</style>\n",
       "<table border=\"1\" class=\"dataframe\">\n",
       "  <thead>\n",
       "    <tr style=\"text-align: right;\">\n",
       "      <th></th>\n",
       "      <th>ELI_TYPE</th>\n",
       "      <th>DN</th>\n",
       "      <th>area_ha</th>\n",
       "    </tr>\n",
       "  </thead>\n",
       "  <tbody>\n",
       "    <tr>\n",
       "      <th>0</th>\n",
       "      <td>APD</td>\n",
       "      <td>1</td>\n",
       "      <td>4968.133207</td>\n",
       "    </tr>\n",
       "    <tr>\n",
       "      <th>1</th>\n",
       "      <td>APD</td>\n",
       "      <td>4</td>\n",
       "      <td>1643.502888</td>\n",
       "    </tr>\n",
       "    <tr>\n",
       "      <th>2</th>\n",
       "      <td>ARR</td>\n",
       "      <td>1</td>\n",
       "      <td>380.947218</td>\n",
       "    </tr>\n",
       "    <tr>\n",
       "      <th>3</th>\n",
       "      <td>ARR</td>\n",
       "      <td>4</td>\n",
       "      <td>415.760852</td>\n",
       "    </tr>\n",
       "    <tr>\n",
       "      <th>4</th>\n",
       "      <td>AUD</td>\n",
       "      <td>1</td>\n",
       "      <td>6307.349049</td>\n",
       "    </tr>\n",
       "    <tr>\n",
       "      <th>5</th>\n",
       "      <td>AUD</td>\n",
       "      <td>4</td>\n",
       "      <td>1300.052391</td>\n",
       "    </tr>\n",
       "    <tr>\n",
       "      <th>6</th>\n",
       "      <td>NOT ELIGIBLE</td>\n",
       "      <td>1</td>\n",
       "      <td>3475.232530</td>\n",
       "    </tr>\n",
       "    <tr>\n",
       "      <th>7</th>\n",
       "      <td>NOT ELIGIBLE</td>\n",
       "      <td>4</td>\n",
       "      <td>1423.331510</td>\n",
       "    </tr>\n",
       "  </tbody>\n",
       "</table>\n",
       "</div>"
      ],
      "text/plain": [
       "       ELI_TYPE  DN      area_ha\n",
       "0           APD   1  4968.133207\n",
       "1           APD   4  1643.502888\n",
       "2           ARR   1   380.947218\n",
       "3           ARR   4   415.760852\n",
       "4           AUD   1  6307.349049\n",
       "5           AUD   4  1300.052391\n",
       "6  NOT ELIGIBLE   1  3475.232530\n",
       "7  NOT ELIGIBLE   4  1423.331510"
      ]
     },
     "execution_count": 189,
     "metadata": {},
     "output_type": "execute_result"
    }
   ],
   "source": [
    "cadt252_lcc.loc[cadt252_lcc.DN.isin([1, 4])].groupby([\"ELI_TYPE\", \"DN\"])[\n",
    "    \"area_ha\"\n",
    "].sum().reset_index()"
   ]
  },
  {
   "cell_type": "code",
   "execution_count": null,
   "metadata": {},
   "outputs": [],
   "source": [
    "cadt_252[\"area_ha\"] = cadt_252.to_crs(\"EPSG:3123\").area / 10_000"
   ]
  },
  {
   "cell_type": "code",
   "execution_count": null,
   "metadata": {},
   "outputs": [
    {
     "data": {
      "text/plain": [
       "92421.28"
      ]
     },
     "execution_count": 182,
     "metadata": {},
     "output_type": "execute_result"
    }
   ],
   "source": [
    "8325.38 + 4968.13 + 79127.77"
   ]
  },
  {
   "cell_type": "code",
   "execution_count": null,
   "metadata": {},
   "outputs": [
    {
     "data": {
      "text/plain": [
       "ELI_TYPE\n",
       "APD              8224.238482\n",
       "ARR              8587.390964\n",
       "AUD              7812.618926\n",
       "NOT ELIGIBLE    22250.186604\n",
       "Name: area_ha, dtype: float64"
      ]
     },
     "execution_count": 178,
     "metadata": {},
     "output_type": "execute_result"
    }
   ],
   "source": [
    "cadt_252.groupby(\"ELI_TYPE\")[\"area_ha\"].sum()"
   ]
  },
  {
   "cell_type": "code",
   "execution_count": null,
   "metadata": {},
   "outputs": [],
   "source": [
    "activity_area_gdf[\"area_ha\"] = activity_area_gdf.to_crs(\"EPSG:3123\").area / 10_000"
   ]
  },
  {
   "cell_type": "code",
   "execution_count": null,
   "metadata": {},
   "outputs": [
    {
     "data": {
      "text/plain": [
       "ELI_TYPE\n",
       "APD             100603.234714\n",
       "ARR              50878.591418\n",
       "AUD             102704.298745\n",
       "NOT ELIGIBLE    145767.442535\n",
       "Name: area_ha, dtype: float64"
      ]
     },
     "execution_count": 187,
     "metadata": {},
     "output_type": "execute_result"
    }
   ],
   "source": [
    "activity_area_gdf.groupby(\"ELI_TYPE\")[\"area_ha\"].sum()"
   ]
  },
  {
   "cell_type": "code",
   "execution_count": null,
   "metadata": {},
   "outputs": [],
   "source": [
    "aud_subset_252 = cadt252_lcc[cadt252_lcc[\"ELI_TYPE\"] == \"AUD\"].copy()"
   ]
  },
  {
   "cell_type": "code",
   "execution_count": null,
   "metadata": {},
   "outputs": [],
   "source": [
    "aud_subset_252.plot()"
   ]
  },
  {
   "cell_type": "code",
   "execution_count": null,
   "metadata": {},
   "outputs": [],
   "source": [
    "aud_risk_buffer.plot()"
   ]
  },
  {
   "cell_type": "code",
   "execution_count": null,
   "metadata": {},
   "outputs": [],
   "source": [
    "aud_buffered_252 = gpd.overlay(\n",
    "    aud_subset_252,\n",
    "    aud_risk_buffer,\n",
    "    how=\"difference\",\n",
    "    keep_geom_type=False,\n",
    "    make_valid=True,\n",
    ")"
   ]
  },
  {
   "cell_type": "code",
   "execution_count": null,
   "metadata": {},
   "outputs": [],
   "source": [
    "aud_buffered_252.plot()"
   ]
  },
  {
   "cell_type": "code",
   "execution_count": null,
   "metadata": {},
   "outputs": [
    {
     "data": {
      "text/html": [
       "<div>\n",
       "<style scoped>\n",
       "    .dataframe tbody tr th:only-of-type {\n",
       "        vertical-align: middle;\n",
       "    }\n",
       "\n",
       "    .dataframe tbody tr th {\n",
       "        vertical-align: top;\n",
       "    }\n",
       "\n",
       "    .dataframe thead th {\n",
       "        text-align: right;\n",
       "    }\n",
       "</style>\n",
       "<table border=\"1\" class=\"dataframe\">\n",
       "  <thead>\n",
       "    <tr style=\"text-align: right;\">\n",
       "      <th></th>\n",
       "      <th>CADT</th>\n",
       "      <th>ELI_TYPE</th>\n",
       "      <th>DN</th>\n",
       "      <th>geometry</th>\n",
       "      <th>area_ha</th>\n",
       "    </tr>\n",
       "  </thead>\n",
       "  <tbody>\n",
       "    <tr>\n",
       "      <th>0</th>\n",
       "      <td>252.0</td>\n",
       "      <td>AUD</td>\n",
       "      <td>1</td>\n",
       "      <td>POLYGON ((125.26953 8.89251, 125.26950 8.89251...</td>\n",
       "      <td>9.867983e-03</td>\n",
       "    </tr>\n",
       "    <tr>\n",
       "      <th>1</th>\n",
       "      <td>252.0</td>\n",
       "      <td>AUD</td>\n",
       "      <td>4</td>\n",
       "      <td>MULTIPOLYGON (((125.26944 8.89229, 125.26944 8...</td>\n",
       "      <td>1.438505e-01</td>\n",
       "    </tr>\n",
       "    <tr>\n",
       "      <th>2</th>\n",
       "      <td>252.0</td>\n",
       "      <td>AUD</td>\n",
       "      <td>4</td>\n",
       "      <td>MULTIPOLYGON (((125.26827 8.89341, 125.26827 8...</td>\n",
       "      <td>2.960467e-02</td>\n",
       "    </tr>\n",
       "    <tr>\n",
       "      <th>3</th>\n",
       "      <td>252.0</td>\n",
       "      <td>AUD</td>\n",
       "      <td>1</td>\n",
       "      <td>MULTIPOLYGON (((125.26818 8.89350, 125.26818 8...</td>\n",
       "      <td>5.515033e-03</td>\n",
       "    </tr>\n",
       "    <tr>\n",
       "      <th>4</th>\n",
       "      <td>252.0</td>\n",
       "      <td>AUD</td>\n",
       "      <td>4</td>\n",
       "      <td>POLYGON ((125.26818 8.89359, 125.26818 8.89359...</td>\n",
       "      <td>7.075380e-07</td>\n",
       "    </tr>\n",
       "    <tr>\n",
       "      <th>...</th>\n",
       "      <td>...</td>\n",
       "      <td>...</td>\n",
       "      <td>...</td>\n",
       "      <td>...</td>\n",
       "      <td>...</td>\n",
       "    </tr>\n",
       "    <tr>\n",
       "      <th>1177</th>\n",
       "      <td>252.0</td>\n",
       "      <td>AUD</td>\n",
       "      <td>1</td>\n",
       "      <td>POLYGON ((125.37211 8.85757, 125.37203 8.85757...</td>\n",
       "      <td>4.936266e-02</td>\n",
       "    </tr>\n",
       "    <tr>\n",
       "      <th>1178</th>\n",
       "      <td>252.0</td>\n",
       "      <td>AUD</td>\n",
       "      <td>1</td>\n",
       "      <td>MULTIPOLYGON (((125.36825 8.85541, 125.36825 8...</td>\n",
       "      <td>1.756797e-02</td>\n",
       "    </tr>\n",
       "    <tr>\n",
       "      <th>1179</th>\n",
       "      <td>252.0</td>\n",
       "      <td>AUD</td>\n",
       "      <td>4</td>\n",
       "      <td>POLYGON ((125.29935 8.84176, 125.29935 8.84167...</td>\n",
       "      <td>2.218774e-06</td>\n",
       "    </tr>\n",
       "    <tr>\n",
       "      <th>1180</th>\n",
       "      <td>252.0</td>\n",
       "      <td>AUD</td>\n",
       "      <td>1</td>\n",
       "      <td>MULTIPOLYGON (((125.37463 8.85640, 125.37463 8...</td>\n",
       "      <td>7.080696e-07</td>\n",
       "    </tr>\n",
       "    <tr>\n",
       "      <th>1181</th>\n",
       "      <td>252.0</td>\n",
       "      <td>AUD</td>\n",
       "      <td>4</td>\n",
       "      <td>MULTIPOLYGON (((125.37454 8.85640, 125.37454 8...</td>\n",
       "      <td>9.874013e-03</td>\n",
       "    </tr>\n",
       "  </tbody>\n",
       "</table>\n",
       "<p>1182 rows × 5 columns</p>\n",
       "</div>"
      ],
      "text/plain": [
       "       CADT ELI_TYPE  DN                                           geometry  \\\n",
       "0     252.0      AUD   1  POLYGON ((125.26953 8.89251, 125.26950 8.89251...   \n",
       "1     252.0      AUD   4  MULTIPOLYGON (((125.26944 8.89229, 125.26944 8...   \n",
       "2     252.0      AUD   4  MULTIPOLYGON (((125.26827 8.89341, 125.26827 8...   \n",
       "3     252.0      AUD   1  MULTIPOLYGON (((125.26818 8.89350, 125.26818 8...   \n",
       "4     252.0      AUD   4  POLYGON ((125.26818 8.89359, 125.26818 8.89359...   \n",
       "...     ...      ...  ..                                                ...   \n",
       "1177  252.0      AUD   1  POLYGON ((125.37211 8.85757, 125.37203 8.85757...   \n",
       "1178  252.0      AUD   1  MULTIPOLYGON (((125.36825 8.85541, 125.36825 8...   \n",
       "1179  252.0      AUD   4  POLYGON ((125.29935 8.84176, 125.29935 8.84167...   \n",
       "1180  252.0      AUD   1  MULTIPOLYGON (((125.37463 8.85640, 125.37463 8...   \n",
       "1181  252.0      AUD   4  MULTIPOLYGON (((125.37454 8.85640, 125.37454 8...   \n",
       "\n",
       "           area_ha  \n",
       "0     9.867983e-03  \n",
       "1     1.438505e-01  \n",
       "2     2.960467e-02  \n",
       "3     5.515033e-03  \n",
       "4     7.075380e-07  \n",
       "...            ...  \n",
       "1177  4.936266e-02  \n",
       "1178  1.756797e-02  \n",
       "1179  2.218774e-06  \n",
       "1180  7.080696e-07  \n",
       "1181  9.874013e-03  \n",
       "\n",
       "[1182 rows x 5 columns]"
      ]
     },
     "execution_count": 170,
     "metadata": {},
     "output_type": "execute_result"
    }
   ],
   "source": [
    "aud_buffered_252"
   ]
  },
  {
   "cell_type": "code",
   "execution_count": null,
   "metadata": {},
   "outputs": [
    {
     "data": {
      "text/html": [
       "<div>\n",
       "<style scoped>\n",
       "    .dataframe tbody tr th:only-of-type {\n",
       "        vertical-align: middle;\n",
       "    }\n",
       "\n",
       "    .dataframe tbody tr th {\n",
       "        vertical-align: top;\n",
       "    }\n",
       "\n",
       "    .dataframe thead th {\n",
       "        text-align: right;\n",
       "    }\n",
       "</style>\n",
       "<table border=\"1\" class=\"dataframe\">\n",
       "  <thead>\n",
       "    <tr style=\"text-align: right;\">\n",
       "      <th></th>\n",
       "      <th>aud_clipping_layer</th>\n",
       "      <th>geometry</th>\n",
       "      <th>is_not_null</th>\n",
       "      <th>is_not_self_intersecting</th>\n",
       "      <th>is_oriented_properly</th>\n",
       "      <th>is_within_crs_bounds</th>\n",
       "      <th>area_is_not_zero</th>\n",
       "    </tr>\n",
       "  </thead>\n",
       "  <tbody>\n",
       "    <tr>\n",
       "      <th>0</th>\n",
       "      <td>aud_risk_CADT_No_002</td>\n",
       "      <td>POLYGON ((125.94515 9.08906, 125.94515 9.08897...</td>\n",
       "      <td>True</td>\n",
       "      <td>True</td>\n",
       "      <td>True</td>\n",
       "      <td>True</td>\n",
       "      <td>True</td>\n",
       "    </tr>\n",
       "    <tr>\n",
       "      <th>1</th>\n",
       "      <td>aud_risk_CADT_No_002</td>\n",
       "      <td>POLYGON ((125.98800 9.10955, 125.98809 9.10955...</td>\n",
       "      <td>True</td>\n",
       "      <td>True</td>\n",
       "      <td>True</td>\n",
       "      <td>True</td>\n",
       "      <td>True</td>\n",
       "    </tr>\n",
       "    <tr>\n",
       "      <th>2</th>\n",
       "      <td>aud_risk_CADT_No_002</td>\n",
       "      <td>POLYGON ((126.00794 9.05125, 126.00794 9.05116...</td>\n",
       "      <td>True</td>\n",
       "      <td>True</td>\n",
       "      <td>True</td>\n",
       "      <td>True</td>\n",
       "      <td>True</td>\n",
       "    </tr>\n",
       "    <tr>\n",
       "      <th>3</th>\n",
       "      <td>aud_risk_CADT_No_002</td>\n",
       "      <td>POLYGON ((126.03319 9.07343, 126.03310 9.07343...</td>\n",
       "      <td>True</td>\n",
       "      <td>True</td>\n",
       "      <td>True</td>\n",
       "      <td>True</td>\n",
       "      <td>True</td>\n",
       "    </tr>\n",
       "    <tr>\n",
       "      <th>4</th>\n",
       "      <td>aud_risk_CADT_No_002</td>\n",
       "      <td>POLYGON ((125.99411 9.07945, 125.99411 9.07954...</td>\n",
       "      <td>True</td>\n",
       "      <td>True</td>\n",
       "      <td>True</td>\n",
       "      <td>True</td>\n",
       "      <td>True</td>\n",
       "    </tr>\n",
       "    <tr>\n",
       "      <th>...</th>\n",
       "      <td>...</td>\n",
       "      <td>...</td>\n",
       "      <td>...</td>\n",
       "      <td>...</td>\n",
       "      <td>...</td>\n",
       "      <td>...</td>\n",
       "      <td>...</td>\n",
       "    </tr>\n",
       "    <tr>\n",
       "      <th>113312</th>\n",
       "      <td>aud_risk_CADT_No_256</td>\n",
       "      <td>POLYGON ((125.63694 9.05116, 125.63685 9.05116...</td>\n",
       "      <td>True</td>\n",
       "      <td>True</td>\n",
       "      <td>True</td>\n",
       "      <td>True</td>\n",
       "      <td>True</td>\n",
       "    </tr>\n",
       "    <tr>\n",
       "      <th>113313</th>\n",
       "      <td>aud_risk_CADT_No_256</td>\n",
       "      <td>POLYGON ((125.62292 9.07271, 125.62292 9.07263...</td>\n",
       "      <td>True</td>\n",
       "      <td>True</td>\n",
       "      <td>True</td>\n",
       "      <td>True</td>\n",
       "      <td>True</td>\n",
       "    </tr>\n",
       "    <tr>\n",
       "      <th>113314</th>\n",
       "      <td>aud_risk_CADT_No_256</td>\n",
       "      <td>POLYGON ((125.64260 9.05753, 125.64260 9.05762...</td>\n",
       "      <td>True</td>\n",
       "      <td>True</td>\n",
       "      <td>True</td>\n",
       "      <td>True</td>\n",
       "      <td>True</td>\n",
       "    </tr>\n",
       "    <tr>\n",
       "      <th>113315</th>\n",
       "      <td>aud_risk_CADT_No_256</td>\n",
       "      <td>POLYGON ((125.63631 9.04442, 125.63631 9.04433...</td>\n",
       "      <td>True</td>\n",
       "      <td>True</td>\n",
       "      <td>True</td>\n",
       "      <td>True</td>\n",
       "      <td>True</td>\n",
       "    </tr>\n",
       "    <tr>\n",
       "      <th>113316</th>\n",
       "      <td>aud_risk_CADT_No_256</td>\n",
       "      <td>POLYGON ((125.61493 9.08529, 125.61484 9.08529...</td>\n",
       "      <td>True</td>\n",
       "      <td>True</td>\n",
       "      <td>True</td>\n",
       "      <td>True</td>\n",
       "      <td>True</td>\n",
       "    </tr>\n",
       "  </tbody>\n",
       "</table>\n",
       "<p>121263 rows × 7 columns</p>\n",
       "</div>"
      ],
      "text/plain": [
       "          aud_clipping_layer  \\\n",
       "0       aud_risk_CADT_No_002   \n",
       "1       aud_risk_CADT_No_002   \n",
       "2       aud_risk_CADT_No_002   \n",
       "3       aud_risk_CADT_No_002   \n",
       "4       aud_risk_CADT_No_002   \n",
       "...                      ...   \n",
       "113312  aud_risk_CADT_No_256   \n",
       "113313  aud_risk_CADT_No_256   \n",
       "113314  aud_risk_CADT_No_256   \n",
       "113315  aud_risk_CADT_No_256   \n",
       "113316  aud_risk_CADT_No_256   \n",
       "\n",
       "                                                 geometry  is_not_null  \\\n",
       "0       POLYGON ((125.94515 9.08906, 125.94515 9.08897...         True   \n",
       "1       POLYGON ((125.98800 9.10955, 125.98809 9.10955...         True   \n",
       "2       POLYGON ((126.00794 9.05125, 126.00794 9.05116...         True   \n",
       "3       POLYGON ((126.03319 9.07343, 126.03310 9.07343...         True   \n",
       "4       POLYGON ((125.99411 9.07945, 125.99411 9.07954...         True   \n",
       "...                                                   ...          ...   \n",
       "113312  POLYGON ((125.63694 9.05116, 125.63685 9.05116...         True   \n",
       "113313  POLYGON ((125.62292 9.07271, 125.62292 9.07263...         True   \n",
       "113314  POLYGON ((125.64260 9.05753, 125.64260 9.05762...         True   \n",
       "113315  POLYGON ((125.63631 9.04442, 125.63631 9.04433...         True   \n",
       "113316  POLYGON ((125.61493 9.08529, 125.61484 9.08529...         True   \n",
       "\n",
       "        is_not_self_intersecting  is_oriented_properly  is_within_crs_bounds  \\\n",
       "0                           True                  True                  True   \n",
       "1                           True                  True                  True   \n",
       "2                           True                  True                  True   \n",
       "3                           True                  True                  True   \n",
       "4                           True                  True                  True   \n",
       "...                          ...                   ...                   ...   \n",
       "113312                      True                  True                  True   \n",
       "113313                      True                  True                  True   \n",
       "113314                      True                  True                  True   \n",
       "113315                      True                  True                  True   \n",
       "113316                      True                  True                  True   \n",
       "\n",
       "        area_is_not_zero  \n",
       "0                   True  \n",
       "1                   True  \n",
       "2                   True  \n",
       "3                   True  \n",
       "4                   True  \n",
       "...                  ...  \n",
       "113312              True  \n",
       "113313              True  \n",
       "113314              True  \n",
       "113315              True  \n",
       "113316              True  \n",
       "\n",
       "[121263 rows x 7 columns]"
      ]
     },
     "execution_count": 174,
     "metadata": {},
     "output_type": "execute_result"
    }
   ],
   "source": [
    "aud_risk_buffer"
   ]
  },
  {
   "cell_type": "code",
   "execution_count": null,
   "metadata": {},
   "outputs": [],
   "source": [
    "aud_buffered_252[\"area_ha\"] = aud_buffered_252.to_crs(\"EPSG:3123\").area / 10_000"
   ]
  },
  {
   "cell_type": "code",
   "execution_count": null,
   "metadata": {},
   "outputs": [
    {
     "data": {
      "text/html": [
       "<div>\n",
       "<style scoped>\n",
       "    .dataframe tbody tr th:only-of-type {\n",
       "        vertical-align: middle;\n",
       "    }\n",
       "\n",
       "    .dataframe tbody tr th {\n",
       "        vertical-align: top;\n",
       "    }\n",
       "\n",
       "    .dataframe thead th {\n",
       "        text-align: right;\n",
       "    }\n",
       "</style>\n",
       "<table border=\"1\" class=\"dataframe\">\n",
       "  <thead>\n",
       "    <tr style=\"text-align: right;\">\n",
       "      <th></th>\n",
       "      <th>ELI_TYPE</th>\n",
       "      <th>DN</th>\n",
       "      <th>area_ha</th>\n",
       "    </tr>\n",
       "  </thead>\n",
       "  <tbody>\n",
       "    <tr>\n",
       "      <th>0</th>\n",
       "      <td>AUD</td>\n",
       "      <td>1</td>\n",
       "      <td>2.168693e-08</td>\n",
       "    </tr>\n",
       "    <tr>\n",
       "      <th>1</th>\n",
       "      <td>AUD</td>\n",
       "      <td>4</td>\n",
       "      <td>3.794391e-08</td>\n",
       "    </tr>\n",
       "  </tbody>\n",
       "</table>\n",
       "</div>"
      ],
      "text/plain": [
       "  ELI_TYPE  DN       area_ha\n",
       "0      AUD   1  2.168693e-08\n",
       "1      AUD   4  3.794391e-08"
      ]
     },
     "execution_count": 172,
     "metadata": {},
     "output_type": "execute_result"
    }
   ],
   "source": [
    "aud_buffered_252.loc[aud_buffered_252.DN.isin([1, 4])].groupby([\"ELI_TYPE\", \"DN\"])[\n",
    "    \"area_ha\"\n",
    "].sum().reset_index()"
   ]
  }
 ],
 "metadata": {
  "kernelspec": {
   "display_name": "onebase",
   "language": "python",
   "name": "python3"
  },
  "language_info": {
   "codemirror_mode": {
    "name": "ipython",
    "version": 3
   },
   "file_extension": ".py",
   "mimetype": "text/x-python",
   "name": "python",
   "nbconvert_exporter": "python",
   "pygments_lexer": "ipython3",
   "version": "3.12.4"
  }
 },
 "nbformat": 4,
 "nbformat_minor": 2
}
