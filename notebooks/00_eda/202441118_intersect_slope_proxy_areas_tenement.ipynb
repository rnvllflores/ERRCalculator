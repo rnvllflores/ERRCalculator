{
 "cells": [
  {
   "cell_type": "markdown",
   "metadata": {},
   "source": [
    "# Imports and Set-up"
   ]
  },
  {
   "cell_type": "code",
   "execution_count": null,
   "metadata": {},
   "outputs": [],
   "source": [
    "# Standard Imports\n",
    "import sys\n",
    "import pandas as pd\n",
    "import geopandas as gpd\n",
    "from shapely.wkt import loads\n",
    "from tqdm import tqdm"
   ]
  },
  {
   "cell_type": "code",
   "execution_count": null,
   "metadata": {},
   "outputs": [],
   "source": [
    "# Util imports\n",
    "sys.path.append(\"../../\")  # include parent directory\n",
    "from src.settings import GPKG_DATA_DIR, TMP_OUT_DIR\n",
    "from src.duckdb_utils import create_default_connection"
   ]
  },
  {
   "cell_type": "markdown",
   "metadata": {},
   "source": [
    "## Filepaths"
   ]
  },
  {
   "cell_type": "code",
   "execution_count": null,
   "metadata": {},
   "outputs": [],
   "source": [
    "slope_fpath = GPKG_DATA_DIR / \"reclass_slope_linework.gpkg\"\n",
    "elev_fpath = GPKG_DATA_DIR / \"caraga-davao-reclassified-elevation.gpkg\"\n",
    "strata_fpath = GPKG_DATA_DIR / \"BL-PL\" / \"caraga-davao-strata-fixed.gpkg\"\n",
    "geotype_fpath = GPKG_DATA_DIR / \"BL-PL\" / \"caraga-davao-ultramafic-rocks.gpkg\"\n",
    "proxy_fpath = GPKG_DATA_DIR / \"BL-PL\" / \"davao_CADT_mining.gpkg\"\n",
    "hrp_fpath = (\n",
    "    GPKG_DATA_DIR / \"BL-PL\" / \"caraga-davao-gee_deforestation_activity_data.gpkg\"\n",
    ")\n",
    "hrp2_fpath = (\n",
    "    GPKG_DATA_DIR\n",
    "    / \"BL-PL\"\n",
    "    / \"caraga-davao-gee_deforestation_activity_data_2nd_half_hrp.gpkg\"\n",
    ")\n",
    "output_slope_fpath = GPKG_DATA_DIR / \"davao_proxy_slope.gpkg\"\n",
    "output_elevation_fpath = GPKG_DATA_DIR / \"davao-proxy-elevation.gpkg\""
   ]
  },
  {
   "cell_type": "markdown",
   "metadata": {},
   "source": [
    "## Create/open duckdb instance"
   ]
  },
  {
   "cell_type": "code",
   "execution_count": null,
   "metadata": {},
   "outputs": [],
   "source": [
    "# Connect to the duckdb database\n",
    "db = create_default_connection(filepath=str(TMP_OUT_DIR / \"proxy_area.db\"))"
   ]
  },
  {
   "cell_type": "code",
   "execution_count": null,
   "metadata": {},
   "outputs": [],
   "source": [
    "query = \"SELECT name FROM sqlite_master WHERE type='table';\"\n",
    "db.execute(query).df()"
   ]
  },
  {
   "cell_type": "markdown",
   "metadata": {},
   "source": [
    "## Read GPKGs"
   ]
  },
  {
   "cell_type": "code",
   "execution_count": null,
   "metadata": {},
   "outputs": [],
   "source": [
    "slope_reclass = gpd.read_file(slope_fpath)\n",
    "proxy = gpd.read_file(proxy_fpath)\n",
    "elev_reclass = gpd.read_file(elev_fpath)\n",
    "geo = gpd.read_file(geotype_fpath)\n",
    "strata_gdf = gpd.read_file(strata_fpath)\n",
    "hrp = gpd.read_file(hrp_fpath)"
   ]
  },
  {
   "cell_type": "markdown",
   "metadata": {},
   "source": [
    "## Proxy Area"
   ]
  },
  {
   "cell_type": "code",
   "execution_count": null,
   "metadata": {},
   "outputs": [],
   "source": [
    "proxy.head(2)"
   ]
  },
  {
   "cell_type": "code",
   "execution_count": null,
   "metadata": {},
   "outputs": [],
   "source": [
    "proxy.shape"
   ]
  },
  {
   "cell_type": "code",
   "execution_count": null,
   "metadata": {},
   "outputs": [],
   "source": [
    "proxy.CADT_No = proxy.CADT_No.fillna(0)"
   ]
  },
  {
   "cell_type": "code",
   "execution_count": null,
   "metadata": {},
   "outputs": [],
   "source": [
    "proxy = proxy.reset_index()"
   ]
  },
  {
   "cell_type": "code",
   "execution_count": null,
   "metadata": {},
   "outputs": [],
   "source": [
    "proxy[\"uid\"] = (\n",
    "    proxy[\"index\"].astype(str)\n",
    "    + \"-\"\n",
    "    + proxy[\"CADT_No\"].astype(int).astype(str)\n",
    "    + \"-\"\n",
    "    + proxy[\"ID_CODE\"]\n",
    ")"
   ]
  },
  {
   "cell_type": "code",
   "execution_count": null,
   "metadata": {},
   "outputs": [],
   "source": [
    "proxy_df = proxy.copy()"
   ]
  },
  {
   "cell_type": "code",
   "execution_count": null,
   "metadata": {},
   "outputs": [],
   "source": [
    "proxy_df[\"geometry\"] = proxy_df[\"geometry\"].to_wkt()"
   ]
  },
  {
   "cell_type": "code",
   "execution_count": null,
   "metadata": {},
   "outputs": [],
   "source": [
    "proxy_df.columns"
   ]
  },
  {
   "cell_type": "code",
   "execution_count": null,
   "metadata": {},
   "outputs": [],
   "source": [
    "query = \"\"\"\n",
    "CREATE OR REPLACE TABLE proxy AS \n",
    "SELECT \n",
    "    uid,\n",
    "    CADT_No,\n",
    "    Davao_CADT_No,\n",
    "    HOLDER,\n",
    "    TENEMENT_N, \n",
    "    DATE_FILED, \n",
    "    DATE_APPRO, \n",
    "    COMMODITY, \n",
    "    REMARKS_2,\n",
    "    EXPIRYDATE,\n",
    "    ST_GeomFromText(geometry) as geometry FROM proxy_df\n",
    "\"\"\"\n",
    "\n",
    "db.execute(query)"
   ]
  },
  {
   "cell_type": "code",
   "execution_count": null,
   "metadata": {},
   "outputs": [],
   "source": [
    "total_area = proxy.to_crs(\"EPSG:3857\").geometry.area.sum() / 10_000"
   ]
  },
  {
   "cell_type": "code",
   "execution_count": null,
   "metadata": {},
   "outputs": [],
   "source": [
    "proxy[\"area_ha\"] = proxy.to_crs(\"EPSG:3857\").geometry.area / 10_000"
   ]
  },
  {
   "cell_type": "code",
   "execution_count": null,
   "metadata": {},
   "outputs": [],
   "source": [
    "tenement_area = proxy[[\"TENEMENT_N\", \"area_ha\"]].groupby(\"TENEMENT_N\").sum()"
   ]
  },
  {
   "cell_type": "code",
   "execution_count": null,
   "metadata": {},
   "outputs": [],
   "source": [
    "tenement_area"
   ]
  },
  {
   "cell_type": "code",
   "execution_count": null,
   "metadata": {},
   "outputs": [],
   "source": [
    "proxy.Davao_CADT_No.nunique()"
   ]
  },
  {
   "cell_type": "markdown",
   "metadata": {},
   "source": [
    "## Slope"
   ]
  },
  {
   "cell_type": "code",
   "execution_count": null,
   "metadata": {},
   "outputs": [],
   "source": [
    "slope_reclass.head(2)"
   ]
  },
  {
   "cell_type": "code",
   "execution_count": null,
   "metadata": {},
   "outputs": [],
   "source": [
    "slope_reclass_df = slope_reclass.copy()"
   ]
  },
  {
   "cell_type": "code",
   "execution_count": null,
   "metadata": {},
   "outputs": [],
   "source": [
    "slope_reclass_df[\"geometry\"] = slope_reclass_df[\"geometry\"].to_wkt()"
   ]
  },
  {
   "cell_type": "code",
   "execution_count": null,
   "metadata": {},
   "outputs": [],
   "source": [
    "query = \"\"\"\n",
    "CREATE OR REPLACE TABLE slope AS \n",
    "SELECT \n",
    "    DN,\n",
    "    ST_GeomFromText(geometry) as geometry FROM slope_reclass_df\n",
    "\"\"\"\n",
    "\n",
    "db.execute(query)"
   ]
  },
  {
   "cell_type": "code",
   "execution_count": null,
   "metadata": {},
   "outputs": [],
   "source": [
    "query = \"\"\" \n",
    "CREATE OR REPLACE TABLE proxy_slope AS \n",
    "SELECT\n",
    "    uid,\n",
    "    DN,\n",
    "    CADT_No,\n",
    "    Davao_CADT_No,\n",
    "    HOLDER,\n",
    "    TENEMENT_N, \n",
    "    DATE_FILED, \n",
    "    DATE_APPRO, \n",
    "    COMMODITY, \n",
    "    REMARKS_2,\n",
    "    EXPIRYDATE,\n",
    "    ST_INTERSECTION(proxy.geometry, slope.geometry) as geometry\n",
    "FROM\n",
    "    proxy \n",
    "JOIN \n",
    "    slope\n",
    "ON \n",
    "    ST_INTERSECTS(proxy.geometry, slope.geometry)\"\"\"\n",
    "\n",
    "db.execute(query).df()"
   ]
  },
  {
   "cell_type": "code",
   "execution_count": null,
   "metadata": {},
   "outputs": [],
   "source": [
    "query = \"\"\" \n",
    "SELECT\n",
    "   *EXCLUDE(geometry),\n",
    "   ST_astext(geometry) as geometry\n",
    "FROM\n",
    "    proxy_slope \n",
    "\"\"\"\n",
    "\n",
    "proxy_slope = db.execute(query).df()"
   ]
  },
  {
   "cell_type": "code",
   "execution_count": null,
   "metadata": {},
   "outputs": [],
   "source": [
    "proxy_slope.head()"
   ]
  },
  {
   "cell_type": "code",
   "execution_count": null,
   "metadata": {},
   "outputs": [],
   "source": [
    "proxy_slope_gdf = proxy_slope.copy()"
   ]
  },
  {
   "cell_type": "code",
   "execution_count": null,
   "metadata": {},
   "outputs": [],
   "source": [
    "proxy_slope_gdf[\"geometry\"] = proxy_slope_gdf[\"geometry\"]"
   ]
  },
  {
   "cell_type": "code",
   "execution_count": null,
   "metadata": {},
   "outputs": [],
   "source": [
    "proxy_slope_gdf[\"geometry\"] = proxy_slope_gdf[\"geometry\"].apply(lambda x: loads(x))\n",
    "proxy_slope_gdf = gpd.GeoDataFrame(\n",
    "    proxy_slope_gdf, geometry=\"geometry\", crs=\"EPSG:4326\"\n",
    ")"
   ]
  },
  {
   "cell_type": "code",
   "execution_count": null,
   "metadata": {},
   "outputs": [],
   "source": [
    "proxy_slope_gdf.to_crs(\"EPSG:3857\", inplace=True)"
   ]
  },
  {
   "cell_type": "code",
   "execution_count": null,
   "metadata": {},
   "outputs": [],
   "source": [
    "proxy_slope_gdf[\"area_ha\"] = proxy_slope_gdf.geometry.area / 10_000"
   ]
  },
  {
   "cell_type": "code",
   "execution_count": null,
   "metadata": {},
   "outputs": [],
   "source": [
    "slope_profile = (\n",
    "    proxy_slope_gdf[[\"TENEMENT_N\", \"DN\", \"area_ha\"]].groupby([\"DN\", \"TENEMENT_N\"]).sum()\n",
    ")"
   ]
  },
  {
   "cell_type": "code",
   "execution_count": null,
   "metadata": {},
   "outputs": [],
   "source": [
    "slope_profile_mng = slope_profile.join(tenement_area, lsuffix=\"_slope\")"
   ]
  },
  {
   "cell_type": "code",
   "execution_count": null,
   "metadata": {},
   "outputs": [],
   "source": [
    "slope_profile_mng[\"perc\"] = (\n",
    "    slope_profile[\"area_ha\"] / slope_profile_mng[\"area_ha\"]\n",
    ") * 100"
   ]
  },
  {
   "cell_type": "code",
   "execution_count": null,
   "metadata": {},
   "outputs": [],
   "source": [
    "slope_profile_mng.reset_index(inplace=True)\n",
    "slope_profile_mng.set_index(\"TENEMENT_N\", inplace=True)"
   ]
  },
  {
   "cell_type": "code",
   "execution_count": null,
   "metadata": {},
   "outputs": [],
   "source": [
    "slope_profile_mng.rename(columns={\"DN\": \"slope_dn\"}, inplace=True)"
   ]
  },
  {
   "cell_type": "code",
   "execution_count": null,
   "metadata": {},
   "outputs": [],
   "source": [
    "slope_profile_mng.reset_index(inplace=True)"
   ]
  },
  {
   "cell_type": "code",
   "execution_count": null,
   "metadata": {},
   "outputs": [],
   "source": [
    "slope_profile_mng = (\n",
    "    slope_profile_mng.pivot(index=\"TENEMENT_N\", columns=\"slope_dn\", values=\"perc\")\n",
    "    .fillna(0)\n",
    "    .reset_index()\n",
    ")"
   ]
  },
  {
   "cell_type": "code",
   "execution_count": null,
   "metadata": {},
   "outputs": [],
   "source": [
    "slope_profile_mng"
   ]
  },
  {
   "cell_type": "markdown",
   "metadata": {},
   "source": [
    "## Elevation"
   ]
  },
  {
   "cell_type": "code",
   "execution_count": null,
   "metadata": {},
   "outputs": [],
   "source": [
    "elev_reclass_df = elev_reclass.copy()"
   ]
  },
  {
   "cell_type": "code",
   "execution_count": null,
   "metadata": {},
   "outputs": [],
   "source": [
    "elev_reclass_df[\"geometry\"] = elev_reclass_df[\"geometry\"].to_wkt()"
   ]
  },
  {
   "cell_type": "code",
   "execution_count": null,
   "metadata": {},
   "outputs": [],
   "source": [
    "query = \"\"\"\n",
    "CREATE OR REPLACE TABLE elev AS \n",
    "SELECT \n",
    "    DN,\n",
    "    ST_GeomFromText(geometry) as geometry FROM elev_reclass_df\n",
    "\"\"\"\n",
    "\n",
    "db.execute(query)"
   ]
  },
  {
   "cell_type": "code",
   "execution_count": null,
   "metadata": {},
   "outputs": [],
   "source": [
    "query = \"\"\" \n",
    "CREATE OR REPLACE TABLE proxy_elev AS\n",
    "SELECT\n",
    "    uid,\n",
    "    CADT_No,\n",
    "    Davao_CADT_No,\n",
    "    HOLDER,\n",
    "    TENEMENT_N, \n",
    "    DATE_FILED, \n",
    "    DATE_APPRO, \n",
    "    COMMODITY, \n",
    "    REMARKS_2,\n",
    "    EXPIRYDATE,\n",
    "    elev.DN as elev_dn,\n",
    "    ST_INTERSECTION(proxy.geometry, elev.geometry) as geometry\n",
    "FROM\n",
    "    proxy\n",
    "JOIN \n",
    "    elev\n",
    "ON \n",
    "    ST_INTERSECTS(proxy.geometry, elev.geometry)\"\"\"\n",
    "\n",
    "db.execute(query).df()"
   ]
  },
  {
   "cell_type": "code",
   "execution_count": null,
   "metadata": {},
   "outputs": [],
   "source": [
    "query = \"\"\" \n",
    "SELECT\n",
    "   *EXCLUDE(geometry),\n",
    "   ST_astext(geometry) as geometry\n",
    "FROM\n",
    "    proxy_elev \n",
    "\"\"\"\n",
    "\n",
    "proxy_elev = db.execute(query).df()"
   ]
  },
  {
   "cell_type": "code",
   "execution_count": null,
   "metadata": {},
   "outputs": [],
   "source": [
    "proxy_elev.head(2)"
   ]
  },
  {
   "cell_type": "code",
   "execution_count": null,
   "metadata": {},
   "outputs": [],
   "source": [
    "proxy_elev_gdf = proxy_elev.copy()"
   ]
  },
  {
   "cell_type": "code",
   "execution_count": null,
   "metadata": {},
   "outputs": [],
   "source": [
    "proxy_elev_gdf[\"geometry\"] = proxy_elev_gdf[\"geometry\"].apply(lambda x: loads(x))\n",
    "proxy_elev_gdf = gpd.GeoDataFrame(proxy_elev_gdf, geometry=\"geometry\", crs=\"EPSG:4326\")"
   ]
  },
  {
   "cell_type": "code",
   "execution_count": null,
   "metadata": {},
   "outputs": [],
   "source": [
    "proxy_elev_gdf.to_crs(\"EPSG:3857\", inplace=True)"
   ]
  },
  {
   "cell_type": "code",
   "execution_count": null,
   "metadata": {},
   "outputs": [],
   "source": [
    "proxy_elev_gdf[\"area_ha\"] = proxy_elev_gdf.geometry.area / 10_000"
   ]
  },
  {
   "cell_type": "code",
   "execution_count": null,
   "metadata": {},
   "outputs": [],
   "source": [
    "elev_profile = (\n",
    "    proxy_elev_gdf[[\"elev_dn\", \"TENEMENT_N\", \"area_ha\"]]\n",
    "    .groupby([\"elev_dn\", \"TENEMENT_N\"])\n",
    "    .sum()\n",
    ")"
   ]
  },
  {
   "cell_type": "code",
   "execution_count": null,
   "metadata": {},
   "outputs": [],
   "source": [
    "elev_profile_mng = elev_profile.join(tenement_area, lsuffix=\"_elev\")"
   ]
  },
  {
   "cell_type": "code",
   "execution_count": null,
   "metadata": {},
   "outputs": [],
   "source": [
    "elev_profile_mng[\"perc\"] = (\n",
    "    elev_profile_mng[\"area_ha_elev\"] / elev_profile_mng[\"area_ha\"]\n",
    ") * 100"
   ]
  },
  {
   "cell_type": "code",
   "execution_count": null,
   "metadata": {},
   "outputs": [],
   "source": [
    "elev_profile_mng.reset_index(inplace=True)"
   ]
  },
  {
   "cell_type": "code",
   "execution_count": null,
   "metadata": {},
   "outputs": [],
   "source": [
    "elev_profile_mng = (\n",
    "    elev_profile_mng.pivot(index=\"TENEMENT_N\", columns=\"elev_dn\", values=\"perc\")\n",
    "    .fillna(0)\n",
    "    .reset_index()\n",
    ")"
   ]
  },
  {
   "cell_type": "markdown",
   "metadata": {},
   "source": [
    "## Geology"
   ]
  },
  {
   "cell_type": "code",
   "execution_count": null,
   "metadata": {},
   "outputs": [],
   "source": [
    "geo_df = geo.copy()"
   ]
  },
  {
   "cell_type": "code",
   "execution_count": null,
   "metadata": {},
   "outputs": [],
   "source": [
    "geo_df[\"geometry\"] = geo[\"geometry\"].to_wkt()"
   ]
  },
  {
   "cell_type": "code",
   "execution_count": null,
   "metadata": {},
   "outputs": [],
   "source": [
    "geo_df.head()"
   ]
  },
  {
   "cell_type": "code",
   "execution_count": null,
   "metadata": {},
   "outputs": [],
   "source": [
    "query = \"\"\"\n",
    "CREATE OR REPLACE TABLE geotype AS \n",
    "SELECT \n",
    "    *EXCLUDE(geometry),\n",
    "    ST_GeomFromText(geometry) as geometry FROM geo_df\n",
    "\"\"\"\n",
    "\n",
    "db.execute(query)"
   ]
  },
  {
   "cell_type": "code",
   "execution_count": null,
   "metadata": {},
   "outputs": [],
   "source": [
    "query = \"\"\" \n",
    "CREATE OR REPLACE TABLE proxy_geo AS\n",
    "SELECT\n",
    "    uid,\n",
    "    CADT_No,\n",
    "    Davao_CADT_No,\n",
    "    HOLDER,\n",
    "    TENEMENT_N, \n",
    "    DATE_FILED, \n",
    "    DATE_APPRO, \n",
    "    COMMODITY, \n",
    "    REMARKS_2,\n",
    "    EXPIRYDATE,\n",
    "    Litho,\n",
    "    remarks,\n",
    "    ST_INTERSECTION(proxy.geometry, geotype.geometry) as geometry\n",
    "FROM\n",
    "    proxy\n",
    "JOIN \n",
    "    geotype\n",
    "ON \n",
    "    ST_INTERSECTS(proxy.geometry, geotype.geometry)\"\"\"\n",
    "\n",
    "db.execute(query).df()"
   ]
  },
  {
   "cell_type": "code",
   "execution_count": null,
   "metadata": {},
   "outputs": [],
   "source": [
    "query = \"\"\" \n",
    "SELECT\n",
    "   *EXCLUDE(geometry),\n",
    "   ST_astext(geometry) as geometry\n",
    "FROM\n",
    "    proxy_geo\n",
    "\"\"\"\n",
    "\n",
    "proxy_geo = db.execute(query).df()"
   ]
  },
  {
   "cell_type": "code",
   "execution_count": null,
   "metadata": {},
   "outputs": [],
   "source": [
    "proxy_geo.head(2)"
   ]
  },
  {
   "cell_type": "code",
   "execution_count": null,
   "metadata": {},
   "outputs": [],
   "source": [
    "proxy_geo_gdf = proxy_geo.copy()"
   ]
  },
  {
   "cell_type": "code",
   "execution_count": null,
   "metadata": {},
   "outputs": [],
   "source": [
    "proxy_geo_gdf[\"geometry\"] = proxy_geo_gdf[\"geometry\"].apply(lambda x: loads(x))\n",
    "proxy_geo_gdf = gpd.GeoDataFrame(proxy_geo_gdf, geometry=\"geometry\", crs=\"EPSG:4326\")"
   ]
  },
  {
   "cell_type": "code",
   "execution_count": null,
   "metadata": {},
   "outputs": [],
   "source": [
    "proxy_geo_gdf.to_crs(\"EPSG:3857\", inplace=True)"
   ]
  },
  {
   "cell_type": "code",
   "execution_count": null,
   "metadata": {},
   "outputs": [],
   "source": [
    "proxy_geo_gdf[\"area_ha\"] = proxy_geo_gdf.geometry.area / 10_000"
   ]
  },
  {
   "cell_type": "code",
   "execution_count": null,
   "metadata": {},
   "outputs": [],
   "source": [
    "geo_profile = (\n",
    "    proxy_geo_gdf[[\"Litho\", \"TENEMENT_N\", \"area_ha\"]]\n",
    "    .groupby([\"Litho\", \"TENEMENT_N\"])\n",
    "    .sum()\n",
    ")"
   ]
  },
  {
   "cell_type": "code",
   "execution_count": null,
   "metadata": {},
   "outputs": [],
   "source": [
    "geo_profile_mng = geo_profile.join(tenement_area, lsuffix=\"_geotype\")"
   ]
  },
  {
   "cell_type": "code",
   "execution_count": null,
   "metadata": {},
   "outputs": [],
   "source": [
    "geo_profile_mng[\"perc_geotype\"] = (\n",
    "    geo_profile_mng[\"area_ha_geotype\"] / geo_profile_mng[\"area_ha\"]\n",
    ") * 100"
   ]
  },
  {
   "cell_type": "code",
   "execution_count": null,
   "metadata": {},
   "outputs": [],
   "source": [
    "geo_profile_mng.reset_index(inplace=True)"
   ]
  },
  {
   "cell_type": "code",
   "execution_count": null,
   "metadata": {},
   "outputs": [],
   "source": [
    "geo_profile_mng = (\n",
    "    geo_profile_mng.pivot(index=\"TENEMENT_N\", columns=\"Litho\", values=\"perc_geotype\")\n",
    "    .fillna(0)\n",
    "    .reset_index()\n",
    ")"
   ]
  },
  {
   "cell_type": "markdown",
   "metadata": {},
   "source": [
    "## Strata"
   ]
  },
  {
   "cell_type": "code",
   "execution_count": null,
   "metadata": {},
   "outputs": [],
   "source": [
    "strata_gdf.to_crs(\"EPSG:4326\", inplace=True)"
   ]
  },
  {
   "cell_type": "code",
   "execution_count": null,
   "metadata": {},
   "outputs": [],
   "source": [
    "strata_df = strata_gdf.copy()"
   ]
  },
  {
   "cell_type": "code",
   "execution_count": null,
   "metadata": {},
   "outputs": [],
   "source": [
    "strata_df[\"geometry\"] = strata_df[\"geometry\"].to_wkt()"
   ]
  },
  {
   "cell_type": "code",
   "execution_count": null,
   "metadata": {},
   "outputs": [],
   "source": [
    "strata_df.head(2)"
   ]
  },
  {
   "cell_type": "code",
   "execution_count": null,
   "metadata": {},
   "outputs": [],
   "source": [
    "query = \"\"\"\n",
    "CREATE OR REPLACE TABLE strata_type AS \n",
    "SELECT \n",
    "    *EXCLUDE(geometry),\n",
    "    ST_GeomFromText(geometry) as geometry FROM strata_df\n",
    "\"\"\"\n",
    "\n",
    "db.execute(query)"
   ]
  },
  {
   "cell_type": "code",
   "execution_count": null,
   "metadata": {},
   "outputs": [],
   "source": [
    "query = \"\"\" \n",
    "CREATE OR REPLACE TABLE proxy_strata AS\n",
    "SELECT\n",
    "    uid,\n",
    "    CADT_No,\n",
    "    Davao_CADT_No,\n",
    "    HOLDER,\n",
    "    TENEMENT_N, \n",
    "    DATE_FILED, \n",
    "    DATE_APPRO, \n",
    "    COMMODITY, \n",
    "    REMARKS_2,\n",
    "    EXPIRYDATE,\n",
    "    strata,\n",
    "    ST_INTERSECTION(proxy.geometry, strata_type.geometry) as geometry\n",
    "FROM\n",
    "    proxy\n",
    "JOIN \n",
    "    strata_type\n",
    "ON \n",
    "    ST_INTERSECTS(proxy.geometry, strata_type.geometry)\"\"\"\n",
    "\n",
    "db.execute(query).df()"
   ]
  },
  {
   "cell_type": "code",
   "execution_count": null,
   "metadata": {},
   "outputs": [],
   "source": [
    "query = \"\"\" \n",
    "SELECT\n",
    "   *EXCLUDE(geometry),\n",
    "   ST_astext(geometry) as geometry\n",
    "FROM\n",
    "    proxy_strata\n",
    "\"\"\"\n",
    "\n",
    "proxy_strata = db.execute(query).df()"
   ]
  },
  {
   "cell_type": "code",
   "execution_count": null,
   "metadata": {},
   "outputs": [],
   "source": [
    "proxy_strata.head(2)"
   ]
  },
  {
   "cell_type": "code",
   "execution_count": null,
   "metadata": {},
   "outputs": [],
   "source": [
    "proxy_strata_gdf = proxy_strata.copy()"
   ]
  },
  {
   "cell_type": "code",
   "execution_count": null,
   "metadata": {},
   "outputs": [],
   "source": [
    "proxy_strata_gdf[\"geometry\"] = proxy_strata_gdf[\"geometry\"].apply(lambda x: loads(x))\n",
    "proxy_strata_gdf = gpd.GeoDataFrame(\n",
    "    proxy_strata_gdf, geometry=\"geometry\", crs=\"EPSG:4326\"\n",
    ")"
   ]
  },
  {
   "cell_type": "code",
   "execution_count": null,
   "metadata": {},
   "outputs": [],
   "source": [
    "proxy_strata_gdf.to_crs(\"EPSG:3857\", inplace=True)"
   ]
  },
  {
   "cell_type": "code",
   "execution_count": null,
   "metadata": {},
   "outputs": [],
   "source": [
    "proxy_strata_gdf[\"area_ha\"] = proxy_strata_gdf.geometry.area / 10_000"
   ]
  },
  {
   "cell_type": "code",
   "execution_count": null,
   "metadata": {},
   "outputs": [],
   "source": [
    "strata_profile = (\n",
    "    proxy_strata_gdf[[\"strata\", \"TENEMENT_N\", \"area_ha\"]]\n",
    "    .groupby([\"strata\", \"TENEMENT_N\"])\n",
    "    .sum()\n",
    ")"
   ]
  },
  {
   "cell_type": "code",
   "execution_count": null,
   "metadata": {},
   "outputs": [],
   "source": [
    "strata_profile_mng = strata_profile.join(tenement_area, lsuffix=\"_strata\")"
   ]
  },
  {
   "cell_type": "code",
   "execution_count": null,
   "metadata": {},
   "outputs": [],
   "source": [
    "strata_profile_mng[\"perc_strata\"] = (\n",
    "    strata_profile_mng[\"area_ha_strata\"] / strata_profile_mng[\"area_ha\"]\n",
    ") * 100"
   ]
  },
  {
   "cell_type": "code",
   "execution_count": null,
   "metadata": {},
   "outputs": [],
   "source": [
    "strata_profile_mng.reset_index(inplace=True)"
   ]
  },
  {
   "cell_type": "code",
   "execution_count": null,
   "metadata": {},
   "outputs": [],
   "source": [
    "strata_profile_mng"
   ]
  },
  {
   "cell_type": "code",
   "execution_count": null,
   "metadata": {},
   "outputs": [],
   "source": [
    "strata_profile_mng = strata_profile_mng.pivot(\n",
    "    index=\"TENEMENT_N\", columns=\"strata\", values=\"perc_strata\"\n",
    ").fillna(0)"
   ]
  },
  {
   "cell_type": "code",
   "execution_count": null,
   "metadata": {},
   "outputs": [],
   "source": [
    "strata_profile_mng.reset_index(inplace=True)"
   ]
  },
  {
   "cell_type": "markdown",
   "metadata": {},
   "source": [
    "## HRP"
   ]
  },
  {
   "cell_type": "code",
   "execution_count": null,
   "metadata": {},
   "outputs": [],
   "source": [
    "hrp.FOR_NFOR.unique()"
   ]
  },
  {
   "cell_type": "code",
   "execution_count": null,
   "metadata": {},
   "outputs": [],
   "source": [
    "hrp_df = hrp.copy()"
   ]
  },
  {
   "cell_type": "code",
   "execution_count": null,
   "metadata": {},
   "outputs": [],
   "source": [
    "hrp_df[\"geometry\"] = hrp[\"geometry\"].to_wkt()"
   ]
  },
  {
   "cell_type": "code",
   "execution_count": null,
   "metadata": {},
   "outputs": [],
   "source": [
    "hrp_df.head(2)"
   ]
  },
  {
   "cell_type": "code",
   "execution_count": null,
   "metadata": {},
   "outputs": [],
   "source": [
    "hrp_df.reset_index(inplace=True)"
   ]
  },
  {
   "cell_type": "code",
   "execution_count": null,
   "metadata": {},
   "outputs": [],
   "source": [
    "query = \"\"\"\n",
    "CREATE OR REPLACE TABLE hrp AS \n",
    "SELECT \n",
    "    *EXCLUDE(geometry),\n",
    "    ST_GeomFromText(geometry) as geometry FROM hrp_df\n",
    "\"\"\"\n",
    "\n",
    "db.execute(query)"
   ]
  },
  {
   "cell_type": "code",
   "execution_count": null,
   "metadata": {},
   "outputs": [],
   "source": [
    "query = \"\"\" \n",
    "CREATE OR REPLACE TABLE proxy_hrp AS\n",
    "SELECT\n",
    "    uid,\n",
    "    CADT_No,\n",
    "    Davao_CADT_No,\n",
    "    HOLDER,\n",
    "    TENEMENT_N, \n",
    "    DATE_FILED, \n",
    "    DATE_APPRO, \n",
    "    COMMODITY, \n",
    "    REMARKS_2,\n",
    "    EXPIRYDATE,\n",
    "    FOR_NFOR,\n",
    "    ST_INTERSECTION(proxy.geometry, hrp.geometry) as geometry\n",
    "FROM\n",
    "    proxy\n",
    "JOIN \n",
    "    hrp\n",
    "ON \n",
    "    ST_INTERSECTS(proxy.geometry, hrp.geometry)\"\"\"\n",
    "\n",
    "db.execute(query).df()"
   ]
  },
  {
   "cell_type": "code",
   "execution_count": null,
   "metadata": {},
   "outputs": [],
   "source": [
    "query = \"\"\" \n",
    "SELECT\n",
    "   *EXCLUDE(geometry),\n",
    "   ST_astext(geometry) as geometry\n",
    "FROM\n",
    "    proxy_hrp\n",
    "\"\"\"\n",
    "\n",
    "proxy_hrp = db.execute(query).df()"
   ]
  },
  {
   "cell_type": "code",
   "execution_count": null,
   "metadata": {},
   "outputs": [],
   "source": [
    "proxy_hrp.head(2)"
   ]
  },
  {
   "cell_type": "code",
   "execution_count": null,
   "metadata": {},
   "outputs": [],
   "source": [
    "proxy_hrp_gdf = proxy_hrp.copy()"
   ]
  },
  {
   "cell_type": "code",
   "execution_count": null,
   "metadata": {},
   "outputs": [],
   "source": [
    "proxy_hrp_gdf[\"geometry\"] = proxy_hrp_gdf[\"geometry\"].apply(lambda x: loads(x))\n",
    "proxy_hrp_gdf = gpd.GeoDataFrame(proxy_hrp_gdf, geometry=\"geometry\", crs=\"EPSG:4326\")"
   ]
  },
  {
   "cell_type": "code",
   "execution_count": null,
   "metadata": {},
   "outputs": [],
   "source": [
    "proxy_hrp_gdf.to_crs(\"EPSG:3857\", inplace=True)"
   ]
  },
  {
   "cell_type": "code",
   "execution_count": null,
   "metadata": {},
   "outputs": [],
   "source": [
    "proxy_hrp_gdf[\"area_ha\"] = proxy_hrp_gdf.geometry.area / 10_000"
   ]
  },
  {
   "cell_type": "code",
   "execution_count": null,
   "metadata": {},
   "outputs": [],
   "source": [
    "hrp_profile = (\n",
    "    proxy_hrp_gdf[[\"FOR_NFOR\", \"TENEMENT_N\", \"area_ha\"]]\n",
    "    .groupby([\"FOR_NFOR\", \"TENEMENT_N\"])\n",
    "    .sum()\n",
    ")"
   ]
  },
  {
   "cell_type": "code",
   "execution_count": null,
   "metadata": {},
   "outputs": [],
   "source": [
    "hrp_profile_mng = hrp_profile.join(tenement_area, lsuffix=\"_fornfor\")"
   ]
  },
  {
   "cell_type": "code",
   "execution_count": null,
   "metadata": {},
   "outputs": [],
   "source": [
    "hrp_profile_mng[\"perc_fornfor\"] = (\n",
    "    hrp_profile_mng[\"area_ha_fornfor\"] / hrp_profile_mng[\"area_ha\"]\n",
    ") * 100"
   ]
  },
  {
   "cell_type": "code",
   "execution_count": null,
   "metadata": {},
   "outputs": [],
   "source": [
    "hrp_profile_mng.reset_index(inplace=True)"
   ]
  },
  {
   "cell_type": "code",
   "execution_count": null,
   "metadata": {},
   "outputs": [],
   "source": [
    "hrp_profile_mng"
   ]
  },
  {
   "cell_type": "code",
   "execution_count": null,
   "metadata": {},
   "outputs": [],
   "source": [
    "hrp_profile_mng = hrp_profile_mng.pivot(\n",
    "    index=\"TENEMENT_N\", columns=\"FOR_NFOR\", values=\"perc_fornfor\"\n",
    ").fillna(0)"
   ]
  },
  {
   "cell_type": "code",
   "execution_count": null,
   "metadata": {},
   "outputs": [],
   "source": [
    "hrp_profile_mng.reset_index(inplace=True)"
   ]
  },
  {
   "cell_type": "code",
   "execution_count": null,
   "metadata": {},
   "outputs": [],
   "source": [
    "hrp_profile_mng"
   ]
  },
  {
   "cell_type": "markdown",
   "metadata": {},
   "source": [
    "# Get pivot table"
   ]
  },
  {
   "cell_type": "code",
   "execution_count": null,
   "metadata": {},
   "outputs": [],
   "source": [
    "slope_profile_mng"
   ]
  },
  {
   "cell_type": "code",
   "execution_count": null,
   "metadata": {},
   "outputs": [],
   "source": [
    "slope_profile_mng.rename(columns={0: \"below_15\", 1: \"above_15\"}, inplace=True)"
   ]
  },
  {
   "cell_type": "code",
   "execution_count": null,
   "metadata": {},
   "outputs": [],
   "source": [
    "elev_profile_mng"
   ]
  },
  {
   "cell_type": "code",
   "execution_count": null,
   "metadata": {},
   "outputs": [],
   "source": [
    "elev_profile_mng.rename(\n",
    "    columns={1: \"below_500\", 2: \"500_1000\", 3: \"1000_1500\", 4: \"above_1500\"},\n",
    "    inplace=True,\n",
    ")"
   ]
  },
  {
   "cell_type": "code",
   "execution_count": null,
   "metadata": {},
   "outputs": [],
   "source": [
    "geo_profile_mng"
   ]
  },
  {
   "cell_type": "code",
   "execution_count": null,
   "metadata": {},
   "outputs": [],
   "source": [
    "strata_profile_mng"
   ]
  },
  {
   "cell_type": "code",
   "execution_count": null,
   "metadata": {},
   "outputs": [],
   "source": [
    "pivot_df = (\n",
    "    proxy.merge(strata_profile_mng, how=\"left\")\n",
    "    .merge(geo_profile_mng, how=\"left\")\n",
    "    .merge(elev_profile_mng, how=\"left\")\n",
    "    .merge(slope_profile_mng, how=\"left\")\n",
    "    .merge(hrp_profile_mng, how=\"left\")\n",
    ")"
   ]
  },
  {
   "cell_type": "code",
   "execution_count": null,
   "metadata": {},
   "outputs": [],
   "source": [
    "pivot_df.columns"
   ]
  },
  {
   "cell_type": "code",
   "execution_count": null,
   "metadata": {},
   "outputs": [],
   "source": [
    "pivot_df.to_csv(GPKG_DATA_DIR / \"tenement_percentage_profile.csv\")"
   ]
  },
  {
   "cell_type": "code",
   "execution_count": null,
   "metadata": {},
   "outputs": [],
   "source": [
    "pivot_df = pd.read_csv(GPKG_DATA_DIR / \"tenement_percentage_profile.csv\")"
   ]
  },
  {
   "cell_type": "code",
   "execution_count": null,
   "metadata": {},
   "outputs": [],
   "source": [
    "strata_1 = (pivot_df[\"pre_strata_1\"] >= 40.88) & (pivot_df[\"pre_strata_1\"] <= 61.32)"
   ]
  },
  {
   "cell_type": "code",
   "execution_count": null,
   "metadata": {},
   "outputs": [],
   "source": [
    "strata_2 = (pivot_df[\"pre_strata_2\"] >= 24.88) & (pivot_df[\"pre_strata_2\"] <= 37.32)"
   ]
  },
  {
   "cell_type": "code",
   "execution_count": null,
   "metadata": {},
   "outputs": [],
   "source": [
    "strata_3 = (pivot_df[\"pre_strata_3\"] >= 5.92) & (pivot_df[\"pre_strata_3\"] <= 8.88)"
   ]
  },
  {
   "cell_type": "code",
   "execution_count": null,
   "metadata": {},
   "outputs": [],
   "source": [
    "pivot_df[strata_1 & strata_2 & strata_3]"
   ]
  },
  {
   "cell_type": "markdown",
   "metadata": {},
   "source": [
    "# Drafts"
   ]
  },
  {
   "cell_type": "code",
   "execution_count": null,
   "metadata": {},
   "outputs": [],
   "source": [
    "hrp.reset_index(inplace=True)\n",
    "hrp.rename(columns={\"index\": \"index_hrp1\"}, inplace=True)"
   ]
  },
  {
   "cell_type": "code",
   "execution_count": null,
   "metadata": {},
   "outputs": [],
   "source": [
    "hrp.head(2)"
   ]
  },
  {
   "cell_type": "code",
   "execution_count": null,
   "metadata": {},
   "outputs": [],
   "source": [
    "slope_reclass.reset_index(inplace=True)\n",
    "slope_reclass.rename(columns={\"DN\": \"DN_slope\", \"index\": \"index_slope\"}, inplace=True)"
   ]
  },
  {
   "cell_type": "code",
   "execution_count": null,
   "metadata": {},
   "outputs": [],
   "source": [
    "slope_reclass.head()"
   ]
  },
  {
   "cell_type": "code",
   "execution_count": null,
   "metadata": {},
   "outputs": [],
   "source": [
    "elev_reclass.reset_index(inplace=True)\n",
    "elev_reclass.rename(columns={\"DN\": \"DN_elev\", \"index\": \"index_elev\"}, inplace=True)"
   ]
  },
  {
   "cell_type": "code",
   "execution_count": null,
   "metadata": {},
   "outputs": [],
   "source": [
    "elev_reclass.head(2)"
   ]
  },
  {
   "cell_type": "code",
   "execution_count": null,
   "metadata": {},
   "outputs": [],
   "source": [
    "geo.reset_index(inplace=True)\n",
    "geo.rename(columns={\"index\": \"index_geotype\"}, inplace=True)"
   ]
  },
  {
   "cell_type": "code",
   "execution_count": null,
   "metadata": {},
   "outputs": [],
   "source": [
    "geo.columns"
   ]
  },
  {
   "cell_type": "code",
   "execution_count": null,
   "metadata": {},
   "outputs": [],
   "source": [
    "geotype = geo[[\"index_geotype\", \"Litho\", \"remarks\", \"geometry\"]].copy()"
   ]
  },
  {
   "cell_type": "code",
   "execution_count": null,
   "metadata": {},
   "outputs": [],
   "source": [
    "geotype.head(2)"
   ]
  },
  {
   "cell_type": "code",
   "execution_count": null,
   "metadata": {},
   "outputs": [],
   "source": [
    "strata_gdf.reset_index(inplace=True)\n",
    "strata_gdf.rename(columns={\"index\": \"index_strata\"}, inplace=True)"
   ]
  },
  {
   "cell_type": "code",
   "execution_count": null,
   "metadata": {},
   "outputs": [],
   "source": [
    "strata_type = strata_gdf[[\"index_strata\", \"strata\", \"geometry\"]].copy()"
   ]
  },
  {
   "cell_type": "code",
   "execution_count": null,
   "metadata": {},
   "outputs": [],
   "source": [
    "strata_type.head(2)"
   ]
  },
  {
   "cell_type": "code",
   "execution_count": null,
   "metadata": {},
   "outputs": [],
   "source": [
    "union_result = gpd.overlay(\n",
    "    proxy, slope_reclass, how=\"intersection\", keep_geom_type=False\n",
    ")"
   ]
  },
  {
   "cell_type": "code",
   "execution_count": null,
   "metadata": {},
   "outputs": [],
   "source": [
    "union_result = gpd.overlay(\n",
    "    union_result, elev_reclass, how=\"intersection\", keep_geom_type=False\n",
    ")"
   ]
  },
  {
   "cell_type": "code",
   "execution_count": null,
   "metadata": {},
   "outputs": [],
   "source": [
    "union_result.to_csv(GPKG_DATA_DIR / \"union_table_slope_elev.csv\")"
   ]
  },
  {
   "cell_type": "code",
   "execution_count": null,
   "metadata": {},
   "outputs": [],
   "source": [
    "union_result = union_result[\n",
    "    union_result.geometry.type.isin([\"Polygon\", \"MultiPolygon\", \"GeometryCollection\"])\n",
    "]"
   ]
  },
  {
   "cell_type": "code",
   "execution_count": null,
   "metadata": {},
   "outputs": [],
   "source": [
    "union_result = gpd.read_file(GPKG_DATA_DIR / \"BL-PL\" / \"union_elev_slope.gpkg\")"
   ]
  },
  {
   "cell_type": "code",
   "execution_count": null,
   "metadata": {},
   "outputs": [],
   "source": [
    "union_result.columns"
   ]
  },
  {
   "cell_type": "code",
   "execution_count": null,
   "metadata": {},
   "outputs": [],
   "source": [
    "union_result.drop(\n",
    "    columns=[\n",
    "        \"Remarks\",\n",
    "        \"field_1\",\n",
    "        \"fid_2\",\n",
    "    ],\n",
    "    inplace=True,\n",
    ")"
   ]
  },
  {
   "cell_type": "code",
   "execution_count": null,
   "metadata": {},
   "outputs": [],
   "source": [
    "union_result.to_file(GPKG_DATA_DIR / \"BL-PL\" / \"union_geo_slope_elev.gpkg\")"
   ]
  },
  {
   "cell_type": "code",
   "execution_count": null,
   "metadata": {},
   "outputs": [],
   "source": [
    "union_result = gpd.read_file(GPKG_DATA_DIR / \"BL-PL\" / \"union_geo_slope_elev.gpkg\")"
   ]
  },
  {
   "cell_type": "code",
   "execution_count": null,
   "metadata": {},
   "outputs": [],
   "source": [
    "union_result.shape"
   ]
  },
  {
   "cell_type": "code",
   "execution_count": null,
   "metadata": {},
   "outputs": [],
   "source": [
    "%%time\n",
    "# List of GeoDataFrames\n",
    "gdfs = [strata_type, hrp]\n",
    "for gdf in tqdm(gdfs):\n",
    "    union_result = gpd.overlay(union_result, gdf, how=\"union\")"
   ]
  },
  {
   "cell_type": "code",
   "execution_count": null,
   "metadata": {},
   "outputs": [],
   "source": [
    "union_result.geometry.type.unique()"
   ]
  },
  {
   "cell_type": "code",
   "execution_count": null,
   "metadata": {},
   "outputs": [],
   "source": [
    "union_result.to_csv(GPKG_DATA_DIR / \"union_table_all.csv\")"
   ]
  },
  {
   "cell_type": "markdown",
   "metadata": {},
   "source": [
    "# Create Grid"
   ]
  },
  {
   "cell_type": "code",
   "execution_count": null,
   "metadata": {},
   "outputs": [],
   "source": [
    "from geowrangler import grids"
   ]
  },
  {
   "cell_type": "code",
   "execution_count": null,
   "metadata": {},
   "outputs": [],
   "source": [
    "aoi = proxy.to_crs(\"EPSG:3857\").copy()"
   ]
  },
  {
   "cell_type": "code",
   "execution_count": null,
   "metadata": {},
   "outputs": [],
   "source": [
    "grid_generator5k = grids.SquareGridGenerator(5_000)"
   ]
  },
  {
   "cell_type": "code",
   "execution_count": null,
   "metadata": {},
   "outputs": [],
   "source": [
    "grid_gdf5k = grid_generator5k.generate_grid(aoi)"
   ]
  },
  {
   "cell_type": "code",
   "execution_count": null,
   "metadata": {},
   "outputs": [],
   "source": [
    "grid_gdf5k.plot()"
   ]
  },
  {
   "cell_type": "code",
   "execution_count": null,
   "metadata": {},
   "outputs": [],
   "source": [
    "grid_gdf5k.to_crs(\"EPSG:4326\", inplace=True)"
   ]
  },
  {
   "cell_type": "code",
   "execution_count": null,
   "metadata": {},
   "outputs": [],
   "source": [
    "grid_gdf5k_df = grid_gdf5k.copy()"
   ]
  },
  {
   "cell_type": "code",
   "execution_count": null,
   "metadata": {},
   "outputs": [],
   "source": [
    "grid_gdf5k_df[\"geometry\"] = grid_gdf5k_df[\"geometry\"].to_wkt()"
   ]
  },
  {
   "cell_type": "code",
   "execution_count": null,
   "metadata": {},
   "outputs": [],
   "source": [
    "query = \"\"\"\n",
    "CREATE OR REPLACE TABLE grid_5k AS \n",
    "SELECT \n",
    "    *EXCLUDE(geometry),\n",
    "    ST_GeomFromText(geometry) as geometry FROM grid_gdf5k_df\n",
    "\"\"\"\n",
    "\n",
    "db.execute(query)"
   ]
  },
  {
   "cell_type": "code",
   "execution_count": null,
   "metadata": {},
   "outputs": [],
   "source": [
    "query = \"\"\" \n",
    "CREATE OR REPLACE TABLE proxy_grid AS \n",
    "SELECT\n",
    "    uid,\n",
    "    x,\n",
    "    y,\n",
    "    CADT_No,\n",
    "    Davao_CADT_No,\n",
    "    HOLDER,\n",
    "    TENEMENT_N, \n",
    "    DATE_FILED, \n",
    "    DATE_APPRO, \n",
    "    COMMODITY, \n",
    "    REMARKS_2,\n",
    "    EXPIRYDATE,\n",
    "    ST_INTERSECTION(proxy.geometry, grid_5k.geometry) as geometry\n",
    "FROM\n",
    "    proxy \n",
    "JOIN \n",
    "    grid_5k\n",
    "ON \n",
    "    ST_INTERSECTS(proxy.geometry, grid_5k.geometry)\"\"\"\n",
    "\n",
    "db.execute(query).df()"
   ]
  },
  {
   "cell_type": "code",
   "execution_count": null,
   "metadata": {},
   "outputs": [],
   "source": [
    "query = \"\"\" \n",
    "SELECT\n",
    "   *EXCLUDE(geometry),\n",
    "   ST_astext(geometry) as geometry\n",
    "FROM\n",
    "    proxy_grid \n",
    "\"\"\"\n",
    "\n",
    "proxy_grid = db.execute(query).df()"
   ]
  },
  {
   "cell_type": "code",
   "execution_count": null,
   "metadata": {},
   "outputs": [],
   "source": [
    "proxy_grid.head()"
   ]
  },
  {
   "cell_type": "code",
   "execution_count": null,
   "metadata": {},
   "outputs": [],
   "source": [
    "proxy_grid_gdf = proxy_grid.copy()"
   ]
  },
  {
   "cell_type": "code",
   "execution_count": null,
   "metadata": {},
   "outputs": [],
   "source": [
    "proxy_grid_gdf[\"geometry\"] = proxy_grid_gdf[\"geometry\"]"
   ]
  },
  {
   "cell_type": "code",
   "execution_count": null,
   "metadata": {},
   "outputs": [],
   "source": [
    "proxy_grid_gdf[\"geometry\"] = proxy_grid_gdf[\"geometry\"].apply(lambda x: loads(x))\n",
    "proxy_grid_gdf = gpd.GeoDataFrame(proxy_grid_gdf, geometry=\"geometry\", crs=\"EPSG:4326\")"
   ]
  },
  {
   "cell_type": "code",
   "execution_count": null,
   "metadata": {},
   "outputs": [],
   "source": [
    "proxy_grid_gdf.explore()"
   ]
  },
  {
   "cell_type": "code",
   "execution_count": null,
   "metadata": {},
   "outputs": [],
   "source": [
    "proxy_grid_gdf.drop_duplicates(subset=[\"geometry\"], inplace=True)"
   ]
  }
 ],
 "metadata": {
  "kernelspec": {
   "display_name": "onebase",
   "language": "python",
   "name": "python3"
  },
  "language_info": {
   "codemirror_mode": {
    "name": "ipython",
    "version": 3
   },
   "file_extension": ".py",
   "mimetype": "text/x-python",
   "name": "python",
   "nbconvert_exporter": "python",
   "pygments_lexer": "ipython3",
   "version": "3.12.7"
  }
 },
 "nbformat": 4,
 "nbformat_minor": 2
}
