{
 "cells": [
  {
   "attachments": {},
   "cell_type": "markdown",
   "metadata": {},
   "source": [
    "# Generate 2x2km grids on areas of interest"
   ]
  },
  {
   "attachments": {},
   "cell_type": "markdown",
   "metadata": {},
   "source": [
    "# Set Up"
   ]
  },
  {
   "attachments": {},
   "cell_type": "markdown",
   "metadata": {},
   "source": [
    "## Imports"
   ]
  },
  {
   "cell_type": "code",
   "execution_count": 1,
   "metadata": {},
   "outputs": [
    {
     "name": "stderr",
     "output_type": "stream",
     "text": [
      "/home/avell/miniconda3/envs/site-scoring/lib/python3.9/site-packages/geopandas/_compat.py:111: UserWarning: The Shapely GEOS version (3.10.3-CAPI-1.16.1) is incompatible with the GEOS version PyGEOS was compiled with (3.10.1-CAPI-1.16.0). Conversions between both will be slow.\n",
      "  warnings.warn(\n"
     ]
    }
   ],
   "source": [
    "%load_ext autoreload\n",
    "%autoreload 2\n",
    "\n",
    "# Standard imports\n",
    "import sys\n",
    "import numpy as np\n",
    "import pandas as pd\n",
    "import pandas_gbq as gbq\n",
    "\n",
    "# Geospatial processing packages\n",
    "import geopandas as gpd\n",
    "from geowrangler import grids\n",
    "from geowrangler.validation import GeometryValidation\n",
    "from shapely import wkt\n",
    "from shapely.geometry.polygon import orient"
   ]
  },
  {
   "cell_type": "code",
   "execution_count": 2,
   "metadata": {},
   "outputs": [],
   "source": [
    "# Util imports\n",
    "sys.path.append(\"../../\")  # include parent directory\n",
    "from src.settings import CADT_BQ_ID, ADM1_BQ_ID, GRIDS_2K_BQ_ID, GCP_PROJ_ID"
   ]
  },
  {
   "attachments": {},
   "cell_type": "markdown",
   "metadata": {},
   "source": [
    "## Load Data"
   ]
  },
  {
   "attachments": {},
   "cell_type": "markdown",
   "metadata": {},
   "source": [
    "### CADT\n",
    "Exclude all areas with official recognition of ancestral domain"
   ]
  },
  {
   "cell_type": "code",
   "execution_count": 5,
   "metadata": {},
   "outputs": [
    {
     "name": "stdout",
     "output_type": "stream",
     "text": [
      "Please visit this URL to authorize this application: https://accounts.google.com/o/oauth2/auth?response_type=code&client_id=725825577420-unm2gnkiprugilg743tkbig250f4sfsj.apps.googleusercontent.com&redirect_uri=http%3A%2F%2Flocalhost%3A8080%2F&scope=https%3A%2F%2Fwww.googleapis.com%2Fauth%2Fbigquery&state=Zp9wITwxCCyNruHQTVZu90PX30GG6u&access_type=offline\n"
     ]
    },
    {
     "name": "stderr",
     "output_type": "stream",
     "text": [
      "/home/avell/miniconda3/envs/site-scoring/lib/python3.9/site-packages/google/cloud/bigquery/table.py:1979: UserWarning: A progress bar was requested, but there was an error loading the tqdm library. Please install tqdm to use the progress bar functionality.\n",
      "  record_batch = self.to_arrow(\n"
     ]
    },
    {
     "data": {
      "text/html": [
       "<div>\n",
       "<style scoped>\n",
       "    .dataframe tbody tr th:only-of-type {\n",
       "        vertical-align: middle;\n",
       "    }\n",
       "\n",
       "    .dataframe tbody tr th {\n",
       "        vertical-align: top;\n",
       "    }\n",
       "\n",
       "    .dataframe thead th {\n",
       "        text-align: right;\n",
       "    }\n",
       "</style>\n",
       "<table border=\"1\" class=\"dataframe\">\n",
       "  <thead>\n",
       "    <tr style=\"text-align: right;\">\n",
       "      <th></th>\n",
       "      <th>CADT_NO_</th>\n",
       "      <th>SURVEY_NO_</th>\n",
       "      <th>LOCATION</th>\n",
       "      <th>AREA</th>\n",
       "      <th>geometry</th>\n",
       "    </tr>\n",
       "  </thead>\n",
       "  <tbody>\n",
       "    <tr>\n",
       "      <th>0</th>\n",
       "      <td>1</td>\n",
       "      <td>0</td>\n",
       "      <td>Bakun, Benguet</td>\n",
       "      <td>29,444.3449</td>\n",
       "      <td>POLYGON ((120.76500 16.72041, 120.76644 16.721...</td>\n",
       "    </tr>\n",
       "    <tr>\n",
       "      <th>1</th>\n",
       "      <td>2</td>\n",
       "      <td>0</td>\n",
       "      <td>Lanuza, San Miguel, Tandag &amp; Tago, Surigao Del...</td>\n",
       "      <td>11,811.6247</td>\n",
       "      <td>POLYGON ((125.97530 9.17354, 125.96648 9.16946...</td>\n",
       "    </tr>\n",
       "  </tbody>\n",
       "</table>\n",
       "</div>"
      ],
      "text/plain": [
       "  CADT_NO_ SURVEY_NO_                                           LOCATION  \\\n",
       "0        1          0                                     Bakun, Benguet   \n",
       "1        2          0  Lanuza, San Miguel, Tandag & Tago, Surigao Del...   \n",
       "\n",
       "          AREA                                           geometry  \n",
       "0  29,444.3449  POLYGON ((120.76500 16.72041, 120.76644 16.721...  \n",
       "1  11,811.6247  POLYGON ((125.97530 9.17354, 125.96648 9.16946...  "
      ]
     },
     "execution_count": 5,
     "metadata": {},
     "output_type": "execute_result"
    }
   ],
   "source": [
    "# When running a query, note that there may be a one-time authentication required, just click on the link in the prompt and follow the auth steps\n",
    "# Load CADT\n",
    "cadt_query = f\"\"\"\n",
    "  SELECT\n",
    "  *\n",
    "  FROM\n",
    "  `{CADT_BQ_ID}`\n",
    "  \"\"\"\n",
    "# convert from gbq table to gdf\n",
    "cadt_df = gbq.read_gbq(cadt_query, \"tm-geospatial\", dialect=\"standard\")\n",
    "cadt_gdf = gpd.GeoDataFrame(\n",
    "    cadt_df, geometry=cadt_df.geometry.apply(wkt.loads), crs=\"EPSG:4326\"\n",
    ")\n",
    "cadt_gdf.head(2)"
   ]
  },
  {
   "cell_type": "code",
   "execution_count": 6,
   "metadata": {},
   "outputs": [
    {
     "data": {
      "text/plain": [
       "<Axes: >"
      ]
     },
     "execution_count": 6,
     "metadata": {},
     "output_type": "execute_result"
    },
    {
     "data": {
      "image/png": "[encoded data removed]",
      "text/plain": [
       "<Figure size 640x480 with 1 Axes>"
      ]
     },
     "metadata": {},
     "output_type": "display_data"
    }
   ],
   "source": [
    "# visually inspect the cadt boundary\n",
    "cadt_gdf.plot()"
   ]
  },
  {
   "attachments": {},
   "cell_type": "markdown",
   "metadata": {},
   "source": [
    "#### Geometry Validation"
   ]
  },
  {
   "cell_type": "code",
   "execution_count": 7,
   "metadata": {},
   "outputs": [
    {
     "name": "stdout",
     "output_type": "stream",
     "text": [
      "CPU times: user 175 ms, sys: 0 ns, total: 175 ms\n",
      "Wall time: 171 ms\n"
     ]
    },
    {
     "data": {
      "text/html": [
       "<div>\n",
       "<style scoped>\n",
       "    .dataframe tbody tr th:only-of-type {\n",
       "        vertical-align: middle;\n",
       "    }\n",
       "\n",
       "    .dataframe tbody tr th {\n",
       "        vertical-align: top;\n",
       "    }\n",
       "\n",
       "    .dataframe thead th {\n",
       "        text-align: right;\n",
       "    }\n",
       "</style>\n",
       "<table border=\"1\" class=\"dataframe\">\n",
       "  <thead>\n",
       "    <tr style=\"text-align: right;\">\n",
       "      <th></th>\n",
       "      <th>CADT_NO_</th>\n",
       "      <th>SURVEY_NO_</th>\n",
       "      <th>LOCATION</th>\n",
       "      <th>AREA</th>\n",
       "      <th>geometry</th>\n",
       "      <th>is_not_null</th>\n",
       "      <th>is_not_self_intersecting</th>\n",
       "      <th>is_oriented_properly</th>\n",
       "      <th>is_within_crs_bounds</th>\n",
       "      <th>area_is_not_zero</th>\n",
       "    </tr>\n",
       "  </thead>\n",
       "  <tbody>\n",
       "    <tr>\n",
       "      <th>0</th>\n",
       "      <td>1</td>\n",
       "      <td>0</td>\n",
       "      <td>Bakun, Benguet</td>\n",
       "      <td>29,444.3449</td>\n",
       "      <td>POLYGON ((120.76500 16.72041, 120.76644 16.721...</td>\n",
       "      <td>True</td>\n",
       "      <td>True</td>\n",
       "      <td>True</td>\n",
       "      <td>True</td>\n",
       "      <td>True</td>\n",
       "    </tr>\n",
       "    <tr>\n",
       "      <th>1</th>\n",
       "      <td>2</td>\n",
       "      <td>0</td>\n",
       "      <td>Lanuza, San Miguel, Tandag &amp; Tago, Surigao Del...</td>\n",
       "      <td>11,811.6247</td>\n",
       "      <td>POLYGON ((125.97530 9.17354, 125.96648 9.16946...</td>\n",
       "      <td>True</td>\n",
       "      <td>True</td>\n",
       "      <td>True</td>\n",
       "      <td>True</td>\n",
       "      <td>True</td>\n",
       "    </tr>\n",
       "  </tbody>\n",
       "</table>\n",
       "</div>"
      ],
      "text/plain": [
       "  CADT_NO_ SURVEY_NO_                                           LOCATION  \\\n",
       "0        1          0                                     Bakun, Benguet   \n",
       "1        2          0  Lanuza, San Miguel, Tandag & Tago, Surigao Del...   \n",
       "\n",
       "          AREA                                           geometry  \\\n",
       "0  29,444.3449  POLYGON ((120.76500 16.72041, 120.76644 16.721...   \n",
       "1  11,811.6247  POLYGON ((125.97530 9.17354, 125.96648 9.16946...   \n",
       "\n",
       "   is_not_null  is_not_self_intersecting  is_oriented_properly  \\\n",
       "0         True                      True                  True   \n",
       "1         True                      True                  True   \n",
       "\n",
       "   is_within_crs_bounds  area_is_not_zero  \n",
       "0                  True              True  \n",
       "1                  True              True  "
      ]
     },
     "execution_count": 7,
     "metadata": {},
     "output_type": "execute_result"
    }
   ],
   "source": [
    "%%time\n",
    "GeometryValidation(cadt_gdf)\n",
    "\n",
    "cadt_gdf_val = GeometryValidation(cadt_gdf).validate_all()\n",
    "cadt_gdf_val.head(2)"
   ]
  },
  {
   "cell_type": "code",
   "execution_count": 8,
   "metadata": {},
   "outputs": [
    {
     "data": {
      "text/plain": [
       "(0, 10)"
      ]
     },
     "execution_count": 8,
     "metadata": {},
     "output_type": "execute_result"
    }
   ],
   "source": [
    "# check if any of the rows returned false in the tests\n",
    "cadt_gdf_val[cadt_gdf_val.any(axis=\"columns\") == False].shape"
   ]
  },
  {
   "cell_type": "code",
   "execution_count": 10,
   "metadata": {},
   "outputs": [
    {
     "data": {
      "text/plain": [
       "Index(['CADT_NO_', 'SURVEY_NO_', 'LOCATION', 'AREA', 'geometry', 'id'], dtype='object')"
      ]
     },
     "execution_count": 10,
     "metadata": {},
     "output_type": "execute_result"
    }
   ],
   "source": [
    "# add uid for each row\n",
    "cadt_gdf[\"id\"] = (\n",
    "    cadt_gdf[[\"CADT_NO_\", \"SURVEY_NO_\", \"LOCATION\", \"AREA\"]].sum(axis=1).map(hash)\n",
    ")\n",
    "cadt_gdf.columns"
   ]
  },
  {
   "attachments": {},
   "cell_type": "markdown",
   "metadata": {},
   "source": [
    "### Admin bounds"
   ]
  },
  {
   "cell_type": "code",
   "execution_count": 11,
   "metadata": {},
   "outputs": [
    {
     "name": "stderr",
     "output_type": "stream",
     "text": [
      "/home/avell/miniconda3/envs/site-scoring/lib/python3.9/site-packages/google/cloud/bigquery/table.py:1979: UserWarning: A progress bar was requested, but there was an error loading the tqdm library. Please install tqdm to use the progress bar functionality.\n",
      "  record_batch = self.to_arrow(\n"
     ]
    },
    {
     "data": {
      "text/html": [
       "<div>\n",
       "<style scoped>\n",
       "    .dataframe tbody tr th:only-of-type {\n",
       "        vertical-align: middle;\n",
       "    }\n",
       "\n",
       "    .dataframe tbody tr th {\n",
       "        vertical-align: top;\n",
       "    }\n",
       "\n",
       "    .dataframe thead th {\n",
       "        text-align: right;\n",
       "    }\n",
       "</style>\n",
       "<table border=\"1\" class=\"dataframe\">\n",
       "  <thead>\n",
       "    <tr style=\"text-align: right;\">\n",
       "      <th></th>\n",
       "      <th>ADM1_PCODE</th>\n",
       "      <th>ADM1_EN</th>\n",
       "      <th>ADM2_PCODE</th>\n",
       "      <th>ADM2_EN</th>\n",
       "      <th>ADM3_PCODE</th>\n",
       "      <th>ADM3_EN</th>\n",
       "      <th>ADM4_PCODE</th>\n",
       "      <th>ADM4_EN</th>\n",
       "      <th>geometry</th>\n",
       "    </tr>\n",
       "  </thead>\n",
       "  <tbody>\n",
       "    <tr>\n",
       "      <th>0</th>\n",
       "      <td>PH010000000</td>\n",
       "      <td>Region I</td>\n",
       "      <td>PH012800000</td>\n",
       "      <td>Ilocos Norte</td>\n",
       "      <td>PH012802000</td>\n",
       "      <td>Bacarra</td>\n",
       "      <td>PH012802016</td>\n",
       "      <td>Natba</td>\n",
       "      <td>MULTIPOLYGON (((120.58000 18.28157, 120.57713 ...</td>\n",
       "    </tr>\n",
       "    <tr>\n",
       "      <th>1</th>\n",
       "      <td>PH010000000</td>\n",
       "      <td>Region I</td>\n",
       "      <td>PH012800000</td>\n",
       "      <td>Ilocos Norte</td>\n",
       "      <td>PH012802000</td>\n",
       "      <td>Bacarra</td>\n",
       "      <td>PH012802037</td>\n",
       "      <td>San Roque II (Pob.)</td>\n",
       "      <td>MULTIPOLYGON (((120.62244 18.24837, 120.62263 ...</td>\n",
       "    </tr>\n",
       "  </tbody>\n",
       "</table>\n",
       "</div>"
      ],
      "text/plain": [
       "    ADM1_PCODE   ADM1_EN   ADM2_PCODE       ADM2_EN   ADM3_PCODE  ADM3_EN  \\\n",
       "0  PH010000000  Region I  PH012800000  Ilocos Norte  PH012802000  Bacarra   \n",
       "1  PH010000000  Region I  PH012800000  Ilocos Norte  PH012802000  Bacarra   \n",
       "\n",
       "    ADM4_PCODE              ADM4_EN  \\\n",
       "0  PH012802016                Natba   \n",
       "1  PH012802037  San Roque II (Pob.)   \n",
       "\n",
       "                                            geometry  \n",
       "0  MULTIPOLYGON (((120.58000 18.28157, 120.57713 ...  \n",
       "1  MULTIPOLYGON (((120.62244 18.24837, 120.62263 ...  "
      ]
     },
     "execution_count": 11,
     "metadata": {},
     "output_type": "execute_result"
    }
   ],
   "source": [
    "# query for subset of adm_zone\n",
    "adm_zone_query = f\"\"\"\n",
    "  SELECT\n",
    "    ADM1_PCODE,\n",
    "    ADM1_EN,\n",
    "    ADM2_PCODE,\n",
    "    ADM2_EN,\n",
    "    ADM3_PCODE,\n",
    "    ADM3_EN,\n",
    "    ADM4_PCODE,\n",
    "    ADM4_EN,\n",
    "    geometry\n",
    "  FROM\n",
    "  `{ADM1_BQ_ID}`\n",
    "  \"\"\"\n",
    "# convert from adm_zone table to gdf\n",
    "adm_df = gbq.read_gbq(adm_zone_query, \"tm-geospatial\", dialect=\"standard\")\n",
    "adm_gdf = gpd.GeoDataFrame(\n",
    "    adm_df, geometry=adm_df.geometry.apply(wkt.loads), crs=\"EPSG:4326\"\n",
    ")\n",
    "adm_gdf.head(2)"
   ]
  },
  {
   "attachments": {},
   "cell_type": "markdown",
   "metadata": {},
   "source": [
    "# Generate grids using geowrangler"
   ]
  },
  {
   "attachments": {},
   "cell_type": "markdown",
   "metadata": {},
   "source": [
    "## Remove CADT areas from admin bounds "
   ]
  },
  {
   "cell_type": "code",
   "execution_count": 12,
   "metadata": {},
   "outputs": [
    {
     "name": "stderr",
     "output_type": "stream",
     "text": [
      "/home/avell/miniconda3/envs/site-scoring/lib/python3.9/site-packages/geopandas/geodataframe.py:2196: UserWarning: `keep_geom_type=True` in overlay resulted in 700 dropped geometries of different geometry types than df1 has. Set `keep_geom_type=False` to retain all geometries\n",
      "  return geopandas.overlay(\n"
     ]
    },
    {
     "data": {
      "text/html": [
       "<div>\n",
       "<style scoped>\n",
       "    .dataframe tbody tr th:only-of-type {\n",
       "        vertical-align: middle;\n",
       "    }\n",
       "\n",
       "    .dataframe tbody tr th {\n",
       "        vertical-align: top;\n",
       "    }\n",
       "\n",
       "    .dataframe thead th {\n",
       "        text-align: right;\n",
       "    }\n",
       "</style>\n",
       "<table border=\"1\" class=\"dataframe\">\n",
       "  <thead>\n",
       "    <tr style=\"text-align: right;\">\n",
       "      <th></th>\n",
       "      <th>ADM1_PCODE</th>\n",
       "      <th>ADM1_EN</th>\n",
       "      <th>ADM2_PCODE</th>\n",
       "      <th>ADM2_EN</th>\n",
       "      <th>ADM3_PCODE</th>\n",
       "      <th>ADM3_EN</th>\n",
       "      <th>ADM4_PCODE</th>\n",
       "      <th>ADM4_EN</th>\n",
       "      <th>CADT_NO_</th>\n",
       "      <th>SURVEY_NO_</th>\n",
       "      <th>LOCATION</th>\n",
       "      <th>AREA</th>\n",
       "      <th>id</th>\n",
       "      <th>geometry</th>\n",
       "    </tr>\n",
       "  </thead>\n",
       "  <tbody>\n",
       "    <tr>\n",
       "      <th>0</th>\n",
       "      <td>PH010000000</td>\n",
       "      <td>Region I</td>\n",
       "      <td>PH012800000</td>\n",
       "      <td>Ilocos Norte</td>\n",
       "      <td>PH012802000</td>\n",
       "      <td>Bacarra</td>\n",
       "      <td>PH012802016</td>\n",
       "      <td>Natba</td>\n",
       "      <td>NaN</td>\n",
       "      <td>NaN</td>\n",
       "      <td>NaN</td>\n",
       "      <td>NaN</td>\n",
       "      <td>NaN</td>\n",
       "      <td>POLYGON ((120.58000 18.28157, 120.57713 18.274...</td>\n",
       "    </tr>\n",
       "    <tr>\n",
       "      <th>1</th>\n",
       "      <td>PH010000000</td>\n",
       "      <td>Region I</td>\n",
       "      <td>PH012800000</td>\n",
       "      <td>Ilocos Norte</td>\n",
       "      <td>PH012802000</td>\n",
       "      <td>Bacarra</td>\n",
       "      <td>PH012802037</td>\n",
       "      <td>San Roque II (Pob.)</td>\n",
       "      <td>NaN</td>\n",
       "      <td>NaN</td>\n",
       "      <td>NaN</td>\n",
       "      <td>NaN</td>\n",
       "      <td>NaN</td>\n",
       "      <td>POLYGON ((120.62244 18.24837, 120.62263 18.247...</td>\n",
       "    </tr>\n",
       "  </tbody>\n",
       "</table>\n",
       "</div>"
      ],
      "text/plain": [
       "    ADM1_PCODE   ADM1_EN   ADM2_PCODE       ADM2_EN   ADM3_PCODE  ADM3_EN  \\\n",
       "0  PH010000000  Region I  PH012800000  Ilocos Norte  PH012802000  Bacarra   \n",
       "1  PH010000000  Region I  PH012800000  Ilocos Norte  PH012802000  Bacarra   \n",
       "\n",
       "    ADM4_PCODE              ADM4_EN CADT_NO_ SURVEY_NO_ LOCATION AREA  id  \\\n",
       "0  PH012802016                Natba      NaN        NaN      NaN  NaN NaN   \n",
       "1  PH012802037  San Roque II (Pob.)      NaN        NaN      NaN  NaN NaN   \n",
       "\n",
       "                                            geometry  \n",
       "0  POLYGON ((120.58000 18.28157, 120.57713 18.274...  \n",
       "1  POLYGON ((120.62244 18.24837, 120.62263 18.247...  "
      ]
     },
     "execution_count": 12,
     "metadata": {},
     "output_type": "execute_result"
    }
   ],
   "source": [
    "adm_diff = adm_gdf.overlay(cadt_gdf, how=\"symmetric_difference\")\n",
    "adm_diff.head(2)"
   ]
  },
  {
   "cell_type": "code",
   "execution_count": 13,
   "metadata": {},
   "outputs": [
    {
     "data": {
      "text/plain": [
       "<Axes: >"
      ]
     },
     "execution_count": 13,
     "metadata": {},
     "output_type": "execute_result"
    },
    {
     "data": {
      "image/png": "[encoded data removed]",
      "text/plain": [
       "<Figure size 640x480 with 1 Axes>"
      ]
     },
     "metadata": {},
     "output_type": "display_data"
    }
   ],
   "source": [
    "adm_diff.plot()"
   ]
  },
  {
   "attachments": {},
   "cell_type": "markdown",
   "metadata": {},
   "source": [
    "## Create grids"
   ]
  },
  {
   "cell_type": "code",
   "execution_count": 14,
   "metadata": {},
   "outputs": [
    {
     "name": "stdout",
     "output_type": "stream",
     "text": [
      "CPU times: user 2min 37s, sys: 1.38 s, total: 2min 38s\n",
      "Wall time: 2min 39s\n"
     ]
    },
    {
     "data": {
      "text/html": [
       "<div>\n",
       "<style scoped>\n",
       "    .dataframe tbody tr th:only-of-type {\n",
       "        vertical-align: middle;\n",
       "    }\n",
       "\n",
       "    .dataframe tbody tr th {\n",
       "        vertical-align: top;\n",
       "    }\n",
       "\n",
       "    .dataframe thead th {\n",
       "        text-align: right;\n",
       "    }\n",
       "</style>\n",
       "<table border=\"1\" class=\"dataframe\">\n",
       "  <thead>\n",
       "    <tr style=\"text-align: right;\">\n",
       "      <th></th>\n",
       "      <th>x</th>\n",
       "      <th>y</th>\n",
       "      <th>geometry</th>\n",
       "    </tr>\n",
       "  </thead>\n",
       "  <tbody>\n",
       "    <tr>\n",
       "      <th>0</th>\n",
       "      <td>288</td>\n",
       "      <td>0</td>\n",
       "      <td>POLYGON ((119.45219 4.58729, 119.47015 4.58729...</td>\n",
       "    </tr>\n",
       "    <tr>\n",
       "      <th>1</th>\n",
       "      <td>289</td>\n",
       "      <td>0</td>\n",
       "      <td>POLYGON ((119.47015 4.58729, 119.48812 4.58729...</td>\n",
       "    </tr>\n",
       "  </tbody>\n",
       "</table>\n",
       "</div>"
      ],
      "text/plain": [
       "     x  y                                           geometry\n",
       "0  288  0  POLYGON ((119.45219 4.58729, 119.47015 4.58729...\n",
       "1  289  0  POLYGON ((119.47015 4.58729, 119.48812 4.58729..."
      ]
     },
     "execution_count": 14,
     "metadata": {},
     "output_type": "execute_result"
    }
   ],
   "source": [
    "%%time\n",
    "# set grid parameters\n",
    "grid_generator = grids.SquareGridGenerator(2000)\n",
    "\n",
    "# create grids\n",
    "grid_gdf = grid_generator.generate_grid(adm_diff)\n",
    "grid_gdf.head(2)"
   ]
  },
  {
   "cell_type": "code",
   "execution_count": 15,
   "metadata": {},
   "outputs": [
    {
     "data": {
      "text/plain": [
       "(79982, 3)"
      ]
     },
     "execution_count": 15,
     "metadata": {},
     "output_type": "execute_result"
    }
   ],
   "source": [
    "grid_gdf.shape"
   ]
  },
  {
   "cell_type": "code",
   "execution_count": 16,
   "metadata": {},
   "outputs": [
    {
     "data": {
      "text/plain": [
       "<Axes: >"
      ]
     },
     "execution_count": 16,
     "metadata": {},
     "output_type": "execute_result"
    },
    {
     "data": {
      "image/png": "[encoded data removed]",
      "text/plain": [
       "<Figure size 640x480 with 1 Axes>"
      ]
     },
     "metadata": {},
     "output_type": "display_data"
    }
   ],
   "source": [
    "grid_gdf.plot()"
   ]
  },
  {
   "cell_type": "code",
   "execution_count": 17,
   "metadata": {},
   "outputs": [
    {
     "data": {
      "text/html": [
       "<div>\n",
       "<style scoped>\n",
       "    .dataframe tbody tr th:only-of-type {\n",
       "        vertical-align: middle;\n",
       "    }\n",
       "\n",
       "    .dataframe tbody tr th {\n",
       "        vertical-align: top;\n",
       "    }\n",
       "\n",
       "    .dataframe thead th {\n",
       "        text-align: right;\n",
       "    }\n",
       "</style>\n",
       "<table border=\"1\" class=\"dataframe\">\n",
       "  <thead>\n",
       "    <tr style=\"text-align: right;\">\n",
       "      <th></th>\n",
       "      <th>x</th>\n",
       "      <th>y</th>\n",
       "      <th>geometry</th>\n",
       "      <th>index_right</th>\n",
       "      <th>ADM1_PCODE</th>\n",
       "      <th>ADM1_EN</th>\n",
       "      <th>ADM2_PCODE</th>\n",
       "      <th>ADM2_EN</th>\n",
       "      <th>ADM3_PCODE</th>\n",
       "      <th>ADM3_EN</th>\n",
       "      <th>ADM4_PCODE</th>\n",
       "      <th>ADM4_EN</th>\n",
       "      <th>CADT_NO_</th>\n",
       "      <th>SURVEY_NO_</th>\n",
       "      <th>LOCATION</th>\n",
       "      <th>AREA</th>\n",
       "      <th>id</th>\n",
       "    </tr>\n",
       "  </thead>\n",
       "  <tbody>\n",
       "    <tr>\n",
       "      <th>0</th>\n",
       "      <td>288</td>\n",
       "      <td>0</td>\n",
       "      <td>POLYGON ((119.45219 4.58729, 119.47015 4.58729...</td>\n",
       "      <td>41162</td>\n",
       "      <td>PH150000000</td>\n",
       "      <td>Autonomous Region in Muslim Mindanao</td>\n",
       "      <td>PH157000000</td>\n",
       "      <td>Tawi-Tawi</td>\n",
       "      <td>PH157011000</td>\n",
       "      <td>Sibutu</td>\n",
       "      <td>PH157011007</td>\n",
       "      <td>Ligayan</td>\n",
       "      <td>NaN</td>\n",
       "      <td>NaN</td>\n",
       "      <td>NaN</td>\n",
       "      <td>NaN</td>\n",
       "      <td>NaN</td>\n",
       "    </tr>\n",
       "    <tr>\n",
       "      <th>1</th>\n",
       "      <td>289</td>\n",
       "      <td>0</td>\n",
       "      <td>POLYGON ((119.47015 4.58729, 119.48812 4.58729...</td>\n",
       "      <td>41162</td>\n",
       "      <td>PH150000000</td>\n",
       "      <td>Autonomous Region in Muslim Mindanao</td>\n",
       "      <td>PH157000000</td>\n",
       "      <td>Tawi-Tawi</td>\n",
       "      <td>PH157011000</td>\n",
       "      <td>Sibutu</td>\n",
       "      <td>PH157011007</td>\n",
       "      <td>Ligayan</td>\n",
       "      <td>NaN</td>\n",
       "      <td>NaN</td>\n",
       "      <td>NaN</td>\n",
       "      <td>NaN</td>\n",
       "      <td>NaN</td>\n",
       "    </tr>\n",
       "  </tbody>\n",
       "</table>\n",
       "</div>"
      ],
      "text/plain": [
       "     x  y                                           geometry  index_right  \\\n",
       "0  288  0  POLYGON ((119.45219 4.58729, 119.47015 4.58729...        41162   \n",
       "1  289  0  POLYGON ((119.47015 4.58729, 119.48812 4.58729...        41162   \n",
       "\n",
       "    ADM1_PCODE                               ADM1_EN   ADM2_PCODE    ADM2_EN  \\\n",
       "0  PH150000000  Autonomous Region in Muslim Mindanao  PH157000000  Tawi-Tawi   \n",
       "1  PH150000000  Autonomous Region in Muslim Mindanao  PH157000000  Tawi-Tawi   \n",
       "\n",
       "    ADM3_PCODE ADM3_EN   ADM4_PCODE  ADM4_EN CADT_NO_ SURVEY_NO_ LOCATION  \\\n",
       "0  PH157011000  Sibutu  PH157011007  Ligayan      NaN        NaN      NaN   \n",
       "1  PH157011000  Sibutu  PH157011007  Ligayan      NaN        NaN      NaN   \n",
       "\n",
       "  AREA  id  \n",
       "0  NaN NaN  \n",
       "1  NaN NaN  "
      ]
     },
     "execution_count": 17,
     "metadata": {},
     "output_type": "execute_result"
    }
   ],
   "source": [
    "# add admin info\n",
    "grids_wadm = grid_gdf.sjoin(adm_diff, predicate=\"intersects\")\n",
    "grids_wadm.head(2)"
   ]
  },
  {
   "cell_type": "code",
   "execution_count": 18,
   "metadata": {},
   "outputs": [
    {
     "data": {
      "image/png": "[encoded data removed]",
      "text/plain": [
       "<Figure size 800x800 with 1 Axes>"
      ]
     },
     "metadata": {},
     "output_type": "display_data"
    }
   ],
   "source": [
    "# Plot for sense checking\n",
    "ax = adm_diff.plot(\n",
    "    facecolor=\"none\", edgecolor=\"black\", legend=True, figsize=[8, 8], linewidth=2\n",
    ")\n",
    "ax = grids_wadm.plot(ax=ax, facecolor=\"none\", edgecolor=\"red\", alpha=0.5, linewidth=0.5)"
   ]
  },
  {
   "cell_type": "code",
   "execution_count": 19,
   "metadata": {},
   "outputs": [
    {
     "data": {
      "text/html": [
       "<div>\n",
       "<style scoped>\n",
       "    .dataframe tbody tr th:only-of-type {\n",
       "        vertical-align: middle;\n",
       "    }\n",
       "\n",
       "    .dataframe tbody tr th {\n",
       "        vertical-align: top;\n",
       "    }\n",
       "\n",
       "    .dataframe thead th {\n",
       "        text-align: right;\n",
       "    }\n",
       "</style>\n",
       "<table border=\"1\" class=\"dataframe\">\n",
       "  <thead>\n",
       "    <tr style=\"text-align: right;\">\n",
       "      <th></th>\n",
       "      <th>x</th>\n",
       "      <th>y</th>\n",
       "      <th>geometry</th>\n",
       "      <th>index_right</th>\n",
       "      <th>ADM1_PCODE</th>\n",
       "      <th>ADM1_EN</th>\n",
       "      <th>ADM2_PCODE</th>\n",
       "      <th>ADM2_EN</th>\n",
       "      <th>ADM3_PCODE</th>\n",
       "      <th>ADM3_EN</th>\n",
       "      <th>ADM4_PCODE</th>\n",
       "      <th>ADM4_EN</th>\n",
       "      <th>CADT_NO_</th>\n",
       "      <th>SURVEY_NO_</th>\n",
       "      <th>LOCATION</th>\n",
       "      <th>AREA</th>\n",
       "      <th>id</th>\n",
       "    </tr>\n",
       "  </thead>\n",
       "  <tbody>\n",
       "    <tr>\n",
       "      <th>0</th>\n",
       "      <td>288</td>\n",
       "      <td>0</td>\n",
       "      <td>POLYGON ((119.45219 4.58729, 119.47015 4.58729...</td>\n",
       "      <td>41162</td>\n",
       "      <td>PH150000000</td>\n",
       "      <td>Autonomous Region in Muslim Mindanao</td>\n",
       "      <td>PH157000000</td>\n",
       "      <td>Tawi-Tawi</td>\n",
       "      <td>PH157011000</td>\n",
       "      <td>Sibutu</td>\n",
       "      <td>PH157011007</td>\n",
       "      <td>Ligayan</td>\n",
       "      <td>NaN</td>\n",
       "      <td>NaN</td>\n",
       "      <td>NaN</td>\n",
       "      <td>NaN</td>\n",
       "      <td>NaN</td>\n",
       "    </tr>\n",
       "    <tr>\n",
       "      <th>1</th>\n",
       "      <td>289</td>\n",
       "      <td>0</td>\n",
       "      <td>POLYGON ((119.47015 4.58729, 119.48812 4.58729...</td>\n",
       "      <td>41162</td>\n",
       "      <td>PH150000000</td>\n",
       "      <td>Autonomous Region in Muslim Mindanao</td>\n",
       "      <td>PH157000000</td>\n",
       "      <td>Tawi-Tawi</td>\n",
       "      <td>PH157011000</td>\n",
       "      <td>Sibutu</td>\n",
       "      <td>PH157011007</td>\n",
       "      <td>Ligayan</td>\n",
       "      <td>NaN</td>\n",
       "      <td>NaN</td>\n",
       "      <td>NaN</td>\n",
       "      <td>NaN</td>\n",
       "      <td>NaN</td>\n",
       "    </tr>\n",
       "    <tr>\n",
       "      <th>4</th>\n",
       "      <td>288</td>\n",
       "      <td>2</td>\n",
       "      <td>POLYGON ((119.45219 4.62311, 119.47015 4.62311...</td>\n",
       "      <td>41162</td>\n",
       "      <td>PH150000000</td>\n",
       "      <td>Autonomous Region in Muslim Mindanao</td>\n",
       "      <td>PH157000000</td>\n",
       "      <td>Tawi-Tawi</td>\n",
       "      <td>PH157011000</td>\n",
       "      <td>Sibutu</td>\n",
       "      <td>PH157011007</td>\n",
       "      <td>Ligayan</td>\n",
       "      <td>NaN</td>\n",
       "      <td>NaN</td>\n",
       "      <td>NaN</td>\n",
       "      <td>NaN</td>\n",
       "      <td>NaN</td>\n",
       "    </tr>\n",
       "    <tr>\n",
       "      <th>5</th>\n",
       "      <td>288</td>\n",
       "      <td>3</td>\n",
       "      <td>POLYGON ((119.45219 4.64102, 119.47015 4.64102...</td>\n",
       "      <td>41162</td>\n",
       "      <td>PH150000000</td>\n",
       "      <td>Autonomous Region in Muslim Mindanao</td>\n",
       "      <td>PH157000000</td>\n",
       "      <td>Tawi-Tawi</td>\n",
       "      <td>PH157011000</td>\n",
       "      <td>Sibutu</td>\n",
       "      <td>PH157011007</td>\n",
       "      <td>Ligayan</td>\n",
       "      <td>NaN</td>\n",
       "      <td>NaN</td>\n",
       "      <td>NaN</td>\n",
       "      <td>NaN</td>\n",
       "      <td>NaN</td>\n",
       "    </tr>\n",
       "    <tr>\n",
       "      <th>2</th>\n",
       "      <td>284</td>\n",
       "      <td>1</td>\n",
       "      <td>POLYGON ((119.38032 4.60520, 119.39829 4.60520...</td>\n",
       "      <td>34614</td>\n",
       "      <td>PH150000000</td>\n",
       "      <td>Autonomous Region in Muslim Mindanao</td>\n",
       "      <td>PH157000000</td>\n",
       "      <td>Tawi-Tawi</td>\n",
       "      <td>PH157005000</td>\n",
       "      <td>Sitangkai</td>\n",
       "      <td>PH157005004</td>\n",
       "      <td>Sitangkai Poblacion</td>\n",
       "      <td>NaN</td>\n",
       "      <td>NaN</td>\n",
       "      <td>NaN</td>\n",
       "      <td>NaN</td>\n",
       "      <td>NaN</td>\n",
       "    </tr>\n",
       "    <tr>\n",
       "      <th>...</th>\n",
       "      <td>...</td>\n",
       "      <td>...</td>\n",
       "      <td>...</td>\n",
       "      <td>...</td>\n",
       "      <td>...</td>\n",
       "      <td>...</td>\n",
       "      <td>...</td>\n",
       "      <td>...</td>\n",
       "      <td>...</td>\n",
       "      <td>...</td>\n",
       "      <td>...</td>\n",
       "      <td>...</td>\n",
       "      <td>...</td>\n",
       "      <td>...</td>\n",
       "      <td>...</td>\n",
       "      <td>...</td>\n",
       "      <td>...</td>\n",
       "    </tr>\n",
       "    <tr>\n",
       "      <th>79974</th>\n",
       "      <td>657</td>\n",
       "      <td>286</td>\n",
       "      <td>POLYGON ((126.08176 9.68413, 126.09972 9.68413...</td>\n",
       "      <td>39360</td>\n",
       "      <td>PH160000000</td>\n",
       "      <td>Region XIII</td>\n",
       "      <td>PH166700000</td>\n",
       "      <td>Surigao del Norte</td>\n",
       "      <td>PH166707000</td>\n",
       "      <td>Dapa</td>\n",
       "      <td>PH166707008</td>\n",
       "      <td>Corregidor</td>\n",
       "      <td>NaN</td>\n",
       "      <td>NaN</td>\n",
       "      <td>NaN</td>\n",
       "      <td>NaN</td>\n",
       "      <td>NaN</td>\n",
       "    </tr>\n",
       "    <tr>\n",
       "      <th>79976</th>\n",
       "      <td>660</td>\n",
       "      <td>289</td>\n",
       "      <td>POLYGON ((126.13565 9.73725, 126.15362 9.73725...</td>\n",
       "      <td>34736</td>\n",
       "      <td>PH160000000</td>\n",
       "      <td>Region XIII</td>\n",
       "      <td>PH166700000</td>\n",
       "      <td>Surigao del Norte</td>\n",
       "      <td>PH166710000</td>\n",
       "      <td>General Luna</td>\n",
       "      <td>PH166710006</td>\n",
       "      <td>Daku</td>\n",
       "      <td>NaN</td>\n",
       "      <td>NaN</td>\n",
       "      <td>NaN</td>\n",
       "      <td>NaN</td>\n",
       "      <td>NaN</td>\n",
       "    </tr>\n",
       "    <tr>\n",
       "      <th>79977</th>\n",
       "      <td>661</td>\n",
       "      <td>288</td>\n",
       "      <td>POLYGON ((126.15362 9.71954, 126.17159 9.71954...</td>\n",
       "      <td>34736</td>\n",
       "      <td>PH160000000</td>\n",
       "      <td>Region XIII</td>\n",
       "      <td>PH166700000</td>\n",
       "      <td>Surigao del Norte</td>\n",
       "      <td>PH166710000</td>\n",
       "      <td>General Luna</td>\n",
       "      <td>PH166710006</td>\n",
       "      <td>Daku</td>\n",
       "      <td>NaN</td>\n",
       "      <td>NaN</td>\n",
       "      <td>NaN</td>\n",
       "      <td>NaN</td>\n",
       "      <td>NaN</td>\n",
       "    </tr>\n",
       "    <tr>\n",
       "      <th>79978</th>\n",
       "      <td>661</td>\n",
       "      <td>289</td>\n",
       "      <td>POLYGON ((126.15362 9.73725, 126.17159 9.73725...</td>\n",
       "      <td>34736</td>\n",
       "      <td>PH160000000</td>\n",
       "      <td>Region XIII</td>\n",
       "      <td>PH166700000</td>\n",
       "      <td>Surigao del Norte</td>\n",
       "      <td>PH166710000</td>\n",
       "      <td>General Luna</td>\n",
       "      <td>PH166710006</td>\n",
       "      <td>Daku</td>\n",
       "      <td>NaN</td>\n",
       "      <td>NaN</td>\n",
       "      <td>NaN</td>\n",
       "      <td>NaN</td>\n",
       "      <td>NaN</td>\n",
       "    </tr>\n",
       "    <tr>\n",
       "      <th>79979</th>\n",
       "      <td>662</td>\n",
       "      <td>289</td>\n",
       "      <td>POLYGON ((126.17159 9.73725, 126.18955 9.73725...</td>\n",
       "      <td>34736</td>\n",
       "      <td>PH160000000</td>\n",
       "      <td>Region XIII</td>\n",
       "      <td>PH166700000</td>\n",
       "      <td>Surigao del Norte</td>\n",
       "      <td>PH166710000</td>\n",
       "      <td>General Luna</td>\n",
       "      <td>PH166710006</td>\n",
       "      <td>Daku</td>\n",
       "      <td>NaN</td>\n",
       "      <td>NaN</td>\n",
       "      <td>NaN</td>\n",
       "      <td>NaN</td>\n",
       "      <td>NaN</td>\n",
       "    </tr>\n",
       "  </tbody>\n",
       "</table>\n",
       "<p>235752 rows × 17 columns</p>\n",
       "</div>"
      ],
      "text/plain": [
       "         x    y                                           geometry  \\\n",
       "0      288    0  POLYGON ((119.45219 4.58729, 119.47015 4.58729...   \n",
       "1      289    0  POLYGON ((119.47015 4.58729, 119.48812 4.58729...   \n",
       "4      288    2  POLYGON ((119.45219 4.62311, 119.47015 4.62311...   \n",
       "5      288    3  POLYGON ((119.45219 4.64102, 119.47015 4.64102...   \n",
       "2      284    1  POLYGON ((119.38032 4.60520, 119.39829 4.60520...   \n",
       "...    ...  ...                                                ...   \n",
       "79974  657  286  POLYGON ((126.08176 9.68413, 126.09972 9.68413...   \n",
       "79976  660  289  POLYGON ((126.13565 9.73725, 126.15362 9.73725...   \n",
       "79977  661  288  POLYGON ((126.15362 9.71954, 126.17159 9.71954...   \n",
       "79978  661  289  POLYGON ((126.15362 9.73725, 126.17159 9.73725...   \n",
       "79979  662  289  POLYGON ((126.17159 9.73725, 126.18955 9.73725...   \n",
       "\n",
       "       index_right   ADM1_PCODE                               ADM1_EN  \\\n",
       "0            41162  PH150000000  Autonomous Region in Muslim Mindanao   \n",
       "1            41162  PH150000000  Autonomous Region in Muslim Mindanao   \n",
       "4            41162  PH150000000  Autonomous Region in Muslim Mindanao   \n",
       "5            41162  PH150000000  Autonomous Region in Muslim Mindanao   \n",
       "2            34614  PH150000000  Autonomous Region in Muslim Mindanao   \n",
       "...            ...          ...                                   ...   \n",
       "79974        39360  PH160000000                           Region XIII   \n",
       "79976        34736  PH160000000                           Region XIII   \n",
       "79977        34736  PH160000000                           Region XIII   \n",
       "79978        34736  PH160000000                           Region XIII   \n",
       "79979        34736  PH160000000                           Region XIII   \n",
       "\n",
       "        ADM2_PCODE            ADM2_EN   ADM3_PCODE       ADM3_EN   ADM4_PCODE  \\\n",
       "0      PH157000000          Tawi-Tawi  PH157011000        Sibutu  PH157011007   \n",
       "1      PH157000000          Tawi-Tawi  PH157011000        Sibutu  PH157011007   \n",
       "4      PH157000000          Tawi-Tawi  PH157011000        Sibutu  PH157011007   \n",
       "5      PH157000000          Tawi-Tawi  PH157011000        Sibutu  PH157011007   \n",
       "2      PH157000000          Tawi-Tawi  PH157005000     Sitangkai  PH157005004   \n",
       "...            ...                ...          ...           ...          ...   \n",
       "79974  PH166700000  Surigao del Norte  PH166707000          Dapa  PH166707008   \n",
       "79976  PH166700000  Surigao del Norte  PH166710000  General Luna  PH166710006   \n",
       "79977  PH166700000  Surigao del Norte  PH166710000  General Luna  PH166710006   \n",
       "79978  PH166700000  Surigao del Norte  PH166710000  General Luna  PH166710006   \n",
       "79979  PH166700000  Surigao del Norte  PH166710000  General Luna  PH166710006   \n",
       "\n",
       "                   ADM4_EN CADT_NO_ SURVEY_NO_ LOCATION AREA  id  \n",
       "0                  Ligayan      NaN        NaN      NaN  NaN NaN  \n",
       "1                  Ligayan      NaN        NaN      NaN  NaN NaN  \n",
       "4                  Ligayan      NaN        NaN      NaN  NaN NaN  \n",
       "5                  Ligayan      NaN        NaN      NaN  NaN NaN  \n",
       "2      Sitangkai Poblacion      NaN        NaN      NaN  NaN NaN  \n",
       "...                    ...      ...        ...      ...  ...  ..  \n",
       "79974           Corregidor      NaN        NaN      NaN  NaN NaN  \n",
       "79976                 Daku      NaN        NaN      NaN  NaN NaN  \n",
       "79977                 Daku      NaN        NaN      NaN  NaN NaN  \n",
       "79978                 Daku      NaN        NaN      NaN  NaN NaN  \n",
       "79979                 Daku      NaN        NaN      NaN  NaN NaN  \n",
       "\n",
       "[235752 rows x 17 columns]"
      ]
     },
     "execution_count": 19,
     "metadata": {},
     "output_type": "execute_result"
    }
   ],
   "source": [
    "grids_wadm"
   ]
  },
  {
   "cell_type": "code",
   "execution_count": null,
   "metadata": {},
   "outputs": [],
   "source": []
  },
  {
   "attachments": {},
   "cell_type": "markdown",
   "metadata": {},
   "source": [
    "## Upload grids to bq"
   ]
  },
  {
   "cell_type": "code",
   "execution_count": 21,
   "metadata": {},
   "outputs": [],
   "source": [
    "# define data type for geometry\n",
    "table_schema = [\n",
    "    {\"name\": \"bing_id\", \"type\": \"STRING\"},\n",
    "    {\"name\": \"x\", \"type\": \"NUMERIC\"},\n",
    "    {\"name\": \"y\", \"type\": \"NUMERIC\"},\n",
    "    {\"name\": \"ADM1_EN\", \"type\": \"STRING\"},\n",
    "    {\"name\": \"ADM1_PCODE\", \"type\": \"STRING\"},\n",
    "    {\"name\": \"ADM2_EN\", \"type\": \"STRING\"},\n",
    "    {\"name\": \"ADM2_PCODE\", \"type\": \"STRING\"},\n",
    "    {\"name\": \"ADM3_EN\", \"type\": \"STRING\"},\n",
    "    {\"name\": \"ADM3_PCODE\", \"type\": \"STRING\"},\n",
    "    {\"name\": \"ADM4_EN\", \"type\": \"STRING\"},\n",
    "    {\"name\": \"ADM4_PCODE\", \"type\": \"STRING\"},\n",
    "    {\"name\": \"geometry\", \"type\": \"GEOGRAPHY\"},\n",
    "]\n",
    "\n",
    "gbq.to_gbq(\n",
    "    grids_wadm,\n",
    "    GRIDS_2K_BQ_ID,\n",
    "    GCP_PROJ_ID,\n",
    "    if_exists=\"fail\",\n",
    "    table_schema=table_schema,\n",
    "    progress_bar=True,\n",
    "    chunksize=10000,  # chunk the upload to stay within BQ limits\n",
    "    api_method=\"load_csv\",  # chunksize only works if load_csv (default is load_parquet)\n",
    ")"
   ]
  }
 ],
 "metadata": {
  "kernelspec": {
   "display_name": "site-scoring",
   "language": "python",
   "name": "python3"
  },
  "language_info": {
   "codemirror_mode": {
    "name": "ipython",
    "version": 3
   },
   "file_extension": ".py",
   "mimetype": "text/x-python",
   "name": "python",
   "nbconvert_exporter": "python",
   "pygments_lexer": "ipython3",
   "version": "3.9.16"
  },
  "orig_nbformat": 4
 },
 "nbformat": 4,
 "nbformat_minor": 2
}
