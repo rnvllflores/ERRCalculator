{
 "cells": [
  {
   "cell_type": "markdown",
   "metadata": {},
   "source": [
    "# Extract data from GCS and upload to BigQuery"
   ]
  },
  {
   "cell_type": "code",
   "execution_count": 25,
   "metadata": {},
   "outputs": [],
   "source": [
    "# Standard Imports\n",
    "import sys\n",
    "import os\n",
    "import re\n",
    "from tqdm import tqdm\n",
    "import pandas as pd\n",
    "import geopandas as gpd\n",
    "\n",
    "# Google Cloud Imports"
   ]
  },
  {
   "cell_type": "code",
   "execution_count": 2,
   "metadata": {},
   "outputs": [],
   "source": [
    "# Util imports\n",
    "sys.path.append(\"../../\")  # include parent directory\n",
    "from src.settings import GEOJSON_DATA_DIR"
   ]
  },
  {
   "cell_type": "code",
   "execution_count": 4,
   "metadata": {},
   "outputs": [],
   "source": [
    "# Variables\n",
    "SILUP_DIR = GEOJSON_DATA_DIR / \"SILUP\"\n",
    "\n",
    "# GCS Variables\n",
    "SILUP_GCS_DIR = \"gs://silup-gis/onebase/\"\n",
    "\n",
    "# BigQuery Variables\n",
    "SRC_DATASET_ID = \"biomass_inventory\"\n",
    "DATASET_ID = \"carbon_stock\"\n",
    "IF_EXISTS = \"replace\""
   ]
  },
  {
   "cell_type": "markdown",
   "metadata": {},
   "source": [
    "## Downlaod data"
   ]
  },
  {
   "cell_type": "code",
   "execution_count": 6,
   "metadata": {},
   "outputs": [],
   "source": [
    "SILUP_DIR.mkdir(exist_ok=True)"
   ]
  },
  {
   "cell_type": "code",
   "execution_count": null,
   "metadata": {},
   "outputs": [],
   "source": [
    "!gsutil -m cp $SILUP_GCS_DIR\"*.geojson\" $SILUP_DIR"
   ]
  },
  {
   "cell_type": "markdown",
   "metadata": {},
   "source": [
    "# Combine Separate SILUP and Format data"
   ]
  },
  {
   "cell_type": "code",
   "execution_count": 28,
   "metadata": {},
   "outputs": [],
   "source": [
    "file_list = os.listdir(SILUP_DIR)"
   ]
  },
  {
   "cell_type": "code",
   "execution_count": 32,
   "metadata": {},
   "outputs": [
    {
     "data": {
      "text/plain": [
       "['CADT 092.geojson',\n",
       " 'CADT 153.geojson',\n",
       " 'v0 CADT 117.geojson',\n",
       " 'CADT 116.geojson',\n",
       " 'v0 CADT 077.geojson',\n",
       " 'CADT 048.geojson',\n",
       " 'v0 CADT 246.geojson',\n",
       " 'v0 CADT 093.geojson',\n",
       " 'v0 CADT 142.geojson',\n",
       " 'CADT 114.geojson',\n",
       " 'CADT 210.geojson',\n",
       " 'CADT 254.geojson',\n",
       " 'CADT 237.geojson',\n",
       " 'v0 CADT 090.geojson',\n",
       " 'v0 CADT 255.geojson',\n",
       " 'CADT 115.geojson',\n",
       " 'v0 CADT 089.geojson',\n",
       " 'v0 CADT 078.geojson',\n",
       " 'v0 CADT 136.geojson',\n",
       " 'v0 CADT 250.geojson',\n",
       " 'v0 CADT 223.geojson',\n",
       " 'CADT 002.geojson',\n",
       " 'CADT 118.geojson',\n",
       " 'v0 CADT 079.geojson',\n",
       " 'CADT 253.geojson',\n",
       " 'v0 CADT 238.geojson',\n",
       " 'CADT 239.geojson',\n",
       " 'v0 CADT 252.geojson',\n",
       " 'CADT 134.geojson',\n",
       " 'CADT 256 .geojson']"
      ]
     },
     "execution_count": 32,
     "metadata": {},
     "output_type": "execute_result"
    }
   ],
   "source": [
    "file_list"
   ]
  },
  {
   "cell_type": "code",
   "execution_count": null,
   "metadata": {},
   "outputs": [],
   "source": [
    "columns_to_check = [\"BAU_0\"]"
   ]
  },
  {
   "cell_type": "code",
   "execution_count": 82,
   "metadata": {},
   "outputs": [
    {
     "name": "stderr",
     "output_type": "stream",
     "text": [
      "100%|██████████| 30/30 [01:03<00:00,  2.13s/it]\n"
     ]
    }
   ],
   "source": [
    "silup_gdf = []\n",
    "\n",
    "for filename in tqdm(file_list):\n",
    "    data = gpd.read_file(SILUP_DIR / filename)\n",
    "\n",
    "    # Extract CADT number\n",
    "    cadt_num = re.findall(r\"CADT (\\d+)\", filename)[0]\n",
    "\n",
    "    # Extract version\n",
    "    if \"v0\" in file_list[2]:\n",
    "        version = \"v0\"\n",
    "    else:\n",
    "        version = \"final\"\n",
    "\n",
    "    for col in columns_to_check:\n",
    "        if \"BAU\" in col:\n",
    "            data.rename(columns={col: \"BAU\"}, inplace=True)\n",
    "        if \"PLAN\" in col:\n",
    "            data.rename(columns={col: \"PLAN\"}, inplace=True)\n",
    "\n",
    "    data.reset_index(drop=True, inplace=True)\n",
    "    data[\"cadt_num\"] = cadt_num\n",
    "    data[\"version\"] = version\n",
    "    silup_gdf.append(data)"
   ]
  },
  {
   "cell_type": "code",
   "execution_count": 84,
   "metadata": {},
   "outputs": [
    {
     "name": "stdout",
     "output_type": "stream",
     "text": [
      "(3027, 11)\n",
      "(6970, 10)\n",
      "(24922, 12)\n",
      "(2803, 11)\n",
      "(10466, 12)\n",
      "(2346, 12)\n",
      "(26457, 12)\n",
      "(17013, 12)\n",
      "(1773, 12)\n",
      "(33304, 10)\n",
      "(19061, 10)\n",
      "(753, 11)\n",
      "(341, 11)\n",
      "(4808, 12)\n",
      "(29262, 12)\n",
      "(5408, 12)\n",
      "(27480, 12)\n",
      "(15274, 12)\n",
      "(19186, 12)\n",
      "(18248, 12)\n",
      "(18531, 12)\n",
      "(1793, 11)\n",
      "(17832, 10)\n",
      "(9003, 12)\n",
      "(2183, 11)\n",
      "(14087, 12)\n",
      "(2912, 11)\n",
      "(32134, 12)\n",
      "(4666, 13)\n",
      "(2231, 11)\n"
     ]
    }
   ],
   "source": [
    "for df in silup_gdf:\n",
    "    print(df.shape)"
   ]
  },
  {
   "cell_type": "code",
   "execution_count": 65,
   "metadata": {},
   "outputs": [
    {
     "data": {
      "text/plain": [
       "Index(['index', 'fid', 'F_NF', 'LCC_GEN', 'PLAN', 'BAU', 'ELI_TYPE', 'AREA',\n",
       "       'PROVINCE', 'geometry', 'cadt_num', 'version'],\n",
       "      dtype='object')"
      ]
     },
     "execution_count": 65,
     "metadata": {},
     "output_type": "execute_result"
    }
   ],
   "source": [
    "silup_gdf[0].columns"
   ]
  },
  {
   "cell_type": "code",
   "execution_count": 67,
   "metadata": {},
   "outputs": [
    {
     "data": {
      "text/plain": [
       "Index(['index', 'fid', 'CADT_No', 'PROVINCE', 'LCC_GEN', 'PLAN', 'BAU',\n",
       "       'ELI_TYPE', 'AREA', 'CADT_Name', 'geometry', 'cadt_num', 'version'],\n",
       "      dtype='object')"
      ]
     },
     "execution_count": 67,
     "metadata": {},
     "output_type": "execute_result"
    }
   ],
   "source": [
    "silup_gdf[2].columns"
   ]
  },
  {
   "cell_type": "code",
   "execution_count": 69,
   "metadata": {},
   "outputs": [
    {
     "data": {
      "text/plain": [
       "Index(['index', 'fid', 'LCC_GEN', 'F_NF', 'PLAN', 'BAU', 'ELI_TYPE', 'AREA',\n",
       "       'PROVINCE', 'geometry', 'cadt_num', 'version'],\n",
       "      dtype='object')"
      ]
     },
     "execution_count": 69,
     "metadata": {},
     "output_type": "execute_result"
    }
   ],
   "source": [
    "silup_gdf[3].columns"
   ]
  },
  {
   "cell_type": "code",
   "execution_count": 71,
   "metadata": {},
   "outputs": [
    {
     "data": {
      "text/plain": [
       "'CADT 116.geojson'"
      ]
     },
     "execution_count": 71,
     "metadata": {},
     "output_type": "execute_result"
    }
   ],
   "source": [
    "file_list[3]"
   ]
  },
  {
   "cell_type": "code",
   "execution_count": 70,
   "metadata": {},
   "outputs": [
    {
     "data": {
      "text/html": [
       "<div>\n",
       "<style scoped>\n",
       "    .dataframe tbody tr th:only-of-type {\n",
       "        vertical-align: middle;\n",
       "    }\n",
       "\n",
       "    .dataframe tbody tr th {\n",
       "        vertical-align: top;\n",
       "    }\n",
       "\n",
       "    .dataframe thead th {\n",
       "        text-align: right;\n",
       "    }\n",
       "</style>\n",
       "<table border=\"1\" class=\"dataframe\">\n",
       "  <thead>\n",
       "    <tr style=\"text-align: right;\">\n",
       "      <th></th>\n",
       "      <th>index</th>\n",
       "      <th>fid</th>\n",
       "      <th>LCC_GEN</th>\n",
       "      <th>F_NF</th>\n",
       "      <th>PLAN</th>\n",
       "      <th>BAU</th>\n",
       "      <th>ELI_TYPE</th>\n",
       "      <th>AREA</th>\n",
       "      <th>PROVINCE</th>\n",
       "      <th>geometry</th>\n",
       "      <th>cadt_num</th>\n",
       "      <th>version</th>\n",
       "    </tr>\n",
       "  </thead>\n",
       "  <tbody>\n",
       "    <tr>\n",
       "      <th>0</th>\n",
       "      <td>0</td>\n",
       "      <td>1</td>\n",
       "      <td>DIPTEROCARP FOREST</td>\n",
       "      <td>FOREST</td>\n",
       "      <td>CONSERVATION</td>\n",
       "      <td>ARTISANAL MINING</td>\n",
       "      <td>AUD</td>\n",
       "      <td>0.471283</td>\n",
       "      <td>Surigao Del Sur</td>\n",
       "      <td>MULTIPOLYGON (((593981.461 995571.964, 593980....</td>\n",
       "      <td>116</td>\n",
       "      <td>v0</td>\n",
       "    </tr>\n",
       "    <tr>\n",
       "      <th>1</th>\n",
       "      <td>1</td>\n",
       "      <td>2</td>\n",
       "      <td>DIPTEROCARP FOREST</td>\n",
       "      <td>FOREST</td>\n",
       "      <td>CONSERVATION</td>\n",
       "      <td>ARTISANAL MINING</td>\n",
       "      <td>AUD</td>\n",
       "      <td>9.145701</td>\n",
       "      <td>Surigao Del Sur</td>\n",
       "      <td>MULTIPOLYGON (((595480.841 984704.305, 595480....</td>\n",
       "      <td>116</td>\n",
       "      <td>v0</td>\n",
       "    </tr>\n",
       "    <tr>\n",
       "      <th>2</th>\n",
       "      <td>2</td>\n",
       "      <td>3</td>\n",
       "      <td>DIPTEROCARP FOREST</td>\n",
       "      <td>FOREST</td>\n",
       "      <td>CONSERVATION</td>\n",
       "      <td>ARTISANAL MINING</td>\n",
       "      <td>AUD</td>\n",
       "      <td>0.325669</td>\n",
       "      <td>Surigao Del Sur</td>\n",
       "      <td>MULTIPOLYGON (((599979.938 992172.819, 599980....</td>\n",
       "      <td>116</td>\n",
       "      <td>v0</td>\n",
       "    </tr>\n",
       "    <tr>\n",
       "      <th>3</th>\n",
       "      <td>3</td>\n",
       "      <td>4</td>\n",
       "      <td>DIPTEROCARP FOREST</td>\n",
       "      <td>FOREST</td>\n",
       "      <td>CONSERVATION</td>\n",
       "      <td>ARTISANAL MINING</td>\n",
       "      <td>AUD</td>\n",
       "      <td>0.010772</td>\n",
       "      <td>Surigao Del Sur</td>\n",
       "      <td>MULTIPOLYGON (((599147.657 993128.575, 599147....</td>\n",
       "      <td>116</td>\n",
       "      <td>v0</td>\n",
       "    </tr>\n",
       "    <tr>\n",
       "      <th>4</th>\n",
       "      <td>4</td>\n",
       "      <td>5</td>\n",
       "      <td>DIPTEROCARP FOREST</td>\n",
       "      <td>FOREST</td>\n",
       "      <td>CONSERVATION</td>\n",
       "      <td>ARTISANAL MINING</td>\n",
       "      <td>AUD</td>\n",
       "      <td>0.033285</td>\n",
       "      <td>Surigao Del Sur</td>\n",
       "      <td>MULTIPOLYGON (((603199.248 993129.817, 603196....</td>\n",
       "      <td>116</td>\n",
       "      <td>v0</td>\n",
       "    </tr>\n",
       "    <tr>\n",
       "      <th>...</th>\n",
       "      <td>...</td>\n",
       "      <td>...</td>\n",
       "      <td>...</td>\n",
       "      <td>...</td>\n",
       "      <td>...</td>\n",
       "      <td>...</td>\n",
       "      <td>...</td>\n",
       "      <td>...</td>\n",
       "      <td>...</td>\n",
       "      <td>...</td>\n",
       "      <td>...</td>\n",
       "      <td>...</td>\n",
       "    </tr>\n",
       "    <tr>\n",
       "      <th>2798</th>\n",
       "      <td>2798</td>\n",
       "      <td>2799</td>\n",
       "      <td>DIPTEROCARP FOREST</td>\n",
       "      <td>FOREST</td>\n",
       "      <td>CONSERVATION</td>\n",
       "      <td>ARTISANAL MINING</td>\n",
       "      <td>NOT ELIGIBLE</td>\n",
       "      <td>0.318219</td>\n",
       "      <td>Surigao Del Sur</td>\n",
       "      <td>MULTIPOLYGON (((618157.319 988560.219, 618156....</td>\n",
       "      <td>116</td>\n",
       "      <td>v0</td>\n",
       "    </tr>\n",
       "    <tr>\n",
       "      <th>2799</th>\n",
       "      <td>2799</td>\n",
       "      <td>2800</td>\n",
       "      <td>DIPTEROCARP FOREST</td>\n",
       "      <td>FOREST</td>\n",
       "      <td>CONSERVATION</td>\n",
       "      <td>ARTISANAL MINING</td>\n",
       "      <td>NOT ELIGIBLE</td>\n",
       "      <td>0.042018</td>\n",
       "      <td>Surigao Del Sur</td>\n",
       "      <td>MULTIPOLYGON (((618443.535 988672.718, 618442....</td>\n",
       "      <td>116</td>\n",
       "      <td>v0</td>\n",
       "    </tr>\n",
       "    <tr>\n",
       "      <th>2800</th>\n",
       "      <td>2800</td>\n",
       "      <td>2801</td>\n",
       "      <td>DIPTEROCARP FOREST</td>\n",
       "      <td>FOREST</td>\n",
       "      <td>CONSERVATION</td>\n",
       "      <td>ARTISANAL MINING</td>\n",
       "      <td>NOT ELIGIBLE</td>\n",
       "      <td>0.206183</td>\n",
       "      <td>Surigao Del Sur</td>\n",
       "      <td>MULTIPOLYGON (((618235.647 988808.415, 618215....</td>\n",
       "      <td>116</td>\n",
       "      <td>v0</td>\n",
       "    </tr>\n",
       "    <tr>\n",
       "      <th>2801</th>\n",
       "      <td>2801</td>\n",
       "      <td>2802</td>\n",
       "      <td>DIPTEROCARP FOREST</td>\n",
       "      <td>FOREST</td>\n",
       "      <td>CONSERVATION</td>\n",
       "      <td>ARTISANAL MINING</td>\n",
       "      <td>NOT ELIGIBLE</td>\n",
       "      <td>0.738461</td>\n",
       "      <td>Surigao Del Sur</td>\n",
       "      <td>MULTIPOLYGON (((618512.758 988901.141, 618512....</td>\n",
       "      <td>116</td>\n",
       "      <td>v0</td>\n",
       "    </tr>\n",
       "    <tr>\n",
       "      <th>2802</th>\n",
       "      <td>2802</td>\n",
       "      <td>2803</td>\n",
       "      <td>DIPTEROCARP FOREST</td>\n",
       "      <td>FOREST</td>\n",
       "      <td>CONSERVATION</td>\n",
       "      <td>ARTISANAL MINING</td>\n",
       "      <td>NOT ELIGIBLE</td>\n",
       "      <td>0.209607</td>\n",
       "      <td>Surigao Del Sur</td>\n",
       "      <td>MULTIPOLYGON (((618363.778 988918.091, 618363....</td>\n",
       "      <td>116</td>\n",
       "      <td>v0</td>\n",
       "    </tr>\n",
       "  </tbody>\n",
       "</table>\n",
       "<p>2803 rows × 12 columns</p>\n",
       "</div>"
      ],
      "text/plain": [
       "      index   fid             LCC_GEN    F_NF          PLAN               BAU  \\\n",
       "0         0     1  DIPTEROCARP FOREST  FOREST  CONSERVATION  ARTISANAL MINING   \n",
       "1         1     2  DIPTEROCARP FOREST  FOREST  CONSERVATION  ARTISANAL MINING   \n",
       "2         2     3  DIPTEROCARP FOREST  FOREST  CONSERVATION  ARTISANAL MINING   \n",
       "3         3     4  DIPTEROCARP FOREST  FOREST  CONSERVATION  ARTISANAL MINING   \n",
       "4         4     5  DIPTEROCARP FOREST  FOREST  CONSERVATION  ARTISANAL MINING   \n",
       "...     ...   ...                 ...     ...           ...               ...   \n",
       "2798   2798  2799  DIPTEROCARP FOREST  FOREST  CONSERVATION  ARTISANAL MINING   \n",
       "2799   2799  2800  DIPTEROCARP FOREST  FOREST  CONSERVATION  ARTISANAL MINING   \n",
       "2800   2800  2801  DIPTEROCARP FOREST  FOREST  CONSERVATION  ARTISANAL MINING   \n",
       "2801   2801  2802  DIPTEROCARP FOREST  FOREST  CONSERVATION  ARTISANAL MINING   \n",
       "2802   2802  2803  DIPTEROCARP FOREST  FOREST  CONSERVATION  ARTISANAL MINING   \n",
       "\n",
       "          ELI_TYPE      AREA         PROVINCE  \\\n",
       "0              AUD  0.471283  Surigao Del Sur   \n",
       "1              AUD  9.145701  Surigao Del Sur   \n",
       "2              AUD  0.325669  Surigao Del Sur   \n",
       "3              AUD  0.010772  Surigao Del Sur   \n",
       "4              AUD  0.033285  Surigao Del Sur   \n",
       "...            ...       ...              ...   \n",
       "2798  NOT ELIGIBLE  0.318219  Surigao Del Sur   \n",
       "2799  NOT ELIGIBLE  0.042018  Surigao Del Sur   \n",
       "2800  NOT ELIGIBLE  0.206183  Surigao Del Sur   \n",
       "2801  NOT ELIGIBLE  0.738461  Surigao Del Sur   \n",
       "2802  NOT ELIGIBLE  0.209607  Surigao Del Sur   \n",
       "\n",
       "                                               geometry cadt_num version  \n",
       "0     MULTIPOLYGON (((593981.461 995571.964, 593980....      116      v0  \n",
       "1     MULTIPOLYGON (((595480.841 984704.305, 595480....      116      v0  \n",
       "2     MULTIPOLYGON (((599979.938 992172.819, 599980....      116      v0  \n",
       "3     MULTIPOLYGON (((599147.657 993128.575, 599147....      116      v0  \n",
       "4     MULTIPOLYGON (((603199.248 993129.817, 603196....      116      v0  \n",
       "...                                                 ...      ...     ...  \n",
       "2798  MULTIPOLYGON (((618157.319 988560.219, 618156....      116      v0  \n",
       "2799  MULTIPOLYGON (((618443.535 988672.718, 618442....      116      v0  \n",
       "2800  MULTIPOLYGON (((618235.647 988808.415, 618215....      116      v0  \n",
       "2801  MULTIPOLYGON (((618512.758 988901.141, 618512....      116      v0  \n",
       "2802  MULTIPOLYGON (((618363.778 988918.091, 618363....      116      v0  \n",
       "\n",
       "[2803 rows x 12 columns]"
      ]
     },
     "execution_count": 70,
     "metadata": {},
     "output_type": "execute_result"
    }
   ],
   "source": [
    "silup_gdf[3]"
   ]
  },
  {
   "cell_type": "code",
   "execution_count": 83,
   "metadata": {},
   "outputs": [
    {
     "ename": "InvalidIndexError",
     "evalue": "Reindexing only valid with uniquely valued Index objects",
     "output_type": "error",
     "traceback": [
      "\u001b[0;31m---------------------------------------------------------------------------\u001b[0m",
      "\u001b[0;31mInvalidIndexError\u001b[0m                         Traceback (most recent call last)",
      "Cell \u001b[0;32mIn[83], line 1\u001b[0m\n\u001b[0;32m----> 1\u001b[0m combined_gdf \u001b[38;5;241m=\u001b[39m \u001b[43mpd\u001b[49m\u001b[38;5;241;43m.\u001b[39;49m\u001b[43mconcat\u001b[49m\u001b[43m(\u001b[49m\u001b[43msilup_gdf\u001b[49m\u001b[43m)\u001b[49m\n",
      "File \u001b[0;32m~/miniconda3/envs/onebase/lib/python3.12/site-packages/pandas/core/reshape/concat.py:395\u001b[0m, in \u001b[0;36mconcat\u001b[0;34m(objs, axis, join, ignore_index, keys, levels, names, verify_integrity, sort, copy)\u001b[0m\n\u001b[1;32m    380\u001b[0m     copy \u001b[38;5;241m=\u001b[39m \u001b[38;5;28;01mFalse\u001b[39;00m\n\u001b[1;32m    382\u001b[0m op \u001b[38;5;241m=\u001b[39m _Concatenator(\n\u001b[1;32m    383\u001b[0m     objs,\n\u001b[1;32m    384\u001b[0m     axis\u001b[38;5;241m=\u001b[39maxis,\n\u001b[0;32m   (...)\u001b[0m\n\u001b[1;32m    392\u001b[0m     sort\u001b[38;5;241m=\u001b[39msort,\n\u001b[1;32m    393\u001b[0m )\n\u001b[0;32m--> 395\u001b[0m \u001b[38;5;28;01mreturn\u001b[39;00m \u001b[43mop\u001b[49m\u001b[38;5;241;43m.\u001b[39;49m\u001b[43mget_result\u001b[49m\u001b[43m(\u001b[49m\u001b[43m)\u001b[49m\n",
      "File \u001b[0;32m~/miniconda3/envs/onebase/lib/python3.12/site-packages/pandas/core/reshape/concat.py:680\u001b[0m, in \u001b[0;36m_Concatenator.get_result\u001b[0;34m(self)\u001b[0m\n\u001b[1;32m    678\u001b[0m         obj_labels \u001b[38;5;241m=\u001b[39m obj\u001b[38;5;241m.\u001b[39maxes[\u001b[38;5;241m1\u001b[39m \u001b[38;5;241m-\u001b[39m ax]\n\u001b[1;32m    679\u001b[0m         \u001b[38;5;28;01mif\u001b[39;00m \u001b[38;5;129;01mnot\u001b[39;00m new_labels\u001b[38;5;241m.\u001b[39mequals(obj_labels):\n\u001b[0;32m--> 680\u001b[0m             indexers[ax] \u001b[38;5;241m=\u001b[39m \u001b[43mobj_labels\u001b[49m\u001b[38;5;241;43m.\u001b[39;49m\u001b[43mget_indexer\u001b[49m\u001b[43m(\u001b[49m\u001b[43mnew_labels\u001b[49m\u001b[43m)\u001b[49m\n\u001b[1;32m    682\u001b[0m     mgrs_indexers\u001b[38;5;241m.\u001b[39mappend((obj\u001b[38;5;241m.\u001b[39m_mgr, indexers))\n\u001b[1;32m    684\u001b[0m new_data \u001b[38;5;241m=\u001b[39m concatenate_managers(\n\u001b[1;32m    685\u001b[0m     mgrs_indexers, \u001b[38;5;28mself\u001b[39m\u001b[38;5;241m.\u001b[39mnew_axes, concat_axis\u001b[38;5;241m=\u001b[39m\u001b[38;5;28mself\u001b[39m\u001b[38;5;241m.\u001b[39mbm_axis, copy\u001b[38;5;241m=\u001b[39m\u001b[38;5;28mself\u001b[39m\u001b[38;5;241m.\u001b[39mcopy\n\u001b[1;32m    686\u001b[0m )\n",
      "File \u001b[0;32m~/miniconda3/envs/onebase/lib/python3.12/site-packages/pandas/core/indexes/base.py:3885\u001b[0m, in \u001b[0;36mIndex.get_indexer\u001b[0;34m(self, target, method, limit, tolerance)\u001b[0m\n\u001b[1;32m   3882\u001b[0m \u001b[38;5;28mself\u001b[39m\u001b[38;5;241m.\u001b[39m_check_indexing_method(method, limit, tolerance)\n\u001b[1;32m   3884\u001b[0m \u001b[38;5;28;01mif\u001b[39;00m \u001b[38;5;129;01mnot\u001b[39;00m \u001b[38;5;28mself\u001b[39m\u001b[38;5;241m.\u001b[39m_index_as_unique:\n\u001b[0;32m-> 3885\u001b[0m     \u001b[38;5;28;01mraise\u001b[39;00m InvalidIndexError(\u001b[38;5;28mself\u001b[39m\u001b[38;5;241m.\u001b[39m_requires_unique_msg)\n\u001b[1;32m   3887\u001b[0m \u001b[38;5;28;01mif\u001b[39;00m \u001b[38;5;28mlen\u001b[39m(target) \u001b[38;5;241m==\u001b[39m \u001b[38;5;241m0\u001b[39m:\n\u001b[1;32m   3888\u001b[0m     \u001b[38;5;28;01mreturn\u001b[39;00m np\u001b[38;5;241m.\u001b[39marray([], dtype\u001b[38;5;241m=\u001b[39mnp\u001b[38;5;241m.\u001b[39mintp)\n",
      "\u001b[0;31mInvalidIndexError\u001b[0m: Reindexing only valid with uniquely valued Index objects"
     ]
    }
   ],
   "source": [
    "combined_gdf = pd.concat(silup_gdf)"
   ]
  },
  {
   "cell_type": "code",
   "execution_count": 54,
   "metadata": {},
   "outputs": [
    {
     "data": {
      "text/plain": [
       "Index(['index', 'fid', 'F_NF', 'LCC_GEN', 'PLAN_2', 'BAU_1', 'ELI_TYPE',\n",
       "       'AREA', 'PROVINCE', 'geometry', 'cadt_num', 'version', 'PLAN_1',\n",
       "       'CADT_No', 'PLAN_0', 'BAU_0', 'CADT_Name', 'BAU_1Fin', 'Area_ha',\n",
       "       'LCC_Gen', 'Shape_Area', 'LCC', 'BAU_0PC', 'BAU_1OLD', 'FOR_NFOR'],\n",
       "      dtype='object')"
      ]
     },
     "execution_count": 54,
     "metadata": {},
     "output_type": "execute_result"
    }
   ],
   "source": [
    "combined_gdf.columns"
   ]
  },
  {
   "cell_type": "code",
   "execution_count": 19,
   "metadata": {},
   "outputs": [
    {
     "name": "stdout",
     "output_type": "stream",
     "text": [
      "153\n"
     ]
    }
   ],
   "source": [
    "filename = file_list[1]\n",
    "number = re.findall(r\"CADT (\\d+)\", filename)[0]\n",
    "print(number)"
   ]
  },
  {
   "cell_type": "code",
   "execution_count": 23,
   "metadata": {},
   "outputs": [
    {
     "name": "stdout",
     "output_type": "stream",
     "text": [
      "The filename contains 'v0'\n"
     ]
    }
   ],
   "source": [
    "if \"v0\" in file_list[2]:\n",
    "    print(\"The filename contains 'v0'\")\n",
    "else:\n",
    "    print(\"The filename does not contain 'v0'\")"
   ]
  },
  {
   "cell_type": "code",
   "execution_count": 10,
   "metadata": {},
   "outputs": [],
   "source": [
    "test = gpd.read_file(SILUP_DIR / \"CADT 002.geojson\")"
   ]
  },
  {
   "cell_type": "code",
   "execution_count": 13,
   "metadata": {},
   "outputs": [
    {
     "name": "stdout",
     "output_type": "stream",
     "text": [
      "<class 'geopandas.geodataframe.GeoDataFrame'>\n",
      "RangeIndex: 1793 entries, 0 to 1792\n",
      "Data columns (total 9 columns):\n",
      " #   Column    Non-Null Count  Dtype   \n",
      "---  ------    --------------  -----   \n",
      " 0   fid       1793 non-null   int64   \n",
      " 1   LCC_GEN   1793 non-null   object  \n",
      " 2   F_NF      1793 non-null   object  \n",
      " 3   ELI_TYPE  1793 non-null   object  \n",
      " 4   BAU_1     1793 non-null   object  \n",
      " 5   PLAN_1    1793 non-null   object  \n",
      " 6   AREA      1793 non-null   float64 \n",
      " 7   PROVINCE  1793 non-null   object  \n",
      " 8   geometry  1793 non-null   geometry\n",
      "dtypes: float64(1), geometry(1), int64(1), object(6)\n",
      "memory usage: 126.2+ KB\n"
     ]
    }
   ],
   "source": [
    "test.info()"
   ]
  },
  {
   "cell_type": "code",
   "execution_count": 36,
   "metadata": {},
   "outputs": [],
   "source": [
    "test2 = gpd.read_file(SILUP_DIR / file_list[3])"
   ]
  },
  {
   "cell_type": "code",
   "execution_count": 37,
   "metadata": {},
   "outputs": [
    {
     "name": "stdout",
     "output_type": "stream",
     "text": [
      "<class 'geopandas.geodataframe.GeoDataFrame'>\n",
      "RangeIndex: 2803 entries, 0 to 2802\n",
      "Data columns (total 9 columns):\n",
      " #   Column    Non-Null Count  Dtype   \n",
      "---  ------    --------------  -----   \n",
      " 0   fid       2803 non-null   int64   \n",
      " 1   LCC_GEN   2803 non-null   object  \n",
      " 2   F_NF      2803 non-null   object  \n",
      " 3   PLAN_1    2803 non-null   object  \n",
      " 4   BAU_1Fin  2803 non-null   object  \n",
      " 5   ELI_TYPE  2803 non-null   object  \n",
      " 6   AREA      2803 non-null   float64 \n",
      " 7   PROVINCE  2803 non-null   object  \n",
      " 8   geometry  2803 non-null   geometry\n",
      "dtypes: float64(1), geometry(1), int64(1), object(6)\n",
      "memory usage: 197.2+ KB\n"
     ]
    }
   ],
   "source": [
    "test2.info()"
   ]
  },
  {
   "cell_type": "code",
   "execution_count": null,
   "metadata": {},
   "outputs": [],
   "source": [
    "test.explore"
   ]
  }
 ],
 "metadata": {
  "kernelspec": {
   "display_name": "onebase",
   "language": "python",
   "name": "python3"
  },
  "language_info": {
   "codemirror_mode": {
    "name": "ipython",
    "version": 3
   },
   "file_extension": ".py",
   "mimetype": "text/x-python",
   "name": "python",
   "nbconvert_exporter": "python",
   "pygments_lexer": "ipython3",
   "version": "3.12.4"
  }
 },
 "nbformat": 4,
 "nbformat_minor": 2
}
